{
 "cells": [
  {
   "cell_type": "markdown",
   "id": "6128e985-49bd-4561-b4a3-8959b4384a8b",
   "metadata": {},
   "source": [
    "# 1.4 &emsp; Simple LCA - Navigating through activities and exchanges"
   ]
  },
  {
   "cell_type": "markdown",
   "id": "acf4de45-e385-406b-bd80-49cbfa65ea27",
   "metadata": {},
   "source": [
    "This tutorial, based on [Massimo's](https://github.com/massimopizzol/B4B/blob/main/02.1_Simple_LCA_selecting_activities_exchanges_revised.py) of course! will show you how to explore your database and swing through the activities and exchanges!"
   ]
  },
  {
   "cell_type": "code",
   "execution_count": 86,
   "id": "f461c2cf-3e23-447f-9cb0-84f2a26e83b5",
   "metadata": {},
   "outputs": [
    {
     "data": {
      "text/plain": [
       "[('1_1_Massimo', 0, 8.21e-05),\n",
       " ('1_2_Massimo', 1, 9.4079e-05),\n",
       " ('1_3_Massimo', 2, 0.000101769),\n",
       " ('1_4_Massimo', 1, 9.4079e-05),\n",
       " ('Tut_1_Activities_Exchanges', 0, 8.1998e-05),\n",
       " ('Tut_1_activities_exchanges', 0, 8.1998e-05),\n",
       " ('Tut_2_Projects', 0, 8.1998e-05),\n",
       " ('Tut_2_the copy', 0, 8.1998e-05),\n",
       " ('Tut_3_Databases', 0, 8.1998e-05),\n",
       " ('default', 0, 8.21e-05)]"
      ]
     },
     "execution_count": 86,
     "metadata": {},
     "output_type": "execute_result"
    }
   ],
   "source": [
    "from brightway2 import *\n",
    "projects.report()"
   ]
  },
  {
   "cell_type": "markdown",
   "id": "f03597e3-e7a6-4d2f-8bd7-f6f345a75705",
   "metadata": {},
   "source": [
    "We will be using the database created in [01_2_Massimo_Tutorial](01_2_Massimo_Tutorial.ipynb), so we are going to copy into a new project. Remember how to do it? Uncomment the following lines to copy if this is the first time you run this code. Otherwise, jump and run to `projects.set_current('1_4_Massimo')`."
   ]
  },
  {
   "cell_type": "code",
   "execution_count": 87,
   "id": "af23abea-f96a-4670-b981-58a38608ce82",
   "metadata": {},
   "outputs": [],
   "source": [
    " # projects.set_current('1_2_Massimo')"
   ]
  },
  {
   "cell_type": "code",
   "execution_count": 88,
   "id": "3e7aeb0c-d742-4b09-b644-b9292c2f80d2",
   "metadata": {},
   "outputs": [],
   "source": [
    " # projects.copy_project('2_1_Massimo') # If you run this more than once, it will throw an error saying that 1_4_Massimo already exists!!"
   ]
  },
  {
   "cell_type": "markdown",
   "id": "d2840c6e-a80f-461c-93cf-65cb5fd4015c",
   "metadata": {},
   "source": [
    "Even though after you copy a project, it sets you in such project, this is a sanity check, because if you run this code more thant once `copy_project` will not work!"
   ]
  },
  {
   "cell_type": "code",
   "execution_count": 89,
   "id": "9abbc200-fa55-49ce-a9af-be03810bb2af",
   "metadata": {},
   "outputs": [],
   "source": [
    "projects.set_current('2_1_Massimo')"
   ]
  },
  {
   "cell_type": "markdown",
   "id": "27b58476-7192-41e1-ac6a-20e5698f7655",
   "metadata": {},
   "source": [
    "Now let's run the LCA basic analysis:"
   ]
  },
  {
   "cell_type": "code",
   "execution_count": 90,
   "id": "bac0ebc7-2a67-4768-8a62-475306d66dea",
   "metadata": {},
   "outputs": [
    {
     "name": "stdout",
     "output_type": "stream",
     "text": [
      "This is the LCA inventory\n",
      "  (0, 1)\t20.0\n",
      "  (0, 0)\t100.0\n",
      "  (1, 1)\t4.0\n",
      "  (1, 0)\t10.000000149011612\n",
      "  (2, 1)\t-100.0\n",
      "This is the LCA characterizedinventory\n",
      "  (0, 0)\t200.0\n",
      "  (0, 1)\t40.0\n",
      "  (1, 0)\t20.000000298023224\n",
      "  (1, 1)\t8.0\n",
      "  (2, 1)\t-200.0\n",
      "This is the environmental score:\n",
      "68.00000029802322\n"
     ]
    }
   ],
   "source": [
    "t_db = Database('testdb')  \n",
    "functional_unit = {t_db.get('Electricity production'): 1000}\n",
    "lca = LCA(functional_unit)\n",
    "lca.lci()\n",
    "\n",
    "myLCIAdata = [[('testdb', 'Carbon dioxide'), 2.0],\n",
    "              [('testdb', 'Sulphur dioxide'), 2.0],\n",
    "              [('testdb', 'Crude oil'), 2.0]]\n",
    "\n",
    "method_key = ('simplemethod', 'imaginaryendpoint', 'imaginarymidpoint') \n",
    "my_method = Method(method_key)\n",
    "my_method.validate(myLCIAdata) # Need to figure out what these do\n",
    "my_method.register()           # Need to figure out what these do\n",
    "my_method.write(myLCIAdata)    # Need to figure out what these do\n",
    "my_method.load()               # Need to figure out what these do\n",
    "\n",
    "lca = LCA(functional_unit, method_key)  # LCA calculations with method\n",
    "lca.lci()\n",
    "lca.lcia()\n",
    "print(\"This is the LCA inventory\")\n",
    "print(lca.inventory)\n",
    "print(\"This is the LCA characterizedinventory\")\n",
    "print(lca.characterized_inventory)\n",
    "print('This is the environmental score:')\n",
    "print(lca.score)"
   ]
  },
  {
   "cell_type": "markdown",
   "id": "07d3faa1-b317-4e00-ad37-ee378de3f0c2",
   "metadata": {},
   "source": [
    "But we already knew these things, didn't we! Let's fish some activities and exchanges:"
   ]
  },
  {
   "cell_type": "markdown",
   "id": "9f57ad4e-5fc8-413d-a5a6-ff48b18f8056",
   "metadata": {},
   "source": [
    "First let's get `Electricity production`"
   ]
  },
  {
   "cell_type": "code",
   "execution_count": 29,
   "id": "a3ebe83c-283c-42b8-a53e-0a40ce8af930",
   "metadata": {},
   "outputs": [
    {
     "name": "stdout",
     "output_type": "stream",
     "text": [
      "'Electricity production' (kWh, None, None)\n"
     ]
    }
   ],
   "source": [
    "el = t_db.get('Electricity production') \n",
    "print(el)"
   ]
  },
  {
   "cell_type": "markdown",
   "id": "556fcbc6-73d7-4cf9-98f0-8d33f4103706",
   "metadata": {},
   "source": [
    "We can check the keys of that activity dictionary:"
   ]
  },
  {
   "cell_type": "code",
   "execution_count": 30,
   "id": "ca8ea19b-fc8f-4372-ad60-bd7d0e5ad6a8",
   "metadata": {},
   "outputs": [
    {
     "name": "stdout",
     "output_type": "stream",
     "text": [
      "name\n",
      "unit\n",
      "database\n",
      "code\n"
     ]
    }
   ],
   "source": [
    "for i in el:  # these the possible keys of an activity dictionary\n",
    "    print(i)"
   ]
  },
  {
   "cell_type": "markdown",
   "id": "bfd05b12-ffb3-405d-9102-b67b3c890165",
   "metadata": {},
   "source": [
    "This is another way that also gives you the values:"
   ]
  },
  {
   "cell_type": "code",
   "execution_count": 37,
   "id": "974db85a-e624-418c-9d10-a7079d2b8b35",
   "metadata": {},
   "outputs": [
    {
     "data": {
      "text/plain": [
       "{'name': 'Electricity production',\n",
       " 'unit': 'kWh',\n",
       " 'database': 'testdb',\n",
       " 'code': 'Electricity production'}"
      ]
     },
     "execution_count": 37,
     "metadata": {},
     "output_type": "execute_result"
    }
   ],
   "source": [
    "el.as_dict() "
   ]
  },
  {
   "cell_type": "markdown",
   "id": "1ddf534f-7269-457c-838b-3aee5140ed75",
   "metadata": {},
   "source": [
    "This option just gives you the values:"
   ]
  },
  {
   "cell_type": "code",
   "execution_count": 45,
   "id": "33b03d14-ce18-4b8e-bfc2-4c1ac30bd13b",
   "metadata": {},
   "outputs": [
    {
     "name": "stdout",
     "output_type": "stream",
     "text": [
      "Electricity production \n",
      " Electricity production \n",
      " kWh \n",
      " testdb\n"
     ]
    }
   ],
   "source": [
    "print(el['name'],'\\n', el['code'],'\\n', el['unit'],'\\n', el['database'])"
   ]
  },
  {
   "cell_type": "markdown",
   "id": "547f60da-ad9c-457d-904b-3f52c8869b9d",
   "metadata": {},
   "source": [
    "The following shows how to extract the exchanges of the activity object. Massimo here is trying to check what works and what doesn't and I find it hilarious."
   ]
  },
  {
   "cell_type": "code",
   "execution_count": 44,
   "id": "aadf8c91-4e56-4ac2-b55e-ec79e4859296",
   "metadata": {},
   "outputs": [
    {
     "data": {
      "text/plain": [
       "[Exchange: 2 kg 'Fuel production' (kg, None, None) to 'Electricity production' (kWh, None, None)>,\n",
       " Exchange: 1 kg 'Carbon dioxide' (kg, None, None) to 'Electricity production' (kWh, None, None)>,\n",
       " Exchange: 0.1 kg 'Sulphur dioxide' (kg, None, None) to 'Electricity production' (kWh, None, None)>,\n",
       " Exchange: 10 kWh 'Electricity production' (kWh, None, None) to 'Electricity production' (kWh, None, None)>]"
      ]
     },
     "execution_count": 44,
     "metadata": {},
     "output_type": "execute_result"
    }
   ],
   "source": [
    "#el['exchanges']  # this does not work.\n",
    "#el.exchanges()  # neither this\n",
    "list(el.exchanges())  # yeps, this one"
   ]
  },
  {
   "cell_type": "markdown",
   "id": "e3a57509-c6ee-4b4e-b43f-0423846be053",
   "metadata": {},
   "source": [
    "Or we can loop through them to visualize all exchanges:"
   ]
  },
  {
   "cell_type": "code",
   "execution_count": 70,
   "id": "bd2cf62f-1191-4882-9f86-dc3c8b2efc9c",
   "metadata": {},
   "outputs": [
    {
     "name": "stdout",
     "output_type": "stream",
     "text": [
      "Exchange: 2 kg 'Fuel production' (kg, None, None) to 'Electricity production' (kWh, None, None)> \n",
      " technosphere \n",
      " Fuel production \n",
      " 'Fuel production' (kg, None, None) \n",
      "\n",
      "Exchange: 1 kg 'Carbon dioxide' (kg, None, None) to 'Electricity production' (kWh, None, None)> \n",
      " biosphere \n",
      " Carbon dioxide \n",
      " 'Carbon dioxide' (kg, None, None) \n",
      "\n",
      "Exchange: 0.1 kg 'Sulphur dioxide' (kg, None, None) to 'Electricity production' (kWh, None, None)> \n",
      " biosphere \n",
      " Sulphur dioxide \n",
      " 'Sulphur dioxide' (kg, None, None) \n",
      "\n",
      "Exchange: 10 kWh 'Electricity production' (kWh, None, None) to 'Electricity production' (kWh, None, None)> \n",
      " production \n",
      " Electricity production \n",
      " 'Electricity production' (kWh, None, None) \n",
      "\n"
     ]
    }
   ],
   "source": [
    "for exc in el.exchanges():  # or this, visualize all exchanges of an activity\n",
    "    print(exc,'\\n', exc['type'], '\\n', exc['input'][1], '\\n', exc.input, '\\n')"
   ]
  },
  {
   "cell_type": "markdown",
   "id": "a6dd406e-365f-4674-93ce-c96b258c55f3",
   "metadata": {},
   "source": [
    "To get the first exchange:"
   ]
  },
  {
   "cell_type": "code",
   "execution_count": 72,
   "id": "55d4969d-453b-4425-80ca-e2336177a576",
   "metadata": {},
   "outputs": [],
   "source": [
    "el_exc = list(el.exchanges())[0]"
   ]
  },
  {
   "cell_type": "markdown",
   "id": "baef5189-0b25-41a4-b97d-05794c3988cb",
   "metadata": {},
   "source": [
    "Let's compare getting three extracting method objects by looking at their `type()`:"
   ]
  },
  {
   "cell_type": "code",
   "execution_count": 74,
   "id": "506d5904-341d-4460-bef1-8238f0dad411",
   "metadata": {},
   "outputs": [
    {
     "name": "stdout",
     "output_type": "stream",
     "text": [
      "<class 'bw2data.backends.peewee.proxies.Activity'>\n",
      "<class 'bw2data.backends.peewee.proxies.Exchanges'>\n",
      "<class 'bw2data.backends.peewee.proxies.Exchange'>\n"
     ]
    }
   ],
   "source": [
    "print(type(el))  # compare the three\n",
    "print(type(el.exchanges()))\n",
    "print(type(el_exc))"
   ]
  },
  {
   "cell_type": "markdown",
   "id": "e037e361-b98e-4414-8df2-2004ea1ea00f",
   "metadata": {},
   "source": [
    "Aha! Our objects go from `Activity` to `Exchanges` (all of them) to `Exchange` (just one!)"
   ]
  },
  {
   "cell_type": "markdown",
   "id": "c2268fea-acdd-4566-bd78-80424b0814a3",
   "metadata": {},
   "source": [
    "Let's look at the things inside our exchange object:"
   ]
  },
  {
   "cell_type": "code",
   "execution_count": 75,
   "id": "17d7ad14-4a30-4a25-b8f2-4d2174b796d4",
   "metadata": {},
   "outputs": [
    {
     "name": "stdout",
     "output_type": "stream",
     "text": [
      "input : ('testdb', 'Fuel production')\n",
      "amount : 2\n",
      "unit : kg\n",
      "type : technosphere\n",
      "output : ('testdb', 'Electricity production')\n"
     ]
    }
   ],
   "source": [
    "for i in el_exc:  # the possible keys of an exchange (DICT iteration)\n",
    "    print(i, ':', el_exc[i])"
   ]
  },
  {
   "cell_type": "markdown",
   "id": "907f6a80-238a-4585-8881-95260d193e91",
   "metadata": {},
   "source": [
    "Interesting! This one has the `output` key, but we never defined an `output` in the original database dicitonary, if something... we called it `input`, how can this be??!! This is because when an exchange is identified as `'type': 'production'`, brightway2 then knows it is an `output`!"
   ]
  },
  {
   "cell_type": "markdown",
   "id": "a5aba30c-0224-4423-a93f-b0e1556d5b5a",
   "metadata": {},
   "source": [
    "Here are some other ways of pulling out exchanges:"
   ]
  },
  {
   "cell_type": "code",
   "execution_count": 76,
   "id": "dd9b5034-a30c-4b4d-b635-6d7cc2cb954c",
   "metadata": {},
   "outputs": [
    {
     "data": {
      "text/plain": [
       "{'input': ('testdb', 'Fuel production'),\n",
       " 'amount': 2,\n",
       " 'unit': 'kg',\n",
       " 'type': 'technosphere',\n",
       " 'output': ('testdb', 'Electricity production')}"
      ]
     },
     "execution_count": 76,
     "metadata": {},
     "output_type": "execute_result"
    }
   ],
   "source": [
    "el_exc.as_dict()"
   ]
  },
  {
   "cell_type": "code",
   "execution_count": 77,
   "id": "ed4403f8-6d42-480c-9587-7c79f5919e96",
   "metadata": {},
   "outputs": [
    {
     "data": {
      "text/plain": [
       "ItemsView(Exchange: 2 kg 'Fuel production' (kg, None, None) to 'Electricity production' (kWh, None, None)>)"
      ]
     },
     "execution_count": 77,
     "metadata": {},
     "output_type": "execute_result"
    }
   ],
   "source": [
    "el_exc.items()"
   ]
  },
  {
   "cell_type": "code",
   "execution_count": 78,
   "id": "9d46bc22-82e6-4653-a92d-d3622979bed4",
   "metadata": {},
   "outputs": [
    {
     "name": "stdout",
     "output_type": "stream",
     "text": [
      "2 kg ('testdb', 'Fuel production') to ('testdb', 'Electricity production') within technosphere\n"
     ]
    }
   ],
   "source": [
    "el_exc.unit == el_exc['unit']  # equivalent ways, different from activities\n",
    "print(el_exc['amount'], el_exc['unit'], el_exc['input'], 'to',\n",
    "      el_exc['output'], 'within', el_exc['type'])"
   ]
  },
  {
   "cell_type": "code",
   "execution_count": 81,
   "id": "d780b00e-bcdd-4df7-a05a-76ba3659ad26",
   "metadata": {},
   "outputs": [
    {
     "data": {
      "text/plain": [
       "'Fuel production' (kg, None, None)"
      ]
     },
     "execution_count": 81,
     "metadata": {},
     "output_type": "execute_result"
    }
   ],
   "source": [
    "el_exc.input  # I guess the intended meaning of 'input' is \"from'"
   ]
  },
  {
   "cell_type": "code",
   "execution_count": 82,
   "id": "31ef9043-22ac-4832-bad2-b65f0225c6ad",
   "metadata": {},
   "outputs": [
    {
     "data": {
      "text/plain": [
       "'Electricity production' (kWh, None, None)"
      ]
     },
     "execution_count": 82,
     "metadata": {},
     "output_type": "execute_result"
    }
   ],
   "source": [
    "el_exc.output  # I guess the indended meaning of 'output' is 'to'"
   ]
  },
  {
   "cell_type": "markdown",
   "id": "13096daf-f99d-4b02-97e6-2d74a0b9f56f",
   "metadata": {},
   "source": [
    "What if I want to get a specific exchange of a specific activity. Without using numeric indexing, but by using its name! Let's see if we can find the value of the CO2 emissions from el."
   ]
  },
  {
   "cell_type": "code",
   "execution_count": 83,
   "id": "32281e7a-5ec5-4cd7-9e1a-632ebe97055c",
   "metadata": {},
   "outputs": [
    {
     "name": "stdout",
     "output_type": "stream",
     "text": [
      "Not this one\n",
      "Exchange: 1 kg 'Carbon dioxide' (kg, None, None) to 'Electricity production' (kWh, None, None)>\n",
      "Not this one\n",
      "Not this one\n"
     ]
    }
   ],
   "source": [
    "for exc in list(el.exchanges()):\n",
    "    if exc['input'] == ('testdb', 'Carbon dioxide'):\n",
    "        print(exc)\n",
    "    else:\n",
    "        print('Not this one')"
   ]
  },
  {
   "cell_type": "markdown",
   "id": "35395ee3-8609-4c36-83e8-da34a337b2db",
   "metadata": {},
   "source": [
    "Good! Now we store the value in a variable"
   ]
  },
  {
   "cell_type": "code",
   "execution_count": 84,
   "id": "9baede31-e080-4ddd-8ace-b1c1aef8e30d",
   "metadata": {},
   "outputs": [
    {
     "name": "stdout",
     "output_type": "stream",
     "text": [
      "1\n"
     ]
    }
   ],
   "source": [
    "for exc in list(el.exchanges()):\n",
    "    if exc['input'] == ('testdb', 'Carbon dioxide'):\n",
    "        elCO2_amount = exc['amount']\n",
    "        \n",
    "print(elCO2_amount)"
   ]
  },
  {
   "cell_type": "markdown",
   "id": "909edbbb-0795-472b-8f07-278aa183e50b",
   "metadata": {},
   "source": [
    "Ta dá!"
   ]
  },
  {
   "cell_type": "code",
   "execution_count": null,
   "id": "b2d20c7c-7beb-4671-86de-17dc4d879465",
   "metadata": {},
   "outputs": [],
   "source": []
  }
 ],
 "metadata": {
  "kernelspec": {
   "display_name": "Python 3 (ipykernel)",
   "language": "python",
   "name": "python3"
  },
  "language_info": {
   "codemirror_mode": {
    "name": "ipython",
    "version": 3
   },
   "file_extension": ".py",
   "mimetype": "text/x-python",
   "name": "python",
   "nbconvert_exporter": "python",
   "pygments_lexer": "ipython3",
   "version": "3.10.5"
  }
 },
 "nbformat": 4,
 "nbformat_minor": 5
}

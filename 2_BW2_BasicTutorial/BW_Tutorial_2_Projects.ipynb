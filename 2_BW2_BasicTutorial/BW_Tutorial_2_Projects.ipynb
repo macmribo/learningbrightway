{
 "cells": [
  {
   "cell_type": "markdown",
   "id": "adc8b8a2-4c41-47da-829a-7533cf14b28f",
   "metadata": {},
   "source": [
    "# 2. Projects"
   ]
  },
  {
   "cell_type": "markdown",
   "id": "5d7a4a82-4568-4086-a59f-f23256943d9a",
   "metadata": {},
   "source": [
    "A project is a separate workspace with its own data and preferences. Project management is done through the `projects` object. This tutorial is a copy of the oficial [tutorial](https://github.com/brightway-lca/brightway2/blob/master/notebooks/Projects.ipynb) with some additional information for a more comprehensive learning experience."
   ]
  },
  {
   "cell_type": "markdown",
   "id": "2ae014ff-626f-4736-bfbb-6ea178ba880f",
   "metadata": {},
   "source": [
    "Methods used throughout this tutorial:\n",
    "\n",
    "* `list(projects)`: Returns a list. Here it is used to return the amount of projects in the brightway2 folder.\n",
    "\n",
    "* `projects.set_current('project_name')`: Goes to the project and creates a new project if tht name does not exist.\n",
    "\n",
    "* `list(databases`: Lists the databases in that project.\n",
    "\n",
    "* `bw2setup()`: Creates a default biosphere.\n",
    "\n",
    "* `projects.dir`: Shows the location of the current project.\n",
    "\n",
    "* `projects.request_directory('sub_directory')`: Creates a sub directory inside the project folder.\n",
    "\n",
    "* `projects.copy_project('copy_name')`: Copies the current project and automatically activates the copied project.\n",
    "\n",
    "* `projects.current`: Shows the active project.\n"
   ]
  },
  {
   "cell_type": "code",
   "execution_count": 1,
   "id": "3521a19a-1e79-453e-bfdf-c088aba3c1a6",
   "metadata": {},
   "outputs": [],
   "source": [
    "from brightway2 import *"
   ]
  },
  {
   "cell_type": "markdown",
   "id": "6cd82f1d-6c17-4dc0-b159-f76d0e32b9a2",
   "metadata": {},
   "source": [
    "List existing projects:"
   ]
  },
  {
   "cell_type": "code",
   "execution_count": 2,
   "id": "490cc578-5c6a-4688-b955-20fa37c01684",
   "metadata": {},
   "outputs": [
    {
     "data": {
      "text/plain": [
       "[Project: default,\n",
       " Project: activities_exchanges,\n",
       " Project: tut_2,\n",
       " Project: Tut_1_activities_exchanges,\n",
       " Project: Tut_3_Databases,\n",
       " Project: Tut_1_Activities_Exchanges,\n",
       " Project: Tut_2_Projects,\n",
       " Project: Tut_2_the copy,\n",
       " Project: My_demo_project]"
      ]
     },
     "execution_count": 2,
     "metadata": {},
     "output_type": "execute_result"
    }
   ],
   "source": [
    "list(projects)"
   ]
  },
  {
   "cell_type": "markdown",
   "id": "5d8e5316-cebd-4ab5-b9e6-76a4ae56f0fd",
   "metadata": {},
   "source": [
    "Switching projects is the same as adding a project, if the project does not exist it will be created."
   ]
  },
  {
   "cell_type": "code",
   "execution_count": 3,
   "id": "a548ef87",
   "metadata": {},
   "outputs": [
    {
     "data": {
      "text/plain": [
       "[Project: default,\n",
       " Project: activities_exchanges,\n",
       " Project: tut_2,\n",
       " Project: Tut_1_activities_exchanges,\n",
       " Project: Tut_3_Databases,\n",
       " Project: Tut_1_Activities_Exchanges,\n",
       " Project: Tut_2_Projects,\n",
       " Project: Tut_2_the copy,\n",
       " Project: My_demo_project]"
      ]
     },
     "execution_count": 3,
     "metadata": {},
     "output_type": "execute_result"
    }
   ],
   "source": [
    "projects.set_current('Tut_2_Projects')\n",
    "list(projects)"
   ]
  },
  {
   "cell_type": "markdown",
   "id": "e2be84d6",
   "metadata": {},
   "source": [
    "New projects start empty, it is possible to add a default biosphere and impact assessment methods:"
   ]
  },
  {
   "cell_type": "code",
   "execution_count": 4,
   "id": "241cbadc",
   "metadata": {},
   "outputs": [
    {
     "data": {
      "text/plain": [
       "['biosphere3']"
      ]
     },
     "execution_count": 4,
     "metadata": {},
     "output_type": "execute_result"
    }
   ],
   "source": [
    "list(databases)"
   ]
  },
  {
   "cell_type": "code",
   "execution_count": 5,
   "id": "45f0c749",
   "metadata": {},
   "outputs": [
    {
     "name": "stdout",
     "output_type": "stream",
     "text": [
      "Biosphere database already present!!! No setup is needed\n"
     ]
    }
   ],
   "source": [
    "bw2setup()"
   ]
  },
  {
   "cell_type": "code",
   "execution_count": 6,
   "id": "4c5de3b6",
   "metadata": {},
   "outputs": [
    {
     "data": {
      "text/plain": [
       "['biosphere3']"
      ]
     },
     "execution_count": 6,
     "metadata": {},
     "output_type": "execute_result"
    }
   ],
   "source": [
    "list(databases)"
   ]
  },
  {
   "cell_type": "markdown",
   "id": "242d02a0",
   "metadata": {},
   "source": [
    "Each project is a directory:"
   ]
  },
  {
   "cell_type": "code",
   "execution_count": 7,
   "id": "7a7e2028",
   "metadata": {},
   "outputs": [
    {
     "data": {
      "text/plain": [
       "'/Users/mmendez/Library/Application Support/Brightway3/Tut_2_Projects.3684083425a251701dd84f4b6af830ed'"
      ]
     },
     "execution_count": 7,
     "metadata": {},
     "output_type": "execute_result"
    }
   ],
   "source": [
    "projects.dir"
   ]
  },
  {
   "cell_type": "markdown",
   "id": "55f854dd",
   "metadata": {},
   "source": [
    "We can add subdirectories to the project if needed (e.g. for custom data):"
   ]
  },
  {
   "cell_type": "code",
   "execution_count": 8,
   "id": "d0cc8925",
   "metadata": {},
   "outputs": [
    {
     "data": {
      "text/plain": [
       "'/Users/mmendez/Library/Application Support/Brightway3/Tut_2_Projects.3684083425a251701dd84f4b6af830ed/Tut_2_sub_directory'"
      ]
     },
     "execution_count": 8,
     "metadata": {},
     "output_type": "execute_result"
    }
   ],
   "source": [
    "projects.request_directory(\"Tut_2_sub_directory\")"
   ]
  },
  {
   "cell_type": "markdown",
   "id": "ad367ad8",
   "metadata": {},
   "source": [
    "Finally, you can copy projects. A copy is made on the current project, so make sure to switch to the project you want to copy first and it automatically switches projects to the copied one!"
   ]
  },
  {
   "cell_type": "code",
   "execution_count": 10,
   "id": "6b77add9",
   "metadata": {},
   "outputs": [
    {
     "ename": "ValueError",
     "evalue": "Project Tut_2_the copy already exists",
     "output_type": "error",
     "traceback": [
      "\u001b[0;31m---------------------------------------------------------------------------\u001b[0m",
      "\u001b[0;31mValueError\u001b[0m                                Traceback (most recent call last)",
      "Input \u001b[0;32mIn [10]\u001b[0m, in \u001b[0;36m<cell line: 1>\u001b[0;34m()\u001b[0m\n\u001b[0;32m----> 1\u001b[0m \u001b[43mprojects\u001b[49m\u001b[38;5;241;43m.\u001b[39;49m\u001b[43mcopy_project\u001b[49m\u001b[43m(\u001b[49m\u001b[38;5;124;43m\"\u001b[39;49m\u001b[38;5;124;43mTut_2_the copy\u001b[39;49m\u001b[38;5;124;43m\"\u001b[39;49m\u001b[43m)\u001b[49m\n",
      "File \u001b[0;32m~/opt/miniconda3/envs/bw_rosetta/lib/python3.9/site-packages/bw2data/project.py:226\u001b[0m, in \u001b[0;36mProjectManager.copy_project\u001b[0;34m(self, new_name, switch)\u001b[0m\n\u001b[1;32m    224\u001b[0m \u001b[38;5;124;03m\"\"\"Copy current project to a new project named ``new_name``. If ``switch``, switch to new project.\"\"\"\u001b[39;00m\n\u001b[1;32m    225\u001b[0m \u001b[38;5;28;01mif\u001b[39;00m new_name \u001b[38;5;129;01min\u001b[39;00m \u001b[38;5;28mself\u001b[39m:\n\u001b[0;32m--> 226\u001b[0m     \u001b[38;5;28;01mraise\u001b[39;00m \u001b[38;5;167;01mValueError\u001b[39;00m(\u001b[38;5;124m\"\u001b[39m\u001b[38;5;124mProject \u001b[39m\u001b[38;5;132;01m{}\u001b[39;00m\u001b[38;5;124m already exists\u001b[39m\u001b[38;5;124m\"\u001b[39m\u001b[38;5;241m.\u001b[39mformat(new_name))\n\u001b[1;32m    227\u001b[0m fp \u001b[38;5;241m=\u001b[39m os\u001b[38;5;241m.\u001b[39mpath\u001b[38;5;241m.\u001b[39mjoin(\u001b[38;5;28mself\u001b[39m\u001b[38;5;241m.\u001b[39m_base_data_dir, safe_filename(new_name))\n\u001b[1;32m    228\u001b[0m \u001b[38;5;28;01mif\u001b[39;00m os\u001b[38;5;241m.\u001b[39mpath\u001b[38;5;241m.\u001b[39mexists(fp):\n",
      "\u001b[0;31mValueError\u001b[0m: Project Tut_2_the copy already exists"
     ]
    }
   ],
   "source": [
    "projects.copy_project(\"Tut_2_the copy\")"
   ]
  },
  {
   "cell_type": "code",
   "execution_count": null,
   "id": "77250566",
   "metadata": {},
   "outputs": [],
   "source": [
    "projects.current"
   ]
  },
  {
   "cell_type": "code",
   "execution_count": 11,
   "id": "3e68e378",
   "metadata": {},
   "outputs": [
    {
     "data": {
      "text/plain": [
       "[Project: default,\n",
       " Project: activities_exchanges,\n",
       " Project: tut_2,\n",
       " Project: my copy,\n",
       " Project: the copy,\n",
       " Project: Tut_1_activities_exchanges,\n",
       " Project: Tut_3_Databases,\n",
       " Project: Tut_1_Activities_Exchanges,\n",
       " Project: Tut_2_Projects,\n",
       " Project: Tut_2_the copy]"
      ]
     },
     "execution_count": 11,
     "metadata": {},
     "output_type": "execute_result"
    }
   ],
   "source": [
    "list(projects)"
   ]
  },
  {
   "cell_type": "code",
   "execution_count": null,
   "id": "ab7879c8",
   "metadata": {},
   "outputs": [],
   "source": []
  },
  {
   "cell_type": "code",
   "execution_count": null,
   "id": "1a6bd6e6-175f-4030-b4dd-7b670c4feb99",
   "metadata": {},
   "outputs": [],
   "source": []
  },
  {
   "cell_type": "code",
   "execution_count": null,
   "id": "a1f1a823-e231-4299-8c3f-4c0d2a541f1b",
   "metadata": {},
   "outputs": [],
   "source": []
  }
 ],
 "metadata": {
  "kernelspec": {
   "display_name": "Python 3 (ipykernel)",
   "language": "python",
   "name": "python3"
  },
  "language_info": {
   "codemirror_mode": {
    "name": "ipython",
    "version": 3
   },
   "file_extension": ".py",
   "mimetype": "text/x-python",
   "name": "python",
   "nbconvert_exporter": "python",
   "pygments_lexer": "ipython3",
   "version": "3.9.12"
  },
  "vscode": {
   "interpreter": {
    "hash": "1ba9302c2886eae5541b0b1058909e0dde920c638199a8170626dd87b606057d"
   }
  }
 },
 "nbformat": 4,
 "nbformat_minor": 5
}

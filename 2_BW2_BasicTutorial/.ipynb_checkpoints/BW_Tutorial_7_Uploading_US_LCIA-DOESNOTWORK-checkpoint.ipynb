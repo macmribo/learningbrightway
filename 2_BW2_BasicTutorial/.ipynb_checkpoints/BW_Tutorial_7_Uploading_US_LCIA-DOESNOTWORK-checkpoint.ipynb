{
 "cells": [
  {
   "cell_type": "markdown",
   "id": "62bdd7e5-c953-4800-af71-66e6ee5898a9",
   "metadata": {},
   "source": [
    "# 7. Uploading US LCI - Not working (Yet)"
   ]
  },
  {
   "cell_type": "markdown",
   "id": "3d599987-04fb-4212-b919-4c3345d23c2d",
   "metadata": {},
   "source": [
    "As the title of this notebook states, this notebook will go step by step to upload US LCIto a project."
   ]
  },
  {
   "cell_type": "markdown",
   "id": "a84147a2-8375-4430-b1b5-7681d393f1ba",
   "metadata": {},
   "source": [
    "### Setting up the project"
   ]
  },
  {
   "cell_type": "code",
   "execution_count": 1,
   "id": "12156164-05b9-4fea-8567-599987d4abd1",
   "metadata": {},
   "outputs": [],
   "source": [
    "from brightway2 import *"
   ]
  },
  {
   "cell_type": "code",
   "execution_count": 2,
   "id": "187c2bb7-89d8-4336-8740-46f708ddb0db",
   "metadata": {},
   "outputs": [],
   "source": [
    "projects.set_current('Tut_7_Uploading_US_LCI')"
   ]
  },
  {
   "cell_type": "markdown",
   "id": "f4f61916-2a28-42c2-aa09-a032996daa5c",
   "metadata": {},
   "source": [
    "Let's load a biosphere:"
   ]
  },
  {
   "cell_type": "code",
   "execution_count": 3,
   "id": "9f5b6d38-fdd1-4061-ab49-b5eb4c8759e1",
   "metadata": {},
   "outputs": [
    {
     "name": "stdout",
     "output_type": "stream",
     "text": [
      "Biosphere database already present!!! No setup is needed\n"
     ]
    }
   ],
   "source": [
    "bw2setup()"
   ]
  },
  {
   "cell_type": "markdown",
   "id": "b6e5292c-233f-4226-8338-ed09caca54cc",
   "metadata": {},
   "source": [
    "US LCI dataset downloaded from [here](https://github.com/uslci-admin/uslci-content/blob/dev/docs/release_info/release-downloads.md) in Table 1.\n",
    "<div class=\"alert alert-danger\" role=\"alert\">\n",
    "  <i class=\"fa fa-exclamation-triangle\" aria-hidden=\"true\"></i>\n",
    "According to the official Github US LCA page, ecospold format only contains processes, however, I do not know how updated this statement is. I will see how it affects results.\n",
    "</div>"
   ]
  },
  {
   "cell_type": "markdown",
   "id": "0e4fb436-4f46-4d64-81e6-3453ab1f0e7c",
   "metadata": {},
   "source": [
    "I hadproblems uploading the right data type. Those files finishing in `.spold` seem to be accepted by `SingleOutputEcospold2Importer`. However, the code breaks after running `.apply_strategies()`. \n",
    "\n",
    "I tried every single ecospold and ecospold2 file in the repository and the most promising one is [FY20.Q3.02 Olca 1.10.3](https://github.com/uslci-admin/uslci-content/blob/dev/downloads/uslci_fy20_q3_02_olca1_10_3_ecospold.zip). It has 1897 datasets, let's see if it works."
   ]
  },
  {
   "cell_type": "code",
   "execution_count": 4,
   "id": "a7bf13d8-5d8f-4084-a55b-480f60a06124",
   "metadata": {},
   "outputs": [
    {
     "name": "stdout",
     "output_type": "stream",
     "text": [
      "Extracting XML data from 1 datasets\n",
      "Extracted 633 datasets in 2.01 seconds\n"
     ]
    }
   ],
   "source": [
    "sp = SingleOutputEcospold1Importer(\n",
    "    \"/Users/mmendez/Documents/Postdoc/Software_dev/databases/US LCI/uslci_fy20_q3_02_olca1_10_3_ecospold/EcoSpold01\", \n",
    "    \"NREL-USLCI\"\n",
    ")"
   ]
  },
  {
   "cell_type": "markdown",
   "id": "8007d94f-c2ab-4289-b696-1c902f319969",
   "metadata": {},
   "source": [
    "[Chris Mutel's tutorial](https://github.com/brightway-lca/brightway2/blob/master/notebooks/IO%20-%20Importing%20the%20US%20LCI%20database.ipynb) has 702 datasets. He does not specify which file he is using. "
   ]
  },
  {
   "cell_type": "code",
   "execution_count": 5,
   "id": "9254b126-98b5-4153-b680-c1f2c8113b96",
   "metadata": {},
   "outputs": [
    {
     "name": "stdout",
     "output_type": "stream",
     "text": [
      "Applying strategy: normalize_units\n",
      "Applying strategy: assign_only_product_as_production\n",
      "Applying strategy: clean_integer_codes\n",
      "Applying strategy: drop_unspecified_subcategories\n",
      "Applying strategy: normalize_biosphere_categories\n",
      "Applying strategy: normalize_biosphere_names\n",
      "Applying strategy: strip_biosphere_exc_locations\n",
      "Applying strategy: update_ecoinvent_locations\n",
      "Applying strategy: set_code_by_activity_hash\n",
      "Applying strategy: link_iterable_by_fields\n",
      "Applying strategy: link_technosphere_by_activity_hash\n",
      "Couldn't apply strategy link_technosphere_by_activity_hash:\n",
      "\tObject in source database can't be uniquely linked to target database.\n",
      "Problematic dataset is:\n",
      "{'categories': ('22: Utilities',\n",
      "                '2211: Electric Power Generation, Transmission and '\n",
      "                'Distribution'),\n",
      " 'filename': '(missing)',\n",
      " 'location': 'RNA',\n",
      " 'name': 'Electricity, at grid',\n",
      " 'unit': 'megajoule'}\n",
      "Possible targets include (at least one not shown):\n",
      "[{'categories': ['22: Utilities',\n",
      "                 '2211: Electric Power Generation, Transmission and '\n",
      "                 'Distribution'],\n",
      "  'filename': '/Users/mmendez/Documents/Postdoc/Software_dev/databases/US '\n",
      "              'LCI/uslci_fy20_q3_02_olca1_10_3_ecospold/EcoSpold01/EcoSpold_633_processes_2020-10-29T03-27-30.xml',\n",
      "  'location': 'RNA',\n",
      "  'name': 'Electricity, at grid',\n",
      "  'unit': 'megajoule'},\n",
      " {'categories': ['22: Utilities',\n",
      "                 '2211: Electric Power Generation, Transmission and '\n",
      "                 'Distribution'],\n",
      "  'filename': '/Users/mmendez/Documents/Postdoc/Software_dev/databases/US '\n",
      "              'LCI/uslci_fy20_q3_02_olca1_10_3_ecospold/EcoSpold01/EcoSpold_633_processes_2020-10-29T03-27-30.xml',\n",
      "  'location': 'RNA',\n",
      "  'name': 'Electricity, at grid',\n",
      "  'unit': 'megajoule'},\n",
      " {'categories': ['22: Utilities',\n",
      "                 '2211: Electric Power Generation, Transmission and '\n",
      "                 'Distribution'],\n",
      "  'filename': '/Users/mmendez/Documents/Postdoc/Software_dev/databases/US '\n",
      "              'LCI/uslci_fy20_q3_02_olca1_10_3_ecospold/EcoSpold01/EcoSpold_633_processes_2020-10-29T03-27-30.xml',\n",
      "  'location': 'RNA',\n",
      "  'name': 'Electricity, at grid',\n",
      "  'unit': 'megajoule'},\n",
      " {'categories': ['22: Utilities',\n",
      "                 '2211: Electric Power Generation, Transmission and '\n",
      "                 'Distribution'],\n",
      "  'filename': '/Users/mmendez/Documents/Postdoc/Software_dev/databases/US '\n",
      "              'LCI/uslci_fy20_q3_02_olca1_10_3_ecospold/EcoSpold01/EcoSpold_633_processes_2020-10-29T03-27-30.xml',\n",
      "  'location': 'RNA',\n",
      "  'name': 'Electricity, at grid',\n",
      "  'unit': 'megajoule'}]\n",
      "Applied 11 strategies in 13.28 seconds\n"
     ]
    }
   ],
   "source": [
    "sp.apply_strategies()"
   ]
  },
  {
   "cell_type": "markdown",
   "id": "0c7baa3d-db40-435f-948b-21c98f557f85",
   "metadata": {},
   "source": [
    "OK, our first error. There are two process datasets that have the same process name - in this case, it looks like one was a first draft, and the other is the final dataset. One file is called `EcoSpold_631_processes_2020-09-20T05-43-42.xml`, and the other is called `EcoSpold_633_processes_2020-10-28T06-01-13.xml`. They are basically the same and there are three of them (note the one with the `'(missing)'` filename, so we will ignore them."
   ]
  },
  {
   "cell_type": "code",
   "execution_count": 6,
   "id": "d89eb3d6-5843-4db2-ab8f-ac56f7335fae",
   "metadata": {},
   "outputs": [],
   "source": [
    "ecospoldfiles = ('/Users/mmendez/Documents/Postdoc/Software_dev/databases/US '\n",
    "              'LCI/uslci_fy20_q3_02_olca1_10_3_ecospold/EcoSpold01') # Here is where the files are saved, this is just for me to make the link smaller later\n",
    "\n",
    "bad_file = (ecospoldfiles+'/coSpold_633_processes_2020-10-29T03-27-30.xml')\n",
    "sp.data = [obj for obj in sp.data if obj.get('filename') != bad_file]"
   ]
  },
  {
   "cell_type": "code",
   "execution_count": null,
   "id": "68e47df9-b965-40c6-9f8b-d1cd1030ac82",
   "metadata": {},
   "outputs": [],
   "source": []
  },
  {
   "cell_type": "code",
   "execution_count": 7,
   "id": "fa56562a-c64d-47e6-8632-bc102e63976c",
   "metadata": {},
   "outputs": [
    {
     "name": "stdout",
     "output_type": "stream",
     "text": [
      "Applying strategy: link_iterable_by_fields\n",
      "Applying strategy: link_technosphere_by_activity_hash\n",
      "Couldn't apply strategy link_technosphere_by_activity_hash:\n",
      "\tObject in source database can't be uniquely linked to target database.\n",
      "Problematic dataset is:\n",
      "{'categories': ('22: Utilities',\n",
      "                '2211: Electric Power Generation, Transmission and '\n",
      "                'Distribution'),\n",
      " 'filename': '(missing)',\n",
      " 'location': 'RNA',\n",
      " 'name': 'Electricity, at grid',\n",
      " 'unit': 'megajoule'}\n",
      "Possible targets include (at least one not shown):\n",
      "[{'categories': ['22: Utilities',\n",
      "                 '2211: Electric Power Generation, Transmission and '\n",
      "                 'Distribution'],\n",
      "  'filename': '/Users/mmendez/Documents/Postdoc/Software_dev/databases/US '\n",
      "              'LCI/uslci_fy20_q3_02_olca1_10_3_ecospold/EcoSpold01/EcoSpold_633_processes_2020-10-29T03-27-30.xml',\n",
      "  'location': 'RNA',\n",
      "  'name': 'Electricity, at grid',\n",
      "  'unit': 'megajoule'},\n",
      " {'categories': ['22: Utilities',\n",
      "                 '2211: Electric Power Generation, Transmission and '\n",
      "                 'Distribution'],\n",
      "  'filename': '/Users/mmendez/Documents/Postdoc/Software_dev/databases/US '\n",
      "              'LCI/uslci_fy20_q3_02_olca1_10_3_ecospold/EcoSpold01/EcoSpold_633_processes_2020-10-29T03-27-30.xml',\n",
      "  'location': 'RNA',\n",
      "  'name': 'Electricity, at grid',\n",
      "  'unit': 'megajoule'},\n",
      " {'categories': ['22: Utilities',\n",
      "                 '2211: Electric Power Generation, Transmission and '\n",
      "                 'Distribution'],\n",
      "  'filename': '/Users/mmendez/Documents/Postdoc/Software_dev/databases/US '\n",
      "              'LCI/uslci_fy20_q3_02_olca1_10_3_ecospold/EcoSpold01/EcoSpold_633_processes_2020-10-29T03-27-30.xml',\n",
      "  'location': 'RNA',\n",
      "  'name': 'Electricity, at grid',\n",
      "  'unit': 'megajoule'},\n",
      " {'categories': ['22: Utilities',\n",
      "                 '2211: Electric Power Generation, Transmission and '\n",
      "                 'Distribution'],\n",
      "  'filename': '/Users/mmendez/Documents/Postdoc/Software_dev/databases/US '\n",
      "              'LCI/uslci_fy20_q3_02_olca1_10_3_ecospold/EcoSpold01/EcoSpold_633_processes_2020-10-29T03-27-30.xml',\n",
      "  'location': 'RNA',\n",
      "  'name': 'Electricity, at grid',\n",
      "  'unit': 'megajoule'}]\n",
      "Applied 2 strategies in 12.89 seconds\n"
     ]
    }
   ],
   "source": [
    "sp.apply_strategies(sp.strategies[-2:])"
   ]
  },
  {
   "cell_type": "markdown",
   "id": "7998f1bb-415a-4eb3-a623-779b1e5e92f7",
   "metadata": {},
   "source": [
    "It threw me an error again, let's see what happens if I continue."
   ]
  },
  {
   "cell_type": "markdown",
   "id": "e96ecb72-8f53-4560-9d01-d65f7b9c7cd1",
   "metadata": {},
   "source": [
    "The US LCI has \"dummy\" processes - links to activities which are real inputs, but which aren't modeled in the database. We need to add these dummy processes as real activities (even if they don't have any inputs themselves)."
   ]
  },
  {
   "cell_type": "code",
   "execution_count": 8,
   "id": "d89abbf6-4ef2-487c-afa7-311fc18c65fa",
   "metadata": {},
   "outputs": [],
   "source": [
    "from bw2io.strategies import *"
   ]
  },
  {
   "cell_type": "code",
   "execution_count": 9,
   "id": "dae5f330-6af2-454e-8df0-37672886332c",
   "metadata": {},
   "outputs": [
    {
     "name": "stdout",
     "output_type": "stream",
     "text": [
      "Applying strategy: add_dummy_processes_and_rename_exchanges\n"
     ]
    }
   ],
   "source": [
    "sp.apply_strategy(special.add_dummy_processes_and_rename_exchanges)"
   ]
  },
  {
   "cell_type": "markdown",
   "id": "2650a33c-844f-4a4d-a361-df89857f07be",
   "metadata": {},
   "source": [
    "Let's see how things look. In an ideal dataset, everything would already be linked, but we know that this is not yet true for the US LCI."
   ]
  },
  {
   "cell_type": "code",
   "execution_count": 10,
   "id": "584ff356-2656-4342-96d0-bdac34b5751a",
   "metadata": {},
   "outputs": [
    {
     "name": "stdout",
     "output_type": "stream",
     "text": [
      "633 datasets\n",
      "37513 exchanges\n",
      "37505 unlinked exchanges\n",
      "  Type biosphere: 2553 unique unlinked exchanges\n",
      "  Type production: 574 unique unlinked exchanges\n",
      "  Type technosphere: 1042 unique unlinked exchanges\n"
     ]
    },
    {
     "data": {
      "text/plain": [
       "(633, 37513, 37505)"
      ]
     },
     "execution_count": 10,
     "metadata": {},
     "output_type": "execute_result"
    }
   ],
   "source": [
    "sp.statistics()"
   ]
  },
  {
   "cell_type": "markdown",
   "id": "7af85482-3da6-43f9-838e-038ff30b5e5d",
   "metadata": {},
   "source": [
    "We are now ready to start internally linking the database.\n",
    "\n",
    "First, we migrate some names for biosphere flows."
   ]
  },
  {
   "cell_type": "code",
   "execution_count": 11,
   "id": "0c86b292-35d7-4dea-a86c-db2c54b36f76",
   "metadata": {},
   "outputs": [
    {
     "name": "stdout",
     "output_type": "stream",
     "text": [
      "Applying strategy: migrate_datasets\n",
      "Applying strategy: migrate_exchanges\n",
      "Applying strategy: migrate_datasets\n",
      "Applying strategy: migrate_exchanges\n",
      "Applying strategy: migrate_datasets\n",
      "Applying strategy: migrate_exchanges\n"
     ]
    }
   ],
   "source": [
    "sp.migrate(\"biosphere-2-3-names\")\n",
    "sp.migrate(\"biosphere-2-3-categories\")\n",
    "sp.migrate('default-units')"
   ]
  },
  {
   "cell_type": "markdown",
   "id": "0d4ef989-8e2a-43b5-b496-30f4c5679245",
   "metadata": {},
   "source": [
    "Then, we try to internally link the database. We call the match_database method with two arguments. The first is `None`, i.e. we are not linking against another database, but only doing internal linking. Because the US LCI doesn't use categories in exchange definitions consistently, we also `ignore_categories`."
   ]
  },
  {
   "cell_type": "code",
   "execution_count": 12,
   "id": "99782efc-a3c8-4aa3-8f9b-4ecb82ebf76d",
   "metadata": {},
   "outputs": [
    {
     "name": "stdout",
     "output_type": "stream",
     "text": [
      "Applying strategy: link_iterable_by_fields\n",
      "Couldn't apply strategy link_iterable_by_fields:\n",
      "\tObject in source database can't be uniquely linked to target database.\n",
      "Problematic dataset is:\n",
      "{'filename': '(missing)',\n",
      " 'location': 'RNA',\n",
      " 'name': 'Electricity, at grid',\n",
      " 'unit': 'megajoule'}\n",
      "Possible targets include (at least one not shown):\n",
      "[{'filename': '/Users/mmendez/Documents/Postdoc/Software_dev/databases/US '\n",
      "              'LCI/uslci_fy20_q3_02_olca1_10_3_ecospold/EcoSpold01/EcoSpold_633_processes_2020-10-29T03-27-30.xml',\n",
      "  'location': 'RNA',\n",
      "  'name': 'Electricity, at grid',\n",
      "  'unit': 'megajoule'},\n",
      " {'filename': '/Users/mmendez/Documents/Postdoc/Software_dev/databases/US '\n",
      "              'LCI/uslci_fy20_q3_02_olca1_10_3_ecospold/EcoSpold01/EcoSpold_633_processes_2020-10-29T03-27-30.xml',\n",
      "  'location': 'RNA',\n",
      "  'name': 'Electricity, at grid',\n",
      "  'unit': 'megajoule'},\n",
      " {'filename': '/Users/mmendez/Documents/Postdoc/Software_dev/databases/US '\n",
      "              'LCI/uslci_fy20_q3_02_olca1_10_3_ecospold/EcoSpold01/EcoSpold_633_processes_2020-10-29T03-27-30.xml',\n",
      "  'location': 'RNA',\n",
      "  'name': 'Electricity, at grid',\n",
      "  'unit': 'megajoule'},\n",
      " {'filename': '/Users/mmendez/Documents/Postdoc/Software_dev/databases/US '\n",
      "              'LCI/uslci_fy20_q3_02_olca1_10_3_ecospold/EcoSpold01/EcoSpold_633_processes_2020-10-29T03-27-30.xml',\n",
      "  'location': 'RNA',\n",
      "  'name': 'Electricity, at grid',\n",
      "  'unit': 'megajoule'}]\n"
     ]
    }
   ],
   "source": [
    "sp.match_database(None, ignore_categories=True)"
   ]
  },
  {
   "cell_type": "markdown",
   "id": "69372872-bed7-4376-830a-64695a7b07b4",
   "metadata": {},
   "source": [
    "Similar error as before, let's ignore the older files."
   ]
  },
  {
   "cell_type": "code",
   "execution_count": 13,
   "id": "8ad24fa5-4ea3-4648-ac0c-fd31967e2825",
   "metadata": {},
   "outputs": [],
   "source": [
    "bad_file = (ecospoldfiles+'/EcoSpold_633_processes_2020-10-29T03-27-30.xml')\n",
    "sp.data = [obj for obj in sp.data if obj.get('filename') != bad_file]"
   ]
  },
  {
   "cell_type": "code",
   "execution_count": 14,
   "id": "846b72bb-aac7-4c4b-8216-3d8d0d9cf4a2",
   "metadata": {},
   "outputs": [
    {
     "name": "stdout",
     "output_type": "stream",
     "text": [
      "Applying strategy: link_iterable_by_fields\n"
     ]
    }
   ],
   "source": [
    "sp.match_database(None, ignore_categories=True)"
   ]
  },
  {
   "cell_type": "markdown",
   "id": "62eb8b18-ce18-4fb4-b1a4-20369896e587",
   "metadata": {},
   "source": [
    "\n",
    "\n",
    "We have done the internal linking that we can - now we need to link the biosphere flows. This looks complicated, but is just a fancy way of linking the biosphere flows by their names, units, and categories.\n"
   ]
  },
  {
   "cell_type": "code",
   "execution_count": 15,
   "id": "09423c32-a900-458a-9edb-839f3540e7b7",
   "metadata": {},
   "outputs": [
    {
     "name": "stdout",
     "output_type": "stream",
     "text": [
      "Applying strategy: link_iterable_by_fields\n"
     ]
    }
   ],
   "source": [
    "import functools\n",
    "f = functools.partial(link_iterable_by_fields,\n",
    "    other=Database(config.biosphere),\n",
    "    kind='biosphere'\n",
    ")\n",
    "sp.apply_strategy(f)"
   ]
  },
  {
   "cell_type": "markdown",
   "id": "b6e27331-4789-4a9a-8318-01d7cd1644ab",
   "metadata": {},
   "source": [
    "Let's see how far we have got:"
   ]
  },
  {
   "cell_type": "code",
   "execution_count": 16,
   "id": "560ebdb3-0c6b-4b05-8aa2-733f1806950a",
   "metadata": {},
   "outputs": [
    {
     "name": "stdout",
     "output_type": "stream",
     "text": [
      "0 datasets\n",
      "0 exchanges\n",
      "0 unlinked exchanges\n",
      "  \n"
     ]
    },
    {
     "data": {
      "text/plain": [
       "(0, 0, 0)"
      ]
     },
     "execution_count": 16,
     "metadata": {},
     "output_type": "execute_result"
    }
   ],
   "source": [
    "sp.statistics()"
   ]
  },
  {
   "cell_type": "markdown",
   "id": "597fdfa2-9f3a-4eb3-9665-fdad407c3dc9",
   "metadata": {},
   "source": [
    "JAJAJAJJAJAJJAJJAJA WHAT? Horrible."
   ]
  },
  {
   "cell_type": "code",
   "execution_count": null,
   "id": "617c5097-894e-444e-833e-5ad2e5faccb2",
   "metadata": {},
   "outputs": [],
   "source": []
  }
 ],
 "metadata": {
  "kernelspec": {
   "display_name": "bw2_rosetta",
   "language": "python",
   "name": "bw2_rosetta"
  },
  "language_info": {
   "codemirror_mode": {
    "name": "ipython",
    "version": 3
   },
   "file_extension": ".py",
   "mimetype": "text/x-python",
   "name": "python",
   "nbconvert_exporter": "python",
   "pygments_lexer": "ipython3",
   "version": "3.9.12"
  }
 },
 "nbformat": 4,
 "nbformat_minor": 5
}

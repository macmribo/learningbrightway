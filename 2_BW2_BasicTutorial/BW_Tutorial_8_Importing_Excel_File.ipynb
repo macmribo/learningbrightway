{
 "cells": [
  {
   "cell_type": "markdown",
   "id": "6958f5f4-acda-4e63-8295-33f00c39134a",
   "metadata": {},
   "source": [
    "# 8. Importing an Excel file with an unknown format"
   ]
  },
  {
   "cell_type": "markdown",
   "id": "a45c59f0-2b49-46ee-a806-e954eeb7e08c",
   "metadata": {},
   "source": [
    "In this notebook, we will use the ExcelImporter to get all data from the spreadsheet, but will have to write strategies to understand the data ourselves. This notebook is based on the original notebook written by [Christopher Mutel](https://github.com/brightway-lca/brightway2/blob/master/notebooks/IO%20-%20importing%20an%20Excel%20file.ipynb)."
   ]
  },
  {
   "cell_type": "code",
   "execution_count": 1,
   "id": "dbce5c87-2a1e-4271-823e-99ae59b8323f",
   "metadata": {},
   "outputs": [],
   "source": [
    "from brightway2 import *\n",
    "from stats_arrays import *"
   ]
  },
  {
   "cell_type": "markdown",
   "id": "5c8e3de3-4bfe-4c06-8d97-f33d0891dea5",
   "metadata": {},
   "source": [
    "### Project setup"
   ]
  },
  {
   "cell_type": "code",
   "execution_count": 2,
   "id": "5cd4ede6-51a9-404f-9210-9faf2a167542",
   "metadata": {},
   "outputs": [],
   "source": [
    "projects.set_current('Tut_8_Importing_Excel_File')"
   ]
  },
  {
   "cell_type": "code",
   "execution_count": 3,
   "id": "63f0ecd5-26fe-4a8a-9ad4-d225d8e3d8e1",
   "metadata": {},
   "outputs": [
    {
     "name": "stdout",
     "output_type": "stream",
     "text": [
      "Biosphere database already present!!! No setup is needed\n"
     ]
    }
   ],
   "source": [
    "bw2setup()"
   ]
  },
  {
   "cell_type": "markdown",
   "id": "bdac475c-60c1-41aa-932b-9a82a2e9a7bc",
   "metadata": {},
   "source": [
    "### Import PVPS-Task12 database"
   ]
  },
  {
   "cell_type": "markdown",
   "id": "9ecacfdc-531a-4ea5-8ac0-f2ff5bc458ed",
   "metadata": {},
   "source": [
    "We will be importing a different notebook than the one imported in the original notebook (i.e. Ecoinvent 3.1). Since Us LCI is not behaving nicely for now, we will be importing the super relevant database from [*Life Cycle Inventories and Life Cycle Assessments of Photovoltaic Systems*](https://treeze.ch/fileadmin/user_upload/downloads/Publications/Case_Studies/Energy/IEA-PVPS-LCI-report-2020-20201208.pdf) you can download the data [here](https://treeze.ch/fileadmin/user_upload/downloads/Publications/Case_Studies/Energy/PVPS-Task12-19_2020_EcoSpold_LCI-PV-supplyChains.xlsx). \n",
    "\n",
    "Let's see if this works!\n",
    "\n",
    "\n"
   ]
  },
  {
   "cell_type": "code",
   "execution_count": 5,
   "id": "942d386a-3c76-49d0-8fd4-5ebc7b68d3db",
   "metadata": {},
   "outputs": [
    {
     "name": "stdout",
     "output_type": "stream",
     "text": [
      "Extracted 6 worksheets in 2.35 seconds\n"
     ]
    },
    {
     "ename": "ValueError",
     "evalue": "No `database` section found",
     "output_type": "error",
     "traceback": [
      "\u001b[0;31m---------------------------------------------------------------------------\u001b[0m",
      "\u001b[0;31mValueError\u001b[0m                                Traceback (most recent call last)",
      "Input \u001b[0;32mIn [5]\u001b[0m, in \u001b[0;36m<cell line: 1>\u001b[0;34m()\u001b[0m\n\u001b[0;32m----> 1\u001b[0m pv_lci \u001b[38;5;241m=\u001b[39m \u001b[43mExcelImporter\u001b[49m\u001b[43m(\u001b[49m\u001b[38;5;124;43m\"\u001b[39;49m\u001b[38;5;124;43m/Users/mmendez/Documents/Postdoc/Software_dev/Brightway/BW_Tutorials/BW2_BasicTutorial/data/PVPS-Task12-Separated/PVPS-Task12-19_2020_EcoSpold_LCI-PV-supplyChains.xlsx\u001b[39;49m\u001b[38;5;124;43m\"\u001b[39;49m\u001b[43m)\u001b[49m\n",
      "File \u001b[0;32m~/miniconda3/envs/bw2_rosetta/lib/python3.9/site-packages/bw2io/importers/excel.py:114\u001b[0m, in \u001b[0;36mExcelImporter.__init__\u001b[0;34m(self, filepath)\u001b[0m\n\u001b[1;32m    108\u001b[0m \u001b[38;5;28mprint\u001b[39m(\n\u001b[1;32m    109\u001b[0m     \u001b[38;5;124m\"\u001b[39m\u001b[38;5;124mExtracted \u001b[39m\u001b[38;5;132;01m{}\u001b[39;00m\u001b[38;5;124m worksheets in \u001b[39m\u001b[38;5;132;01m{:.2f}\u001b[39;00m\u001b[38;5;124m seconds\u001b[39m\u001b[38;5;124m\"\u001b[39m\u001b[38;5;241m.\u001b[39mformat(\n\u001b[1;32m    110\u001b[0m         \u001b[38;5;28mlen\u001b[39m(data), time() \u001b[38;5;241m-\u001b[39m start\n\u001b[1;32m    111\u001b[0m     )\n\u001b[1;32m    112\u001b[0m )\n\u001b[1;32m    113\u001b[0m \u001b[38;5;28;01mif\u001b[39;00m data \u001b[38;5;129;01mand\u001b[39;00m \u001b[38;5;28many\u001b[39m(line \u001b[38;5;28;01mfor\u001b[39;00m line \u001b[38;5;129;01min\u001b[39;00m data):\n\u001b[0;32m--> 114\u001b[0m     \u001b[38;5;28mself\u001b[39m\u001b[38;5;241m.\u001b[39mdb_name, \u001b[38;5;28mself\u001b[39m\u001b[38;5;241m.\u001b[39mmetadata \u001b[38;5;241m=\u001b[39m \u001b[38;5;28;43mself\u001b[39;49m\u001b[38;5;241;43m.\u001b[39;49m\u001b[43mget_database\u001b[49m\u001b[43m(\u001b[49m\u001b[43mdata\u001b[49m\u001b[43m)\u001b[49m\n\u001b[1;32m    115\u001b[0m     \u001b[38;5;28mself\u001b[39m\u001b[38;5;241m.\u001b[39mproject_parameters \u001b[38;5;241m=\u001b[39m \u001b[38;5;28mself\u001b[39m\u001b[38;5;241m.\u001b[39mget_project_parameters(data)\n\u001b[1;32m    116\u001b[0m     \u001b[38;5;28mself\u001b[39m\u001b[38;5;241m.\u001b[39mdatabase_parameters \u001b[38;5;241m=\u001b[39m \u001b[38;5;28mself\u001b[39m\u001b[38;5;241m.\u001b[39mget_database_parameters(data)\n",
      "File \u001b[0;32m~/miniconda3/envs/bw2_rosetta/lib/python3.9/site-packages/bw2io/importers/excel.py:133\u001b[0m, in \u001b[0;36mExcelImporter.get_database\u001b[0;34m(self, data)\u001b[0m\n\u001b[1;32m    130\u001b[0m             found \u001b[38;5;241m=\u001b[39m \u001b[38;5;28;01mTrue\u001b[39;00m\n\u001b[1;32m    132\u001b[0m \u001b[38;5;28;01mif\u001b[39;00m \u001b[38;5;129;01mnot\u001b[39;00m results:\n\u001b[0;32m--> 133\u001b[0m     \u001b[38;5;28;01mraise\u001b[39;00m \u001b[38;5;167;01mValueError\u001b[39;00m(\u001b[38;5;124m\"\u001b[39m\u001b[38;5;124mNo `database` section found\u001b[39m\u001b[38;5;124m\"\u001b[39m)\n\u001b[1;32m    135\u001b[0m \u001b[38;5;28;01mreturn\u001b[39;00m results[\u001b[38;5;241m0\u001b[39m]\n",
      "\u001b[0;31mValueError\u001b[0m: No `database` section found"
     ]
    }
   ],
   "source": [
    "pv_lci = ExcelImporter(\"/Users/mmendez/Documents/Postdoc/Software_dev/Brightway/BW_Tutorials/BW2_BasicTutorial/data/PVPS-Task12-Separated/PVPS-Task12-19_2020_EcoSpold_LCI-PV-supplyChains.xlsx\")"
   ]
  },
  {
   "cell_type": "markdown",
   "id": "80c3e8d3-1cf5-48b1-bbc3-beaf1309b645",
   "metadata": {},
   "source": [
    "Not great, it extracted only 6 worksheets... Let's just see what it extracted and how. Let's follow what CM did on his worksheet."
   ]
  },
  {
   "cell_type": "code",
   "execution_count": 8,
   "id": "3d3e0fc4-a46d-4217-88fb-b9eee79aa6f8",
   "metadata": {},
   "outputs": [
    {
     "data": {
      "text/plain": [
       "['__class__',\n",
       " '__delattr__',\n",
       " '__dict__',\n",
       " '__dir__',\n",
       " '__doc__',\n",
       " '__eq__',\n",
       " '__format__',\n",
       " '__ge__',\n",
       " '__getattribute__',\n",
       " '__gt__',\n",
       " '__hash__',\n",
       " '__init__',\n",
       " '__init_subclass__',\n",
       " '__iter__',\n",
       " '__le__',\n",
       " '__lt__',\n",
       " '__module__',\n",
       " '__ne__',\n",
       " '__new__',\n",
       " '__reduce__',\n",
       " '__reduce_ex__',\n",
       " '__repr__',\n",
       " '__setattr__',\n",
       " '__sizeof__',\n",
       " '__str__',\n",
       " '__subclasshook__',\n",
       " '__weakref__',\n",
       " '_migrate_datasets',\n",
       " '_migrate_exchanges',\n",
       " '_prepare_activity_parameters',\n",
       " '_write_activity_parameters',\n",
       " 'add_unlinked_activities',\n",
       " 'add_unlinked_flows_to_biosphere_database',\n",
       " 'apply_strategies',\n",
       " 'apply_strategy',\n",
       " 'create_new_biosphere',\n",
       " 'database_parameters',\n",
       " 'drop_unlinked',\n",
       " 'extractor',\n",
       " 'format',\n",
       " 'get_activity',\n",
       " 'get_database',\n",
       " 'get_database_parameters',\n",
       " 'get_labelled_section',\n",
       " 'get_metadata_section',\n",
       " 'get_project_parameters',\n",
       " 'match_database',\n",
       " 'metadata',\n",
       " 'migrate',\n",
       " 'process_activities',\n",
       " 'project_parameters',\n",
       " 'statistics',\n",
       " 'strategies',\n",
       " 'unlinked',\n",
       " 'write_activity_parameters',\n",
       " 'write_database',\n",
       " 'write_database_parameters',\n",
       " 'write_excel',\n",
       " 'write_project_parameters',\n",
       " 'write_unlinked']"
      ]
     },
     "execution_count": 8,
     "metadata": {},
     "output_type": "execute_result"
    }
   ],
   "source": [
    "dir(pv_lci)"
   ]
  },
  {
   "cell_type": "code",
   "execution_count": 19,
   "id": "933c636b-025c-4d9a-8cfd-f26f80d9d6ff",
   "metadata": {},
   "outputs": [],
   "source": [
    "df = pv_lci.database_parameters"
   ]
  },
  {
   "cell_type": "code",
   "execution_count": 20,
   "id": "8ac8f09a-fb74-4e26-b989-57bef765624e",
   "metadata": {},
   "outputs": [],
   "source": [
    "df"
   ]
  },
  {
   "cell_type": "code",
   "execution_count": 6,
   "id": "5d94d785-ec19-42ca-94db-523da1dab581",
   "metadata": {},
   "outputs": [],
   "source": [
    "uncertainty_mapping = {\n",
    "    0: UndefinedUncertainty.id,\n",
    "    1: LognormalUncertainty.id,\n",
    "    2: NormalUncertainty.id,\n",
    "    3: TriangularUncertainty.id,\n",
    "    4: UniformUncertainty.id\n",
    "}"
   ]
  },
  {
   "cell_type": "code",
   "execution_count": null,
   "id": "c53de13d-3ce8-4a34-834c-7d51a9061fba",
   "metadata": {},
   "outputs": [],
   "source": [
    "PROCESS_INDEX_NUMBER = 3707\n",
    "PROCESS_INDEX_COL = 0\n",
    "PROCESS_INDEX_ROW = 1\n",
    "PROCESS_NAME_ROW = 2\n",
    "PROCESS_LOCATION_ROW = 3\n",
    "PROCESS_UNIT_ROW = 5\n",
    "\n",
    "INPUT_GROUP_COL = 3\n",
    "OUTPUT_GROUP_COL = 4\n",
    "PRODUCTION_EXC_TYPE = 0\n",
    "TECHNOSPHERE_EXC_TYPE = 5\n",
    "BIOSPHERE_EXC_TYPE = 4\n",
    "\n",
    "CATEGORY_COL = 7\n",
    "SUBCATEGORY_COL = 8 \n",
    "\n",
    "EXCHANGE_PRODUCTION_NAME_COL = 5\n",
    "EXCHANGE_PRODUCT_COL = 12\n",
    "EXCHANGE_PROCESS_COL = 13\n",
    "EXCHANGE_LOCATION_COL = 14\n",
    "EXCHANGE_UNIT_COL = 10\n",
    "EXCHANGE_AMOUNT_DELTA = 0\n",
    "EXCHANGE_UNCERTAINTY_TYPE_DELTA = 1\n",
    "EXCHANGE_SD95_DELTA = 2\n",
    "EXCHANGE_COMMENT_DELTA = 3\n",
    "\n",
    "\n",
    "def get_exchange_type(data, row):\n",
    "    if data[row][INPUT_GROUP_COL] == TECHNOSPHERE_EXC_TYPE:\n",
    "        return \"technosphere\"\n",
    "    elif data[row][OUTPUT_GROUP_COL] == BIOSPHERE_EXC_TYPE:\n",
    "        return \"biosphere\"\n",
    "    elif data[row][INPUT_GROUP_COL] == BIOSPHERE_EXC_TYPE:\n",
    "        return \"biosphere\"\n",
    "    elif data[row][OUTPUT_GROUP_COL] == PRODUCTION_EXC_TYPE:\n",
    "        return \"production\"\n",
    "    else:\n",
    "        raise ValueError\n",
    "    \n",
    "\n",
    "def get_exchange_rows(data):\n",
    "    return [x for x in range(len(data)) \n",
    "            if data[x][PROCESS_INDEX_COL] \n",
    "            and data[x][PROCESS_INDEX_COL] != \"Index\"]\n",
    "    \n",
    "    \n",
    "def extract_exchanges(data, col):\n",
    "    return [{\n",
    "        'production name': data[row][EXCHANGE_PRODUCTION_NAME_COL],\n",
    "        'activity name': data[row][EXCHANGE_PROCESS_COL],\n",
    "        'categories': (data[row][CATEGORY_COL], data[row][SUBCATEGORY_COL],),\n",
    "        'type': get_exchange_type(data, row),\n",
    "        'reference product': data[row][EXCHANGE_PRODUCT_COL],\n",
    "        'unit': data[row][EXCHANGE_UNIT_COL],\n",
    "        'location': data[row][EXCHANGE_LOCATION_COL],\n",
    "        'amount': data[row][col + EXCHANGE_AMOUNT_DELTA] or 0,\n",
    "        'uncertainty type': uncertainty_mapping[data[row][col + EXCHANGE_UNCERTAINTY_TYPE_DELTA] or 0],\n",
    "        'sd95': data[row][col + EXCHANGE_SD95_DELTA],  # Will need to be transformed\n",
    "        'comment': data[row][col + EXCHANGE_COMMENT_DELTA]\n",
    "    } for row in get_exchange_rows(data)]\n",
    "    \n",
    "\n",
    "def extract_process(data, col, sheet):\n",
    "    return {\n",
    "        'name': data[PROCESS_NAME_ROW][col],\n",
    "        'unit': data[PROCESS_UNIT_ROW][col],\n",
    "        'location': data[PROCESS_LOCATION_ROW][col],\n",
    "        'worksheet': sheet,\n",
    "        'exchanges': extract_exchanges(data, col)\n",
    "    }\n",
    "\n",
    "\n",
    "def process_sample_worksheet(obj):\n",
    "    ws_name, data = obj\n",
    "\n",
    "    nrows, ncols = len(data), len(data[0])\n",
    "    \n",
    "    # Create dictionary of processes referred to by column index\n",
    "    processes = [extract_process(data, col, ws_name) \n",
    "                 for col in range(ncols) \n",
    "                 if data[PROCESS_INDEX_ROW][col] == PROCESS_INDEX_NUMBER]\n",
    "    \n",
    "    return processes\n",
    "\n",
    "\n",
    "def process_sample_excel_data(data):\n",
    "    return [item for obj in data for item in process_sample_worksheet(obj)]\n",
    "\n"
   ]
  }
 ],
 "metadata": {
  "kernelspec": {
   "display_name": "bw2_rosetta",
   "language": "python",
   "name": "bw2_rosetta"
  },
  "language_info": {
   "codemirror_mode": {
    "name": "ipython",
    "version": 3
   },
   "file_extension": ".py",
   "mimetype": "text/x-python",
   "name": "python",
   "nbconvert_exporter": "python",
   "pygments_lexer": "ipython3",
   "version": "3.9.12"
  }
 },
 "nbformat": 4,
 "nbformat_minor": 5
}

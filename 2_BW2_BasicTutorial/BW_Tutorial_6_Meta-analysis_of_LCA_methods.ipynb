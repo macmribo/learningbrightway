{
 "cells": [
  {
   "cell_type": "markdown",
   "id": "485bf01a-526e-4c62-bbe8-a6a2dd927428",
   "metadata": {},
   "source": [
    "# 6.  Meta-analysis of LCA methods"
   ]
  },
  {
   "cell_type": "markdown",
   "id": "e222e9a3-2d37-436f-b18d-3e89b748c7d7",
   "metadata": {},
   "source": [
    "This notebook assumes you have completed the [Tutorial 4 - LCA with real data](BW_Tutorial_4_LCA_Real_Data.ipynb) notebook, or its original version by Chris Mutel [Getting Started with Brightway2](https://github.com/brightway-lca/brightway2/blob/master/notebooks/Getting%20Started%20with%20Brightway2.ipynb).\n",
    "\n",
    "This notebook shows the real power of Brightway2, and in particular the ability to script and analyze many LCA calculations.\n",
    "\n",
    "At the end of this notebook, you should:\n",
    "\n",
    "* Be able to make many LCA calculations.\n",
    "* Use `multiprocessing` to utilize the full power of your computer.\n",
    "* Store calculations results in `numpy` arrays, for analysis and interpretation.\n",
    "* Use matplotlib to display results graphically.\n",
    "\n",
    "If you finish the notebook, you get another kitten!\n",
    "\n",
    "You should `download this notebook` and run it cell by cell - don't just read it on the web!"
   ]
  },
  {
   "cell_type": "markdown",
   "id": "826bef93-8189-45ca-ba28-412829149e75",
   "metadata": {},
   "source": [
    "### You know the drill."
   ]
  },
  {
   "cell_type": "code",
   "execution_count": 2,
   "id": "5dffc6c0-dc67-46ad-974d-027b474d35c3",
   "metadata": {},
   "outputs": [],
   "source": [
    "from brightway2 import *"
   ]
  },
  {
   "cell_type": "markdown",
   "id": "0391f2c0-bcde-41cf-8fdc-d1804b27fd2e",
   "metadata": {},
   "source": [
    "### Project setup"
   ]
  },
  {
   "cell_type": "markdown",
   "id": "59fb18c5-4127-44b3-8084-43f1a4fceae6",
   "metadata": {},
   "source": [
    "Let's copy the *LCA with real data* project to use the same database, and change the name to our new project. Keep in mind I will be copying the project based on _my_ notebooks. "
   ]
  },
  {
   "cell_type": "code",
   "execution_count": 3,
   "id": "15823d01-6ddd-4d99-a189-e6fb51468d50",
   "metadata": {},
   "outputs": [],
   "source": [
    "if \"Tut_4_RealLCA\" not in projects:\n",
    "        raise ValueError(\"Must have run introductory notebook already!\")\n",
    "        \n",
    "if \"Tut_6_Meta-analysis\" not in projects:\n",
    "    projects.set_current(\"Tut_4_RealLCA\")\n",
    "    projects.copy_project(\"Tut_6_Meta-analysis\")\n",
    "else:\n",
    "    projects.set_current(\"Tut_6_Meta-analysis\")\n",
    "\n",
    "assert 'forwast' in databases, \"Something went wrong - please run the introductory notebook again\"\n",
    "\n"
   ]
  },
  {
   "cell_type": "code",
   "execution_count": 4,
   "id": "e1273536-fdac-46dc-94d2-4af3398ddbc1",
   "metadata": {},
   "outputs": [
    {
     "name": "stdout",
     "output_type": "stream",
     "text": [
      "There are 277 activities in our database\n"
     ]
    }
   ],
   "source": [
    "print(\"There are {} activities in our database\".format(len(Database('forwast'))))"
   ]
  },
  {
   "cell_type": "markdown",
   "id": "8cfe6ef3-0ae5-48c5-9de1-2ea7d142aef5",
   "metadata": {},
   "source": [
    "Let's start by picking some LCIA methods to analyze - we don't want to use all the available ones, as many are specific to just a few biosphere flows, and it wouldn't make sense to compare these methods to other methods."
   ]
  },
  {
   "cell_type": "code",
   "execution_count": 5,
   "id": "00c407dc-5a0f-4aaf-ab6f-ea0345fe0c6e",
   "metadata": {},
   "outputs": [
    {
     "name": "stdout",
     "output_type": "stream",
     "text": [
      "There are 48 methods to test\n"
     ]
    }
   ],
   "source": [
    "CANDIDATES = sorted([\n",
    "    ('CML 2001 (superseded)', 'acidification potential', 'average European'),\n",
    "    ('CML 2001 (superseded)', 'climate change', 'GWP 100a'),\n",
    "    ('CML 2001 (superseded)', 'eutrophication potential', 'average European'),\n",
    "    ('CML 2001 (superseded)', 'freshwater aquatic ecotoxicity', 'FAETP 100a'),\n",
    "    ('CML 2001 (superseded)', 'human toxicity', 'HTP 100a'),\n",
    "    ('CML 2001 (superseded)', 'land use', 'competition'),\n",
    "    ('CML 2001 (superseded)', 'marine aquatic ecotoxicity', 'MAETP infinite'),\n",
    "    ('CML 2001 (superseded)', 'resources', 'depletion of abiotic resources'),\n",
    "    ('CML 2001 (superseded)', 'stratospheric ozone depletion', 'ODP 25a'),\n",
    "    ('EDIP2003', 'ecotoxicity', 'in sewage treatment plants'),\n",
    "    ('EDIP2003', 'eutrophication', 'terrestrial eutrophication'),\n",
    "    ('EDIP2003', 'renewable resources', 'wood'),\n",
    "    ('EDIP2003', 'stratospheric ozone depletion', 'ODP total'),\n",
    "    ('EPS 2000', 'total', 'abiotic stock resources'),\n",
    "    ('EPS 2000', 'total', 'emissions into soil'),\n",
    "    ('EPS 2000', 'total', 'emissions into water'),\n",
    "    ('EPS 2000', 'total', 'land occupation'),\n",
    "    ('IMPACT 2002+ (Endpoint)', 'ecosystem quality', 'land occupation'),\n",
    "    ('IMPACT 2002+ (Endpoint)', 'human health', 'ozone layer depletion'),\n",
    "    ('IMPACT 2002+ (Endpoint)', 'resources', 'mineral extraction'),\n",
    "    ('IMPACT 2002+ (Endpoint)', 'resources', 'non-renewable energy'),\n",
    "    ('IMPACT 2002+ (Midpoint)', 'ecosystem quality', 'aquatic acidification'),\n",
    "    ('IPCC 2013', 'climate change', 'GWP 100a'),\n",
    "    ('ReCiPe Endpoint (H,A)',\n",
    "    'ecosystem quality',\n",
    "    'agricultural land occupation'),\n",
    "    ('ReCiPe Endpoint (H,A)',\n",
    "    'ecosystem quality',\n",
    "    'freshwater eutrophication'),\n",
    "    ('ReCiPe Endpoint (H,A)',\n",
    "    'ecosystem quality',\n",
    "    'natural land transformation'),\n",
    "    ('ReCiPe Endpoint (H,A)',\n",
    "    'ecosystem quality',\n",
    "    'terrestrial acidification'),\n",
    "    ('ReCiPe Endpoint (H,A)', 'ecosystem quality', 'urban land occupation'),\n",
    "    ('ReCiPe Endpoint (H,A)', 'human health', 'particulate matter formation'),\n",
    "    ('ReCiPe Endpoint (H,A)', 'resources', 'fossil depletion'),\n",
    "    ('TRACI', 'environmental impact', 'acidification'),\n",
    "    ('TRACI', 'environmental impact', 'eutrophication'),\n",
    "    ('TRACI', 'environmental impact', 'global warming'),\n",
    "    ('TRACI', 'environmental impact', 'ozone depletion'),\n",
    "    ('TRACI', 'human health', 'respiratory effects, average'),\n",
    "    ('ecological footprint', 'total', 'CO2'),\n",
    "    ('ecological footprint', 'total', 'land occupation'),\n",
    "    ('ecological footprint', 'total', 'nuclear'),\n",
    "    ('ecological scarcity 2013', 'POP into water', 'total'),\n",
    "    ('ecological scarcity 2013', 'energy resources', 'total'),\n",
    "    ('ecological scarcity 2013', 'heavy metals into soil', 'total'),\n",
    "    ('ecological scarcity 2013', 'heavy metals into water', 'total'),\n",
    "    ('ecological scarcity 2013', 'land use', 'total'),\n",
    "    ('ecological scarcity 2013', 'mineral resources', 'total'),\n",
    "    ('ecological scarcity 2013', 'non radioactive waste to deposit', 'total'),\n",
    "    ('ecological scarcity 2013', 'water resources', 'total'),\n",
    "    ('ecosystem damage potential', 'total', 'linear, land occupation'),\n",
    "    ('ecosystem damage potential', 'total', 'linear, land transformation'),\n",
    "])\n",
    "\n",
    "print(\"There are {} methods to test\".format(len(CANDIDATES)))"
   ]
  },
  {
   "cell_type": "markdown",
   "id": "3966635f-35f3-4155-a28b-88abb5dece6e",
   "metadata": {},
   "source": [
    "We will now compute an LCA score for each process in the `FORWAST` database, for each of these 52 methods. To do this, we use the [multiprocessing](https://docs.python.org/3/library/multiprocessing.html) library to dispatch jobs to each available CPU core on our machine. We will store our results in an [numpy](https://numpy.org/) array."
   ]
  },
  {
   "cell_type": "code",
   "execution_count": 6,
   "id": "318a2a45-b28e-4fa9-b9ae-7b3e3c877f9c",
   "metadata": {},
   "outputs": [],
   "source": [
    "import numpy as np"
   ]
  },
  {
   "cell_type": "markdown",
   "id": "ceb1ca89-da41-4d1d-8ac2-5db520b3714f",
   "metadata": {},
   "source": [
    "First, we create a function that will calculate the LCA score for one method and a list of activities. To do this, we use the ability of the `LCA` class to factorize the technosphere matrix into two triangular matrices (this is what `lca.decompose_technosphere()` does), which will make the actual LCI calculations very fast, on the order of 100 per second.\n",
    "\n",
    "There are one potentially tricky thing we need to be aware of. We use the convenience method `redo_lcia`. This will change the LCA demand vector, but will cause an error if the new demanded activity is not in the foreground and background databases that form the technosphere matrix. This is the whole point of `redo_lci` and `redo_lcia` - if the technosphere doesn't change, then we can make calculations faster. If it does change, then we might as well create a whole new LCA object. Because we are drawing our list of activities from the same database, this is no problem, but it could be if we were to sample from different databases.\n"
   ]
  },
  {
   "cell_type": "code",
   "execution_count": 7,
   "id": "5dbf031d-5b8e-4214-bc34-656e0e7cf457",
   "metadata": {},
   "outputs": [],
   "source": [
    "def calculate_everything(activities, method_list):\n",
    "    results = np.zeros((len(activities), len(method_list)))\n",
    "    \n",
    "    lca = LCA({activities[0]: 1}, method=method_list[0]) # LCA object which will do all calculating\n",
    "    lca.lci()                                    # Calculate inventory once to load all database data\n",
    "    lca.decompose_technosphere()                 # Keep the LU factorized matrices for faster calculations\n",
    "    lca.lcia()                                   # Load method data\n",
    "\n",
    "    characterization_matrices = []\n",
    "    for method in method_list:\n",
    "        lca.switch_method(method)\n",
    "        characterization_matrices.append(lca.characterization_matrix.copy())\n",
    "        \n",
    "    for first, activity in enumerate(activities):\n",
    "        lca.redo_lci({activity: 1})\n",
    "        \n",
    "        for second, matrix in enumerate(characterization_matrices):\n",
    "            results[first, second] = (matrix * lca.inventory).sum()\n",
    "            \n",
    "    return results"
   ]
  },
  {
   "cell_type": "markdown",
   "id": "1b0a657b-96ec-4c35-a57e-cdb48df823eb",
   "metadata": {},
   "source": [
    "Now we define the function that will dispatch the activities and methods using a `multiprocessing` pool. This isn't particularly difficult - just get sorted lists of the inputs, and use `apply_async` (there are also other possibilities, see the [multiprocessing](https://docs.python.org/3/library/multiprocessing.html) documentation, or search for tutorials on the web."
   ]
  },
  {
   "cell_type": "code",
   "execution_count": 8,
   "id": "b20e6e3b-c96e-406e-b58e-31482f1afb65",
   "metadata": {},
   "outputs": [],
   "source": [
    "activities = sorted([dataset.key for dataset in Database(\"forwast\")])"
   ]
  },
  {
   "cell_type": "markdown",
   "id": "7fa14c23-cb20-43a5-860f-690c7f19abf8",
   "metadata": {},
   "source": [
    "Now, we are ready to do the actual calculation. Let's time it to see how long it takes us to make more than 50.000 LCA calculations..."
   ]
  },
  {
   "cell_type": "code",
   "execution_count": 9,
   "id": "80ed7206-057f-4e3b-ae9f-e397e45fb378",
   "metadata": {},
   "outputs": [],
   "source": [
    "from time import time\n",
    "\n",
    "start = time()\n",
    "lca_scores = calculate_everything(activities, CANDIDATES)\n",
    "elapsed = time() - start"
   ]
  },
  {
   "cell_type": "code",
   "execution_count": 10,
   "id": "a6474fd3-1543-4b37-a3f8-73cfd3d813ee",
   "metadata": {},
   "outputs": [
    {
     "name": "stdout",
     "output_type": "stream",
     "text": [
      "Done in 1.31 seconds, at 10149.0 calculations per second\n"
     ]
    }
   ],
   "source": [
    "print(\"Done in {:.2f} seconds, at {:.1f} calculations per second\".format(elapsed, lca_scores.shape[0] * lca_scores.shape[1] / elapsed))"
   ]
  },
  {
   "cell_type": "markdown",
   "id": "08b0a91a-4b8e-41ef-b16b-1ee2345c872d",
   "metadata": {},
   "source": [
    "Well that was fast! Now we interpret these scores. Because they can be so different from method to method, if would be nice to normalize them. But first, let's do some basic sanity checks on the results:"
   ]
  },
  {
   "cell_type": "code",
   "execution_count": null,
   "id": "1bafd83a-763b-4276-8fb3-22345c6ee234",
   "metadata": {},
   "outputs": [],
   "source": [
    "print(\"Array shape:\", lca_scores.shape)\n",
    "print(\"Number of activities:\", len(activities))\n",
    "print(\"Average:\", np.average(lca_scores))\n",
    "print(\"Median (of absolute value):\", np.median(np.abs(lca_scores)))\n",
    "print(\"Min, Max:\", np.min(lca_scores), np.max(lca_scores))\n",
    "print(\"Fraction of all scores with score of zero:\", (lca_scores == 0).sum() / float(lca_scores.shape[0] * lca_scores.shape[1]))\n",
    "print(\"Methods where all scores are zero:\", (lca_scores.sum(axis=0) == 0).sum())\n",
    "print(\"Activities where all scores are zero:\", (lca_scores.sum(axis=1) == 0).sum())\n",
    "np.histogram(lca_scores)\n",
    "\n"
   ]
  }
 ],
 "metadata": {
  "kernelspec": {
   "display_name": "bw2",
   "language": "python",
   "name": "bw2"
  },
  "language_info": {
   "codemirror_mode": {
    "name": "ipython",
    "version": 3
   },
   "file_extension": ".py",
   "mimetype": "text/x-python",
   "name": "python",
   "nbconvert_exporter": "python",
   "pygments_lexer": "ipython3",
   "version": "3.9.12"
  }
 },
 "nbformat": 4,
 "nbformat_minor": 5
}

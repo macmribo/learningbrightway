{
 "cells": [
  {
   "cell_type": "markdown",
   "id": "b637fd2f-28b0-47cb-802c-ee6a29c6518f",
   "metadata": {},
   "source": [
    "# 2 &emsp; Building and using matrices"
   ]
  },
  {
   "cell_type": "markdown",
   "id": "6fa962a1-8f3a-424f-9a4c-b1d9d6a96192",
   "metadata": {},
   "source": [
    "This notebook is copied from tngTUDOR [from-the-ground-up notebook](http://localhost:8889/lab/tree/2%20-%20Building%20and%20using%20matrices%20in%20bw2calc.ipynb) series. With additional personal notes."
   ]
  },
  {
   "cell_type": "markdown",
   "id": "23b12816-f56d-449a-a823-9a2abdde4327",
   "metadata": {},
   "source": [
    "### Import necessary packages"
   ]
  },
  {
   "cell_type": "markdown",
   "id": "b03218e0-7b76-44b7-bcda-fd720899dc1e",
   "metadata": {},
   "source": [
    "One difference between Brightway 2 (BW2) and Brightway 2.5 (BW25) is that, unlike BW2, `from brightway2 import *` does not work, therefore it won't import all the needed packages such as `bwcalc`, `bwio`, etc. In BW25 we need to import all the packages we might need individually."
   ]
  },
  {
   "cell_type": "code",
   "execution_count": 45,
   "id": "93d14c55-4f33-4009-adb6-b20252d3c073",
   "metadata": {},
   "outputs": [],
   "source": [
    "import bw_processing as bwp\n",
    "import matrix_utils as mu\n",
    "import bw2calc as bc\n",
    "import numpy as np\n",
    "import seaborn as sb\n",
    "import pandas as pd"
   ]
  },
  {
   "cell_type": "markdown",
   "id": "3effd8c5-a01f-41d0-a22f-4e1daf315e01",
   "metadata": {},
   "source": [
    "Before we dive into it, let's think about what we need to actually build in a matrix. What specific data would you need? What don't you need?\n",
    "\n",
    "### Exercise\n",
    "\n",
    "Please think about the minimal set of information you would need to build a *sparse matrix* using [scipy.sparse.coo_matrix](https://docs.scipy.org/doc/scipy/reference/generated/scipy.sparse.coo_matrix.html) (sparse matrices store only non-zero values). Then, create this information as Numpy arrays and actually build a sparse matrix.\n",
    "\n",
    "Here is the matrix you should build:\n",
    "\n",
    "$$\\begin{bmatrix} 0 & 1 \\\\ 2 & 3 \\end{bmatrix}$$\n",
    "\n",
    "##### Hint\n",
    "You need three Numpy arrays: one for the data, one for the row indices and one for the column indices."
   ]
  },
  {
   "cell_type": "code",
   "execution_count": 46,
   "id": "50c345d9-2d9e-4dee-bd1b-85c9890bbcc5",
   "metadata": {},
   "outputs": [
    {
     "name": "stdout",
     "output_type": "stream",
     "text": [
      "  (0, 1)\t1\n",
      "  (1, 0)\t2\n",
      "  (1, 1)\t3\n"
     ]
    },
    {
     "data": {
      "text/plain": [
       "array([[0, 1],\n",
       "       [2, 3]])"
      ]
     },
     "execution_count": 46,
     "metadata": {},
     "output_type": "execute_result"
    }
   ],
   "source": [
    "from scipy import sparse\n",
    "\n",
    "data = np.array([1, 2, 3])\n",
    "rows = np.array([0, 1, 1])\n",
    "cols = np.array([1, 0, 1])\n",
    "matrix = sparse.coo_matrix((data, (rows, cols)), (2, 2)) \n",
    "print(matrix)\n",
    "matrix.toarray()"
   ]
  },
  {
   "cell_type": "markdown",
   "id": "5a2f732d-553e-460c-862f-da713fc9aa66",
   "metadata": {},
   "source": [
    "Ring a bell? This is more or less what happens with the technology matrix!!, what we are doing, is making the matrix square and filling with zeroes the empty spaces (REALLY SIMPLISTIC DESCRIPTION OF WHAT IS GOING ON!)."
   ]
  },
  {
   "cell_type": "markdown",
   "id": "9a89dd47-5804-49c7-9203-693545db0d8c",
   "metadata": {},
   "source": [
    "## `bw_processing`\n",
    "\n",
    "We can run into difficulties when we want to store this data. The library `bw_processing` helps us create data packages, which can store this matrix-building data on variety of file systems. You can read the [`bw_processing` README](https://github.com/brightway-lca/bw_processing) for more information, and can see the [PyFilesystem2 Docs](https://docs.pyfilesystem.org/en/latest/) for more on the filesystems that can be used.\n",
    "\n",
    "Let's define this same matrix in `bw_processing`.\n",
    "\n",
    "Matrices by definition are two-dimensional, so we know that to build matrices we will always need to specify the row and column indices of the data. We combine these two arrays into a single Numpy [structured array](https://numpy.org/doc/stable/user/basics.rec.html), which uses the labels `row` and `col`."
   ]
  },
  {
   "cell_type": "code",
   "execution_count": 47,
   "id": "04e7b283-0c13-4ce7-a42c-4b1faf706c04",
   "metadata": {},
   "outputs": [
    {
     "data": {
      "text/plain": [
       "array([(0, 1), (1, 0), (1, 1)], dtype=[('row', '<i4'), ('col', '<i4')])"
      ]
     },
     "execution_count": 47,
     "metadata": {},
     "output_type": "execute_result"
    }
   ],
   "source": [
    "import bw_processing as bwp\n",
    "import numpy as np\n",
    "\n",
    "indices_array = np.array([(0, 1), (1, 0), (1, 1)], dtype=bwp.INDICES_DTYPE)\n",
    "indices_array"
   ]
  },
  {
   "cell_type": "code",
   "execution_count": 48,
   "id": "8866a0ba-8fd1-4855-8e78-6e0b3153bb05",
   "metadata": {},
   "outputs": [
    {
     "name": "stdout",
     "output_type": "stream",
     "text": [
      "ROW  [0 1 1]\n",
      "COL  [1 0 1]\n"
     ]
    }
   ],
   "source": [
    "print('ROW ', indices_array['row'])\n",
    "print('COL ', indices_array['col'])"
   ]
  },
  {
   "cell_type": "code",
   "execution_count": 49,
   "id": "01783a2e-30be-4c58-8668-b08d15668017",
   "metadata": {},
   "outputs": [
    {
     "data": {
      "text/plain": [
       "[('row', numpy.int32), ('col', numpy.int32)]"
      ]
     },
     "execution_count": 49,
     "metadata": {},
     "output_type": "execute_result"
    }
   ],
   "source": [
    "bwp.INDICES_DTYPE"
   ]
  },
  {
   "cell_type": "markdown",
   "id": "a3dedbbe-1929-44af-afe0-16881960d643",
   "metadata": {},
   "source": [
    "The data array is the same as before:"
   ]
  },
  {
   "cell_type": "code",
   "execution_count": 50,
   "id": "4a0e9311-414a-4289-8eac-d870aa775dde",
   "metadata": {},
   "outputs": [
    {
     "data": {
      "text/plain": [
       "array([1, 2, 3])"
      ]
     },
     "execution_count": 50,
     "metadata": {},
     "output_type": "execute_result"
    }
   ],
   "source": [
    "data_array = np.array([1, 2, 3])\n",
    "data_array"
   ]
  },
  {
   "cell_type": "code",
   "execution_count": 51,
   "id": "50383423-cbf7-4ee4-bb05-6a7798eeea6b",
   "metadata": {},
   "outputs": [],
   "source": [
    "dp = bwp.create_datapackage()\n",
    "\n",
    "dp.add_persistent_vector(\n",
    "    matrix=\"some matrix name\",\n",
    "    data_array=data_array,\n",
    "    name=\"some name\",\n",
    "    indices_array=indices_array,\n",
    ")"
   ]
  },
  {
   "cell_type": "markdown",
   "id": "62251e09-b919-4ea8-89f7-22353696fa68",
   "metadata": {},
   "source": [
    "But before this gets too abstract, let's do the same for our example system:"
   ]
  },
  {
   "cell_type": "markdown",
   "id": "e7b9d36f-b24a-4edd-915e-0b7f37454011",
   "metadata": {},
   "source": [
    "![PROJECT:](images/simple-graph.png)"
   ]
  },
  {
   "cell_type": "markdown",
   "id": "ec56854f-e9b1-46ba-8dd2-d1bd777583db",
   "metadata": {},
   "source": [
    "In our technosphere matrix, we will have three production exchanges (each of amount 1), and two consumption exchanges. Our biosphere matrix will only have one number, the emission of CO<sub>2</sub> from carbon fibre production.\n",
    "\n",
    "Our matrices should look like this:\n",
    "#### Technosphere matrix\n",
    "\n",
    "Dimensions are exchanges/edges (rows) by activities/productions/nodes (columns). \n",
    "\n",
    "$$\n",
    "\\left[\\begin{array}{ccc} \n",
    "1 & 0 & 0\\\\\n",
    "-237 & 1 & 0\\\\\n",
    "0 & -2.5 & 1\\\\\n",
    "\\end{array}\\right]\n",
    "$$\n",
    "\n",
    "I think the matrix is wrong and should be:\n",
    "\n",
    "$$\n",
    "\\left[\\begin{array}{ccc} \n",
    "1 & -237 & 0\\\\\n",
    "0 & 1 & -2.5\\\\\n",
    "0 & 0 & 1\\\\\n",
    "\\end{array}\\right]\n",
    "$$\n",
    "\n",
    "#### Biosphere matrix\n",
    "\n",
    "Dimensions are exchanges/edges (rows) by activities/productions/nodes (columns).\n",
    "\n",
    "$$\n",
    "\\left[\\begin{array}{ccc} \n",
    "0 & 26.6 & 0\\\\ \n",
    "\\end{array}\\right]\n",
    "$$ \n",
    "\n",
    "#### Characterization matrix\n",
    "\n",
    "Dimensions are flows (rows) by flows (columns).\n",
    "\n",
    "$$\n",
    "\\left[\\begin{array}{c} \n",
    "1\\\\ \n",
    "\\end{array}\\right]\n",
    "$$"
   ]
  },
  {
   "cell_type": "markdown",
   "id": "59662ce2-529c-4fa3-a648-a7ca0dee30f0",
   "metadata": {},
   "source": [
    "### LCA calculation"
   ]
  },
  {
   "cell_type": "markdown",
   "id": "dcd239ae-0d3d-4ee1-b64b-1b2dcb3dd77b",
   "metadata": {},
   "source": [
    "To use datapackages, we need to know four things for each point: \n",
    "1. Row IDs\n",
    "2. Column IDs.\n",
    "3. Data value.\n",
    "4. The sign. \n",
    "\n",
    "We only need to store the non-zero points. Here is an example for the technosphere matrix:"
   ]
  },
  {
   "cell_type": "markdown",
   "id": "c1edb543-4eee-402b-983b-0810ad14b81c",
   "metadata": {},
   "source": [
    "Let's put some codes to our products:"
   ]
  },
  {
   "cell_type": "code",
   "execution_count": 52,
   "id": "77016bc7-e06f-4483-80ee-b523d03a1554",
   "metadata": {},
   "outputs": [],
   "source": [
    "natural_gas = 101 \n",
    "carbon_fibre = 102\n",
    "bike = 103\n",
    "co2 = 201"
   ]
  },
  {
   "cell_type": "markdown",
   "id": "3fd65a94-1714-478c-af68-bbfe1e38c766",
   "metadata": {},
   "source": [
    "#### Technosphere matrix data."
   ]
  },
  {
   "cell_type": "code",
   "execution_count": 53,
   "id": "adc4861f-9f85-43c3-bdf7-65d1a3b97196",
   "metadata": {},
   "outputs": [],
   "source": [
    "t_data = np.array([1, 1, 1, 237, 2.5])\n",
    "t_indices = np.array([\n",
    "    (101, 101), # production of natural gas\n",
    "    (102, 102), # production of carbon fibre\n",
    "    (103, 103), # production of bike\n",
    "    (101, 102), # input of natural gas\n",
    "    (102, 103), # input of carbon fibre\n",
    "    ], \n",
    "    dtype=bwp.INDICES_DTYPE\n",
    ")\n",
    "t_flip = np.array([False, False, False, True, True]) # Numerical sign of the inputs needs to be flipped negative"
   ]
  },
  {
   "cell_type": "markdown",
   "id": "e1c938fb-eef1-4ae2-9bee-c25676613758",
   "metadata": {},
   "source": [
    "And similarly for the other matrices (no need to flip signs, so we skip that part):"
   ]
  },
  {
   "cell_type": "markdown",
   "id": "b5160c8c-cee3-4d13-9122-940d3f4398e6",
   "metadata": {},
   "source": [
    "#### Biosphere matrox data"
   ]
  },
  {
   "cell_type": "code",
   "execution_count": 54,
   "id": "95a1bed0-2943-469d-99b5-8af5ab46519c",
   "metadata": {},
   "outputs": [],
   "source": [
    "b_data = np.array([26.6])\n",
    "b_indices = np.array([\n",
    "    (201, 102), # emission of CO2\n",
    "    ], \n",
    "    dtype=bwp.INDICES_DTYPE\n",
    ")"
   ]
  },
  {
   "cell_type": "markdown",
   "id": "f907d245-9573-4966-a443-a13d052db612",
   "metadata": {},
   "source": [
    "#### Characterization matrix"
   ]
  },
  {
   "cell_type": "code",
   "execution_count": 55,
   "id": "08e761b1-7bff-45b6-96c0-2f3c266bc7b3",
   "metadata": {},
   "outputs": [],
   "source": [
    "c_data = np.array([1])\n",
    "c_indices = np.array([\n",
    "    (201, 201), # CF of CO2\n",
    "    ], \n",
    "    dtype=bwp.INDICES_DTYPE\n",
    ")"
   ]
  },
  {
   "cell_type": "markdown",
   "id": "8a33a582-f56f-45dd-b79d-bb5194dc5fd8",
   "metadata": {},
   "source": [
    "We can now create our datapackage, and add the data for all three matrices to it:"
   ]
  },
  {
   "cell_type": "code",
   "execution_count": 56,
   "id": "8e8f2fd3-244d-48a5-a582-017f6f2301e4",
   "metadata": {},
   "outputs": [],
   "source": [
    "dp_static = bwp.create_datapackage()"
   ]
  },
  {
   "cell_type": "code",
   "execution_count": 57,
   "id": "936042c9-3171-46cb-8e69-590917c02cce",
   "metadata": {},
   "outputs": [],
   "source": [
    "dp_static.add_persistent_vector(\n",
    "    matrix='technosphere_matrix',\n",
    "    indices_array=t_indices,\n",
    "    data_array=t_data,\n",
    "    flip_array=t_flip,\n",
    ")\n",
    "dp_static.add_persistent_vector(\n",
    "    matrix='biosphere_matrix',\n",
    "    indices_array=b_indices,\n",
    "    data_array=b_data,\n",
    ")\n",
    "dp_static.add_persistent_vector(\n",
    "    matrix='characterization_matrix',\n",
    "    indices_array=c_indices,\n",
    "    data_array=c_data,\n",
    ")"
   ]
  },
  {
   "cell_type": "markdown",
   "id": "f8d09b81-ada8-422b-9615-840a7788703e",
   "metadata": {},
   "source": [
    "This is already enough to calculate an LCA score:"
   ]
  },
  {
   "cell_type": "code",
   "execution_count": 58,
   "id": "24422831-d589-4c42-905f-ac7a4a96c700",
   "metadata": {},
   "outputs": [
    {
     "data": {
      "text/plain": [
       "66.50000000000001"
      ]
     },
     "execution_count": 58,
     "metadata": {},
     "output_type": "execute_result"
    }
   ],
   "source": [
    "lca = bc.LCA(\n",
    "    demand={bike: 1},\n",
    "    data_objs=[dp_static],\n",
    ")\n",
    "lca.lci()\n",
    "lca.lcia()\n",
    "lca.score"
   ]
  },
  {
   "cell_type": "markdown",
   "id": "aeb44c49-0f61-4c42-9c4b-085701189d42",
   "metadata": {},
   "source": [
    "Same as before! Weee!"
   ]
  },
  {
   "cell_type": "markdown",
   "id": "e90399ea-ded5-422d-a706-bc6b743cb275",
   "metadata": {},
   "source": [
    "### A stochastic LCA\n",
    "\n",
    "This is pretty boring so far. The only marginally interesting thing is that we could put our datapackage on another computer, and do calculations on that computer - i.e. we are ready for cloud calculations. Indeed, the library `matrix_utils` allows us to specify datapackages on FTP sites and cloud storage such as Amazon S3.\n",
    "\n",
    "But we can make our example more interesting by adding uncertainty. To do this, we will use the standards in the [stats_arrays](https://stats-arrays.readthedocs.io/en/latest/) library.\n",
    "\n",
    "We will only add uncertainty to the inputs (check [here](https://2.docs.brightway.dev/intro.html#storing-uncertain-values) for further information about uncertainty and types, for example Weibull uncertainty is 8!), and the CO2 emission. The other edges will have uncertainty type zero - no uncertainty."
   ]
  },
  {
   "cell_type": "code",
   "execution_count": 59,
   "id": "a6734a12-fc4b-4cdc-8a5b-1b0fe6553605",
   "metadata": {},
   "outputs": [],
   "source": [
    "t_uncertainty = np.array([\n",
    "        (0, 1, np.NaN, np.NaN, np.NaN, np.NaN, False),\n",
    "        (0, 1, np.NaN, np.NaN, np.NaN, np.NaN, False),    \n",
    "        (0, 1, np.NaN, np.NaN, np.NaN, np.NaN, False),    \n",
    "        (5, 237, np.NaN, np.NaN, 200, 300, False), # triangular uncertainty from 200 to 300  \n",
    "        (5, 2.5, np.NaN, np.NaN, 2, 3, False), # triangular uncertainty from 2 to 3\n",
    "    ], \n",
    "    dtype=bwp.UNCERTAINTY_DTYPE\n",
    ")\n",
    "b_uncertainty = np.array([\n",
    "        (3, 26.6, 1.5, np.NaN, np.NaN, np.NaN, False), # normal uncertainty with std. dev. of 1.5\n",
    "    ], \n",
    "    dtype=bwp.UNCERTAINTY_DTYPE\n",
    ")"
   ]
  },
  {
   "cell_type": "code",
   "execution_count": 60,
   "id": "1b00c488-0794-4dbe-b350-d78f047fcff4",
   "metadata": {},
   "outputs": [
    {
     "name": "stdout",
     "output_type": "stream",
     "text": [
      "[('uncertainty_type', <class 'numpy.uint8'>), ('loc', <class 'numpy.float32'>), ('scale', <class 'numpy.float32'>), ('shape', <class 'numpy.float32'>), ('minimum', <class 'numpy.float32'>), ('maximum', <class 'numpy.float32'>), ('negative', <class 'bool'>)]\n"
     ]
    }
   ],
   "source": [
    "print(bwp.UNCERTAINTY_DTYPE )"
   ]
  },
  {
   "cell_type": "markdown",
   "id": "f2d8247b-5f98-4cb8-87db-2a3fc0bef0ff",
   "metadata": {},
   "source": [
    "We then will create another data package, and use it to do Monte Carlo:"
   ]
  },
  {
   "cell_type": "code",
   "execution_count": 61,
   "id": "dda7b257-b948-4de5-8af8-8b2c6187c681",
   "metadata": {},
   "outputs": [],
   "source": [
    "dp_stochastic = bwp.create_datapackage()"
   ]
  },
  {
   "cell_type": "code",
   "execution_count": 62,
   "id": "5ad3b6e4-ac7d-4ffc-a0b0-09f46010bf77",
   "metadata": {},
   "outputs": [],
   "source": [
    "dp_stochastic.add_persistent_vector(\n",
    "    matrix='technosphere_matrix',\n",
    "    indices_array=t_indices,\n",
    "    data_array=t_data,\n",
    "    flip_array=t_flip,\n",
    "    distributions_array=t_uncertainty,\n",
    ")\n",
    "dp_stochastic.add_persistent_vector(\n",
    "    matrix='biosphere_matrix',\n",
    "    indices_array=b_indices,\n",
    "    data_array=b_data,\n",
    "    distributions_array=b_uncertainty,\n",
    ")\n",
    "dp_stochastic.add_persistent_vector(\n",
    "    matrix='characterization_matrix',\n",
    "    indices_array=c_indices,\n",
    "    data_array=c_data,\n",
    ")"
   ]
  },
  {
   "cell_type": "code",
   "execution_count": 63,
   "id": "e4e273d6-7346-4902-9bdf-e88d0c50873e",
   "metadata": {},
   "outputs": [],
   "source": [
    "lca = bc.LCA(\n",
    "    demand={bike: 1},\n",
    "    data_objs=[dp_stochastic],\n",
    "    use_distributions=True,\n",
    ")\n",
    "lca.lci()\n",
    "lca.lcia()\n",
    "    \n",
    "mc_results_100 = np.array([lca.score for _ in zip(range(100), lca)])\n",
    "mc_results_1000 = np.array([lca.score for _ in zip(range(1000), lca)])\n",
    "mc_results_10000 = np.array([lca.score for _ in zip(range(10000), lca)])"
   ]
  },
  {
   "cell_type": "markdown",
   "id": "f53bf4f6-c50f-4f4e-8edb-1b84c2dde537",
   "metadata": {},
   "source": [
    "The original tutorial just plotted a Monte Carlo of 100 iterations, here I am comparing three. First I make a dataframe and then I plot it with seaborn."
   ]
  },
  {
   "cell_type": "code",
   "execution_count": 64,
   "id": "11071a16-4651-4d55-91f2-5b7e6682a0dd",
   "metadata": {},
   "outputs": [],
   "source": [
    "df = pd.DataFrame({'MC 100': pd.Series(mc_results_100),'MC 1000': pd.Series(mc_results_1000),'MC 10000': pd.Series(mc_results_10000)})"
   ]
  },
  {
   "cell_type": "code",
   "execution_count": 65,
   "id": "426d9d07-d108-474f-8465-152c08a55025",
   "metadata": {},
   "outputs": [],
   "source": [
    "dfm = df.melt(var_name='Simulation', value_name='Score')"
   ]
  },
  {
   "cell_type": "code",
   "execution_count": 66,
   "id": "a4291e9c-4a5c-4da4-b44f-175cef8fa1cd",
   "metadata": {},
   "outputs": [
    {
     "data": {
      "text/plain": [
       "<seaborn.axisgrid.FacetGrid at 0x7fedd2dc1790>"
      ]
     },
     "execution_count": 66,
     "metadata": {},
     "output_type": "execute_result"
    },
    {
     "data": {
      "image/png": "[encoded data removed]",
      "text/plain": [
       "<Figure size 1080x360 with 3 Axes>"
      ]
     },
     "metadata": {
      "needs_background": "light"
     },
     "output_type": "display_data"
    }
   ],
   "source": [
    "sb.displot(dfm, x='Score', col=\"Simulation\")"
   ]
  },
  {
   "cell_type": "code",
   "execution_count": 67,
   "id": "defca105-87ea-4836-9be1-daaaa29231e0",
   "metadata": {},
   "outputs": [
    {
     "data": {
      "text/plain": [
       "(66.11133576913376, 66.45187906257902, 66.48112993285093)"
      ]
     },
     "execution_count": 67,
     "metadata": {},
     "output_type": "execute_result"
    }
   ],
   "source": [
    "mc_results_100.mean(), mc_results_1000.mean(), mc_results_10000.mean()"
   ]
  },
  {
   "cell_type": "markdown",
   "id": "42c635ef-442f-47be-bbc5-b331ad2b51ed",
   "metadata": {},
   "source": [
    "### Correlating exchanges"
   ]
  },
  {
   "cell_type": "markdown",
   "id": "522b8671-32fb-4a74-bfd7-36a9d85da7e2",
   "metadata": {},
   "source": [
    "If we sample each exchange independently, we lose some of the logic of our product system. In our example system, the CO<sub>2</sub> should be tied directly to the natural gas consumption, but it isn't:"
   ]
  },
  {
   "cell_type": "code",
   "execution_count": 68,
   "id": "a5abc0e3-22ed-41a3-9e6b-0c7678df108c",
   "metadata": {},
   "outputs": [],
   "source": [
    "params = []\n",
    "\n",
    "for _ in range(100):\n",
    "    next(lca)\n",
    "    params.append({\n",
    "        'co2': lca.biosphere_matrix[lca.dicts.biosphere[co2], lca.dicts.activity[carbon_fibre]],\n",
    "        'ng': -1 * lca.technosphere_matrix[lca.dicts.product[natural_gas], lca.dicts.activity[carbon_fibre]],\n",
    "    })"
   ]
  },
  {
   "cell_type": "code",
   "execution_count": 69,
   "id": "5e50cffa-4213-4f7a-ab12-d08ed5da2791",
   "metadata": {},
   "outputs": [
    {
     "data": {
      "text/plain": [
       "<AxesSubplot:xlabel='ng', ylabel='co2'>"
      ]
     },
     "execution_count": 69,
     "metadata": {},
     "output_type": "execute_result"
    },
    {
     "data": {
      "image/png": "[encoded data removed]",
      "text/plain": [
       "<Figure size 432x288 with 1 Axes>"
      ]
     },
     "metadata": {
      "needs_background": "light"
     },
     "output_type": "display_data"
    }
   ],
   "source": [
    "sb.scatterplot(data=pd.DataFrame(params), x='ng', y='co2')"
   ]
  },
  {
   "cell_type": "markdown",
   "id": "95ef357d-882b-438d-a9ce-6374a87dbc8a",
   "metadata": {},
   "source": [
    "We fix this by drawing correlated samples ahead of time - this is the idea behind the `presamples` package, whose functionality is now integrated directly into Brightway. We will make up a model to illustrate how this would work; we can assume that (again, totally made up) 80% of the natural gas goes to energy, the ratio stays the same, but with a little bit of noise."
   ]
  },
  {
   "cell_type": "code",
   "execution_count": 70,
   "id": "85a97560-e836-42d5-971d-b93658e5a4aa",
   "metadata": {},
   "outputs": [],
   "source": [
    "ng_samples = np.random.triangular(200, 237, 300, size=100)\n",
    "co2_samples = 26.6 / 237 * ng_samples * np.random.normal(loc=1, scale=0.025, size=100)"
   ]
  },
  {
   "cell_type": "markdown",
   "id": "a8707785-d131-4829-bb5b-4ab56af6fbc8",
   "metadata": {},
   "source": [
    "We can now add another datapackage which will overwrite our previous values (but only where we tell it to). Note that we are now creating `arrays`, not `vectors`.\n",
    "\n",
    "We need to tell the datapackage that these two resources are correlated - otherwise there would be two RNGs used to samples them independently again. We can do this by either setting `sequential=True` (in which case they would start with column 0, then column 1, etc.), or by using the same RNG seed for both resources."
   ]
  },
  {
   "cell_type": "code",
   "execution_count": 71,
   "id": "09a8e227-92a4-45eb-b712-6dd1408e2cc2",
   "metadata": {},
   "outputs": [],
   "source": [
    "dp_correlated = bwp.create_datapackage(seed=42)"
   ]
  },
  {
   "cell_type": "code",
   "execution_count": 72,
   "id": "3fb49c10-5b70-4be6-b6bd-77b48cbf87c1",
   "metadata": {},
   "outputs": [],
   "source": [
    "dp_correlated.add_persistent_array(\n",
    "    matrix='technosphere_matrix',\n",
    "    indices_array=np.array([(101, 102)], dtype=bwp.INDICES_DTYPE),\n",
    "    data_array=ng_samples.reshape((1, -1)),\n",
    "    flip_array=np.array([True]) ,\n",
    ")\n",
    "dp_correlated.add_persistent_array(\n",
    "    matrix='biosphere_matrix',\n",
    "    indices_array=np.array([(201, 102)], dtype=bwp.INDICES_DTYPE),\n",
    "    data_array=co2_samples.reshape((1, -1)),\n",
    ")"
   ]
  },
  {
   "cell_type": "markdown",
   "id": "971e793b-8b36-4fc2-ae09-05c251ef7518",
   "metadata": {},
   "source": [
    "And now the use of our correlated samples reflects reality a lot better. Note that we just add the new datapackage after the original one, and set `use_arrays=True`:"
   ]
  },
  {
   "cell_type": "code",
   "execution_count": 73,
   "id": "7e68553c-fce5-4e9b-9a06-8f6387d1c1a7",
   "metadata": {},
   "outputs": [],
   "source": [
    "lca = bc.LCA(\n",
    "    demand={bike: 1},\n",
    "    data_objs=[dp_stochastic, dp_correlated],\n",
    "    use_distributions=True,\n",
    "    use_arrays=True,\n",
    ")\n",
    "lca.lci()\n",
    "lca.lcia()\n",
    "\n",
    "corr_params = []\n",
    "\n",
    "for _ in range(100):\n",
    "    next(lca)\n",
    "    corr_params.append({\n",
    "        'co2': lca.biosphere_matrix[lca.dicts.biosphere[co2], lca.dicts.activity[carbon_fibre]],\n",
    "        'ng': -1 * lca.technosphere_matrix[lca.dicts.product[natural_gas], lca.dicts.activity[carbon_fibre]],\n",
    "    })"
   ]
  },
  {
   "cell_type": "code",
   "execution_count": 74,
   "id": "60593b8f-ccc8-47ca-bea4-e11d3711320f",
   "metadata": {},
   "outputs": [
    {
     "data": {
      "text/plain": [
       "<AxesSubplot:xlabel='ng', ylabel='co2'>"
      ]
     },
     "execution_count": 74,
     "metadata": {},
     "output_type": "execute_result"
    },
    {
     "data": {
      "image/png": "[encoded data removed]",
      "text/plain": [
       "<Figure size 432x288 with 1 Axes>"
      ]
     },
     "metadata": {
      "needs_background": "light"
     },
     "output_type": "display_data"
    }
   ],
   "source": [
    "sb.scatterplot(data=pd.DataFrame(corr_params), x='ng', y='co2')"
   ]
  },
  {
   "cell_type": "markdown",
   "id": "1f448b2c-d5c3-4018-932e-5c013b0ccc5b",
   "metadata": {},
   "source": [
    "### Using arrays for scenarios\n",
    "\n"
   ]
  },
  {
   "cell_type": "markdown",
   "id": "b97efabe-d74d-4ff6-9151-90cdf365743a",
   "metadata": {},
   "source": [
    "In addition to correlated samples, we can use arrays for scenarios. Let's imagine two different possibilities: a lightweight bike with 1.5 kilograms of carbon fibre, and a technology platform that allows for efficient bike sharing making each bike functionally equivalent to two bikes (I know, I find this silly as well). If we treat these as separate possibilities, we have four scenarios in total.\n",
    "\n",
    "For this to work, we will need to create **two** new arrays, one for each choice, and then tell the software to do combinatorial sampling:"
   ]
  },
  {
   "cell_type": "code",
   "execution_count": 75,
   "id": "0d3796f9-9905-497a-b33a-afa175a981ce",
   "metadata": {},
   "outputs": [],
   "source": [
    "dp_scenarios = bwp.create_datapackage(combinatorial=True)"
   ]
  },
  {
   "cell_type": "code",
   "execution_count": 76,
   "id": "3b5b08f5-c457-49ba-b3d1-4750834347d2",
   "metadata": {},
   "outputs": [],
   "source": [
    "dp_scenarios.add_persistent_array(\n",
    "    matrix='technosphere_matrix',\n",
    "    indices_array=np.array([(102, 103)], dtype=bwp.INDICES_DTYPE),\n",
    "    data_array=np.array([(2.5, 1.5)]),\n",
    "    flip_array=np.array([True]),\n",
    "    name='cf scenario'\n",
    ")\n",
    "dp_scenarios.add_persistent_array(\n",
    "    matrix='technosphere_matrix',\n",
    "    indices_array=np.array([(103, 103)], dtype=bwp.INDICES_DTYPE),\n",
    "    data_array=np.array([(1, 2)]),\n",
    "    name='double bike'\n",
    ")"
   ]
  },
  {
   "cell_type": "code",
   "execution_count": 77,
   "id": "a8f80d02-dcc9-4727-94e9-23ae235e26d5",
   "metadata": {},
   "outputs": [],
   "source": [
    "scenario_mapping = {\n",
    "    (0, 0): \"Original\",\n",
    "    (0, 1): \"Each bike counts double\",\n",
    "    (1, 0): \"Lightweight\",\n",
    "    (1, 1): \"Lightweight & each bike counts double\",\n",
    "}"
   ]
  },
  {
   "cell_type": "code",
   "execution_count": 78,
   "id": "7bcfad98-c8fc-448d-968a-3d3aff4def46",
   "metadata": {},
   "outputs": [],
   "source": [
    "lca = bc.LCA(\n",
    "    demand={bike: 1},\n",
    "    data_objs=[dp_static, dp_scenarios],\n",
    "    use_arrays=True,\n",
    ")\n",
    "lca.lci()\n",
    "lca.lcia()"
   ]
  },
  {
   "cell_type": "code",
   "execution_count": 79,
   "id": "d3c68807-aec3-46a5-91b9-ef98fa6ec788",
   "metadata": {},
   "outputs": [],
   "source": [
    "resource_group = next(grp for grp in lca.technosphere_mm.groups if grp.label == 'double bike').indexer.indexer"
   ]
  },
  {
   "cell_type": "code",
   "execution_count": 80,
   "id": "ed7b2df7-b280-4956-8635-66de971949c0",
   "metadata": {},
   "outputs": [
    {
     "name": "stdout",
     "output_type": "stream",
     "text": [
      "66.50000000000001 Original\n",
      "33.25000000000001 Each bike counts double\n",
      "39.900000000000006 Lightweight\n",
      "19.950000000000003 Lightweight & each bike counts double\n"
     ]
    }
   ],
   "source": [
    "print(lca.score, scenario_mapping[resource_group.index])\n",
    "\n",
    "for scenario_result in lca:\n",
    "    print(lca.score, scenario_mapping[resource_group.index])"
   ]
  },
  {
   "cell_type": "markdown",
   "id": "b593144b-af51-4bbf-9986-64162a92f100",
   "metadata": {},
   "source": [
    "### Interfaces"
   ]
  },
  {
   "cell_type": "markdown",
   "id": "343ce139-e28e-4aac-9d82-9149de9c157f",
   "metadata": {},
   "source": [
    "We can add some electricity consumption to the bike manufacturing process, and demonstrate how an `Interface` should work. For our example interface, we can use the Danish company Energinet's [API for the 5 minute interval CO2 intensity of Danish electricity](https://www.energidataservice.dk/tso-electricity/co2emis):"
   ]
  },
  {
   "cell_type": "code",
   "execution_count": 86,
   "id": "0a6c3b23-78f4-4cd4-a989-d1ffc4a680b9",
   "metadata": {},
   "outputs": [],
   "source": [
    "import requests\n",
    "import ssl\n",
    "\n",
    "ssl._create_default_https_context = ssl._create_unverified_context\n",
    "\n",
    "class DenmarkCO2Interface:\n",
    "    size = (1,)\n",
    "\n",
    "    def __next__(self):\n",
    "        URL = 'https://api.energidataservice.dk/datastore_search?resource_id=co2emis&limit=1&sort=Minutes5UTC%20desc'\n",
    "        print(\"Querying energidataservice.dk API\")\n",
    "        result = requests.get(URL, verify=False).json()['result']['records'][0]['CO2Emission']\n",
    "        return np.array([result]) / 1000 # g to kg\n",
    "    \n",
    "    \n"
   ]
  },
  {
   "cell_type": "markdown",
   "id": "e766d938-933b-4b3d-8264-65919f845d9f",
   "metadata": {},
   "source": [
    "That was just the CO<sub>2</sub> intensity, we also need to add a node for electricity consumption. We will give it the ID `104`, and use 100 kilowatt hours (way too high, I know)."
   ]
  },
  {
   "cell_type": "code",
   "execution_count": 87,
   "id": "26fe5d7a-aae3-462a-bd96-1428fd4310c4",
   "metadata": {},
   "outputs": [],
   "source": [
    "dk_elec_dp = bwp.create_datapackage()"
   ]
  },
  {
   "cell_type": "code",
   "execution_count": 88,
   "id": "26fd3b34-f01b-4c7e-b86b-25fd526c2382",
   "metadata": {},
   "outputs": [],
   "source": [
    "dk_elec_dp.add_persistent_vector(\n",
    "    matrix='technosphere_matrix',\n",
    "    indices_array=np.array([\n",
    "            (104, 104), # production of electricity\n",
    "            (104, 103), # use of electricity in bike production\n",
    "        ], \n",
    "        dtype=bwp.INDICES_DTYPE\n",
    "    ),\n",
    "    data_array=np.array([1, 100]),\n",
    "    flip_array=np.array([False, True]),\n",
    ")"
   ]
  },
  {
   "cell_type": "markdown",
   "id": "bdd61232-b869-417a-a363-753310042b34",
   "metadata": {},
   "source": [
    "We can now add our interface. We are not adding `persistent` data, but `dynamic` data:"
   ]
  },
  {
   "cell_type": "code",
   "execution_count": 89,
   "id": "b4ffefe1-9010-440c-a7d5-efd9c08d221e",
   "metadata": {},
   "outputs": [],
   "source": [
    "dk_elec_dp.add_dynamic_vector(\n",
    "    matrix='biosphere_matrix',\n",
    "    interface=DenmarkCO2Interface(),\n",
    "    indices_array=np.array([(201, 104)], dtype=bwp.INDICES_DTYPE),\n",
    ")\n",
    "\n"
   ]
  },
  {
   "cell_type": "markdown",
   "id": "aeb9184b-9bcb-4a9d-a27d-9fe4331f0262",
   "metadata": {},
   "source": [
    "As before, we can just add the data packages together:"
   ]
  },
  {
   "cell_type": "code",
   "execution_count": 90,
   "id": "2e5bf05e-9c43-4df4-85da-8371bc17e93b",
   "metadata": {},
   "outputs": [
    {
     "name": "stdout",
     "output_type": "stream",
     "text": [
      "Querying energidataservice.dk API\n"
     ]
    },
    {
     "name": "stderr",
     "output_type": "stream",
     "text": [
      "/Users/mmendez/miniconda3/envs/bw25_rosetta/lib/python3.9/site-packages/urllib3/connectionpool.py:1045: InsecureRequestWarning: Unverified HTTPS request is being made to host 'api.energidataservice.dk'. Adding certificate verification is strongly advised. See: https://urllib3.readthedocs.io/en/1.26.x/advanced-usage.html#ssl-warnings\n",
      "  warnings.warn(\n"
     ]
    },
    {
     "data": {
      "text/plain": [
       "75.90000000000002"
      ]
     },
     "execution_count": 90,
     "metadata": {},
     "output_type": "execute_result"
    }
   ],
   "source": [
    "lca = bc.LCA(\n",
    "    demand={bike: 1},\n",
    "    data_objs=[dp_static, dk_elec_dp],\n",
    ")\n",
    "lca.lci()\n",
    "lca.lcia()\n",
    "lca.score"
   ]
  },
  {
   "cell_type": "markdown",
   "id": "1a6d56f6-7922-49ad-90a7-403956bcff00",
   "metadata": {},
   "source": [
    "This is the value we got for CO2 intensity (in kg CO2-eq/kwh):"
   ]
  },
  {
   "cell_type": "code",
   "execution_count": 91,
   "id": "2adb2992-7f30-4482-a8c5-5f2e59cf33c4",
   "metadata": {},
   "outputs": [
    {
     "data": {
      "text/plain": [
       "0.094"
      ]
     },
     "execution_count": 91,
     "metadata": {},
     "output_type": "execute_result"
    }
   ],
   "source": [
    "lca.biosphere_matrix[0, lca.dicts.activity[104]]"
   ]
  },
  {
   "cell_type": "markdown",
   "id": "4f6bbef0-66c7-4840-8654-2ac24a267743",
   "metadata": {},
   "source": [
    "Other countries also have similar APIs, for example France:"
   ]
  },
  {
   "cell_type": "code",
   "execution_count": 94,
   "id": "33eff5b3-8002-45d3-8ab9-2c036ec9a839",
   "metadata": {},
   "outputs": [],
   "source": [
    "from time import time\n",
    "import xml.etree.ElementTree as ET\n",
    "\n",
    "class FranceCO2Interface:\n",
    "    size = (1,)\n",
    "    \n",
    "    def __next__(self):\n",
    "        # Note: has timestamp but seems to always give latest data\n",
    "        URL_TEMPLATE = \"https://www.rte-france.com/themes/swi/xml/power-co2-emission-fr.xml?_={}\"\n",
    "        print(\"Querying RTE Eco2mix interface\")\n",
    "        URL = URL_TEMPLATE.format(int(time()))\n",
    "        resp = requests.get(URL, verify=False)\n",
    "        root = ET.fromstring(resp.text)\n",
    "        return np.array([[float(child.text) for child in root.iter('valeur')][-1]]) / 1000 # g to kg"
   ]
  },
  {
   "cell_type": "code",
   "execution_count": 95,
   "id": "4d8c76f8-58a2-4ee6-8e60-d8e4c217427a",
   "metadata": {},
   "outputs": [],
   "source": [
    "fr_elec_dp = bwp.create_datapackage()\n",
    "\n",
    "fr_elec_dp.add_persistent_vector(\n",
    "    matrix='technosphere_matrix',\n",
    "    indices_array=np.array([\n",
    "            (104, 104), # production of electricity\n",
    "            (104, 103), # use of electricity in bike production\n",
    "        ], \n",
    "        dtype=bwp.INDICES_DTYPE\n",
    "    ),\n",
    "    data_array=np.array([1, 100]),\n",
    "    flip_array=np.array([False, True]),\n",
    ")\n",
    "\n",
    "fr_elec_dp.add_dynamic_vector(\n",
    "    matrix='biosphere_matrix',\n",
    "    interface=FranceCO2Interface(),\n",
    "    indices_array=np.array([(201, 104)], dtype=bwp.INDICES_DTYPE),\n",
    ")"
   ]
  },
  {
   "cell_type": "markdown",
   "id": "095fabf0-b000-470e-89b0-5e6164d7c66c",
   "metadata": {},
   "source": [
    "As before, we can just add the data packages together:"
   ]
  },
  {
   "cell_type": "code",
   "execution_count": 96,
   "id": "6c2ec9ad-9aca-4544-a1ab-e88201e6496b",
   "metadata": {},
   "outputs": [
    {
     "name": "stdout",
     "output_type": "stream",
     "text": [
      "Querying RTE Eco2mix interface\n"
     ]
    },
    {
     "name": "stderr",
     "output_type": "stream",
     "text": [
      "/Users/mmendez/miniconda3/envs/bw25_rosetta/lib/python3.9/site-packages/urllib3/connectionpool.py:1045: InsecureRequestWarning: Unverified HTTPS request is being made to host 'www.rte-france.com'. Adding certificate verification is strongly advised. See: https://urllib3.readthedocs.io/en/1.26.x/advanced-usage.html#ssl-warnings\n",
      "  warnings.warn(\n"
     ]
    },
    {
     "data": {
      "text/plain": [
       "71.40000000000002"
      ]
     },
     "execution_count": 96,
     "metadata": {},
     "output_type": "execute_result"
    }
   ],
   "source": [
    "lca = bc.LCA(\n",
    "    demand={bike: 1},\n",
    "    data_objs=[dp_static, fr_elec_dp],\n",
    ")\n",
    "lca.lci()\n",
    "lca.lcia()\n",
    "lca.score"
   ]
  },
  {
   "cell_type": "markdown",
   "id": "df8ad584-b0fd-4e57-a9d3-52eeb7af6ea0",
   "metadata": {},
   "source": [
    "This is the value we got for CO2 intensity (in kg CO2-eq/kwh):"
   ]
  },
  {
   "cell_type": "code",
   "execution_count": 97,
   "id": "a2198b19-bce3-439a-8159-3a37a2517b85",
   "metadata": {},
   "outputs": [
    {
     "data": {
      "text/plain": [
       "0.049"
      ]
     },
     "execution_count": 97,
     "metadata": {},
     "output_type": "execute_result"
    }
   ],
   "source": [
    "lca.biosphere_matrix[0, lca.dicts.activity[104]]"
   ]
  },
  {
   "cell_type": "code",
   "execution_count": null,
   "id": "4b351b35-4ec6-4136-9d10-612b288f185f",
   "metadata": {},
   "outputs": [],
   "source": []
  }
 ],
 "metadata": {
  "kernelspec": {
   "display_name": "bw25_rosetta",
   "language": "python",
   "name": "bw25_rosetta"
  },
  "language_info": {
   "codemirror_mode": {
    "name": "ipython",
    "version": 3
   },
   "file_extension": ".py",
   "mimetype": "text/x-python",
   "name": "python",
   "nbconvert_exporter": "python",
   "pygments_lexer": "ipython3",
   "version": "3.9.12"
  }
 },
 "nbformat": 4,
 "nbformat_minor": 5
}

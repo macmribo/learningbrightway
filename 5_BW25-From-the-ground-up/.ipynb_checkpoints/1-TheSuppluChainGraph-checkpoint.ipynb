{
 "cells": [
  {
   "cell_type": "markdown",
   "id": "a403b028-0d07-4e18-972a-1ec2c54284cd",
   "metadata": {},
   "source": [
    "# 1 &emsp; The Supply Chain Graph "
   ]
  },
  {
   "cell_type": "markdown",
   "id": "fef641f7-5347-436f-a69b-09cf1e60f95e",
   "metadata": {},
   "source": [
    "These set of tutorials follow the same tutorial made by [tngTUDOR](https://github.com/brightway-lca/from-the-ground-up). Teaching material for Brightway2.5, starting from the foundations. A different approach from the existing teaching material which describes how Bightway works, with a focus on why Brightway does what it does. These notebooks are designed to be used in class, so do not contain a ton of instruction."
   ]
  },
  {
   "cell_type": "code",
   "execution_count": 1,
   "id": "58b2d734-4838-4695-aac4-ce69e5d4528b",
   "metadata": {},
   "outputs": [],
   "source": [
    "import bw2data as bd"
   ]
  },
  {
   "cell_type": "markdown",
   "id": "ef418fce-9f26-46d4-aec7-03127835b098",
   "metadata": {},
   "source": [
    "About bw2data: The first thing to learn about `bw2data` is the concept of projects. Each project is self-contained, and independent of other projects. Each has its own subdirectory. This can lead to data duplication, but helps keep each project safe from the changes in the others.\n",
    "\n",
    "We start in the `default` project:"
   ]
  },
  {
   "cell_type": "code",
   "execution_count": 2,
   "id": "e81779f6-1edc-45ac-8ecb-3ab18e57b376",
   "metadata": {},
   "outputs": [
    {
     "data": {
      "text/plain": [
       "'default'"
      ]
     },
     "execution_count": 2,
     "metadata": {},
     "output_type": "execute_result"
    }
   ],
   "source": [
    "bd.projects.current"
   ]
  },
  {
   "cell_type": "markdown",
   "id": "6e5341f4-6662-4354-a7ab-c90bbf159eef",
   "metadata": {},
   "source": [
    "With directory:"
   ]
  },
  {
   "cell_type": "code",
   "execution_count": 3,
   "id": "dfdee942-50fa-4b1f-91ec-b5b8bc3bc016",
   "metadata": {},
   "outputs": [
    {
     "data": {
      "text/plain": [
       "PosixPath('/Users/mmendez/Library/Application Support/Brightway3/default.c21f969b5f03d33d43e04f8f136e7682')"
      ]
     },
     "execution_count": 3,
     "metadata": {},
     "output_type": "execute_result"
    }
   ],
   "source": [
    "bd.projects.dir"
   ]
  },
  {
   "cell_type": "markdown",
   "id": "06d572eb-ef2b-4bcc-95b8-c5f882d92be2",
   "metadata": {},
   "source": [
    "Make it easy to reset this project:"
   ]
  },
  {
   "cell_type": "code",
   "execution_count": 4,
   "id": "d446c02a-1aeb-4102-a20e-82daae890268",
   "metadata": {},
   "outputs": [],
   "source": [
    "try:\n",
    "    bd.projects.delete_project(\"supply chain graph\", True)\n",
    "except ValueError:\n",
    "    pass"
   ]
  },
  {
   "cell_type": "markdown",
   "id": "91b8d903-7fda-45c0-bb70-3d3f06102c68",
   "metadata": {},
   "source": [
    "Let's create a new project:"
   ]
  },
  {
   "cell_type": "code",
   "execution_count": 21,
   "id": "bfc9c00d-bf05-4eb6-973c-8d5e145ab50b",
   "metadata": {},
   "outputs": [
    {
     "data": {
      "text/plain": [
       "'1 Supply Chain Graph'"
      ]
     },
     "execution_count": 21,
     "metadata": {},
     "output_type": "execute_result"
    }
   ],
   "source": [
    "bd.projects.set_current('1 Supply Chain Graph')\n",
    "bd.projects.current"
   ]
  },
  {
   "cell_type": "markdown",
   "id": "b6f60aee-7a11-4bb7-a19d-eaf610232052",
   "metadata": {},
   "source": [
    "A graph can have nodes of any type, but for the purposes of LCA it is convenient to separate activity nodes, product nodes, elementary flow nodes, and characterization nodes. We will also use a shortcut (for now) and assume that each activity produces exactly one product, so we can collapse activity and products nodes into a single node.\n",
    "\n",
    "Let's think about a simple product system - a bike. Here is a graph:\n",
    "\n",
    "<img src='images/simple-graph.png' width='400'>"
   ]
  },
  {
   "cell_type": "markdown",
   "id": "50ab6fb7-5b4b-4c97-9f46-5554adf715fa",
   "metadata": {},
   "source": [
    "To enter this data into BW, we need to create the nodes, and then the edges. We will create these nodes in a `Database`. A database in BW is just a collection of nodes - it can be large or small, there aren't any general rules."
   ]
  },
  {
   "cell_type": "code",
   "execution_count": 6,
   "id": "ec41ad15-8f4f-4d7b-b858-ce91ee857788",
   "metadata": {},
   "outputs": [],
   "source": [
    "db = bd.Database('bike')\n",
    "db.register() # Let the metadata system know this database exists. Not necessary if using a `bw2io` importer."
   ]
  },
  {
   "cell_type": "markdown",
   "id": "4ebf40da-cd52-4e1f-b236-c6d0789c313c",
   "metadata": {},
   "source": [
    "Our first node. We specify some additional data to make it easier to find or use this node later on."
   ]
  },
  {
   "cell_type": "code",
   "execution_count": 7,
   "id": "f1a75b92-0b9d-42f5-91a5-e2f941270277",
   "metadata": {},
   "outputs": [],
   "source": [
    "data = {\n",
    "    'code': 'bike',\n",
    "    'name': 'bike production',\n",
    "    'location': 'DK',\n",
    "    'unit': 'bike',\n",
    "}\n",
    "\n",
    "bike = db.new_node(**data)  # Here I needed to upgrade bw2data using conda upgrade bw2data\n",
    "bike.save()"
   ]
  },
  {
   "cell_type": "code",
   "execution_count": 8,
   "id": "cb7d1708-2fe7-4d95-88d5-860ca56a336d",
   "metadata": {},
   "outputs": [],
   "source": [
    "data = {\n",
    "    'code': 'ng',\n",
    "    'name': 'natural gas production',\n",
    "    'location': 'NO',\n",
    "    'unit': 'MJ'\n",
    "}\n",
    "\n",
    "ng = db.new_node(**data)\n",
    "ng.save()"
   ]
  },
  {
   "cell_type": "code",
   "execution_count": 9,
   "id": "2944c380-dad7-4904-bb0a-7d298a1b9757",
   "metadata": {},
   "outputs": [],
   "source": [
    "data = {\n",
    "    'code': 'cf',\n",
    "    'name': 'carbon fibre production',\n",
    "    'location': 'DE',\n",
    "    'unit': 'kg'\n",
    "}\n",
    "\n",
    "cf = db.new_node(**data)\n",
    "cf.save()"
   ]
  },
  {
   "cell_type": "markdown",
   "id": "468347bd-a155-4865-9f5c-8f77366fb541",
   "metadata": {},
   "source": [
    "We can also define nodes like this. Note that this node has a `type`."
   ]
  },
  {
   "cell_type": "code",
   "execution_count": 10,
   "id": "d6e58f3b-7ff3-4558-bee1-e1314dd052e8",
   "metadata": {},
   "outputs": [],
   "source": [
    "co2 = db.new_node(\n",
    "    code='co2', \n",
    "    name=\"Carbon Dioxide\", \n",
    "    categories=('air',),\n",
    "    type='emission',\n",
    "    unit='kg'\n",
    ")\n",
    "\n",
    "co2.save()"
   ]
  },
  {
   "cell_type": "markdown",
   "id": "6dfc1f66-c0f7-40fc-9b1e-0afd4a2a011d",
   "metadata": {},
   "source": [
    "We also need to create edges between the nodes. We can do this in many ways here is one:"
   ]
  },
  {
   "cell_type": "code",
   "execution_count": 11,
   "id": "53b1b95a-8b4c-4e80-935b-deb97a022818",
   "metadata": {},
   "outputs": [],
   "source": [
    "bike.new_edge(\n",
    "    amount=2.5, \n",
    "    type='technosphere',\n",
    "    input=cf\n",
    ").save()"
   ]
  },
  {
   "cell_type": "markdown",
   "id": "42821d9b-b510-47c3-bb55-24540c5ac0c6",
   "metadata": {},
   "source": [
    "What about some uncertainty? We use [stats_arrays](https://stats-arrays.readthedocs.io/en/latest/) to model probability distribution functions."
   ]
  },
  {
   "cell_type": "code",
   "execution_count": 12,
   "id": "67c190e3-5c59-4216-bf32-425399b84289",
   "metadata": {},
   "outputs": [],
   "source": [
    "cf.new_edge(\n",
    "    amount=237.3,  # plus 58 kWh of electricity, in ecoinvent 3.8 \n",
    "    uncertainty_type=5, \n",
    "    minimum=200, \n",
    "    maximum=300, \n",
    "    type='technosphere',\n",
    "    input=ng,\n",
    ").save()"
   ]
  },
  {
   "cell_type": "code",
   "execution_count": 13,
   "id": "f8f190df-5e1e-45a5-a3fa-b4b3ded4217d",
   "metadata": {},
   "outputs": [],
   "source": [
    "cf.new_edge(\n",
    "    amount=26.6, \n",
    "    uncertainty_type=5, \n",
    "    minimum=26,\n",
    "    maximum=27.2, \n",
    "    type='biosphere',\n",
    "    input=co2,\n",
    ").save()"
   ]
  },
  {
   "cell_type": "markdown",
   "id": "06871293-6f2a-48df-8d42-adf85b4ce503",
   "metadata": {},
   "source": [
    "Brightway will assume that the a `production` exchange of amount 1 in each node unless you tell it otherwise.\n",
    "\n",
    "To define characterization nodes and edges, we use a difference data structure:\n"
   ]
  },
  {
   "cell_type": "code",
   "execution_count": 28,
   "id": "e50c2ceb-786f-4ab2-81ce-7e3f4324b0e8",
   "metadata": {},
   "outputs": [],
   "source": [
    "ipcc = bd.Method(('IPCC',))\n",
    "ipcc.write([\n",
    "    (co2.key, {'amount': 1, 'uncertainty_type': 3, 'loc': 1, 'scale': 0.05}),\n",
    "])"
   ]
  },
  {
   "cell_type": "markdown",
   "id": "9a324582-5fea-4e60-b1e7-eaf6e20390b4",
   "metadata": {},
   "source": [
    "This is already enough to do an LCA. Let's check what our answer should be. Without uncertainty, to make one bike we need 2.5 kg of carbon fibre, and carbon fibre produces 26.6 kg CO<sub>2</sub> per kg of carbon fibre, so we are looking for around 60 kg CO<sub>2</sub>-eq, or more precisely we need 26.6x2.5= 66.5 kg CO<sub>2</sub>-eq."
   ]
  },
  {
   "cell_type": "markdown",
   "id": "22a9314b-76d6-464d-9638-40727e7a2713",
   "metadata": {},
   "source": [
    "Let's load the calculation module `bw2calc` to run some calculations"
   ]
  },
  {
   "cell_type": "code",
   "execution_count": null,
   "id": "6d4ec975-ee06-4291-996c-49d1e7c387a8",
   "metadata": {},
   "outputs": [],
   "source": []
  }
 ],
 "metadata": {
  "kernelspec": {
   "display_name": "bw25_rosetta",
   "language": "python",
   "name": "bw25_rosetta"
  },
  "language_info": {
   "codemirror_mode": {
    "name": "ipython",
    "version": 3
   },
   "file_extension": ".py",
   "mimetype": "text/x-python",
   "name": "python",
   "nbconvert_exporter": "python",
   "pygments_lexer": "ipython3",
   "version": "3.9.12"
  }
 },
 "nbformat": 4,
 "nbformat_minor": 5
}

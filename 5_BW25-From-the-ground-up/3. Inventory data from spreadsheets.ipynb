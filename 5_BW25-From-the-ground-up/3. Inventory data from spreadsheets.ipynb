{
 "cells": [
  {
   "cell_type": "markdown",
   "id": "6c777480-009f-410a-bb82-d0b00c24c64d",
   "metadata": {},
   "source": [
    "# 3. &emsp; Inventory data from spreadsheets"
   ]
  },
  {
   "cell_type": "markdown",
   "id": "991ba59c-747e-40ab-a527-b526bdb5b486",
   "metadata": {},
   "source": [
    "#### Setup new project"
   ]
  },
  {
   "cell_type": "code",
   "execution_count": 1,
   "id": "dbea8faa-14d1-45d8-b183-8047bb7e7387",
   "metadata": {},
   "outputs": [],
   "source": [
    "import bw2data as bd\n",
    "import bw2io as bi\n",
    "import bw2calc as bc"
   ]
  },
  {
   "cell_type": "code",
   "execution_count": 4,
   "id": "7793894e-8296-4b08-8572-90ea8e76c514",
   "metadata": {},
   "outputs": [],
   "source": [
    "bd.projects.set_current('FGU-3-Inventory')"
   ]
  },
  {
   "cell_type": "code",
   "execution_count": 5,
   "id": "e259c6c1-0989-47bb-8387-d85c4f564987",
   "metadata": {},
   "outputs": [],
   "source": [
    "bi.create_core_migrations()"
   ]
  },
  {
   "cell_type": "code",
   "execution_count": 6,
   "id": "c86f4338-38af-419e-9601-06922b601491",
   "metadata": {},
   "outputs": [
    {
     "name": "stdout",
     "output_type": "stream",
     "text": [
      "Extracted 1 worksheets in 0.02 seconds\n"
     ]
    }
   ],
   "source": [
    "xl_importer = bi.ExcelImporter('lci-bike.xlsx')"
   ]
  },
  {
   "cell_type": "code",
   "execution_count": 7,
   "id": "6f22c4ba-1b17-46a3-bd4b-e743d9c4d880",
   "metadata": {},
   "outputs": [
    {
     "name": "stdout",
     "output_type": "stream",
     "text": [
      "Applying strategy: csv_restore_tuples\n",
      "Applying strategy: csv_restore_booleans\n",
      "Applying strategy: csv_numerize\n",
      "Applying strategy: csv_drop_unknown\n",
      "Applying strategy: csv_add_missing_exchanges_section\n",
      "Applying strategy: normalize_units\n",
      "Applying strategy: normalize_biosphere_categories\n",
      "Applying strategy: normalize_biosphere_names\n",
      "Applying strategy: strip_biosphere_exc_locations\n",
      "Applying strategy: set_code_by_activity_hash\n",
      "Applying strategy: link_iterable_by_fields\n",
      "Applying strategy: assign_only_product_as_production\n",
      "Applying strategy: link_technosphere_by_activity_hash\n",
      "Applying strategy: drop_falsey_uncertainty_fields_but_keep_zeros\n",
      "Applying strategy: convert_uncertainty_types_to_integers\n",
      "Applying strategy: convert_activity_parameters_to_list\n",
      "Applied 16 strategies in 0.02 seconds\n"
     ]
    }
   ],
   "source": [
    "xl_importer.apply_strategies()"
   ]
  },
  {
   "cell_type": "code",
   "execution_count": 8,
   "id": "8d3cc830-5211-4f2d-b564-b73f7e4825a6",
   "metadata": {},
   "outputs": [
    {
     "name": "stdout",
     "output_type": "stream",
     "text": [
      "4 datasets\n",
      "3 exchanges\n",
      "1 unlinked exchanges\n",
      "  Type biosphere: 1 unique unlinked exchanges\n"
     ]
    },
    {
     "data": {
      "text/plain": [
       "(4, 3, 1)"
      ]
     },
     "execution_count": 8,
     "metadata": {},
     "output_type": "execute_result"
    }
   ],
   "source": [
    "xl_importer.statistics()"
   ]
  },
  {
   "cell_type": "code",
   "execution_count": 9,
   "id": "6d5eb20e-f2e3-4763-9f16-1b24faeca49b",
   "metadata": {},
   "outputs": [
    {
     "name": "stdout",
     "output_type": "stream",
     "text": [
      "{'name': 'Carbon Dioxide', 'amount': 26.6, 'unit': 'kilogram', 'categories': ('air',), 'type': 'biosphere', 'minimum': 26, 'maximum': 27.2, 'uncertainty_type': 5}\n"
     ]
    }
   ],
   "source": [
    "for obj in xl_importer.unlinked:\n",
    "    print(obj)"
   ]
  },
  {
   "cell_type": "code",
   "execution_count": 10,
   "id": "c80bff49-223b-4fef-8476-2af64fd851e3",
   "metadata": {},
   "outputs": [
    {
     "name": "stdout",
     "output_type": "stream",
     "text": [
      "Applying strategy: link_iterable_by_fields\n",
      "4 datasets\n",
      "3 exchanges\n",
      "0 unlinked exchanges\n",
      "  \n"
     ]
    },
    {
     "data": {
      "text/plain": [
       "(4, 3, 0)"
      ]
     },
     "execution_count": 10,
     "metadata": {},
     "output_type": "execute_result"
    }
   ],
   "source": [
    "xl_importer.match_database(fields=['name'])\n",
    "xl_importer.statistics()"
   ]
  },
  {
   "cell_type": "code",
   "execution_count": 11,
   "id": "392950e9-1c6f-408c-8daf-d625c7317c38",
   "metadata": {},
   "outputs": [
    {
     "name": "stderr",
     "output_type": "stream",
     "text": [
      "Writing activities to SQLite3 database:\n",
      "0% [####] 100% | ETA: 00:00:00\n",
      "Total time elapsed: 00:00:00\n"
     ]
    },
    {
     "name": "stdout",
     "output_type": "stream",
     "text": [
      "Title: Writing activities to SQLite3 database:\n",
      "  Started: 08/10/2022 16:02:15\n",
      "  Finished: 08/10/2022 16:02:15\n",
      "  Total time elapsed: 00:00:00\n",
      "  CPU %: 2.60\n",
      "  Memory %: 1.75\n",
      "Created database: bike\n"
     ]
    }
   ],
   "source": [
    "xl_importer.write_database()"
   ]
  },
  {
   "cell_type": "code",
   "execution_count": 13,
   "id": "c3e2ec24-1ce5-41c3-ac57-c9198e20f11a",
   "metadata": {},
   "outputs": [
    {
     "data": {
      "text/plain": [
       "Databases dictionary with 1 object(s):\n",
       "\tbike"
      ]
     },
     "execution_count": 13,
     "metadata": {},
     "output_type": "execute_result"
    }
   ],
   "source": [
    "bd.databases"
   ]
  },
  {
   "cell_type": "markdown",
   "id": "6de3cf66-1730-436a-ba66-9a4163b24d4f",
   "metadata": {},
   "source": [
    "To do: Figure out how to play around and extract data properly"
   ]
  },
  {
   "cell_type": "code",
   "execution_count": null,
   "id": "7010deb4-f817-4645-90b8-7ccb15c6dd43",
   "metadata": {},
   "outputs": [],
   "source": []
  }
 ],
 "metadata": {
  "kernelspec": {
   "display_name": "bw25_rosetta",
   "language": "python",
   "name": "bw25_rosetta"
  },
  "language_info": {
   "codemirror_mode": {
    "name": "ipython",
    "version": 3
   },
   "file_extension": ".py",
   "mimetype": "text/x-python",
   "name": "python",
   "nbconvert_exporter": "python",
   "pygments_lexer": "ipython3",
   "version": "3.9.12"
  }
 },
 "nbformat": 4,
 "nbformat_minor": 5
}

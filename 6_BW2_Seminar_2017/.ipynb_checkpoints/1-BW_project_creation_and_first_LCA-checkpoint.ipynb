{
 "cells": [
  {
   "cell_type": "markdown",
   "id": "ed024ca7-f753-4851-b6a2-0f34ef71ef6b",
   "metadata": {},
   "source": [
    "# Brightway 2 - From Project creation to LCA"
   ]
  },
  {
   "cell_type": "markdown",
   "id": "c57279e9-0451-4d59-ae3d-080ef51bf4e0",
   "metadata": {},
   "source": [
    "These series of notebooks replicate those from [Brightway Seminar 2017 by Chris Mutel and Pascal Lesage](https://github.com/PoutineAndRosti/Brightway-Seminar-2017). Please go there for a full experience. This one is a more 'in a nutshell' version."
   ]
  },
  {
   "cell_type": "markdown",
   "id": "5e8b8915-42d9-4ff0-8636-3eb420df4458",
   "metadata": {},
   "source": [
    "### 1 Project creation"
   ]
  },
  {
   "cell_type": "markdown",
   "id": "b178caee-fec4-4752-972a-6c357fb2a5a1",
   "metadata": {},
   "source": [
    "Import relevant packages. There are two ways to import Brightway2, `import brightway2 as bw` or, `from brightway2 import *`. The latter allows you to work without the `bw.` caller."
   ]
  },
  {
   "cell_type": "code",
   "execution_count": 3,
   "id": "cefb6b8c-9588-41d7-9c49-d1df71d95e9f",
   "metadata": {},
   "outputs": [],
   "source": [
    "import brightway2 as bw"
   ]
  },
  {
   "cell_type": "code",
   "execution_count": 4,
   "id": "9809d939-2abe-43f1-8f9c-8f0246519e07",
   "metadata": {},
   "outputs": [],
   "source": [
    "import os               # to use \"operating system dependent functionality\"\n",
    "import numpy as np      # \"the fundamental package for scientific computing with Python\"\n",
    "import pandas as pd     # \"high-performance, easy-to-use data structures and data analysis tools\" for Python"
   ]
  },
  {
   "cell_type": "markdown",
   "id": "c46ced81-84c4-470f-96ba-2166236ecd55",
   "metadata": {},
   "source": [
    "Check project directory, current project, list projects and create/set a project folder, respectively:"
   ]
  },
  {
   "cell_type": "code",
   "execution_count": 5,
   "id": "f7a3eae5-d540-4c6d-9f05-d39b9d778eeb",
   "metadata": {},
   "outputs": [
    {
     "data": {
      "text/plain": [
       "'/Users/mmendez/Library/Application Support/Brightway3/default.c21f969b5f03d33d43e04f8f136e7682'"
      ]
     },
     "execution_count": 5,
     "metadata": {},
     "output_type": "execute_result"
    }
   ],
   "source": [
    "bw.projects.dir"
   ]
  },
  {
   "cell_type": "code",
   "execution_count": 6,
   "id": "be790b8b-a613-49f3-85ac-74d55228b767",
   "metadata": {},
   "outputs": [
    {
     "data": {
      "text/plain": [
       "'default'"
      ]
     },
     "execution_count": 6,
     "metadata": {},
     "output_type": "execute_result"
    }
   ],
   "source": [
    "bw.projects.current"
   ]
  },
  {
   "cell_type": "code",
   "execution_count": 7,
   "id": "20bf11b1-c0b8-46d0-bd81-2f77a732c06b",
   "metadata": {},
   "outputs": [],
   "source": [
    "bw.projects.report();"
   ]
  },
  {
   "cell_type": "code",
   "execution_count": 8,
   "id": "bb47a43b-8bd7-41b8-a725-426667f11869",
   "metadata": {},
   "outputs": [],
   "source": [
    "bw.projects.set_current('MW_1')"
   ]
  },
  {
   "cell_type": "markdown",
   "id": "89f12526-2067-46ce-b21e-77e8cd900333",
   "metadata": {},
   "source": [
    "Setup biosphere and LCIA methods with `bw2setup()`."
   ]
  },
  {
   "cell_type": "code",
   "execution_count": 9,
   "id": "8d9daf06-e737-49a3-94fd-10bb5a1605ac",
   "metadata": {},
   "outputs": [
    {
     "name": "stdout",
     "output_type": "stream",
     "text": [
      "Biosphere database already present!!! No setup is needed\n"
     ]
    }
   ],
   "source": [
    "bw.bw2setup()"
   ]
  },
  {
   "cell_type": "code",
   "execution_count": 10,
   "id": "e3a8d7a9-a14f-4171-b019-c2c4cad2ba57",
   "metadata": {},
   "outputs": [
    {
     "data": {
      "text/plain": [
       "Databases dictionary with 2 object(s):\n",
       "\tbiosphere3\n",
       "\tforwast"
      ]
     },
     "execution_count": 10,
     "metadata": {},
     "output_type": "execute_result"
    }
   ],
   "source": [
    "bw.databases"
   ]
  },
  {
   "cell_type": "code",
   "execution_count": 11,
   "id": "d8991517-42ef-4482-a579-9898722412b6",
   "metadata": {},
   "outputs": [
    {
     "data": {
      "text/plain": [
       "Brightway2 SQLiteBackend: biosphere3"
      ]
     },
     "execution_count": 11,
     "metadata": {},
     "output_type": "execute_result"
    }
   ],
   "source": [
    "bw.Database('biosphere3')"
   ]
  },
  {
   "cell_type": "markdown",
   "id": "e9f53e58-08c7-4c52-a9ff-4c2115a816aa",
   "metadata": {},
   "source": [
    "### 2 Extracting and searching activities and exchanges"
   ]
  },
  {
   "cell_type": "markdown",
   "id": "ae954974-8ee9-4da3-b8f2-d978c39dc378",
   "metadata": {},
   "source": [
    "Here you can see all the methods you can call on the bw object:"
   ]
  },
  {
   "cell_type": "code",
   "execution_count": 12,
   "id": "2d7890ae-fc68-4909-913c-38bc85f4a852",
   "metadata": {},
   "outputs": [],
   "source": [
    "dir(bw);"
   ]
  },
  {
   "cell_type": "markdown",
   "id": "55a0b780-12e6-4080-a964-8a62c298faab",
   "metadata": {},
   "source": [
    "Let's assign the database to a variable:"
   ]
  },
  {
   "cell_type": "code",
   "execution_count": 13,
   "id": "ebd8b071-6deb-466f-9c14-3ebd89a3b0cb",
   "metadata": {},
   "outputs": [],
   "source": [
    "my_bio = bw.Database('biosphere3')"
   ]
  },
  {
   "cell_type": "code",
   "execution_count": 14,
   "id": "37342cf0-1d2f-4a61-8ac2-5c3f369e55a2",
   "metadata": {},
   "outputs": [
    {
     "data": {
      "text/plain": [
       "bw2data.backends.peewee.database.SQLiteBackend"
      ]
     },
     "execution_count": 14,
     "metadata": {},
     "output_type": "execute_result"
    }
   ],
   "source": [
    "type(my_bio)"
   ]
  },
  {
   "cell_type": "code",
   "execution_count": 15,
   "id": "13750113-5f61-4488-ade9-27bf02364ff4",
   "metadata": {},
   "outputs": [
    {
     "data": {
      "text/plain": [
       "4427"
      ]
     },
     "execution_count": 15,
     "metadata": {},
     "output_type": "execute_result"
    }
   ],
   "source": [
    "len(my_bio)"
   ]
  },
  {
   "cell_type": "markdown",
   "id": "8a21b802-7cb2-4fe1-8d7a-5ada6dea3623",
   "metadata": {},
   "source": [
    "Let's check its properties and methods:"
   ]
  },
  {
   "cell_type": "code",
   "execution_count": 16,
   "id": "c7c74874-1fd5-44f5-9b0e-73b610a621a4",
   "metadata": {},
   "outputs": [],
   "source": [
    "dir(my_bio);"
   ]
  },
  {
   "cell_type": "markdown",
   "id": "c6deb677-e93c-43a3-a3d4-aa3bc440cd75",
   "metadata": {},
   "source": [
    "Some of the more basic ones we will be using now are :  \n",
    "  - `random()` - returns a random activity in the database\n",
    "  - `get(*valid_exchange_tuple*)` - returns an activity, but you must know the activity key\n",
    "  - `load()` - loads the whole database as a dictionary.\n",
    "  - `make_searchable` - allows searching of the database (by default, it is already searchable)\n",
    "  - `search` - search the database  \n",
    "  \n",
    "Lets start with `random`:"
   ]
  },
  {
   "cell_type": "code",
   "execution_count": 17,
   "id": "2c6bfa36-f150-4372-a56d-9a76ecb2ca16",
   "metadata": {},
   "outputs": [
    {
     "data": {
      "text/plain": [
       "'Sulfide' (kilogram, None, ('water', 'surface water'))"
      ]
     },
     "execution_count": 17,
     "metadata": {},
     "output_type": "execute_result"
    }
   ],
   "source": [
    "my_bio.random()"
   ]
  },
  {
   "cell_type": "markdown",
   "id": "186c9374-6a7a-4cc5-a0ad-5c84d0579518",
   "metadata": {},
   "source": [
    "It gives us a random bioosphere activity, to use it properly we need to assign it to a variable."
   ]
  },
  {
   "cell_type": "code",
   "execution_count": 18,
   "id": "0d7fe23e-e643-4608-a9aa-46e632925677",
   "metadata": {},
   "outputs": [
    {
     "data": {
      "text/plain": [
       "'Carbaryl' (kilogram, None, ('air', 'non-urban air or from high stacks'))"
      ]
     },
     "execution_count": 18,
     "metadata": {},
     "output_type": "execute_result"
    }
   ],
   "source": [
    "random_biosphere = my_bio.random()\n",
    "random_biosphere"
   ]
  },
  {
   "cell_type": "code",
   "execution_count": 19,
   "id": "4e5e2ae1-6795-4e60-8e76-3482185f996f",
   "metadata": {},
   "outputs": [
    {
     "data": {
      "text/plain": [
       "bw2data.backends.peewee.proxies.Activity"
      ]
     },
     "execution_count": 19,
     "metadata": {},
     "output_type": "execute_result"
    }
   ],
   "source": [
    "type(random_biosphere)"
   ]
  },
  {
   "cell_type": "markdown",
   "id": "6249f7e6-b75c-4b46-b486-6b360ebc60f4",
   "metadata": {},
   "source": [
    "The type is an **activity proxy**. Activity proxies allow us to interact with the content of the database. In the journey to and from the database, several translation layers are used:\n",
    "\n",
    "SQLITE DATABASE *Binary tuples*\n",
    "\n",
    "&#8595;\n",
    "\n",
    "Peewee ORM *Python classs instance* (***ActivityDataset*** or ***ExchangeDataset***)\n",
    "\n",
    "&#8595;\n",
    "\n",
    "Brightway2 *Python class instance* (***Activity*** or ***Exchange***)"
   ]
  },
  {
   "cell_type": "markdown",
   "id": "492ad23c-5810-4513-93a2-df6af172da2b",
   "metadata": {},
   "source": [
    "BW *mostly* works with `Activity` or `Exchange`.\n",
    "\n",
    "To see what the activity contains, we can convert it to a dictionary:"
   ]
  },
  {
   "cell_type": "code",
   "execution_count": 20,
   "id": "79998e7b-9948-4212-bd85-a60977a9e5a5",
   "metadata": {},
   "outputs": [
    {
     "data": {
      "text/plain": [
       "{'categories': ('air', 'non-urban air or from high stacks'),\n",
       " 'code': '02eb30a8-ed7c-456b-a1fe-2cdffea4fb8d',\n",
       " 'CAS number': '000063-25-2',\n",
       " 'name': 'Carbaryl',\n",
       " 'database': 'biosphere3',\n",
       " 'unit': 'kilogram',\n",
       " 'type': 'emission'}"
      ]
     },
     "execution_count": 20,
     "metadata": {},
     "output_type": "execute_result"
    }
   ],
   "source": [
    "random_biosphere.as_dict()"
   ]
  },
  {
   "cell_type": "markdown",
   "id": "02e388ad-acec-4fcd-a43a-174cf7733357",
   "metadata": {},
   "source": [
    "Let's get some activities:"
   ]
  },
  {
   "cell_type": "code",
   "execution_count": 21,
   "id": "95ea3725-d54d-4f66-843c-17092ca0466a",
   "metadata": {},
   "outputs": [
    {
     "data": {
      "text/plain": [
       "'Carbaryl' (kilogram, None, ('air', 'non-urban air or from high stacks'))"
      ]
     },
     "execution_count": 21,
     "metadata": {},
     "output_type": "execute_result"
    }
   ],
   "source": [
    "my_bio.get(random_biosphere['code'])"
   ]
  },
  {
   "cell_type": "markdown",
   "id": "a9c0db03-0bdb-4100-bc14-d5d7e24526be",
   "metadata": {},
   "source": [
    "Activities can also be \"gotten\" via `get_activity`, but the argument is the activity **key**, consisting of a tuple with two elements: the database name, and the activity code."
   ]
  },
  {
   "cell_type": "markdown",
   "id": "7354c69e-bd50-4e09-926c-ccea2fa371dc",
   "metadata": {},
   "source": [
    "**Exercise:** Use `bw.get_activity()` to retrieve the random biosphere activity. "
   ]
  },
  {
   "cell_type": "code",
   "execution_count": 22,
   "id": "0025e3a6-c1d8-49e2-80fb-9d534af0eeba",
   "metadata": {},
   "outputs": [
    {
     "data": {
      "text/plain": [
       "'Carbaryl' (kilogram, None, ('air', 'non-urban air or from high stacks'))"
      ]
     },
     "execution_count": 22,
     "metadata": {},
     "output_type": "execute_result"
    }
   ],
   "source": [
    "code = random_biosphere['code']\n",
    "databasename = 'biosphere3'\n",
    "random_biosphere_key = (databasename, code)\n",
    "bw.get_activity(random_biosphere_key)"
   ]
  },
  {
   "cell_type": "markdown",
   "id": "84e74000-b5f1-42c3-ae2e-5ed08d6db894",
   "metadata": {},
   "source": [
    "You can always find the `key` to an activity using the `.key` property:"
   ]
  },
  {
   "cell_type": "code",
   "execution_count": 23,
   "id": "bc9bba8d-abdb-4ecb-99f0-cb2eb468baa9",
   "metadata": {},
   "outputs": [
    {
     "data": {
      "text/plain": [
       "('biosphere3', '02eb30a8-ed7c-456b-a1fe-2cdffea4fb8d')"
      ]
     },
     "execution_count": 23,
     "metadata": {},
     "output_type": "execute_result"
    }
   ],
   "source": [
    "random_biosphere.key"
   ]
  },
  {
   "cell_type": "markdown",
   "id": "a730bea5-8356-4c5a-baa2-3bc24fcd6a29",
   "metadata": {},
   "source": [
    "Let's now search through our database!"
   ]
  },
  {
   "cell_type": "code",
   "execution_count": 24,
   "id": "ae14c2f8-69d6-4e86-940b-8dd380fb894e",
   "metadata": {},
   "outputs": [],
   "source": [
    "my_bio.search('carbon dioxide'); # You can also use bw.Database('biosphere3').search('carbon dioxide')"
   ]
  },
  {
   "cell_type": "markdown",
   "id": "70648706-53f2-4e6f-9af3-deb98b37721b",
   "metadata": {},
   "source": [
    "We can also iterate over the database, this method uses [*list comprehension*]https://docs.python.org/3/tutorial/datastructures.html#list-comprehensions which allow us to add filters and personalize the search."
   ]
  },
  {
   "cell_type": "code",
   "execution_count": 25,
   "id": "a6efd587-d18b-4318-8829-8e807ae54d9a",
   "metadata": {},
   "outputs": [
    {
     "data": {
      "text/plain": [
       "['Carbon dioxide, fossil' (kilogram, None, ('air', 'urban air close to ground'))]"
      ]
     },
     "execution_count": 25,
     "metadata": {},
     "output_type": "execute_result"
    }
   ],
   "source": [
    "[act for act in my_bio if 'Carbon dioxide' in act['name'] \n",
    "                                            and 'fossil' in act['name']\n",
    "                                            and 'non' not in act['name']\n",
    "                                            and 'urban air close to ground' in str(act['categories'])\n",
    "]"
   ]
  },
  {
   "cell_type": "markdown",
   "id": "4680aca3-a33e-4ba4-a7a1-980d789b730d",
   "metadata": {},
   "source": [
    "Activities returned by searches or list comprehensions can be assigned to variables, but to do so, one needs to identify the activity by index. Based on the above, I can refine my filters to ensure the list comprehension only returns one activity, and then choose it without fear of choosing the wrong one."
   ]
  },
  {
   "cell_type": "code",
   "execution_count": 26,
   "id": "6a571716-f7a1-4de2-a9ee-5df8c5594eb4",
   "metadata": {},
   "outputs": [
    {
     "data": {
      "text/plain": [
       "['Carbon dioxide, fossil' (kilogram, None, ('air', 'urban air close to ground'))]"
      ]
     },
     "execution_count": 26,
     "metadata": {},
     "output_type": "execute_result"
    }
   ],
   "source": [
    "activity_I_want = [act for act in my_bio if 'Carbon dioxide' in act['name'] \n",
    "                                            and 'fossil' in act['name']\n",
    "                                            and 'non' not in act['name']\n",
    "                                            and 'urban air close to ground' in str(act['categories'])]\n",
    "activity_I_want"
   ]
  },
  {
   "cell_type": "markdown",
   "id": "1a2de0a4-686c-4b7a-9a1c-08afb4353637",
   "metadata": {},
   "source": [
    "**Exercise:** Look for and assign to a variable an emission of nitrous oxide emitted to air in the \"urban air\" subcompartment.\n"
   ]
  },
  {
   "cell_type": "code",
   "execution_count": 27,
   "id": "5f9cc9ba-ceaf-4606-91b9-43d2fb1c30fe",
   "metadata": {},
   "outputs": [
    {
     "data": {
      "text/plain": [
       "['Dinitrogen monoxide' (kilogram, None, ('air', 'non-urban air or from high stacks')),\n",
       " 'Dinitrogen monoxide' (kilogram, None, ('air', 'urban air close to ground'))]"
      ]
     },
     "execution_count": 27,
     "metadata": {},
     "output_type": "execute_result"
    }
   ],
   "source": [
    "exercise_activity = [act for act in my_bio if 'nitrogen' in act['name']\n",
    "                                            and 'urban air' in str(act['categories'])]\n",
    "exercise_activity"
   ]
  },
  {
   "cell_type": "markdown",
   "id": "9fcbf9ab-0509-4c24-a53a-90c4fcdf80e6",
   "metadata": {},
   "source": [
    "Now we select the first one:"
   ]
  },
  {
   "cell_type": "code",
   "execution_count": 28,
   "id": "0e8faaaa-16c7-46ee-8662-185f75089e2b",
   "metadata": {},
   "outputs": [
    {
     "data": {
      "text/plain": [
       "'Dinitrogen monoxide' (kilogram, None, ('air', 'non-urban air or from high stacks'))"
      ]
     },
     "execution_count": 28,
     "metadata": {},
     "output_type": "execute_result"
    }
   ],
   "source": [
    "exercise_activity = exercise_activity[0]\n",
    "exercise_activity"
   ]
  },
  {
   "cell_type": "markdown",
   "id": "19a08902-c5f1-44d1-8864-7c41a2ec18e1",
   "metadata": {},
   "source": [
    "### 3 Methods"
   ]
  },
  {
   "cell_type": "markdown",
   "id": "4da33c86-aca4-4815-b775-e9650b4bafca",
   "metadata": {},
   "source": [
    "As mentioned before, we also installed methods:"
   ]
  },
  {
   "cell_type": "code",
   "execution_count": 29,
   "id": "5837b2b2-4084-43a6-8fd3-d74a96b0c1b8",
   "metadata": {},
   "outputs": [],
   "source": [
    "list(bw.methods);"
   ]
  },
  {
   "cell_type": "markdown",
   "id": "93d65979-6144-425c-a0bd-419e53dd0481",
   "metadata": {},
   "source": [
    "Select a random method:"
   ]
  },
  {
   "cell_type": "code",
   "execution_count": 30,
   "id": "ec7f1e63-b6c8-4400-9ae5-9ddb817e2268",
   "metadata": {},
   "outputs": [
    {
     "data": {
      "text/plain": [
       "('EDIP (superseded)',\n",
       " 'resource consumption',\n",
       " 'non-renewable resources, manganese')"
      ]
     },
     "execution_count": 30,
     "metadata": {},
     "output_type": "execute_result"
    }
   ],
   "source": [
    "bw.methods.random()"
   ]
  },
  {
   "cell_type": "markdown",
   "id": "1baa5075-2720-452d-a215-8b73e07eef14",
   "metadata": {},
   "source": [
    "This is just an informative tuple, to get the actual method we use:"
   ]
  },
  {
   "cell_type": "code",
   "execution_count": 31,
   "id": "40e7fb11-c3b2-487d-9eac-1a55df7617c6",
   "metadata": {},
   "outputs": [
    {
     "data": {
      "text/plain": [
       "Brightway2 Method: eco-indicator 99, (E,E) (superseded): human health: respiratory effects"
      ]
     },
     "execution_count": 31,
     "metadata": {},
     "output_type": "execute_result"
    }
   ],
   "source": [
    "bw.Method(bw.methods.random())"
   ]
  },
  {
   "cell_type": "markdown",
   "id": "9397193b-66cd-42d5-b88e-ab6990cefcfb",
   "metadata": {},
   "source": [
    "Of course, a random method is probably not useful except to play around. To find an actual method, one can again use list comprehensions. Let's say I am interested in using the IPCC2013 100 years method:"
   ]
  },
  {
   "cell_type": "code",
   "execution_count": 32,
   "id": "161bb7f5-deed-437c-9224-25fe5a5113c5",
   "metadata": {},
   "outputs": [
    {
     "data": {
      "text/plain": [
       "[('IPCC 2013 no LT', 'climate change', 'GTP 100a'),\n",
       " ('IPCC 2013 no LT', 'climate change', 'GWP 100a'),\n",
       " ('IPCC 2013', 'climate change', 'GTP 100a'),\n",
       " ('IPCC 2013', 'climate change', 'GWP 100a')]"
      ]
     },
     "execution_count": 32,
     "metadata": {},
     "output_type": "execute_result"
    }
   ],
   "source": [
    "[m for m in bw.methods if 'IPCC' in str(m) and ('2013') in str(m) and '100' in str(m)]"
   ]
  },
  {
   "cell_type": "markdown",
   "id": "e979dc8a-3763-4a58-8b70-bf680fe72014",
   "metadata": {},
   "source": [
    "We can select the one we are interested in like we did before, assigning it to a variable and choose by subscripting. "
   ]
  },
  {
   "cell_type": "code",
   "execution_count": 33,
   "id": "1c4df0ac-e0ee-415a-991a-8e8b5f323bed",
   "metadata": {},
   "outputs": [
    {
     "data": {
      "text/plain": [
       "('IPCC 2013 no LT', 'climate change', 'GTP 100a')"
      ]
     },
     "execution_count": 33,
     "metadata": {},
     "output_type": "execute_result"
    }
   ],
   "source": [
    "select1 = [m for m in bw.methods if 'IPCC' in str(m) and ('2013') in str(m) and '100' in str(m)][0]\n",
    "select1"
   ]
  },
  {
   "cell_type": "markdown",
   "id": "41a8a8ee-93af-4056-bb27-9574ab1d8287",
   "metadata": {},
   "source": [
    "We can also refine searches:"
   ]
  },
  {
   "cell_type": "code",
   "execution_count": 34,
   "id": "7c52e7c1-c147-40a7-90a9-1d81b133d2b8",
   "metadata": {},
   "outputs": [
    {
     "data": {
      "text/plain": [
       "('IPCC 2013', 'climate change', 'GWP 100a')"
      ]
     },
     "execution_count": 34,
     "metadata": {},
     "output_type": "execute_result"
    }
   ],
   "source": [
    "ipcc2013 = [m for m in bw.methods if 'IPCC' in m[0]\n",
    "                    and ('2013') in str(m)\n",
    "                    and 'GWP 100' in str(m)\n",
    "                    and 'no LT' not in str(m)][0]\n",
    "ipcc2013"
   ]
  },
  {
   "cell_type": "code",
   "execution_count": 35,
   "id": "562c5396-617b-499d-a8c9-fb616a92b878",
   "metadata": {},
   "outputs": [
    {
     "data": {
      "text/plain": [
       "tuple"
      ]
     },
     "execution_count": 35,
     "metadata": {},
     "output_type": "execute_result"
    }
   ],
   "source": [
    "type(ipcc2013)"
   ]
  },
  {
   "cell_type": "code",
   "execution_count": 36,
   "id": "bd593bdb-48b3-4b84-9a1c-1a9ef3a08de4",
   "metadata": {},
   "outputs": [],
   "source": [
    "ipcc_2013_method = bw.Method(ipcc2013)"
   ]
  },
  {
   "cell_type": "markdown",
   "id": "85d06724-f8ce-4f99-836f-66c5b19c7aa3",
   "metadata": {},
   "source": [
    "Let's check the methods associated with this method object:"
   ]
  },
  {
   "cell_type": "code",
   "execution_count": 37,
   "id": "a3f574c4-ee23-4ab3-87f4-a3a2cf3c941b",
   "metadata": {},
   "outputs": [],
   "source": [
    "dir(ipcc_2013_method);"
   ]
  },
  {
   "cell_type": "code",
   "execution_count": 38,
   "id": "f41a16ee-6dd3-452c-b872-3c55e74b2831",
   "metadata": {},
   "outputs": [
    {
     "data": {
      "text/plain": [
       "('IPCC 2013', 'climate change', 'GWP 100a')"
      ]
     },
     "execution_count": 38,
     "metadata": {},
     "output_type": "execute_result"
    }
   ],
   "source": [
    "ipcc_2013_method.name"
   ]
  },
  {
   "cell_type": "code",
   "execution_count": 39,
   "id": "7103cb66-3514-443c-8339-66eef3ece5ee",
   "metadata": {},
   "outputs": [],
   "source": [
    "ipcc_2013_method.metadata;"
   ]
  },
  {
   "cell_type": "code",
   "execution_count": 40,
   "id": "ddb10264-dd3b-4faf-bcd8-200d4d39890a",
   "metadata": {},
   "outputs": [
    {
     "data": {
      "text/plain": [
       "'kg CO2-Eq'"
      ]
     },
     "execution_count": 40,
     "metadata": {},
     "output_type": "execute_result"
    }
   ],
   "source": [
    "ipcc_2013_method.metadata['unit']"
   ]
  },
  {
   "cell_type": "markdown",
   "id": "bfce10fd-d1dc-41aa-b378-db25e1ab197a",
   "metadata": {},
   "source": [
    "**Question:** What is inside this method object? Let's check it out!"
   ]
  },
  {
   "cell_type": "code",
   "execution_count": 41,
   "id": "e0d1ceb1-643e-4986-9063-271c9488c9d1",
   "metadata": {},
   "outputs": [],
   "source": [
    "ipcc_2013_method.load();"
   ]
  },
  {
   "cell_type": "markdown",
   "id": "2649075c-ea12-4c32-a380-868436f522af",
   "metadata": {},
   "source": [
    "This is a list of tuples of the database, code and the characterization factor."
   ]
  },
  {
   "cell_type": "markdown",
   "id": "70863d02-d86b-4ac5-a4f6-a97c6420af07",
   "metadata": {},
   "source": [
    "**Exercise:** Create a dictionary with `keys = elementary flow names` and `values = characterization factors `for the `TRACI` \"respiratory effects, inorganics\" method (including long-term emissions).  \n",
    "Bonus (optional): Generate a Pandas Series with the resulting dictionary. "
   ]
  },
  {
   "cell_type": "code",
   "execution_count": 42,
   "id": "418b679b-5be4-4469-9154-b5480ba1474e",
   "metadata": {},
   "outputs": [
    {
     "data": {
      "text/plain": [
       "[('TRACI', 'human health', 'respiratory effects, average')]"
      ]
     },
     "execution_count": 42,
     "metadata": {},
     "output_type": "execute_result"
    }
   ],
   "source": [
    "# Query 1\n",
    "[m for m in bw.methods if 'TRACI' in str(m)\n",
    "                        and 'respiratory effects' in str(m)]"
   ]
  },
  {
   "cell_type": "markdown",
   "id": "078e4f90-db9d-470c-bdba-28643c771365",
   "metadata": {},
   "source": [
    "Selecting:"
   ]
  },
  {
   "cell_type": "code",
   "execution_count": 43,
   "id": "a10440ce-aa0c-47dd-87d9-eb20a1c41eb0",
   "metadata": {},
   "outputs": [
    {
     "data": {
      "text/plain": [
       "('TRACI', 'human health', 'respiratory effects, average')"
      ]
     },
     "execution_count": 43,
     "metadata": {},
     "output_type": "execute_result"
    }
   ],
   "source": [
    "# Query 1\n",
    "TRACI_resp_effect_tuple = [m for m in bw.methods if 'TRACI' in str(m)\n",
    "                        and 'respiratory effects' in str(m)][0]\n",
    "TRACI_resp_effect_tuple"
   ]
  },
  {
   "cell_type": "markdown",
   "id": "375d7ff9-5db4-4e0d-bfbe-1cbc3c84d869",
   "metadata": {},
   "source": [
    "Now let's make a dictionary, let's assing the tuple to a `Method`:"
   ]
  },
  {
   "cell_type": "code",
   "execution_count": 44,
   "id": "133d0b26-7e4a-4c89-9d38-c7fd714dbe69",
   "metadata": {},
   "outputs": [
    {
     "data": {
      "text/plain": [
       "Brightway2 Method: TRACI: human health: respiratory effects, average"
      ]
     },
     "execution_count": 44,
     "metadata": {},
     "output_type": "execute_result"
    }
   ],
   "source": [
    "TRACI_resp_effect_method = bw.Method(TRACI_resp_effect_tuple)\n",
    "TRACI_resp_effect_method"
   ]
  },
  {
   "cell_type": "code",
   "execution_count": 45,
   "id": "c5aaca7b-249d-4eff-b965-f8e49c3563d2",
   "metadata": {},
   "outputs": [
    {
     "data": {
      "text/plain": [
       "[(('biosphere3', '9115356e-a534-4329-9ec6-d9208720241b'), 0.045849),\n",
       " (('biosphere3', '77357947-ccc5-438e-9996-95e65e1e1bce'), 0.045849),\n",
       " (('biosphere3', 'c1b91234-6f24-417b-8309-46111d09c457'), 0.045849),\n",
       " (('biosphere3', 'd068f3e2-b033-417b-a359-ca4f25da9731'), 0.045849),\n",
       " (('biosphere3', '051aaf7a-6c1a-4e86-999f-85d5f0830df6'), 1),\n",
       " (('biosphere3', '66f50b33-fd62-4fdd-a373-c5b0de7de00d'), 1),\n",
       " (('biosphere3', '21e46cb8-6233-4c99-bac3-c41d2ab99498'), 1),\n",
       " (('biosphere3', '230d8a0a-517c-43fe-8357-1818dd12997a'), 1),\n",
       " (('biosphere3', '6ce44f77-d181-4396-8fa2-2276eeeb4c08'), 0.24111),\n",
       " (('biosphere3', '78c3efe4-421c-4d30-82e4-b97ac5124993'), 0.24111),\n",
       " (('biosphere3', 'fd7aa71c-508c-480d-81a6-8052aad92646'), 0.24111),\n",
       " (('biosphere3', '8c52f40c-69b7-4538-8923-b371523c71f5'), 0.24111)]"
      ]
     },
     "execution_count": 45,
     "metadata": {},
     "output_type": "execute_result"
    }
   ],
   "source": [
    "TRACI_resp_effect_method.load()"
   ]
  },
  {
   "cell_type": "code",
   "execution_count": 46,
   "id": "c24d2ffc-06ee-4226-972e-a7977bbd1d22",
   "metadata": {},
   "outputs": [
    {
     "data": {
      "text/plain": [
       "{'Nitrogen oxides': 0.045849,\n",
       " 'Particulates, < 2.5 um': 1,\n",
       " 'Sulfur dioxide': 0.24111}"
      ]
     },
     "execution_count": 46,
     "metadata": {},
     "output_type": "execute_result"
    }
   ],
   "source": [
    "TRACI_resp_effect_dict = {bw.get_activity(ef[0])['name']:ef[1] for ef in TRACI_resp_effect_method.load()}\n",
    "TRACI_resp_effect_dict"
   ]
  },
  {
   "cell_type": "code",
   "execution_count": 47,
   "id": "8779817e-9691-4d8d-9f76-30f4c56e15d7",
   "metadata": {},
   "outputs": [
    {
     "data": {
      "text/plain": [
       "Nitrogen oxides           0.045849\n",
       "Particulates, < 2.5 um    1.000000\n",
       "Sulfur dioxide            0.241110\n",
       "Name: ('TRACI', 'human health', 'respiratory effects, average'), kg PM2.5-Eq, dtype: float64"
      ]
     },
     "execution_count": 47,
     "metadata": {},
     "output_type": "execute_result"
    }
   ],
   "source": [
    "# Bonus: put the whole thing in a neat Pandas series\n",
    "pd.Series(TRACI_resp_effect_dict,\n",
    "          name=\"{}, {}\".format(TRACI_resp_effect_method.name, TRACI_resp_effect_method.metadata['unit']))"
   ]
  },
  {
   "cell_type": "markdown",
   "id": "2b9c8b61-2ecc-4d39-b143-3614c2634931",
   "metadata": {},
   "source": [
    "### 3 LCI datasets"
   ]
  },
  {
   "cell_type": "markdown",
   "id": "0455bc32-7dbb-4d90-b1e3-cc00020793c7",
   "metadata": {},
   "source": [
    "There is a lot of information about LCI database in Brightway 2 and its structure in the [official documentation](https://2.docs.brightway.dev/intro.html#inventory-databases). But the best way to learn is to check one out!"
   ]
  },
  {
   "cell_type": "markdown",
   "id": "cd7f4de1-b92e-4a9c-ab3a-6bc0f8a3c826",
   "metadata": {},
   "source": [
    "Chris uploads ecoinvent, since that is a licensed database, we will be using a different one: FORWAST, you can download it [here](https://lca-net.com/projects/show/forwast/)."
   ]
  },
  {
   "cell_type": "code",
   "execution_count": 48,
   "id": "19f3447c-4020-4a3a-9548-6f5cd39d1ef5",
   "metadata": {},
   "outputs": [
    {
     "name": "stdout",
     "output_type": "stream",
     "text": [
      "Database has already been imported!\n"
     ]
    }
   ],
   "source": [
    "import zipfile\n",
    "import os\n",
    "from bw2data.utils import download_file\n",
    "from pathlib import Path\n",
    "\n",
    "if 'forwast' in bw.databases:\n",
    "    print('Database has already been imported!')\n",
    "else:\n",
    "    filepath = (\"database/forwast.bw2package.zip\")\n",
    "    dirpath = os.path.dirname(filepath)\n",
    "    zipfile.ZipFile(filepath).extractall(dirpath)\n",
    "    bw.BW2Package.import_file(os.path.join(dirpath, \"forwast.bw2package\"))"
   ]
  },
  {
   "cell_type": "code",
   "execution_count": 49,
   "id": "e404c252-2c51-49b9-ae4c-b1a74efd18af",
   "metadata": {},
   "outputs": [
    {
     "data": {
      "text/plain": [
       "Databases dictionary with 2 object(s):\n",
       "\tbiosphere3\n",
       "\tforwast"
      ]
     },
     "execution_count": 49,
     "metadata": {},
     "output_type": "execute_result"
    }
   ],
   "source": [
    "bw.databases"
   ]
  },
  {
   "cell_type": "markdown",
   "id": "c3e5132d-2f0b-413e-9379-44bbd54552cd",
   "metadata": {},
   "source": [
    "Now we have two databases!"
   ]
  },
  {
   "cell_type": "code",
   "execution_count": 50,
   "id": "13f1a8ea-5d43-4f57-94d2-65bb5f0ccc5a",
   "metadata": {},
   "outputs": [],
   "source": [
    "fw = bw.Database('forwast')"
   ]
  },
  {
   "cell_type": "code",
   "execution_count": 51,
   "id": "c6469f7e-f795-432e-b8b2-21ea434c4979",
   "metadata": {},
   "outputs": [
    {
     "data": {
      "text/plain": [
       "277"
      ]
     },
     "execution_count": 51,
     "metadata": {},
     "output_type": "execute_result"
    }
   ],
   "source": [
    "len(fw)"
   ]
  },
  {
   "cell_type": "code",
   "execution_count": 52,
   "id": "4dee31d6-9022-4fb9-9cc7-30ff25370c63",
   "metadata": {},
   "outputs": [
    {
     "data": {
      "text/plain": [
       "'_36 Printed matter and recorded media, EU27' (kilogram, GLO, ['Input Output', 'EU27 2003'])"
      ]
     },
     "execution_count": 52,
     "metadata": {},
     "output_type": "execute_result"
    }
   ],
   "source": [
    "random_act = fw.random()\n",
    "random_act"
   ]
  },
  {
   "cell_type": "code",
   "execution_count": 53,
   "id": "6bf50985-c320-4b71-b28f-bd6d91fd4e60",
   "metadata": {},
   "outputs": [
    {
     "data": {
      "text/plain": [
       "{'products': [{'location': 'GLO',\n",
       "   'unit': 'kilogram',\n",
       "   'output': ('forwast', 'bd506aa78ab84ed03d8abd25936a9aee'),\n",
       "   'amount': 1.0,\n",
       "   'input': ('forwast', 'bd506aa78ab84ed03d8abd25936a9aee'),\n",
       "   'categories': (),\n",
       "   'loc': 1.0,\n",
       "   'type': 'production',\n",
       "   'name': '_36 Printed matter and recorded media, EU27',\n",
       "   'uncertainty type': 0}],\n",
       " 'categories': ['Input Output', 'EU27 2003'],\n",
       " 'filename': '/Users/marie/Downloads/FORWAST-ecospold1/FORWAST-ecospold100071.XML',\n",
       " 'type': 'process',\n",
       " 'comment': 'Location:  Unspecified\\nTechnology:  Unspecified\\nTime period:  Unspecified',\n",
       " 'location': 'GLO',\n",
       " 'unit': 'kilogram',\n",
       " 'code': 'bd506aa78ab84ed03d8abd25936a9aee',\n",
       " 'production amount': 1.0,\n",
       " 'name': '_36 Printed matter and recorded media, EU27',\n",
       " 'database': 'forwast'}"
      ]
     },
     "execution_count": 53,
     "metadata": {},
     "output_type": "execute_result"
    }
   ],
   "source": [
    "random_act.as_dict()"
   ]
  },
  {
   "cell_type": "markdown",
   "id": "7b67b4b5-dea0-412c-b8d5-7df3152c0435",
   "metadata": {},
   "source": [
    "Notice one important thing: **no exchanges**!  \n",
    "Indeed, the exchanges and the activities are stored in two different tables of the `databases.db` database.  \n",
    "It is possible, however, to iterate through the exchanges of the activities."
   ]
  },
  {
   "cell_type": "markdown",
   "id": "9ea5c6b7-a748-43be-9b26-dddabdcc61f5",
   "metadata": {},
   "source": [
    "Since I do not have ecoinvent, I am going to add an LCI that comes by default with BW 2.5. Since Brightway 2.5 requires a different kernel, go to the [1.2 Tutorial](http://localhost:8888/lab/tree/learningbrightway/BW2_Seminar_2017/1.2%20-%20BW25%20project%20creation%20and%20first%20LCA%20.ipynb)!"
   ]
  },
  {
   "cell_type": "code",
   "execution_count": null,
   "id": "2f898046-9af1-45b1-b095-165c365fb2d9",
   "metadata": {},
   "outputs": [],
   "source": []
  }
 ],
 "metadata": {
  "kernelspec": {
   "display_name": "bw2_rosetta",
   "language": "python",
   "name": "bw2_rosetta"
  },
  "language_info": {
   "codemirror_mode": {
    "name": "ipython",
    "version": 3
   },
   "file_extension": ".py",
   "mimetype": "text/x-python",
   "name": "python",
   "nbconvert_exporter": "python",
   "pygments_lexer": "ipython3",
   "version": "3.9.12"
  }
 },
 "nbformat": 4,
 "nbformat_minor": 5
}

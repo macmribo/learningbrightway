{
 "cells": [
  {
   "cell_type": "markdown",
   "id": "b6d9dc12-c2c3-48ea-9382-f9c829bb1d30",
   "metadata": {},
   "source": [
    "# 3. Databases"
   ]
  },
  {
   "cell_type": "markdown",
   "id": "5c5c4f3f-6bda-48e3-b654-4d22747385d4",
   "metadata": {},
   "source": [
    "How to work with database classes. This tutorial is a copy of the oficial [tutorial](https://github.com/brightway-lca/brightway2/blob/master/notebooks/Databases.ipynb), this tutorial is a copy of the oficial one with some additional information that I need to further understand certain concepts."
   ]
  },
  {
   "cell_type": "code",
   "execution_count": 2,
   "id": "99a656c0-5a6b-4a41-92fd-4d3b28d1cba9",
   "metadata": {},
   "outputs": [],
   "source": [
    "from brightway2 import *"
   ]
  },
  {
   "cell_type": "markdown",
   "id": "a98d08fc-a322-4d28-9298-b7f037cf38e4",
   "metadata": {},
   "source": [
    "Let's be tidy and create a project for this notebook:"
   ]
  },
  {
   "cell_type": "code",
   "execution_count": 4,
   "id": "e6d416af-8017-4cbc-8dc2-fded43b6d28c",
   "metadata": {},
   "outputs": [],
   "source": [
    "projects.set_current('Tut_3_Databases')"
   ]
  },
  {
   "cell_type": "markdown",
   "id": "01f69b34-2bda-43a7-96c2-afb9ed0d79cc",
   "metadata": {},
   "source": [
    "For further information on what a database is, refer to the previous tutorials or read about [inventory databases](https://2.docs.brightway.dev/intro.html#inventory-databases) in the official documentation page."
   ]
  },
  {
   "cell_type": "markdown",
   "id": "71d05dc9-0a6b-4388-ada8-76652cede15c",
   "metadata": {},
   "source": [
    "### An example database"
   ]
  },
  {
   "cell_type": "markdown",
   "id": "e636e1f5-5a81-4f1f-8fb5-00f6b8689752",
   "metadata": {},
   "source": [
    "Let's define an example dataset as shown in [Tutorial 1](BW_Manual.ipynb)."
   ]
  },
  {
   "cell_type": "code",
   "execution_count": 6,
   "id": "d02c4208-5172-4601-ac1e-29f50ee0018e",
   "metadata": {},
   "outputs": [],
   "source": [
    "db = Database('example')\n",
    "\n",
    "example_data = {\n",
    "  ('example', 'A'): {\n",
    "      'name': 'A',\n",
    "      'unit': 'kilogram',\n",
    "      'location': 'hare',\n",
    "      'categories': ('very', 'interesting'),\n",
    "      'exchanges': [{\n",
    "        'amount': 1.0,\n",
    "        'input': ('example', 'B'),\n",
    "        'type': 'technosphere'\n",
    "      }]\n",
    "  },\n",
    "  ('example', 'B'): {\n",
    "      'name': 'B',\n",
    "      'unit': 'microgram',\n",
    "      'location': 'there',\n",
    "      'categories': ('quite', 'boring'),\n",
    "      'exchanges':[],\n",
    "  }\n",
    "}"
   ]
  },
  {
   "cell_type": "markdown",
   "id": "a8bc1eeb-3eb8-4790-8aa8-72601375b4c1",
   "metadata": {},
   "source": [
    "Let's make a doodle to understand this dataset:\n",
    "![PROJECT:](images/t_3_doodle.jpg)\n",
    "This is quite a simple example - two activities, one of whom has no inputs. In fact, this example dataset has only a few fields. Actually, there are *no required fields* in datasets, only some suggested ones, and general guidelines on how to use those suggested fields. It's like not wearing underwear - Brightway2 gives you the freedom to do it, but most people you are interacting with would prefer that you didn't.\n",
    "\n",
    "* If you are using `Activity` proxies, then the `'name'` field is required.\n",
    "\n",
    "Let's talk a bit about the fields in example_data:\n",
    "\n",
    "* `name`: This one is pretty easy :)\n",
    "* `exchanges`: This is a list of inputs and outputs, like how much energy or material is needed for this dataset's production. Every exchange is an intput, unless it has the value type = \"production\". A production exchange defines how much of the output is produced. Most of the time, you can ignore this, as the default value is one - this is what we do in the example data. However, sometimes it is useful to define a dataset that produces more.\n",
    "\n",
    "See also: [What happens with a non-unitary production amount in LCA?](https://chris.mutel.org/non-unitary.html)\n"
   ]
  },
  {
   "cell_type": "markdown",
   "id": "ec4043a8-841c-445b-9482-a22abf127aa7",
   "metadata": {},
   "source": [
    "### Write data to dataset"
   ]
  },
  {
   "cell_type": "markdown",
   "id": "58ca4d9f-a3bb-4dab-9b78-8da8c6cd3c2e",
   "metadata": {},
   "source": [
    "Now let's add this add this data to the created dataset:"
   ]
  },
  {
   "cell_type": "code",
   "execution_count": 7,
   "id": "5f1c5e02-35ce-40d3-bea9-db672bbdc802",
   "metadata": {},
   "outputs": [
    {
     "name": "stderr",
     "output_type": "stream",
     "text": [
      "Writing activities to SQLite3 database:\n",
      "0% [##] 100% | ETA: 00:00:00\n",
      "Total time elapsed: 00:00:00\n"
     ]
    },
    {
     "name": "stdout",
     "output_type": "stream",
     "text": [
      "Title: Writing activities to SQLite3 database:\n",
      "  Started: 08/05/2022 13:45:19\n",
      "  Finished: 08/05/2022 13:45:19\n",
      "  Total time elapsed: 00:00:00\n",
      "  CPU %: 2.60\n",
      "  Memory %: 0.57\n"
     ]
    }
   ],
   "source": [
    "db.write(example_data)"
   ]
  },
  {
   "cell_type": "markdown",
   "id": "85004c6f-ccd8-4c04-807c-9e960b2289ab",
   "metadata": {},
   "source": [
    "### Get a random activity"
   ]
  },
  {
   "cell_type": "markdown",
   "id": "19cb96dc-4c0f-4c68-835a-68c63fedd9b2",
   "metadata": {},
   "source": [
    "The `random()` method is a nice way of getting an activity if you just need an example:"
   ]
  },
  {
   "cell_type": "code",
   "execution_count": 5,
   "id": "8e08af22-cc95-4e66-92b5-ad2829267468",
   "metadata": {},
   "outputs": [
    {
     "data": {
      "text/plain": [
       "'A' (kilogram, hare, ('very', 'interesting'))"
      ]
     },
     "execution_count": 5,
     "metadata": {},
     "output_type": "execute_result"
    }
   ],
   "source": [
    "db.random()"
   ]
  },
  {
   "cell_type": "markdown",
   "id": "e6814698-5c4c-47f6-be8f-4ab8710ba942",
   "metadata": {},
   "source": [
    "### Examining database data"
   ]
  },
  {
   "cell_type": "markdown",
   "id": "05ed2e39-d64a-4d1c-bc9e-5ceda192def7",
   "metadata": {},
   "source": [
    "We can also loop over our database, and try to get some useful information. For example, say we were interested in the number of exchanges in each activity:"
   ]
  },
  {
   "cell_type": "code",
   "execution_count": 8,
   "id": "b5000352-0596-4a45-980a-ee13a6f5a124",
   "metadata": {},
   "outputs": [
    {
     "data": {
      "text/plain": [
       "[('B' (microgram, there, ('quite', 'boring')), 0),\n",
       " ('A' (kilogram, hare, ('very', 'interesting')), 1)]"
      ]
     },
     "execution_count": 8,
     "metadata": {},
     "output_type": "execute_result"
    }
   ],
   "source": [
    "num_exchanges = [(activity, len(activity.exchanges())) for activity in db]\n",
    "num_exchanges"
   ]
  },
  {
   "cell_type": "markdown",
   "id": "7c89cc10-1d6a-4b39-8b65-d81c33b75d06",
   "metadata": {},
   "source": [
    "### Searching databases"
   ]
  },
  {
   "cell_type": "code",
   "execution_count": 9,
   "id": "ab09f49e-06d4-4a93-a84e-f201635f61f3",
   "metadata": {},
   "outputs": [
    {
     "data": {
      "text/plain": [
       "['A' (kilogram, hare, ('very', 'interesting')),\n",
       " 'B' (microgram, there, ('quite', 'boring'))]"
      ]
     },
     "execution_count": 9,
     "metadata": {},
     "output_type": "execute_result"
    }
   ],
   "source": [
    "db.search(\"*\")"
   ]
  },
  {
   "cell_type": "markdown",
   "id": "5cbd9ac4-22b9-44df-84d6-015a87305a10",
   "metadata": {},
   "source": [
    "### Deleting databases"
   ]
  },
  {
   "cell_type": "markdown",
   "id": "0d9fe1b1-97b9-45b1-a208-6d7fd12af60e",
   "metadata": {},
   "source": [
    "You delete databases by deleting them from the databases object. If we look at the projects `report()` we can s"
   ]
  },
  {
   "cell_type": "code",
   "execution_count": null,
   "id": "21780dfa-fe55-4d97-8aa4-f7ddd4278241",
   "metadata": {},
   "outputs": [],
   "source": [
    "projects.report()"
   ]
  },
  {
   "cell_type": "code",
   "execution_count": 11,
   "id": "573a6a3f-4e53-4a52-aa39-95027e5f46b5",
   "metadata": {},
   "outputs": [],
   "source": [
    "del databases[db.name]"
   ]
  },
  {
   "cell_type": "code",
   "execution_count": 12,
   "id": "3b9a09fd-9bec-479a-adea-e87510ef3192",
   "metadata": {},
   "outputs": [
    {
     "data": {
      "text/plain": [
       "[('1 Supply Chain Graph', 1, 0.000121146),\n",
       " ('1.1_Massimo', 1, 9.4452e-05),\n",
       " ('1_1_Massimo', 0, 8.21e-05),\n",
       " ('1_2_Massimo', 1, 9.4081e-05),\n",
       " ('1_3_Massimo', 2, 0.000101768),\n",
       " ('2_1_Massimo', 1, 9.4079e-05),\n",
       " ('2_2_Massimo', 1, 9.4773e-05),\n",
       " ('Tut_1_Activities_Exchanges', 0, 8.1998e-05),\n",
       " ('Tut_1_activities_exchanges', 0, 8.1998e-05),\n",
       " ('Tut_2_Projects', 0, 8.1998e-05),\n",
       " ('Tut_2_the copy', 0, 8.1998e-05),\n",
       " ('Tut_3_Databases', 0, 8.3012e-05),\n",
       " ('default', 0, 8.21e-05)]"
      ]
     },
     "execution_count": 12,
     "metadata": {},
     "output_type": "execute_result"
    }
   ],
   "source": [
    "projects.report()"
   ]
  },
  {
   "cell_type": "markdown",
   "id": "9cbdf345-f6f8-425e-96cf-d1555e5539c7",
   "metadata": {},
   "source": [
    "See `'Tut_3_Databases'` Now it does not store any database!"
   ]
  },
  {
   "cell_type": "code",
   "execution_count": null,
   "id": "ed2758c5-15e9-46a6-887a-769a0bfc5911",
   "metadata": {},
   "outputs": [],
   "source": []
  }
 ],
 "metadata": {
  "kernelspec": {
   "display_name": "bw2_rosetta",
   "language": "python",
   "name": "bw2_rosetta"
  },
  "language_info": {
   "codemirror_mode": {
    "name": "ipython",
    "version": 3
   },
   "file_extension": ".py",
   "mimetype": "text/x-python",
   "name": "python",
   "nbconvert_exporter": "python",
   "pygments_lexer": "ipython3",
   "version": "3.9.12"
  }
 },
 "nbformat": 4,
 "nbformat_minor": 5
}

{
 "cells": [
  {
   "cell_type": "markdown",
   "id": "b6d9dc12-c2c3-48ea-9382-f9c829bb1d30",
   "metadata": {},
   "source": [
    "# Databases"
   ]
  },
  {
   "cell_type": "markdown",
   "id": "5c5c4f3f-6bda-48e3-b654-4d22747385d4",
   "metadata": {},
   "source": [
    "How to work with database classes. This tutorial is a copy of the oficial [tutorial](his tutorial is a copy of the oficial [tutorial](https://github.com/brightway-lca/brightway2/blob/master/notebooks/Databases.ipynb) with some additional information for a more comprehensive learning experience. with some additional information for a more comprehensive learning experience."
   ]
  },
  {
   "cell_type": "code",
   "execution_count": 2,
   "id": "99a656c0-5a6b-4a41-92fd-4d3b28d1cba9",
   "metadata": {},
   "outputs": [],
   "source": [
    "from brightway2 import *"
   ]
  },
  {
   "cell_type": "markdown",
   "id": "e636e1f5-5a81-4f1f-8fb5-00f6b8689752",
   "metadata": {},
   "source": [
    "Let's define an example dataset as shown in [Tutorial 1](BW_Manual.ipynb)."
   ]
  },
  {
   "cell_type": "code",
   "execution_count": 3,
   "id": "d02c4208-5172-4601-ac1e-29f50ee0018e",
   "metadata": {},
   "outputs": [],
   "source": [
    "db = Database('example')\n",
    "\n",
    "example_data = {\n",
    "  ('example', 'A'): {\n",
    "      'name': 'A',\n",
    "      'unit': 'kilogram',\n",
    "      'location': 'hare',\n",
    "      'categories': ('very', 'interesting'),\n",
    "      'exchanges': [{\n",
    "        'amount': 1.0,\n",
    "        'input': ('example', 'B'),\n",
    "        'type': 'technosphere'\n",
    "      }]\n",
    "  },\n",
    "  ('example', 'B'): {\n",
    "      'name': 'B',\n",
    "      'unit': 'microgram',\n",
    "      'location': 'there',\n",
    "      'categories': ('quite', 'boring'),\n",
    "      'exchanges':[],\n",
    "  }\n",
    "}"
   ]
  },
  {
   "cell_type": "code",
   "execution_count": 4,
   "id": "5f1c5e02-35ce-40d3-bea9-db672bbdc802",
   "metadata": {},
   "outputs": [
    {
     "name": "stderr",
     "output_type": "stream",
     "text": [
      "Writing activities to SQLite3 database:\n",
      "0% [##] 100% | ETA: 00:00:00\n",
      "Total time elapsed: 00:00:00\n"
     ]
    },
    {
     "name": "stdout",
     "output_type": "stream",
     "text": [
      "Title: Writing activities to SQLite3 database:\n",
      "  Started: 07/11/2022 17:34:27\n",
      "  Finished: 07/11/2022 17:34:27\n",
      "  Total time elapsed: 00:00:00\n",
      "  CPU %: 2.50\n",
      "  Memory %: 0.57\n"
     ]
    }
   ],
   "source": [
    "db.write(example_data)"
   ]
  },
  {
   "cell_type": "code",
   "execution_count": 5,
   "id": "8e08af22-cc95-4e66-92b5-ad2829267468",
   "metadata": {},
   "outputs": [
    {
     "data": {
      "text/plain": [
       "'A' (kilogram, hare, ('very', 'interesting'))"
      ]
     },
     "execution_count": 5,
     "metadata": {},
     "output_type": "execute_result"
    }
   ],
   "source": [
    "db.random()"
   ]
  },
  {
   "cell_type": "code",
   "execution_count": 6,
   "id": "b5000352-0596-4a45-980a-ee13a6f5a124",
   "metadata": {},
   "outputs": [
    {
     "data": {
      "text/plain": [
       "[('B' (microgram, there, ('quite', 'boring')), 0),\n",
       " ('A' (kilogram, hare, ('very', 'interesting')), 1)]"
      ]
     },
     "execution_count": 6,
     "metadata": {},
     "output_type": "execute_result"
    }
   ],
   "source": [
    "num_exchanges = [(activity, len(activity.exchanges())) for activity in db]\n",
    "num_exchanges"
   ]
  },
  {
   "cell_type": "code",
   "execution_count": null,
   "id": "cf1abd8f-aec6-4a2e-862d-8bc4c8228b19",
   "metadata": {},
   "outputs": [],
   "source": []
  }
 ],
 "metadata": {
  "kernelspec": {
   "display_name": "Python 3 (ipykernel)",
   "language": "python",
   "name": "python3"
  },
  "language_info": {
   "codemirror_mode": {
    "name": "ipython",
    "version": 3
   },
   "file_extension": ".py",
   "mimetype": "text/x-python",
   "name": "python",
   "nbconvert_exporter": "python",
   "pygments_lexer": "ipython3",
   "version": "3.9.12"
  }
 },
 "nbformat": 4,
 "nbformat_minor": 5
}

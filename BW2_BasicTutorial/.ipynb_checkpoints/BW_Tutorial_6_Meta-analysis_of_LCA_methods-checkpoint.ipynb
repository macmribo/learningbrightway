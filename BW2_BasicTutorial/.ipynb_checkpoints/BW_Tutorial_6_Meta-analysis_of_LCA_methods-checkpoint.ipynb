{
 "cells": [
  {
   "cell_type": "markdown",
   "id": "485bf01a-526e-4c62-bbe8-a6a2dd927428",
   "metadata": {},
   "source": [
    "# 6.  Meta-analysis of LCA methods"
   ]
  },
  {
   "cell_type": "markdown",
   "id": "e222e9a3-2d37-436f-b18d-3e89b748c7d7",
   "metadata": {},
   "source": [
    "This notebook assumes you have completed the [Tutorial 4 - LCA with real data](BW_Tutorial_4_LCA_Real_Data.ipynb) notebook, or its original version by Chris Mutel [Getting Started with Brightway2](https://github.com/brightway-lca/brightway2/blob/master/notebooks/Getting%20Started%20with%20Brightway2.ipynb).\n",
    "\n",
    "This notebook shows the real power of Brightway2, and in particular the ability to script and analyze many LCA calculations.\n",
    "\n",
    "At the end of this notebook, you should:\n",
    "\n",
    "    Be able to make many LCA calculations\n",
    "    Use multiprocessing to utilize the full power of your computer\n",
    "    Store calculations results in numpy arrays, for analysis and interpretation\n",
    "    Use matplotlib to display results graphically\n",
    "\n",
    "If you finish the notebook, you get another kitten!\n",
    "\n",
    "You should download this notebook and run it cell by cell - don't just read it on the web!"
   ]
  },
  {
   "cell_type": "code",
   "execution_count": null,
   "id": "1eee4741-9632-444c-b1ba-51a5b3c4a7a2",
   "metadata": {},
   "outputs": [],
   "source": [
    "BW_Tutorial_6_Meta-analysis_of_LCA_methods.ipynb"
   ]
  },
  {
   "cell_type": "code",
   "execution_count": null,
   "id": "e1273536-fdac-46dc-94d2-4af3398ddbc1",
   "metadata": {},
   "outputs": [],
   "source": []
  },
  {
   "cell_type": "code",
   "execution_count": null,
   "id": "8d8e73c0-b20b-491d-8811-1024039571f7",
   "metadata": {},
   "outputs": [],
   "source": []
  }
 ],
 "metadata": {
  "kernelspec": {
   "display_name": "bw2_rosetta",
   "language": "python",
   "name": "bw2_rosetta"
  },
  "language_info": {
   "codemirror_mode": {
    "name": "ipython",
    "version": 3
   },
   "file_extension": ".py",
   "mimetype": "text/x-python",
   "name": "python",
   "nbconvert_exporter": "python",
   "pygments_lexer": "ipython3",
   "version": "3.9.12"
  }
 },
 "nbformat": 4,
 "nbformat_minor": 5
}

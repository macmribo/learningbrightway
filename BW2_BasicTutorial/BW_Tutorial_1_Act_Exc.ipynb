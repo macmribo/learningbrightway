{
 "cells": [
  {
   "cell_type": "markdown",
   "id": "279a91c0-9b03-4664-bc97-6c95ee82101f",
   "metadata": {
    "tags": []
   },
   "source": [
    "# 1. Activities and exchanges"
   ]
  },
  {
   "cell_type": "markdown",
   "id": "720702a7-aaf8-44cc-af93-50ec0498623e",
   "metadata": {},
   "source": [
    "How to use `Activity` and `Exchange` classes. This tutorial is a copy of the oficial [tutorial](https://github.com/brightway-lca/brightway2/blob/master/notebooks/Activities%20and%20exchanges.ipynb) with some additional information for a more comprehensive learning experience.with some additional information for a more comprehensive learning experience. See [this](https://github.com/brightway-lca/brightway2/blob/master/notebooks/Parameters%20-%20manual%20creation.ipynbhttps://github.com/brightway-lca/brightway2/blob/master/notebooks/Parameters%20-%20manual%20creation.ipynb) Notebook for additional ways of creating activities and exchanges."
   ]
  },
  {
   "cell_type": "markdown",
   "id": "94fda399-b152-45ea-8c74-4042e9a893c9",
   "metadata": {},
   "source": [
    "Methods used throughout this tutorial:\n",
    "\n",
    "* `projects.set_current('project_name')`: Create a new project.\n",
    "\n",
    "* `Database('database_name')`: Create a new database.\n",
    "\n",
    "* `db.write({})`: Data insert (see below for further data structure for the dictionary).\n",
    "\n",
    "* `db.get('activity_name')`: Extract activity(s) from the database. This is saved into a variable, e.g. `activity_var_name`.\n",
    "\n",
    "* `activity_var_name.save()`: Save changes.\n",
    "\n",
    "* `activity_var_name.key`: See the activity name.\n",
    "\n",
    "* `activity_var_name.exchanges()`: When used in a `for` loop, it extracts the exchanges.\n",
    "\n",
    "* `activity_var_name.technosphere()`: When used in a `for` loop, it extracts the technosphere exchanges.\n",
    "\n",
    "* `activity_var_name.biosphere()`: When used in a `for` loop, it extracts the biosphere exchanges.\n",
    "\n",
    "* `activity_var_name.production()`: When used in a `for` loop, it extracts the production exchanges.\n",
    "\n",
    "* `len(input)`: Counts the number of items of the input.\n",
    "\n",
    "* `db.new_activity(code='activity_code', name='activity_name')`: Create a new activity. It generates the code by default if the attribute is not specified. If only code is defined, it will not be able to save. An activity always needs a name. This is normally saved into a new varable, e.g. `new_activity_var_name`.\n",
    "\n",
    "* `new_activity_var_name.new_exchange(input='input_activity', amount=1, type='whatever_type')`: Create new exchanges for the newly created activity. The `amount` can also be 0 if the amount is calculated bases on preceeding activities and exchanges calculations (see [here](https://github.com/brightway-lca/brightway2/blob/master/notebooks/Parameters%20-%20manual%20creation.ipynbhttps://github.com/brightway-lca/brightway2/blob/master/notebooks/Parameters%20-%20manual%20creation.ipynb) for such calculations). This is normally saved into a new varable, e.g. `new_exchange_var_name`.\n",
    "\n",
    "* `new_exchange_var_name.input` and `new_exchange_var_name.output` will return activities\n",
    "\n",
    "* `new_exchange_var_name.unit`: Returns the units of the exchange.\n",
    "\n",
    "* `new_exchange_var_name.amount`: Returns the amount of the exchange.\n",
    "\n",
    "* `new_exchange_var_name.uncertainty_type`: If the uncertainty was calculated, it will return the type uncertainy of the exchange. See below how to set the uncertainty.\n",
    "\n",
    "* `new_exchange_var_name.uncertainty`: If calculated, it returns the uncertinty.\n",
    "\n",
    "* `new_exchange_var_name.random_sample(n=size of the sample)`: For now I am not sure what is this randomization, but I assume it is the uncertainty.\n",
    "\n",
    "* `activity_you_copied_from.copy(name='name of the new activity', code='chosen code')`: Copy activities and exchanges with a new name and code. It does not copy upstreams.\n",
    "\n",
    "* `activity.upstream()`: Shows the upstream of an activity.\n",
    "\n",
    "* `activity.delete()`: Deletes the activity.\n"
   ]
  },
  {
   "cell_type": "markdown",
   "id": "3c47c843-36fa-44e3-893d-32137c0827fc",
   "metadata": {},
   "source": [
    "Start Brightway2:"
   ]
  },
  {
   "cell_type": "code",
   "execution_count": 1,
   "id": "7ab5415b-9d6a-4514-b4f8-aa10edb2b628",
   "metadata": {},
   "outputs": [],
   "source": [
    "from brightway2 import * # Start Brightway2"
   ]
  },
  {
   "cell_type": "markdown",
   "id": "e63c8a68-9a87-4cf7-a7cd-4be2c43a63bb",
   "metadata": {},
   "source": [
    "Create a new project:"
   ]
  },
  {
   "cell_type": "code",
   "execution_count": 2,
   "id": "383805ac-e59a-44c7-8694-2b461c720246",
   "metadata": {},
   "outputs": [],
   "source": [
    "projects.set_current(\"Tut_1_Activities_Exchanges\") # Create a new project"
   ]
  },
  {
   "cell_type": "markdown",
   "id": "d8482637-847e-4188-aad3-138d157e4997",
   "metadata": {},
   "source": [
    "Create a new database:"
   ]
  },
  {
   "cell_type": "code",
   "execution_count": 3,
   "id": "b2984812-67dc-4384-817e-2e279241167d",
   "metadata": {},
   "outputs": [],
   "source": [
    "db = Database('a_e')"
   ]
  },
  {
   "cell_type": "markdown",
   "id": "459a9b3a-edb0-4c62-847e-5bcacc96ecc8",
   "metadata": {},
   "source": [
    "Let's insert some basic data:"
   ]
  },
  {
   "cell_type": "code",
   "execution_count": 4,
   "id": "fc4c3aec-05e8-4f29-a8cc-d5125d047b8f",
   "metadata": {},
   "outputs": [
    {
     "name": "stderr",
     "output_type": "stream",
     "text": [
      "Writing activities to SQLite3 database:\n",
      "0% [####] 100% | ETA: 00:00:00\n",
      "Total time elapsed: 00:00:00\n"
     ]
    },
    {
     "name": "stdout",
     "output_type": "stream",
     "text": [
      "Title: Writing activities to SQLite3 database:\n",
      "  Started: 08/03/2022 07:47:20\n",
      "  Finished: 08/03/2022 07:47:20\n",
      "  Total time elapsed: 00:00:00\n",
      "  CPU %: 2.60\n",
      "  Memory %: 0.54\n"
     ]
    }
   ],
   "source": [
    "db.write({\n",
    "    ('a_e', 'cat'): {                                          # Actrivity 1 - They always need a name!                            \n",
    "        'name': 'cat',                                             # Characteristic 1\n",
    "        'unit': 'kilogram',                                        # Characteristic 2\n",
    "        'color': 'black',                                          # Characteristic 3\n",
    "        'exchanges': [{                                            # Exchanges - They always have to have 'input', 'amount' and 'type' minimum\n",
    "            'input': ('a_e', 'cat food'),                              # Input 1 -> Activity 2\n",
    "            'amount': 10,                                              \n",
    "            'type': 'technosphere'                                    \n",
    "        }, {\n",
    "            'input': ('a_e', 'kitty litter'),                          # Input 2 -> Activity 3\n",
    "            'amount': 10,\n",
    "            'type': 'technosphere'\n",
    "        }, {\n",
    "            'input': ('a_e', 'smell'),                                 # Input 3 -> Activity 4\n",
    "            'amount': 1,\n",
    "            'type': 'biosphere'\n",
    "        }]\n",
    "    },\n",
    "    ('a_e', 'kitty litter'): {'name': 'yuk'},                    # Activity 2, since these are flows, they don't have exchanges.\n",
    "    ('a_e', 'cat food'): {'name': 'yum'},                        # Activity 3\n",
    "    ('a_e', 'smell'): {'name': 'stinky', 'type': 'biosphere'},   # Activity 4\n",
    "})"
   ]
  },
  {
   "cell_type": "markdown",
   "id": "72464aab-df84-4e75-b98d-8e7078a9faf4",
   "metadata": {},
   "source": [
    "Let's get an activity with `.get()`:"
   ]
  },
  {
   "cell_type": "code",
   "execution_count": 5,
   "id": "e9a9d609-24ee-4621-af58-7dfb43b25988",
   "metadata": {},
   "outputs": [
    {
     "data": {
      "text/plain": [
       "'cat' (kilogram, None, None)"
      ]
     },
     "execution_count": 5,
     "metadata": {},
     "output_type": "execute_result"
    }
   ],
   "source": [
    "act = db.get('cat')\n",
    "act"
   ]
  },
  {
   "cell_type": "markdown",
   "id": "5faf7509-c877-4eea-9212-a7c8deb82b7a",
   "metadata": {},
   "source": [
    "The `cat` process has no categories or location so far. Let's change that:"
   ]
  },
  {
   "cell_type": "code",
   "execution_count": 6,
   "id": "7b81cb35-da42-4e8f-9de2-e81b5a7bf089",
   "metadata": {},
   "outputs": [
    {
     "data": {
      "text/plain": [
       "'cat' (kilogram, inside, ['felis', 'catus'])"
      ]
     },
     "execution_count": 6,
     "metadata": {},
     "output_type": "execute_result"
    }
   ],
   "source": [
    "act['location'] = 'inside'\n",
    "act['categories'] = ['felis', 'catus']\n",
    "act"
   ]
  },
  {
   "cell_type": "markdown",
   "id": "c9e7adb4-8ab1-4bfc-b600-140706ea0c08",
   "metadata": {},
   "source": [
    "Let's save:"
   ]
  },
  {
   "cell_type": "code",
   "execution_count": 7,
   "id": "2db2c189-bac5-44cb-bbd2-44aeb26a5ff4",
   "metadata": {},
   "outputs": [],
   "source": [
    "act.save()"
   ]
  },
  {
   "cell_type": "markdown",
   "id": "54021b90-3650-4c92-8d17-dfec3253f3bf",
   "metadata": {},
   "source": [
    "Let's iterate over the available data with a `for` loop:"
   ]
  },
  {
   "cell_type": "code",
   "execution_count": 8,
   "id": "898801f9-9fcb-4761-9c4e-27e30014d9d9",
   "metadata": {},
   "outputs": [
    {
     "name": "stdout",
     "output_type": "stream",
     "text": [
      "name : cat\n",
      "unit : kilogram\n",
      "color : black\n",
      "database : a_e\n",
      "code : cat\n",
      "location : inside\n",
      "categories : ['felis', 'catus']\n"
     ]
    }
   ],
   "source": [
    "for key in act:\n",
    "    print(key, ':', act[key])"
   ]
  },
  {
   "cell_type": "markdown",
   "id": "89285bba-4edb-4eb6-a02c-e4564b689a79",
   "metadata": {},
   "source": [
    "Note that the fields `database` and `code` were automatically added.\n",
    "Let's see the some methods for an activity."
   ]
  },
  {
   "cell_type": "code",
   "execution_count": 9,
   "id": "d1c34b46-ba78-4fe7-bc03-30b0d3a4b436",
   "metadata": {},
   "outputs": [
    {
     "data": {
      "text/plain": [
       "('a_e', 'cat')"
      ]
     },
     "execution_count": 9,
     "metadata": {},
     "output_type": "execute_result"
    }
   ],
   "source": [
    "act.key # See the activity key"
   ]
  },
  {
   "cell_type": "code",
   "execution_count": 10,
   "id": "a5b27f15-11b0-48ee-ad0a-be849453f3f1",
   "metadata": {},
   "outputs": [
    {
     "name": "stdout",
     "output_type": "stream",
     "text": [
      "Exchange: 10 None 'yum' (None, None, None) to 'cat' (kilogram, inside, ['felis', 'catus'])>\n",
      "Exchange: 10 None 'yuk' (None, None, None) to 'cat' (kilogram, inside, ['felis', 'catus'])>\n",
      "Exchange: 1 None 'stinky' (None, None, None) to 'cat' (kilogram, inside, ['felis', 'catus'])>\n"
     ]
    }
   ],
   "source": [
    "for exc in act.exchanges(): # Iterate over exchanges\n",
    "    print(exc)"
   ]
  },
  {
   "cell_type": "code",
   "execution_count": 11,
   "id": "38610a9a-6366-4d07-b771-2ad9e68836c8",
   "metadata": {},
   "outputs": [
    {
     "name": "stdout",
     "output_type": "stream",
     "text": [
      "Technosphere exchanges:\n",
      "Exchange: 10 None 'yum' (None, None, None) to 'cat' (kilogram, inside, ['felis', 'catus'])>\n",
      "Exchange: 10 None 'yuk' (None, None, None) to 'cat' (kilogram, inside, ['felis', 'catus'])>\n",
      "Biosphere exchanges:\n",
      "Exchange: 1 None 'stinky' (None, None, None) to 'cat' (kilogram, inside, ['felis', 'catus'])>\n",
      "Production exchanges:\n"
     ]
    }
   ],
   "source": [
    "print('Technosphere exchanges:') # Let's see specific exchanges\n",
    "for exc in act.technosphere():\n",
    "    print(exc)\n",
    "print('Biosphere exchanges:')\n",
    "for exc in act.biosphere():\n",
    "    print(exc)\n",
    "print('Production exchanges:')\n",
    "for exc in act.production():\n",
    "    print(exc)"
   ]
  },
  {
   "cell_type": "code",
   "execution_count": 12,
   "id": "9c5616c8-a385-4db1-ba42-0905fc2202f5",
   "metadata": {},
   "outputs": [
    {
     "data": {
      "text/plain": [
       "3"
      ]
     },
     "execution_count": 12,
     "metadata": {},
     "output_type": "execute_result"
    }
   ],
   "source": [
    "len(act.exchanges())  # Count exchanges"
   ]
  },
  {
   "cell_type": "markdown",
   "id": "76a9ba44-f128-4b00-933e-b1c32edf9d0e",
   "metadata": {},
   "source": [
    "In this case, there was not a production exchange — Brightway2 sets production to 1 when building the technosphere matrix in no production exchange is given.\n",
    "\n",
    "Let's look at upstream exchanges — those that consume this activity's reference product. Since we don't have any yet, let us create an new activity:"
   ]
  },
  {
   "cell_type": "code",
   "execution_count": 13,
   "id": "6ef565d3-c435-4707-b3c1-fe0114eddf4e",
   "metadata": {},
   "outputs": [
    {
     "ename": "ValidityError",
     "evalue": "This activity can't be saved for the following reasons\n\t* Missing field ``name``",
     "output_type": "error",
     "traceback": [
      "\u001b[0;31m---------------------------------------------------------------------------\u001b[0m",
      "\u001b[0;31mValidityError\u001b[0m                             Traceback (most recent call last)",
      "Input \u001b[0;32mIn [13]\u001b[0m, in \u001b[0;36m<cell line: 2>\u001b[0;34m()\u001b[0m\n\u001b[1;32m      1\u001b[0m na \u001b[38;5;241m=\u001b[39m db\u001b[38;5;241m.\u001b[39mnew_activity(\u001b[38;5;124m\"\u001b[39m\u001b[38;5;124mdog\u001b[39m\u001b[38;5;124m\"\u001b[39m) \u001b[38;5;66;03m# \"dog\" is set as 'code' by default\u001b[39;00m\n\u001b[0;32m----> 2\u001b[0m \u001b[43mna\u001b[49m\u001b[38;5;241;43m.\u001b[39;49m\u001b[43msave\u001b[49m\u001b[43m(\u001b[49m\u001b[43m)\u001b[49m\n",
      "File \u001b[0;32m~/opt/miniconda3/envs/bw_rosetta/lib/python3.9/site-packages/bw2data/project.py:358\u001b[0m, in \u001b[0;36mwritable_project\u001b[0;34m(wrapped, instance, args, kwargs)\u001b[0m\n\u001b[1;32m    356\u001b[0m \u001b[38;5;28;01mif\u001b[39;00m projects\u001b[38;5;241m.\u001b[39mread_only:\n\u001b[1;32m    357\u001b[0m     \u001b[38;5;28;01mraise\u001b[39;00m ReadOnlyProject(READ_ONLY_PROJECT)\n\u001b[0;32m--> 358\u001b[0m \u001b[38;5;28;01mreturn\u001b[39;00m \u001b[43mwrapped\u001b[49m\u001b[43m(\u001b[49m\u001b[38;5;241;43m*\u001b[39;49m\u001b[43margs\u001b[49m\u001b[43m,\u001b[49m\u001b[43m \u001b[49m\u001b[38;5;241;43m*\u001b[39;49m\u001b[38;5;241;43m*\u001b[39;49m\u001b[43mkwargs\u001b[49m\u001b[43m)\u001b[49m\n",
      "File \u001b[0;32m~/opt/miniconda3/envs/bw_rosetta/lib/python3.9/site-packages/bw2data/backends/peewee/proxies.py:160\u001b[0m, in \u001b[0;36mActivity.save\u001b[0;34m(self)\u001b[0m\n\u001b[1;32m    157\u001b[0m \u001b[38;5;28;01mfrom\u001b[39;00m \u001b[38;5;21;01m.\u001b[39;00m\u001b[38;5;21;01m.\u001b[39;00m\u001b[38;5;21;01m.\u001b[39;00m \u001b[38;5;28;01mimport\u001b[39;00m Database\n\u001b[1;32m    159\u001b[0m \u001b[38;5;28;01mif\u001b[39;00m \u001b[38;5;129;01mnot\u001b[39;00m \u001b[38;5;28mself\u001b[39m\u001b[38;5;241m.\u001b[39mvalid():\n\u001b[0;32m--> 160\u001b[0m     \u001b[38;5;28;01mraise\u001b[39;00m ValidityError(\u001b[38;5;124m\"\u001b[39m\u001b[38;5;124mThis activity can\u001b[39m\u001b[38;5;124m'\u001b[39m\u001b[38;5;124mt be saved for the \u001b[39m\u001b[38;5;124m\"\u001b[39m\n\u001b[1;32m    161\u001b[0m         \u001b[38;5;124m\"\u001b[39m\u001b[38;5;124mfollowing reasons\u001b[39m\u001b[38;5;130;01m\\n\u001b[39;00m\u001b[38;5;130;01m\\t\u001b[39;00m\u001b[38;5;124m* \u001b[39m\u001b[38;5;124m\"\u001b[39m \u001b[38;5;241m+\u001b[39m \\\n\u001b[1;32m    162\u001b[0m         \u001b[38;5;124m\"\u001b[39m\u001b[38;5;130;01m\\n\u001b[39;00m\u001b[38;5;130;01m\\t\u001b[39;00m\u001b[38;5;124m* \u001b[39m\u001b[38;5;124m\"\u001b[39m\u001b[38;5;241m.\u001b[39mjoin(\u001b[38;5;28mself\u001b[39m\u001b[38;5;241m.\u001b[39mvalid(why\u001b[38;5;241m=\u001b[39m\u001b[38;5;28;01mTrue\u001b[39;00m)[\u001b[38;5;241m1\u001b[39m])\n\u001b[1;32m    163\u001b[0m     )\n\u001b[1;32m    165\u001b[0m databases\u001b[38;5;241m.\u001b[39mset_dirty(\u001b[38;5;28mself\u001b[39m[\u001b[38;5;124m'\u001b[39m\u001b[38;5;124mdatabase\u001b[39m\u001b[38;5;124m'\u001b[39m])\n\u001b[1;32m    167\u001b[0m \u001b[38;5;28;01mfor\u001b[39;00m key, value \u001b[38;5;129;01min\u001b[39;00m dict_as_activitydataset(\u001b[38;5;28mself\u001b[39m\u001b[38;5;241m.\u001b[39m_data)\u001b[38;5;241m.\u001b[39mitems():\n",
      "\u001b[0;31mValidityError\u001b[0m: This activity can't be saved for the following reasons\n\t* Missing field ``name``"
     ]
    }
   ],
   "source": [
    "na = db.new_activity(\"dog\") # \"dog\" is set as 'code' by default\n",
    "na.save()"
   ]
  },
  {
   "cell_type": "markdown",
   "id": "ba30eac2-3c64-4ab6-8039-023dafb68836",
   "metadata": {},
   "source": [
    "Aha! An error! Why? Well, activities must have names!! Let's fix that:"
   ]
  },
  {
   "cell_type": "code",
   "execution_count": null,
   "id": "00fc60e0-723c-450c-9d91-6980fed749f7",
   "metadata": {},
   "outputs": [],
   "source": [
    "na['name'] = 'fido' # Another route, is to define the new activity attributes within the .new_activity() method, e.g.: db.new_activity(code='dog', name='fido')\n",
    "na.save()"
   ]
  },
  {
   "cell_type": "markdown",
   "id": "b8338f6e-c87b-4ee1-8442-421e75db39ed",
   "metadata": {},
   "source": [
    "We will also have a friendly error message if we dare to insert an invalid new exchange:"
   ]
  },
  {
   "cell_type": "code",
   "execution_count": 14,
   "id": "9c12fb42-4927-43f5-817e-cbd1658ca797",
   "metadata": {},
   "outputs": [
    {
     "ename": "ValidityError",
     "evalue": "This exchange can't be saved for the following reasons\n\t* Missing field ``input``\n\t* Invalid or missing field ``amount``\n\t* Missing field ``type``",
     "output_type": "error",
     "traceback": [
      "\u001b[0;31m---------------------------------------------------------------------------\u001b[0m",
      "\u001b[0;31mValidityError\u001b[0m                             Traceback (most recent call last)",
      "Input \u001b[0;32mIn [14]\u001b[0m, in \u001b[0;36m<cell line: 1>\u001b[0;34m()\u001b[0m\n\u001b[0;32m----> 1\u001b[0m \u001b[43mna\u001b[49m\u001b[38;5;241;43m.\u001b[39;49m\u001b[43mnew_exchange\u001b[49m\u001b[43m(\u001b[49m\u001b[43m)\u001b[49m\u001b[38;5;241;43m.\u001b[39;49m\u001b[43msave\u001b[49m\u001b[43m(\u001b[49m\u001b[43m)\u001b[49m\n",
      "File \u001b[0;32m~/opt/miniconda3/envs/bw_rosetta/lib/python3.9/site-packages/bw2data/project.py:358\u001b[0m, in \u001b[0;36mwritable_project\u001b[0;34m(wrapped, instance, args, kwargs)\u001b[0m\n\u001b[1;32m    356\u001b[0m \u001b[38;5;28;01mif\u001b[39;00m projects\u001b[38;5;241m.\u001b[39mread_only:\n\u001b[1;32m    357\u001b[0m     \u001b[38;5;28;01mraise\u001b[39;00m ReadOnlyProject(READ_ONLY_PROJECT)\n\u001b[0;32m--> 358\u001b[0m \u001b[38;5;28;01mreturn\u001b[39;00m \u001b[43mwrapped\u001b[49m\u001b[43m(\u001b[49m\u001b[38;5;241;43m*\u001b[39;49m\u001b[43margs\u001b[49m\u001b[43m,\u001b[49m\u001b[43m \u001b[49m\u001b[38;5;241;43m*\u001b[39;49m\u001b[38;5;241;43m*\u001b[39;49m\u001b[43mkwargs\u001b[49m\u001b[43m)\u001b[49m\n",
      "File \u001b[0;32m~/opt/miniconda3/envs/bw_rosetta/lib/python3.9/site-packages/bw2data/backends/peewee/proxies.py:348\u001b[0m, in \u001b[0;36mExchange.save\u001b[0;34m(self)\u001b[0m\n\u001b[1;32m    345\u001b[0m \u001b[38;5;129m@writable_project\u001b[39m\n\u001b[1;32m    346\u001b[0m \u001b[38;5;28;01mdef\u001b[39;00m \u001b[38;5;21msave\u001b[39m(\u001b[38;5;28mself\u001b[39m):\n\u001b[1;32m    347\u001b[0m     \u001b[38;5;28;01mif\u001b[39;00m \u001b[38;5;129;01mnot\u001b[39;00m \u001b[38;5;28mself\u001b[39m\u001b[38;5;241m.\u001b[39mvalid():\n\u001b[0;32m--> 348\u001b[0m         \u001b[38;5;28;01mraise\u001b[39;00m ValidityError(\u001b[38;5;124m\"\u001b[39m\u001b[38;5;124mThis exchange can\u001b[39m\u001b[38;5;124m'\u001b[39m\u001b[38;5;124mt be saved for the \u001b[39m\u001b[38;5;124m\"\u001b[39m\n\u001b[1;32m    349\u001b[0m             \u001b[38;5;124m\"\u001b[39m\u001b[38;5;124mfollowing reasons\u001b[39m\u001b[38;5;130;01m\\n\u001b[39;00m\u001b[38;5;130;01m\\t\u001b[39;00m\u001b[38;5;124m* \u001b[39m\u001b[38;5;124m\"\u001b[39m \u001b[38;5;241m+\u001b[39m \\\n\u001b[1;32m    350\u001b[0m             \u001b[38;5;124m\"\u001b[39m\u001b[38;5;130;01m\\n\u001b[39;00m\u001b[38;5;130;01m\\t\u001b[39;00m\u001b[38;5;124m* \u001b[39m\u001b[38;5;124m\"\u001b[39m\u001b[38;5;241m.\u001b[39mjoin(\u001b[38;5;28mself\u001b[39m\u001b[38;5;241m.\u001b[39mvalid(why\u001b[38;5;241m=\u001b[39m\u001b[38;5;28;01mTrue\u001b[39;00m)[\u001b[38;5;241m1\u001b[39m])\n\u001b[1;32m    351\u001b[0m         )\n\u001b[1;32m    353\u001b[0m     databases\u001b[38;5;241m.\u001b[39mset_dirty(\u001b[38;5;28mself\u001b[39m[\u001b[38;5;124m'\u001b[39m\u001b[38;5;124moutput\u001b[39m\u001b[38;5;124m'\u001b[39m][\u001b[38;5;241m0\u001b[39m])\n\u001b[1;32m    355\u001b[0m     \u001b[38;5;28;01mfor\u001b[39;00m key, value \u001b[38;5;129;01min\u001b[39;00m dict_as_exchangedataset(\u001b[38;5;28mself\u001b[39m\u001b[38;5;241m.\u001b[39m_data)\u001b[38;5;241m.\u001b[39mitems():\n",
      "\u001b[0;31mValidityError\u001b[0m: This exchange can't be saved for the following reasons\n\t* Missing field ``input``\n\t* Invalid or missing field ``amount``\n\t* Missing field ``type``"
     ]
    }
   ],
   "source": [
    "na.new_exchange().save()"
   ]
  },
  {
   "cell_type": "markdown",
   "id": "8138fdf7-d664-4e7d-8f6a-5a62c771eebb",
   "metadata": {},
   "source": [
    "Let's add a link to the cat process. "
   ]
  },
  {
   "cell_type": "code",
   "execution_count": 15,
   "id": "6bfa47e2-199b-43d4-8e54-0cd00fd16327",
   "metadata": {},
   "outputs": [],
   "source": [
    "new_exc = na.new_exchange(input=act, amount=1, type='technosphere')\n",
    "new_exc.save()"
   ]
  },
  {
   "cell_type": "markdown",
   "id": "28263b10-4fe7-44bc-98b0-8d595e4b8487",
   "metadata": {},
   "source": [
    "We can nos see `fido`'s link to `cat`:    "
   ]
  },
  {
   "cell_type": "code",
   "execution_count": 16,
   "id": "c9288fb9-e5ed-458a-95d3-bfe33ebca278",
   "metadata": {},
   "outputs": [
    {
     "ename": "ActivityDatasetDoesNotExist",
     "evalue": "<Model: ActivityDataset> instance matching query does not exist:\nSQL: SELECT \"t1\".\"id\", \"t1\".\"data\", \"t1\".\"code\", \"t1\".\"database\", \"t1\".\"location\", \"t1\".\"name\", \"t1\".\"product\", \"t1\".\"type\" FROM \"activitydataset\" AS \"t1\" WHERE ((\"t1\".\"database\" = ?) AND (\"t1\".\"code\" = ?)) ORDER BY Random() LIMIT ? OFFSET ?\nParams: ['a_e', 'dog', 1, 0]",
     "output_type": "error",
     "traceback": [
      "\u001b[0;31m---------------------------------------------------------------------------\u001b[0m",
      "\u001b[0;31mIndexError\u001b[0m                                Traceback (most recent call last)",
      "File \u001b[0;32m~/opt/miniconda3/envs/bw_rosetta/lib/python3.9/site-packages/peewee.py:7024\u001b[0m, in \u001b[0;36mBaseModelSelect.get\u001b[0;34m(self, database)\u001b[0m\n\u001b[1;32m   7023\u001b[0m \u001b[38;5;28;01mtry\u001b[39;00m:\n\u001b[0;32m-> 7024\u001b[0m     \u001b[38;5;28;01mreturn\u001b[39;00m \u001b[43mclone\u001b[49m\u001b[38;5;241;43m.\u001b[39;49m\u001b[43mexecute\u001b[49m\u001b[43m(\u001b[49m\u001b[43mdatabase\u001b[49m\u001b[43m)\u001b[49m\u001b[43m[\u001b[49m\u001b[38;5;241;43m0\u001b[39;49m\u001b[43m]\u001b[49m\n\u001b[1;32m   7025\u001b[0m \u001b[38;5;28;01mexcept\u001b[39;00m \u001b[38;5;167;01mIndexError\u001b[39;00m:\n",
      "File \u001b[0;32m~/opt/miniconda3/envs/bw_rosetta/lib/python3.9/site-packages/peewee.py:4389\u001b[0m, in \u001b[0;36mCursorWrapper.__getitem__\u001b[0;34m(self, item)\u001b[0m\n\u001b[1;32m   4388\u001b[0m     \u001b[38;5;28mself\u001b[39m\u001b[38;5;241m.\u001b[39mfill_cache(item \u001b[38;5;28;01mif\u001b[39;00m item \u001b[38;5;241m>\u001b[39m \u001b[38;5;241m0\u001b[39m \u001b[38;5;28;01melse\u001b[39;00m \u001b[38;5;241m0\u001b[39m)\n\u001b[0;32m-> 4389\u001b[0m     \u001b[38;5;28;01mreturn\u001b[39;00m \u001b[38;5;28;43mself\u001b[39;49m\u001b[38;5;241;43m.\u001b[39;49m\u001b[43mrow_cache\u001b[49m\u001b[43m[\u001b[49m\u001b[43mitem\u001b[49m\u001b[43m]\u001b[49m\n\u001b[1;32m   4390\u001b[0m \u001b[38;5;28;01melse\u001b[39;00m:\n",
      "\u001b[0;31mIndexError\u001b[0m: list index out of range",
      "\nDuring handling of the above exception, another exception occurred:\n",
      "\u001b[0;31mActivityDatasetDoesNotExist\u001b[0m               Traceback (most recent call last)",
      "Input \u001b[0;32mIn [16]\u001b[0m, in \u001b[0;36m<cell line: 1>\u001b[0;34m()\u001b[0m\n\u001b[1;32m      1\u001b[0m \u001b[38;5;28;01mfor\u001b[39;00m exc \u001b[38;5;129;01min\u001b[39;00m na\u001b[38;5;241m.\u001b[39mtechnosphere():\n\u001b[0;32m----> 2\u001b[0m     \u001b[38;5;28;43mprint\u001b[39;49m\u001b[43m(\u001b[49m\u001b[43mexc\u001b[49m\u001b[43m)\u001b[49m\n",
      "File \u001b[0;32m~/opt/miniconda3/envs/bw_rosetta/lib/python3.9/site-packages/bw2data/proxies.py:131\u001b[0m, in \u001b[0;36mExchangeProxyBase.__str__\u001b[0;34m(self)\u001b[0m\n\u001b[1;32m    128\u001b[0m \u001b[38;5;28;01mdef\u001b[39;00m \u001b[38;5;21m__str__\u001b[39m(\u001b[38;5;28mself\u001b[39m):\n\u001b[1;32m    129\u001b[0m     \u001b[38;5;28;01mif\u001b[39;00m \u001b[38;5;28mself\u001b[39m\u001b[38;5;241m.\u001b[39mvalid():\n\u001b[1;32m    130\u001b[0m         \u001b[38;5;28;01mreturn\u001b[39;00m \u001b[38;5;124m\"\u001b[39m\u001b[38;5;124mExchange: \u001b[39m\u001b[38;5;132;01m{}\u001b[39;00m\u001b[38;5;124m \u001b[39m\u001b[38;5;132;01m{}\u001b[39;00m\u001b[38;5;124m \u001b[39m\u001b[38;5;132;01m{}\u001b[39;00m\u001b[38;5;124m to \u001b[39m\u001b[38;5;132;01m{}\u001b[39;00m\u001b[38;5;124m>\u001b[39m\u001b[38;5;124m\"\u001b[39m\u001b[38;5;241m.\u001b[39mformat(\u001b[38;5;28mself\u001b[39m\u001b[38;5;241m.\u001b[39mamount, \u001b[38;5;28mself\u001b[39m\u001b[38;5;241m.\u001b[39munit,\n\u001b[0;32m--> 131\u001b[0m             \u001b[38;5;28mself\u001b[39m\u001b[38;5;241m.\u001b[39minput, \u001b[38;5;28;43mself\u001b[39;49m\u001b[38;5;241;43m.\u001b[39;49m\u001b[43moutput\u001b[49m)\n\u001b[1;32m    132\u001b[0m     \u001b[38;5;28;01melse\u001b[39;00m:\n\u001b[1;32m    133\u001b[0m         \u001b[38;5;28;01mreturn\u001b[39;00m \u001b[38;5;124m\"\u001b[39m\u001b[38;5;124mExchange with missing fields (call ``valid(why=True)`` to see more)\u001b[39m\u001b[38;5;124m\"\u001b[39m\n",
      "File \u001b[0;32m~/opt/miniconda3/envs/bw_rosetta/lib/python3.9/site-packages/bw2data/proxies.py:172\u001b[0m, in \u001b[0;36mExchangeProxyBase._get_output\u001b[0;34m(self)\u001b[0m\n\u001b[1;32m    170\u001b[0m     \u001b[38;5;28;01mraise\u001b[39;00m InvalidExchange(\u001b[38;5;124m\"\u001b[39m\u001b[38;5;124mMissing valid data for `output` field\u001b[39m\u001b[38;5;124m\"\u001b[39m)\n\u001b[1;32m    171\u001b[0m \u001b[38;5;28;01melif\u001b[39;00m \u001b[38;5;129;01mnot\u001b[39;00m \u001b[38;5;28mhasattr\u001b[39m(\u001b[38;5;28mself\u001b[39m, \u001b[38;5;124m\"\u001b[39m\u001b[38;5;124m_output\u001b[39m\u001b[38;5;124m\"\u001b[39m):\n\u001b[0;32m--> 172\u001b[0m     \u001b[38;5;28mself\u001b[39m\u001b[38;5;241m.\u001b[39m_output \u001b[38;5;241m=\u001b[39m \u001b[43mget_activity\u001b[49m\u001b[43m(\u001b[49m\u001b[38;5;28;43mself\u001b[39;49m\u001b[43m[\u001b[49m\u001b[38;5;124;43m'\u001b[39;49m\u001b[38;5;124;43moutput\u001b[39;49m\u001b[38;5;124;43m'\u001b[39;49m\u001b[43m]\u001b[49m\u001b[43m)\u001b[49m\n\u001b[1;32m    173\u001b[0m \u001b[38;5;28;01mreturn\u001b[39;00m \u001b[38;5;28mself\u001b[39m\u001b[38;5;241m.\u001b[39m_output\n",
      "File \u001b[0;32m~/opt/miniconda3/envs/bw_rosetta/lib/python3.9/site-packages/bw2data/utils.py:335\u001b[0m, in \u001b[0;36mget_activity\u001b[0;34m(key)\u001b[0m\n\u001b[1;32m    333\u001b[0m \u001b[38;5;28;01mfrom\u001b[39;00m \u001b[38;5;21;01m.\u001b[39;00m\u001b[38;5;21;01mdatabase\u001b[39;00m \u001b[38;5;28;01mimport\u001b[39;00m Database\n\u001b[1;32m    334\u001b[0m \u001b[38;5;28;01mtry\u001b[39;00m:\n\u001b[0;32m--> 335\u001b[0m     \u001b[38;5;28;01mreturn\u001b[39;00m \u001b[43mDatabase\u001b[49m\u001b[43m(\u001b[49m\u001b[43mkey\u001b[49m\u001b[43m[\u001b[49m\u001b[38;5;241;43m0\u001b[39;49m\u001b[43m]\u001b[49m\u001b[43m)\u001b[49m\u001b[38;5;241;43m.\u001b[39;49m\u001b[43mget\u001b[49m\u001b[43m(\u001b[49m\u001b[43mkey\u001b[49m\u001b[43m[\u001b[49m\u001b[38;5;241;43m1\u001b[39;49m\u001b[43m]\u001b[49m\u001b[43m)\u001b[49m\n\u001b[1;32m    336\u001b[0m \u001b[38;5;28;01mexcept\u001b[39;00m \u001b[38;5;167;01mTypeError\u001b[39;00m:\n\u001b[1;32m    337\u001b[0m     \u001b[38;5;28;01mraise\u001b[39;00m UnknownObject(\u001b[38;5;124m\"\u001b[39m\u001b[38;5;124mKey \u001b[39m\u001b[38;5;132;01m{}\u001b[39;00m\u001b[38;5;124m cannot be understood as an activity\u001b[39m\u001b[38;5;124m\"\u001b[39m\n\u001b[1;32m    338\u001b[0m                         \u001b[38;5;124m\"\u001b[39m\u001b[38;5;124m or `(database, code)` tuple.\u001b[39m\u001b[38;5;124m\"\u001b[39m)\n",
      "File \u001b[0;32m~/opt/miniconda3/envs/bw_rosetta/lib/python3.9/site-packages/bw2data/backends/peewee/database.py:132\u001b[0m, in \u001b[0;36mSQLiteBackend.get\u001b[0;34m(self, code)\u001b[0m\n\u001b[1;32m    130\u001b[0m \u001b[38;5;28;01mdef\u001b[39;00m \u001b[38;5;21mget\u001b[39m(\u001b[38;5;28mself\u001b[39m, code):\n\u001b[1;32m    131\u001b[0m     \u001b[38;5;28;01mreturn\u001b[39;00m Activity(\n\u001b[0;32m--> 132\u001b[0m         \u001b[38;5;28;43mself\u001b[39;49m\u001b[38;5;241;43m.\u001b[39;49m\u001b[43m_get_queryset\u001b[49m\u001b[43m(\u001b[49m\u001b[43mfilters\u001b[49m\u001b[38;5;241;43m=\u001b[39;49m\u001b[38;5;28;43;01mFalse\u001b[39;49;00m\u001b[43m)\u001b[49m\u001b[38;5;241;43m.\u001b[39;49m\u001b[43mwhere\u001b[49m\u001b[43m(\u001b[49m\n\u001b[1;32m    133\u001b[0m \u001b[43m            \u001b[49m\u001b[43mActivityDataset\u001b[49m\u001b[38;5;241;43m.\u001b[39;49m\u001b[43mcode\u001b[49m\u001b[43m \u001b[49m\u001b[38;5;241;43m==\u001b[39;49m\u001b[43m \u001b[49m\u001b[43mcode\u001b[49m\u001b[43m)\u001b[49m\u001b[38;5;241;43m.\u001b[39;49m\u001b[43mget\u001b[49m\u001b[43m(\u001b[49m\u001b[43m)\u001b[49m\n\u001b[1;32m    134\u001b[0m     )\n",
      "File \u001b[0;32m~/opt/miniconda3/envs/bw_rosetta/lib/python3.9/site-packages/peewee.py:7027\u001b[0m, in \u001b[0;36mBaseModelSelect.get\u001b[0;34m(self, database)\u001b[0m\n\u001b[1;32m   7025\u001b[0m \u001b[38;5;28;01mexcept\u001b[39;00m \u001b[38;5;167;01mIndexError\u001b[39;00m:\n\u001b[1;32m   7026\u001b[0m     sql, params \u001b[38;5;241m=\u001b[39m clone\u001b[38;5;241m.\u001b[39msql()\n\u001b[0;32m-> 7027\u001b[0m     \u001b[38;5;28;01mraise\u001b[39;00m \u001b[38;5;28mself\u001b[39m\u001b[38;5;241m.\u001b[39mmodel\u001b[38;5;241m.\u001b[39mDoesNotExist(\u001b[38;5;124m'\u001b[39m\u001b[38;5;132;01m%s\u001b[39;00m\u001b[38;5;124m instance matching query does \u001b[39m\u001b[38;5;124m'\u001b[39m\n\u001b[1;32m   7028\u001b[0m                                   \u001b[38;5;124m'\u001b[39m\u001b[38;5;124mnot exist:\u001b[39m\u001b[38;5;130;01m\\n\u001b[39;00m\u001b[38;5;124mSQL: \u001b[39m\u001b[38;5;132;01m%s\u001b[39;00m\u001b[38;5;130;01m\\n\u001b[39;00m\u001b[38;5;124mParams: \u001b[39m\u001b[38;5;132;01m%s\u001b[39;00m\u001b[38;5;124m'\u001b[39m \u001b[38;5;241m%\u001b[39m\n\u001b[1;32m   7029\u001b[0m                                   (clone\u001b[38;5;241m.\u001b[39mmodel, sql, params))\n",
      "\u001b[0;31mActivityDatasetDoesNotExist\u001b[0m: <Model: ActivityDataset> instance matching query does not exist:\nSQL: SELECT \"t1\".\"id\", \"t1\".\"data\", \"t1\".\"code\", \"t1\".\"database\", \"t1\".\"location\", \"t1\".\"name\", \"t1\".\"product\", \"t1\".\"type\" FROM \"activitydataset\" AS \"t1\" WHERE ((\"t1\".\"database\" = ?) AND (\"t1\".\"code\" = ?)) ORDER BY Random() LIMIT ? OFFSET ?\nParams: ['a_e', 'dog', 1, 0]"
     ]
    }
   ],
   "source": [
    "for exc in na.technosphere():\n",
    "    print(exc)"
   ]
  },
  {
   "cell_type": "code",
   "execution_count": null,
   "id": "7e41c349-f54c-4191-b355-7c00be2051aa",
   "metadata": {},
   "outputs": [],
   "source": [
    "for exc in act.upstream():\n",
    "    print(exc)"
   ]
  },
  {
   "cell_type": "markdown",
   "id": "29ac4158-03a1-4cbe-a1e2-43f512e297a4",
   "metadata": {},
   "source": [
    "`exc.input` and `exc.output` will return activities:"
   ]
  },
  {
   "cell_type": "code",
   "execution_count": null,
   "id": "9afc902a-53d2-457b-9d2d-fbf4c555fbef",
   "metadata": {},
   "outputs": [],
   "source": [
    "new_exc.input, new_exc.output"
   ]
  },
  {
   "cell_type": "markdown",
   "id": "92150b57-78ce-43e1-8f5c-7962960a8464",
   "metadata": {},
   "source": [
    "More methods for exchanges:"
   ]
  },
  {
   "cell_type": "code",
   "execution_count": null,
   "id": "811f4fef-c6c7-4ebb-be99-da6137f39d5f",
   "metadata": {},
   "outputs": [],
   "source": [
    "new_exc.unit, new_exc.amount, new_exc.uncertainty_type"
   ]
  },
  {
   "cell_type": "markdown",
   "id": "e86af18d-0ce7-43dd-9c53-39fe26f65d66",
   "metadata": {},
   "source": [
    "Let's add some [uncertainty](https://stats-arrays.readthedocs.io/en/latest/)!"
   ]
  },
  {
   "cell_type": "code",
   "execution_count": null,
   "id": "6b475836-7a9c-4fef-831c-993433a3fcdd",
   "metadata": {},
   "outputs": [],
   "source": [
    "from stats_arrays import NormalUncertainty\n",
    "\n",
    "new_exc['uncertainty type'] = NormalUncertainty.id\n",
    "new_exc['loc'], new_exc['scale'] = 1, 0.25\n",
    "new_exc.save()"
   ]
  },
  {
   "cell_type": "markdown",
   "id": "94988b2e-2ccc-4170-a177-dcd2bf068818",
   "metadata": {},
   "source": [
    "We can not get an uncertainty dictionaty for use in `stats_arrays` fuctions:"
   ]
  },
  {
   "cell_type": "code",
   "execution_count": 17,
   "id": "3c0c61ad-d429-4168-b865-bae606ec2d4c",
   "metadata": {},
   "outputs": [
    {
     "data": {
      "text/plain": [
       "{}"
      ]
     },
     "execution_count": 17,
     "metadata": {},
     "output_type": "execute_result"
    }
   ],
   "source": [
    "new_exc.uncertainty"
   ]
  },
  {
   "cell_type": "markdown",
   "id": "eef04bf3-b8cf-4aeb-a3a2-50adb73f11f3",
   "metadata": {},
   "source": [
    "Let's get a random sample:"
   ]
  },
  {
   "cell_type": "code",
   "execution_count": 18,
   "id": "f6c03f82-681c-470b-8b54-4a3fb3043c44",
   "metadata": {},
   "outputs": [
    {
     "data": {
      "text/plain": [
       "array([nan, nan, nan, nan, nan, nan, nan, nan, nan, nan])"
      ]
     },
     "execution_count": 18,
     "metadata": {},
     "output_type": "execute_result"
    }
   ],
   "source": [
    "new_exc.random_sample(n=10) # Are these random uncertainties?"
   ]
  },
  {
   "cell_type": "markdown",
   "id": "e31d8ac8-b16a-4c68-a149-e8a63af09eb7",
   "metadata": {},
   "source": [
    "We can also copy activities, this also copies the activities exchanges:"
   ]
  },
  {
   "cell_type": "code",
   "execution_count": 19,
   "id": "d683c27b-1918-4469-830f-28f96f93f4f2",
   "metadata": {},
   "outputs": [
    {
     "data": {
      "text/plain": [
       "('kudu' (kilogram, inside, ['felis', 'catus']),\n",
       " 'cat' (kilogram, inside, ['felis', 'catus']))"
      ]
     },
     "execution_count": 19,
     "metadata": {},
     "output_type": "execute_result"
    }
   ],
   "source": [
    "kudu = act.copy(name='kudu', code='antelope')\n",
    "kudu, act"
   ]
  },
  {
   "cell_type": "code",
   "execution_count": 20,
   "id": "f3411a98-1351-449f-99a5-3af3a5689001",
   "metadata": {},
   "outputs": [
    {
     "name": "stdout",
     "output_type": "stream",
     "text": [
      "name : kudu\n",
      "unit : kilogram\n",
      "color : black\n",
      "database : a_e\n",
      "code : antelope\n",
      "location : inside\n",
      "categories : ['felis', 'catus']\n"
     ]
    }
   ],
   "source": [
    "for key in kudu:\n",
    "    print(key, ':', kudu[key])"
   ]
  },
  {
   "cell_type": "code",
   "execution_count": 21,
   "id": "6a1a7331-f620-4cd0-b480-2accf5384e38",
   "metadata": {},
   "outputs": [
    {
     "name": "stdout",
     "output_type": "stream",
     "text": [
      "Exchange: 10 None 'yum' (None, None, None) to 'kudu' (kilogram, inside, ['felis', 'catus'])>\n",
      "Exchange: 10 None 'yuk' (None, None, None) to 'kudu' (kilogram, inside, ['felis', 'catus'])>\n",
      "Exchange: 1 None 'stinky' (None, None, None) to 'kudu' (kilogram, inside, ['felis', 'catus'])>\n"
     ]
    }
   ],
   "source": [
    "for exc in kudu.exchanges():\n",
    "    print(exc)"
   ]
  },
  {
   "cell_type": "markdown",
   "id": "0d6498a3-fd98-46ff-83da-215140b5932e",
   "metadata": {},
   "source": [
    "Upstream exchanges are not copied:"
   ]
  },
  {
   "cell_type": "code",
   "execution_count": 22,
   "id": "3ec0309b-ae3b-42e3-895d-721562beba45",
   "metadata": {},
   "outputs": [],
   "source": [
    "for exc in kudu.upstream():\n",
    "    print(exc)"
   ]
  },
  {
   "cell_type": "code",
   "execution_count": 23,
   "id": "de3df1dc-8ab0-4777-a798-8a48d9a001bd",
   "metadata": {},
   "outputs": [
    {
     "ename": "ActivityDatasetDoesNotExist",
     "evalue": "<Model: ActivityDataset> instance matching query does not exist:\nSQL: SELECT \"t1\".\"id\", \"t1\".\"data\", \"t1\".\"code\", \"t1\".\"database\", \"t1\".\"location\", \"t1\".\"name\", \"t1\".\"product\", \"t1\".\"type\" FROM \"activitydataset\" AS \"t1\" WHERE ((\"t1\".\"database\" = ?) AND (\"t1\".\"code\" = ?)) ORDER BY Random() LIMIT ? OFFSET ?\nParams: ['a_e', 'dog', 1, 0]",
     "output_type": "error",
     "traceback": [
      "\u001b[0;31m---------------------------------------------------------------------------\u001b[0m",
      "\u001b[0;31mIndexError\u001b[0m                                Traceback (most recent call last)",
      "File \u001b[0;32m~/opt/miniconda3/envs/bw_rosetta/lib/python3.9/site-packages/peewee.py:7024\u001b[0m, in \u001b[0;36mBaseModelSelect.get\u001b[0;34m(self, database)\u001b[0m\n\u001b[1;32m   7023\u001b[0m \u001b[38;5;28;01mtry\u001b[39;00m:\n\u001b[0;32m-> 7024\u001b[0m     \u001b[38;5;28;01mreturn\u001b[39;00m \u001b[43mclone\u001b[49m\u001b[38;5;241;43m.\u001b[39;49m\u001b[43mexecute\u001b[49m\u001b[43m(\u001b[49m\u001b[43mdatabase\u001b[49m\u001b[43m)\u001b[49m\u001b[43m[\u001b[49m\u001b[38;5;241;43m0\u001b[39;49m\u001b[43m]\u001b[49m\n\u001b[1;32m   7025\u001b[0m \u001b[38;5;28;01mexcept\u001b[39;00m \u001b[38;5;167;01mIndexError\u001b[39;00m:\n",
      "File \u001b[0;32m~/opt/miniconda3/envs/bw_rosetta/lib/python3.9/site-packages/peewee.py:4389\u001b[0m, in \u001b[0;36mCursorWrapper.__getitem__\u001b[0;34m(self, item)\u001b[0m\n\u001b[1;32m   4388\u001b[0m     \u001b[38;5;28mself\u001b[39m\u001b[38;5;241m.\u001b[39mfill_cache(item \u001b[38;5;28;01mif\u001b[39;00m item \u001b[38;5;241m>\u001b[39m \u001b[38;5;241m0\u001b[39m \u001b[38;5;28;01melse\u001b[39;00m \u001b[38;5;241m0\u001b[39m)\n\u001b[0;32m-> 4389\u001b[0m     \u001b[38;5;28;01mreturn\u001b[39;00m \u001b[38;5;28;43mself\u001b[39;49m\u001b[38;5;241;43m.\u001b[39;49m\u001b[43mrow_cache\u001b[49m\u001b[43m[\u001b[49m\u001b[43mitem\u001b[49m\u001b[43m]\u001b[49m\n\u001b[1;32m   4390\u001b[0m \u001b[38;5;28;01melse\u001b[39;00m:\n",
      "\u001b[0;31mIndexError\u001b[0m: list index out of range",
      "\nDuring handling of the above exception, another exception occurred:\n",
      "\u001b[0;31mActivityDatasetDoesNotExist\u001b[0m               Traceback (most recent call last)",
      "Input \u001b[0;32mIn [23]\u001b[0m, in \u001b[0;36m<cell line: 1>\u001b[0;34m()\u001b[0m\n\u001b[1;32m      1\u001b[0m \u001b[38;5;28;01mfor\u001b[39;00m exc \u001b[38;5;129;01min\u001b[39;00m act\u001b[38;5;241m.\u001b[39mupstream():\n\u001b[0;32m----> 2\u001b[0m     \u001b[38;5;28;43mprint\u001b[39;49m\u001b[43m(\u001b[49m\u001b[43mexc\u001b[49m\u001b[43m)\u001b[49m\n",
      "File \u001b[0;32m~/opt/miniconda3/envs/bw_rosetta/lib/python3.9/site-packages/bw2data/proxies.py:131\u001b[0m, in \u001b[0;36mExchangeProxyBase.__str__\u001b[0;34m(self)\u001b[0m\n\u001b[1;32m    128\u001b[0m \u001b[38;5;28;01mdef\u001b[39;00m \u001b[38;5;21m__str__\u001b[39m(\u001b[38;5;28mself\u001b[39m):\n\u001b[1;32m    129\u001b[0m     \u001b[38;5;28;01mif\u001b[39;00m \u001b[38;5;28mself\u001b[39m\u001b[38;5;241m.\u001b[39mvalid():\n\u001b[1;32m    130\u001b[0m         \u001b[38;5;28;01mreturn\u001b[39;00m \u001b[38;5;124m\"\u001b[39m\u001b[38;5;124mExchange: \u001b[39m\u001b[38;5;132;01m{}\u001b[39;00m\u001b[38;5;124m \u001b[39m\u001b[38;5;132;01m{}\u001b[39;00m\u001b[38;5;124m \u001b[39m\u001b[38;5;132;01m{}\u001b[39;00m\u001b[38;5;124m to \u001b[39m\u001b[38;5;132;01m{}\u001b[39;00m\u001b[38;5;124m>\u001b[39m\u001b[38;5;124m\"\u001b[39m\u001b[38;5;241m.\u001b[39mformat(\u001b[38;5;28mself\u001b[39m\u001b[38;5;241m.\u001b[39mamount, \u001b[38;5;28mself\u001b[39m\u001b[38;5;241m.\u001b[39munit,\n\u001b[0;32m--> 131\u001b[0m             \u001b[38;5;28mself\u001b[39m\u001b[38;5;241m.\u001b[39minput, \u001b[38;5;28;43mself\u001b[39;49m\u001b[38;5;241;43m.\u001b[39;49m\u001b[43moutput\u001b[49m)\n\u001b[1;32m    132\u001b[0m     \u001b[38;5;28;01melse\u001b[39;00m:\n\u001b[1;32m    133\u001b[0m         \u001b[38;5;28;01mreturn\u001b[39;00m \u001b[38;5;124m\"\u001b[39m\u001b[38;5;124mExchange with missing fields (call ``valid(why=True)`` to see more)\u001b[39m\u001b[38;5;124m\"\u001b[39m\n",
      "File \u001b[0;32m~/opt/miniconda3/envs/bw_rosetta/lib/python3.9/site-packages/bw2data/proxies.py:172\u001b[0m, in \u001b[0;36mExchangeProxyBase._get_output\u001b[0;34m(self)\u001b[0m\n\u001b[1;32m    170\u001b[0m     \u001b[38;5;28;01mraise\u001b[39;00m InvalidExchange(\u001b[38;5;124m\"\u001b[39m\u001b[38;5;124mMissing valid data for `output` field\u001b[39m\u001b[38;5;124m\"\u001b[39m)\n\u001b[1;32m    171\u001b[0m \u001b[38;5;28;01melif\u001b[39;00m \u001b[38;5;129;01mnot\u001b[39;00m \u001b[38;5;28mhasattr\u001b[39m(\u001b[38;5;28mself\u001b[39m, \u001b[38;5;124m\"\u001b[39m\u001b[38;5;124m_output\u001b[39m\u001b[38;5;124m\"\u001b[39m):\n\u001b[0;32m--> 172\u001b[0m     \u001b[38;5;28mself\u001b[39m\u001b[38;5;241m.\u001b[39m_output \u001b[38;5;241m=\u001b[39m \u001b[43mget_activity\u001b[49m\u001b[43m(\u001b[49m\u001b[38;5;28;43mself\u001b[39;49m\u001b[43m[\u001b[49m\u001b[38;5;124;43m'\u001b[39;49m\u001b[38;5;124;43moutput\u001b[39;49m\u001b[38;5;124;43m'\u001b[39;49m\u001b[43m]\u001b[49m\u001b[43m)\u001b[49m\n\u001b[1;32m    173\u001b[0m \u001b[38;5;28;01mreturn\u001b[39;00m \u001b[38;5;28mself\u001b[39m\u001b[38;5;241m.\u001b[39m_output\n",
      "File \u001b[0;32m~/opt/miniconda3/envs/bw_rosetta/lib/python3.9/site-packages/bw2data/utils.py:335\u001b[0m, in \u001b[0;36mget_activity\u001b[0;34m(key)\u001b[0m\n\u001b[1;32m    333\u001b[0m \u001b[38;5;28;01mfrom\u001b[39;00m \u001b[38;5;21;01m.\u001b[39;00m\u001b[38;5;21;01mdatabase\u001b[39;00m \u001b[38;5;28;01mimport\u001b[39;00m Database\n\u001b[1;32m    334\u001b[0m \u001b[38;5;28;01mtry\u001b[39;00m:\n\u001b[0;32m--> 335\u001b[0m     \u001b[38;5;28;01mreturn\u001b[39;00m \u001b[43mDatabase\u001b[49m\u001b[43m(\u001b[49m\u001b[43mkey\u001b[49m\u001b[43m[\u001b[49m\u001b[38;5;241;43m0\u001b[39;49m\u001b[43m]\u001b[49m\u001b[43m)\u001b[49m\u001b[38;5;241;43m.\u001b[39;49m\u001b[43mget\u001b[49m\u001b[43m(\u001b[49m\u001b[43mkey\u001b[49m\u001b[43m[\u001b[49m\u001b[38;5;241;43m1\u001b[39;49m\u001b[43m]\u001b[49m\u001b[43m)\u001b[49m\n\u001b[1;32m    336\u001b[0m \u001b[38;5;28;01mexcept\u001b[39;00m \u001b[38;5;167;01mTypeError\u001b[39;00m:\n\u001b[1;32m    337\u001b[0m     \u001b[38;5;28;01mraise\u001b[39;00m UnknownObject(\u001b[38;5;124m\"\u001b[39m\u001b[38;5;124mKey \u001b[39m\u001b[38;5;132;01m{}\u001b[39;00m\u001b[38;5;124m cannot be understood as an activity\u001b[39m\u001b[38;5;124m\"\u001b[39m\n\u001b[1;32m    338\u001b[0m                         \u001b[38;5;124m\"\u001b[39m\u001b[38;5;124m or `(database, code)` tuple.\u001b[39m\u001b[38;5;124m\"\u001b[39m)\n",
      "File \u001b[0;32m~/opt/miniconda3/envs/bw_rosetta/lib/python3.9/site-packages/bw2data/backends/peewee/database.py:132\u001b[0m, in \u001b[0;36mSQLiteBackend.get\u001b[0;34m(self, code)\u001b[0m\n\u001b[1;32m    130\u001b[0m \u001b[38;5;28;01mdef\u001b[39;00m \u001b[38;5;21mget\u001b[39m(\u001b[38;5;28mself\u001b[39m, code):\n\u001b[1;32m    131\u001b[0m     \u001b[38;5;28;01mreturn\u001b[39;00m Activity(\n\u001b[0;32m--> 132\u001b[0m         \u001b[38;5;28;43mself\u001b[39;49m\u001b[38;5;241;43m.\u001b[39;49m\u001b[43m_get_queryset\u001b[49m\u001b[43m(\u001b[49m\u001b[43mfilters\u001b[49m\u001b[38;5;241;43m=\u001b[39;49m\u001b[38;5;28;43;01mFalse\u001b[39;49;00m\u001b[43m)\u001b[49m\u001b[38;5;241;43m.\u001b[39;49m\u001b[43mwhere\u001b[49m\u001b[43m(\u001b[49m\n\u001b[1;32m    133\u001b[0m \u001b[43m            \u001b[49m\u001b[43mActivityDataset\u001b[49m\u001b[38;5;241;43m.\u001b[39;49m\u001b[43mcode\u001b[49m\u001b[43m \u001b[49m\u001b[38;5;241;43m==\u001b[39;49m\u001b[43m \u001b[49m\u001b[43mcode\u001b[49m\u001b[43m)\u001b[49m\u001b[38;5;241;43m.\u001b[39;49m\u001b[43mget\u001b[49m\u001b[43m(\u001b[49m\u001b[43m)\u001b[49m\n\u001b[1;32m    134\u001b[0m     )\n",
      "File \u001b[0;32m~/opt/miniconda3/envs/bw_rosetta/lib/python3.9/site-packages/peewee.py:7027\u001b[0m, in \u001b[0;36mBaseModelSelect.get\u001b[0;34m(self, database)\u001b[0m\n\u001b[1;32m   7025\u001b[0m \u001b[38;5;28;01mexcept\u001b[39;00m \u001b[38;5;167;01mIndexError\u001b[39;00m:\n\u001b[1;32m   7026\u001b[0m     sql, params \u001b[38;5;241m=\u001b[39m clone\u001b[38;5;241m.\u001b[39msql()\n\u001b[0;32m-> 7027\u001b[0m     \u001b[38;5;28;01mraise\u001b[39;00m \u001b[38;5;28mself\u001b[39m\u001b[38;5;241m.\u001b[39mmodel\u001b[38;5;241m.\u001b[39mDoesNotExist(\u001b[38;5;124m'\u001b[39m\u001b[38;5;132;01m%s\u001b[39;00m\u001b[38;5;124m instance matching query does \u001b[39m\u001b[38;5;124m'\u001b[39m\n\u001b[1;32m   7028\u001b[0m                                   \u001b[38;5;124m'\u001b[39m\u001b[38;5;124mnot exist:\u001b[39m\u001b[38;5;130;01m\\n\u001b[39;00m\u001b[38;5;124mSQL: \u001b[39m\u001b[38;5;132;01m%s\u001b[39;00m\u001b[38;5;130;01m\\n\u001b[39;00m\u001b[38;5;124mParams: \u001b[39m\u001b[38;5;132;01m%s\u001b[39;00m\u001b[38;5;124m'\u001b[39m \u001b[38;5;241m%\u001b[39m\n\u001b[1;32m   7029\u001b[0m                                   (clone\u001b[38;5;241m.\u001b[39mmodel, sql, params))\n",
      "\u001b[0;31mActivityDatasetDoesNotExist\u001b[0m: <Model: ActivityDataset> instance matching query does not exist:\nSQL: SELECT \"t1\".\"id\", \"t1\".\"data\", \"t1\".\"code\", \"t1\".\"database\", \"t1\".\"location\", \"t1\".\"name\", \"t1\".\"product\", \"t1\".\"type\" FROM \"activitydataset\" AS \"t1\" WHERE ((\"t1\".\"database\" = ?) AND (\"t1\".\"code\" = ?)) ORDER BY Random() LIMIT ? OFFSET ?\nParams: ['a_e', 'dog', 1, 0]"
     ]
    }
   ],
   "source": [
    "for exc in act.upstream():\n",
    "    print(exc)"
   ]
  },
  {
   "cell_type": "markdown",
   "id": "4f3fb322-55a7-45c1-a434-613d21493fe7",
   "metadata": {},
   "source": [
    "It is possible to delete some or all activities' exchanges:"
   ]
  },
  {
   "cell_type": "code",
   "execution_count": 24,
   "id": "810530d3-a8dc-49b0-8b6b-a82aad9d35d4",
   "metadata": {},
   "outputs": [
    {
     "name": "stdout",
     "output_type": "stream",
     "text": [
      "Before: 3\n",
      "After: 2\n"
     ]
    }
   ],
   "source": [
    "print('Before:', len(kudu.exchanges()))\n",
    "kudu.biosphere().delete()\n",
    "print('After:', len(kudu.exchanges()))"
   ]
  },
  {
   "cell_type": "markdown",
   "id": "74c5fee1-a73b-4ad3-b9cc-2a106b5e4e28",
   "metadata": {},
   "source": [
    "You can also delete activities:"
   ]
  },
  {
   "cell_type": "code",
   "execution_count": 25,
   "id": "674c7f10-c580-45b0-be34-c24ad9dece77",
   "metadata": {},
   "outputs": [],
   "source": [
    "kudu.delete()"
   ]
  },
  {
   "cell_type": "markdown",
   "id": "936673fd-7250-472d-812f-1ec68855c5d5",
   "metadata": {},
   "source": [
    "This new activity is no longer in the database:"
   ]
  },
  {
   "cell_type": "code",
   "execution_count": 26,
   "id": "c6384b19-7181-47d6-b30f-b8fa657e3ea7",
   "metadata": {},
   "outputs": [
    {
     "data": {
      "text/plain": [
       "False"
      ]
     },
     "execution_count": 26,
     "metadata": {},
     "output_type": "execute_result"
    }
   ],
   "source": [
    "kudu in db"
   ]
  },
  {
   "cell_type": "code",
   "execution_count": 27,
   "id": "e7a8c342-762d-42d5-a65b-b6797ec24f2d",
   "metadata": {},
   "outputs": [],
   "source": [
    "act3 = db.new_activity('name' == 'mouse')"
   ]
  },
  {
   "cell_type": "code",
   "execution_count": 28,
   "id": "0765b1fc-2079-4497-8d08-cb807221afdf",
   "metadata": {},
   "outputs": [
    {
     "data": {
      "text/plain": [
       "Activity with missing fields (call ``valid(why=True)`` to see more)"
      ]
     },
     "execution_count": 28,
     "metadata": {},
     "output_type": "execute_result"
    }
   ],
   "source": [
    "act3"
   ]
  },
  {
   "cell_type": "code",
   "execution_count": 29,
   "id": "6ebd57c7-4f69-464d-aa85-b7314262e632",
   "metadata": {},
   "outputs": [],
   "source": [
    "act4 = db.new_activity('human')"
   ]
  },
  {
   "cell_type": "code",
   "execution_count": 30,
   "id": "c53ab3d3-16c5-4dc2-9bb0-bbab45d4d98f",
   "metadata": {},
   "outputs": [],
   "source": [
    "act4['name'] = 'Peter'"
   ]
  },
  {
   "cell_type": "code",
   "execution_count": 31,
   "id": "1505511d-bf64-4a4f-acd4-b2a68a937360",
   "metadata": {},
   "outputs": [
    {
     "data": {
      "text/plain": [
       "'Peter' (None, GLO, None)"
      ]
     },
     "execution_count": 31,
     "metadata": {},
     "output_type": "execute_result"
    }
   ],
   "source": [
    "act4"
   ]
  },
  {
   "cell_type": "code",
   "execution_count": 39,
   "id": "69f8895a-3712-46dd-92b2-d938521d2432",
   "metadata": {},
   "outputs": [],
   "source": [
    "import pandas as pd"
   ]
  },
  {
   "cell_type": "code",
   "execution_count": 40,
   "id": "56afab14-f24f-4a5c-8e2f-d707cb4fef46",
   "metadata": {},
   "outputs": [],
   "source": [
    "df = pd.DataFrame(db)"
   ]
  },
  {
   "cell_type": "code",
   "execution_count": null,
   "id": "1fe1e3bc-0f04-4409-aae8-063cd328a510",
   "metadata": {},
   "outputs": [],
   "source": []
  },
  {
   "cell_type": "code",
   "execution_count": null,
   "id": "9564219a",
   "metadata": {},
   "outputs": [],
   "source": []
  },
  {
   "cell_type": "code",
   "execution_count": null,
   "id": "47be6bdd",
   "metadata": {},
   "outputs": [],
   "source": []
  }
 ],
 "metadata": {
  "citation-manager": {
   "items": {}
  },
  "kernelspec": {
   "display_name": "Python 3 (ipykernel)",
   "language": "python",
   "name": "python3"
  },
  "language_info": {
   "codemirror_mode": {
    "name": "ipython",
    "version": 3
   },
   "file_extension": ".py",
   "mimetype": "text/x-python",
   "name": "python",
   "nbconvert_exporter": "python",
   "pygments_lexer": "ipython3",
   "version": "3.9.12"
  },
  "vscode": {
   "interpreter": {
    "hash": "1ba9302c2886eae5541b0b1058909e0dde920c638199a8170626dd87b606057d"
   }
  }
 },
 "nbformat": 4,
 "nbformat_minor": 5
}

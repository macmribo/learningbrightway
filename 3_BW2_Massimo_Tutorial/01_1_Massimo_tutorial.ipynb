{
 "cells": [
  {
   "cell_type": "markdown",
   "id": "379afe67-5a33-476a-89bb-b80c6c147180",
   "metadata": {},
   "source": [
    "# 1.1 &emsp; Creating a project and navigating though matrices and arrays"
   ]
  },
  {
   "cell_type": "markdown",
   "id": "bc9d2ff6-0746-4477-a868-8e06472c2040",
   "metadata": {},
   "source": [
    "This notebook intends to run Brightway2 based on the data from Hope's article. The intention is to learn Brightway2 and to compare results. I followed the tutorials by [Massimo Pizzol](https://github.com/massimopizzol/B4B)."
   ]
  },
  {
   "cell_type": "markdown",
   "id": "86efef79-c6b9-40d2-94ae-dbd8c6dd5270",
   "metadata": {},
   "source": [
    "### Let's get things started setting up the project!"
   ]
  },
  {
   "cell_type": "markdown",
   "id": "47961421-76a6-45c2-ae33-06ee1c8aa4ed",
   "metadata": {},
   "source": [
    "As with any Python package, let's start by importing the package of interest, `brightway2`. You may see import as bw in other tutorials, is comfortable so you don't have to add bw.SOMETHING  before calling a method."
   ]
  },
  {
   "cell_type": "code",
   "execution_count": 1,
   "id": "a6e9cb74-379b-428e-9dcc-e87555ff78b9",
   "metadata": {},
   "outputs": [],
   "source": [
    "from brightway2 import *"
   ]
  },
  {
   "cell_type": "markdown",
   "id": "34c6812b-d228-4527-bffb-677af321a5b1",
   "metadata": {},
   "source": [
    "To check where the projects are saved, you can do it with the following command:"
   ]
  },
  {
   "cell_type": "code",
   "execution_count": 2,
   "id": "6142b420-b872-4bcf-9b36-a09818c35499",
   "metadata": {},
   "outputs": [
    {
     "data": {
      "text/plain": [
       "'/Users/mmendez/Library/Application Support/Brightway3/default.c21f969b5f03d33d43e04f8f136e7682/output'"
      ]
     },
     "execution_count": 2,
     "metadata": {},
     "output_type": "execute_result"
    }
   ],
   "source": [
    "projects.output_dir # Check were the projects path is."
   ]
  },
  {
   "cell_type": "markdown",
   "id": "fc0dda75-edc5-4c10-baa5-6abfe169f27c",
   "metadata": {},
   "source": [
    "Here we see a bunch of folders ../.../Brightway3 and then `default.abunchofnumbers`, this is because when you run brightway2 for the first time in the kernel, it automatically places you in a `default` project folder. You can also check which folder you are in by typing this beautiful line:"
   ]
  },
  {
   "cell_type": "code",
   "execution_count": 3,
   "id": "6e927c01-2e96-44cd-b23e-947b2a37ef60",
   "metadata": {},
   "outputs": [
    {
     "data": {
      "text/plain": [
       "'default'"
      ]
     },
     "execution_count": 3,
     "metadata": {},
     "output_type": "execute_result"
    }
   ],
   "source": [
    "projects.current"
   ]
  },
  {
   "cell_type": "markdown",
   "id": "7a6fb0cb-cac4-4a3f-972f-bdfdbba742d3",
   "metadata": {},
   "source": [
    "Magic! But, is there a way to check if we have more projects stored? OF COURSE. To list all the projects created you have two ways:"
   ]
  },
  {
   "cell_type": "code",
   "execution_count": 4,
   "id": "ffcfe67a-e762-455f-a321-93139837434e",
   "metadata": {},
   "outputs": [
    {
     "data": {
      "text/plain": [
       "[('1 Supply Chain Graph', 1, 0.000121146),\n",
       " ('1.1_Massimo', 1, 9.4452e-05),\n",
       " ('1_1_Massimo', 0, 8.21e-05),\n",
       " ('1_2_Massimo', 1, 9.408e-05),\n",
       " ('1_3_Massimo', 2, 0.000101769),\n",
       " ('2_1_Massimo', 1, 9.4079e-05),\n",
       " ('2_2_Massimo', 1, 9.4773e-05),\n",
       " ('Tut_1_Activities_Exchanges', 0, 8.1998e-05),\n",
       " ('Tut_1_activities_exchanges', 0, 8.1998e-05),\n",
       " ('Tut_2_Projects', 0, 8.1998e-05),\n",
       " ('Tut_2_the copy', 0, 8.1998e-05),\n",
       " ('Tut_3_Databases', 0, 8.1998e-05),\n",
       " ('default', 0, 8.21e-05)]"
      ]
     },
     "execution_count": 4,
     "metadata": {},
     "output_type": "execute_result"
    }
   ],
   "source": [
    "projects.report() # See the projects already created."
   ]
  },
  {
   "cell_type": "code",
   "execution_count": 5,
   "id": "55d44895-8c3d-49b6-a370-8fb978d9a3d9",
   "metadata": {},
   "outputs": [
    {
     "data": {
      "text/plain": [
       "[Project: default,\n",
       " Project: Tut_1_activities_exchanges,\n",
       " Project: Tut_3_Databases,\n",
       " Project: Tut_1_Activities_Exchanges,\n",
       " Project: Tut_2_Projects,\n",
       " Project: Tut_2_the copy,\n",
       " Project: 1_1_Massimo,\n",
       " Project: 1_2_Massimo,\n",
       " Project: 1_3_Massimo,\n",
       " Project: 2_1_Massimo,\n",
       " Project: 2_2_Massimo,\n",
       " Project: 1 Supply Chain Graph,\n",
       " Project: 1.1_Massimo]"
      ]
     },
     "execution_count": 5,
     "metadata": {},
     "output_type": "execute_result"
    }
   ],
   "source": [
    "list(projects) # Another way!"
   ]
  },
  {
   "cell_type": "markdown",
   "id": "8da126d1-cc7d-463c-94b4-ed9b8b97eff8",
   "metadata": {},
   "source": [
    "As you can see `.report()` gives you more information, more specifically, it gives you the amount of databases stored in each project!\n",
    "\n",
    "Each project can have none, one or many databases inside. You can also check how many database dictionaries are inside the project you are already in (in this case `default`) you just call `databases`."
   ]
  },
  {
   "cell_type": "code",
   "execution_count": 6,
   "id": "2eb806b5-c2d1-4e6c-88c9-6f3caacf58e7",
   "metadata": {},
   "outputs": [
    {
     "data": {
      "text/plain": [
       "Databases dictionary with 0 objects"
      ]
     },
     "execution_count": 6,
     "metadata": {},
     "output_type": "execute_result"
    }
   ],
   "source": [
    "databases # Check the database dictionaries stored in the project."
   ]
  },
  {
   "cell_type": "markdown",
   "id": "fb9144bd-4a13-4451-a0e2-64c26ca44983",
   "metadata": {},
   "source": [
    "Default is a pretty generic name, let's create our own project! "
   ]
  },
  {
   "cell_type": "code",
   "execution_count": 7,
   "id": "a4d993ee-fac5-4e60-8d4b-92ffc10410ea",
   "metadata": {},
   "outputs": [],
   "source": [
    "projects.set_current('1_1_Massimo') # Set the desired project, if it does not exist, it will create one."
   ]
  },
  {
   "cell_type": "code",
   "execution_count": 8,
   "id": "b7f2c3a0-1af5-4208-aa84-0e66725e2c61",
   "metadata": {},
   "outputs": [
    {
     "data": {
      "text/plain": [
       "'/Users/mmendez/Library/Application Support/Brightway3/1_1_Massimo.45a9d08fe5ae2d77d182d06efd758aae/output'"
      ]
     },
     "execution_count": 8,
     "metadata": {},
     "output_type": "execute_result"
    }
   ],
   "source": [
    "projects.output_dir # Check the directory where your project is stored."
   ]
  },
  {
   "cell_type": "markdown",
   "id": "aa240b02-6fe8-4fd6-a02f-cdd233f8fd09",
   "metadata": {},
   "source": [
    "What an original name huh? Now, how can we play with projects a little more? Oh yeah! Copying and deleting projects!"
   ]
  },
  {
   "cell_type": "markdown",
   "id": "f8c6f01c-34e0-4250-bc0e-7a60dc9bacd5",
   "metadata": {},
   "source": [
    "Let's make a copy of this project (you need to be inside the project you want to copy, to copy it!):"
   ]
  },
  {
   "cell_type": "code",
   "execution_count": 9,
   "id": "712b5aa1-ed8a-4591-9ee3-ed4f1e340871",
   "metadata": {},
   "outputs": [
    {
     "data": {
      "text/plain": [
       "'1_1_Massimo'"
      ]
     },
     "execution_count": 9,
     "metadata": {},
     "output_type": "execute_result"
    }
   ],
   "source": [
    "projects.current # Double checking we are inside the project we want to make a copy of!"
   ]
  },
  {
   "cell_type": "code",
   "execution_count": 10,
   "id": "7a74088b-957a-48d9-9dbc-c65cc2e63342",
   "metadata": {},
   "outputs": [],
   "source": [
    "projects.copy_project('la_copia')"
   ]
  },
  {
   "cell_type": "code",
   "execution_count": 11,
   "id": "9fc854ad-831e-4a29-b8d4-e0d837256f6b",
   "metadata": {},
   "outputs": [
    {
     "data": {
      "text/plain": [
       "[('1 Supply Chain Graph', 1, 0.000121146),\n",
       " ('1.1_Massimo', 1, 9.4452e-05),\n",
       " ('1_1_Massimo', 0, 8.21e-05),\n",
       " ('1_2_Massimo', 1, 9.408e-05),\n",
       " ('1_3_Massimo', 2, 0.000101769),\n",
       " ('2_1_Massimo', 1, 9.4079e-05),\n",
       " ('2_2_Massimo', 1, 9.4773e-05),\n",
       " ('Tut_1_Activities_Exchanges', 0, 8.1998e-05),\n",
       " ('Tut_1_activities_exchanges', 0, 8.1998e-05),\n",
       " ('Tut_2_Projects', 0, 8.1998e-05),\n",
       " ('Tut_2_the copy', 0, 8.1998e-05),\n",
       " ('Tut_3_Databases', 0, 8.1998e-05),\n",
       " ('default', 0, 8.21e-05),\n",
       " ('la_copia', 0, 8.21e-05)]"
      ]
     },
     "execution_count": 11,
     "metadata": {},
     "output_type": "execute_result"
    }
   ],
   "source": [
    "projects.report()"
   ]
  },
  {
   "cell_type": "markdown",
   "id": "773896d7-52b7-455e-884b-cd198efaab3d",
   "metadata": {},
   "source": [
    "Let's delete a project just for fun."
   ]
  },
  {
   "cell_type": "code",
   "execution_count": 12,
   "id": "6af32787-34b6-421e-b7f7-6e03f4b406d5",
   "metadata": {},
   "outputs": [
    {
     "data": {
      "text/plain": [
       "'default'"
      ]
     },
     "execution_count": 12,
     "metadata": {},
     "output_type": "execute_result"
    }
   ],
   "source": [
    "projects.delete_project(\"la_copia\", delete_dir=True) "
   ]
  },
  {
   "cell_type": "markdown",
   "id": "a5d83ec1-7306-45d2-81a0-7f725cadb83f",
   "metadata": {},
   "source": [
    "<div class=\"alert alert-warning\">\n",
    "      <i class=\"fa fa-exclamation-triangle\" aria-hidden=\"true\"></i>&nbsp;\n",
    "      If we don't set the argument <code>delete_dir=True</code>, Brightway won't delete the project completely. Meaning that, if you try to name a file with the same name, it will throw an error. You can see this by navigating to the Brightway3 projects path. The only thing that deleting without `delete_dir=True` does, is to remove it from the projects list. Also! If you want to rename a project, you need to copy the project you want to rename with a new name and the delete the other one. \n",
    "</div>\n",
    "\n",
    "\n"
   ]
  },
  {
   "cell_type": "markdown",
   "id": "b4215419-ab2e-4d91-8025-94dfda21022a",
   "metadata": {},
   "source": [
    "Let's also pay attention to the fact that after deleting the copy, it took us to the default project folder. This is because when you copy a project, it automatically switches projects to the copied one, and when you delete it, it 'kicks you out'. EVERYTHING MAKES SENSE, HOORAY! \n",
    "\n",
    "Enough.  Let's go back to `1_1_Massimo`."
   ]
  },
  {
   "cell_type": "markdown",
   "id": "fe9a9a4f-57ac-4006-a507-3c23569089b2",
   "metadata": {},
   "source": [
    "### Making a dataset"
   ]
  },
  {
   "cell_type": "code",
   "execution_count": 33,
   "id": "f54d3aa8-2d32-43c3-b1f9-992a97c4c02f",
   "metadata": {},
   "outputs": [],
   "source": [
    "projects.set_current('1.1_Massimo')"
   ]
  },
  {
   "cell_type": "code",
   "execution_count": 34,
   "id": "a7327d82-198c-454b-abaa-6dde1bf3d582",
   "metadata": {},
   "outputs": [
    {
     "data": {
      "text/plain": [
       "'1.1_Massimo'"
      ]
     },
     "execution_count": 34,
     "metadata": {},
     "output_type": "execute_result"
    }
   ],
   "source": [
    "projects.current"
   ]
  },
  {
   "cell_type": "markdown",
   "id": "278412fa-6e64-4bc4-8cd8-3e29681d1c06",
   "metadata": {},
   "source": [
    "Let's create a dataset!"
   ]
  },
  {
   "cell_type": "code",
   "execution_count": 35,
   "id": "0801874f-b179-476f-b22b-6af9e3a0386b",
   "metadata": {},
   "outputs": [],
   "source": [
    "t_db = Database(\"testdb\")"
   ]
  },
  {
   "cell_type": "markdown",
   "id": "9c1b04e2-5edd-438a-9237-0f65629ffc5c",
   "metadata": {
    "jp-MarkdownHeadingCollapsed": true,
    "tags": []
   },
   "source": [
    "Let's fill our dataset with two dummy unit processes and their respective exchanges (flows). Here is a diagram of what we will be adding to the dataset:\n",
    "\n",
    "![PROJECT:](images/massimo_example.jpg)\n",
    "\n",
    "Cool huh? For further information about the vocabulary used, please refer to [BW_Manual](BW_Manual.ipynb), in there you can find a glossary with the definitions."
   ]
  },
  {
   "cell_type": "code",
   "execution_count": 36,
   "id": "597172ed-f7d5-4684-81c9-bc1cf6e21753",
   "metadata": {},
   "outputs": [
    {
     "name": "stderr",
     "output_type": "stream",
     "text": [
      "Writing activities to SQLite3 database:\n",
      "0% [#####] 100% | ETA: 00:00:00\n",
      "Total time elapsed: 00:00:00\n"
     ]
    },
    {
     "name": "stdout",
     "output_type": "stream",
     "text": [
      "Title: Writing activities to SQLite3 database:\n",
      "  Started: 08/05/2022 12:56:43\n",
      "  Finished: 08/05/2022 12:56:43\n",
      "  Total time elapsed: 00:00:00\n",
      "  CPU %: 2.60\n",
      "  Memory %: 0.55\n"
     ]
    }
   ],
   "source": [
    "t_db.write({\n",
    "    (\"testdb\", \"Electricity production\"):{\n",
    "        'name':'Electricity, low voltage',\n",
    "        'unit': 'kWh', \n",
    "        'exchanges': [{\n",
    "                'input': ('testdb', 'Fuel production'),\n",
    "                'amount': 2,\n",
    "                'unit': 'kg',\n",
    "                'type': 'technosphere' # Technosphere types are inputs for the unit process\n",
    "            },{\n",
    "                'input': ('testdb', 'Carbon dioxide'),\n",
    "                'amount': 1,\n",
    "                'unit': 'kg',\n",
    "                'type': 'biosphere'\n",
    "            },{\n",
    "                'input': ('testdb', 'Sulphur dioxide'),\n",
    "                'amount': 0.1,\n",
    "                'unit': 'kg',\n",
    "                'type': 'biosphere'\n",
    "            },{\n",
    "                'input': ('testdb', 'Electricity production'), #important to write the same process name in output\n",
    "                'amount': 10,\n",
    "                'unit': 'kWh',\n",
    "                'type': 'production' # Production is the output\n",
    "            }]\n",
    "        },\n",
    "    ('testdb', 'Fuel production'):{\n",
    "        'name': 'Refined fuel',\n",
    "        'unit': 'kg',\n",
    "        'exchanges':[{\n",
    "                'input': ('testdb', 'Carbon dioxide'),\n",
    "                'amount': 10,\n",
    "                'unit': 'kg',\n",
    "                'type': 'biosphere'\n",
    "            },{\n",
    "                'input': ('testdb', 'Sulphur dioxide'),\n",
    "                'amount': 2,\n",
    "                'unit': 'kg',\n",
    "                'type': 'biosphere'\n",
    "            },{\n",
    "                'input': ('testdb', 'Crude oil'),\n",
    "                'amount': -50, # Removal of oil from the natural environment so it is -\n",
    "                'unit': 'kg',\n",
    "                'type': 'biosphere'\n",
    "            },{\n",
    "                'input': ('testdb', 'Fuel production'),\n",
    "                'amount': 1,\n",
    "                'unit': 'kg',\n",
    "                'type': 'production'\n",
    "            }]\n",
    "    },\n",
    "    ('testdb', 'Carbon dioxide'):{            # These are the flows: CO2, SO2 and crude oil.\n",
    "        'name': 'Carbon dioxide', \n",
    "        'unit':'kg', \n",
    "        'type': 'biosphere'}, \n",
    "    ('testdb', 'Sulphur dioxide'):{\n",
    "        'name': 'Sulphur dioxide', \n",
    "        'unit':'kg', \n",
    "        'type': 'biosphere'},\n",
    "    ('testdb', 'Crude oil'):{\n",
    "        'name': 'Crude oil', \n",
    "        'unit':'kg', \n",
    "        'type': 'biosphere'}\n",
    "\n",
    "    })"
   ]
  },
  {
   "cell_type": "markdown",
   "id": "d260e91d-3640-4f83-b555-14492e87fd78",
   "metadata": {},
   "source": [
    "We can check out activities using the method `.get()`."
   ]
  },
  {
   "cell_type": "code",
   "execution_count": 38,
   "id": "d7046763-e0e0-4b80-8c13-63eb503d9f97",
   "metadata": {},
   "outputs": [
    {
     "data": {
      "text/plain": [
       "'Refined fuel' (kg, None, None)"
      ]
     },
     "execution_count": 38,
     "metadata": {},
     "output_type": "execute_result"
    }
   ],
   "source": [
    "t_db.get('Fuel production')"
   ]
  },
  {
   "cell_type": "markdown",
   "id": "1dcc1dc1-95eb-4e8d-bf35-f9e6e823974b",
   "metadata": {},
   "source": [
    "### Let's run the LCA!"
   ]
  },
  {
   "cell_type": "code",
   "execution_count": 39,
   "id": "3328eab6-676b-40b0-8cef-1121e65021a2",
   "metadata": {},
   "outputs": [],
   "source": [
    "functional_unit = {t_db.get(\"Electricity production\") : 1}\n",
    "lca = LCA(functional_unit) \n",
    "lca.lci()"
   ]
  },
  {
   "cell_type": "markdown",
   "id": "0e3ca8b9-8e2d-4a26-835e-5eee8047a4b0",
   "metadata": {},
   "source": [
    "Let's reverse dictionary to return the row or column number of matrices and arrays that correspond to an activity, product, or elementary flow. This is NOT necessary for the calculations, is for visualization purposes mainly!"
   ]
  },
  {
   "cell_type": "code",
   "execution_count": 40,
   "id": "d198329d-3dbc-48a9-9e07-21dec128351d",
   "metadata": {},
   "outputs": [
    {
     "name": "stdout",
     "output_type": "stream",
     "text": [
      "{0: ('testdb', 'Electricity production'), 1: ('testdb', 'Fuel production')}\n"
     ]
    }
   ],
   "source": [
    "rev_act_dict, rev_product_dict, rev_bio_dict = lca.reverse_dict()\n",
    "print(rev_act_dict)"
   ]
  },
  {
   "cell_type": "markdown",
   "id": "6323b780-a99a-4424-8f6e-8668edba7192",
   "metadata": {},
   "source": [
    "`rev_act_dictrev_act_dict` stores the activities!"
   ]
  },
  {
   "cell_type": "code",
   "execution_count": 41,
   "id": "4853c1f4-5968-4c88-a1a9-5b2057770cef",
   "metadata": {},
   "outputs": [
    {
     "name": "stdout",
     "output_type": "stream",
     "text": [
      "Col. num. Activity\n",
      "0 Electricity production\n",
      "1 Fuel production\n"
     ]
    },
    {
     "data": {
      "text/plain": [
       "[None, None]"
      ]
     },
     "execution_count": 41,
     "metadata": {},
     "output_type": "execute_result"
    }
   ],
   "source": [
    "print(\"Col. num.\"+ \" \" + \"Activity\")\n",
    "[print(str(k)+\" \" + rev_act_dict[k][1]) for k in rev_act_dict]"
   ]
  },
  {
   "cell_type": "markdown",
   "id": "1a888ec9-a25e-4fe6-9a85-0c0a37d57c26",
   "metadata": {},
   "source": [
    "With `rev_product_dict` we can see the products generated by the activities."
   ]
  },
  {
   "cell_type": "code",
   "execution_count": 42,
   "id": "0511949a-8982-4454-9d3b-8bf8e5e0dc2d",
   "metadata": {},
   "outputs": [
    {
     "name": "stdout",
     "output_type": "stream",
     "text": [
      "Row num. Product\n",
      "0 'Electricity, low voltage' (kWh, None, None)\n",
      "1 'Refined fuel' (kg, None, None)\n"
     ]
    },
    {
     "data": {
      "text/plain": [
       "[None, None]"
      ]
     },
     "execution_count": 42,
     "metadata": {},
     "output_type": "execute_result"
    }
   ],
   "source": [
    "print(\"Row num.\"+\" \"+\"Product\")\n",
    "[print(str(k)+\" \"+str(get_activity(rev_product_dict[k]))) for k in rev_product_dict]\n"
   ]
  },
  {
   "cell_type": "markdown",
   "id": "b15727b7-588f-46ee-9c61-50908e9bf5e0",
   "metadata": {},
   "source": [
    "And with `rev_bio_dict` we can see the emission or resource flows!"
   ]
  },
  {
   "cell_type": "code",
   "execution_count": 22,
   "id": "d54eff89-d262-426a-af11-9b31e0b77f5c",
   "metadata": {},
   "outputs": [
    {
     "name": "stdout",
     "output_type": "stream",
     "text": [
      "Row num. Elementary flow\n",
      "0 'Carbon dioxide' (kg, None, None)\n",
      "1 'Sulphur dioxide' (kg, None, None)\n",
      "2 'Crude oil' (kg, None, None)\n"
     ]
    },
    {
     "data": {
      "text/plain": [
       "[None, None, None]"
      ]
     },
     "execution_count": 22,
     "metadata": {},
     "output_type": "execute_result"
    }
   ],
   "source": [
    "print(\"Row num.\"+\" \"+\"Elementary flow\")\n",
    "[print(str(k)+\" \"+str(get_activity(rev_bio_dict[k]))) for k in rev_bio_dict]"
   ]
  },
  {
   "cell_type": "markdown",
   "id": "acf6b6c6-851d-4dda-a69d-40cb9e67e903",
   "metadata": {},
   "source": [
    "Now let's look at the technology matrix and the inventory matrix generated by `LCA`."
   ]
  },
  {
   "cell_type": "code",
   "execution_count": 23,
   "id": "bb4bc315-d958-48cf-8b17-ad5ad2ec72c3",
   "metadata": {},
   "outputs": [
    {
     "name": "stdout",
     "output_type": "stream",
     "text": [
      "[[10.  0.]\n",
      " [-2.  1.]]\n"
     ]
    }
   ],
   "source": [
    "tech_matrix=lca.technosphere_matrix.toarray()\n",
    "print(tech_matrix)"
   ]
  },
  {
   "cell_type": "markdown",
   "id": "f3b93105-f7ae-41f8-86c1-d46d07c4e05d",
   "metadata": {},
   "source": [
    "This means..."
   ]
  },
  {
   "cell_type": "code",
   "execution_count": 24,
   "id": "be6b1e37-b0d8-48ad-bffe-e8efb52893d2",
   "metadata": {},
   "outputs": [
    {
     "name": "stdout",
     "output_type": "stream",
     "text": [
      "Electricity production supplies 10.0 of 'Electricity, low voltage' (kWh, None, None)\n",
      "Fuel production uses 0.0 of 'Electricity, low voltage' (kWh, None, None)\n",
      "Electricity production uses -2.0 of 'Refined fuel' (kg, None, None)\n",
      "Fuel production supplies 1.0 of 'Refined fuel' (kg, None, None)\n"
     ]
    }
   ],
   "source": [
    "for r in range(0,tech_matrix.shape[0]):\n",
    "    for c in range(0,tech_matrix.shape[1]):\n",
    "        if tech_matrix[r, c]>0:\n",
    "            print(str(rev_act_dict[c][1])+\" supplies \"+ str(tech_matrix[r, c])+\" of \"+str(get_activity(rev_product_dict[r])))\n",
    "        else:\n",
    "            print(str(rev_act_dict[c][1])+\" uses \"+ str(tech_matrix[r, c])+\" of \"+str(get_activity(rev_product_dict[r])))"
   ]
  },
  {
   "cell_type": "markdown",
   "id": "82462770-56c3-4b46-ae2d-50d538ba5f8e",
   "metadata": {},
   "source": [
    "$$ \\begin{matrix} & Electricity\\quad production & Fuel\\quad production \\\\ E\\quad(kWh) & 10 & 0 \\\\ F\\quad(kg) & -2 & 1 \\end{matrix}$$\n",
    "\n",
    "Positive values from an activity means production and negative is the use of a natural resource (rows). This seems to correspond with the activities created.\n",
    "\n",
    "Let's lool at the supply array: \n",
    "\n",
    "**Which activities supply to fulfill the functional unit (FU)? Let's find out!**"
   ]
  },
  {
   "cell_type": "code",
   "execution_count": 25,
   "id": "12433733-fe93-43ff-9975-6dd7a58f3952",
   "metadata": {},
   "outputs": [
    {
     "name": "stdout",
     "output_type": "stream",
     "text": [
      "Electricity production supplies 0.1\n",
      "Fuel production supplies 0.2\n"
     ]
    }
   ],
   "source": [
    "supply_array=lca.supply_array.tolist()\n",
    "for r in supply_array:\n",
    "    print(\"{} supplies {}\".format(rev_product_dict[supply_array.index(r)][1],supply_array[supply_array.index(r)]))"
   ]
  },
  {
   "cell_type": "markdown",
   "id": "3495f1df-d8a3-4ba8-b6df-0413bfe88cef",
   "metadata": {},
   "source": [
    "Now, let's look at the calculated inventory and try to display the corresponding supplying activities as columns as the requested environmental flows as rows.\n",
    "The inventory given by the LCA object looks like the ouput of the cell below. It is hardly readable when it contains thousands of flows when we upload a giant dataset.\n"
   ]
  },
  {
   "cell_type": "code",
   "execution_count": 26,
   "id": "c206ba90-5939-43d3-85b3-da23fd0cd366",
   "metadata": {},
   "outputs": [
    {
     "name": "stdout",
     "output_type": "stream",
     "text": [
      "  (0, 1)\t2.0\n",
      "  (0, 0)\t0.1\n",
      "  (1, 1)\t0.4\n",
      "  (1, 0)\t0.010000000149011612\n",
      "  (2, 1)\t-10.0\n"
     ]
    }
   ],
   "source": [
    "print(lca.inventory) # type(lca.inventory) = scipy.sparse._csr.csr_matrix"
   ]
  },
  {
   "cell_type": "markdown",
   "id": "18b16839-826c-47ea-80e4-33e3b8c787f6",
   "metadata": {},
   "source": [
    "Let's turn in into an array for easy access to the values.\n"
   ]
  },
  {
   "cell_type": "code",
   "execution_count": 43,
   "id": "a069b619-3633-4613-bf6c-020dad6aa4d6",
   "metadata": {},
   "outputs": [
    {
     "data": {
      "text/plain": [
       "array([[  0.1 ,   2.  ],\n",
       "       [  0.01,   0.4 ],\n",
       "       [  0.  , -10.  ]])"
      ]
     },
     "execution_count": 43,
     "metadata": {},
     "output_type": "execute_result"
    }
   ],
   "source": [
    "inventory_matrix = lca.inventory.toarray()\n",
    "inventory_matrix # What does this mean?"
   ]
  },
  {
   "cell_type": "markdown",
   "id": "177fcce1-f1ec-4a23-97ab-883867056e59",
   "metadata": {},
   "source": [
    "What does this matrix mean? Let's turn it into a dataframe just to have a more visual aid to see what these terms are!"
   ]
  },
  {
   "cell_type": "code",
   "execution_count": 44,
   "id": "cb973501-af6c-4d7b-a5ab-7017f8c38e26",
   "metadata": {},
   "outputs": [
    {
     "data": {
      "text/html": [
       "<div>\n",
       "<style scoped>\n",
       "    .dataframe tbody tr th:only-of-type {\n",
       "        vertical-align: middle;\n",
       "    }\n",
       "\n",
       "    .dataframe tbody tr th {\n",
       "        vertical-align: top;\n",
       "    }\n",
       "\n",
       "    .dataframe thead th {\n",
       "        text-align: right;\n",
       "    }\n",
       "</style>\n",
       "<table border=\"1\" class=\"dataframe\">\n",
       "  <thead>\n",
       "    <tr style=\"text-align: right;\">\n",
       "      <th></th>\n",
       "      <th>Electricity production</th>\n",
       "      <th>Fuel production</th>\n",
       "    </tr>\n",
       "    <tr>\n",
       "      <th>Resource and emission flows</th>\n",
       "      <th></th>\n",
       "      <th></th>\n",
       "    </tr>\n",
       "  </thead>\n",
       "  <tbody>\n",
       "    <tr>\n",
       "      <th>Carbon dioxide</th>\n",
       "      <td>0.10</td>\n",
       "      <td>2.0</td>\n",
       "    </tr>\n",
       "    <tr>\n",
       "      <th>Sulphur dioxide</th>\n",
       "      <td>0.01</td>\n",
       "      <td>0.4</td>\n",
       "    </tr>\n",
       "    <tr>\n",
       "      <th>Crude oil</th>\n",
       "      <td>0.00</td>\n",
       "      <td>-10.0</td>\n",
       "    </tr>\n",
       "  </tbody>\n",
       "</table>\n",
       "</div>"
      ],
      "text/plain": [
       "                             Electricity production  Fuel production\n",
       "Resource and emission flows                                         \n",
       "Carbon dioxide                                 0.10              2.0\n",
       "Sulphur dioxide                                0.01              0.4\n",
       "Crude oil                                      0.00            -10.0"
      ]
     },
     "execution_count": 44,
     "metadata": {},
     "output_type": "execute_result"
    }
   ],
   "source": [
    "import pandas as pd\n",
    "inventory_matrix_df = pd.DataFrame(inventory_matrix)\n",
    "inventory_matrix_df.columns = ['Electricity production', 'Fuel production']\n",
    "rev_bio_dict_df = pd.DataFrame(rev_bio_dict)\n",
    "rev_bio_dict_flow_index = rev_bio_dict_df.iloc[1, :]\n",
    "rev_bio_dict_flow_index.rename('Resource and emission flows', inplace=True)\n",
    "inventory_matrix_df = inventory_matrix_df.set_index(rev_bio_dict_flow_index)\n",
    "inventory_matrix_df"
   ]
  },
  {
   "cell_type": "markdown",
   "id": "616da0f1-4069-4e81-816c-4503d97000a1",
   "metadata": {},
   "source": [
    "What is producing what and what is using what? Let's make some sense of these data looping through it and printing what we are seeing:"
   ]
  },
  {
   "cell_type": "code",
   "execution_count": 46,
   "id": "294382a3-d7c9-4296-89b8-f7ac93e3c7f8",
   "metadata": {},
   "outputs": [
    {
     "name": "stdout",
     "output_type": "stream",
     "text": [
      "Electricity production emits 0.1 kg of Carbon dioxide\n",
      "Fuel production emits 2.0 kg of Carbon dioxide\n",
      "Electricity production emits 0.010000000149011612 kg of Sulphur dioxide\n",
      "Fuel production emits 0.4 kg of Sulphur dioxide\n",
      "Electricity production uses -0.0 kg of Crude oil\n",
      "Fuel production uses 10.0 kg of Crude oil\n"
     ]
    }
   ],
   "source": [
    "for r in range(0,inventory_matrix.shape[0]):\n",
    "    for c in range(0,inventory_matrix.shape[1]):\n",
    "        if inventory_matrix[r, c]>0:\n",
    "            print(str(rev_act_dict[c][1])+\" emits \"+ str(inventory_matrix[r, c])+\" \"+get_activity(rev_bio_dict[r])[\"unit\"]+\" of \"+str(rev_bio_dict[r][1]))\n",
    "        else:\n",
    "            print(str(rev_act_dict[c][1])+\" uses \"+ str(inventory_matrix[r, c]*(-1))+\" \"+get_activity(rev_bio_dict[r])[\"unit\"]+\" of \"+str(rev_bio_dict[r][1]))"
   ]
  },
  {
   "cell_type": "markdown",
   "id": "a21cad7e-a6b1-40db-9f1e-40348d27e928",
   "metadata": {},
   "source": [
    "Now we create a list that with imaginary __characterization factors__:"
   ]
  },
  {
   "cell_type": "code",
   "execution_count": 47,
   "id": "f11c18da-55ed-41f8-b983-12a8f060ef95",
   "metadata": {},
   "outputs": [
    {
     "data": {
      "text/plain": [
       "list"
      ]
     },
     "execution_count": 47,
     "metadata": {},
     "output_type": "execute_result"
    }
   ],
   "source": [
    "myLCIAdata = [[('testdb', 'Carbon dioxide'), 2.0], \n",
    "              [('testdb', 'Sulphur dioxide'), 2.0],\n",
    "              [('testdb', 'Crude oil'), 2.0]]\n",
    "type(myLCIAdata)"
   ]
  },
  {
   "cell_type": "markdown",
   "id": "196ec07d-c061-45e1-9657-4267e59ab137",
   "metadata": {},
   "source": [
    "And now we use the function `Method` to use the keys(?)"
   ]
  },
  {
   "cell_type": "code",
   "execution_count": 48,
   "id": "147deb44-990e-479e-a9d7-10b5b9ec71e3",
   "metadata": {},
   "outputs": [
    {
     "data": {
      "text/plain": [
       "Brightway2 Method: simplemethod: imaginaryendpoint: imaginarymidpoint"
      ]
     },
     "execution_count": 48,
     "metadata": {},
     "output_type": "execute_result"
    }
   ],
   "source": [
    "method_key = ('simplemethod', 'imaginaryendpoint', 'imaginarymidpoint')\n",
    "my_method = Method(method_key)\n",
    "my_method"
   ]
  },
  {
   "cell_type": "markdown",
   "id": "b3e0aca4-0731-4e5e-8a8f-d8fc13135122",
   "metadata": {},
   "source": [
    "Here we can connect the method we have created `my_method` with the characterization factors `myLCIAdata`, normally here is where ReCiPe, TRACI etc are used!"
   ]
  },
  {
   "cell_type": "code",
   "execution_count": null,
   "id": "43f9ed90-5013-4e87-afba-2e4f849403fe",
   "metadata": {},
   "outputs": [
    {
     "data": {
      "text/plain": [
       "[[('testdb', 'Carbon dioxide'), 2.0],\n",
       " [('testdb', 'Sulphur dioxide'), 2.0],\n",
       " [('testdb', 'Crude oil'), 2.0]]"
      ]
     },
     "execution_count": 49,
     "metadata": {},
     "output_type": "execute_result"
    }
   ],
   "source": [
    "my_method.validate(myLCIAdata)\n",
    "my_method.register() \n",
    "my_method.write(myLCIAdata)\n",
    "my_method.load()"
   ]
  },
  {
   "cell_type": "markdown",
   "id": "977aa12e-ffe5-4edd-88b3-09f10c48690f",
   "metadata": {},
   "source": [
    "Now let's do the calculations properly, here what we do is passing the `functional_unit` and the `method_key` (why the `method_key` and not `my_method` ? It gives and error, but why?)"
   ]
  },
  {
   "cell_type": "code",
   "execution_count": 57,
   "id": "2acb921f-ebb4-4a5d-a517-9412f91114c8",
   "metadata": {},
   "outputs": [
    {
     "data": {
      "text/plain": [
       "<bw2calc.lca.LCA at 0x7feda4526d90>"
      ]
     },
     "execution_count": 57,
     "metadata": {},
     "output_type": "execute_result"
    }
   ],
   "source": [
    "lca = LCA(functional_unit, method_key) #run LCA calculations again with method\n",
    "lca"
   ]
  },
  {
   "cell_type": "code",
   "execution_count": 58,
   "id": "957909dd-fe39-4e54-bb1c-c1a3655a2fcb",
   "metadata": {},
   "outputs": [
    {
     "name": "stdout",
     "output_type": "stream",
     "text": [
      "  (0, 1)\t2.0\n",
      "  (0, 0)\t0.1\n",
      "  (1, 1)\t0.4\n",
      "  (1, 0)\t0.010000000149011612\n",
      "  (2, 1)\t-10.0\n",
      "\n",
      "  (0, 0)\t0.2\n",
      "  (0, 1)\t4.0\n",
      "  (1, 0)\t0.020000000298023225\n",
      "  (1, 1)\t0.8\n",
      "  (2, 1)\t-20.0\n"
     ]
    }
   ],
   "source": [
    "lca.lci()\n",
    "lca.lcia()\n",
    "print(lca.inventory) # This one is output of LCI\n",
    "print(\"\")\n",
    "print(lca.characterized_inventory)  # This one is output of LCIA"
   ]
  },
  {
   "cell_type": "code",
   "execution_count": 59,
   "id": "25480b3b-f02a-42a2-900d-4fd5619084be",
   "metadata": {},
   "outputs": [
    {
     "name": "stdout",
     "output_type": "stream",
     "text": [
      "-14.979999999701977\n",
      "\n",
      "  (0, 0)\t0.22000000029802325\n",
      "  (0, 1)\t-15.2\n",
      "\n",
      "-14.979999999701977\n"
     ]
    }
   ],
   "source": [
    "print(lca.score)\n",
    "print(\"\")\n",
    "print(sum(lca.characterized_inventory))\n",
    "print(\"\")\n",
    "print(lca.score)"
   ]
  },
  {
   "cell_type": "markdown",
   "id": "e3a00e6f-f327-4ddf-ad30-2617432ff878",
   "metadata": {},
   "source": [
    "Why is the score negative?"
   ]
  },
  {
   "cell_type": "code",
   "execution_count": null,
   "id": "b3e8f1d2-919c-4fa8-bf68-676833afc693",
   "metadata": {},
   "outputs": [],
   "source": []
  }
 ],
 "metadata": {
  "kernelspec": {
   "display_name": "bw2_rosetta",
   "language": "python",
   "name": "bw2_rosetta"
  },
  "language_info": {
   "codemirror_mode": {
    "name": "ipython",
    "version": 3
   },
   "file_extension": ".py",
   "mimetype": "text/x-python",
   "name": "python",
   "nbconvert_exporter": "python",
   "pygments_lexer": "ipython3",
   "version": "3.9.12"
  }
 },
 "nbformat": 4,
 "nbformat_minor": 5
}

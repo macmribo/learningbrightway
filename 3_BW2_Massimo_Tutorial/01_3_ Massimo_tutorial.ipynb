{
 "cells": [
  {
   "cell_type": "markdown",
   "id": "895b6af1-85be-40a2-85e5-281973a1db21",
   "metadata": {},
   "source": [
    "# 1.3 &emsp; Simple LCA - Alternative"
   ]
  },
  {
   "cell_type": "markdown",
   "id": "8f4212b5-79d3-4811-be55-bf7cb7406388",
   "metadata": {},
   "source": [
    "This [tutorial](https://github.com/massimopizzol/B4B/blob/main/01.2_Simple_LCA_alternative%20version.py) is the same as in the previous version (Simple_LCA.py) but this time I create two databases, one for product flows and one for environmental flows. Note how the two are linked and that you can't creatt the first without \n",
    "creating the second first.\n",
    "\n",
    "Here I won't be giving as many notes regarding the steps until I reach the different part. Lazy."
   ]
  },
  {
   "cell_type": "code",
   "execution_count": 9,
   "id": "cb615e8f-3580-4426-9945-ef126e7fa8cc",
   "metadata": {},
   "outputs": [],
   "source": [
    "from brightway2 import *"
   ]
  },
  {
   "cell_type": "code",
   "execution_count": 10,
   "id": "8e5e2ab1-5097-484c-a109-cff1736aa7f0",
   "metadata": {},
   "outputs": [
    {
     "data": {
      "text/plain": [
       "[('1 Supply Chain Graph', 1, 0.000121146),\n",
       " ('1.1_Massimo', 1, 9.4452e-05),\n",
       " ('1_1_Massimo', 0, 8.21e-05),\n",
       " ('1_2_Massimo', 1, 9.4081e-05),\n",
       " ('1_3_Massimo', 2, 0.000101768),\n",
       " ('2_1_Massimo', 1, 9.4079e-05),\n",
       " ('2_2_Massimo', 1, 9.4773e-05),\n",
       " ('Tut_1_Activities_Exchanges', 0, 8.1998e-05),\n",
       " ('Tut_1_activities_exchanges', 0, 8.1998e-05),\n",
       " ('Tut_2_Projects', 0, 8.1998e-05),\n",
       " ('Tut_2_the copy', 0, 8.1998e-05),\n",
       " ('Tut_3_Databases', 1, 9.1832e-05),\n",
       " ('default', 0, 8.21e-05)]"
      ]
     },
     "execution_count": 10,
     "metadata": {},
     "output_type": "execute_result"
    }
   ],
   "source": [
    "projects.report()"
   ]
  },
  {
   "cell_type": "code",
   "execution_count": 11,
   "id": "7778ab81-b7b7-4496-8b7f-3eb57df486a3",
   "metadata": {},
   "outputs": [],
   "source": [
    "projects.set_current('1_3_Massimo')"
   ]
  },
  {
   "cell_type": "markdown",
   "id": "6f6a2b41-0744-40ed-b955-a2ce9fb41d27",
   "metadata": {},
   "source": [
    "Do you see this number one next to the project 1.1 and 1.2? Remember, that's the amount of databases linked to the project. Our new one says 0! Let's change this."
   ]
  },
  {
   "cell_type": "code",
   "execution_count": 12,
   "id": "62962442-7f45-42ac-955e-9b93a3dfb58b",
   "metadata": {},
   "outputs": [],
   "source": [
    "t_db = Database(\"testdb\")"
   ]
  },
  {
   "cell_type": "code",
   "execution_count": 13,
   "id": "b1dce483-10d4-413d-9cf3-98b9aa8fa152",
   "metadata": {},
   "outputs": [
    {
     "name": "stderr",
     "output_type": "stream",
     "text": [
      "Writing activities to SQLite3 database:\n",
      "0% [##] 100% | ETA: 00:00:00\n",
      "Total time elapsed: 00:00:00\n"
     ]
    },
    {
     "name": "stdout",
     "output_type": "stream",
     "text": [
      "Title: Writing activities to SQLite3 database:\n",
      "  Started: 08/05/2022 13:48:03\n",
      "  Finished: 08/05/2022 13:48:03\n",
      "  Total time elapsed: 00:00:00\n",
      "  CPU %: 2.60\n",
      "  Memory %: 0.54\n"
     ]
    }
   ],
   "source": [
    "t_db.write({\n",
    "    (\"testdb\", \"Electricity production\"):{\n",
    "        'name':'Electricity production',\n",
    "        'unit': 'kWh', \n",
    "        'exchanges': [{\n",
    "                'input': ('testdb', 'Fuel production'),\n",
    "                'amount': 2,\n",
    "                'unit': 'kg',\n",
    "                'type': 'technosphere'\n",
    "            },{\n",
    "                'input': ('biosphere', 'Carbon dioxide'), #this is the KEY line, put biosphere to show that the flow is from the other database.\n",
    "                'amount': 1,\n",
    "                'unit': 'kg',\n",
    "                'type': 'biosphere'\n",
    "            },{\n",
    "                'input': ('biosphere', 'Sulphur dioxide'),\n",
    "                'amount': 0.1,\n",
    "                'unit': 'kg',\n",
    "                'type': 'biosphere'\n",
    "            },{\n",
    "                'input': ('testdb', 'Electricity production'), #important to write the same process name in output\n",
    "                'amount': 10,\n",
    "                'unit': 'kWh',\n",
    "                'type': 'production'\n",
    "            }]\n",
    "        },\n",
    "    ('testdb', 'Fuel production'):{\n",
    "        'name': 'Fuel production',\n",
    "        'unit': 'kg',\n",
    "        'exchanges':[{\n",
    "                'input': ('biosphere', 'Carbon dioxide'),\n",
    "                'amount': 10,\n",
    "                'unit': 'kg',\n",
    "                'type': 'biosphere'\n",
    "            },{\n",
    "                'input': ('biosphere', 'Sulphur dioxide'),\n",
    "                'amount': 2,\n",
    "                'unit': 'kg',\n",
    "                'type': 'biosphere'\n",
    "            },{\n",
    "                'input': ('biosphere', 'Crude oil'),\n",
    "                'amount': -50,\n",
    "                'unit': 'kg',\n",
    "                'type': 'biosphere'\n",
    "            },{\n",
    "                'input': ('testdb', 'Fuel production'),\n",
    "                'amount': 100,\n",
    "                'unit': 'kg',\n",
    "                'type': 'production'\n",
    "            }]\n",
    "    }})"
   ]
  },
  {
   "cell_type": "markdown",
   "id": "694f982b-ffd7-4e60-b1f7-03eac3e4e656",
   "metadata": {},
   "source": [
    "See the differences between this database and the one from the previous tutorial? We have **two**  main differences:\n",
    "1) The `input` entry is written as a tuple, where the first term is the database we are connecting with, and the second one is the name of the flow.\n",
    "2) We do not add flows to this database! We will create a separate flow `biosphere` database!!"
   ]
  },
  {
   "cell_type": "code",
   "execution_count": 14,
   "id": "a7e5a5e8-0b16-40ba-880c-9087cf0a3a77",
   "metadata": {},
   "outputs": [
    {
     "name": "stderr",
     "output_type": "stream",
     "text": [
      "Writing activities to SQLite3 database:\n",
      "0% [###] 100% | ETA: 00:00:00\n",
      "Total time elapsed: 00:00:00\n"
     ]
    },
    {
     "name": "stdout",
     "output_type": "stream",
     "text": [
      "Title: Writing activities to SQLite3 database:\n",
      "  Started: 08/05/2022 13:48:04\n",
      "  Finished: 08/05/2022 13:48:04\n",
      "  Total time elapsed: 00:00:00\n",
      "  CPU %: 1.20\n",
      "  Memory %: 0.54\n"
     ]
    }
   ],
   "source": [
    "bs_db = Database('biosphere')\n",
    "bs_db.write({\n",
    "    ('biosphere', 'Carbon dioxide'):{'name': 'Carbon dioxide', 'unit':'kg', 'type': 'biosphere'},\n",
    "    ('biosphere', 'Sulphur dioxide'):{'name': 'Sulphur dioxide', 'unit':'kg', 'type': 'biosphere'},\n",
    "    ('biosphere', 'Crude oil'):{'name': 'Crude oil', 'unit':'kg', 'type': 'biosphere'}\n",
    "    })\n"
   ]
  },
  {
   "cell_type": "markdown",
   "id": "dfd40afb-d4e3-4898-8a7e-80fbb5c454cc",
   "metadata": {},
   "source": [
    "Now we run the same code lines as the previous tutorial:"
   ]
  },
  {
   "cell_type": "code",
   "execution_count": 15,
   "id": "cd9a23a3-e182-4ae1-9bc9-2193fe72973c",
   "metadata": {},
   "outputs": [
    {
     "name": "stdout",
     "output_type": "stream",
     "text": [
      "Here is the inventory adjusted to the functional unit:\n",
      "  (0, 1)\t19.999999999999996\n",
      "  (0, 0)\t100.0\n",
      "  (1, 1)\t3.9999999999999996\n",
      "  (1, 0)\t10.000000149011612\n",
      "  (2, 1)\t-99.99999999999999\n",
      "Et voilà, the characterized inventory is multiplied by the CF we defined in the myLCIAdata (x2):\n",
      "  (0, 0)\t200.0\n",
      "  (0, 1)\t39.99999999999999\n",
      "  (1, 0)\t20.000000298023224\n",
      "  (1, 1)\t7.999999999999999\n",
      "  (2, 1)\t-199.99999999999997\n"
     ]
    }
   ],
   "source": [
    "functional_unit = {t_db.get(\"Electricity production\") : 1000}\n",
    "lca = LCA(functional_unit) \n",
    "lca.lci()\n",
    "myLCIAdata = [[('biosphere', 'Carbon dioxide'), 2.0], \n",
    "              [('biosphere', 'Sulphur dioxide'), 2.0],\n",
    "              [('biosphere', 'Crude oil'), 2.0]]\n",
    "\n",
    "method_key = ('simplemethod', 'imaginaryendpoint', 'imaginarymidpoint')\n",
    "my_method = Method(method_key)\n",
    "my_method.validate(myLCIAdata)\n",
    "my_method.register() \n",
    "my_method.write(myLCIAdata)\n",
    "my_method.load()\n",
    "\n",
    "lca = LCA(functional_unit, method_key) #run LCA calculations again with method\n",
    "lca.lci()\n",
    "lca.lcia()\n",
    "print(\"Here is the inventory adjusted to the functional unit:\")\n",
    "print(lca.inventory)\n",
    "print(\"Et voilà, the characterized inventory is multiplied by the CF we defined in the myLCIAdata (x2):\")\n",
    "print(lca.characterized_inventory)"
   ]
  },
  {
   "cell_type": "code",
   "execution_count": 16,
   "id": "02dbcfb9-723f-41a8-8d0d-3b6d2d79ffc0",
   "metadata": {},
   "outputs": [
    {
     "data": {
      "text/plain": [
       "[('1 Supply Chain Graph', 1, 0.000121146),\n",
       " ('1.1_Massimo', 1, 9.4452e-05),\n",
       " ('1_1_Massimo', 0, 8.21e-05),\n",
       " ('1_2_Massimo', 1, 9.4081e-05),\n",
       " ('1_3_Massimo', 2, 0.000101768),\n",
       " ('2_1_Massimo', 1, 9.4079e-05),\n",
       " ('2_2_Massimo', 1, 9.4773e-05),\n",
       " ('Tut_1_Activities_Exchanges', 0, 8.1998e-05),\n",
       " ('Tut_1_activities_exchanges', 0, 8.1998e-05),\n",
       " ('Tut_2_Projects', 0, 8.1998e-05),\n",
       " ('Tut_2_the copy', 0, 8.1998e-05),\n",
       " ('Tut_3_Databases', 1, 9.1832e-05),\n",
       " ('default', 0, 8.21e-05)]"
      ]
     },
     "execution_count": 16,
     "metadata": {},
     "output_type": "execute_result"
    }
   ],
   "source": [
    "projects.report()"
   ]
  },
  {
   "cell_type": "markdown",
   "id": "9e9f5e3a-f610-4c50-86ad-f7293b9154ce",
   "metadata": {},
   "source": [
    "Now 1_3_Massimo has two datasets! Because we made them! :D"
   ]
  },
  {
   "cell_type": "code",
   "execution_count": null,
   "id": "f63325e3-a6a6-46ef-a5ac-18e76ad94240",
   "metadata": {},
   "outputs": [],
   "source": []
  }
 ],
 "metadata": {
  "kernelspec": {
   "display_name": "bw2_rosetta",
   "language": "python",
   "name": "bw2_rosetta"
  },
  "language_info": {
   "codemirror_mode": {
    "name": "ipython",
    "version": 3
   },
   "file_extension": ".py",
   "mimetype": "text/x-python",
   "name": "python",
   "nbconvert_exporter": "python",
   "pygments_lexer": "ipython3",
   "version": "3.9.12"
  }
 },
 "nbformat": 4,
 "nbformat_minor": 5
}

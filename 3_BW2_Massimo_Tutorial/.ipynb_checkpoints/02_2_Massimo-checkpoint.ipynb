{
 "cells": [
  {
   "cell_type": "markdown",
   "id": "f8b6817c-618d-4e26-a879-01e7b091d22a",
   "metadata": {},
   "source": [
    "# 2.2 &emsp; Simple LCA — Co-products"
   ]
  },
  {
   "cell_type": "markdown",
   "id": "476822d9-e7f6-4e45-ae92-a3dd272bcbc3",
   "metadata": {},
   "source": [
    "Here is the original [code](https://github.com/massimopizzol/B4B/blob/main/02.2_Simple_LCA_co_products.py)!\n",
    "Let's set up the project as we have done before, this time we will be adding more spice to our database adding heat production (yay!)"
   ]
  },
  {
   "cell_type": "code",
   "execution_count": 4,
   "id": "87c92f32-46f3-405f-8765-6c548b9419a2",
   "metadata": {},
   "outputs": [],
   "source": [
    "from brightway2 import *\n",
    "projects.set_current('2_2_Massimo')"
   ]
  },
  {
   "cell_type": "code",
   "execution_count": 5,
   "id": "d6bdf0b1-e877-4079-9b60-3c3723e5cd6b",
   "metadata": {},
   "outputs": [
    {
     "name": "stderr",
     "output_type": "stream",
     "text": [
      "Writing activities to SQLite3 database:\n",
      "0% [######] 100% | ETA: 00:00:00\n",
      "Total time elapsed: 00:00:00\n"
     ]
    },
    {
     "name": "stdout",
     "output_type": "stream",
     "text": [
      "Title: Writing activities to SQLite3 database:\n",
      "  Started: 08/04/2022 16:20:36\n",
      "  Finished: 08/04/2022 16:20:36\n",
      "  Total time elapsed: 00:00:00\n",
      "  CPU %: 2.60\n",
      "  Memory %: 0.54\n"
     ]
    }
   ],
   "source": [
    "\n",
    "t_db1 = Database(\"testdb\")\n",
    "\n",
    "t_db1.write({\n",
    "    (\"testdb\", \"Electricity production\"):{\n",
    "        'name':'Electricity production',\n",
    "        'unit': 'kWh', \n",
    "        'exchanges': [{\n",
    "                'input': ('testdb', 'Fuel production'),\n",
    "                'amount': 2,\n",
    "                'unit': 'kg',\n",
    "                'type': 'technosphere'\n",
    "            },{\n",
    "                'input': ('testdb', 'Carbon dioxide'),\n",
    "                'amount': 1,\n",
    "                'unit': 'kg',\n",
    "                'type': 'biosphere'\n",
    "            },{\n",
    "                'input': ('testdb', 'Sulphur dioxide'),\n",
    "                'amount': 0.1,\n",
    "                'unit': 'kg',\n",
    "                'type': 'biosphere'\n",
    "            },{\n",
    "                'input': ('testdb', 'Electricity production'), #important to write the same process name in output\n",
    "                'amount': 10,\n",
    "                'unit': 'kWh',\n",
    "                'type': 'production'\n",
    "            },{\n",
    "                'input': ('testdb', 'Heat production'),\n",
    "                'amount': -3,\n",
    "                'unit': 'MJ',\n",
    "                'type': 'technosphere'\n",
    "            }]\n",
    "        },\n",
    "    ('testdb', 'Fuel production'):{\n",
    "        'name': 'Fuel production',\n",
    "        'unit': 'kg',\n",
    "        'exchanges':[{\n",
    "                'input': ('testdb', 'Carbon dioxide'),\n",
    "                'amount': 10,\n",
    "                'unit': 'kg',\n",
    "                'type': 'biosphere'\n",
    "            },{\n",
    "                'input': ('testdb', 'Sulphur dioxide'),\n",
    "                'amount': 2,\n",
    "                'unit': 'kg',\n",
    "                'type': 'biosphere'\n",
    "            },{\n",
    "                'input': ('testdb', 'Crude oil'),\n",
    "                'amount': -50,\n",
    "                'unit': 'kg',\n",
    "                'type': 'biosphere'\n",
    "            },{\n",
    "                'input': ('testdb', 'Fuel production'),\n",
    "                'amount': 100,\n",
    "                'unit': 'kg',\n",
    "                'type': 'production'\n",
    "            }]\n",
    "        },\n",
    "    ('testdb', 'Heat production'):{\n",
    "        'name': 'Heat production',\n",
    "        'unit': 'MJ',\n",
    "        'exchanges':[{\n",
    "                'input': ('testdb', 'Carbon dioxide'),\n",
    "                'amount': 10000, # some exaggerated nr...\n",
    "                'unit': 'kg',\n",
    "                'type': 'biosphere'\n",
    "            },{\n",
    "                'input': ('testdb', 'Heat production'),\n",
    "                'amount': 3,\n",
    "                'unit': 'MJ',\n",
    "                'type': 'production'\n",
    "            }]\n",
    "        },\n",
    "    ('testdb', 'Carbon dioxide'):{'name': 'Carbon dioxide', 'unit':'kg', 'type': 'biosphere'},\n",
    "    ('testdb', 'Sulphur dioxide'):{'name': 'Sulphur dioxide', 'unit':'kg', 'type': 'biosphere'},\n",
    "    ('testdb', 'Crude oil'):{'name': 'Crude oil', 'unit':'kg', 'type': 'biosphere'}\n",
    "\n",
    "    })\n"
   ]
  },
  {
   "cell_type": "code",
   "execution_count": 6,
   "id": "3096dbe1-d4f8-4586-ab02-f9a4571dd5d2",
   "metadata": {},
   "outputs": [
    {
     "name": "stderr",
     "output_type": "stream",
     "text": [
      "Writing activities to SQLite3 database:\n",
      "0% [######] 100% | ETA: 00:00:00\n",
      "Total time elapsed: 00:00:00\n"
     ]
    },
    {
     "name": "stdout",
     "output_type": "stream",
     "text": [
      "Title: Writing activities to SQLite3 database:\n",
      "  Started: 08/04/2022 16:21:11\n",
      "  Finished: 08/04/2022 16:21:11\n",
      "  Total time elapsed: 00:00:00\n",
      "  CPU %: 2.60\n",
      "  Memory %: 0.54\n"
     ]
    }
   ],
   "source": [
    "\n",
    "t_db2 = Database(\"testdb\")\n",
    "\n",
    "t_db2.write({\n",
    "    (\"testdb\", \"Electricity production\"):{\n",
    "        'name':'Electricity production',\n",
    "        'unit': 'kWh', \n",
    "        'exchanges': [{\n",
    "                'input': ('testdb', 'Fuel production'),\n",
    "                'amount': 2,\n",
    "                'unit': 'kg',\n",
    "                'type': 'technosphere'\n",
    "            },{\n",
    "                'input': ('testdb', 'Carbon dioxide'),\n",
    "                'amount': 1,\n",
    "                'unit': 'kg',\n",
    "                'type': 'biosphere'\n",
    "            },{\n",
    "                'input': ('testdb', 'Sulphur dioxide'),\n",
    "                'amount': 0.1,\n",
    "                'unit': 'kg',\n",
    "                'type': 'biosphere'\n",
    "            },{\n",
    "                'input': ('testdb', 'Electricity production'), #important to write the same process name in output\n",
    "                'amount': 10,\n",
    "                'unit': 'kWh',\n",
    "                'type': 'production'\n",
    "            },{\n",
    "                'input': ('testdb', 'Heat production'),\n",
    "                'amount': 3,\n",
    "                'unit': 'MJ',\n",
    "                'type': 'substitution'  # Check this out! a new type!!\n",
    "            }]\n",
    "        },\n",
    "    ('testdb', 'Fuel production'):{\n",
    "        'name': 'Fuel production',\n",
    "        'unit': 'kg',\n",
    "        'exchanges':[{\n",
    "                'input': ('testdb', 'Carbon dioxide'),\n",
    "                'amount': 10,\n",
    "                'unit': 'kg',\n",
    "                'type': 'biosphere'\n",
    "            },{\n",
    "                'input': ('testdb', 'Sulphur dioxide'),\n",
    "                'amount': 2,\n",
    "                'unit': 'kg',\n",
    "                'type': 'biosphere'\n",
    "            },{\n",
    "                'input': ('testdb', 'Crude oil'),\n",
    "                'amount': -50,\n",
    "                'unit': 'kg',\n",
    "                'type': 'biosphere'\n",
    "            },{\n",
    "                'input': ('testdb', 'Fuel production'),\n",
    "                'amount': 100,\n",
    "                'unit': 'kg',\n",
    "                'type': 'production'\n",
    "            }]\n",
    "        },\n",
    "    ('testdb', 'Heat production'):{\n",
    "        'name': 'Heat production',\n",
    "        'unit': 'MJ',\n",
    "        'exchanges':[{\n",
    "                'input': ('testdb', 'Carbon dioxide'),\n",
    "                'amount': 10000, # some exaggerated number to see how this affect\n",
    "                'unit': 'kg',\n",
    "                'type': 'biosphere'\n",
    "            },{\n",
    "                'input': ('testdb', 'Heat production'),\n",
    "                'amount': 3,\n",
    "                'unit': 'MJ',\n",
    "                'type': 'production'\n",
    "            }]\n",
    "        },\n",
    "    ('testdb', 'Carbon dioxide'):{'name': 'Carbon dioxide', 'unit':'kg', 'type': 'biosphere'},\n",
    "    ('testdb', 'Sulphur dioxide'):{'name': 'Sulphur dioxide', 'unit':'kg', 'type': 'biosphere'},\n",
    "    ('testdb', 'Crude oil'):{'name': 'Crude oil', 'unit':'kg', 'type': 'biosphere'}\n",
    "\n",
    "    })"
   ]
  },
  {
   "cell_type": "markdown",
   "id": "e0fe7bb9-1b1d-421b-9102-1c76c8d541bf",
   "metadata": {},
   "source": [
    "These two dataset are very similar, but not the same:"
   ]
  },
  {
   "cell_type": "code",
   "execution_count": 8,
   "id": "42b1f1d2-b5ad-459d-9dd9-32ec9518cb68",
   "metadata": {},
   "outputs": [
    {
     "data": {
      "text/plain": [
       "False"
      ]
     },
     "execution_count": 8,
     "metadata": {},
     "output_type": "execute_result"
    }
   ],
   "source": [
    "t_db1 == t_db2"
   ]
  },
  {
   "cell_type": "markdown",
   "id": "eec04069-d589-41ef-bd4b-181d2ef19968",
   "metadata": {},
   "source": [
    "See? And you did not believe me. If you look closely, you will see that the first dataset adds 3 MJ of heat as `'type': 'substitution'` as `Electricity production` exchange. Whereas the second database adds -3 MJ of heat as `'type': 'technosphere'`. Let's check what are the differences."
   ]
  },
  {
   "cell_type": "markdown",
   "id": "b774ca3a-9d09-4479-bf1f-7b4b8db5e223",
   "metadata": {},
   "source": [
    "Let's create our LCA method. You already know how this works!"
   ]
  },
  {
   "cell_type": "code",
   "execution_count": 9,
   "id": "492eff61-6b14-45b1-a6cd-dc8f8fbe2cd0",
   "metadata": {},
   "outputs": [
    {
     "data": {
      "text/plain": [
       "[[('testdb', 'Carbon dioxide'), 2.0],\n",
       " [('testdb', 'Sulphur dioxide'), 2.0],\n",
       " [('testdb', 'Crude oil'), 2.0]]"
      ]
     },
     "execution_count": 9,
     "metadata": {},
     "output_type": "execute_result"
    }
   ],
   "source": [
    "myLCIAdata = [[('testdb', 'Carbon dioxide'), 2.0], \n",
    "              [('testdb', 'Sulphur dioxide'), 2.0],\n",
    "              [('testdb', 'Crude oil'), 2.0]]\n",
    "\n",
    "method_key = ('simplemethod', 'imaginaryendpoint', 'imaginarymidpoint')\n",
    "my_method = Method(method_key)\n",
    "my_method.validate(myLCIAdata)\n",
    "my_method.register() \n",
    "my_method.write(myLCIAdata)\n",
    "my_method.load()"
   ]
  },
  {
   "cell_type": "markdown",
   "id": "de9a068e-20b4-4369-a40d-64163e8d3c44",
   "metadata": {},
   "source": [
    "And now the fun part!!! To the comparison chamber!"
   ]
  },
  {
   "cell_type": "code",
   "execution_count": 11,
   "id": "c0d237d9-8125-4513-9971-227bcd7d4a16",
   "metadata": {},
   "outputs": [
    {
     "name": "stdout",
     "output_type": "stream",
     "text": [
      "  (0, 2)\t-1000000.0\n",
      "  (0, 1)\t20.0\n",
      "  (0, 0)\t100.0\n",
      "  (1, 1)\t4.0\n",
      "  (1, 0)\t10.000000149011612\n",
      "  (2, 1)\t-100.0\n",
      " \n",
      "-1999931.999999702\n"
     ]
    }
   ],
   "source": [
    "functional_unit1 = {t_db1.get(\"Electricity production\") : 1000}\n",
    "lca1 = LCA(functional_unit1, method_key) \n",
    "lca1.lci()\n",
    "lca1.lcia()\n",
    "print(lca1.inventory)\n",
    "print(\" \")\n",
    "print(lca1.score)"
   ]
  },
  {
   "cell_type": "code",
   "execution_count": 12,
   "id": "a98ef95d-d1fa-422e-97a3-e85f6d445b9e",
   "metadata": {},
   "outputs": [
    {
     "name": "stdout",
     "output_type": "stream",
     "text": [
      "  (0, 2)\t-1000000.0\n",
      "  (0, 1)\t20.0\n",
      "  (0, 0)\t100.0\n",
      "  (1, 1)\t4.0\n",
      "  (1, 0)\t10.000000149011612\n",
      "  (2, 1)\t-100.0\n",
      " \n",
      "-1999931.999999702\n"
     ]
    }
   ],
   "source": [
    "functional_unit2 = {t_db1.get(\"Electricity production\") : 1000}\n",
    "lca2 = LCA(functional_unit2, method_key) \n",
    "lca2.lci()\n",
    "lca2.lcia()\n",
    "print(lca2.inventory)\n",
    "print(\" \")\n",
    "print(lca2.score)"
   ]
  },
  {
   "cell_type": "code",
   "execution_count": 13,
   "id": "4dc4cec1-b6dc-40e5-8c3c-3f1c94c13fce",
   "metadata": {},
   "outputs": [
    {
     "data": {
      "text/plain": [
       "True"
      ]
     },
     "execution_count": 13,
     "metadata": {},
     "output_type": "execute_result"
    }
   ],
   "source": [
    "lca1.score == lca2.score"
   ]
  },
  {
   "cell_type": "markdown",
   "id": "bfe9d5c8-1dfc-4118-9ed1-870a6c91cc9a",
   "metadata": {},
   "source": [
    "MWAHAHAHA!! I tricked you! They are exactly the same! So... what is the difference between setting the heat exchange type as `'type': 'substitution'` and `'type': 'technosphere'`?"
   ]
  },
  {
   "cell_type": "markdown",
   "id": "d341fa95-49e1-4595-a9a0-d9150bf23db1",
   "metadata": {},
   "source": [
    "No fucking clue."
   ]
  },
  {
   "cell_type": "code",
   "execution_count": null,
   "id": "56525df6-47d2-40fd-a8f9-794fb0cb1380",
   "metadata": {},
   "outputs": [],
   "source": []
  }
 ],
 "metadata": {
  "kernelspec": {
   "display_name": "Python 3 (ipykernel)",
   "language": "python",
   "name": "python3"
  },
  "language_info": {
   "codemirror_mode": {
    "name": "ipython",
    "version": 3
   },
   "file_extension": ".py",
   "mimetype": "text/x-python",
   "name": "python",
   "nbconvert_exporter": "python",
   "pygments_lexer": "ipython3",
   "version": "3.9.12"
  }
 },
 "nbformat": 4,
 "nbformat_minor": 5
}

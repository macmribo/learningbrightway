{
 "cells": [
  {
   "cell_type": "markdown",
   "id": "a6976020-b9e3-42b9-a8f5-3c2bef44548e",
   "metadata": {},
   "source": [
    "# 1.2 &emsp; Simple LCA"
   ]
  },
  {
   "cell_type": "markdown",
   "id": "b0c50914-a596-49e6-bfa7-498d1fb2db11",
   "metadata": {},
   "source": [
    "This is the [second tutorial](https://github.com/massimopizzol/B4B/blob/main/01.1_Simple_LCA.py) based on a .py code Massimo wrote."
   ]
  },
  {
   "cell_type": "markdown",
   "id": "be25a8a8-6a3d-4fcc-9bf8-7118e0e3511e",
   "metadata": {},
   "source": [
    "### Project setup and database creation\n",
    "\n",
    "___"
   ]
  },
  {
   "cell_type": "code",
   "execution_count": 18,
   "id": "3b11ee49-79e6-411b-8fb7-da55e5849306",
   "metadata": {},
   "outputs": [],
   "source": [
    "from brightway2 import *"
   ]
  },
  {
   "cell_type": "markdown",
   "id": "2e3f1ab4-c241-47a6-be8d-2bcdb9beea46",
   "metadata": {},
   "source": [
    "Setup the project and check where it is saved:"
   ]
  },
  {
   "cell_type": "code",
   "execution_count": 19,
   "id": "a059f625-beff-4055-aaa7-4ad7cbc9b778",
   "metadata": {},
   "outputs": [
    {
     "data": {
      "text/plain": [
       "'/Users/mmendez/Library/Application Support/Brightway3/1_2_Massimo.d9b9e72a1433f03ac4280d1b58eada4e/output'"
      ]
     },
     "execution_count": 19,
     "metadata": {},
     "output_type": "execute_result"
    }
   ],
   "source": [
    "list(projects) # How many projects have I hoarded?\n",
    "projects.set_current('1_2_Massimo')  # I create Massimo and set as current project ~ WEEEE\n",
    "projects.output_dir # Ahá! There you are..."
   ]
  },
  {
   "cell_type": "markdown",
   "id": "12e5f1b1-8915-475e-8869-621d69cb57b8",
   "metadata": {},
   "source": [
    "Let's create a dummy database:"
   ]
  },
  {
   "cell_type": "code",
   "execution_count": 20,
   "id": "1dd227b9-bb00-4844-9bb6-c295faf20598",
   "metadata": {},
   "outputs": [],
   "source": [
    "t_db = Database(\"testdb\")"
   ]
  },
  {
   "cell_type": "code",
   "execution_count": 21,
   "id": "ef7e0f9e-b81f-4b25-986c-3d77cef794a9",
   "metadata": {},
   "outputs": [
    {
     "name": "stderr",
     "output_type": "stream",
     "text": [
      "Writing activities to SQLite3 database:\n",
      "0% [#####] 100% | ETA: 00:00:00\n",
      "Total time elapsed: 00:00:00\n"
     ]
    },
    {
     "name": "stdout",
     "output_type": "stream",
     "text": [
      "Title: Writing activities to SQLite3 database:\n",
      "  Started: 08/04/2022 14:38:41\n",
      "  Finished: 08/04/2022 14:38:41\n",
      "  Total time elapsed: 00:00:00\n",
      "  CPU %: 2.60\n",
      "  Memory %: 0.55\n"
     ]
    }
   ],
   "source": [
    "t_db.write({\n",
    "    (\"testdb\", \"Electricity production\"):{\n",
    "        'name':'Electricity production',\n",
    "        'unit': 'kWh', \n",
    "        'exchanges': [{\n",
    "                'input': ('testdb', 'Fuel production'),\n",
    "                'amount': 2,\n",
    "                'unit': 'kg',\n",
    "                'type': 'technosphere'\n",
    "            },{\n",
    "                'input': ('testdb', 'Carbon dioxide'),\n",
    "                'amount': 1,\n",
    "                'unit': 'kg',\n",
    "                'type': 'biosphere'\n",
    "            },{\n",
    "                'input': ('testdb', 'Sulphur dioxide'),\n",
    "                'amount': 0.1,\n",
    "                'unit': 'kg',\n",
    "                'type': 'biosphere'\n",
    "            },{\n",
    "                'input': ('testdb', 'Electricity production'), #important to write the same process name in output\n",
    "                'amount': 10,\n",
    "                'unit': 'kWh',\n",
    "                'type': 'production'\n",
    "            }]\n",
    "        },\n",
    "    ('testdb', 'Fuel production'):{\n",
    "        'name': 'Fuel production',\n",
    "        'unit': 'kg',\n",
    "        'exchanges':[{\n",
    "                'input': ('testdb', 'Carbon dioxide'),\n",
    "                'amount': 10,\n",
    "                'unit': 'kg',\n",
    "                'type': 'biosphere'\n",
    "            },{\n",
    "                'input': ('testdb', 'Sulphur dioxide'),\n",
    "                'amount': 2,\n",
    "                'unit': 'kg',\n",
    "                'type': 'biosphere'\n",
    "            },{\n",
    "                'input': ('testdb', 'Crude oil'),\n",
    "                'amount': -50,\n",
    "                'unit': 'kg',\n",
    "                'type': 'biosphere'\n",
    "            },{\n",
    "                'input': ('testdb', 'Fuel production'),\n",
    "                'amount': 100,\n",
    "                'unit': 'kg',\n",
    "                'type': 'production'\n",
    "            }]\n",
    "    },\n",
    "    ('testdb', 'Carbon dioxide'):{'name': 'Carbon dioxide', 'unit':'kg', 'type': 'biosphere'},\n",
    "    ('testdb', 'Sulphur dioxide'):{'name': 'Sulphur dioxide', 'unit':'kg', 'type': 'biosphere'},\n",
    "    ('testdb', 'Crude oil'):{'name': 'Crude oil', 'unit':'kg', 'type': 'biosphere'}\n",
    "\n",
    "    })"
   ]
  },
  {
   "cell_type": "markdown",
   "id": "8bd9b258-75f7-485d-a285-abf037fc592a",
   "metadata": {},
   "source": [
    "### LCA calculations\n",
    "___"
   ]
  },
  {
   "cell_type": "markdown",
   "id": "81942ff3-57b2-4fdc-a301-8ddc61db2973",
   "metadata": {},
   "source": [
    "Let's find out the scores for 1000 kWh of produced electricity.\n",
    "\n",
    "First, we need a reference, thus we need to define ...drum roll... the functional unit!"
   ]
  },
  {
   "cell_type": "code",
   "execution_count": 22,
   "id": "f3269470-8296-4abd-99b5-be6f6a9c8cc0",
   "metadata": {},
   "outputs": [],
   "source": [
    "functional_unit = {t_db.get(\"Electricity production\") : 1000}"
   ]
  },
  {
   "cell_type": "markdown",
   "id": "e9aefc0b-0f2b-425a-8a2e-8178c632f292",
   "metadata": {},
   "source": [
    "Now that we have a functional unit we run the LCA function so we can get the LCI (Life Cycle Inventory) by running the lci() function on the LCA object lca."
   ]
  },
  {
   "cell_type": "code",
   "execution_count": 23,
   "id": "d7bf3563-e65b-4e3c-8b8b-96fb78327b7f",
   "metadata": {},
   "outputs": [
    {
     "name": "stdout",
     "output_type": "stream",
     "text": [
      "  (0, 1)\t20.0\n",
      "  (0, 0)\t100.0\n",
      "  (1, 1)\t4.0\n",
      "  (1, 0)\t10.000000149011612\n",
      "  (2, 1)\t-100.0\n"
     ]
    }
   ],
   "source": [
    "lca = LCA(functional_unit) \n",
    "lca.lci()\n",
    "print(lca.inventory)"
   ]
  },
  {
   "cell_type": "markdown",
   "id": "5e459847-a4c4-4827-ac5b-96f96c3a632d",
   "metadata": {},
   "source": [
    "I am going to revert the LCA results, so we can visualize them and make some sense of these results. This is not necessary to obtain results!"
   ]
  },
  {
   "cell_type": "code",
   "execution_count": 24,
   "id": "a434f3a5-5d43-4c58-90be-a3c27448433f",
   "metadata": {},
   "outputs": [],
   "source": [
    "rev_act_dict, rev_product_dict, rev_bio_dict = lca.reverse_dict()"
   ]
  },
  {
   "cell_type": "markdown",
   "id": "dc5ee535-dc59-48a3-a382-f319eedc5221",
   "metadata": {},
   "source": [
    "Let's find out the scores for 1000 kWh of produced electricity.\n",
    "\n",
    "First, we need a reference, thus we need to define ...*drum roll*...  the __functional unit__! "
   ]
  },
  {
   "cell_type": "markdown",
   "id": "53cedced-370d-4688-8663-0bc4f9ac07c5",
   "metadata": {},
   "source": [
    "Let's look at the __technology matrix__ to see what this means for easy visualization (worry not, once you get used to this I'll stop doing it!)."
   ]
  },
  {
   "cell_type": "code",
   "execution_count": 25,
   "id": "cdd6e096-08a1-421a-a5ae-07a0123a908d",
   "metadata": {},
   "outputs": [
    {
     "name": "stdout",
     "output_type": "stream",
     "text": [
      "[[ 10.   0.]\n",
      " [ -2. 100.]]\n",
      "Electricity production supplies 10.0 of 'Electricity production' (kWh, None, None)\n",
      "Fuel production uses 0.0 of 'Electricity production' (kWh, None, None)\n",
      "Electricity production uses -2.0 of 'Fuel production' (kg, None, None)\n",
      "Fuel production supplies 100.0 of 'Fuel production' (kg, None, None)\n"
     ]
    }
   ],
   "source": [
    "tech_matrix=lca.technosphere_matrix.toarray()\n",
    "print(tech_matrix)\n",
    "for r in range(0,tech_matrix.shape[0]):\n",
    "    for c in range(0,tech_matrix.shape[1]):\n",
    "        if tech_matrix[r, c]>0:\n",
    "            print(str(rev_act_dict[c][1])+\" supplies \"+ str(tech_matrix[r, c])+\" of \"+str(get_activity(rev_product_dict[r])))\n",
    "        else:\n",
    "            print(str(rev_act_dict[c][1])+\" uses \"+ str(tech_matrix[r, c])+\" of \"+str(get_activity(rev_product_dict[r])))"
   ]
  },
  {
   "cell_type": "markdown",
   "id": "52f4186d-f521-47e7-bf9e-08b061492080",
   "metadata": {},
   "source": [
    "This is the supply array.\n",
    "\n",
    "<div class=\"alert alert-warning\">\n",
    "      <i class=\"fa fa-question-circle-o\" aria-hidden=\"true\"></i>&nbsp;\n",
    "      Figure out what the <code>supply_array</code> is.\n",
    "</div>"
   ]
  },
  {
   "cell_type": "code",
   "execution_count": 26,
   "id": "6d5dec38-5a6a-4d19-a716-450e0e9729d2",
   "metadata": {},
   "outputs": [
    {
     "name": "stdout",
     "output_type": "stream",
     "text": [
      "[100.0, 2.0]\n",
      "Electricity production supplies 100.0\n",
      "Fuel production supplies 2.0\n"
     ]
    }
   ],
   "source": [
    "supply_array=lca.supply_array.tolist()\n",
    "print(supply_array)\n",
    "for r in supply_array:\n",
    "    print(\"{} supplies {}\".format(rev_product_dict[supply_array.index(r)][1],supply_array[supply_array.index(r)]))"
   ]
  },
  {
   "cell_type": "markdown",
   "id": "32db5209-b77e-42fc-b657-545ae40181fd",
   "metadata": {},
   "source": [
    "And now let's explore the __inventory matrix__, which shows which flows are __used__ and __produced__ by each unit process."
   ]
  },
  {
   "cell_type": "code",
   "execution_count": 27,
   "id": "ea41565d-068c-488c-884f-1e1efa290ad5",
   "metadata": {},
   "outputs": [
    {
     "name": "stdout",
     "output_type": "stream",
     "text": [
      "[[ 100.           20.        ]\n",
      " [  10.00000015    4.        ]\n",
      " [   0.         -100.        ]]\n",
      "Electricity production emits 100.0 kg of Carbon dioxide\n",
      "Fuel production emits 20.0 kg of Carbon dioxide\n",
      "Electricity production emits 10.000000149011612 kg of Sulphur dioxide\n",
      "Fuel production emits 4.0 kg of Sulphur dioxide\n",
      "Electricity production uses -0.0 kg of Crude oil\n",
      "Fuel production uses 100.0 kg of Crude oil\n"
     ]
    }
   ],
   "source": [
    "inventory_matrix = lca.inventory.toarray()\n",
    "print(inventory_matrix)\n",
    "for r in range(0,inventory_matrix.shape[0]):\n",
    "    for c in range(0,inventory_matrix.shape[1]):\n",
    "        if inventory_matrix[r, c]>0:\n",
    "            print(str(rev_act_dict[c][1])+\" emits \"+ str(inventory_matrix[r, c])+\" \"+get_activity(rev_bio_dict[r])[\"unit\"]+\" of \"+str(rev_bio_dict[r][1]))\n",
    "        else:\n",
    "            print(str(rev_act_dict[c][1])+\" uses \"+ str(inventory_matrix[r, c]*(-1))+\" \"+get_activity(rev_bio_dict[r])[\"unit\"]+\" of \"+str(rev_bio_dict[r][1]))"
   ]
  },
  {
   "cell_type": "markdown",
   "id": "4f04b7fc-8014-4ac3-92af-bdb5e9467668",
   "metadata": {},
   "source": [
    "Let's give imaginary characterization factors to our resource and emission flows:"
   ]
  },
  {
   "cell_type": "code",
   "execution_count": 28,
   "id": "bbae7dce-40d6-4ad7-b1ac-fe5a2e036dd8",
   "metadata": {},
   "outputs": [],
   "source": [
    "myLCIAdata = [[('testdb', 'Carbon dioxide'), 2.0], \n",
    "              [('testdb', 'Sulphur dioxide'), 2.0],\n",
    "              [('testdb', 'Crude oil'), 2.0]]"
   ]
  },
  {
   "cell_type": "markdown",
   "id": "37947f61-854e-4b4a-b1b1-0b4c04ac587f",
   "metadata": {},
   "source": [
    "\n",
    "\n",
    "<div class=\"alert alert-warning\">\n",
    "      <i class=\"fa fa-question-circle-o\" aria-hidden=\"true\"></i>&nbsp;\n",
    "      Figure out what Method does with the <code>method_key</code> tuple.\n",
    "</div>"
   ]
  },
  {
   "cell_type": "code",
   "execution_count": 29,
   "id": "fbc67789-9587-461c-b914-a79ed33ecd5a",
   "metadata": {},
   "outputs": [
    {
     "data": {
      "text/plain": [
       "[[('testdb', 'Carbon dioxide'), 2.0],\n",
       " [('testdb', 'Sulphur dioxide'), 2.0],\n",
       " [('testdb', 'Crude oil'), 2.0]]"
      ]
     },
     "execution_count": 29,
     "metadata": {},
     "output_type": "execute_result"
    }
   ],
   "source": [
    "method_key = ('simplemethod', 'imaginaryendpoint', 'imaginarymidpoint')\n",
    "my_method = Method(method_key)\n",
    "my_method.validate(myLCIAdata)\n",
    "my_method.register() \n",
    "my_method.write(myLCIAdata)\n",
    "my_method.load()"
   ]
  },
  {
   "cell_type": "code",
   "execution_count": 30,
   "id": "52d4b7dc-e7cb-4d98-8f82-457a7d2e8fce",
   "metadata": {},
   "outputs": [
    {
     "data": {
      "text/plain": [
       "tuple"
      ]
     },
     "execution_count": 30,
     "metadata": {},
     "output_type": "execute_result"
    }
   ],
   "source": [
    "type(method_key)"
   ]
  },
  {
   "cell_type": "code",
   "execution_count": 31,
   "id": "ee639c3a-fc3f-43fc-b6e8-205827da3898",
   "metadata": {},
   "outputs": [
    {
     "name": "stdout",
     "output_type": "stream",
     "text": [
      "  (0, 1)\t20.0\n",
      "  (0, 0)\t100.0\n",
      "  (1, 1)\t4.0\n",
      "  (1, 0)\t10.000000149011612\n",
      "  (2, 1)\t-100.0\n",
      "\n",
      "  (0, 0)\t200.0\n",
      "  (0, 1)\t40.0\n",
      "  (1, 0)\t20.000000298023224\n",
      "  (1, 1)\t8.0\n",
      "  (2, 1)\t-200.0\n"
     ]
    }
   ],
   "source": [
    "lca = LCA(functional_unit, method_key) #run LCA calculations again with method\n",
    "lca.lci()\n",
    "lca.lcia()\n",
    "print(lca.inventory)\n",
    "print(\"\")\n",
    "print(lca.characterized_inventory)"
   ]
  },
  {
   "cell_type": "code",
   "execution_count": 35,
   "id": "4af8bc26-0083-4eee-8e0b-704b0b2aeaea",
   "metadata": {},
   "outputs": [
    {
     "name": "stdout",
     "output_type": "stream",
     "text": [
      "68.00000029802322\n",
      "  (0, 0)\t220.00000029802322\n",
      "  (0, 1)\t-152.0\n"
     ]
    }
   ],
   "source": [
    "print(lca.score) # Not sure yet what the score does\n",
    "\n",
    "print(sum(lca.characterized_inventory)) # Adds (0, 0) and (1, 0): 200 + 20 = 220, and adds (0, 1), (1, 1) and (2, 1): 40 + 8 - 200"
   ]
  },
  {
   "cell_type": "markdown",
   "id": "5e320ec0-6ed8-4d01-9c77-0733e7a64019",
   "metadata": {},
   "source": [
    "The point with score is that what CM (what is CM?) calls a method is an \"impact category\", so he then assumes (correctly) everything is summed up."
   ]
  },
  {
   "cell_type": "code",
   "execution_count": null,
   "id": "7c55abb3-f9b4-4370-8122-4f697c05113f",
   "metadata": {},
   "outputs": [],
   "source": []
  },
  {
   "cell_type": "code",
   "execution_count": null,
   "id": "054cbc49-924c-4649-b124-26fdcfc46b0b",
   "metadata": {},
   "outputs": [],
   "source": []
  }
 ],
 "metadata": {
  "kernelspec": {
   "display_name": "Python 3 (ipykernel)",
   "language": "python",
   "name": "python3"
  },
  "language_info": {
   "codemirror_mode": {
    "name": "ipython",
    "version": 3
   },
   "file_extension": ".py",
   "mimetype": "text/x-python",
   "name": "python",
   "nbconvert_exporter": "python",
   "pygments_lexer": "ipython3",
   "version": "3.9.12"
  }
 },
 "nbformat": 4,
 "nbformat_minor": 5
}

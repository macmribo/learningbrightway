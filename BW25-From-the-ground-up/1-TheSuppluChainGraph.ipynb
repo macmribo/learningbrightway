{
 "cells": [
  {
   "cell_type": "markdown",
   "id": "a403b028-0d07-4e18-972a-1ec2c54284cd",
   "metadata": {},
   "source": [
    "# 1 &emsp; The Supply Chain Graph "
   ]
  },
  {
   "cell_type": "markdown",
   "id": "fef641f7-5347-436f-a69b-09cf1e60f95e",
   "metadata": {},
   "source": [
    "These set of tutorials follow the same tutorial made by [tngTUDOR](https://github.com/brightway-lca/from-the-ground-up). Teaching material for Brightway2.5, starting from the foundations. A different approach from the existing teaching material which describes how Bightway works, with a focus on why Brightway does what it does. These notebooks are designed to be used in class, so do not contain a ton of instruction."
   ]
  },
  {
   "cell_type": "code",
   "execution_count": 1,
   "id": "58b2d734-4838-4695-aac4-ce69e5d4528b",
   "metadata": {},
   "outputs": [],
   "source": [
    "import bw2data as bd"
   ]
  },
  {
   "cell_type": "markdown",
   "id": "ef418fce-9f26-46d4-aec7-03127835b098",
   "metadata": {},
   "source": [
    "About bw2data: The first thing to learn about `bw2data` is the concept of projects. Each project is self-contained, and independent of other projects. Each has its own subdirectory. This can lead to data duplication, but helps keep each project safe from the changes in the others.\n",
    "\n",
    "We start in the `default` project:"
   ]
  },
  {
   "cell_type": "code",
   "execution_count": 2,
   "id": "e81779f6-1edc-45ac-8ecb-3ab18e57b376",
   "metadata": {},
   "outputs": [
    {
     "data": {
      "text/plain": [
       "'default'"
      ]
     },
     "execution_count": 2,
     "metadata": {},
     "output_type": "execute_result"
    }
   ],
   "source": [
    "bd.projects.current"
   ]
  },
  {
   "cell_type": "markdown",
   "id": "6e5341f4-6662-4354-a7ab-c90bbf159eef",
   "metadata": {},
   "source": [
    "With directory:"
   ]
  },
  {
   "cell_type": "code",
   "execution_count": 3,
   "id": "dfdee942-50fa-4b1f-91ec-b5b8bc3bc016",
   "metadata": {},
   "outputs": [
    {
     "data": {
      "text/plain": [
       "PosixPath('/Users/mmendez/Library/Application Support/Brightway3/default.c21f969b5f03d33d43e04f8f136e7682')"
      ]
     },
     "execution_count": 3,
     "metadata": {},
     "output_type": "execute_result"
    }
   ],
   "source": [
    "bd.projects.dir"
   ]
  },
  {
   "cell_type": "markdown",
   "id": "06d572eb-ef2b-4bcc-95b8-c5f882d92be2",
   "metadata": {},
   "source": [
    "Make it easy to reset this project:"
   ]
  },
  {
   "cell_type": "code",
   "execution_count": 4,
   "id": "d446c02a-1aeb-4102-a20e-82daae890268",
   "metadata": {},
   "outputs": [],
   "source": [
    "try:\n",
    "    bd.projects.delete_project(\"1 Supply Chain Graph\", True)\n",
    "except ValueError:\n",
    "    pass"
   ]
  },
  {
   "cell_type": "markdown",
   "id": "91b8d903-7fda-45c0-bb70-3d3f06102c68",
   "metadata": {},
   "source": [
    "Let's create a new project:"
   ]
  },
  {
   "cell_type": "code",
   "execution_count": 5,
   "id": "bfc9c00d-bf05-4eb6-973c-8d5e145ab50b",
   "metadata": {},
   "outputs": [
    {
     "data": {
      "text/plain": [
       "'1 Supply Chain Graph'"
      ]
     },
     "execution_count": 5,
     "metadata": {},
     "output_type": "execute_result"
    }
   ],
   "source": [
    "bd.projects.set_current('1 Supply Chain Graph')\n",
    "bd.projects.current"
   ]
  },
  {
   "cell_type": "markdown",
   "id": "b6f60aee-7a11-4bb7-a19d-eaf610232052",
   "metadata": {},
   "source": [
    "A graph can have nodes of any type, but for the purposes of LCA it is convenient to separate activity nodes, product nodes, elementary flow nodes, and characterization nodes. We will also use a shortcut (for now) and assume that each activity produces exactly one product, so we can collapse activity and products nodes into a single node.\n",
    "\n",
    "Let's think about a simple product system - a bike. Here is a graph:\n",
    "\n",
    "<img src='images/simple-graph.png' width='400'>"
   ]
  },
  {
   "cell_type": "markdown",
   "id": "50ab6fb7-5b4b-4c97-9f46-5554adf715fa",
   "metadata": {},
   "source": [
    "To enter this data into BW, we need to create the nodes, and then the edges. We will create these nodes in a `Database`. A database in BW is just a collection of nodes - it can be large or small, there aren't any general rules."
   ]
  },
  {
   "cell_type": "code",
   "execution_count": 6,
   "id": "ec41ad15-8f4f-4d7b-b858-ce91ee857788",
   "metadata": {},
   "outputs": [],
   "source": [
    "db = bd.Database('bike')\n",
    "db.register() # Let the metadata system know this database exists. Not necessary if using a `bw2io` importer."
   ]
  },
  {
   "cell_type": "markdown",
   "id": "4ebf40da-cd52-4e1f-b236-c6d0789c313c",
   "metadata": {},
   "source": [
    "Our first node. We specify some additional data to make it easier to find or use this node later on."
   ]
  },
  {
   "cell_type": "code",
   "execution_count": 7,
   "id": "f1a75b92-0b9d-42f5-91a5-e2f941270277",
   "metadata": {},
   "outputs": [],
   "source": [
    "data = {\n",
    "    'code': 'bike',\n",
    "    'name': 'bike production',\n",
    "    'location': 'DK',\n",
    "    'unit': 'bike',\n",
    "}\n",
    "\n",
    "bike = db.new_node(**data)  # Here I needed to upgrade bw2data using conda upgrade bw2data\n",
    "bike.save()"
   ]
  },
  {
   "cell_type": "code",
   "execution_count": 8,
   "id": "cb7d1708-2fe7-4d95-88d5-860ca56a336d",
   "metadata": {},
   "outputs": [],
   "source": [
    "data = {\n",
    "    'code': 'ng',\n",
    "    'name': 'natural gas production',\n",
    "    'location': 'NO',\n",
    "    'unit': 'MJ'\n",
    "}\n",
    "\n",
    "ng = db.new_node(**data)\n",
    "ng.save()"
   ]
  },
  {
   "cell_type": "code",
   "execution_count": 9,
   "id": "2944c380-dad7-4904-bb0a-7d298a1b9757",
   "metadata": {},
   "outputs": [],
   "source": [
    "data = {\n",
    "    'code': 'cf',\n",
    "    'name': 'carbon fibre production',\n",
    "    'location': 'DE',\n",
    "    'unit': 'kg'\n",
    "}\n",
    "\n",
    "cf = db.new_node(**data)\n",
    "cf.save()"
   ]
  },
  {
   "cell_type": "markdown",
   "id": "468347bd-a155-4865-9f5c-8f77366fb541",
   "metadata": {},
   "source": [
    "We can also define nodes like this. Note that this node has a `type`."
   ]
  },
  {
   "cell_type": "code",
   "execution_count": 10,
   "id": "d6e58f3b-7ff3-4558-bee1-e1314dd052e8",
   "metadata": {},
   "outputs": [],
   "source": [
    "co2 = db.new_node(\n",
    "    code='co2', \n",
    "    name=\"Carbon Dioxide\", \n",
    "    categories=('air',),\n",
    "    type='emission',\n",
    "    unit='kg'\n",
    ")\n",
    "\n",
    "co2.save()"
   ]
  },
  {
   "cell_type": "markdown",
   "id": "6dfc1f66-c0f7-40fc-9b1e-0afd4a2a011d",
   "metadata": {},
   "source": [
    "We also need to create edges between the nodes. We can do this in many ways here is one:"
   ]
  },
  {
   "cell_type": "code",
   "execution_count": 11,
   "id": "53b1b95a-8b4c-4e80-935b-deb97a022818",
   "metadata": {},
   "outputs": [],
   "source": [
    "bike.new_edge(\n",
    "    amount=2.5, \n",
    "    type='technosphere',\n",
    "    input=cf\n",
    ").save()"
   ]
  },
  {
   "cell_type": "markdown",
   "id": "42821d9b-b510-47c3-bb55-24540c5ac0c6",
   "metadata": {},
   "source": [
    "What about some uncertainty? We use [stats_arrays](https://stats-arrays.readthedocs.io/en/latest/) to model probability distribution functions."
   ]
  },
  {
   "cell_type": "code",
   "execution_count": 12,
   "id": "67c190e3-5c59-4216-bf32-425399b84289",
   "metadata": {},
   "outputs": [],
   "source": [
    "cf.new_edge(\n",
    "    amount=237.3,  # plus 58 kWh of electricity, in ecoinvent 3.8 \n",
    "    uncertainty_type=5, \n",
    "    minimum=200, \n",
    "    maximum=300, \n",
    "    type='technosphere',\n",
    "    input=ng,\n",
    ").save()"
   ]
  },
  {
   "cell_type": "code",
   "execution_count": 13,
   "id": "f8f190df-5e1e-45a5-a3fa-b4b3ded4217d",
   "metadata": {},
   "outputs": [],
   "source": [
    "cf.new_edge(\n",
    "    amount=26.6, \n",
    "    uncertainty_type=5, \n",
    "    minimum=26,\n",
    "    maximum=27.2, \n",
    "    type='biosphere',\n",
    "    input=co2,\n",
    ").save()"
   ]
  },
  {
   "cell_type": "markdown",
   "id": "06871293-6f2a-48df-8d42-adf85b4ce503",
   "metadata": {},
   "source": [
    "Brightway will assume that the a `production` exchange of amount 1 in each node unless you tell it otherwise.\n",
    "\n",
    "To define characterization nodes and edges, we use a difference data structure:\n"
   ]
  },
  {
   "cell_type": "code",
   "execution_count": 14,
   "id": "e50c2ceb-786f-4ab2-81ce-7e3f4324b0e8",
   "metadata": {},
   "outputs": [],
   "source": [
    "ipcc = bd.Method(('IPCC',))\n",
    "ipcc.write([\n",
    "    (co2.key, {'amount': 1, 'uncertainty_type': 3, 'loc': 1, 'scale': 0.05}),\n",
    "])"
   ]
  },
  {
   "cell_type": "markdown",
   "id": "9a324582-5fea-4e60-b1e7-eaf6e20390b4",
   "metadata": {},
   "source": [
    "This is already enough to do an LCA. Let's check what our answer should be. Without uncertainty, to make one bike we need 2.5 kg of carbon fibre, and carbon fibre produces 26.6 kg CO<sub>2</sub> per kg of carbon fibre, so we are looking for around 60 kg CO<sub>2</sub>-eq, or more precisely we need 26.6x2.5= 66.5 kg CO<sub>2</sub>-eq."
   ]
  },
  {
   "cell_type": "markdown",
   "id": "22a9314b-76d6-464d-9638-40727e7a2713",
   "metadata": {},
   "source": [
    "Let's load the calculation module `bw2calc` to run the LCA!lca = bc.LCA(demand={bike: 1}, method=('IPCC',))\n",
    "lca.lci()\n",
    "lca.lcia()\n",
    "lca.score"
   ]
  },
  {
   "cell_type": "code",
   "execution_count": 15,
   "id": "a00ba5d6-0bee-4299-9ece-8cd783032faf",
   "metadata": {},
   "outputs": [],
   "source": [
    "import bw2calc as bc"
   ]
  },
  {
   "cell_type": "code",
   "execution_count": 16,
   "id": "6d4ec975-ee06-4291-996c-49d1e7c387a8",
   "metadata": {},
   "outputs": [
    {
     "data": {
      "text/plain": [
       "66.50000095367433"
      ]
     },
     "execution_count": 16,
     "metadata": {},
     "output_type": "execute_result"
    }
   ],
   "source": [
    "lca = bc.LCA(demand={bike: 1}, method=('IPCC',))\n",
    "lca.lci()\n",
    "lca.lcia()\n",
    "lca.score"
   ]
  },
  {
   "cell_type": "markdown",
   "id": "4a842141-ed53-4c44-b7c9-f0a22f00d634",
   "metadata": {},
   "source": [
    "Nice! Exactly as expected :)"
   ]
  },
  {
   "cell_type": "code",
   "execution_count": 18,
   "id": "2bb5a5bd-b4f9-492a-b2bd-2c9f692bd16f",
   "metadata": {},
   "outputs": [
    {
     "name": "stdout",
     "output_type": "stream",
     "text": [
      "65.3753741036326\n",
      "67.3391917553362\n",
      "64.06236464961928\n",
      "68.3204482393596\n",
      "68.05989063729588\n",
      "68.37486525408302\n",
      "60.933960479066506\n",
      "71.90003562725882\n",
      "64.96023768783259\n",
      "62.96931076983532\n"
     ]
    }
   ],
   "source": [
    "lca = bc.LCA(demand={bike: 1}, method=('IPCC',), use_distributions=True)\n",
    "lca.lci()\n",
    "lca.lcia()\n",
    "\n",
    "for _ in range(10):\n",
    "    next(lca)\n",
    "    print(lca.score)"
   ]
  },
  {
   "cell_type": "markdown",
   "id": "030cebef-2c7a-48ae-af2c-9fc72b5467a5",
   "metadata": {},
   "source": [
    "To use uncertainty, we tell the `import pandas as pd\n",
    "` object to use the probability distributions:"
   ]
  },
  {
   "cell_type": "code",
   "execution_count": 19,
   "id": "4268205a-d743-413a-9221-902701460c91",
   "metadata": {},
   "outputs": [],
   "source": [
    "import pandas as pd"
   ]
  },
  {
   "cell_type": "code",
   "execution_count": 20,
   "id": "96a22823-dd13-4698-b7ab-c66383a40b0f",
   "metadata": {},
   "outputs": [],
   "source": [
    "df_2 = pd.DataFrame([\n",
    "    {\n",
    "        'score': lca.score, \n",
    "        'inv': lca.inventory.sum(), \n",
    "        'char': lca.characterization_matrix.sum()\n",
    "    } for _, _ in zip(lca, range(100))\n",
    "])"
   ]
  },
  {
   "cell_type": "code",
   "execution_count": 21,
   "id": "b85620d1-b8f7-41b7-ae87-e84f02fd68d7",
   "metadata": {},
   "outputs": [
    {
     "data": {
      "text/plain": [
       "array([[<AxesSubplot:title={'center':'score'}>]], dtype=object)"
      ]
     },
     "execution_count": 21,
     "metadata": {},
     "output_type": "execute_result"
    },
    {
     "data": {
      "image/png": "[encoded data removed]",
      "text/plain": [
       "<Figure size 432x288 with 1 Axes>"
      ]
     },
     "metadata": {
      "needs_background": "light"
     },
     "output_type": "display_data"
    }
   ],
   "source": [
    "df_2.hist('score')"
   ]
  },
  {
   "cell_type": "markdown",
   "id": "9f7258a5-f944-45f6-9fcb-92c985a740e9",
   "metadata": {},
   "source": [
    "In addition to storing and using nodes and edges, our graph database can be searched in different ways. Let's show this with a larger database, more specifically with the [US Environmentally-Extended Input-Output (USEEIO)](https://www.epa.gov/land-research/us-environmentally-extended-input-output-useeio-technical-content).\n",
    "\n",
    "We can use a shortcut to install some data:"
   ]
  },
  {
   "cell_type": "code",
   "execution_count": 22,
   "id": "e0cae8f4-ffd7-4597-915c-8fea5b06ebe8",
   "metadata": {},
   "outputs": [
    {
     "name": "stdout",
     "output_type": "stream",
     "text": [
      "Downloading US EEIO 1.1\n",
      "Unzipping file\n",
      "Importing data\n",
      "Applying strategy: json_ld_allocate_datasets\n",
      "Applying strategy: json_ld_get_normalized_exchange_locations\n",
      "Applying strategy: json_ld_convert_unit_to_reference_unit\n",
      "Applying strategy: json_ld_get_activities_list_from_rawdata\n",
      "Applying strategy: json_ld_add_products_as_activities\n",
      "Applying strategy: json_ld_get_normalized_exchange_units\n",
      "Applying strategy: json_ld_add_activity_unit\n",
      "Applying strategy: json_ld_rename_metadata_fields\n",
      "Applying strategy: json_ld_location_name\n",
      "Applying strategy: json_ld_remove_fields\n",
      "Applying strategy: json_ld_fix_process_type\n",
      "Applying strategy: json_ld_label_exchange_type\n",
      "Applying strategy: json_ld_prepare_exchange_fields_for_linking\n",
      "Applying strategy: add_database_name\n",
      "Applying strategy: link_iterable_by_fields\n",
      "Applying strategy: link_iterable_by_fields\n"
     ]
    },
    {
     "name": "stderr",
     "output_type": "stream",
     "text": [
      "Writing activities to SQLite3 database:\n"
     ]
    },
    {
     "name": "stdout",
     "output_type": "stream",
     "text": [
      "Applying strategy: normalize_units\n",
      "Applied 17 strategies in 0.82 seconds\n",
      "Moved 1873 biosphere flows to `self.data`\n",
      "2649 datasets\n",
      "162926 exchanges\n",
      "0 unlinked exchanges\n",
      "  \n",
      "Not able to determine geocollections for all datasets. This database is not ready for regionalization.\n"
     ]
    },
    {
     "name": "stderr",
     "output_type": "stream",
     "text": [
      "0% [##############################] 100% | ETA: 00:00:00\n",
      "Total time elapsed: 00:00:06\n"
     ]
    },
    {
     "name": "stdout",
     "output_type": "stream",
     "text": [
      "Title: Writing activities to SQLite3 database:\n",
      "  Started: 08/09/2022 15:59:09\n",
      "  Finished: 08/09/2022 15:59:16\n",
      "  Total time elapsed: 00:00:06\n",
      "  CPU %: 2.10\n",
      "  Memory %: 2.05\n",
      "Created database: US EEIO 1.1\n",
      "Applying strategy: json_ld_lcia_add_method_metadata\n",
      "Applying strategy: json_ld_lcia_convert_to_list\n",
      "Applying strategy: json_ld_lcia_set_method_metadata\n",
      "Applying strategy: json_ld_lcia_reformat_cfs_as_exchanges\n",
      "Applying strategy: normalize_units\n",
      "Applied 5 strategies in 0.01 seconds\n",
      "19 methods\n",
      "4511 cfs\n",
      "0 unlinked cfs\n",
      "Wrote 19 LCIA methods with 4511 characterization factors\n"
     ]
    }
   ],
   "source": [
    "import bw2io as bi\n",
    "bi.useeio11()"
   ]
  },
  {
   "cell_type": "code",
   "execution_count": 23,
   "id": "3f509397-7e40-46fd-a61f-bb07d6c076ff",
   "metadata": {},
   "outputs": [
    {
     "data": {
      "text/plain": [
       "Databases dictionary with 2 object(s):\n",
       "\tUS EEIO 1.1\n",
       "\tbike"
      ]
     },
     "execution_count": 23,
     "metadata": {},
     "output_type": "execute_result"
    }
   ],
   "source": [
    "bd.databases"
   ]
  },
  {
   "cell_type": "markdown",
   "id": "4b0a2d6d-bfc5-4024-8f06-2ff2c9bbf449",
   "metadata": {},
   "source": [
    "Now we can see out bike together with a larger database."
   ]
  },
  {
   "cell_type": "code",
   "execution_count": 24,
   "id": "4e5b9ccd-d1c3-47a0-9af9-60b3417e0ef4",
   "metadata": {},
   "outputs": [
    {
     "data": {
      "text/plain": [
       "'US EEIO 1.1'"
      ]
     },
     "execution_count": 24,
     "metadata": {},
     "output_type": "execute_result"
    }
   ],
   "source": [
    "db = bd.Database(\"US EEIO 1.1\")\n",
    "db.name"
   ]
  },
  {
   "cell_type": "markdown",
   "id": "db33bce0-4b93-4f86-94b4-9c9e89b2be2e",
   "metadata": {},
   "source": [
    "This database has processes **and** products. What would this mean for drawing a graph?"
   ]
  },
  {
   "cell_type": "code",
   "execution_count": 25,
   "id": "067b2480-06b0-4156-abf5-66c5c89c669f",
   "metadata": {},
   "outputs": [
    {
     "data": {
      "text/plain": [
       "{'emission', 'process', 'product'}"
      ]
     },
     "execution_count": 25,
     "metadata": {},
     "output_type": "execute_result"
    }
   ],
   "source": [
    "{node['type'] for node in db}"
   ]
  },
  {
   "cell_type": "markdown",
   "id": "27eda69b-6e7c-4466-b773-abc3fd0a6807",
   "metadata": {},
   "source": [
    "We can search with the `search` function and play with it. Here we select the first entry when searching for the word `()'amusement')[0]`, and alocate it to the variable `fun`. Then we change the name from `'Amusement parks and arcades'` to `'fun'`. We then save to save changes."
   ]
  },
  {
   "cell_type": "code",
   "execution_count": 62,
   "id": "b976e93e-69d3-4bcf-99fe-7f661e56f8d7",
   "metadata": {},
   "outputs": [],
   "source": [
    "fun = db.search('amusement')[0]\n",
    "fun['name'] = 'fun'              # You can change the name of the activity\n",
    "fun.save()                       # This one I saves it into the database"
   ]
  },
  {
   "cell_type": "code",
   "execution_count": 63,
   "id": "bf2eeccc-be24-41e2-ab34-c0066c6b09a6",
   "metadata": {},
   "outputs": [
    {
     "data": {
      "text/plain": [
       "['fun' (, United States, ('71: Arts, Entertainment, and Recreation', '7131: Amusement Parks and Arcades')),\n",
       " 'Golf courses, marinas, ski resorts, fitness and other rec centers and industries' (, United States, ('71: Arts, Entertainment, and Recreation', '7139: Other Amusement and Recreation Industries'))]"
      ]
     },
     "execution_count": 63,
     "metadata": {},
     "output_type": "execute_result"
    }
   ],
   "source": [
    "db.search('amusement')"
   ]
  },
  {
   "cell_type": "markdown",
   "id": "92164fd9-3bcb-44da-b8fc-1f8f29def7b0",
   "metadata": {},
   "source": [
    "Ok, let's change it back!"
   ]
  },
  {
   "cell_type": "code",
   "execution_count": 64,
   "id": "69a3a181-aa4e-40a1-b89e-8683c801f185",
   "metadata": {},
   "outputs": [],
   "source": [
    "fun['name'] = 'Amusement parks and arcades'              # You can change the name of the activity\n",
    "fun.save()"
   ]
  },
  {
   "cell_type": "code",
   "execution_count": 65,
   "id": "6cdfef53-0210-4295-a07a-bf9de2267a68",
   "metadata": {},
   "outputs": [
    {
     "data": {
      "text/plain": [
       "['Amusement parks and arcades' (, United States, ('71: Arts, Entertainment, and Recreation', '7131: Amusement Parks and Arcades')),\n",
       " 'Golf courses, marinas, ski resorts, fitness and other rec centers and industries' (, United States, ('71: Arts, Entertainment, and Recreation', '7139: Other Amusement and Recreation Industries'))]"
      ]
     },
     "execution_count": 65,
     "metadata": {},
     "output_type": "execute_result"
    }
   ],
   "source": [
    "db.search('amusement') # Isn't it fun"
   ]
  },
  {
   "cell_type": "markdown",
   "id": "b71ec894-208a-4d2e-a36c-ba2d9edbda59",
   "metadata": {},
   "source": [
    "We can also list all the nodes in the database. Go ahead and play around with other node types such as 'emission', 'process' and 'product'."
   ]
  },
  {
   "cell_type": "code",
   "execution_count": 119,
   "id": "43098f15-bc72-4223-bd6c-4ecf248a7d1b",
   "metadata": {},
   "outputs": [],
   "source": [
    "{node['name'] for node in db if node['type'] == 'product'}; # This is a very long list, if you want to see the result, remove the ';'."
   ]
  },
  {
   "cell_type": "code",
   "execution_count": 120,
   "id": "9d128541-9393-4878-93aa-6cad2b92f1a0",
   "metadata": {},
   "outputs": [
    {
     "data": {
      "text/plain": [
       "0.673523568719523"
      ]
     },
     "execution_count": 120,
     "metadata": {},
     "output_type": "execute_result"
    }
   ],
   "source": [
    "sum([o['amount'] for o in edge.output.technosphere()])"
   ]
  },
  {
   "cell_type": "markdown",
   "id": "4d16af90-3d29-45fb-acc6-bd1fcb5957b6",
   "metadata": {},
   "source": [
    "### Interacting with the graph"
   ]
  },
  {
   "cell_type": "code",
   "execution_count": 35,
   "id": "ff7170d7-a80e-49c8-b0a2-99114f2f5c7a",
   "metadata": {},
   "outputs": [],
   "source": [
    "moo = db.get(name='Cattle ranches and feedlots', type='product')"
   ]
  },
  {
   "cell_type": "code",
   "execution_count": 72,
   "id": "21d443dc-b1dc-4fc7-881d-c06dbf05a884",
   "metadata": {},
   "outputs": [
    {
     "data": {
      "text/plain": [
       "True"
      ]
     },
     "execution_count": 72,
     "metadata": {},
     "output_type": "execute_result"
    }
   ],
   "source": [
    "type(moo) == bd.Node"
   ]
  },
  {
   "cell_type": "code",
   "execution_count": 74,
   "id": "fd4f1347-9d8b-4bde-afe1-b71d294afb24",
   "metadata": {},
   "outputs": [
    {
     "data": {
      "text/plain": [
       "('11: Agriculture, Forestry, Fishing and Hunting',\n",
       " '1121: Cattle Ranching and Farming')"
      ]
     },
     "execution_count": 74,
     "metadata": {},
     "output_type": "execute_result"
    }
   ],
   "source": [
    "moo['categories']"
   ]
  },
  {
   "cell_type": "code",
   "execution_count": 75,
   "id": "ecd8bda4-408c-4186-9be3-8ff3be2660a4",
   "metadata": {},
   "outputs": [
    {
     "data": {
      "text/plain": [
       "'United States'"
      ]
     },
     "execution_count": 75,
     "metadata": {},
     "output_type": "execute_result"
    }
   ],
   "source": [
    "moo['location']"
   ]
  },
  {
   "cell_type": "code",
   "execution_count": 76,
   "id": "b1aa412d-3862-423c-a825-9f756fe9909a",
   "metadata": {},
   "outputs": [
    {
     "data": {
      "text/plain": [
       "''"
      ]
     },
     "execution_count": 76,
     "metadata": {},
     "output_type": "execute_result"
    }
   ],
   "source": [
    "moo['unit']"
   ]
  },
  {
   "cell_type": "markdown",
   "id": "5a24dcc3-1faf-4fba-8ead-5cab1a6e0e06",
   "metadata": {},
   "source": [
    "Here we can see the upstream edges or exchanges:"
   ]
  },
  {
   "cell_type": "code",
   "execution_count": 77,
   "id": "cb396052-af88-4c8e-bbca-fc8c9239f482",
   "metadata": {},
   "outputs": [
    {
     "name": "stdout",
     "output_type": "stream",
     "text": [
      "Exchange: 0.0010629416665921038  'Cattle ranches and feedlots' (, United States, ('11: Agriculture, Forestry, Fishing and Hunting', '1121: Cattle Ranching and Farming')) to 'Frozen food; at manufacturer' (USD, United States, None)>\n",
      "Exchange: 0.03625853914871256  'Cattle ranches and feedlots' (, United States, ('11: Agriculture, Forestry, Fishing and Hunting', '1121: Cattle Ranching and Farming')) to 'Dairies' (USD, United States, None)>\n",
      "Exchange: 1.2188128228182347e-07  'Cattle ranches and feedlots' (, United States, ('11: Agriculture, Forestry, Fishing and Hunting', '1121: Cattle Ranching and Farming')) to 'Wild-caught fish and game; at place of capture' (USD, United States, None)>\n",
      "Exchange: 3.6432904275780435e-05  'Cattle ranches and feedlots' (, United States, ('11: Agriculture, Forestry, Fishing and Hunting', '1121: Cattle Ranching and Farming')) to 'Cheese; at manufacturer' (USD, United States, None)>\n",
      "Exchange: 0.00010253299559899245  'Cattle ranches and feedlots' (, United States, ('11: Agriculture, Forestry, Fishing and Hunting', '1121: Cattle Ranching and Farming')) to 'Timber and raw forest products; at forest' (USD, United States, None)>\n",
      "Exchange: 7.281092594406535e-05  'Cattle ranches and feedlots' (, United States, ('11: Agriculture, Forestry, Fishing and Hunting', '1121: Cattle Ranching and Farming')) to 'Clothing; at manufacturer' (USD, United States, None)>\n",
      "Exchange: 0.00011823548548865923  'Cattle ranches and feedlots' (, United States, ('11: Agriculture, Forestry, Fishing and Hunting', '1121: Cattle Ranching and Farming')) to 'Scientific research and development' (USD, United States, None)>\n",
      "Exchange: 0.00012607198912986553  'Cattle ranches and feedlots' (, United States, ('11: Agriculture, Forestry, Fishing and Hunting', '1121: Cattle Ranching and Farming')) to 'Dry, condensed, and evaporated dairy; at manufacturer' (USD, United States, None)>\n",
      "Exchange: 0.00014348371963325402  'Cattle ranches and feedlots' (, United States, ('11: Agriculture, Forestry, Fishing and Hunting', '1121: Cattle Ranching and Farming')) to 'Bread and other baked goods; at manufacturer' (USD, United States, None)>\n",
      "Exchange: 0.0012602100350058345  'Cattle ranches and feedlots' (, United States, ('11: Agriculture, Forestry, Fishing and Hunting', '1121: Cattle Ranching and Farming')) to 'Fresh soybeans, canola, flaxseeds, and other oilseeds; at farm' (USD, United States, None)>\n",
      "Exchange: 0.0008723043372910104  'Cattle ranches and feedlots' (, United States, ('11: Agriculture, Forestry, Fishing and Hunting', '1121: Cattle Ranching and Farming')) to 'Tobacco, cotton, sugarcane, peanuts, sugar beets, herbs and spices, and other crops; at farm' (USD, United States, None)>\n",
      "Exchange: 3.739309892660946e-05  'Cattle ranches and feedlots' (, United States, ('11: Agriculture, Forestry, Fishing and Hunting', '1121: Cattle Ranching and Farming')) to 'All other foods; at manufacturer' (USD, United States, None)>\n",
      "Exchange: 0.001165995336018656  'Cattle ranches and feedlots' (, United States, ('11: Agriculture, Forestry, Fishing and Hunting', '1121: Cattle Ranching and Farming')) to 'Fresh fruits and tree nuts; at farm' (USD, United States, None)>\n",
      "Exchange: 0.0005330145405339966  'Cattle ranches and feedlots' (, United States, ('11: Agriculture, Forestry, Fishing and Hunting', '1121: Cattle Ranching and Farming')) to 'Greenhouse crops, mushrooms, nurseries, and flowers; at farm' (USD, United States, None)>\n",
      "Exchange: 4.449775568564922e-07  'Cattle ranches and feedlots' (, United States, ('11: Agriculture, Forestry, Fishing and Hunting', '1121: Cattle Ranching and Farming')) to 'Veneer, plywood, and engineered wood; at manufacturer' (USD, United States, None)>\n",
      "Exchange: 0.007522670095290338  'Cattle ranches and feedlots' (, United States, ('11: Agriculture, Forestry, Fishing and Hunting', '1121: Cattle Ranching and Farming')) to 'Packaged poultry; at manufacturer' (USD, United States, None)>\n",
      "Exchange: 0.00032059845044082283  'Cattle ranches and feedlots' (, United States, ('11: Agriculture, Forestry, Fishing and Hunting', '1121: Cattle Ranching and Farming')) to 'Fresh vegetables, melons, and potatoes; at farm' (USD, United States, None)>\n",
      "Exchange: 0.0005623757330810044  'Cattle ranches and feedlots' (, United States, ('11: Agriculture, Forestry, Fishing and Hunting', '1121: Cattle Ranching and Farming')) to 'Flours and malts; at manufacturer' (USD, United States, None)>\n",
      "Exchange: 0.006807340373205759  'Cattle ranches and feedlots' (, United States, ('11: Agriculture, Forestry, Fishing and Hunting', '1121: Cattle Ranching and Farming')) to 'Leather; at manufacturer' (USD, United States, None)>\n",
      "Exchange: 0.00016962055566280062  'Cattle ranches and feedlots' (, United States, ('11: Agriculture, Forestry, Fishing and Hunting', '1121: Cattle Ranching and Farming')) to 'Refined vegetable, olive, and seed oils; at manufacturer' (USD, United States, None)>\n",
      "Exchange: 0.014317589330747163  'Cattle ranches and feedlots' (, United States, ('11: Agriculture, Forestry, Fishing and Hunting', '1121: Cattle Ranching and Farming')) to 'Animal farms and aquaculture ponds (except cattle and poultry)' (USD, United States, None)>\n",
      "Exchange: 0.007479841665581819  'Cattle ranches and feedlots' (, United States, ('11: Agriculture, Forestry, Fishing and Hunting', '1121: Cattle Ranching and Farming')) to 'Agriculture and forestry support' (USD, United States, None)>\n",
      "Exchange: 0.00522692044266609  'Cattle ranches and feedlots' (, United States, ('11: Agriculture, Forestry, Fishing and Hunting', '1121: Cattle Ranching and Farming')) to 'Fresh wheat, corn, rice, and other grains; at farm' (USD, United States, None)>\n",
      "Exchange: 7.047188910264685e-05  'Cattle ranches and feedlots' (, United States, ('11: Agriculture, Forestry, Fishing and Hunting', '1121: Cattle Ranching and Farming')) to 'Cookies, crackers, pastas, and tortillas; at manufacturer' (USD, United States, None)>\n",
      "Exchange: 0.3588541306121231  'Cattle ranches and feedlots' (, United States, ('11: Agriculture, Forestry, Fishing and Hunting', '1121: Cattle Ranching and Farming')) to 'Packaged meat (except poultry); at manufacturer' (USD, United States, None)>\n",
      "Exchange: 0.0032309607440827353  'Cattle ranches and feedlots' (, United States, ('11: Agriculture, Forestry, Fishing and Hunting', '1121: Cattle Ranching and Farming')) to 'Fruit and vegetable preservation; at manufacturer' (USD, United States, None)>\n",
      "Exchange: 2.2353082969498613e-05  'Cattle ranches and feedlots' (, United States, ('11: Agriculture, Forestry, Fishing and Hunting', '1121: Cattle Ranching and Farming')) to 'Cardboard containers; at manufacturer' (USD, United States, None)>\n",
      "Exchange: 0.0014703679189363224  'Cattle ranches and feedlots' (, United States, ('11: Agriculture, Forestry, Fishing and Hunting', '1121: Cattle Ranching and Farming')) to 'Golf courses, marinas, ski resorts, fitness and other rec centers and industries' (USD, United States, None)>\n",
      "Exchange: 0.007089656818505352  'Cattle ranches and feedlots' (, United States, ('11: Agriculture, Forestry, Fishing and Hunting', '1121: Cattle Ranching and Farming')) to 'Seasonings and dressings; at manufacturer' (USD, United States, None)>\n",
      "Exchange: 0.00031899375008873  'Cattle ranches and feedlots' (, United States, ('11: Agriculture, Forestry, Fishing and Hunting', '1121: Cattle Ranching and Farming')) to 'Other animal food; at manufacturer' (USD, United States, None)>\n",
      "Exchange: 9.514001041783114e-06  'Cattle ranches and feedlots' (, United States, ('11: Agriculture, Forestry, Fishing and Hunting', '1121: Cattle Ranching and Farming')) to 'Company and enterprise management' (USD, United States, None)>\n",
      "Exchange: 0.00014312798244754335  'Cattle ranches and feedlots' (, United States, ('11: Agriculture, Forestry, Fishing and Hunting', '1121: Cattle Ranching and Farming')) to 'Seafood; at manufacturer' (USD, United States, None)>\n",
      "Exchange: 0.2861296731081813  'Cattle ranches and feedlots' (, United States, ('11: Agriculture, Forestry, Fishing and Hunting', '1121: Cattle Ranching and Farming')) to 'Cattle ranches and feedlots' (USD, United States, None)>\n"
     ]
    }
   ],
   "source": [
    "for edge in moo.upstream():\n",
    "    print(edge)"
   ]
  },
  {
   "cell_type": "code",
   "execution_count": 84,
   "id": "92948f85-3d50-4706-be9a-f2ce433da048",
   "metadata": {},
   "outputs": [
    {
     "data": {
      "text/plain": [
       "0.673523568719523"
      ]
     },
     "execution_count": 84,
     "metadata": {},
     "output_type": "execute_result"
    }
   ],
   "source": [
    "sum([o['amount'] for o in edge.output.technosphere()])"
   ]
  },
  {
   "cell_type": "code",
   "execution_count": 141,
   "id": "afd65489-a40f-46b0-8b3f-943f5de58343",
   "metadata": {},
   "outputs": [
    {
     "name": "stdout",
     "output_type": "stream",
     "text": [
      "Cutlery and handtools; at manufacturer :  0.0022033592197941124 USD\n",
      "Insurance carriers :  0.0012281018602131118 USD\n",
      "Commercial equipment rental :  0.0003612064294744447 USD\n",
      "Business support :  1.8060321473722232e-05 USD\n",
      "Plastic pipe, fittings, and sausage casings; at manufacturer :  0.0018240924688459454 USD\n",
      "Nondepository credit intermediation and related activities :  0.00034314610800072236 USD\n",
      "Wireless telecommunications :  9.030160736861116e-05 USD\n",
      "Legal services :  0.0014267653964240565 USD\n",
      "Vehicle rental and leasing :  0.0004515080368430559 USD\n",
      "Natural gas; at consumer :  0.004894347119378725 USD\n",
      "Gaskets, seals, musical instruments, fasteners, brooms, brushes, mop and other misc. goods; at manufacturer :  0.0020408163265306124 USD\n",
      "Golf courses, marinas, ski resorts, fitness and other rec centers and industries :  1.8060321473722232e-05 USD\n",
      "Other animal food; at manufacturer :  0.052447173559689364 USD\n",
      "Buildings and dwellings services :  0.000704352537475167 USD\n",
      "Civic, social, professional, and similar organizations :  0.00018060321473722235 USD\n",
      "Vegetable oils and by-products; at manufacturer :  0.0019685750406357233 USD\n",
      "Vaccines and other biological medical products; at manufacturer :  0.004460899404009391 USD\n",
      "Insurance agencies and brokerages :  9.030160736861116e-05 USD\n",
      "Investment advice, portfolio management, and other financial advising services :  0.00010836192884233341 USD\n",
      "Other petroleum and coal products; at manufacturer :  0.0001625428932635001 USD\n",
      "Tobacco, cotton, sugarcane, peanuts, sugar beets, herbs and spices, and other crops; at farm :  0.021834928661730174 USD\n",
      "Computer systems design :  0.00014448257178977786 USD\n",
      "Cattle ranches and feedlots :  0.2861296731081813 USD\n",
      "Other textiles; at manufacturer :  0.00019866353621094456 USD\n",
      "Monetary authorities and depository credit intermediation :  0.010366624525916562 USD\n",
      "Securities and commodities brokerage and exchanges :  0.005670940942748781 USD\n",
      "Secondary steel products; at manufacturer :  0.00014448257178977786 USD\n",
      "Vehicle electrical and electronic equipment; at manufacturer :  0.0006140509301065559 USD\n",
      "Light bulbs; at manufacturer :  1.8060321473722232e-05 USD\n",
      "Veterinarians :  0.0006682318945277224 USD\n",
      "Electricity; at consumer :  0.0027451688640057798 USD\n",
      "Metal structural products; at manufacturer :  0.0003973270724218891 USD\n",
      "Other computer related services, including facilities management :  0.00028896514357955566 USD\n",
      "Pharmaceutical products (pills, powders, solutions, etc.); at manufacturer :  0.002853530792848113 USD\n",
      "Pipeline transport :  0.0003612064294744447 USD\n",
      "Other real estate :  0.0013725844320028895 USD\n",
      "Air transport :  0.0006501715730540004 USD\n",
      "Metal pipe fittings, ball and roller bearings, industrial patterns, metal bath fixtures, other misc. fabricated metals; at manufacturer :  7.224128589488893e-05 USD\n",
      "Wholesale trade :  0.05911143218349287 USD\n",
      "Books, newspapers, magazines, and other print media; at manufacturer :  0.00010836192884233341 USD\n",
      "Limited-service restaurants :  0.00012642225031605562 USD\n",
      "Material handling equipment; at manufacturer :  0.0001625428932635001 USD\n",
      "Agriculture and forestry support :  0.024309192703630127 USD\n",
      "Machine shops; at manufacturer :  1.8060321473722232e-05 USD\n",
      "Colleges, universities, junior colleges, and professional schools :  0.0003792667509481669 USD\n",
      "Metal hinges, keys, lock, and other hardware; at manufacturer :  3.6120642947444464e-05 USD\n",
      "Animal farms and aquaculture ponds (except cattle and poultry) :  0.005544518692432725 USD\n",
      "Rail transport :  0.004063572331587502 USD\n",
      "Warehousing :  0.0010655589669496116 USD\n",
      "Other retail :  0.00010836192884233341 USD\n",
      "Fresh wheat, corn, rice, and other grains; at farm :  0.04683041358136175 USD\n",
      "Vehicles and parts sales :  0.00019866353621094456 USD\n",
      "Dimensional stone; at mine :  0.0009933176810547227 USD\n",
      "General merchandise stores :  7.224128589488893e-05 USD\n",
      "Other basic inorganic chemicals; at manufacturer :  3.6120642947444464e-05 USD\n",
      "Magazines and journals; at publisher :  1.8060321473722232e-05 USD\n",
      "Software :  3.6120642947444464e-05 USD\n",
      "Sports :  3.6120642947444464e-05 USD\n",
      "Farm machinery and equipment; at manufacturer :  0.001246162181686834 USD\n",
      "Truck transport :  0.03203901029438324 USD\n",
      "Telecommunications :  3.6120642947444464e-05 USD\n",
      "Noncomparable imports :  0.002853530792848113 USD\n",
      "Satellite, telecommunications resellers, and all other telecommunications :  1.8060321473722232e-05 USD\n",
      "Veneer, plywood, and engineered wood; at manufacturer :  7.224128589488893e-05 USD\n",
      "Water transport (boats, ships, ferries) :  0.004334477153693336 USD\n",
      "Springs and wires; at manufacturer :  0.019541267834567454 USD\n",
      "Accounting, tax preparation, bookkeeping, and payroll :  0.0008849557522123895 USD\n",
      "Performances :  1.8060321473722232e-05 USD\n",
      "Gasoline, fuels, and by-products of petroleum refining; at manufacturer :  0.05723315875022576 USD\n",
      "All other food and drinking places :  3.6120642947444464e-05 USD\n",
      "Welding and Soldering Equipment, Scales and Balances, and other general purpose machinery; at manufacturer :  0.0001625428932635001 USD\n",
      "Pesticides; at manufacturer :  0.002239479862741557 USD\n"
     ]
    }
   ],
   "source": [
    "for o in edge.output.technosphere():\n",
    "    print(o['name'],': ', o['amount'], o['unit'])"
   ]
  },
  {
   "cell_type": "markdown",
   "id": "9e5248eb-69aa-48cc-b5c8-384356ee4300",
   "metadata": {},
   "source": [
    "### Brightway capabilities"
   ]
  },
  {
   "cell_type": "markdown",
   "id": "8aa86ebe-155c-443b-96e4-9a0b6affcc8a",
   "metadata": {},
   "source": [
    "Let's show a little bit of what Brightway can do. We can compare the correlation of LCA scores across a variety of categories.\n",
    "\n",
    "There is an atuomatic way to do this in Brightway, but we can also program it manually to see how it works.\n",
    "\n",
    "Stop for a bit and think about what one would need to calculate LCA scores for 380 products and ~10 impact categories."
   ]
  },
  {
   "cell_type": "code",
   "execution_count": 146,
   "id": "81b5e4f5-4cff-4572-a2a9-79614740f54b",
   "metadata": {},
   "outputs": [],
   "source": [
    "products_in_order = [obj for obj in db if obj['type'] == 'product']\n",
    "categories_in_order = [method for method in bd.methods if method[0] == 'Impact Potential']"
   ]
  },
  {
   "cell_type": "code",
   "execution_count": 148,
   "id": "78507c1f-16c5-4193-9a13-a60c5ab46085",
   "metadata": {},
   "outputs": [
    {
     "data": {
      "text/plain": [
       "388"
      ]
     },
     "execution_count": 148,
     "metadata": {},
     "output_type": "execute_result"
    }
   ],
   "source": [
    "len(products_in_order)"
   ]
  },
  {
   "cell_type": "code",
   "execution_count": 149,
   "id": "821443b0-3847-45e7-83c5-c45e6f7c4b4c",
   "metadata": {},
   "outputs": [
    {
     "data": {
      "text/plain": [
       "10"
      ]
     },
     "execution_count": 149,
     "metadata": {},
     "output_type": "execute_result"
    }
   ],
   "source": [
    "len(categories_in_order)"
   ]
  },
  {
   "cell_type": "code",
   "execution_count": 191,
   "id": "b46e22ac-3b55-40f9-9b92-686a0301c334",
   "metadata": {},
   "outputs": [],
   "source": [
    "import numpy as np\n",
    "\n",
    "results = np.zeros((len(products_in_order), len(categories_in_order))) # Create a 388 x 10 matrix of zeroes where the results will be stored\n",
    "\n",
    "def get_lcia_scores(products, categories, results):\n",
    "    lca = bc.LCA({products[0]: 1}, categories[0])  # First argument is the functional unit, the second is the impact category methods, starts calculating for the first product of each list\n",
    "    lca.lci() # Runs the lci and lcia\n",
    "    lca.lcia()\n",
    "    \n",
    "    method_matrices = [lca.characterization_matrix.copy()]  # Generates characterization matrices\n",
    "    \n",
    "    for other_method in categories[1:]:                     # Now this is the interesting part, here it loops over all categories and all methods\n",
    "        lca.switch_method(other_method)\n",
    "        method_matrices.append(lca.characterization_matrix.copy())\n",
    "    \n",
    "    for i, product in enumerate(products):\n",
    "        lca.redo_lci({product.id: 1})                                        # Here it re-does the lci \n",
    "        for j, characterization_matrix in enumerate(method_matrices):\n",
    "            results[i, j] = (characterization_matrix * lca.inventory).sum()\n",
    "    \n",
    "    return results"
   ]
  },
  {
   "cell_type": "markdown",
   "id": "c05912ca-d895-4834-b667-133627db0118",
   "metadata": {},
   "source": [
    "Let's see how long it takes to run this beast:"
   ]
  },
  {
   "cell_type": "code",
   "execution_count": 192,
   "id": "c486e86e-07da-4473-b0d5-99fc87ba47ce",
   "metadata": {},
   "outputs": [
    {
     "name": "stdout",
     "output_type": "stream",
     "text": [
      "1.444856882095337\n"
     ]
    }
   ],
   "source": [
    "from time import time\n",
    "\n",
    "start = time()\n",
    "results = get_lcia_scores(products_in_order, categories_in_order, results)\n",
    "print(time() - start)"
   ]
  },
  {
   "cell_type": "markdown",
   "id": "fdaa1c25-8fdd-4ebd-9ac5-4074bd8e9e36",
   "metadata": {},
   "source": [
    "That was nothing! Ok, let's make some sense of what we have done:"
   ]
  },
  {
   "cell_type": "code",
   "execution_count": 193,
   "id": "16b33dec-a3a2-48d9-9e06-c4fdc0604d37",
   "metadata": {},
   "outputs": [],
   "source": [
    "from scipy import stats\n",
    "\n",
    "def create_correlation_matrix(scores_array):\n",
    "    num_methods = scores_array.shape[1]\n",
    "    correlations = np.zeros((num_methods, num_methods))\n",
    "\n",
    "    for row in range(num_methods):\n",
    "        for col in range(num_methods):\n",
    "            if col <= row:\n",
    "                continue                               # Only need to compute correlation once\n",
    "            dataset_1 = scores_array[:, row]\n",
    "            dataset_2 = scores_array[:, col]\n",
    "            mask = (dataset_1 != 0) * (dataset_2 != 0) # Ignore activities that have zero score\n",
    "            corr = stats.kendalltau( # Get tau value, drop p-statistic\n",
    "                dataset_1[mask], \n",
    "                dataset_2[mask]\n",
    "            )[0]\n",
    "            if np.isnan(corr):\n",
    "                correlations[row, col] = 0\n",
    "            else:\n",
    "                correlations[row, col] = corr\n",
    "\n",
    "    correlations = correlations + correlations.T       # Make sorting easier by adding filling in lower left triangle\n",
    "    return correlations"
   ]
  },
  {
   "cell_type": "markdown",
   "id": "d84041e6-22a5-4e0f-ae6a-d3efdcc0bfc9",
   "metadata": {},
   "source": [
    "Let's see how the impact factors correlate."
   ]
  },
  {
   "cell_type": "code",
   "execution_count": 194,
   "id": "2ca4115e-bc2a-4c1f-a660-321a99f2bb19",
   "metadata": {},
   "outputs": [],
   "source": [
    "correlation_matrix = create_correlation_matrix(results)"
   ]
  },
  {
   "cell_type": "code",
   "execution_count": 195,
   "id": "267f1e49-e445-4889-aab7-cdf706d511bb",
   "metadata": {},
   "outputs": [
    {
     "data": {
      "text/plain": [
       "array([[0.        , 0.46021439, 0.69805125, 0.70332214, 0.70652993,\n",
       "        0.57340116, 0.77449397, 0.84711456, 0.73732235, 0.78652562],\n",
       "       [0.46021439, 0.        , 0.51733071, 0.43110154, 0.51132839,\n",
       "        0.53458404, 0.43502076, 0.43932736, 0.46901601, 0.46540923],\n",
       "       [0.69805125, 0.51733071, 0.        , 0.59764886, 0.98091624,\n",
       "        0.56317291, 0.69842808, 0.71377046, 0.88008721, 0.79562339],\n",
       "       [0.70332214, 0.43110154, 0.59764886, 0.        , 0.59912926,\n",
       "        0.53506854, 0.72512432, 0.73895928, 0.60047507, 0.65812972],\n",
       "       [0.70652993, 0.51132839, 0.98091624, 0.59912926, 0.        ,\n",
       "        0.55905469, 0.70416128, 0.71977283, 0.89917097, 0.80517873],\n",
       "       [0.57340116, 0.53458404, 0.56317291, 0.53506854, 0.55905469,\n",
       "        0.        , 0.47951658, 0.54217808, 0.5332149 , 0.48024332],\n",
       "       [0.77449397, 0.43502076, 0.69842808, 0.72512432, 0.70416128,\n",
       "        0.47951658, 0.        , 0.84469208, 0.72090332, 0.82173234],\n",
       "       [0.84711456, 0.43932736, 0.71377046, 0.73895928, 0.71977283,\n",
       "        0.54217808, 0.84469208, 0.        , 0.74211348, 0.82377799],\n",
       "       [0.73732235, 0.46901601, 0.88008721, 0.60047507, 0.89917097,\n",
       "        0.5332149 , 0.72090332, 0.74211348, 0.        , 0.82945736],\n",
       "       [0.78652562, 0.46540923, 0.79562339, 0.65812972, 0.80517873,\n",
       "        0.48024332, 0.82173234, 0.82377799, 0.82945736, 0.        ]])"
      ]
     },
     "execution_count": 195,
     "metadata": {},
     "output_type": "execute_result"
    }
   ],
   "source": [
    "correlation_matrix"
   ]
  },
  {
   "cell_type": "code",
   "execution_count": 196,
   "id": "2008400b-75a6-4c92-ba65-036ba013d3ba",
   "metadata": {},
   "outputs": [],
   "source": [
    "%matplotlib inline"
   ]
  },
  {
   "cell_type": "code",
   "execution_count": 197,
   "id": "f5742af8-f98e-40ec-897f-d8fdd92f1344",
   "metadata": {},
   "outputs": [
    {
     "data": {
      "image/png": "[encoded data removed]",
      "text/plain": [
       "<Figure size 864x864 with 2 Axes>"
      ]
     },
     "metadata": {
      "needs_background": "light"
     },
     "output_type": "display_data"
    }
   ],
   "source": [
    "import matplotlib.pyplot as plt\n",
    "\n",
    "fig = plt.gcf()\n",
    "fig.set_size_inches(12, 12)\n",
    "\n",
    "masked_correlation = np.ma.array(correlation_matrix, mask=correlation_matrix == 0).T\n",
    "plt.pcolor(masked_correlation, cmap=plt.cm.cubehelix_r)\n",
    "plt.colorbar()\n",
    "plt.ylim(None, correlation_matrix.shape[1])\n",
    "plt.xlim(None, correlation_matrix.shape[0])\n",
    "plt.xticks(np.arange(0.5, 10), [obj[1] for obj in categories_in_order])\n",
    "plt.yticks(np.arange(0.5, 10), [obj[1] for obj in categories_in_order])\n",
    "plt.tight_layout()"
   ]
  },
  {
   "cell_type": "code",
   "execution_count": 203,
   "id": "50273128-3c94-454a-ab7b-293b8726100c",
   "metadata": {},
   "outputs": [
    {
     "name": "stdout",
     "output_type": "stream",
     "text": [
      "HRSP Human Health - Respiratory Effects\n",
      "These indicators provide estimates of stress or potential impacts on specific environmental and human health aspects. The indicators in this category applied here are from TRACI 2.1 (Bare 2012). See the dataset 'USEEIO v1.1 - Elementary Flows and Life Cycle Impact Assessment (LCIA) Characterization Factors' for details, DOI: 10.23719/1368541 \n",
      "\n",
      "OZON Ozone Depletion\n",
      "These indicators provide estimates of stress or potential impacts on specific environmental and human health aspects. The indicators in this category applied here are from TRACI 2.1 (Bare 2012). See the dataset 'USEEIO v1.1 - Elementary Flows and Life Cycle Impact Assessment (LCIA) Characterization Factors' for details, DOI: 10.23719/1368541 \n",
      "\n",
      "HNC Human Health Noncancer\n",
      "These indicators provide estimates of stress or potential impacts on specific environmental and human health aspects. The indicators in this category applied here are from TRACI 2.1 (Bare 2012). See the dataset 'USEEIO v1.1 - Elementary Flows and Life Cycle Impact Assessment (LCIA) Characterization Factors' for details, DOI: 10.23719/1368541 \n",
      "\n",
      "EUTR Eutrophication\n",
      "These indicators provide estimates of stress or potential impacts on specific environmental and human health aspects. The indicators in this category applied here are from TRACI 2.1 (Bare 2012). See the dataset 'USEEIO v1.1 - Elementary Flows and Life Cycle Impact Assessment (LCIA) Characterization Factors' for details, DOI: 10.23719/1368541 \n",
      "\n",
      "HTOX Human Health Cancer and Noncancer\n",
      "These indicators provide estimates of stress or potential impacts on specific environmental and human health aspects. The indicators in this category applied here are from TRACI 2.1 (Bare 2012). See the dataset 'USEEIO v1.1 - Elementary Flows and Life Cycle Impact Assessment (LCIA) Characterization Factors' for details, DOI: 10.23719/1368541 \n",
      "\n",
      "ETOX Freshwater Aquatic Ecotoxicity\n",
      "These indicators provide estimates of stress or potential impacts on specific environmental and human health aspects. The indicators in this category applied here are from TRACI 2.1 (Bare 2012). See the dataset 'USEEIO v1.1 - Elementary Flows and Life Cycle Impact Assessment (LCIA) Characterization Factors' for details, DOI: 10.23719/1368541 \n",
      "\n",
      "GCC Global Climate Change\n",
      "These indicators provide estimates of stress or potential impacts on specific environmental and human health aspects. The indicators in this category applied here are from TRACI 2.1 (Bare 2012). See the dataset 'USEEIO v1.1 - Elementary Flows and Life Cycle Impact Assessment (LCIA) Characterization Factors' for details, DOI: 10.23719/1368541 \n",
      "\n",
      "ACID Acid Rain\n",
      "These indicators provide estimates of stress or potential impacts on specific environmental and human health aspects. The indicators in this category applied here are from TRACI 2.1 (Bare 2012). See the dataset 'USEEIO v1.1 - Elementary Flows and Life Cycle Impact Assessment (LCIA) Characterization Factors' for details, DOI: 10.23719/1368541 \n",
      "\n",
      "HC Human Health Cancer\n",
      "These indicators provide estimates of stress or potential impacts on specific environmental and human health aspects. The indicators in this category applied here are from TRACI 2.1 (Bare 2012). See the dataset 'USEEIO v1.1 - Elementary Flows and Life Cycle Impact Assessment (LCIA) Characterization Factors' for details, DOI: 10.23719/1368541 \n",
      "\n",
      "SMOG Smog Formation\n",
      "These indicators provide estimates of stress or potential impacts on specific environmental and human health aspects. The indicators in this category applied here are from TRACI 2.1 (Bare 2012). See the dataset 'USEEIO v1.1 - Elementary Flows and Life Cycle Impact Assessment (LCIA) Characterization Factors' for details, DOI: 10.23719/1368541 \n",
      "\n"
     ]
    }
   ],
   "source": [
    "for category in categories_in_order:\n",
    "    print(category[1], bd.methods[category]['description'], '\\n')"
   ]
  },
  {
   "cell_type": "code",
   "execution_count": null,
   "id": "dd027e4f-f27b-4854-ab5f-77fd715b01ae",
   "metadata": {},
   "outputs": [],
   "source": []
  },
  {
   "cell_type": "code",
   "execution_count": null,
   "id": "fd130610-b029-47b4-8535-8785f238e59d",
   "metadata": {},
   "outputs": [],
   "source": []
  }
 ],
 "metadata": {
  "kernelspec": {
   "display_name": "bw25_rosetta",
   "language": "python",
   "name": "bw25_rosetta"
  },
  "language_info": {
   "codemirror_mode": {
    "name": "ipython",
    "version": 3
   },
   "file_extension": ".py",
   "mimetype": "text/x-python",
   "name": "python",
   "nbconvert_exporter": "python",
   "pygments_lexer": "ipython3",
   "version": "3.9.12"
  }
 },
 "nbformat": 4,
 "nbformat_minor": 5
}

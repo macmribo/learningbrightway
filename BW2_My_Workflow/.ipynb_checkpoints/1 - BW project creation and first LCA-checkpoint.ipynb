{
 "cells": [
  {
   "cell_type": "markdown",
   "id": "ed024ca7-f753-4851-b6a2-0f34ef71ef6b",
   "metadata": {},
   "source": [
    "# Brightway 2 - From Project creation to LCA"
   ]
  },
  {
   "cell_type": "markdown",
   "id": "5e8b8915-42d9-4ff0-8636-3eb420df4458",
   "metadata": {},
   "source": [
    "### 1 Project creation"
   ]
  },
  {
   "cell_type": "markdown",
   "id": "b178caee-fec4-4752-972a-6c357fb2a5a1",
   "metadata": {},
   "source": [
    "Import relevant packages. There are two ways to import Brightway2, `import brightway2 as bw` or, `from brightway2 import *`. The latter allows you to work without the `bw.` caller."
   ]
  },
  {
   "cell_type": "code",
   "execution_count": 29,
   "id": "cefb6b8c-9588-41d7-9c49-d1df71d95e9f",
   "metadata": {},
   "outputs": [],
   "source": [
    "import brightway2 as bw"
   ]
  },
  {
   "cell_type": "code",
   "execution_count": 30,
   "id": "9809d939-2abe-43f1-8f9c-8f0246519e07",
   "metadata": {},
   "outputs": [],
   "source": [
    "import os               # to use \"operating system dependent functionality\"\n",
    "import numpy as np      # \"the fundamental package for scientific computing with Python\"\n",
    "import pandas as pd     # \"high-performance, easy-to-use data structures and data analysis tools\" for Python"
   ]
  },
  {
   "cell_type": "markdown",
   "id": "c46ced81-84c4-470f-96ba-2166236ecd55",
   "metadata": {},
   "source": [
    "Check project directory, current project, list projects and create/set a project folder, respectively:"
   ]
  },
  {
   "cell_type": "code",
   "execution_count": 31,
   "id": "f7a3eae5-d540-4c6d-9f05-d39b9d778eeb",
   "metadata": {},
   "outputs": [
    {
     "data": {
      "text/plain": [
       "'/Users/mmendez/Library/Application Support/Brightway3/MW_1.40541773cf71e8a7e570f696dcd16568'"
      ]
     },
     "execution_count": 31,
     "metadata": {},
     "output_type": "execute_result"
    }
   ],
   "source": [
    "bw.projects.dir"
   ]
  },
  {
   "cell_type": "code",
   "execution_count": 32,
   "id": "be790b8b-a613-49f3-85ac-74d55228b767",
   "metadata": {},
   "outputs": [
    {
     "data": {
      "text/plain": [
       "'MW_1'"
      ]
     },
     "execution_count": 32,
     "metadata": {},
     "output_type": "execute_result"
    }
   ],
   "source": [
    "bw.projects.current"
   ]
  },
  {
   "cell_type": "code",
   "execution_count": 33,
   "id": "20bf11b1-c0b8-46d0-bd81-2f77a732c06b",
   "metadata": {},
   "outputs": [
    {
     "data": {
      "text/plain": [
       "[('1 Supply Chain Graph', 1, 0.000122163),\n",
       " ('1.1_Massimo', 1, 9.4452e-05),\n",
       " ('1_1_Massimo', 0, 8.21e-05),\n",
       " ('1_2_Massimo', 1, 9.4081e-05),\n",
       " ('1_3_Massimo', 2, 0.000101768),\n",
       " ('2_1_Massimo', 1, 9.4079e-05),\n",
       " ('2_2_Massimo', 1, 9.4773e-05),\n",
       " ('BW2 introduction', 3, 0.20796836),\n",
       " ('FGU-1-Supply chain graph', 0, 8.1998e-05),\n",
       " ('FGU-3-Inventory', 0, 8.1998e-05),\n",
       " ('MW_1', 1, 0.158331368),\n",
       " ('Meta-analysis', 3, 0.20796836),\n",
       " ('Tut_1_Activities_Exchanges', 0, 8.1998e-05),\n",
       " ('Tut_1_activities_exchanges', 0, 8.1998e-05),\n",
       " ('Tut_2_Projects', 0, 8.1998e-05),\n",
       " ('Tut_2_the copy', 0, 8.1998e-05),\n",
       " ('Tut_3_Databases', 0, 8.3012e-05),\n",
       " ('Tut_4_RealLCA', 3, 0.210706465),\n",
       " ('Tut_5_Calculation_Setups', 3, 0.210723946),\n",
       " ('Tut_6_Meta-analysis', 3, 0.210706465),\n",
       " ('Tut_7_Uploading_US_LCI', 1, 0.158331355),\n",
       " ('Tut_8_Importing_Excel_File', 1, 0.158331413),\n",
       " ('bw2_seminar_2017', 1, 0.158331382),\n",
       " ('default', 1, 0.135931467),\n",
       " ('excel import', 1, 0.158331372),\n",
       " ('maximikos_StepByStep', 1, 0.158331506)]"
      ]
     },
     "execution_count": 33,
     "metadata": {},
     "output_type": "execute_result"
    }
   ],
   "source": [
    "bw.projects.report()"
   ]
  },
  {
   "cell_type": "code",
   "execution_count": 34,
   "id": "bb47a43b-8bd7-41b8-a725-426667f11869",
   "metadata": {},
   "outputs": [],
   "source": [
    "bw.projects.set_current('MW_1')"
   ]
  },
  {
   "cell_type": "markdown",
   "id": "89f12526-2067-46ce-b21e-77e8cd900333",
   "metadata": {},
   "source": [
    "Setup biosphere and LCIA methods with `bw2setup()`."
   ]
  },
  {
   "cell_type": "code",
   "execution_count": 35,
   "id": "8d9daf06-e737-49a3-94fd-10bb5a1605ac",
   "metadata": {},
   "outputs": [
    {
     "name": "stdout",
     "output_type": "stream",
     "text": [
      "Biosphere database already present!!! No setup is needed\n"
     ]
    }
   ],
   "source": [
    "bw.bw2setup()"
   ]
  },
  {
   "cell_type": "code",
   "execution_count": 36,
   "id": "e3a8d7a9-a14f-4171-b019-c2c4cad2ba57",
   "metadata": {},
   "outputs": [
    {
     "data": {
      "text/plain": [
       "Databases dictionary with 1 object(s):\n",
       "\tbiosphere3"
      ]
     },
     "execution_count": 36,
     "metadata": {},
     "output_type": "execute_result"
    }
   ],
   "source": [
    "bw.databases"
   ]
  },
  {
   "cell_type": "code",
   "execution_count": 37,
   "id": "d8991517-42ef-4482-a579-9898722412b6",
   "metadata": {},
   "outputs": [
    {
     "data": {
      "text/plain": [
       "Brightway2 SQLiteBackend: biosphere3"
      ]
     },
     "execution_count": 37,
     "metadata": {},
     "output_type": "execute_result"
    }
   ],
   "source": [
    "bw.Database('biosphere3')"
   ]
  },
  {
   "cell_type": "markdown",
   "id": "ae954974-8ee9-4da3-b8f2-d978c39dc378",
   "metadata": {},
   "source": [
    "Here you can see all the methods you can call on the bw object:"
   ]
  },
  {
   "cell_type": "code",
   "execution_count": 47,
   "id": "2d7890ae-fc68-4909-913c-38bc85f4a852",
   "metadata": {},
   "outputs": [],
   "source": [
    "dir(bw);"
   ]
  },
  {
   "cell_type": "markdown",
   "id": "55a0b780-12e6-4080-a964-8a62c298faab",
   "metadata": {},
   "source": [
    "Let's assign the database to a variable:"
   ]
  },
  {
   "cell_type": "code",
   "execution_count": 48,
   "id": "ebd8b071-6deb-466f-9c14-3ebd89a3b0cb",
   "metadata": {},
   "outputs": [],
   "source": [
    "my_bio = bw.Database('biosphere3')"
   ]
  },
  {
   "cell_type": "code",
   "execution_count": 49,
   "id": "37342cf0-1d2f-4a61-8ac2-5c3f369e55a2",
   "metadata": {},
   "outputs": [
    {
     "data": {
      "text/plain": [
       "bw2data.backends.peewee.database.SQLiteBackend"
      ]
     },
     "execution_count": 49,
     "metadata": {},
     "output_type": "execute_result"
    }
   ],
   "source": [
    "type(my_bio)"
   ]
  },
  {
   "cell_type": "code",
   "execution_count": 50,
   "id": "13750113-5f61-4488-ade9-27bf02364ff4",
   "metadata": {},
   "outputs": [
    {
     "data": {
      "text/plain": [
       "4427"
      ]
     },
     "execution_count": 50,
     "metadata": {},
     "output_type": "execute_result"
    }
   ],
   "source": [
    "len(my_bio)"
   ]
  },
  {
   "cell_type": "markdown",
   "id": "8a21b802-7cb2-4fe1-8d7a-5ada6dea3623",
   "metadata": {},
   "source": [
    "Let's check its properties and methods:"
   ]
  },
  {
   "cell_type": "code",
   "execution_count": 52,
   "id": "c7c74874-1fd5-44f5-9b0e-73b610a621a4",
   "metadata": {},
   "outputs": [
    {
     "data": {
      "text/plain": [
       "['__class__',\n",
       " '__contains__',\n",
       " '__delattr__',\n",
       " '__dict__',\n",
       " '__dir__',\n",
       " '__doc__',\n",
       " '__eq__',\n",
       " '__format__',\n",
       " '__ge__',\n",
       " '__getattribute__',\n",
       " '__gt__',\n",
       " '__hash__',\n",
       " '__init__',\n",
       " '__init_subclass__',\n",
       " '__iter__',\n",
       " '__le__',\n",
       " '__len__',\n",
       " '__lt__',\n",
       " '__module__',\n",
       " '__ne__',\n",
       " '__new__',\n",
       " '__reduce__',\n",
       " '__reduce_ex__',\n",
       " '__repr__',\n",
       " '__setattr__',\n",
       " '__sizeof__',\n",
       " '__str__',\n",
       " '__subclasshook__',\n",
       " '__weakref__',\n",
       " '_add_indices',\n",
       " '_drop_indices',\n",
       " '_efficient_write_dataset',\n",
       " '_efficient_write_many_data',\n",
       " '_filters',\n",
       " '_get_filters',\n",
       " '_get_metadata',\n",
       " '_get_order_by',\n",
       " '_get_queryset',\n",
       " '_intermediate_dir',\n",
       " '_metadata',\n",
       " '_order_by',\n",
       " '_searchable',\n",
       " '_set_filters',\n",
       " '_set_metadata',\n",
       " '_set_order_by',\n",
       " 'add_mappings',\n",
       " 'as_uncertainty_dict',\n",
       " 'backend',\n",
       " 'backup',\n",
       " 'base_uncertainty_fields',\n",
       " 'copy',\n",
       " 'delete',\n",
       " 'deregister',\n",
       " 'dtype',\n",
       " 'dtype_field_order',\n",
       " 'dtype_fields',\n",
       " 'dtype_fields_geomapping',\n",
       " 'filename',\n",
       " 'filepath_geomapping',\n",
       " 'filepath_intermediate',\n",
       " 'filepath_processed',\n",
       " 'filters',\n",
       " 'find_dependents',\n",
       " 'find_graph_dependents',\n",
       " 'get',\n",
       " 'graph_technosphere',\n",
       " 'load',\n",
       " 'make_searchable',\n",
       " 'make_unsearchable',\n",
       " 'metadata',\n",
       " 'name',\n",
       " 'new_activity',\n",
       " 'order_by',\n",
       " 'process',\n",
       " 'process_data',\n",
       " 'query',\n",
       " 'random',\n",
       " 'register',\n",
       " 'registered',\n",
       " 'relabel_data',\n",
       " 'rename',\n",
       " 'search',\n",
       " 'validate',\n",
       " 'validator',\n",
       " 'write']"
      ]
     },
     "execution_count": 52,
     "metadata": {},
     "output_type": "execute_result"
    }
   ],
   "source": [
    "dir(my_bio)"
   ]
  },
  {
   "cell_type": "markdown",
   "id": "c6deb677-e93c-43a3-a3d4-aa3bc440cd75",
   "metadata": {},
   "source": [
    "Some of the more basic ones we will be using now are :  \n",
    "  - `random()` - returns a random activity in the database\n",
    "  - `get(*valid_exchange_tuple*)` - returns an activity, but you must know the activity key\n",
    "  - `load()` - loads the whole database as a dictionary.\n",
    "  - `make_searchable` - allows searching of the database (by default, it is already searchable)\n",
    "  - `search` - search the database  \n",
    "  \n",
    "Lets start with `random`:"
   ]
  },
  {
   "cell_type": "code",
   "execution_count": 56,
   "id": "2c6bfa36-f150-4372-a56d-9a76ecb2ca16",
   "metadata": {},
   "outputs": [
    {
     "data": {
      "text/plain": [
       "'Ethanol' (kilogram, None, ('air', 'non-urban air or from high stacks'))"
      ]
     },
     "execution_count": 56,
     "metadata": {},
     "output_type": "execute_result"
    }
   ],
   "source": [
    "my_bio.random()"
   ]
  },
  {
   "cell_type": "markdown",
   "id": "186c9374-6a7a-4cc5-a0ad-5c84d0579518",
   "metadata": {},
   "source": [
    "It gives us a random bioosphere activity, to use it properly we need to assign it to a variable."
   ]
  },
  {
   "cell_type": "code",
   "execution_count": 57,
   "id": "0d7fe23e-e643-4608-a9aa-46e632925677",
   "metadata": {},
   "outputs": [
    {
     "data": {
      "text/plain": [
       "'Diflufenzopyr-sodium' (kilogram, None, ('soil', 'agricultural'))"
      ]
     },
     "execution_count": 57,
     "metadata": {},
     "output_type": "execute_result"
    }
   ],
   "source": [
    "random_biosphere = my_bio.random()\n",
    "random_biosphere"
   ]
  },
  {
   "cell_type": "code",
   "execution_count": 58,
   "id": "4e5e2ae1-6795-4e60-8e76-3482185f996f",
   "metadata": {},
   "outputs": [
    {
     "data": {
      "text/plain": [
       "bw2data.backends.peewee.proxies.Activity"
      ]
     },
     "execution_count": 58,
     "metadata": {},
     "output_type": "execute_result"
    }
   ],
   "source": [
    "type(random_biosphere)"
   ]
  },
  {
   "cell_type": "markdown",
   "id": "6249f7e6-b75c-4b46-b486-6b360ebc60f4",
   "metadata": {},
   "source": [
    "The type is an **activity proxy**. Activity proxies allow us to interact with the content of the database. In the journey to and from the database, several translation layers are used:\n",
    "\n",
    "SQLITE DATABASE *Binary tuples*\n",
    "\n",
    "&#8595;\n",
    "\n",
    "Peewee ORM *Python classs instance* (***ActivityDataset*** or ***ExchangeDataset***)\n",
    "\n",
    "&#8595;\n",
    "\n",
    "Brightway2 *Python class instance* (***Activity*** or ***Exchange***)"
   ]
  },
  {
   "cell_type": "markdown",
   "id": "492ad23c-5810-4513-93a2-df6af172da2b",
   "metadata": {},
   "source": [
    "BW *mostly* works with `Activity` or `Exchange`.\n",
    "\n",
    "To see what the activity contains, we can convert it to a dictionary:"
   ]
  },
  {
   "cell_type": "code",
   "execution_count": 62,
   "id": "79998e7b-9948-4212-bd85-a60977a9e5a5",
   "metadata": {},
   "outputs": [
    {
     "data": {
      "text/plain": [
       "{'categories': ('soil', 'agricultural'),\n",
       " 'code': 'cc667a3d-e88b-42f7-b265-461b7d66837f',\n",
       " 'CAS number': '109293-98-3',\n",
       " 'name': 'Diflufenzopyr-sodium',\n",
       " 'database': 'biosphere3',\n",
       " 'unit': 'kilogram',\n",
       " 'type': 'emission'}"
      ]
     },
     "execution_count": 62,
     "metadata": {},
     "output_type": "execute_result"
    }
   ],
   "source": [
    "random_biosphere.as_dict()"
   ]
  },
  {
   "cell_type": "markdown",
   "id": "02e388ad-acec-4fcd-a43a-174cf7733357",
   "metadata": {},
   "source": [
    "Let's get some activities:"
   ]
  },
  {
   "cell_type": "code",
   "execution_count": 68,
   "id": "95ea3725-d54d-4f66-843c-17092ca0466a",
   "metadata": {},
   "outputs": [
    {
     "data": {
      "text/plain": [
       "'Diflufenzopyr-sodium' (kilogram, None, ('soil', 'agricultural'))"
      ]
     },
     "execution_count": 68,
     "metadata": {},
     "output_type": "execute_result"
    }
   ],
   "source": [
    "my_bio.get(random_biosphere['code'])"
   ]
  },
  {
   "cell_type": "markdown",
   "id": "a9c0db03-0bdb-4100-bc14-d5d7e24526be",
   "metadata": {},
   "source": [
    "Activities can also be \"gotten\" via `get_activity`, but the argument is the activity **key**, consisting of a tuple with two elements: the database name, and the activity code."
   ]
  },
  {
   "cell_type": "markdown",
   "id": "7354c69e-bd50-4e09-926c-ccea2fa371dc",
   "metadata": {},
   "source": [
    "**Exercise:** Use `bw.get_activity()` to retrieve the random biosphere activity. "
   ]
  },
  {
   "cell_type": "code",
   "execution_count": null,
   "id": "0025e3a6-c1d8-49e2-80fb-9d534af0eeba",
   "metadata": {},
   "outputs": [],
   "source": []
  }
 ],
 "metadata": {
  "kernelspec": {
   "display_name": "bw2_rosetta",
   "language": "python",
   "name": "bw2_rosetta"
  },
  "language_info": {
   "codemirror_mode": {
    "name": "ipython",
    "version": 3
   },
   "file_extension": ".py",
   "mimetype": "text/x-python",
   "name": "python",
   "nbconvert_exporter": "python",
   "pygments_lexer": "ipython3",
   "version": "3.9.12"
  }
 },
 "nbformat": 4,
 "nbformat_minor": 5
}

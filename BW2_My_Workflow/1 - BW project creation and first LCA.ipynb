{
 "cells": [
  {
   "cell_type": "markdown",
   "id": "ed024ca7-f753-4851-b6a2-0f34ef71ef6b",
   "metadata": {},
   "source": [
    "# Brightway 2 - From Project creation to LCA"
   ]
  },
  {
   "cell_type": "markdown",
   "id": "5e8b8915-42d9-4ff0-8636-3eb420df4458",
   "metadata": {},
   "source": [
    "### 1 Project creation"
   ]
  },
  {
   "cell_type": "markdown",
   "id": "b178caee-fec4-4752-972a-6c357fb2a5a1",
   "metadata": {},
   "source": [
    "Import relevant packages. There are two ways to import Brightway2, `import brightway2 as bw` or, `from brightway2 import *`. The latter allows you to work without the `bw.` caller."
   ]
  },
  {
   "cell_type": "code",
   "execution_count": 1,
   "id": "cefb6b8c-9588-41d7-9c49-d1df71d95e9f",
   "metadata": {},
   "outputs": [],
   "source": [
    "import brightway2 as bw"
   ]
  },
  {
   "cell_type": "code",
   "execution_count": 2,
   "id": "9809d939-2abe-43f1-8f9c-8f0246519e07",
   "metadata": {},
   "outputs": [],
   "source": [
    "import os               # to use \"operating system dependent functionality\"\n",
    "import numpy as np      # \"the fundamental package for scientific computing with Python\"\n",
    "import pandas as pd     # \"high-performance, easy-to-use data structures and data analysis tools\" for Python"
   ]
  },
  {
   "cell_type": "markdown",
   "id": "c46ced81-84c4-470f-96ba-2166236ecd55",
   "metadata": {},
   "source": [
    "Check project directory, current project, list projects and create/set a project folder, respectively:"
   ]
  },
  {
   "cell_type": "code",
   "execution_count": 3,
   "id": "f7a3eae5-d540-4c6d-9f05-d39b9d778eeb",
   "metadata": {},
   "outputs": [
    {
     "data": {
      "text/plain": [
       "'/Users/mmendez/Library/Application Support/Brightway3/default.c21f969b5f03d33d43e04f8f136e7682'"
      ]
     },
     "execution_count": 3,
     "metadata": {},
     "output_type": "execute_result"
    }
   ],
   "source": [
    "bw.projects.dir"
   ]
  },
  {
   "cell_type": "code",
   "execution_count": 4,
   "id": "be790b8b-a613-49f3-85ac-74d55228b767",
   "metadata": {},
   "outputs": [
    {
     "data": {
      "text/plain": [
       "'default'"
      ]
     },
     "execution_count": 4,
     "metadata": {},
     "output_type": "execute_result"
    }
   ],
   "source": [
    "bw.projects.current"
   ]
  },
  {
   "cell_type": "code",
   "execution_count": 5,
   "id": "20bf11b1-c0b8-46d0-bd81-2f77a732c06b",
   "metadata": {},
   "outputs": [],
   "source": [
    "bw.projects.report();"
   ]
  },
  {
   "cell_type": "code",
   "execution_count": 6,
   "id": "bb47a43b-8bd7-41b8-a725-426667f11869",
   "metadata": {},
   "outputs": [],
   "source": [
    "bw.projects.set_current('MW_1')"
   ]
  },
  {
   "cell_type": "markdown",
   "id": "89f12526-2067-46ce-b21e-77e8cd900333",
   "metadata": {},
   "source": [
    "Setup biosphere and LCIA methods with `bw2setup()`."
   ]
  },
  {
   "cell_type": "code",
   "execution_count": 7,
   "id": "8d9daf06-e737-49a3-94fd-10bb5a1605ac",
   "metadata": {},
   "outputs": [
    {
     "name": "stdout",
     "output_type": "stream",
     "text": [
      "Biosphere database already present!!! No setup is needed\n"
     ]
    }
   ],
   "source": [
    "bw.bw2setup()"
   ]
  },
  {
   "cell_type": "code",
   "execution_count": 8,
   "id": "e3a8d7a9-a14f-4171-b019-c2c4cad2ba57",
   "metadata": {},
   "outputs": [
    {
     "data": {
      "text/plain": [
       "Databases dictionary with 1 object(s):\n",
       "\tbiosphere3"
      ]
     },
     "execution_count": 8,
     "metadata": {},
     "output_type": "execute_result"
    }
   ],
   "source": [
    "bw.databases"
   ]
  },
  {
   "cell_type": "code",
   "execution_count": 9,
   "id": "d8991517-42ef-4482-a579-9898722412b6",
   "metadata": {},
   "outputs": [
    {
     "data": {
      "text/plain": [
       "Brightway2 SQLiteBackend: biosphere3"
      ]
     },
     "execution_count": 9,
     "metadata": {},
     "output_type": "execute_result"
    }
   ],
   "source": [
    "bw.Database('biosphere3')"
   ]
  },
  {
   "cell_type": "markdown",
   "id": "e9f53e58-08c7-4c52-a9ff-4c2115a816aa",
   "metadata": {},
   "source": [
    "### 2 Extracting and searching activities and exchanges"
   ]
  },
  {
   "cell_type": "markdown",
   "id": "ae954974-8ee9-4da3-b8f2-d978c39dc378",
   "metadata": {},
   "source": [
    "Here you can see all the methods you can call on the bw object:"
   ]
  },
  {
   "cell_type": "code",
   "execution_count": 10,
   "id": "2d7890ae-fc68-4909-913c-38bc85f4a852",
   "metadata": {},
   "outputs": [],
   "source": [
    "dir(bw);"
   ]
  },
  {
   "cell_type": "markdown",
   "id": "55a0b780-12e6-4080-a964-8a62c298faab",
   "metadata": {},
   "source": [
    "Let's assign the database to a variable:"
   ]
  },
  {
   "cell_type": "code",
   "execution_count": 11,
   "id": "ebd8b071-6deb-466f-9c14-3ebd89a3b0cb",
   "metadata": {},
   "outputs": [],
   "source": [
    "my_bio = bw.Database('biosphere3')"
   ]
  },
  {
   "cell_type": "code",
   "execution_count": 12,
   "id": "37342cf0-1d2f-4a61-8ac2-5c3f369e55a2",
   "metadata": {},
   "outputs": [
    {
     "data": {
      "text/plain": [
       "bw2data.backends.peewee.database.SQLiteBackend"
      ]
     },
     "execution_count": 12,
     "metadata": {},
     "output_type": "execute_result"
    }
   ],
   "source": [
    "type(my_bio)"
   ]
  },
  {
   "cell_type": "code",
   "execution_count": 13,
   "id": "13750113-5f61-4488-ade9-27bf02364ff4",
   "metadata": {},
   "outputs": [
    {
     "data": {
      "text/plain": [
       "4427"
      ]
     },
     "execution_count": 13,
     "metadata": {},
     "output_type": "execute_result"
    }
   ],
   "source": [
    "len(my_bio)"
   ]
  },
  {
   "cell_type": "markdown",
   "id": "8a21b802-7cb2-4fe1-8d7a-5ada6dea3623",
   "metadata": {},
   "source": [
    "Let's check its properties and methods:"
   ]
  },
  {
   "cell_type": "code",
   "execution_count": 14,
   "id": "c7c74874-1fd5-44f5-9b0e-73b610a621a4",
   "metadata": {},
   "outputs": [],
   "source": [
    "dir(my_bio);"
   ]
  },
  {
   "cell_type": "markdown",
   "id": "c6deb677-e93c-43a3-a3d4-aa3bc440cd75",
   "metadata": {},
   "source": [
    "Some of the more basic ones we will be using now are :  \n",
    "  - `random()` - returns a random activity in the database\n",
    "  - `get(*valid_exchange_tuple*)` - returns an activity, but you must know the activity key\n",
    "  - `load()` - loads the whole database as a dictionary.\n",
    "  - `make_searchable` - allows searching of the database (by default, it is already searchable)\n",
    "  - `search` - search the database  \n",
    "  \n",
    "Lets start with `random`:"
   ]
  },
  {
   "cell_type": "code",
   "execution_count": 15,
   "id": "2c6bfa36-f150-4372-a56d-9a76ecb2ca16",
   "metadata": {},
   "outputs": [
    {
     "data": {
      "text/plain": [
       "'1-Pentanol' (kilogram, None, ('air', 'lower stratosphere + upper troposphere'))"
      ]
     },
     "execution_count": 15,
     "metadata": {},
     "output_type": "execute_result"
    }
   ],
   "source": [
    "my_bio.random()"
   ]
  },
  {
   "cell_type": "markdown",
   "id": "186c9374-6a7a-4cc5-a0ad-5c84d0579518",
   "metadata": {},
   "source": [
    "It gives us a random bioosphere activity, to use it properly we need to assign it to a variable."
   ]
  },
  {
   "cell_type": "code",
   "execution_count": 16,
   "id": "0d7fe23e-e643-4608-a9aa-46e632925677",
   "metadata": {},
   "outputs": [
    {
     "data": {
      "text/plain": [
       "'Monochloroethane' (kilogram, None, ('water',))"
      ]
     },
     "execution_count": 16,
     "metadata": {},
     "output_type": "execute_result"
    }
   ],
   "source": [
    "random_biosphere = my_bio.random()\n",
    "random_biosphere"
   ]
  },
  {
   "cell_type": "code",
   "execution_count": 17,
   "id": "4e5e2ae1-6795-4e60-8e76-3482185f996f",
   "metadata": {},
   "outputs": [
    {
     "data": {
      "text/plain": [
       "bw2data.backends.peewee.proxies.Activity"
      ]
     },
     "execution_count": 17,
     "metadata": {},
     "output_type": "execute_result"
    }
   ],
   "source": [
    "type(random_biosphere)"
   ]
  },
  {
   "cell_type": "markdown",
   "id": "6249f7e6-b75c-4b46-b486-6b360ebc60f4",
   "metadata": {},
   "source": [
    "The type is an **activity proxy**. Activity proxies allow us to interact with the content of the database. In the journey to and from the database, several translation layers are used:\n",
    "\n",
    "SQLITE DATABASE *Binary tuples*\n",
    "\n",
    "&#8595;\n",
    "\n",
    "Peewee ORM *Python classs instance* (***ActivityDataset*** or ***ExchangeDataset***)\n",
    "\n",
    "&#8595;\n",
    "\n",
    "Brightway2 *Python class instance* (***Activity*** or ***Exchange***)"
   ]
  },
  {
   "cell_type": "markdown",
   "id": "492ad23c-5810-4513-93a2-df6af172da2b",
   "metadata": {},
   "source": [
    "BW *mostly* works with `Activity` or `Exchange`.\n",
    "\n",
    "To see what the activity contains, we can convert it to a dictionary:"
   ]
  },
  {
   "cell_type": "code",
   "execution_count": 18,
   "id": "79998e7b-9948-4212-bd85-a60977a9e5a5",
   "metadata": {},
   "outputs": [
    {
     "data": {
      "text/plain": [
       "{'categories': ('water',),\n",
       " 'code': '60340c7f-e9ce-474f-ac08-a6d4d9f864fc',\n",
       " 'CAS number': '000075-00-3',\n",
       " 'name': 'Monochloroethane',\n",
       " 'database': 'biosphere3',\n",
       " 'unit': 'kilogram',\n",
       " 'type': 'emission'}"
      ]
     },
     "execution_count": 18,
     "metadata": {},
     "output_type": "execute_result"
    }
   ],
   "source": [
    "random_biosphere.as_dict()"
   ]
  },
  {
   "cell_type": "markdown",
   "id": "02e388ad-acec-4fcd-a43a-174cf7733357",
   "metadata": {},
   "source": [
    "Let's get some activities:"
   ]
  },
  {
   "cell_type": "code",
   "execution_count": 19,
   "id": "95ea3725-d54d-4f66-843c-17092ca0466a",
   "metadata": {},
   "outputs": [
    {
     "data": {
      "text/plain": [
       "'Monochloroethane' (kilogram, None, ('water',))"
      ]
     },
     "execution_count": 19,
     "metadata": {},
     "output_type": "execute_result"
    }
   ],
   "source": [
    "my_bio.get(random_biosphere['code'])"
   ]
  },
  {
   "cell_type": "markdown",
   "id": "a9c0db03-0bdb-4100-bc14-d5d7e24526be",
   "metadata": {},
   "source": [
    "Activities can also be \"gotten\" via `get_activity`, but the argument is the activity **key**, consisting of a tuple with two elements: the database name, and the activity code."
   ]
  },
  {
   "cell_type": "markdown",
   "id": "7354c69e-bd50-4e09-926c-ccea2fa371dc",
   "metadata": {},
   "source": [
    "**Exercise:** Use `bw.get_activity()` to retrieve the random biosphere activity. "
   ]
  },
  {
   "cell_type": "code",
   "execution_count": 20,
   "id": "0025e3a6-c1d8-49e2-80fb-9d534af0eeba",
   "metadata": {},
   "outputs": [
    {
     "data": {
      "text/plain": [
       "'Monochloroethane' (kilogram, None, ('water',))"
      ]
     },
     "execution_count": 20,
     "metadata": {},
     "output_type": "execute_result"
    }
   ],
   "source": [
    "code = random_biosphere['code']\n",
    "databasename = 'biosphere3'\n",
    "random_biosphere_key = (databasename, code)\n",
    "bw.get_activity(random_biosphere_key)"
   ]
  },
  {
   "cell_type": "markdown",
   "id": "84e74000-b5f1-42c3-ae2e-5ed08d6db894",
   "metadata": {},
   "source": [
    "You can always find the `key` to an activity using the `.key` property:"
   ]
  },
  {
   "cell_type": "code",
   "execution_count": 21,
   "id": "bc9bba8d-abdb-4ecb-99f0-cb2eb468baa9",
   "metadata": {},
   "outputs": [
    {
     "data": {
      "text/plain": [
       "('biosphere3', '60340c7f-e9ce-474f-ac08-a6d4d9f864fc')"
      ]
     },
     "execution_count": 21,
     "metadata": {},
     "output_type": "execute_result"
    }
   ],
   "source": [
    "random_biosphere.key"
   ]
  },
  {
   "cell_type": "markdown",
   "id": "a730bea5-8356-4c5a-baa2-3bc24fcd6a29",
   "metadata": {},
   "source": [
    "Let's now search through our database!"
   ]
  },
  {
   "cell_type": "code",
   "execution_count": 22,
   "id": "ae14c2f8-69d6-4e86-940b-8dd380fb894e",
   "metadata": {},
   "outputs": [],
   "source": [
    "my_bio.search('carbon dioxide'); # You can also use bw.Database('biosphere3').search('carbon dioxide')"
   ]
  },
  {
   "cell_type": "markdown",
   "id": "70648706-53f2-4e6f-9af3-deb98b37721b",
   "metadata": {},
   "source": [
    "We can also iterate over the database, this method uses [*list comprehension*]https://docs.python.org/3/tutorial/datastructures.html#list-comprehensions which allow us to add filters and personalize the search."
   ]
  },
  {
   "cell_type": "code",
   "execution_count": 23,
   "id": "a6efd587-d18b-4318-8829-8e807ae54d9a",
   "metadata": {},
   "outputs": [
    {
     "data": {
      "text/plain": [
       "['Carbon dioxide, fossil' (kilogram, None, ('air', 'urban air close to ground'))]"
      ]
     },
     "execution_count": 23,
     "metadata": {},
     "output_type": "execute_result"
    }
   ],
   "source": [
    "[act for act in my_bio if 'Carbon dioxide' in act['name'] \n",
    "                                            and 'fossil' in act['name']\n",
    "                                            and 'non' not in act['name']\n",
    "                                            and 'urban air close to ground' in str(act['categories'])\n",
    "]"
   ]
  },
  {
   "cell_type": "markdown",
   "id": "4680aca3-a33e-4ba4-a7a1-980d789b730d",
   "metadata": {},
   "source": [
    "Activities returned by searches or list comprehensions can be assigned to variables, but to do so, one needs to identify the activity by index. Based on the above, I can refine my filters to ensure the list comprehension only returns one activity, and then choose it without fear of choosing the wrong one."
   ]
  },
  {
   "cell_type": "code",
   "execution_count": 24,
   "id": "6a571716-f7a1-4de2-a9ee-5df8c5594eb4",
   "metadata": {},
   "outputs": [
    {
     "data": {
      "text/plain": [
       "['Carbon dioxide, fossil' (kilogram, None, ('air', 'urban air close to ground'))]"
      ]
     },
     "execution_count": 24,
     "metadata": {},
     "output_type": "execute_result"
    }
   ],
   "source": [
    "activity_I_want = [act for act in my_bio if 'Carbon dioxide' in act['name'] \n",
    "                                            and 'fossil' in act['name']\n",
    "                                            and 'non' not in act['name']\n",
    "                                            and 'urban air close to ground' in str(act['categories'])]\n",
    "activity_I_want"
   ]
  },
  {
   "cell_type": "markdown",
   "id": "1a2de0a4-686c-4b7a-9a1c-08afb4353637",
   "metadata": {},
   "source": [
    "**Exercise:** Look for and assign to a variable an emission of nitrous oxide emitted to air in the \"urban air\" subcompartment.\n"
   ]
  },
  {
   "cell_type": "code",
   "execution_count": 25,
   "id": "5f9cc9ba-ceaf-4606-91b9-43d2fb1c30fe",
   "metadata": {},
   "outputs": [
    {
     "data": {
      "text/plain": [
       "['Dinitrogen monoxide' (kilogram, None, ('air', 'urban air close to ground')),\n",
       " 'Dinitrogen monoxide' (kilogram, None, ('air', 'non-urban air or from high stacks'))]"
      ]
     },
     "execution_count": 25,
     "metadata": {},
     "output_type": "execute_result"
    }
   ],
   "source": [
    "exercise_activity = [act for act in my_bio if 'nitrogen' in act['name']\n",
    "                                            and 'urban air' in str(act['categories'])]\n",
    "exercise_activity"
   ]
  },
  {
   "cell_type": "markdown",
   "id": "9fcbf9ab-0509-4c24-a53a-90c4fcdf80e6",
   "metadata": {},
   "source": [
    "Now we select the first one:"
   ]
  },
  {
   "cell_type": "code",
   "execution_count": 26,
   "id": "0e8faaaa-16c7-46ee-8662-185f75089e2b",
   "metadata": {},
   "outputs": [
    {
     "data": {
      "text/plain": [
       "'Dinitrogen monoxide' (kilogram, None, ('air', 'urban air close to ground'))"
      ]
     },
     "execution_count": 26,
     "metadata": {},
     "output_type": "execute_result"
    }
   ],
   "source": [
    "exercise_activity = exercise_activity[0]\n",
    "exercise_activity"
   ]
  },
  {
   "cell_type": "markdown",
   "id": "19a08902-c5f1-44d1-8864-7c41a2ec18e1",
   "metadata": {},
   "source": [
    "### 3 Methods"
   ]
  },
  {
   "cell_type": "markdown",
   "id": "4da33c86-aca4-4815-b775-e9650b4bafca",
   "metadata": {},
   "source": [
    "As mentioned before, we also installed methods:"
   ]
  },
  {
   "cell_type": "code",
   "execution_count": 27,
   "id": "5837b2b2-4084-43a6-8fd3-d74a96b0c1b8",
   "metadata": {},
   "outputs": [
    {
     "data": {
      "text/plain": [
       "[('CML 2001 (superseded)', 'terrestrial ecotoxicity', 'TAETP infinite'),\n",
       " ('CML 2001 (superseded)', 'terrestrial ecotoxicity', 'TAETP 500a'),\n",
       " ('CML 2001 (superseded)', 'terrestrial ecotoxicity', 'TAETP 20a'),\n",
       " ('CML 2001 (superseded)', 'terrestrial ecotoxicity', 'TAETP 100a'),\n",
       " ('CML 2001 (superseded)', 'malodours air', 'malodours air'),\n",
       " ('CML 2001 (superseded)', 'human toxicity', 'HTP 20a'),\n",
       " ('CML 2001 (superseded)', 'human toxicity', 'HTP infinite'),\n",
       " ('CML 2001 (superseded)', 'human toxicity', 'HTP 500a'),\n",
       " ('CML 2001 (superseded)', 'human toxicity', 'HTP 100a'),\n",
       " ('CML 2001 (superseded)', 'climate change', 'GWP 500a'),\n",
       " ('CML 2001 (superseded)', 'climate change', 'lower limit of net GWP'),\n",
       " ('CML 2001 (superseded)', 'climate change', 'GWP 20a'),\n",
       " ('CML 2001 (superseded)', 'climate change', 'GWP 100a'),\n",
       " ('CML 2001 (superseded)', 'climate change', 'upper limit of net GWP'),\n",
       " ('CML 2001 (superseded)', 'land use', 'competition'),\n",
       " ('CML 2001 (superseded)', 'acidification potential', 'generic'),\n",
       " ('CML 2001 (superseded)', 'acidification potential', 'average European'),\n",
       " ('CML 2001 (superseded)', 'freshwater sediment ecotoxicity', 'FSETP 20a'),\n",
       " ('CML 2001 (superseded)', 'freshwater sediment ecotoxicity', 'FSETP 100a'),\n",
       " ('CML 2001 (superseded)',\n",
       "  'freshwater sediment ecotoxicity',\n",
       "  'FSETP infinite'),\n",
       " ('CML 2001 (superseded)', 'freshwater sediment ecotoxicity', 'FSETP 500a'),\n",
       " ('CML 2001 (superseded)', 'eutrophication potential', 'generic'),\n",
       " ('CML 2001 (superseded)', 'eutrophication potential', 'average European'),\n",
       " ('CML 2001 (superseded)', 'freshwater aquatic ecotoxicity', 'FAETP 100a'),\n",
       " ('CML 2001 (superseded)', 'freshwater aquatic ecotoxicity', 'FAETP 20a'),\n",
       " ('CML 2001 (superseded)', 'freshwater aquatic ecotoxicity', 'FAETP 500a'),\n",
       " ('CML 2001 (superseded)', 'freshwater aquatic ecotoxicity', 'FAETP infinite'),\n",
       " ('CML 2001 (superseded)', 'marine aquatic ecotoxicity', 'MAETP 20a'),\n",
       " ('CML 2001 (superseded)', 'marine aquatic ecotoxicity', 'MAETP infinite'),\n",
       " ('CML 2001 (superseded)', 'marine aquatic ecotoxicity', 'MAETP 100a'),\n",
       " ('CML 2001 (superseded)', 'marine aquatic ecotoxicity', 'MAETP 500a'),\n",
       " ('CML 2001 (superseded)', 'ionising radiation', 'ionising radiation'),\n",
       " ('CML 2001 (superseded)', 'photochemical oxidation (summer smog)', 'MIR'),\n",
       " ('CML 2001 (superseded)', 'photochemical oxidation (summer smog)', 'EBIR'),\n",
       " ('CML 2001 (superseded)',\n",
       "  'photochemical oxidation (summer smog)',\n",
       "  'low NOx POCP'),\n",
       " ('CML 2001 (superseded)',\n",
       "  'photochemical oxidation (summer smog)',\n",
       "  'high NOx POCP'),\n",
       " ('CML 2001 (superseded)', 'photochemical oxidation (summer smog)', 'MOIR'),\n",
       " ('CML 2001 (superseded)', 'marine sediment ecotoxicity', 'MSETP 500a'),\n",
       " ('CML 2001 (superseded)', 'marine sediment ecotoxicity', 'MSETP 20a'),\n",
       " ('CML 2001 (superseded)', 'marine sediment ecotoxicity', 'MSETP infinite'),\n",
       " ('CML 2001 (superseded)', 'marine sediment ecotoxicity', 'MSETP 100a'),\n",
       " ('CML 2001 (superseded)',\n",
       "  'stratospheric ozone depletion',\n",
       "  'ODP steady state'),\n",
       " ('CML 2001 (superseded)', 'stratospheric ozone depletion', 'ODP 10a'),\n",
       " ('CML 2001 (superseded)', 'stratospheric ozone depletion', 'ODP 5a'),\n",
       " ('CML 2001 (superseded)', 'stratospheric ozone depletion', 'ODP 30a'),\n",
       " ('CML 2001 (superseded)', 'stratospheric ozone depletion', 'ODP 20a'),\n",
       " ('CML 2001 (superseded)', 'stratospheric ozone depletion', 'ODP 25a'),\n",
       " ('CML 2001 (superseded)', 'stratospheric ozone depletion', 'ODP 40a'),\n",
       " ('CML 2001 (superseded)', 'stratospheric ozone depletion', 'ODP 15a'),\n",
       " ('CML 2001 (superseded)', 'resources', 'depletion of abiotic resources'),\n",
       " ('CML 2001 w/o LT (superseded)',\n",
       "  'marine aquatic ecotoxicity w/o LT',\n",
       "  'MAETP infinite w/o LT'),\n",
       " ('CML 2001 w/o LT (superseded)',\n",
       "  'marine aquatic ecotoxicity w/o LT',\n",
       "  'MAETP 20a w/o LT'),\n",
       " ('CML 2001 w/o LT (superseded)',\n",
       "  'marine aquatic ecotoxicity w/o LT',\n",
       "  'MAETP 500a w/o LT'),\n",
       " ('CML 2001 w/o LT (superseded)',\n",
       "  'marine aquatic ecotoxicity w/o LT',\n",
       "  'MAETP 100a w/o LT'),\n",
       " ('CML 2001 w/o LT (superseded)',\n",
       "  'ionising radiation w/o LT',\n",
       "  'ionising radiation w/o LT'),\n",
       " ('CML 2001 w/o LT (superseded)',\n",
       "  'freshwater sediment ecotoxicity w/o LT',\n",
       "  'FSETP 20a w/o LT'),\n",
       " ('CML 2001 w/o LT (superseded)',\n",
       "  'freshwater sediment ecotoxicity w/o LT',\n",
       "  'FSETP infinite w/o LT'),\n",
       " ('CML 2001 w/o LT (superseded)',\n",
       "  'freshwater sediment ecotoxicity w/o LT',\n",
       "  'FSETP 100a w/o LT'),\n",
       " ('CML 2001 w/o LT (superseded)',\n",
       "  'freshwater sediment ecotoxicity w/o LT',\n",
       "  'FSETP 500a w/o LT'),\n",
       " ('CML 2001 w/o LT (superseded)',\n",
       "  'acidification potential w/o LT',\n",
       "  'average European w/o LT'),\n",
       " ('CML 2001 w/o LT (superseded)',\n",
       "  'acidification potential w/o LT',\n",
       "  'generic w/o LT'),\n",
       " ('CML 2001 w/o LT (superseded)', 'human toxicity w/o LT', 'HTP 20a w/o LT'),\n",
       " ('CML 2001 w/o LT (superseded)', 'human toxicity w/o LT', 'HTP 500a w/o LT'),\n",
       " ('CML 2001 w/o LT (superseded)',\n",
       "  'human toxicity w/o LT',\n",
       "  'HTP infinite w/o LT'),\n",
       " ('CML 2001 w/o LT (superseded)', 'human toxicity w/o LT', 'HTP 100a w/o LT'),\n",
       " ('CML 2001 w/o LT (superseded)',\n",
       "  'photochemical oxidation w/o LT',\n",
       "  'EBIR w/o LT'),\n",
       " ('CML 2001 w/o LT (superseded)',\n",
       "  'photochemical oxidation w/o LT',\n",
       "  'MIR w/o LT'),\n",
       " ('CML 2001 w/o LT (superseded)',\n",
       "  'photochemical oxidation w/o LT',\n",
       "  'MOIR w/o LT'),\n",
       " ('CML 2001 w/o LT (superseded)',\n",
       "  'photochemical oxidation w/o LT',\n",
       "  'low NOx POCP w/o LT'),\n",
       " ('CML 2001 w/o LT (superseded)',\n",
       "  'photochemical oxidation w/o LT',\n",
       "  'high NOx POCP w/o LT'),\n",
       " ('CML 2001 w/o LT (superseded)',\n",
       "  'eutrophication potential w/o LT',\n",
       "  'average European w/o LT'),\n",
       " ('CML 2001 w/o LT (superseded)',\n",
       "  'eutrophication potential w/o LT',\n",
       "  'generic w/o LT'),\n",
       " ('CML 2001 w/o LT (superseded)',\n",
       "  'stratospheric ozone depletion w/o LT',\n",
       "  'ODP 10a w/o LT'),\n",
       " ('CML 2001 w/o LT (superseded)',\n",
       "  'stratospheric ozone depletion w/o LT',\n",
       "  'ODP steady state w/o LT'),\n",
       " ('CML 2001 w/o LT (superseded)',\n",
       "  'stratospheric ozone depletion w/o LT',\n",
       "  'ODP 30a w/o LT'),\n",
       " ('CML 2001 w/o LT (superseded)',\n",
       "  'stratospheric ozone depletion w/o LT',\n",
       "  'ODP 20a w/o LT'),\n",
       " ('CML 2001 w/o LT (superseded)',\n",
       "  'stratospheric ozone depletion w/o LT',\n",
       "  'ODP 5a w/o LT'),\n",
       " ('CML 2001 w/o LT (superseded)',\n",
       "  'stratospheric ozone depletion w/o LT',\n",
       "  'ODP 25a w/o LT'),\n",
       " ('CML 2001 w/o LT (superseded)',\n",
       "  'stratospheric ozone depletion w/o LT',\n",
       "  'ODP 15a w/o LT'),\n",
       " ('CML 2001 w/o LT (superseded)',\n",
       "  'stratospheric ozone depletion w/o LT',\n",
       "  'ODP 40a w/o LT'),\n",
       " ('CML 2001 w/o LT (superseded)',\n",
       "  'terrestrial ecotoxicity w/o LT',\n",
       "  'TAETP infinite w/o LT'),\n",
       " ('CML 2001 w/o LT (superseded)',\n",
       "  'terrestrial ecotoxicity w/o LT',\n",
       "  'TAETP 500a w/o LT'),\n",
       " ('CML 2001 w/o LT (superseded)',\n",
       "  'terrestrial ecotoxicity w/o LT',\n",
       "  'TAETP 20a w/o LT'),\n",
       " ('CML 2001 w/o LT (superseded)',\n",
       "  'terrestrial ecotoxicity w/o LT',\n",
       "  'TAETP 100a w/o LT'),\n",
       " ('CML 2001 w/o LT (superseded)', 'climate change w/o LT', 'GWP 100a w/o LT'),\n",
       " ('CML 2001 w/o LT (superseded)',\n",
       "  'climate change w/o LT',\n",
       "  'lower limit of net GWP w/o LT'),\n",
       " ('CML 2001 w/o LT (superseded)', 'climate change w/o LT', 'GWP 20a w/o LT'),\n",
       " ('CML 2001 w/o LT (superseded)',\n",
       "  'climate change w/o LT',\n",
       "  'upper limit of net GWP w/o LT'),\n",
       " ('CML 2001 w/o LT (superseded)', 'climate change w/o LT', 'GWP 500a w/o LT'),\n",
       " ('CML 2001 w/o LT (superseded)',\n",
       "  'marine sediment ecotoxicity w/o LT',\n",
       "  'MSETP 20a w/o LT'),\n",
       " ('CML 2001 w/o LT (superseded)',\n",
       "  'marine sediment ecotoxicity w/o LT',\n",
       "  'MSETP infinite w/o LT'),\n",
       " ('CML 2001 w/o LT (superseded)',\n",
       "  'marine sediment ecotoxicity w/o LT',\n",
       "  'MSETP 100a w/o LT'),\n",
       " ('CML 2001 w/o LT (superseded)',\n",
       "  'marine sediment ecotoxicity w/o LT',\n",
       "  'MSETP 500a w/o LT'),\n",
       " ('CML 2001 w/o LT (superseded)',\n",
       "  'malodours air w/o LT',\n",
       "  'malodours air w/o LT'),\n",
       " ('CML 2001 w/o LT (superseded)',\n",
       "  'resources w/o LT',\n",
       "  'depletion of abiotic resources w/o LT'),\n",
       " ('CML 2001 w/o LT (superseded)',\n",
       "  'freshwater aquatic ecotoxicity w/o LT',\n",
       "  'FAETP 500a w/o LT'),\n",
       " ('CML 2001 w/o LT (superseded)',\n",
       "  'freshwater aquatic ecotoxicity w/o LT',\n",
       "  'FAETP 20a w/o LT'),\n",
       " ('CML 2001 w/o LT (superseded)',\n",
       "  'freshwater aquatic ecotoxicity w/o LT',\n",
       "  'FAETP 100a w/o LT'),\n",
       " ('CML 2001 w/o LT (superseded)',\n",
       "  'freshwater aquatic ecotoxicity w/o LT',\n",
       "  'FAETP infinite w/o LT'),\n",
       " ('CML 2001 w/o LT (superseded)', 'land use w/o LT', 'competition w/o LT'),\n",
       " ('CML v4.8 2016 no LT',\n",
       "  'acidification no LT',\n",
       "  'acidification (incl. fate, average Europe total, A&B) no LT'),\n",
       " ('CML v4.8 2016 no LT', 'climate change no LT', 'GWP 100a no LT'),\n",
       " ('CML v4.8 2016 no LT',\n",
       "  'ecotoxicity: freshwater no LT',\n",
       "  'freshwater aquatic ecotoxicity (FAETP inf) no LT'),\n",
       " ('CML v4.8 2016 no LT',\n",
       "  'ecotoxicity: marine no LT',\n",
       "  'marine aquatic ecotoxicity (MAETP inf) no LT'),\n",
       " ('CML v4.8 2016 no LT',\n",
       "  'ecotoxicity: terrestrial no LT',\n",
       "  'terrestrial ecotoxicity (TETP inf) no LT'),\n",
       " ('CML v4.8 2016 no LT',\n",
       "  'energy resources: non-renewable no LT',\n",
       "  'abiotic depletion potential (ADP): fossil fuels no LT'),\n",
       " ('CML v4.8 2016 no LT',\n",
       "  'eutrophication no LT',\n",
       "  'eutrophication (fate not incl.) no LT'),\n",
       " ('CML v4.8 2016 no LT',\n",
       "  'human toxicity no LT',\n",
       "  'human toxicity (HTP inf) no LT'),\n",
       " ('CML v4.8 2016 no LT',\n",
       "  'material resources: metals/minerals no LT',\n",
       "  'abiotic depletion potential (ADP): elements (ultimate reserves) no LT'),\n",
       " ('CML v4.8 2016 no LT',\n",
       "  'ozone depletion no LT',\n",
       "  'ozone layer depletion (ODP steady state) no LT'),\n",
       " ('CML v4.8 2016 no LT',\n",
       "  'photochemical oxidant formation no LT',\n",
       "  'photochemical oxidation (high NOx) no LT'),\n",
       " ('CML v4.8 2016',\n",
       "  'acidification',\n",
       "  'acidification (incl. fate, average Europe total, A&B)'),\n",
       " ('CML v4.8 2016', 'climate change', 'GWP 100a'),\n",
       " ('CML v4.8 2016',\n",
       "  'ecotoxicity: freshwater',\n",
       "  'freshwater aquatic ecotoxicity (FAETP inf)'),\n",
       " ('CML v4.8 2016',\n",
       "  'ecotoxicity: marine',\n",
       "  'marine aquatic ecotoxicity (MAETP inf)'),\n",
       " ('CML v4.8 2016',\n",
       "  'ecotoxicity: terrestrial',\n",
       "  'terrestrial ecotoxicity (TETP inf)'),\n",
       " ('CML v4.8 2016',\n",
       "  'energy resources: non-renewable',\n",
       "  'abiotic depletion potential (ADP): fossil fuels'),\n",
       " ('CML v4.8 2016', 'eutrophication', 'eutrophication (fate not incl.)'),\n",
       " ('CML v4.8 2016', 'human toxicity', 'human toxicity (HTP inf)'),\n",
       " ('CML v4.8 2016',\n",
       "  'material resources: metals/minerals',\n",
       "  'abiotic depletion potential (ADP): elements (ultimate reserves)'),\n",
       " ('CML v4.8 2016',\n",
       "  'ozone depletion',\n",
       "  'ozone layer depletion (ODP steady state)'),\n",
       " ('CML v4.8 2016',\n",
       "  'photochemical oxidant formation',\n",
       "  'photochemical oxidation (high NOx)'),\n",
       " ('cumulative energy demand',\n",
       "  'fossil',\n",
       "  'non-renewable energy resources, fossil'),\n",
       " ('cumulative energy demand',\n",
       "  'nuclear',\n",
       "  'non-renewable energy resources, nuclear'),\n",
       " ('cumulative energy demand',\n",
       "  'biomass',\n",
       "  'renewable energy resources, biomass'),\n",
       " ('cumulative energy demand',\n",
       "  'water',\n",
       "  'renewable energy resources, potential (in barrage water), converted'),\n",
       " ('cumulative energy demand',\n",
       "  'geothermal',\n",
       "  'renewable energy resources, geothermal, converted'),\n",
       " ('cumulative energy demand',\n",
       "  'solar',\n",
       "  'renewable energy resources, solar, converted'),\n",
       " ('cumulative energy demand',\n",
       "  'wind',\n",
       "  'renewable energy resources, kinetic (in wind), converted'),\n",
       " ('cumulative energy demand',\n",
       "  'primary forest',\n",
       "  'non-renewable energy resources, primary forest'),\n",
       " ('cumulative exergy demand',\n",
       "  'solar',\n",
       "  'renewable energy resources, solar, converted'),\n",
       " ('cumulative exergy demand',\n",
       "  'nuclear',\n",
       "  'non-renewable energy resources, nuclear'),\n",
       " ('cumulative exergy demand',\n",
       "  'biomass',\n",
       "  'renewable energy resources, biomass'),\n",
       " ('cumulative exergy demand',\n",
       "  'metals',\n",
       "  'non-renewable material resources, metals'),\n",
       " ('cumulative exergy demand',\n",
       "  'water',\n",
       "  'renewable energy resources, potential (in barrage water), converted'),\n",
       " ('cumulative exergy demand',\n",
       "  'water resources',\n",
       "  'renewable material resources, water'),\n",
       " ('cumulative exergy demand',\n",
       "  'fossil',\n",
       "  'non-renewable energy resources, fossil'),\n",
       " ('cumulative exergy demand',\n",
       "  'minerals',\n",
       "  'non-renewable material resources, minerals'),\n",
       " ('cumulative exergy demand',\n",
       "  'wind',\n",
       "  'renewable energy resources, kinetic (in wind), converted'),\n",
       " ('cumulative exergy demand',\n",
       "  'primary forest',\n",
       "  'non-renewable energy resources, primary forest'),\n",
       " ('eco-indicator 99, (E,E) (superseded)',\n",
       "  'ecosystem quality',\n",
       "  'acidification & eutrophication'),\n",
       " ('eco-indicator 99, (E,E) (superseded)',\n",
       "  'ecosystem quality',\n",
       "  'land occupation'),\n",
       " ('eco-indicator 99, (E,E) (superseded)', 'ecosystem quality', 'ecotoxicity'),\n",
       " ('eco-indicator 99, (E,E) (superseded)', 'human health', 'climate change'),\n",
       " ('eco-indicator 99, (E,E) (superseded)',\n",
       "  'human health',\n",
       "  'respiratory effects'),\n",
       " ('eco-indicator 99, (E,E) (superseded)',\n",
       "  'human health',\n",
       "  'ozone layer depletion'),\n",
       " ('eco-indicator 99, (E,E) (superseded)',\n",
       "  'human health',\n",
       "  'ionising radiation'),\n",
       " ('eco-indicator 99, (E,E) (superseded)', 'human health', 'carcinogenics'),\n",
       " ('eco-indicator 99, (E,E) (superseded)', 'resources', 'mineral extraction'),\n",
       " ('eco-indicator 99, (E,E) (superseded)', 'resources', 'fossil fuels'),\n",
       " ('eco-indicator 99, (E,E) (superseded)', 'resources', 'total'),\n",
       " ('eco-indicator 99, (E,E) (superseded)', 'human health', 'total'),\n",
       " ('eco-indicator 99, (E,E) (superseded)', 'ecosystem quality', 'total'),\n",
       " ('eco-indicator 99, (E,E) (superseded)', 'total', 'total'),\n",
       " ('eco-indicator 99, (E,E) w/o LT (superseded)',\n",
       "  'ecosystem quality w/o LT',\n",
       "  'acidification & eutrophication w/o LT'),\n",
       " ('eco-indicator 99, (E,E) w/o LT (superseded)',\n",
       "  'ecosystem quality w/o LT',\n",
       "  'ecotoxicity w/o LT'),\n",
       " ('eco-indicator 99, (E,E) w/o LT (superseded)',\n",
       "  'ecosystem quality w/o LT',\n",
       "  'land occupation w/o LT'),\n",
       " ('eco-indicator 99, (E,E) w/o LT (superseded)',\n",
       "  'human health w/o LT',\n",
       "  'carcinogenics w/o LT'),\n",
       " ('eco-indicator 99, (E,E) w/o LT (superseded)',\n",
       "  'human health w/o LT',\n",
       "  'ionising radiation w/o LT'),\n",
       " ('eco-indicator 99, (E,E) w/o LT (superseded)',\n",
       "  'human health w/o LT',\n",
       "  'climate change w/o LT'),\n",
       " ('eco-indicator 99, (E,E) w/o LT (superseded)',\n",
       "  'human health w/o LT',\n",
       "  'respiratory effects w/o LT'),\n",
       " ('eco-indicator 99, (E,E) w/o LT (superseded)',\n",
       "  'human health w/o LT',\n",
       "  'ozone layer depletion w/o LT'),\n",
       " ('eco-indicator 99, (E,E) w/o LT (superseded)',\n",
       "  'resources w/o LT',\n",
       "  'mineral extraction w/o LT'),\n",
       " ('eco-indicator 99, (E,E) w/o LT (superseded)',\n",
       "  'resources w/o LT',\n",
       "  'fossil fuels w/o LT'),\n",
       " ('eco-indicator 99, (E,E) w/o LT (superseded)',\n",
       "  'total w/o LT',\n",
       "  'total w/o LT'),\n",
       " ('eco-indicator 99, (E,E) w/o LT (superseded)',\n",
       "  'resources w/o LT',\n",
       "  'total w/o LT'),\n",
       " ('eco-indicator 99, (E,E) w/o LT (superseded)',\n",
       "  'human health w/o LT',\n",
       "  'total w/o LT'),\n",
       " ('eco-indicator 99, (E,E) w/o LT (superseded)',\n",
       "  'ecosystem quality w/o LT',\n",
       "  'total w/o LT'),\n",
       " ('eco-indicator 99, (H,A) (superseded)',\n",
       "  'ecosystem quality',\n",
       "  'acidification & eutrophication'),\n",
       " ('eco-indicator 99, (H,A) (superseded)',\n",
       "  'ecosystem quality',\n",
       "  'land occupation'),\n",
       " ('eco-indicator 99, (H,A) (superseded)', 'ecosystem quality', 'ecotoxicity'),\n",
       " ('eco-indicator 99, (H,A) (superseded)', 'human health', 'climate change'),\n",
       " ('eco-indicator 99, (H,A) (superseded)',\n",
       "  'human health',\n",
       "  'respiratory effects'),\n",
       " ('eco-indicator 99, (H,A) (superseded)',\n",
       "  'human health',\n",
       "  'ozone layer depletion'),\n",
       " ('eco-indicator 99, (H,A) (superseded)',\n",
       "  'human health',\n",
       "  'ionising radiation'),\n",
       " ('eco-indicator 99, (H,A) (superseded)', 'human health', 'carcinogenics'),\n",
       " ('eco-indicator 99, (H,A) (superseded)', 'resources', 'mineral extraction'),\n",
       " ('eco-indicator 99, (H,A) (superseded)', 'resources', 'fossil fuels'),\n",
       " ('eco-indicator 99, (H,A) (superseded)', 'human health', 'total'),\n",
       " ('eco-indicator 99, (H,A) (superseded)', 'total', 'total'),\n",
       " ('eco-indicator 99, (H,A) (superseded)', 'resources', 'total'),\n",
       " ('eco-indicator 99, (H,A) (superseded)', 'ecosystem quality', 'total'),\n",
       " ('eco-indicator 99, (H,A) w/o LT (superseded)',\n",
       "  'ecosystem quality w/o LT',\n",
       "  'acidification & eutrophication w/o LT'),\n",
       " ('eco-indicator 99, (H,A) w/o LT (superseded)',\n",
       "  'ecosystem quality w/o LT',\n",
       "  'ecotoxicity w/o LT'),\n",
       " ('eco-indicator 99, (H,A) w/o LT (superseded)',\n",
       "  'ecosystem quality w/o LT',\n",
       "  'land occupation w/o LT'),\n",
       " ('eco-indicator 99, (H,A) w/o LT (superseded)',\n",
       "  'human health w/o LT',\n",
       "  'carcinogenics w/o LT'),\n",
       " ('eco-indicator 99, (H,A) w/o LT (superseded)',\n",
       "  'human health w/o LT',\n",
       "  'ionising radiation w/o LT'),\n",
       " ('eco-indicator 99, (H,A) w/o LT (superseded)',\n",
       "  'human health w/o LT',\n",
       "  'climate change w/o LT'),\n",
       " ('eco-indicator 99, (H,A) w/o LT (superseded)',\n",
       "  'human health w/o LT',\n",
       "  'respiratory effects w/o LT'),\n",
       " ('eco-indicator 99, (H,A) w/o LT (superseded)',\n",
       "  'human health w/o LT',\n",
       "  'ozone layer depletion w/o LT'),\n",
       " ('eco-indicator 99, (H,A) w/o LT (superseded)',\n",
       "  'resources w/o LT',\n",
       "  'mineral extraction w/o LT'),\n",
       " ('eco-indicator 99, (H,A) w/o LT (superseded)',\n",
       "  'resources w/o LT',\n",
       "  'fossil fuels w/o LT'),\n",
       " ('eco-indicator 99, (H,A) w/o LT (superseded)',\n",
       "  'human health w/o LT',\n",
       "  'total w/o LT'),\n",
       " ('eco-indicator 99, (H,A) w/o LT (superseded)',\n",
       "  'resources w/o LT',\n",
       "  'total w/o LT'),\n",
       " ('eco-indicator 99, (H,A) w/o LT (superseded)',\n",
       "  'ecosystem quality w/o LT',\n",
       "  'total w/o LT'),\n",
       " ('eco-indicator 99, (H,A) w/o LT (superseded)',\n",
       "  'total w/o LT',\n",
       "  'total w/o LT'),\n",
       " ('eco-indicator 99, (I,I) (superseded)',\n",
       "  'ecosystem quality',\n",
       "  'acidification & eutrophication'),\n",
       " ('eco-indicator 99, (I,I) (superseded)',\n",
       "  'ecosystem quality',\n",
       "  'land occupation'),\n",
       " ('eco-indicator 99, (I,I) (superseded)', 'ecosystem quality', 'ecotoxicity'),\n",
       " ('eco-indicator 99, (I,I) (superseded)', 'human health', 'climate change'),\n",
       " ('eco-indicator 99, (I,I) (superseded)',\n",
       "  'human health',\n",
       "  'respiratory effects'),\n",
       " ('eco-indicator 99, (I,I) (superseded)',\n",
       "  'human health',\n",
       "  'ozone layer depletion'),\n",
       " ('eco-indicator 99, (I,I) (superseded)',\n",
       "  'human health',\n",
       "  'ionising radiation'),\n",
       " ('eco-indicator 99, (I,I) (superseded)', 'human health', 'carcinogenics'),\n",
       " ('eco-indicator 99, (I,I) (superseded)', 'resources', 'mineral extraction'),\n",
       " ('eco-indicator 99, (I,I) (superseded)', 'human health', 'total'),\n",
       " ('eco-indicator 99, (I,I) (superseded)', 'total', 'total'),\n",
       " ('eco-indicator 99, (I,I) (superseded)', 'resources', 'total'),\n",
       " ('eco-indicator 99, (I,I) (superseded)', 'ecosystem quality', 'total'),\n",
       " ('ecological footprint', 'total', 'nuclear'),\n",
       " ('ecological footprint', 'total', 'CO2'),\n",
       " ('ecological footprint', 'total', 'land occupation'),\n",
       " ('ecological footprint', 'total', 'total'),\n",
       " ('ecological scarcity 1997 (superseded)', 'total', 'deposited waste'),\n",
       " ('ecological scarcity 1997 (superseded)',\n",
       "  'total',\n",
       "  'emission into top-soil/groundwater'),\n",
       " ('ecological scarcity 1997 (superseded)', 'total', 'radioactive waste'),\n",
       " ('ecological scarcity 1997 (superseded)', 'total', 'use of energy resources'),\n",
       " ('ecological scarcity 1997 (superseded)', 'total', 'emission into water'),\n",
       " ('ecological scarcity 1997 (superseded)', 'total', 'emission into air'),\n",
       " ('ecological scarcity 1997 (superseded)', 'total', 'total'),\n",
       " ('ecological scarcity 2006 (superseded)', 'total', 'energy resources'),\n",
       " ('ecological scarcity 2006 (superseded)',\n",
       "  'total',\n",
       "  'emission into groundwater'),\n",
       " ('ecological scarcity 2006 (superseded)',\n",
       "  'total',\n",
       "  'emission into surface water'),\n",
       " ('ecological scarcity 2006 (superseded)', 'total', 'deposited waste'),\n",
       " ('ecological scarcity 2006 (superseded)', 'total', 'emission into air'),\n",
       " ('ecological scarcity 2006 (superseded)', 'total', 'emission into top soil'),\n",
       " ('ecological scarcity 2006 (superseded)', 'total', 'natural resources'),\n",
       " ('ecological scarcity 2006 (superseded)', 'total', 'total'),\n",
       " ('ecological scarcity 2013 no LT', 'water pollutants', 'total'),\n",
       " ('ecological scarcity 2013 no LT',\n",
       "  'non radioactive waste to deposit',\n",
       "  'total'),\n",
       " ('ecological scarcity 2013 no LT', 'heavy metals into air', 'total'),\n",
       " ('ecological scarcity 2013 no LT', 'water resources', 'total'),\n",
       " ('ecological scarcity 2013 no LT', 'heavy metals into soil', 'total'),\n",
       " ('ecological scarcity 2013 no LT', 'radioactive waste to deposit', 'total'),\n",
       " ('ecological scarcity 2013 no LT', 'ozone layer depletion', 'total'),\n",
       " ('ecological scarcity 2013 no LT', 'total', 'total'),\n",
       " ('ecological scarcity 2013 no LT', 'pesticides into soil', 'total'),\n",
       " ('ecological scarcity 2013 no LT',\n",
       "  'radioactive substances into air',\n",
       "  'total'),\n",
       " ('ecological scarcity 2013 no LT', 'land use', 'total'),\n",
       " ('ecological scarcity 2013 no LT',\n",
       "  'carcinogenic substances into air',\n",
       "  'total'),\n",
       " ('ecological scarcity 2013 no LT',\n",
       "  'radioactive substances into water',\n",
       "  'total'),\n",
       " ('ecological scarcity 2013 no LT', 'mineral resources', 'total'),\n",
       " ('ecological scarcity 2013 no LT', 'main air pollutants and PM', 'total'),\n",
       " ('ecological scarcity 2013 no LT', 'heavy metals into water', 'total'),\n",
       " ('ecological scarcity 2013 no LT', 'POP into water', 'total'),\n",
       " ('ecological scarcity 2013 no LT', 'energy resources', 'total'),\n",
       " ('ecological scarcity 2013 no LT', 'global warming', 'total'),\n",
       " ('ecological scarcity 2013', 'water pollutants', 'total'),\n",
       " ('ecological scarcity 2013', 'non radioactive waste to deposit', 'total'),\n",
       " ('ecological scarcity 2013', 'heavy metals into air', 'total'),\n",
       " ('ecological scarcity 2013', 'water resources', 'total'),\n",
       " ('ecological scarcity 2013', 'heavy metals into soil', 'total'),\n",
       " ('ecological scarcity 2013', 'radioactive waste to deposit', 'total'),\n",
       " ('ecological scarcity 2013', 'ozone layer depletion', 'total'),\n",
       " ('ecological scarcity 2013', 'total', 'total'),\n",
       " ('ecological scarcity 2013', 'pesticides into soil', 'total'),\n",
       " ('ecological scarcity 2013', 'radioactive substances into air', 'total'),\n",
       " ('ecological scarcity 2013', 'land use', 'total'),\n",
       " ('ecological scarcity 2013', 'carcinogenic substances into air', 'total'),\n",
       " ('ecological scarcity 2013', 'radioactive substances into water', 'total'),\n",
       " ('ecological scarcity 2013', 'mineral resources', 'total'),\n",
       " ('ecological scarcity 2013', 'main air pollutants and PM', 'total'),\n",
       " ('ecological scarcity 2013', 'heavy metals into water', 'total'),\n",
       " ('ecological scarcity 2013', 'POP into water', 'total'),\n",
       " ('ecological scarcity 2013', 'energy resources', 'total'),\n",
       " ('ecological scarcity 2013', 'global warming', 'total'),\n",
       " ('ecosystem damage potential', 'total', 'linear, land transformation'),\n",
       " ('ecosystem damage potential', 'total', 'linear, land use, total'),\n",
       " ('ecosystem damage potential', 'total', 'linear, land occupation'),\n",
       " ('EDIP (superseded)',\n",
       "  'resource consumption',\n",
       "  'non-renewable resources, manganese'),\n",
       " ('EDIP (superseded)',\n",
       "  'resource consumption',\n",
       "  'non-renewable resources, silver'),\n",
       " ('EDIP (superseded)',\n",
       "  'resource consumption',\n",
       "  'non-renewable resources, cobalt'),\n",
       " ('EDIP (superseded)',\n",
       "  'resource consumption',\n",
       "  'non-renewable resources, cerium'),\n",
       " ('EDIP (superseded)',\n",
       "  'resource consumption',\n",
       "  'non-renewable resources, zinc'),\n",
       " ('EDIP (superseded)', 'resource consumption', 'non-renewable resources, oil'),\n",
       " ('EDIP (superseded)',\n",
       "  'resource consumption',\n",
       "  'non-renewable resources, aluminium'),\n",
       " ('EDIP (superseded)',\n",
       "  'resource consumption',\n",
       "  'non-renewable resources, gold'),\n",
       " ('EDIP (superseded)',\n",
       "  'resource consumption',\n",
       "  'non-renewable resources, mercury'),\n",
       " ('EDIP (superseded)',\n",
       "  'resource consumption',\n",
       "  'non-renewable resources, cadmium'),\n",
       " ('EDIP (superseded)',\n",
       "  'resource consumption',\n",
       "  'non-renewable resources, tantalum'),\n",
       " ('EDIP (superseded)',\n",
       "  'resource consumption',\n",
       "  'non-renewable resources, palladium'),\n",
       " ('EDIP (superseded)',\n",
       "  'resource consumption',\n",
       "  'non-renewable resources, natural gas'),\n",
       " ('EDIP (superseded)',\n",
       "  'resource consumption',\n",
       "  'non-renewable resources, nickel'),\n",
       " ('EDIP (superseded)',\n",
       "  'resource consumption',\n",
       "  'non-renewable resources, lanthanum'),\n",
       " ('EDIP (superseded)',\n",
       "  'resource consumption',\n",
       "  'non-renewable resources, copper'),\n",
       " ('EDIP (superseded)',\n",
       "  'resource consumption',\n",
       "  'non-renewable resources, antimony'),\n",
       " ('EDIP (superseded)',\n",
       "  'resource consumption',\n",
       "  'non-renewable resources, lead'),\n",
       " ('EDIP (superseded)',\n",
       "  'resource consumption',\n",
       "  'non-renewable resources, coal'),\n",
       " ('EDIP (superseded)',\n",
       "  'resource consumption',\n",
       "  'non-renewable resources, platinum'),\n",
       " ('EDIP (superseded)',\n",
       "  'resource consumption',\n",
       "  'non-renewable resources, molybdenum'),\n",
       " ('EDIP (superseded)',\n",
       "  'resource consumption',\n",
       "  'non-renewable resources, iron'),\n",
       " ('EDIP (superseded)', 'resource consumption', 'non-renewable resources, tin'),\n",
       " ('EDIP (superseded)',\n",
       "  'resource consumption',\n",
       "  'non-renewable resources, brown coal'),\n",
       " ('EDIP (superseded)', 'resource consumption', 'renewable resources, wood'),\n",
       " ('EDIP (superseded)',\n",
       "  'environmental impact',\n",
       "  'human toxicity, via surface water'),\n",
       " ('EDIP (superseded)',\n",
       "  'environmental impact',\n",
       "  'ecotoxicity, chronic, in soil'),\n",
       " ('EDIP (superseded)', 'environmental impact', 'global warming, GWP 500a'),\n",
       " ('EDIP (superseded)', 'environmental impact', 'global warming, GWP 20a'),\n",
       " ('EDIP (superseded)', 'environmental impact', 'human toxicity, via soil'),\n",
       " ('EDIP (superseded)',\n",
       "  'environmental impact',\n",
       "  'nutrient enrichment, separate P potential'),\n",
       " ('EDIP (superseded)',\n",
       "  'environmental impact',\n",
       "  'ecotoxicity, chronic, in water'),\n",
       " ('EDIP (superseded)',\n",
       "  'environmental impact',\n",
       "  'stratospheric ozone depletion, ODP steady state'),\n",
       " ('EDIP (superseded)',\n",
       "  'environmental impact',\n",
       "  'stratospheric ozone depletion, ODP 100a'),\n",
       " ('EDIP (superseded)',\n",
       "  'environmental impact',\n",
       "  'stratospheric ozone depletion, ODP 20a'),\n",
       " ('EDIP (superseded)',\n",
       "  'environmental impact',\n",
       "  'photochemical ozone formation, high NOx POCP'),\n",
       " ('EDIP (superseded)', 'environmental impact', 'acidification'),\n",
       " ('EDIP (superseded)', 'environmental impact', 'land filling, bulk waste'),\n",
       " ('EDIP (superseded)',\n",
       "  'environmental impact',\n",
       "  'land filling, radioactive waste'),\n",
       " ('EDIP (superseded)', 'environmental impact', 'human toxicity, via air'),\n",
       " ('EDIP (superseded)',\n",
       "  'environmental impact',\n",
       "  'stratospheric ozone depletion, ODP 5a'),\n",
       " ('EDIP (superseded)',\n",
       "  'environmental impact',\n",
       "  'nutrient enrichment, separate N potential'),\n",
       " ('EDIP (superseded)',\n",
       "  'environmental impact',\n",
       "  'photochemical ozone formation, low NOx POCP'),\n",
       " ('EDIP (superseded)',\n",
       "  'environmental impact',\n",
       "  'land filling, hazardous waste'),\n",
       " ('EDIP (superseded)', 'environmental impact', 'global warming, GWP 100a'),\n",
       " ('EDIP (superseded)',\n",
       "  'environmental impact',\n",
       "  'nutrient enrichment, combined potential'),\n",
       " ('EDIP (superseded)',\n",
       "  'environmental impact',\n",
       "  'ecotoxicity, in sewage treatment plants'),\n",
       " ('EDIP (superseded)', 'environmental impact', 'ecotoxicity, acute, in water'),\n",
       " ('EDIP (superseded)', 'environmental impact', 'land filling, slag and ashes'),\n",
       " ('EDIP w/o LT (superseded)',\n",
       "  'resource consumption w/o LT',\n",
       "  'non-renewable resources, iron w/o LT'),\n",
       " ('EDIP w/o LT (superseded)',\n",
       "  'resource consumption w/o LT',\n",
       "  'non-renewable resources, manganese w/o LT'),\n",
       " ('EDIP w/o LT (superseded)',\n",
       "  'resource consumption w/o LT',\n",
       "  'non-renewable resources, nickel w/o LT'),\n",
       " ('EDIP w/o LT (superseded)',\n",
       "  'resource consumption w/o LT',\n",
       "  'non-renewable resources, silver w/o LT'),\n",
       " ('EDIP w/o LT (superseded)',\n",
       "  'resource consumption w/o LT',\n",
       "  'non-renewable resources, tantalum w/o LT'),\n",
       " ('EDIP w/o LT (superseded)',\n",
       "  'resource consumption w/o LT',\n",
       "  'non-renewable resources, lanthanum w/o LT'),\n",
       " ('EDIP w/o LT (superseded)',\n",
       "  'resource consumption w/o LT',\n",
       "  'non-renewable resources, palladium w/o LT'),\n",
       " ('EDIP w/o LT (superseded)',\n",
       "  'resource consumption w/o LT',\n",
       "  'renewable resources, wood w/o LT'),\n",
       " ('EDIP w/o LT (superseded)',\n",
       "  'resource consumption w/o LT',\n",
       "  'non-renewable resources, lead w/o LT'),\n",
       " ('EDIP w/o LT (superseded)',\n",
       "  'resource consumption w/o LT',\n",
       "  'non-renewable resources, cerium w/o LT'),\n",
       " ('EDIP w/o LT (superseded)',\n",
       "  'resource consumption w/o LT',\n",
       "  'non-renewable resources, aluminium w/o LT'),\n",
       " ('EDIP w/o LT (superseded)',\n",
       "  'resource consumption w/o LT',\n",
       "  'non-renewable resources, cadmium w/o LT'),\n",
       " ('EDIP w/o LT (superseded)',\n",
       "  'resource consumption w/o LT',\n",
       "  'non-renewable resources, coal w/o LT'),\n",
       " ('EDIP w/o LT (superseded)',\n",
       "  'resource consumption w/o LT',\n",
       "  'non-renewable resources, brown coal w/o LT'),\n",
       " ('EDIP w/o LT (superseded)',\n",
       "  'resource consumption w/o LT',\n",
       "  'non-renewable resources, mercury w/o LT'),\n",
       " ('EDIP w/o LT (superseded)',\n",
       "  'resource consumption w/o LT',\n",
       "  'non-renewable resources, copper w/o LT'),\n",
       " ('EDIP w/o LT (superseded)',\n",
       "  'resource consumption w/o LT',\n",
       "  'non-renewable resources, oil w/o LT'),\n",
       " ('EDIP w/o LT (superseded)',\n",
       "  'resource consumption w/o LT',\n",
       "  'non-renewable resources, tin w/o LT'),\n",
       " ('EDIP w/o LT (superseded)',\n",
       "  'resource consumption w/o LT',\n",
       "  'non-renewable resources, antimony w/o LT'),\n",
       " ('EDIP w/o LT (superseded)',\n",
       "  'resource consumption w/o LT',\n",
       "  'non-renewable resources, molybdenum w/o LT'),\n",
       " ('EDIP w/o LT (superseded)',\n",
       "  'resource consumption w/o LT',\n",
       "  'non-renewable resources, cobalt w/o LT'),\n",
       " ('EDIP w/o LT (superseded)',\n",
       "  'resource consumption w/o LT',\n",
       "  'non-renewable resources, gold w/o LT'),\n",
       " ('EDIP w/o LT (superseded)',\n",
       "  'resource consumption w/o LT',\n",
       "  'non-renewable resources, natural gas w/o LT'),\n",
       " ('EDIP w/o LT (superseded)',\n",
       "  'resource consumption w/o LT',\n",
       "  'non-renewable resources, platinum w/o LT'),\n",
       " ('EDIP w/o LT (superseded)',\n",
       "  'resource consumption w/o LT',\n",
       "  'non-renewable resources, zinc w/o LT'),\n",
       " ('EDIP w/o LT (superseded)',\n",
       "  'environmental impact w/o LT',\n",
       "  'human toxicity, via soil w/o LT'),\n",
       " ('EDIP w/o LT (superseded)',\n",
       "  'environmental impact w/o LT',\n",
       "  'nutrient enrichment, separate P potential w/o LT'),\n",
       " ('EDIP w/o LT (superseded)',\n",
       "  'environmental impact w/o LT',\n",
       "  'ecotoxicity, acute, in water w/o LT'),\n",
       " ('EDIP w/o LT (superseded)',\n",
       "  'environmental impact w/o LT',\n",
       "  'global warming, GWP 100a w/o LT'),\n",
       " ('EDIP w/o LT (superseded)',\n",
       "  'environmental impact w/o LT',\n",
       "  'land filling, slag and ashes w/o LT'),\n",
       " ('EDIP w/o LT (superseded)',\n",
       "  'environmental impact w/o LT',\n",
       "  'human toxicity, via surface water w/o LT'),\n",
       " ('EDIP w/o LT (superseded)',\n",
       "  'environmental impact w/o LT',\n",
       "  'global warming, GWP 20a w/o LT'),\n",
       " ('EDIP w/o LT (superseded)',\n",
       "  'environmental impact w/o LT',\n",
       "  'ecotoxicity, chronic, in soil w/o LT'),\n",
       " ('EDIP w/o LT (superseded)',\n",
       "  'environmental impact w/o LT',\n",
       "  'land filling, bulk waste w/o LT'),\n",
       " ('EDIP w/o LT (superseded)',\n",
       "  'environmental impact w/o LT',\n",
       "  'ecotoxicity, chronic, in water w/o LT'),\n",
       " ('EDIP w/o LT (superseded)',\n",
       "  'environmental impact w/o LT',\n",
       "  'land filling, hazardous waste w/o LT'),\n",
       " ('EDIP w/o LT (superseded)',\n",
       "  'environmental impact w/o LT',\n",
       "  'ecotoxicity, in sewage treatment plants w/o LT'),\n",
       " ('EDIP w/o LT (superseded)',\n",
       "  'environmental impact w/o LT',\n",
       "  'photochemical ozone formation, high NOx POCP w/o LT'),\n",
       " ('EDIP w/o LT (superseded)',\n",
       "  'environmental impact w/o LT',\n",
       "  'acidification w/o LT'),\n",
       " ('EDIP w/o LT (superseded)',\n",
       "  'environmental impact w/o LT',\n",
       "  'nutrient enrichment, separate N potential w/o LT'),\n",
       " ('EDIP w/o LT (superseded)',\n",
       "  'environmental impact w/o LT',\n",
       "  'nutrient enrichment, combined potential w/o LT'),\n",
       " ('EDIP w/o LT (superseded)',\n",
       "  'environmental impact w/o LT',\n",
       "  'stratospheric ozone depletion, ODP 5a w/o LT'),\n",
       " ('EDIP w/o LT (superseded)',\n",
       "  'environmental impact w/o LT',\n",
       "  'global warming, GWP 500a w/o LT'),\n",
       " ('EDIP w/o LT (superseded)',\n",
       "  'environmental impact w/o LT',\n",
       "  'land filling, radioactive waste w/o LT'),\n",
       " ('EDIP w/o LT (superseded)',\n",
       "  'environmental impact w/o LT',\n",
       "  'stratospheric ozone depletion, ODP 20a w/o LT'),\n",
       " ('EDIP w/o LT (superseded)',\n",
       "  'environmental impact w/o LT',\n",
       "  'stratospheric ozone depletion, ODP 100a w/o LT'),\n",
       " ('EDIP w/o LT (superseded)',\n",
       "  'environmental impact w/o LT',\n",
       "  'photochemical ozone formation, low NOx POCP w/o LT'),\n",
       " ('EDIP w/o LT (superseded)',\n",
       "  'environmental impact w/o LT',\n",
       "  'stratospheric ozone depletion, ODP steady state w/o LT'),\n",
       " ('EDIP w/o LT (superseded)',\n",
       "  'environmental impact w/o LT',\n",
       "  'human toxicity, via air w/o LT'),\n",
       " ('EDIP2003 w/o LT', 'land filling w/o LT', 'radioactive waste w/o LT'),\n",
       " ('EDIP2003 w/o LT', 'land filling w/o LT', 'slag and ashes w/o LT'),\n",
       " ('EDIP2003 w/o LT', 'land filling w/o LT', 'hazardous waste w/o LT'),\n",
       " ('EDIP2003 w/o LT', 'land filling w/o LT', 'bulk waste w/o LT'),\n",
       " ('EDIP2003 w/o LT', 'non-renewable resources w/o LT', 'cadmium w/o LT'),\n",
       " ('EDIP2003 w/o LT', 'non-renewable resources w/o LT', 'oil w/o LT'),\n",
       " ('EDIP2003 w/o LT', 'non-renewable resources w/o LT', 'coal w/o LT'),\n",
       " ('EDIP2003 w/o LT', 'non-renewable resources w/o LT', 'copper w/o LT'),\n",
       " ('EDIP2003 w/o LT', 'non-renewable resources w/o LT', 'tin w/o LT'),\n",
       " ('EDIP2003 w/o LT', 'non-renewable resources w/o LT', 'gold w/o LT'),\n",
       " ('EDIP2003 w/o LT', 'non-renewable resources w/o LT', 'tantalum w/o LT'),\n",
       " ('EDIP2003 w/o LT', 'non-renewable resources w/o LT', 'brown coal w/o LT'),\n",
       " ('EDIP2003 w/o LT', 'non-renewable resources w/o LT', 'iron w/o LT'),\n",
       " ('EDIP2003 w/o LT', 'non-renewable resources w/o LT', 'molybdenum w/o LT'),\n",
       " ('EDIP2003 w/o LT', 'non-renewable resources w/o LT', 'mercury w/o LT'),\n",
       " ('EDIP2003 w/o LT', 'non-renewable resources w/o LT', 'lead w/o LT'),\n",
       " ('EDIP2003 w/o LT', 'non-renewable resources w/o LT', 'cobalt w/o LT'),\n",
       " ('EDIP2003 w/o LT', 'non-renewable resources w/o LT', 'zinc w/o LT'),\n",
       " ('EDIP2003 w/o LT', 'non-renewable resources w/o LT', 'natural gas w/o LT'),\n",
       " ('EDIP2003 w/o LT', 'non-renewable resources w/o LT', 'nickel w/o LT'),\n",
       " ('EDIP2003 w/o LT', 'non-renewable resources w/o LT', 'aluminium w/o LT'),\n",
       " ('EDIP2003 w/o LT', 'non-renewable resources w/o LT', 'cerium w/o LT'),\n",
       " ('EDIP2003 w/o LT', 'non-renewable resources w/o LT', 'antimony w/o LT'),\n",
       " ('EDIP2003 w/o LT', 'non-renewable resources w/o LT', 'manganese w/o LT'),\n",
       " ('EDIP2003 w/o LT', 'non-renewable resources w/o LT', 'lanthanum w/o LT'),\n",
       " ('EDIP2003 w/o LT', 'non-renewable resources w/o LT', 'palladium w/o LT'),\n",
       " ('EDIP2003 w/o LT', 'non-renewable resources w/o LT', 'silver w/o LT'),\n",
       " ('EDIP2003 w/o LT', 'non-renewable resources w/o LT', 'platinum w/o LT'),\n",
       " ('EDIP2003 w/o LT', 'acidification w/o LT', 'acidification w/o LT'),\n",
       " ('EDIP2003 w/o LT', 'human toxicity w/o LT', 'via air w/o LT'),\n",
       " ('EDIP2003 w/o LT', 'human toxicity w/o LT', 'via soil w/o LT'),\n",
       " ('EDIP2003 w/o LT', 'human toxicity w/o LT', 'via surface water w/o LT'),\n",
       " ('EDIP2003 w/o LT', 'renewable resources w/o LT', 'wood w/o LT'),\n",
       " ('EDIP2003 w/o LT', 'ecotoxicity w/o LT', 'chronic, in water w/o LT'),\n",
       " ('EDIP2003 w/o LT', 'ecotoxicity w/o LT', 'chronic, in soil w/o LT'),\n",
       " ('EDIP2003 w/o LT', 'ecotoxicity w/o LT', 'acute, in water w/o LT'),\n",
       " ('EDIP2003 w/o LT',\n",
       "  'ecotoxicity w/o LT',\n",
       "  'in sewage treatment plants w/o LT'),\n",
       " ('EDIP2003 w/o LT',\n",
       "  'stratospheric ozone depletion w/o LT',\n",
       "  'ODP total w/o LT'),\n",
       " ('EDIP2003 w/o LT',\n",
       "  'eutrophication w/o LT',\n",
       "  'terrestrial eutrophication w/o LT'),\n",
       " ('EDIP2003 w/o LT', 'eutrophication w/o LT', 'separate N potential w/o LT'),\n",
       " ('EDIP2003 w/o LT', 'eutrophication w/o LT', 'separate P potential w/o LT'),\n",
       " ('EDIP2003 w/o LT', 'eutrophication w/o LT', 'combined potential w/o LT'),\n",
       " ('EDIP2003 w/o LT',\n",
       "  'photochemical ozone formation w/o LT',\n",
       "  'impacts on human health w/o LT'),\n",
       " ('EDIP2003 w/o LT',\n",
       "  'photochemical ozone formation w/o LT',\n",
       "  'impacts on vegetation w/o LT'),\n",
       " ('EDIP2003 w/o LT', 'global warming w/o LT', 'GWP 100a w/o LT'),\n",
       " ('EDIP2003 w/o LT', 'global warming w/o LT', 'GWP 20a w/o LT'),\n",
       " ('EDIP2003 w/o LT', 'global warming w/o LT', 'GWP 500a w/o LT'),\n",
       " ('EDIP2003', 'eutrophication', 'terrestrial eutrophication'),\n",
       " ('EDIP2003', 'eutrophication', 'separate P potential'),\n",
       " ('EDIP2003', 'eutrophication', 'combined potential'),\n",
       " ('EDIP2003', 'eutrophication', 'separate N potential'),\n",
       " ('EDIP2003', 'human toxicity', 'via air'),\n",
       " ('EDIP2003', 'human toxicity', 'via soil'),\n",
       " ('EDIP2003', 'human toxicity', 'via surface water'),\n",
       " ('EDIP2003', 'global warming', 'GWP 500a'),\n",
       " ('EDIP2003', 'global warming', 'GWP 20a'),\n",
       " ('EDIP2003', 'global warming', 'GWP 100a'),\n",
       " ('EDIP2003', 'ecotoxicity', 'chronic, in soil'),\n",
       " ('EDIP2003', 'ecotoxicity', 'chronic, in water'),\n",
       " ('EDIP2003', 'ecotoxicity', 'in sewage treatment plants'),\n",
       " ('EDIP2003', 'ecotoxicity', 'acute, in water'),\n",
       " ('EDIP2003', 'stratospheric ozone depletion', 'ODP total'),\n",
       " ('EDIP2003', 'land filling', 'bulk waste'),\n",
       " ('EDIP2003', 'land filling', 'radioactive waste'),\n",
       " ('EDIP2003', 'land filling', 'hazardous waste'),\n",
       " ('EDIP2003', 'land filling', 'slag and ashes'),\n",
       " ('EDIP2003', 'photochemical ozone formation', 'impacts on human health'),\n",
       " ('EDIP2003', 'photochemical ozone formation', 'impacts on vegetation'),\n",
       " ('EDIP2003', 'renewable resources', 'wood'),\n",
       " ('EDIP2003', 'acidification', 'acidification'),\n",
       " ('EDIP2003', 'non-renewable resources', 'copper'),\n",
       " ('EDIP2003', 'non-renewable resources', 'aluminium'),\n",
       " ('EDIP2003', 'non-renewable resources', 'gold'),\n",
       " ('EDIP2003', 'non-renewable resources', 'natural gas'),\n",
       " ('EDIP2003', 'non-renewable resources', 'cobalt'),\n",
       " ('EDIP2003', 'non-renewable resources', 'zinc'),\n",
       " ('EDIP2003', 'non-renewable resources', 'mercury'),\n",
       " ('EDIP2003', 'non-renewable resources', 'antimony'),\n",
       " ('EDIP2003', 'non-renewable resources', 'lead'),\n",
       " ('EDIP2003', 'non-renewable resources', 'tin'),\n",
       " ('EDIP2003', 'non-renewable resources', 'cerium'),\n",
       " ('EDIP2003', 'non-renewable resources', 'platinum'),\n",
       " ('EDIP2003', 'non-renewable resources', 'oil'),\n",
       " ('EDIP2003', 'non-renewable resources', 'nickel'),\n",
       " ('EDIP2003', 'non-renewable resources', 'cadmium'),\n",
       " ('EDIP2003', 'non-renewable resources', 'palladium'),\n",
       " ('EDIP2003', 'non-renewable resources', 'silver'),\n",
       " ('EDIP2003', 'non-renewable resources', 'molybdenum'),\n",
       " ('EDIP2003', 'non-renewable resources', 'lanthanum'),\n",
       " ('EDIP2003', 'non-renewable resources', 'brown coal'),\n",
       " ('EDIP2003', 'non-renewable resources', 'manganese'),\n",
       " ('EDIP2003', 'non-renewable resources', 'coal'),\n",
       " ('EDIP2003', 'non-renewable resources', 'tantalum'),\n",
       " ('EDIP2003', 'non-renewable resources', 'iron'),\n",
       " ('EF v2.0 2018 no LT',\n",
       "  'climate change: biogenic no LT',\n",
       "  'global warming potential (GWP100) no LT'),\n",
       " ('EF v2.0 2018 no LT',\n",
       "  'climate change: fossil no LT',\n",
       "  'global warming potential (GWP100) no LT'),\n",
       " ('EF v2.0 2018 no LT',\n",
       "  'climate change: land use and land use change no LT',\n",
       "  'global warming potential (GWP100) no LT'),\n",
       " ('EF v2.0 2018 no LT',\n",
       "  'climate change no LT',\n",
       "  'global warming potential (GWP100) no LT'),\n",
       " ('EF v2.0 2018 no LT',\n",
       "  'acidification no LT',\n",
       "  'accumulated exceedance (ae) no LT'),\n",
       " ('EF v2.0 2018 no LT',\n",
       "  'ecotoxicity: freshwater no LT',\n",
       "  'comparative toxic unit for ecosystems (CTUe)  no LT'),\n",
       " ('EF v2.0 2018 no LT',\n",
       "  'eutrophication: freshwater no LT',\n",
       "  'fraction of nutrients reaching freshwater end compartment (P) no LT'),\n",
       " ('EF v2.0 2018 no LT',\n",
       "  'eutrophication: marine no LT',\n",
       "  'fraction of nutrients reaching marine end compartment (N) no LT'),\n",
       " ('EF v2.0 2018 no LT',\n",
       "  'eutrophication: terrestrial no LT',\n",
       "  'accumulated exceedance (AE)  no LT'),\n",
       " ('EF v2.0 2018 no LT',\n",
       "  'human toxicity: carcinogenic no LT',\n",
       "  'comparative toxic unit for human (CTUh)  no LT'),\n",
       " ('EF v2.0 2018 no LT',\n",
       "  'ionising radiation: human health no LT',\n",
       "  'human exposure efficiency relative to u235 no LT'),\n",
       " ('EF v2.0 2018 no LT',\n",
       "  'human toxicity: non-carcinogenic no LT',\n",
       "  'comparative toxic unit for human (CTUh)  no LT'),\n",
       " ('EF v2.0 2018 no LT',\n",
       "  'ozone depletion no LT',\n",
       "  'ozone depletion potential (ODP)  no LT'),\n",
       " ('EF v2.0 2018 no LT',\n",
       "  'photochemical ozone formation: human health no LT',\n",
       "  'tropospheric ozone concentration increase no LT'),\n",
       " ('EF v2.0 2018 no LT',\n",
       "  'particulate matter formation no LT',\n",
       "  'impact on human health no LT'),\n",
       " ('EF v2.0 2018 no LT',\n",
       "  'water use no LT',\n",
       "  'user deprivation potential (deprivation-weighted water consumption) no LT'),\n",
       " ('EF v2.0 2018 no LT',\n",
       "  'energy resources: non-renewable no LT',\n",
       "  'abiotic depletion potential (ADP): fossil fuels no LT'),\n",
       " ('EF v2.0 2018 no LT', 'land use no LT', 'soil quality index no LT'),\n",
       " ('EF v2.0 2018 no LT',\n",
       "  'material resources: metals/minerals no LT',\n",
       "  'abiotic depletion potential (ADP): elements (ultimate reserves) no LT'),\n",
       " ('EF v2.0 2018',\n",
       "  'climate change: biogenic',\n",
       "  'global warming potential (GWP100)'),\n",
       " ('EF v2.0 2018',\n",
       "  'climate change: fossil',\n",
       "  'global warming potential (GWP100)'),\n",
       " ('EF v2.0 2018',\n",
       "  'climate change: land use and land use change',\n",
       "  'global warming potential (GWP100)'),\n",
       " ('EF v2.0 2018', 'climate change', 'global warming potential (GWP100)'),\n",
       " ('EF v2.0 2018', 'acidification', 'accumulated exceedance (ae)'),\n",
       " ('EF v2.0 2018',\n",
       "  'ecotoxicity: freshwater',\n",
       "  'comparative toxic unit for ecosystems (CTUe) '),\n",
       " ('EF v2.0 2018',\n",
       "  'eutrophication: freshwater',\n",
       "  'fraction of nutrients reaching freshwater end compartment (P)'),\n",
       " ('EF v2.0 2018',\n",
       "  'eutrophication: marine',\n",
       "  'fraction of nutrients reaching marine end compartment (N)'),\n",
       " ('EF v2.0 2018',\n",
       "  'eutrophication: terrestrial',\n",
       "  'accumulated exceedance (AE) '),\n",
       " ('EF v2.0 2018',\n",
       "  'human toxicity: carcinogenic',\n",
       "  'comparative toxic unit for human (CTUh) '),\n",
       " ('EF v2.0 2018',\n",
       "  'ionising radiation: human health',\n",
       "  'human exposure efficiency relative to u235'),\n",
       " ('EF v2.0 2018',\n",
       "  'human toxicity: non-carcinogenic',\n",
       "  'comparative toxic unit for human (CTUh) '),\n",
       " ('EF v2.0 2018', 'ozone depletion', 'ozone depletion potential (ODP) '),\n",
       " ('EF v2.0 2018',\n",
       "  'photochemical ozone formation: human health',\n",
       "  'tropospheric ozone concentration increase'),\n",
       " ('EF v2.0 2018', 'particulate matter formation', 'impact on human health'),\n",
       " ('EF v2.0 2018',\n",
       "  'water use',\n",
       "  'user deprivation potential (deprivation-weighted water consumption)'),\n",
       " ('EF v2.0 2018',\n",
       "  'energy resources: non-renewable',\n",
       "  'abiotic depletion potential (ADP): fossil fuels'),\n",
       " ('EF v2.0 2018', 'land use', 'soil quality index'),\n",
       " ('EF v2.0 2018',\n",
       "  'material resources: metals/minerals',\n",
       "  'abiotic depletion potential (ADP): elements (ultimate reserves)'),\n",
       " ('EF v3.0 EN15804', 'acidification', 'accumulated exceedance (ae)'),\n",
       " ('EF v3.0 EN15804', 'climate change', 'global warming potential (GWP100)'),\n",
       " ('EF v3.0 EN15804',\n",
       "  'climate change: biogenic',\n",
       "  'global warming potential (GWP100)'),\n",
       " ('EF v3.0 EN15804',\n",
       "  'climate change: fossil',\n",
       "  'global warming potential (GWP100)'),\n",
       " ('EF v3.0 EN15804',\n",
       "  'climate change: land use and land use change',\n",
       "  'global warming potential (GWP100)'),\n",
       " ('EF v3.0 EN15804',\n",
       "  'ecotoxicity: freshwater',\n",
       "  'comparative toxic unit for ecosystems (CTUe) '),\n",
       " ('EF v3.0 EN15804', 'particulate matter formation', 'impact on human health'),\n",
       " ('EF v3.0 EN15804',\n",
       "  'eutrophication: marine',\n",
       "  'fraction of nutrients reaching marine end compartment (N)'),\n",
       " ('EF v3.0 EN15804',\n",
       "  'eutrophication: freshwater',\n",
       "  'fraction of nutrients reaching freshwater end compartment (P)'),\n",
       " ('EF v3.0 EN15804',\n",
       "  'eutrophication: terrestrial',\n",
       "  'accumulated exceedance (AE) '),\n",
       " ('EF v3.0 EN15804',\n",
       "  'human toxicity: carcinogenic',\n",
       "  'comparative toxic unit for human (CTUh) '),\n",
       " ('EF v3.0 EN15804',\n",
       "  'human toxicity: non-carcinogenic',\n",
       "  'comparative toxic unit for human (CTUh) '),\n",
       " ('EF v3.0 EN15804',\n",
       "  'ionising radiation: human health',\n",
       "  'human exposure efficiency relative to u235'),\n",
       " ('EF v3.0 EN15804', 'land use', 'soil quality index'),\n",
       " ('EF v3.0 EN15804', 'ozone depletion', 'ozone depletion potential (ODP) '),\n",
       " ('EF v3.0 EN15804',\n",
       "  'photochemical ozone formation: human health',\n",
       "  'tropospheric ozone concentration increase'),\n",
       " ('EF v3.0 EN15804',\n",
       "  'energy resources: non-renewable',\n",
       "  'abiotic depletion potential (ADP): fossil fuels'),\n",
       " ('EF v3.0 EN15804',\n",
       "  'material resources: metals/minerals',\n",
       "  'abiotic depletion potential (ADP): elements (ultimate reserves)'),\n",
       " ('EF v3.0 EN15804',\n",
       "  'water use',\n",
       "  'user deprivation potential (deprivation-weighted water consumption)'),\n",
       " ('EF v3.0 no LT', 'acidification no LT', 'accumulated exceedance (ae) no LT'),\n",
       " ('EF v3.0 no LT',\n",
       "  'climate change no LT',\n",
       "  'global warming potential (GWP100) no LT'),\n",
       " ('EF v3.0 no LT',\n",
       "  'climate change: biogenic no LT',\n",
       "  'global warming potential (GWP100) no LT'),\n",
       " ('EF v3.0 no LT',\n",
       "  'climate change: fossil no LT',\n",
       "  'global warming potential (GWP100) no LT'),\n",
       " ('EF v3.0 no LT',\n",
       "  'climate change: land use and land use change no LT',\n",
       "  'global warming potential (GWP100) no LT'),\n",
       " ('EF v3.0 no LT',\n",
       "  'ecotoxicity: freshwater no LT',\n",
       "  'comparative toxic unit for ecosystems (CTUe)  no LT'),\n",
       " ('EF v3.0 no LT',\n",
       "  'ecotoxicity: freshwater, inorganics no LT',\n",
       "  'comparative toxic unit for ecosystems (CTUe)  no LT'),\n",
       " ('EF v3.0 no LT',\n",
       "  'ecotoxicity: freshwater, metals no LT',\n",
       "  'comparative toxic unit for ecosystems (CTUe)  no LT'),\n",
       " ('EF v3.0 no LT',\n",
       "  'ecotoxicity: freshwater, organics no LT',\n",
       "  'comparative toxic unit for ecosystems (CTUe)  no LT'),\n",
       " ('EF v3.0 no LT',\n",
       "  'energy resources: non-renewable no LT',\n",
       "  'abiotic depletion potential (ADP): fossil fuels no LT'),\n",
       " ('EF v3.0 no LT',\n",
       "  'eutrophication: freshwater no LT',\n",
       "  'fraction of nutrients reaching freshwater end compartment (P) no LT'),\n",
       " ('EF v3.0 no LT',\n",
       "  'eutrophication: marine no LT',\n",
       "  'fraction of nutrients reaching marine end compartment (N) no LT'),\n",
       " ('EF v3.0 no LT',\n",
       "  'eutrophication: terrestrial no LT',\n",
       "  'accumulated exceedance (AE)  no LT'),\n",
       " ('EF v3.0 no LT',\n",
       "  'human toxicity: carcinogenic no LT',\n",
       "  'comparative toxic unit for human (CTUh)  no LT'),\n",
       " ('EF v3.0 no LT',\n",
       "  'human toxicity: carcinogenic, inorganics no LT',\n",
       "  'comparative toxic unit for human (CTUh)  no LT'),\n",
       " ('EF v3.0 no LT',\n",
       "  'human toxicity: carcinogenic, metals no LT',\n",
       "  'comparative toxic unit for human (CTUh)  no LT'),\n",
       " ('EF v3.0 no LT',\n",
       "  'human toxicity: carcinogenic, organics no LT',\n",
       "  'comparative toxic unit for human (CTUh)  no LT'),\n",
       " ('EF v3.0 no LT',\n",
       "  'human toxicity: non-carcinogenic no LT',\n",
       "  'comparative toxic unit for human (CTUh)  no LT'),\n",
       " ('EF v3.0 no LT',\n",
       "  'human toxicity: non-carcinogenic, inorganics no LT',\n",
       "  'comparative toxic unit for human (CTUh)  no LT'),\n",
       " ('EF v3.0 no LT',\n",
       "  'human toxicity: non-carcinogenic, metals no LT',\n",
       "  'comparative toxic unit for human (CTUh)  no LT'),\n",
       " ('EF v3.0 no LT',\n",
       "  'human toxicity: non-carcinogenic, organics no LT',\n",
       "  'comparative toxic unit for human (CTUh)  no LT'),\n",
       " ('EF v3.0 no LT',\n",
       "  'ionising radiation: human health no LT',\n",
       "  'human exposure efficiency relative to u235 no LT'),\n",
       " ('EF v3.0 no LT', 'land use no LT', 'soil quality index no LT'),\n",
       " ('EF v3.0 no LT',\n",
       "  'material resources: metals/minerals no LT',\n",
       "  'abiotic depletion potential (ADP): elements (ultimate reserves) no LT'),\n",
       " ('EF v3.0 no LT',\n",
       "  'ozone depletion no LT',\n",
       "  'ozone depletion potential (ODP)  no LT'),\n",
       " ('EF v3.0 no LT',\n",
       "  'particulate matter formation no LT',\n",
       "  'impact on human health no LT'),\n",
       " ('EF v3.0 no LT',\n",
       "  'photochemical ozone formation: human health no LT',\n",
       "  'tropospheric ozone concentration increase no LT'),\n",
       " ('EF v3.0 no LT',\n",
       "  'water use no LT',\n",
       "  'user deprivation potential (deprivation-weighted water consumption) no LT'),\n",
       " ('EF v3.0', 'acidification', 'accumulated exceedance (ae)'),\n",
       " ('EF v3.0', 'climate change', 'global warming potential (GWP100)'),\n",
       " ('EF v3.0', 'climate change: biogenic', 'global warming potential (GWP100)'),\n",
       " ('EF v3.0', 'climate change: fossil', 'global warming potential (GWP100)'),\n",
       " ('EF v3.0',\n",
       "  'climate change: land use and land use change',\n",
       "  'global warming potential (GWP100)'),\n",
       " ('EF v3.0',\n",
       "  'ecotoxicity: freshwater',\n",
       "  'comparative toxic unit for ecosystems (CTUe) '),\n",
       " ('EF v3.0',\n",
       "  'ecotoxicity: freshwater, inorganics',\n",
       "  'comparative toxic unit for ecosystems (CTUe) '),\n",
       " ('EF v3.0',\n",
       "  'ecotoxicity: freshwater, metals',\n",
       "  'comparative toxic unit for ecosystems (CTUe) '),\n",
       " ('EF v3.0',\n",
       "  'ecotoxicity: freshwater, organics',\n",
       "  'comparative toxic unit for ecosystems (CTUe) '),\n",
       " ('EF v3.0',\n",
       "  'energy resources: non-renewable',\n",
       "  'abiotic depletion potential (ADP): fossil fuels'),\n",
       " ('EF v3.0',\n",
       "  'eutrophication: freshwater',\n",
       "  'fraction of nutrients reaching freshwater end compartment (P)'),\n",
       " ('EF v3.0',\n",
       "  'eutrophication: marine',\n",
       "  'fraction of nutrients reaching marine end compartment (N)'),\n",
       " ('EF v3.0', 'eutrophication: terrestrial', 'accumulated exceedance (AE) '),\n",
       " ('EF v3.0',\n",
       "  'human toxicity: carcinogenic',\n",
       "  'comparative toxic unit for human (CTUh) '),\n",
       " ('EF v3.0',\n",
       "  'human toxicity: carcinogenic, inorganics',\n",
       "  'comparative toxic unit for human (CTUh) '),\n",
       " ('EF v3.0',\n",
       "  'human toxicity: carcinogenic, metals',\n",
       "  'comparative toxic unit for human (CTUh) '),\n",
       " ('EF v3.0',\n",
       "  'human toxicity: carcinogenic, organics',\n",
       "  'comparative toxic unit for human (CTUh) '),\n",
       " ('EF v3.0',\n",
       "  'human toxicity: non-carcinogenic',\n",
       "  'comparative toxic unit for human (CTUh) '),\n",
       " ('EF v3.0',\n",
       "  'human toxicity: non-carcinogenic, inorganics',\n",
       "  'comparative toxic unit for human (CTUh) '),\n",
       " ('EF v3.0',\n",
       "  'human toxicity: non-carcinogenic, metals',\n",
       "  'comparative toxic unit for human (CTUh) '),\n",
       " ('EF v3.0',\n",
       "  'human toxicity: non-carcinogenic, organics',\n",
       "  'comparative toxic unit for human (CTUh) '),\n",
       " ('EF v3.0',\n",
       "  'ionising radiation: human health',\n",
       "  'human exposure efficiency relative to u235'),\n",
       " ('EF v3.0', 'land use', 'soil quality index'),\n",
       " ('EF v3.0',\n",
       "  'material resources: metals/minerals',\n",
       "  'abiotic depletion potential (ADP): elements (ultimate reserves)'),\n",
       " ('EF v3.0', 'ozone depletion', 'ozone depletion potential (ODP) '),\n",
       " ('EF v3.0', 'particulate matter formation', 'impact on human health'),\n",
       " ('EF v3.0',\n",
       "  'photochemical ozone formation: human health',\n",
       "  'tropospheric ozone concentration increase'),\n",
       " ('EF v3.0',\n",
       "  'water use',\n",
       "  'user deprivation potential (deprivation-weighted water consumption)'),\n",
       " ('EF1.0.8 midpoint (superseded)', 'human health', 'ozone layer depletion'),\n",
       " ('EF1.0.8 midpoint (superseded)',\n",
       "  'human health',\n",
       "  'respiratory effects, inorganics'),\n",
       " ('EF1.0.8 midpoint (superseded)', 'human health', 'ionising radiation'),\n",
       " ('EF1.0.8 midpoint (superseded)',\n",
       "  'ecosystem quality',\n",
       "  'terrestrial eutrophication'),\n",
       " ('EF1.0.8 midpoint (superseded)',\n",
       "  'ecosystem quality',\n",
       "  'freshwater eutrophication'),\n",
       " ('EF1.0.8 midpoint (superseded)',\n",
       "  'human health',\n",
       "  'photochemical ozone creation'),\n",
       " ('EF1.0.8 midpoint (superseded)',\n",
       "  'ecosystem quality',\n",
       "  'freshwater and terrestrial acidification'),\n",
       " ('EF1.0.8 midpoint (superseded)', 'resources', 'land use'),\n",
       " ('EF1.0.8 midpoint (superseded)',\n",
       "  'ecosystem quality',\n",
       "  'freshwater ecotoxicity'),\n",
       " ('EF1.0.8 midpoint (superseded)', 'climate change', 'GWP 100a'),\n",
       " ('EF1.0.8 midpoint (superseded)',\n",
       "  'resources',\n",
       "  'mineral, fossils and renewables'),\n",
       " ('EF1.0.8 midpoint (superseded)', 'human health', 'carcinogenic effects'),\n",
       " ('EF1.0.8 midpoint (superseded)',\n",
       "  'ecosystem quality',\n",
       "  'marine eutrophication'),\n",
       " ('EF1.0.8 midpoint (superseded)', 'human health', 'non-carcinogenic effects'),\n",
       " ('EF1.0.8 midpoint (superseded)', 'ecosystem quality', 'ionising radiation'),\n",
       " ('EF1.0.8 midpoint no LT (superseded)',\n",
       "  'human health',\n",
       "  'ozone layer depletion'),\n",
       " ('EF1.0.8 midpoint no LT (superseded)',\n",
       "  'human health',\n",
       "  'respiratory effects, inorganics'),\n",
       " ('EF1.0.8 midpoint no LT (superseded)', 'human health', 'ionising radiation'),\n",
       " ('EF1.0.8 midpoint no LT (superseded)', 'climate change', 'GWP 100a'),\n",
       " ('EF1.0.8 midpoint no LT (superseded)',\n",
       "  'ecosystem quality',\n",
       "  'freshwater eutrophication'),\n",
       " ('EF1.0.8 midpoint no LT (superseded)',\n",
       "  'human health',\n",
       "  'photochemical ozone creation'),\n",
       " ('EF1.0.8 midpoint no LT (superseded)',\n",
       "  'ecosystem quality',\n",
       "  'freshwater and terrestrial acidification'),\n",
       " ('EF1.0.8 midpoint no LT (superseded)', 'resources', 'land use'),\n",
       " ('EF1.0.8 midpoint no LT (superseded)',\n",
       "  'ecosystem quality',\n",
       "  'freshwater ecotoxicity'),\n",
       " ('EF1.0.8 midpoint no LT (superseded)',\n",
       "  'ecosystem quality',\n",
       "  'terrestrial eutrophication'),\n",
       " ('EF1.0.8 midpoint no LT (superseded)',\n",
       "  'resources',\n",
       "  'mineral, fossils and renewables'),\n",
       " ('EF1.0.8 midpoint no LT (superseded)',\n",
       "  'human health',\n",
       "  'carcinogenic effects'),\n",
       " ('EF1.0.8 midpoint no LT (superseded)',\n",
       "  'ecosystem quality',\n",
       "  'marine eutrophication'),\n",
       " ('EF1.0.8 midpoint no LT (superseded)',\n",
       "  'human health',\n",
       "  'non-carcinogenic effects'),\n",
       " ('EF1.0.8 midpoint no LT (superseded)',\n",
       "  'ecosystem quality',\n",
       "  'ionising radiation'),\n",
       " ('EPS 2000', 'total', 'emissions into air'),\n",
       " ('EPS 2000', 'total', 'emissions into soil'),\n",
       " ('EPS 2000', 'total', 'emissions into water'),\n",
       " ('EPS 2000', 'total', 'abiotic stock resources'),\n",
       " ('EPS 2000', 'total', 'land occupation'),\n",
       " ('EPS 2000', 'total', 'total'),\n",
       " ('IMPACT 2002+ (Endpoint)', 'climate change', 'climate change'),\n",
       " ('IMPACT 2002+ (Endpoint)', 'ecosystem quality', 'terrestrial ecotoxicity'),\n",
       " ('IMPACT 2002+ (Endpoint)',\n",
       "  'ecosystem quality',\n",
       "  'terrestrial acidification & nutrification'),\n",
       " ('IMPACT 2002+ (Endpoint)', 'ecosystem quality', 'aquatic ecotoxicity'),\n",
       " ('IMPACT 2002+ (Endpoint)', 'ecosystem quality', 'land occupation'),\n",
       " ('IMPACT 2002+ (Endpoint)', 'human health', 'ionising radiation'),\n",
       " ('IMPACT 2002+ (Endpoint)', 'human health', 'photochemical oxidation'),\n",
       " ('IMPACT 2002+ (Endpoint)', 'human health', 'human toxicity'),\n",
       " ('IMPACT 2002+ (Endpoint)',\n",
       "  'human health',\n",
       "  'respiratory effects (inorganics)'),\n",
       " ('IMPACT 2002+ (Endpoint)', 'human health', 'ozone layer depletion'),\n",
       " ('IMPACT 2002+ (Endpoint)', 'resources', 'mineral extraction'),\n",
       " ('IMPACT 2002+ (Endpoint)', 'resources', 'non-renewable energy'),\n",
       " ('IMPACT 2002+ (Endpoint)', 'climate change', 'total'),\n",
       " ('IMPACT 2002+ (Endpoint)', 'resources', 'total'),\n",
       " ('IMPACT 2002+ (Endpoint)', 'human health', 'total'),\n",
       " ('IMPACT 2002+ (Endpoint)', 'ecosystem quality', 'total'),\n",
       " ('IMPACT 2002+ (Midpoint)', 'ecosystem quality', 'aquatic acidification'),\n",
       " ('IMPACT 2002+ (Midpoint)', 'ecosystem quality', 'aquatic eutrophication'),\n",
       " ('IPCC 2001 (superseded)', 'climate change', 'GWP 500a'),\n",
       " ('IPCC 2001 (superseded)', 'climate change', 'GWP 20a'),\n",
       " ('IPCC 2001 (superseded)', 'climate change', 'GWP 100a'),\n",
       " ('IPCC 2007 (superseded)', 'climate change', 'GWP 100a'),\n",
       " ('IPCC 2007 (superseded)', 'climate change', 'GWP 20a'),\n",
       " ('IPCC 2007 (superseded)', 'climate change', 'GWP 500a'),\n",
       " ('IPCC 2007 no LT (superseded)', 'climate change', 'GWP 100a'),\n",
       " ('IPCC 2007 no LT (superseded)', 'climate change', 'GWP 20a'),\n",
       " ('IPCC 2007 no LT (superseded)', 'climate change', 'GWP 500a'),\n",
       " ('IPCC 2013 no LT', 'climate change', 'GTP 100a'),\n",
       " ('IPCC 2013 no LT', 'climate change', 'GTP 20a'),\n",
       " ('IPCC 2013 no LT', 'climate change', 'GWP 100a'),\n",
       " ('IPCC 2013 no LT', 'climate change', 'GWP 20a'),\n",
       " ('IPCC 2013', 'climate change', 'GTP 100a'),\n",
       " ('IPCC 2013', 'climate change', 'GTP 20a'),\n",
       " ('IPCC 2013', 'climate change', 'GWP 100a'),\n",
       " ('IPCC 2013', 'climate change', 'GWP 20a'),\n",
       " ('ReCiPe Endpoint (E,A) w/o LT',\n",
       "  'ecosystem quality w/o LT',\n",
       "  'freshwater ecotoxicity w/o LT'),\n",
       " ('ReCiPe Endpoint (E,A) w/o LT',\n",
       "  'ecosystem quality w/o LT',\n",
       "  'freshwater eutrophication w/o LT'),\n",
       " ('ReCiPe Endpoint (E,A) w/o LT',\n",
       "  'ecosystem quality w/o LT',\n",
       "  'urban land occupation w/o LT'),\n",
       " ('ReCiPe Endpoint (E,A) w/o LT',\n",
       "  'ecosystem quality w/o LT',\n",
       "  'climate change, ecosystems w/o LT'),\n",
       " ('ReCiPe Endpoint (E,A) w/o LT',\n",
       "  'ecosystem quality w/o LT',\n",
       "  'terrestrial ecotoxicity w/o LT'),\n",
       " ('ReCiPe Endpoint (E,A) w/o LT',\n",
       "  'ecosystem quality w/o LT',\n",
       "  'agricultural land occupation w/o LT'),\n",
       " ('ReCiPe Endpoint (E,A) w/o LT',\n",
       "  'ecosystem quality w/o LT',\n",
       "  'marine ecotoxicity w/o LT'),\n",
       " ('ReCiPe Endpoint (E,A) w/o LT',\n",
       "  'ecosystem quality w/o LT',\n",
       "  'natural land transformation w/o LT'),\n",
       " ('ReCiPe Endpoint (E,A) w/o LT',\n",
       "  'ecosystem quality w/o LT',\n",
       "  'terrestrial acidification w/o LT'),\n",
       " ('ReCiPe Endpoint (E,A) w/o LT',\n",
       "  'human health w/o LT',\n",
       "  'ionising radiation w/o LT'),\n",
       " ('ReCiPe Endpoint (E,A) w/o LT',\n",
       "  'human health w/o LT',\n",
       "  'ozone depletion w/o LT'),\n",
       " ('ReCiPe Endpoint (E,A) w/o LT',\n",
       "  'human health w/o LT',\n",
       "  'human toxicity w/o LT'),\n",
       " ('ReCiPe Endpoint (E,A) w/o LT',\n",
       "  'human health w/o LT',\n",
       "  'particulate matter formation w/o LT'),\n",
       " ('ReCiPe Endpoint (E,A) w/o LT',\n",
       "  'human health w/o LT',\n",
       "  'climate change, human health w/o LT'),\n",
       " ('ReCiPe Endpoint (E,A) w/o LT',\n",
       "  'human health w/o LT',\n",
       "  'photochemical oxidant formation w/o LT'),\n",
       " ('ReCiPe Endpoint (E,A) w/o LT',\n",
       "  'resources w/o LT',\n",
       "  'metal depletion w/o LT'),\n",
       " ('ReCiPe Endpoint (E,A) w/o LT',\n",
       "  'resources w/o LT',\n",
       "  'fossil depletion w/o LT'),\n",
       " ('ReCiPe Endpoint (E,A) w/o LT', 'total w/o LT', 'total w/o LT'),\n",
       " ('ReCiPe Endpoint (E,A) w/o LT', 'resources w/o LT', 'total w/o LT'),\n",
       " ('ReCiPe Endpoint (E,A) w/o LT', 'human health w/o LT', 'total w/o LT'),\n",
       " ('ReCiPe Endpoint (E,A) w/o LT', 'ecosystem quality w/o LT', 'total w/o LT'),\n",
       " ('ReCiPe Endpoint (E,A)', 'ecosystem quality', 'terrestrial ecotoxicity'),\n",
       " ('ReCiPe Endpoint (E,A)', 'ecosystem quality', 'natural land transformation'),\n",
       " ('ReCiPe Endpoint (E,A)', 'ecosystem quality', 'urban land occupation'),\n",
       " ('ReCiPe Endpoint (E,A)',\n",
       "  'ecosystem quality',\n",
       "  'agricultural land occupation'),\n",
       " ('ReCiPe Endpoint (E,A)', 'ecosystem quality', 'climate change, ecosystems'),\n",
       " ('ReCiPe Endpoint (E,A)', 'ecosystem quality', 'freshwater eutrophication'),\n",
       " ('ReCiPe Endpoint (E,A)', 'ecosystem quality', 'terrestrial acidification'),\n",
       " ('ReCiPe Endpoint (E,A)', 'ecosystem quality', 'freshwater ecotoxicity'),\n",
       " ('ReCiPe Endpoint (E,A)', 'ecosystem quality', 'marine ecotoxicity'),\n",
       " ('ReCiPe Endpoint (E,A)', 'human health', 'human toxicity'),\n",
       " ('ReCiPe Endpoint (E,A)', 'human health', 'ionising radiation'),\n",
       " ('ReCiPe Endpoint (E,A)', 'human health', 'particulate matter formation'),\n",
       " ('ReCiPe Endpoint (E,A)', 'human health', 'climate change, human health'),\n",
       " ('ReCiPe Endpoint (E,A)', 'human health', 'photochemical oxidant formation'),\n",
       " ('ReCiPe Endpoint (E,A)', 'human health', 'ozone depletion'),\n",
       " ('ReCiPe Endpoint (E,A)', 'resources', 'fossil depletion'),\n",
       " ('ReCiPe Endpoint (E,A)', 'resources', 'metal depletion'),\n",
       " ('ReCiPe Endpoint (E,A)', 'human health', 'total'),\n",
       " ('ReCiPe Endpoint (E,A)', 'ecosystem quality', 'total'),\n",
       " ('ReCiPe Endpoint (E,A)', 'resources', 'total'),\n",
       " ('ReCiPe Endpoint (E,A)', 'total', 'total'),\n",
       " ('ReCiPe Endpoint (H,A) w/o LT',\n",
       "  'ecosystem quality w/o LT',\n",
       "  'freshwater ecotoxicity w/o LT'),\n",
       " ('ReCiPe Endpoint (H,A) w/o LT',\n",
       "  'ecosystem quality w/o LT',\n",
       "  'freshwater eutrophication w/o LT'),\n",
       " ('ReCiPe Endpoint (H,A) w/o LT',\n",
       "  'ecosystem quality w/o LT',\n",
       "  'urban land occupation w/o LT'),\n",
       " ('ReCiPe Endpoint (H,A) w/o LT',\n",
       "  'ecosystem quality w/o LT',\n",
       "  'climate change, ecosystems w/o LT'),\n",
       " ('ReCiPe Endpoint (H,A) w/o LT',\n",
       "  'ecosystem quality w/o LT',\n",
       "  'terrestrial ecotoxicity w/o LT'),\n",
       " ('ReCiPe Endpoint (H,A) w/o LT',\n",
       "  'ecosystem quality w/o LT',\n",
       "  'agricultural land occupation w/o LT'),\n",
       " ('ReCiPe Endpoint (H,A) w/o LT',\n",
       "  'ecosystem quality w/o LT',\n",
       "  'marine ecotoxicity w/o LT'),\n",
       " ('ReCiPe Endpoint (H,A) w/o LT',\n",
       "  'ecosystem quality w/o LT',\n",
       "  'natural land transformation w/o LT'),\n",
       " ('ReCiPe Endpoint (H,A) w/o LT',\n",
       "  'ecosystem quality w/o LT',\n",
       "  'terrestrial acidification w/o LT'),\n",
       " ('ReCiPe Endpoint (H,A) w/o LT',\n",
       "  'human health w/o LT',\n",
       "  'ionising radiation w/o LT'),\n",
       " ('ReCiPe Endpoint (H,A) w/o LT',\n",
       "  'human health w/o LT',\n",
       "  'ozone depletion w/o LT'),\n",
       " ('ReCiPe Endpoint (H,A) w/o LT',\n",
       "  'human health w/o LT',\n",
       "  'human toxicity w/o LT'),\n",
       " ('ReCiPe Endpoint (H,A) w/o LT',\n",
       "  'human health w/o LT',\n",
       "  'particulate matter formation w/o LT'),\n",
       " ('ReCiPe Endpoint (H,A) w/o LT',\n",
       "  'human health w/o LT',\n",
       "  'climate change, human health w/o LT'),\n",
       " ('ReCiPe Endpoint (H,A) w/o LT',\n",
       "  'human health w/o LT',\n",
       "  'photochemical oxidant formation w/o LT'),\n",
       " ('ReCiPe Endpoint (H,A) w/o LT',\n",
       "  'resources w/o LT',\n",
       "  'metal depletion w/o LT'),\n",
       " ('ReCiPe Endpoint (H,A) w/o LT',\n",
       "  'resources w/o LT',\n",
       "  'fossil depletion w/o LT'),\n",
       " ('ReCiPe Endpoint (H,A) w/o LT', 'human health w/o LT', 'total w/o LT'),\n",
       " ('ReCiPe Endpoint (H,A) w/o LT', 'resources w/o LT', 'total w/o LT'),\n",
       " ('ReCiPe Endpoint (H,A) w/o LT', 'ecosystem quality w/o LT', 'total w/o LT'),\n",
       " ('ReCiPe Endpoint (H,A) w/o LT', 'total w/o LT', 'total w/o LT'),\n",
       " ('ReCiPe Endpoint (H,A)', 'ecosystem quality', 'terrestrial ecotoxicity'),\n",
       " ('ReCiPe Endpoint (H,A)', 'ecosystem quality', 'natural land transformation'),\n",
       " ('ReCiPe Endpoint (H,A)', 'ecosystem quality', 'urban land occupation'),\n",
       " ('ReCiPe Endpoint (H,A)',\n",
       "  'ecosystem quality',\n",
       "  'agricultural land occupation'),\n",
       " ('ReCiPe Endpoint (H,A)', 'ecosystem quality', 'climate change, ecosystems'),\n",
       " ('ReCiPe Endpoint (H,A)', 'ecosystem quality', 'freshwater eutrophication'),\n",
       " ('ReCiPe Endpoint (H,A)', 'ecosystem quality', 'terrestrial acidification'),\n",
       " ('ReCiPe Endpoint (H,A)', 'ecosystem quality', 'freshwater ecotoxicity'),\n",
       " ('ReCiPe Endpoint (H,A)', 'ecosystem quality', 'marine ecotoxicity'),\n",
       " ('ReCiPe Endpoint (H,A)', 'human health', 'human toxicity'),\n",
       " ('ReCiPe Endpoint (H,A)', 'human health', 'ionising radiation'),\n",
       " ('ReCiPe Endpoint (H,A)', 'human health', 'particulate matter formation'),\n",
       " ('ReCiPe Endpoint (H,A)', 'human health', 'climate change, human health'),\n",
       " ('ReCiPe Endpoint (H,A)', 'human health', 'photochemical oxidant formation'),\n",
       " ('ReCiPe Endpoint (H,A)', 'human health', 'ozone depletion'),\n",
       " ('ReCiPe Endpoint (H,A)', 'resources', 'fossil depletion'),\n",
       " ('ReCiPe Endpoint (H,A)', 'resources', 'metal depletion'),\n",
       " ('ReCiPe Endpoint (H,A)', 'total', 'total'),\n",
       " ('ReCiPe Endpoint (H,A)', 'ecosystem quality', 'total'),\n",
       " ('ReCiPe Endpoint (H,A)', 'resources', 'total'),\n",
       " ('ReCiPe Endpoint (H,A)', 'human health', 'total'),\n",
       " ('ReCiPe Endpoint (I,A)', 'ecosystem quality', 'terrestrial ecotoxicity'),\n",
       " ('ReCiPe Endpoint (I,A)', 'ecosystem quality', 'natural land transformation'),\n",
       " ('ReCiPe Endpoint (I,A)', 'ecosystem quality', 'urban land occupation'),\n",
       " ('ReCiPe Endpoint (I,A)',\n",
       "  'ecosystem quality',\n",
       "  'agricultural land occupation'),\n",
       " ('ReCiPe Endpoint (I,A)', 'ecosystem quality', 'climate change, ecosystems'),\n",
       " ('ReCiPe Endpoint (I,A)', 'ecosystem quality', 'freshwater eutrophication'),\n",
       " ('ReCiPe Endpoint (I,A)', 'ecosystem quality', 'terrestrial acidification'),\n",
       " ('ReCiPe Endpoint (I,A)', 'ecosystem quality', 'freshwater ecotoxicity'),\n",
       " ('ReCiPe Endpoint (I,A)', 'ecosystem quality', 'marine ecotoxicity'),\n",
       " ('ReCiPe Endpoint (I,A)', 'human health', 'human toxicity'),\n",
       " ('ReCiPe Endpoint (I,A)', 'human health', 'ionising radiation'),\n",
       " ('ReCiPe Endpoint (I,A)', 'human health', 'particulate matter formation'),\n",
       " ('ReCiPe Endpoint (I,A)', 'human health', 'climate change, human health'),\n",
       " ('ReCiPe Endpoint (I,A)', 'human health', 'photochemical oxidant formation'),\n",
       " ('ReCiPe Endpoint (I,A)', 'human health', 'ozone depletion'),\n",
       " ('ReCiPe Endpoint (I,A)', 'resources', 'fossil depletion'),\n",
       " ('ReCiPe Endpoint (I,A)', 'resources', 'metal depletion'),\n",
       " ('ReCiPe Endpoint (I,A)', 'resources', 'total'),\n",
       " ('ReCiPe Endpoint (I,A)', 'total', 'total'),\n",
       " ('ReCiPe Endpoint (I,A)', 'ecosystem quality', 'total'),\n",
       " ('ReCiPe Endpoint (I,A)', 'human health', 'total'),\n",
       " ('ReCiPe Midpoint (E) V1.13 no LT', 'water depletion', 'WDP'),\n",
       " ('ReCiPe Midpoint (E) V1.13 no LT', 'fossil depletion', 'FDP'),\n",
       " ('ReCiPe Midpoint (E) V1.13 no LT', 'marine eutrophication', 'MEP'),\n",
       " ('ReCiPe Midpoint (E) V1.13 no LT', 'climate change', 'GWP500'),\n",
       " ('ReCiPe Midpoint (E) V1.13 no LT', 'agricultural land occupation', 'ALOP'),\n",
       " ('ReCiPe Midpoint (E) V1.13 no LT', 'human toxicity', 'HTPinf'),\n",
       " ('ReCiPe Midpoint (E) V1.13 no LT', 'marine ecotoxicity', 'METPinf'),\n",
       " ('ReCiPe Midpoint (E) V1.13 no LT', 'metal depletion', 'MDP'),\n",
       " ('ReCiPe Midpoint (E) V1.13 no LT', 'terrestrial ecotoxicity', 'TETPinf'),\n",
       " ('ReCiPe Midpoint (E) V1.13 no LT', 'particulate matter formation', 'PMFP'),\n",
       " ('ReCiPe Midpoint (E) V1.13 no LT', 'ionising radiation', 'IRP_HE'),\n",
       " ('ReCiPe Midpoint (E) V1.13 no LT', 'ozone depletion', 'ODPinf'),\n",
       " ('ReCiPe Midpoint (E) V1.13 no LT', 'natural land transformation', 'NLTP'),\n",
       " ('ReCiPe Midpoint (E) V1.13 no LT', 'terrestrial acidification', 'TAP500'),\n",
       " ('ReCiPe Midpoint (E) V1.13 no LT', 'freshwater ecotoxicity', 'FETPinf'),\n",
       " ('ReCiPe Midpoint (E) V1.13 no LT', 'urban land occupation', 'ULOP'),\n",
       " ('ReCiPe Midpoint (E) V1.13 no LT',\n",
       "  'photochemical oxidant formation',\n",
       "  'POFP'),\n",
       " ('ReCiPe Midpoint (E) V1.13 no LT', 'freshwater eutrophication', 'FEP'),\n",
       " ('ReCiPe Midpoint (E) V1.13', 'water depletion', 'WDP'),\n",
       " ('ReCiPe Midpoint (E) V1.13', 'fossil depletion', 'FDP'),\n",
       " ('ReCiPe Midpoint (E) V1.13', 'marine eutrophication', 'MEP'),\n",
       " ('ReCiPe Midpoint (E) V1.13', 'climate change', 'GWP500'),\n",
       " ('ReCiPe Midpoint (E) V1.13', 'agricultural land occupation', 'ALOP'),\n",
       " ('ReCiPe Midpoint (E) V1.13', 'human toxicity', 'HTPinf'),\n",
       " ('ReCiPe Midpoint (E) V1.13', 'marine ecotoxicity', 'METPinf'),\n",
       " ('ReCiPe Midpoint (E) V1.13', 'metal depletion', 'MDP'),\n",
       " ('ReCiPe Midpoint (E) V1.13', 'terrestrial ecotoxicity', 'TETPinf'),\n",
       " ('ReCiPe Midpoint (E) V1.13', 'particulate matter formation', 'PMFP'),\n",
       " ('ReCiPe Midpoint (E) V1.13', 'ionising radiation', 'IRP_HE'),\n",
       " ('ReCiPe Midpoint (E) V1.13', 'ozone depletion', 'ODPinf'),\n",
       " ('ReCiPe Midpoint (E) V1.13', 'natural land transformation', 'NLTP'),\n",
       " ('ReCiPe Midpoint (E) V1.13', 'terrestrial acidification', 'TAP500'),\n",
       " ('ReCiPe Midpoint (E) V1.13', 'freshwater ecotoxicity', 'FETPinf'),\n",
       " ('ReCiPe Midpoint (E) V1.13', 'urban land occupation', 'ULOP'),\n",
       " ('ReCiPe Midpoint (E) V1.13', 'photochemical oxidant formation', 'POFP'),\n",
       " ('ReCiPe Midpoint (E) V1.13', 'freshwater eutrophication', 'FEP'),\n",
       " ('ReCiPe Midpoint (E) w/o LT',\n",
       "  'freshwater ecotoxicity w/o LT',\n",
       "  'FETPinf w/o LT'),\n",
       " ('ReCiPe Midpoint (E) w/o LT', 'ionising radiation w/o LT', 'IRP_HE w/o LT'),\n",
       " ('ReCiPe Midpoint (E) w/o LT', 'climate change w/o LT', 'GWP500 w/o LT'),\n",
       " ('ReCiPe Midpoint (E) w/o LT', 'fossil depletion w/o LT', 'FDP w/o LT'),\n",
       " ('ReCiPe Midpoint (E) w/o LT', 'water depletion w/o LT', 'WDP w/o LT'),\n",
       " ('ReCiPe Midpoint (E) w/o LT', 'ozone depletion w/o LT', 'ODPinf w/o LT'),\n",
       " ('ReCiPe Midpoint (E) w/o LT', 'marine eutrophication w/o LT', 'MEP w/o LT'),\n",
       " ('ReCiPe Midpoint (E) w/o LT',\n",
       "  'freshwater eutrophication w/o LT',\n",
       "  'FEP w/o LT'),\n",
       " ('ReCiPe Midpoint (E) w/o LT',\n",
       "  'terrestrial ecotoxicity w/o LT',\n",
       "  'TETPinf w/o LT'),\n",
       " ('ReCiPe Midpoint (E) w/o LT',\n",
       "  'particulate matter formation w/o LT',\n",
       "  'PMFP w/o LT'),\n",
       " ('ReCiPe Midpoint (E) w/o LT', 'urban land occupation w/o LT', 'ULOP w/o LT'),\n",
       " ('ReCiPe Midpoint (E) w/o LT',\n",
       "  'terrestrial acidification w/o LT',\n",
       "  'TAP500 w/o LT'),\n",
       " ('ReCiPe Midpoint (E) w/o LT', 'human toxicity w/o LT', 'HTPinf w/o LT'),\n",
       " ('ReCiPe Midpoint (E) w/o LT',\n",
       "  'agricultural land occupation w/o LT',\n",
       "  'ALOP w/o LT'),\n",
       " ('ReCiPe Midpoint (E) w/o LT', 'marine ecotoxicity w/o LT', 'METPinf w/o LT'),\n",
       " ('ReCiPe Midpoint (E) w/o LT',\n",
       "  'photochemical oxidant formation w/o LT',\n",
       "  'POFP w/o LT'),\n",
       " ('ReCiPe Midpoint (E) w/o LT', 'metal depletion w/o LT', 'MDP w/o LT'),\n",
       " ('ReCiPe Midpoint (E) w/o LT',\n",
       "  'natural land transformation w/o LT',\n",
       "  'NLTP w/o LT'),\n",
       " ('ReCiPe Midpoint (E)', 'terrestrial ecotoxicity', 'TETPinf'),\n",
       " ('ReCiPe Midpoint (E)', 'natural land transformation', 'NLTP'),\n",
       " ('ReCiPe Midpoint (E)', 'photochemical oxidant formation', 'POFP'),\n",
       " ('ReCiPe Midpoint (E)', 'human toxicity', 'HTPinf'),\n",
       " ('ReCiPe Midpoint (E)', 'marine eutrophication', 'MEP'),\n",
       " ('ReCiPe Midpoint (E)', 'climate change', 'GWP500'),\n",
       " ('ReCiPe Midpoint (E)', 'particulate matter formation', 'PMFP'),\n",
       " ('ReCiPe Midpoint (E)', 'agricultural land occupation', 'ALOP'),\n",
       " ('ReCiPe Midpoint (E)', 'freshwater eutrophication', 'FEP'),\n",
       " ('ReCiPe Midpoint (E)', 'metal depletion', 'MDP'),\n",
       " ('ReCiPe Midpoint (E)', 'terrestrial acidification', 'TAP500'),\n",
       " ('ReCiPe Midpoint (E)', 'water depletion', 'WDP'),\n",
       " ('ReCiPe Midpoint (E)', 'urban land occupation', 'ULOP'),\n",
       " ('ReCiPe Midpoint (E)', 'ionising radiation', 'IRP_HE'),\n",
       " ('ReCiPe Midpoint (E)', 'fossil depletion', 'FDP'),\n",
       " ('ReCiPe Midpoint (E)', 'freshwater ecotoxicity', 'FETPinf'),\n",
       " ('ReCiPe Midpoint (E)', 'marine ecotoxicity', 'METPinf'),\n",
       " ('ReCiPe Midpoint (E)', 'ozone depletion', 'ODPinf'),\n",
       " ('ReCiPe Midpoint (H) V1.13 no LT', 'agricultural land occupation', 'ALOP'),\n",
       " ('ReCiPe Midpoint (H) V1.13 no LT', 'ozone depletion', 'ODPinf'),\n",
       " ('ReCiPe Midpoint (H) V1.13 no LT', 'climate change', 'GWP100'),\n",
       " ('ReCiPe Midpoint (H) V1.13 no LT', 'terrestrial acidification', 'TAP100'),\n",
       " ('ReCiPe Midpoint (H) V1.13 no LT',\n",
       "  'photochemical oxidant formation',\n",
       "  'POFP'),\n",
       " ('ReCiPe Midpoint (H) V1.13 no LT', 'metal depletion', 'MDP'),\n",
       " ('ReCiPe Midpoint (H) V1.13 no LT', 'water depletion', 'WDP'),\n",
       " ('ReCiPe Midpoint (H) V1.13 no LT', 'freshwater ecotoxicity', 'FETPinf'),\n",
       " ('ReCiPe Midpoint (H) V1.13 no LT', 'human toxicity', 'HTPinf'),\n",
       " ('ReCiPe Midpoint (H) V1.13 no LT', 'urban land occupation', 'ULOP'),\n",
       " ('ReCiPe Midpoint (H) V1.13 no LT', 'particulate matter formation', 'PMFP'),\n",
       " ('ReCiPe Midpoint (H) V1.13 no LT', 'freshwater eutrophication', 'FEP'),\n",
       " ('ReCiPe Midpoint (H) V1.13 no LT', 'natural land transformation', 'NLTP'),\n",
       " ('ReCiPe Midpoint (H) V1.13 no LT', 'marine eutrophication', 'MEP'),\n",
       " ('ReCiPe Midpoint (H) V1.13 no LT', 'terrestrial ecotoxicity', 'TETPinf'),\n",
       " ('ReCiPe Midpoint (H) V1.13 no LT', 'fossil depletion', 'FDP'),\n",
       " ('ReCiPe Midpoint (H) V1.13 no LT', 'ionising radiation', 'IRP_HE'),\n",
       " ('ReCiPe Midpoint (H) V1.13 no LT', 'marine ecotoxicity', 'METPinf'),\n",
       " ('ReCiPe Midpoint (H) V1.13', 'agricultural land occupation', 'ALOP'),\n",
       " ('ReCiPe Midpoint (H) V1.13', 'ozone depletion', 'ODPinf'),\n",
       " ('ReCiPe Midpoint (H) V1.13', 'climate change', 'GWP100'),\n",
       " ('ReCiPe Midpoint (H) V1.13', 'terrestrial acidification', 'TAP100'),\n",
       " ('ReCiPe Midpoint (H) V1.13', 'photochemical oxidant formation', 'POFP'),\n",
       " ('ReCiPe Midpoint (H) V1.13', 'metal depletion', 'MDP'),\n",
       " ('ReCiPe Midpoint (H) V1.13', 'water depletion', 'WDP'),\n",
       " ('ReCiPe Midpoint (H) V1.13', 'freshwater ecotoxicity', 'FETPinf'),\n",
       " ('ReCiPe Midpoint (H) V1.13', 'human toxicity', 'HTPinf'),\n",
       " ('ReCiPe Midpoint (H) V1.13', 'urban land occupation', 'ULOP'),\n",
       " ('ReCiPe Midpoint (H) V1.13', 'particulate matter formation', 'PMFP'),\n",
       " ('ReCiPe Midpoint (H) V1.13', 'freshwater eutrophication', 'FEP'),\n",
       " ('ReCiPe Midpoint (H) V1.13', 'natural land transformation', 'NLTP'),\n",
       " ('ReCiPe Midpoint (H) V1.13', 'marine eutrophication', 'MEP'),\n",
       " ('ReCiPe Midpoint (H) V1.13', 'terrestrial ecotoxicity', 'TETPinf'),\n",
       " ('ReCiPe Midpoint (H) V1.13', 'fossil depletion', 'FDP'),\n",
       " ('ReCiPe Midpoint (H) V1.13', 'ionising radiation', 'IRP_HE'),\n",
       " ('ReCiPe Midpoint (H) V1.13', 'marine ecotoxicity', 'METPinf'),\n",
       " ('ReCiPe Midpoint (H) w/o LT',\n",
       "  'freshwater ecotoxicity w/o LT',\n",
       "  'FETPinf w/o LT'),\n",
       " ('ReCiPe Midpoint (H) w/o LT', 'ionising radiation w/o LT', 'IRP_HE w/o LT'),\n",
       " ('ReCiPe Midpoint (H) w/o LT', 'climate change w/o LT', 'GWP100 w/o LT'),\n",
       " ('ReCiPe Midpoint (H) w/o LT', 'fossil depletion w/o LT', 'FDP w/o LT'),\n",
       " ('ReCiPe Midpoint (H) w/o LT', 'water depletion w/o LT', 'WDP w/o LT'),\n",
       " ('ReCiPe Midpoint (H) w/o LT', 'ozone depletion w/o LT', 'ODPinf w/o LT'),\n",
       " ('ReCiPe Midpoint (H) w/o LT', 'marine eutrophication w/o LT', 'MEP w/o LT'),\n",
       " ('ReCiPe Midpoint (H) w/o LT',\n",
       "  'freshwater eutrophication w/o LT',\n",
       "  'FEP w/o LT'),\n",
       " ('ReCiPe Midpoint (H) w/o LT',\n",
       "  'terrestrial ecotoxicity w/o LT',\n",
       "  'TETPinf w/o LT'),\n",
       " ('ReCiPe Midpoint (H) w/o LT',\n",
       "  'particulate matter formation w/o LT',\n",
       "  'PMFP w/o LT'),\n",
       " ('ReCiPe Midpoint (H) w/o LT', 'urban land occupation w/o LT', 'ULOP w/o LT'),\n",
       " ('ReCiPe Midpoint (H) w/o LT',\n",
       "  'terrestrial acidification w/o LT',\n",
       "  'TAP100 w/o LT'),\n",
       " ('ReCiPe Midpoint (H) w/o LT', 'human toxicity w/o LT', 'HTPinf w/o LT'),\n",
       " ('ReCiPe Midpoint (H) w/o LT',\n",
       "  'agricultural land occupation w/o LT',\n",
       "  'ALOP w/o LT'),\n",
       " ('ReCiPe Midpoint (H) w/o LT', 'marine ecotoxicity w/o LT', 'METPinf w/o LT'),\n",
       " ('ReCiPe Midpoint (H) w/o LT',\n",
       "  'photochemical oxidant formation w/o LT',\n",
       "  'POFP w/o LT'),\n",
       " ('ReCiPe Midpoint (H) w/o LT', 'metal depletion w/o LT', 'MDP w/o LT'),\n",
       " ('ReCiPe Midpoint (H) w/o LT',\n",
       "  'natural land transformation w/o LT',\n",
       "  'NLTP w/o LT'),\n",
       " ('ReCiPe Midpoint (H)', 'terrestrial ecotoxicity', 'TETPinf'),\n",
       " ('ReCiPe Midpoint (H)', 'natural land transformation', 'NLTP'),\n",
       " ('ReCiPe Midpoint (H)', 'photochemical oxidant formation', 'POFP'),\n",
       " ('ReCiPe Midpoint (H)', 'human toxicity', 'HTPinf'),\n",
       " ('ReCiPe Midpoint (H)', 'marine eutrophication', 'MEP'),\n",
       " ('ReCiPe Midpoint (H)', 'climate change', 'GWP100'),\n",
       " ('ReCiPe Midpoint (H)', 'particulate matter formation', 'PMFP'),\n",
       " ('ReCiPe Midpoint (H)', 'agricultural land occupation', 'ALOP'),\n",
       " ('ReCiPe Midpoint (H)', 'freshwater eutrophication', 'FEP'),\n",
       " ('ReCiPe Midpoint (H)', 'metal depletion', 'MDP'),\n",
       " ('ReCiPe Midpoint (H)', 'terrestrial acidification', 'TAP100'),\n",
       " ('ReCiPe Midpoint (H)', 'water depletion', 'WDP'),\n",
       " ('ReCiPe Midpoint (H)', 'urban land occupation', 'ULOP'),\n",
       " ('ReCiPe Midpoint (H)', 'ionising radiation', 'IRP_HE'),\n",
       " ('ReCiPe Midpoint (H)', 'fossil depletion', 'FDP'),\n",
       " ('ReCiPe Midpoint (H)', 'freshwater ecotoxicity', 'FETPinf'),\n",
       " ('ReCiPe Midpoint (H)', 'marine ecotoxicity', 'METPinf'),\n",
       " ('ReCiPe Midpoint (H)', 'ozone depletion', 'ODPinf'),\n",
       " ('ReCiPe Midpoint (I) V1.13', 'climate change', 'GWP20'),\n",
       " ('ReCiPe Midpoint (I) V1.13', 'ionising radiation', 'IRP_I'),\n",
       " ('ReCiPe Midpoint (I) V1.13', 'marine eutrophication', 'MEP'),\n",
       " ('ReCiPe Midpoint (I) V1.13', 'freshwater eutrophication', 'FEP'),\n",
       " ('ReCiPe Midpoint (I) V1.13', 'metal depletion', 'MDP'),\n",
       " ('ReCiPe Midpoint (I) V1.13', 'photochemical oxidant formation', 'POFP'),\n",
       " ('ReCiPe Midpoint (I) V1.13', 'particulate matter formation', 'PMFP'),\n",
       " ('ReCiPe Midpoint (I) V1.13', 'water depletion', 'WDP'),\n",
       " ('ReCiPe Midpoint (I) V1.13', 'freshwater ecotoxicity', 'FETP100'),\n",
       " ('ReCiPe Midpoint (I) V1.13', 'human toxicity', 'HTP100'),\n",
       " ('ReCiPe Midpoint (I) V1.13', 'agricultural land occupation', 'ALOP'),\n",
       " ('ReCiPe Midpoint (I) V1.13', 'marine ecotoxicity', 'METP100'),\n",
       " ('ReCiPe Midpoint (I) V1.13', 'terrestrial ecotoxicity', 'TETP100'),\n",
       " ('ReCiPe Midpoint (I) V1.13', 'terrestrial acidification', 'TAP20'),\n",
       " ('ReCiPe Midpoint (I) V1.13', 'fossil depletion', 'FDP'),\n",
       " ('ReCiPe Midpoint (I) V1.13', 'natural land transformation', 'NLTP'),\n",
       " ('ReCiPe Midpoint (I) V1.13', 'ozone depletion', 'ODPinf'),\n",
       " ('ReCiPe Midpoint (I) V1.13', 'urban land occupation', 'ULOP'),\n",
       " ('ReCiPe Midpoint (I)', 'terrestrial ecotoxicity', 'TETP100'),\n",
       " ('ReCiPe Midpoint (I)', 'natural land transformation', 'NLTP'),\n",
       " ('ReCiPe Midpoint (I)', 'photochemical oxidant formation', 'POFP'),\n",
       " ('ReCiPe Midpoint (I)', 'human toxicity', 'HTP100'),\n",
       " ('ReCiPe Midpoint (I)', 'marine eutrophication', 'MEP'),\n",
       " ('ReCiPe Midpoint (I)', 'climate change', 'GWP20'),\n",
       " ('ReCiPe Midpoint (I)', 'particulate matter formation', 'PMFP'),\n",
       " ('ReCiPe Midpoint (I)', 'agricultural land occupation', 'ALOP'),\n",
       " ('ReCiPe Midpoint (I)', 'freshwater eutrophication', 'FEP'),\n",
       " ('ReCiPe Midpoint (I)', 'metal depletion', 'MDP'),\n",
       " ('ReCiPe Midpoint (I)', 'terrestrial acidification', 'TAP20'),\n",
       " ('ReCiPe Midpoint (I)', 'water depletion', 'WDP'),\n",
       " ('ReCiPe Midpoint (I)', 'urban land occupation', 'ULOP'),\n",
       " ('ReCiPe Midpoint (I)', 'ionising radiation', 'IRP_I'),\n",
       " ('ReCiPe Midpoint (I)', 'fossil depletion', 'FDP'),\n",
       " ('ReCiPe Midpoint (I)', 'freshwater ecotoxicity', 'FETP100'),\n",
       " ('ReCiPe Midpoint (I)', 'marine ecotoxicity', 'METP100'),\n",
       " ('ReCiPe Midpoint (I)', 'ozone depletion', 'ODPinf'),\n",
       " ('selected LCI results, additional', 'total', 'oils, unspecified'),\n",
       " ('selected LCI results, additional', 'total', 'heat, waste'),\n",
       " ('selected LCI results, additional', 'water, radioactive', 'radium'),\n",
       " ('selected LCI results, additional', 'water, radioactive', 'actinides'),\n",
       " ('selected LCI results, additional', 'water, radioactive', 'nuclides'),\n",
       " ('selected LCI results, additional', 'water, radioactive', 'tritium'),\n",
       " ('selected LCI results, additional', 'air, radioactive', 'radon (+ radium)'),\n",
       " ('selected LCI results, additional', 'air, radioactive', 'noble gas'),\n",
       " ('selected LCI results, additional', 'air, radioactive', 'actinides'),\n",
       " ('selected LCI results, additional', 'air, radioactive', 'aerosole'),\n",
       " ('selected LCI results, additional', 'resource', 'carbon, biogenic, fixed'),\n",
       " ('selected LCI results, additional', 'resource', 'water'),\n",
       " ('selected LCI results, additional', 'air', 'particulates'),\n",
       " ('selected LCI results, additional', 'air', 'lead'),\n",
       " ('selected LCI results, additional', 'air', 'particulates >10 um'),\n",
       " ('selected LCI results, additional', 'air', 'particulates, >2.5 um and <10'),\n",
       " ('selected LCI results, additional', 'air', 'zinc'),\n",
       " ('selected LCI results, additional', 'air', 'carbon monoxide'),\n",
       " ('selected LCI results, additional', 'air', 'N20'),\n",
       " ('selected LCI results, additional', 'air', 'methane'),\n",
       " ('selected LCI results', 'water', 'BOD'),\n",
       " ('selected LCI results', 'soil', 'cadmium'),\n",
       " ('selected LCI results', 'resource', 'land occupation'),\n",
       " ('selected LCI results', 'air', 'particulates, < 2.5 um'),\n",
       " ('selected LCI results', 'air', 'nitrogen oxides'),\n",
       " ('selected LCI results', 'air', 'NMVOC'),\n",
       " ('selected LCI results', 'air', 'sulphur dioxide'),\n",
       " ('selected LCI results', 'air', 'CO2, fossil'),\n",
       " ('TRACI', 'human health', 'non-carcinogenics'),\n",
       " ('TRACI', 'human health', 'respiratory effects, average'),\n",
       " ('TRACI', 'human health', 'carcinogenics'),\n",
       " ('TRACI', 'environmental impact', 'eutrophication'),\n",
       " ('TRACI', 'environmental impact', 'global warming'),\n",
       " ('TRACI', 'environmental impact', 'ecotoxicity'),\n",
       " ('TRACI', 'environmental impact', 'photochemical oxidation'),\n",
       " ('TRACI', 'environmental impact', 'acidification'),\n",
       " ('TRACI', 'environmental impact', 'ozone depletion'),\n",
       " ('USEtox w/o LT', 'human toxicity w/o LT', 'carcinogenic w/o LT'),\n",
       " ('USEtox w/o LT', 'human toxicity w/o LT', 'non-carcinogenic w/o LT'),\n",
       " ('USEtox w/o LT', 'ecotoxicity w/o LT', 'total w/o LT'),\n",
       " ('USEtox w/o LT', 'human toxicity w/o LT', 'total w/o LT'),\n",
       " ('USEtox', 'human toxicity', 'non-carcinogenic'),\n",
       " ('USEtox', 'human toxicity', 'carcinogenic'),\n",
       " ('USEtox', 'ecotoxicity', 'total'),\n",
       " ('USEtox', 'human toxicity', 'total')]"
      ]
     },
     "execution_count": 27,
     "metadata": {},
     "output_type": "execute_result"
    }
   ],
   "source": [
    "list(bw.methods)"
   ]
  },
  {
   "cell_type": "markdown",
   "id": "93d65979-6144-425c-a0bd-419e53dd0481",
   "metadata": {},
   "source": [
    "Select a random method:"
   ]
  },
  {
   "cell_type": "code",
   "execution_count": 28,
   "id": "ec7f1e63-b6c8-4400-9ae5-9ddb817e2268",
   "metadata": {},
   "outputs": [
    {
     "data": {
      "text/plain": [
       "('EDIP2003 w/o LT', 'non-renewable resources w/o LT', 'natural gas w/o LT')"
      ]
     },
     "execution_count": 28,
     "metadata": {},
     "output_type": "execute_result"
    }
   ],
   "source": [
    "bw.methods.random()"
   ]
  },
  {
   "cell_type": "markdown",
   "id": "1baa5075-2720-452d-a215-8b73e07eef14",
   "metadata": {},
   "source": [
    "This is just an informative tuple, to get the actual method we use:"
   ]
  },
  {
   "cell_type": "code",
   "execution_count": 29,
   "id": "40e7fb11-c3b2-487d-9eac-1a55df7617c6",
   "metadata": {},
   "outputs": [
    {
     "data": {
      "text/plain": [
       "Brightway2 Method: EF v3.0 EN15804: energy resources: non-renewable: abiotic depletion potential (ADP): fossil fuels"
      ]
     },
     "execution_count": 29,
     "metadata": {},
     "output_type": "execute_result"
    }
   ],
   "source": [
    "bw.Method(bw.methods.random())"
   ]
  },
  {
   "cell_type": "markdown",
   "id": "9397193b-66cd-42d5-b88e-ab6990cefcfb",
   "metadata": {},
   "source": [
    "Of course, a random method is probably not useful except to play around. To find an actual method, one can again use list comprehensions. Let's say I am interested in using the IPCC2013 100 years method:"
   ]
  },
  {
   "cell_type": "code",
   "execution_count": 30,
   "id": "161bb7f5-deed-437c-9224-25fe5a5113c5",
   "metadata": {},
   "outputs": [
    {
     "data": {
      "text/plain": [
       "[('IPCC 2013 no LT', 'climate change', 'GTP 100a'),\n",
       " ('IPCC 2013 no LT', 'climate change', 'GWP 100a'),\n",
       " ('IPCC 2013', 'climate change', 'GTP 100a'),\n",
       " ('IPCC 2013', 'climate change', 'GWP 100a')]"
      ]
     },
     "execution_count": 30,
     "metadata": {},
     "output_type": "execute_result"
    }
   ],
   "source": [
    "[m for m in bw.methods if 'IPCC' in str(m) and ('2013') in str(m) and '100' in str(m)]"
   ]
  },
  {
   "cell_type": "markdown",
   "id": "e979dc8a-3763-4a58-8b70-bf680fe72014",
   "metadata": {},
   "source": [
    "We can select the one we are interested in like we did before, assigning it to a variable and choose by subscripting. "
   ]
  },
  {
   "cell_type": "code",
   "execution_count": 31,
   "id": "1c4df0ac-e0ee-415a-991a-8e8b5f323bed",
   "metadata": {},
   "outputs": [
    {
     "data": {
      "text/plain": [
       "('IPCC 2013 no LT', 'climate change', 'GTP 100a')"
      ]
     },
     "execution_count": 31,
     "metadata": {},
     "output_type": "execute_result"
    }
   ],
   "source": [
    "select1 = [m for m in bw.methods if 'IPCC' in str(m) and ('2013') in str(m) and '100' in str(m)][0]\n",
    "select1"
   ]
  },
  {
   "cell_type": "markdown",
   "id": "41a8a8ee-93af-4056-bb27-9574ab1d8287",
   "metadata": {},
   "source": [
    "We can also refine searches:"
   ]
  },
  {
   "cell_type": "code",
   "execution_count": 32,
   "id": "7c52e7c1-c147-40a7-90a9-1d81b133d2b8",
   "metadata": {},
   "outputs": [
    {
     "data": {
      "text/plain": [
       "('IPCC 2013', 'climate change', 'GWP 100a')"
      ]
     },
     "execution_count": 32,
     "metadata": {},
     "output_type": "execute_result"
    }
   ],
   "source": [
    "ipcc2013 = [m for m in bw.methods if 'IPCC' in m[0]\n",
    "                    and ('2013') in str(m)\n",
    "                    and 'GWP 100' in str(m)\n",
    "                    and 'no LT' not in str(m)][0]\n",
    "ipcc2013"
   ]
  },
  {
   "cell_type": "code",
   "execution_count": 33,
   "id": "562c5396-617b-499d-a8c9-fb616a92b878",
   "metadata": {},
   "outputs": [
    {
     "data": {
      "text/plain": [
       "tuple"
      ]
     },
     "execution_count": 33,
     "metadata": {},
     "output_type": "execute_result"
    }
   ],
   "source": [
    "type(ipcc2013)"
   ]
  },
  {
   "cell_type": "code",
   "execution_count": 34,
   "id": "bd593bdb-48b3-4b84-9a1c-1a9ef3a08de4",
   "metadata": {},
   "outputs": [],
   "source": [
    "ipcc_2013_method = bw.Method(ipcc2013)"
   ]
  },
  {
   "cell_type": "markdown",
   "id": "85d06724-f8ce-4f99-836f-66c5b19c7aa3",
   "metadata": {},
   "source": [
    "Let's check the methods associated with this method object:"
   ]
  },
  {
   "cell_type": "code",
   "execution_count": 35,
   "id": "a3f574c4-ee23-4ab3-87f4-a3a2cf3c941b",
   "metadata": {},
   "outputs": [],
   "source": [
    "dir(ipcc_2013_method);"
   ]
  },
  {
   "cell_type": "code",
   "execution_count": 36,
   "id": "f41a16ee-6dd3-452c-b872-3c55e74b2831",
   "metadata": {},
   "outputs": [
    {
     "data": {
      "text/plain": [
       "('IPCC 2013', 'climate change', 'GWP 100a')"
      ]
     },
     "execution_count": 36,
     "metadata": {},
     "output_type": "execute_result"
    }
   ],
   "source": [
    "ipcc_2013_method.name"
   ]
  },
  {
   "cell_type": "code",
   "execution_count": 37,
   "id": "7103cb66-3514-443c-8339-66eef3ece5ee",
   "metadata": {},
   "outputs": [],
   "source": [
    "ipcc_2013_method.metadata;"
   ]
  },
  {
   "cell_type": "code",
   "execution_count": 38,
   "id": "ddb10264-dd3b-4faf-bcd8-200d4d39890a",
   "metadata": {},
   "outputs": [
    {
     "data": {
      "text/plain": [
       "'kg CO2-Eq'"
      ]
     },
     "execution_count": 38,
     "metadata": {},
     "output_type": "execute_result"
    }
   ],
   "source": [
    "ipcc_2013_method.metadata['unit']"
   ]
  },
  {
   "cell_type": "markdown",
   "id": "bfce10fd-d1dc-41aa-b378-db25e1ab197a",
   "metadata": {},
   "source": [
    "**Question:** What is inside this method object? Let's check it out!"
   ]
  },
  {
   "cell_type": "code",
   "execution_count": 39,
   "id": "e0d1ceb1-643e-4986-9063-271c9488c9d1",
   "metadata": {},
   "outputs": [],
   "source": [
    "ipcc_2013_method.load();"
   ]
  },
  {
   "cell_type": "markdown",
   "id": "2649075c-ea12-4c32-a380-868436f522af",
   "metadata": {},
   "source": [
    "This is a list of tuples of the database, code and the characterization factor."
   ]
  },
  {
   "cell_type": "markdown",
   "id": "70863d02-d86b-4ac5-a4f6-a97c6420af07",
   "metadata": {},
   "source": [
    "**Exercise:** Create a dictionary with `keys = elementary flow names` and `values = characterization factors `for the `TRACI` \"respiratory effects, inorganics\" method (including long-term emissions).  \n",
    "Bonus (optional): Generate a Pandas Series with the resulting dictionary. "
   ]
  },
  {
   "cell_type": "code",
   "execution_count": 48,
   "id": "418b679b-5be4-4469-9154-b5480ba1474e",
   "metadata": {},
   "outputs": [
    {
     "data": {
      "text/plain": [
       "[('TRACI', 'human health', 'respiratory effects, average')]"
      ]
     },
     "execution_count": 48,
     "metadata": {},
     "output_type": "execute_result"
    }
   ],
   "source": [
    "# Query 1\n",
    "[m for m in bw.methods if 'TRACI' in str(m)\n",
    "                        and 'respiratory effects' in str(m)]"
   ]
  },
  {
   "cell_type": "markdown",
   "id": "078e4f90-db9d-470c-bdba-28643c771365",
   "metadata": {},
   "source": [
    "Selecting:"
   ]
  },
  {
   "cell_type": "code",
   "execution_count": 52,
   "id": "a10440ce-aa0c-47dd-87d9-eb20a1c41eb0",
   "metadata": {},
   "outputs": [
    {
     "data": {
      "text/plain": [
       "('TRACI', 'human health', 'respiratory effects, average')"
      ]
     },
     "execution_count": 52,
     "metadata": {},
     "output_type": "execute_result"
    }
   ],
   "source": [
    "# Query 1\n",
    "TRACI_resp_effect_tuple = [m for m in bw.methods if 'TRACI' in str(m)\n",
    "                        and 'respiratory effects' in str(m)][0]\n",
    "TRACI_resp_effect_tuple"
   ]
  },
  {
   "cell_type": "markdown",
   "id": "375d7ff9-5db4-4e0d-bfbe-1cbc3c84d869",
   "metadata": {},
   "source": [
    "Now let's make a dictionary, let's assing the tuple to a `Method`:"
   ]
  },
  {
   "cell_type": "code",
   "execution_count": 53,
   "id": "133d0b26-7e4a-4c89-9d38-c7fd714dbe69",
   "metadata": {},
   "outputs": [
    {
     "data": {
      "text/plain": [
       "Brightway2 Method: TRACI: human health: respiratory effects, average"
      ]
     },
     "execution_count": 53,
     "metadata": {},
     "output_type": "execute_result"
    }
   ],
   "source": [
    "TRACI_resp_effect_method = bw.Method(TRACI_resp_effect_tuple)\n",
    "TRACI_resp_effect_method"
   ]
  },
  {
   "cell_type": "code",
   "execution_count": 54,
   "id": "c5aaca7b-249d-4eff-b965-f8e49c3563d2",
   "metadata": {},
   "outputs": [
    {
     "data": {
      "text/plain": [
       "[(('biosphere3', '9115356e-a534-4329-9ec6-d9208720241b'), 0.045849),\n",
       " (('biosphere3', '77357947-ccc5-438e-9996-95e65e1e1bce'), 0.045849),\n",
       " (('biosphere3', 'c1b91234-6f24-417b-8309-46111d09c457'), 0.045849),\n",
       " (('biosphere3', 'd068f3e2-b033-417b-a359-ca4f25da9731'), 0.045849),\n",
       " (('biosphere3', '051aaf7a-6c1a-4e86-999f-85d5f0830df6'), 1),\n",
       " (('biosphere3', '66f50b33-fd62-4fdd-a373-c5b0de7de00d'), 1),\n",
       " (('biosphere3', '21e46cb8-6233-4c99-bac3-c41d2ab99498'), 1),\n",
       " (('biosphere3', '230d8a0a-517c-43fe-8357-1818dd12997a'), 1),\n",
       " (('biosphere3', '6ce44f77-d181-4396-8fa2-2276eeeb4c08'), 0.24111),\n",
       " (('biosphere3', '78c3efe4-421c-4d30-82e4-b97ac5124993'), 0.24111),\n",
       " (('biosphere3', 'fd7aa71c-508c-480d-81a6-8052aad92646'), 0.24111),\n",
       " (('biosphere3', '8c52f40c-69b7-4538-8923-b371523c71f5'), 0.24111)]"
      ]
     },
     "execution_count": 54,
     "metadata": {},
     "output_type": "execute_result"
    }
   ],
   "source": [
    "TRACI_resp_effect_method.load()"
   ]
  },
  {
   "cell_type": "code",
   "execution_count": 55,
   "id": "c24d2ffc-06ee-4226-972e-a7977bbd1d22",
   "metadata": {},
   "outputs": [
    {
     "data": {
      "text/plain": [
       "{'Nitrogen oxides': 0.045849,\n",
       " 'Particulates, < 2.5 um': 1,\n",
       " 'Sulfur dioxide': 0.24111}"
      ]
     },
     "execution_count": 55,
     "metadata": {},
     "output_type": "execute_result"
    }
   ],
   "source": [
    "TRACI_resp_effect_dict = {bw.get_activity(ef[0])['name']:ef[1] for ef in TRACI_resp_effect_method.load()}\n",
    "TRACI_resp_effect_dict"
   ]
  },
  {
   "cell_type": "code",
   "execution_count": 57,
   "id": "8779817e-9691-4d8d-9f76-30f4c56e15d7",
   "metadata": {},
   "outputs": [
    {
     "data": {
      "text/plain": [
       "Nitrogen oxides           0.045849\n",
       "Particulates, < 2.5 um    1.000000\n",
       "Sulfur dioxide            0.241110\n",
       "Name: ('TRACI', 'human health', 'respiratory effects, average'), kg PM2.5-Eq, dtype: float64"
      ]
     },
     "execution_count": 57,
     "metadata": {},
     "output_type": "execute_result"
    }
   ],
   "source": [
    "# Bonus: put the whole thing in a neat Pandas series\n",
    "pd.Series(TRACI_resp_effect_dict,\n",
    "          name=\"{}, {}\".format(TRACI_resp_effect_method.name, TRACI_resp_effect_method.metadata['unit']))"
   ]
  },
  {
   "cell_type": "code",
   "execution_count": null,
   "id": "0e0a25cf-2c0c-45e5-a43e-16ddc79cead0",
   "metadata": {},
   "outputs": [],
   "source": []
  }
 ],
 "metadata": {
  "kernelspec": {
   "display_name": "bw2_rosetta",
   "language": "python",
   "name": "bw2_rosetta"
  },
  "language_info": {
   "codemirror_mode": {
    "name": "ipython",
    "version": 3
   },
   "file_extension": ".py",
   "mimetype": "text/x-python",
   "name": "python",
   "nbconvert_exporter": "python",
   "pygments_lexer": "ipython3",
   "version": "3.9.12"
  }
 },
 "nbformat": 4,
 "nbformat_minor": 5
}

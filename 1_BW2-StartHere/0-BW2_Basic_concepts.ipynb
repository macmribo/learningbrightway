{
 "cells": [
  {
   "cell_type": "markdown",
   "id": "11909d73-b2cf-4437-99b2-9082f845e3bd",
   "metadata": {
    "tags": []
   },
   "source": [
    "# 0 &ensp; Introduction and main concepts"
   ]
  },
  {
   "cell_type": "markdown",
   "id": "7c5f8d4e-e426-4b72-a800-3e0a2ae167be",
   "metadata": {},
   "source": [
    "## 0.1 &ensp; Brightway2 M1 install"
   ]
  },
  {
   "cell_type": "markdown",
   "id": "1f471fc2-25e5-4234-b0f9-f357358598ef",
   "metadata": {
    "jp-MarkdownHeadingCollapsed": true,
    "tags": []
   },
   "source": [
    "Source: [Brightway](https://2.docs.brightway.dev/intro.html#intro) main documentation.\n",
    "\n",
    "\n",
    "\n",
    "M1 Silicon has given me a lot of trouble. So, this is the installation version that worked for _me_. Before copy pasting like a monkey on Adderall, I would strongly recommend you to follow the steps in this marvelous [post](https://taylorreiter.github.io/2022-04-05-Managing-multiple-architecture-specific-installations-of-conda-on-apple-M1/). Since Brightway2 works with some packages that need Intel, having a terminal running on Rosetta (Intel translator) with miniconda3, and a terminal running on ARM64 with miniforge3 will save you A LOT of troibleshooting. I renamed my terminal iTerm Rosetta and use this terminal every time I use Brightway2. \n",
    "\n",
    "`conda create -n bw_rosetta python=3.9` \n",
    "\n",
    "`conda activate bw2_rosetta` (You can name your environment as you please of course!)\n",
    "\n",
    "`conda config --append channels conda-forge`  \n",
    "\n",
    "`conda config --append channels cmutel` \n",
    "\n",
    "`conda install brightway2 scikit-umfpack` \n",
    "\n",
    "`conda remove pypardiso --force`\n",
    "\n",
    "\n",
    "<div class=\"alert alert-block alert-info\">\n",
    "<b>Tip:</b> I use Jupyterlab (or Jupyter Notebook) for a lot of stuff. What I do and work wonders is to install it in my base environment with <code>brew install jupyterlab</code> or <code>brew install jupyter</code>. Then, I go INSIDE my environment (<code>conda activate yadayada</code>) and install <code>ipykernel</code> with <code>conda install ipykernel</code> and FIIIINALLY I type <code>ipython kernel install --user --name=yadayada</code>. This way you store your environments in your notebook and can activate them inside jupyter. I know it is a lot, but I am saving you a lot of headaches. YOU ARE WELCOME.\n",
    "</div>\n",
    "\n",
    "You can find how to install for Linux and Windows in the Brightway2 [documentation](https://2.docs.brightway.dev/installation.html)."
   ]
  },
  {
   "cell_type": "markdown",
   "id": "6e963388-df14-4286-9e38-6321066273e5",
   "metadata": {
    "tags": [],
    "toc-hr-collapsed": true
   },
   "source": [
    "## 0.2 &ensp; Glossary"
   ]
  },
  {
   "cell_type": "markdown",
   "id": "34b81ae9-9e79-4f71-b7b7-5995085d5e6e",
   "metadata": {},
   "source": [
    "To understand some of the terminology used in Brightway (BW) it is important to grasp some general LCA terminology (from Hauschild's Glossary, p.1185—the actual reference for each word are specified in the glossary):\n",
    "\n",
    "**Life cycle assessment (LCA):** Compilation and evaluation of the inputs, outputs and the potential environmental impacts of a product system throughout its life cycle.\n",
    "\n",
    "**Life cycle inventory analysis (LCI):** Phase of life cycle assessment involving the compilation and quantification of inputs and outputs for a product throughout its life cycle.\n",
    "\n",
    "**Life cycle impact assessment (LCIA):** Phase of life cycle assessment aimed at understanding and evaluating the magnitude and significance of the potential environmental impacts for a product system throughout the life cycle of the product\n",
    "\n",
    "**Ecosphere:** Biosphere of earth, especially when the interaction between living and non-living components is emphasised.\n",
    "\n",
    "**Technosphere:** The sphere or realm of human technological activity; the technologically modified environment\n",
    "\n",
    "**Functional unit:** Defines the qualitative aspects and quantifies the quantitative aspects of the function, answers the questions *what?, how much?, for how long/how many times?, where? and how well?*. Quantified performance of a product system for use as a reference unit.\n",
    "\n",
    "**Unit process or node:** Smallest element considered in the life cycle inventory analysis for which input and output data are quantified.\n",
    "\n",
    "**Product system**: Collection of unit processes with elementary and product flows, performing one or more defined functions, and which models the life cycle of a product.\n",
    "\n",
    "**Input**: Product, material or energy flow that enters a unit process. *Note: Products and materials include raw materials, intermediate products and co-products.*\n",
    "\n",
    "**Output:** Product, material or energy flow that leaves a unit process. *Note: Products and materials include raw materials, intermediate products, co-products and releases.*\n",
    "\n",
    "**Resource flow:** Input flow sourced directly from the ecosphere, this flow had no human intervention.\n",
    "\n",
    "**Emission flow:** Output flow released into the ecosphere without subsequent human transformation.\n",
    "\n",
    "**Energy flow:** Input or output of a unit process or product system quantified in energy units.\n",
    "\n",
    "**Material or Product flow:** Products entering from or leaving to another product system.\n",
    "\n",
    "**Intermediate flow:** Product, material or energy flow occurring between unit processes of the product system being studied.\n",
    "\n",
    "**Reference flow**: Measure of the outputs from processes in a given product system required to fulfil the function expressed by the functional unit.\n",
    "\n",
    "**Characterization factor**: Factor derived from a characterization model which is applied to convert an assigned life cycle inventory analysis result to the common unit of the category indicator. *Note*: The common unit allows calculation of the category indicator result.\n",
    "\n",
    "**Characterization model**: Reflect the environmental mechanism by describing the relationship between the LCI results, category indicators and, in some cases, category endpoint(s). The characterization model is used to derive the characterization factors.\n",
    "\n",
    "![PROJECT:](images/unitprocess_flows.jpg)\n",
    "\n"
   ]
  },
  {
   "cell_type": "markdown",
   "id": "b0139d9c-5cad-44d2-ac4c-ab7ba2d9c7e6",
   "metadata": {},
   "source": [
    "## 0.3 &ensp; Project structure"
   ]
  },
  {
   "cell_type": "markdown",
   "id": "dd3a8a6e-a711-4690-a157-b472f5c52a1b",
   "metadata": {},
   "source": [
    "The following image represent the hierarchy in a Brightway project:\n",
    "\n",
    "![PROJECT:](images/project_layout.svg)\n",
    "\n",
    "**Inventory databases:** *Object* used to organize nodes and edges (unit processes and flows, respectively)  in a life cycle inventory analysis (LCI).\n",
    "\n",
    "**Activities and exchanges:** Nodes are called *activities*, include transforming and market activities, but also product and biosphere flows. Edges are called *exchanges*, describe the relationship betweem two nodes. E.g. input of a product to a transforming activity, or an emission of a biosphere flow by an activity, or name and amount of a product oriduced by an activity. In short: activities are unit processes and exchanges are flows."
   ]
  },
  {
   "cell_type": "markdown",
   "id": "76e168db-5154-4d8f-91f0-2693bb1d137e",
   "metadata": {},
   "source": [
    "### &ensp; 0.3.1 Activities"
   ]
  },
  {
   "cell_type": "markdown",
   "id": "43813e25-bc5a-446e-b9ae-59797cef05b7",
   "metadata": {},
   "source": [
    "A database consists of a series of inventory datasets, datasets are human-readable, editable text documents. Usually they com in .json format. But BW is flexible with all sorts of formats. BW has a flexible free text form (even an empty dictionary is accepted). However, there are fields suggested:\n",
    "\n",
    "\n",
    "The activity data structure is:\n",
    "\n",
    "* `'name'` (string): Name of this activity.\n",
    "\n",
    "* `'type'` (string): If this is `'process'`, or omitted completely, Brightway2 will treat this as a inventory process with inputs and output(s). If you want to store additional information in a Database outside of the list of processes, specify a custom type here. For example, the list of biosphere flows is also an inventory database, but as these are flows, not processes, they have the type `'emission'`. Similarly, if you wanted to separate processes and products, you could create database entries for the products, with the type `'product'`. Other `'type'` includes `'biosphere'`.\n",
    "    \n",
    "* `'categories'` (list of strings, optional): A list of categories and subcategories. No length limits.\n",
    "    \n",
    "* `'location'` (string, optional): A location identifier. Default is GLO, but this can be changed in the User preferences.\n",
    "    \n",
    "* `'unit'` (string): Unit of this activity. Units are normalized when written to disk.\n",
    "   \n",
    "* `'exchanges'` (list): A list of activity inputs and outputs (it can have many!), minitum items are `'inout'`, `'type'`, and `'amount'`:\n",
    "\n",
    "    *`'input'` (database name, database code): The technological activity that is linked to, e.g. (\"my new database\", \"production of ice cream\") or ('biosphere', '51447e58e03a40a2bbd9abf45214b7d3'). See also Uniquely identifying activities.\n",
    "\n",
    "    *`'type'` (string):It can be production, technosphere, or biosphere. See Exchange data format.\n",
    "\n",
    "    *`'amount'` (float): Amount of this exchange.\n",
    "       \n",
    "    *`'uncertainty type'` (integer): Integer code for uncertainty distribution of this exchange, see Storing uncertain values for more information. There can be other uncertainty fields as well.\n",
    "\n",
    "    *`'comment'` (string, optional): A comment on this exchange. Used to store pedigree matrix data in ecoinvent v2.\n",
    "\n",
    "Example:\n",
    "```python\n",
    "{\n",
    " 'categories': ['Wood Product Manufacturing', 'Softwood Veneer and Plywood Mnf.'],\n",
    " 'location': 'RNA',\n",
    " 'name': 'Green veneer, at plywood plant, US PNW',\n",
    " 'type': 'process',\n",
    " 'unit': 'kilogram',\n",
    " 'exchanges': [{\n",
    "   'amount': 1.0,\n",
    "   'code': 6,\n",
    "   'group': 2,\n",
    "   'input': ('US LCI', '6ddb4cc00f9e42aa48515248256c31dc'),\n",
    "   'type': 'production',\n",
    "   'uncertainty type': 0},\n",
    "  {'amount': 7.349999999999999e-06,\n",
    "   'code': 5,\n",
    "   'group': 4,\n",
    "   'input': ('biosphere', '51447e58e03a40a2bbd9abf45214b7d3'),\n",
    "   'type': 'biosphere',\n",
    "   'uncertainty type': 0}],\n",
    "}\n",
    "```"
   ]
  },
  {
   "cell_type": "markdown",
   "id": "1ca05b03-d370-4aae-b731-c2d5b867138d",
   "metadata": {},
   "source": [
    "### &ensp; 0.3.2  Exchanges"
   ]
  },
  {
   "cell_type": "markdown",
   "id": "723eb881-3d42-4f7c-9496-f7a4174f96e7",
   "metadata": {
    "tags": []
   },
   "source": [
    "Exchanges are lists of inputs and outputs of an activity. Exchanges have a `'type'`, there are four standard exchange `'type': `'production'`, `'substitution'`, `'technosphere'`, and `'biosphere'`.\n",
    "\n",
    "* `'production'`: How much of the output is produces by an activity.\n",
    "\n",
    "* `'substitution'`: used in multi-output processess to indicate the avoided production of a product by another activity, always positive value.\n",
    "\n",
    "* `'technosphere'`: input from the technosphere, i.e. industrial economy: the process “make a fizzbang” could have an input of seven kilograms of lollies.\n",
    "\n",
    "* `'biosphere'`: consumtion of a resource or emission to the environment, the value is placed in the biosphere matrix.\n",
    "\n",
    "**Sign convention**\n",
    "\n",
    "* `'biosphere'`: Values are not modified.\n",
    "* `'production'`: and `'substitution'`: Values are not modified.\n",
    "* `'technosphere'`: Multiplied by -1 and inserted into the technosphere matrix, -1 means consumption of products, +1 means production or substitution (forces the substituted activity to have a negative production amount, representing the avoided production pathwayforces the substituted activity to have a negative production amount, representing the avoided production pathway). \n",
    "\n",
    "These rules are consistent with the traditional Leontief inverse of IO tables:\n",
    "\n",
    "/begin{equation}\n",
    "x = (I-A)^{-1}d\n",
    "/end{equation}\n",
    "\n",
    "Default metadata in Brightway follows ecoinvent system assumptions about biosphere flow categories:\n",
    "\n",
    "* _Air_, _soil_, and _water_ are emissions into the natural environment.\n",
    "* _Natural resource_ flows are consumtion of natural resources from the natural environment.\n",
    "\n",
    "**Note**: Negative biosphere values reverse these assumptions, e.g.: -2 kg of $CO_2$  with category *air* would be <ins>removal</ins> of $CO_2$ from the natural environment. Signs do not really matter as long as there is consistency with the signs of the impact assessment characterization factors."
   ]
  },
  {
   "cell_type": "markdown",
   "id": "3a8eeec0-3ba5-42f8-a1dc-0e8863ed0cd2",
   "metadata": {},
   "source": [
    "## 0.4 &ensp; Database"
   ]
  },
  {
   "cell_type": "markdown",
   "id": "91651b02",
   "metadata": {},
   "source": [
    "Brightway2 stores each database in a separate file within the Project folder. It also support pluggable database backends, which can change how databases are stores and queried.\n",
    "\n",
    "BW2 also provides `bw2data.backends.JSONDatabase`, which stores each dataset as a se[arate file serialized to `JSON`. This approach works well with version control  systems, as each database can be saved individually, see the [documentation](https://2.docs.brightway.dev/technical/bw2data.html#json-database)."
   ]
  },
  {
   "cell_type": "code",
   "execution_count": null,
   "id": "4466308b-e391-4b19-aa94-b06e813200d6",
   "metadata": {},
   "outputs": [],
   "source": []
  }
 ],
 "metadata": {
  "citation-manager": {
   "items": {}
  },
  "kernelspec": {
   "display_name": "bw2",
   "language": "python",
   "name": "bw2"
  },
  "language_info": {
   "codemirror_mode": {
    "name": "ipython",
    "version": 3
   },
   "file_extension": ".py",
   "mimetype": "text/x-python",
   "name": "python",
   "nbconvert_exporter": "python",
   "pygments_lexer": "ipython3",
   "version": "3.9.12"
  }
 },
 "nbformat": 4,
 "nbformat_minor": 5
}

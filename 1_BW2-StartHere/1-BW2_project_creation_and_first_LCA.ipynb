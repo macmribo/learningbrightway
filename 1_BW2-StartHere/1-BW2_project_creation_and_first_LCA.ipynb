{
 "cells": [
  {
   "cell_type": "markdown",
   "id": "ed024ca7-f753-4851-b6a2-0f34ef71ef6b",
   "metadata": {},
   "source": [
    "# 1 &ensp; From project creation to LCA calculations"
   ]
  },
  {
   "cell_type": "raw",
   "id": "564e253d-8073-4533-b702-4e0210051cd7",
   "metadata": {},
   "source": []
  },
  {
   "cell_type": "markdown",
   "id": "c57279e9-0451-4d59-ae3d-080ef51bf4e0",
   "metadata": {},
   "source": [
    "These series of notebooks replicate those from [Brightway Seminar 2017 by Chris Mutel and Pascal Lesage](https://github.com/PoutineAndRosti/Brightway-Seminar-2017). Please go there for a full experience. This one is a more 'in a nutshell' version. I used the FORWAST database. An extra feature of this notebook is that all the links are updated to the [new official documentation page](https://2.docs.brightway.dev/index.html).\n",
    "\n",
    "Use this notebook if you don't have ecoinvent, otherwise go to Chris Mutel's!\n",
    "\n",
    "At the end of this notebook you will be able to:\n",
    "* Create a project.\n",
    "* Import databases.\n",
    "* Extract, search, manipulate and understand: activities, exchanges and methods.\n",
    "* Understand how the LCI and LCIA matrices are derived.\n",
    "* Calculate LCA of single functional units.\n",
    "* Compare multiple LCAs.\n",
    "* Run multiple LCAs."
   ]
  },
  {
   "cell_type": "markdown",
   "id": "5e8b8915-42d9-4ff0-8636-3eb420df4458",
   "metadata": {},
   "source": [
    "## 1.1 &ensp; Project creation"
   ]
  },
  {
   "cell_type": "markdown",
   "id": "b178caee-fec4-4752-972a-6c357fb2a5a1",
   "metadata": {},
   "source": [
    "Import relevant packages. There are two ways to import Brightway2, `import brightway2 as bw` or, `from brightway2 import *`. The latter allows you to work without the `bw.` caller."
   ]
  },
  {
   "cell_type": "code",
   "execution_count": 1,
   "id": "cefb6b8c-9588-41d7-9c49-d1df71d95e9f",
   "metadata": {},
   "outputs": [],
   "source": [
    "import brightway2 as bw"
   ]
  },
  {
   "cell_type": "code",
   "execution_count": 2,
   "id": "9809d939-2abe-43f1-8f9c-8f0246519e07",
   "metadata": {},
   "outputs": [],
   "source": [
    "import os               # to use \"operating system dependent functionality\"\n",
    "import numpy as np      # \"the fundamental package for scientific computing with Python\"\n",
    "import pandas as pd     # \"high-performance, easy-to-use data structures and data analysis tools\" for Python"
   ]
  },
  {
   "cell_type": "markdown",
   "id": "c46ced81-84c4-470f-96ba-2166236ecd55",
   "metadata": {},
   "source": [
    "Check project directory, current project, list projects and create/set a project folder, respectively:"
   ]
  },
  {
   "cell_type": "code",
   "execution_count": 3,
   "id": "f7a3eae5-d540-4c6d-9f05-d39b9d778eeb",
   "metadata": {},
   "outputs": [
    {
     "data": {
      "text/plain": [
       "'/Users/mmendez/Library/Application Support/Brightway3/default.c21f969b5f03d33d43e04f8f136e7682'"
      ]
     },
     "execution_count": 3,
     "metadata": {},
     "output_type": "execute_result"
    }
   ],
   "source": [
    "bw.projects.dir"
   ]
  },
  {
   "cell_type": "code",
   "execution_count": 4,
   "id": "be790b8b-a613-49f3-85ac-74d55228b767",
   "metadata": {},
   "outputs": [
    {
     "data": {
      "text/plain": [
       "'default'"
      ]
     },
     "execution_count": 4,
     "metadata": {},
     "output_type": "execute_result"
    }
   ],
   "source": [
    "bw.projects.current"
   ]
  },
  {
   "cell_type": "code",
   "execution_count": 5,
   "id": "20bf11b1-c0b8-46d0-bd81-2f77a732c06b",
   "metadata": {},
   "outputs": [],
   "source": [
    "bw.projects.report();"
   ]
  },
  {
   "cell_type": "code",
   "execution_count": 6,
   "id": "bb47a43b-8bd7-41b8-a725-426667f11869",
   "metadata": {},
   "outputs": [],
   "source": [
    "bw.projects.set_current('MW_1')"
   ]
  },
  {
   "cell_type": "markdown",
   "id": "89f12526-2067-46ce-b21e-77e8cd900333",
   "metadata": {},
   "source": [
    "Setup biosphere and LCIA methods with `bw2setup()`."
   ]
  },
  {
   "cell_type": "code",
   "execution_count": 7,
   "id": "8d9daf06-e737-49a3-94fd-10bb5a1605ac",
   "metadata": {},
   "outputs": [
    {
     "name": "stderr",
     "output_type": "stream",
     "text": [
      "Writing activities to SQLite3 database:\n"
     ]
    },
    {
     "name": "stdout",
     "output_type": "stream",
     "text": [
      "Creating default biosphere\n",
      "\n",
      "Applying strategy: normalize_units\n",
      "Applying strategy: drop_unspecified_subcategories\n",
      "Applying strategy: ensure_categories_are_tuples\n",
      "Applied 3 strategies in 0.00 seconds\n"
     ]
    },
    {
     "name": "stderr",
     "output_type": "stream",
     "text": [
      "0% [##############################] 100% | ETA: 00:00:00\n",
      "Total time elapsed: 00:00:00\n"
     ]
    },
    {
     "name": "stdout",
     "output_type": "stream",
     "text": [
      "Title: Writing activities to SQLite3 database:\n",
      "  Started: 09/07/2022 14:42:20\n",
      "  Finished: 09/07/2022 14:42:20\n",
      "  Total time elapsed: 00:00:00\n",
      "  CPU %: 1.70\n",
      "  Memory %: 0.68\n",
      "Created database: biosphere3\n",
      "Creating default LCIA methods\n",
      "\n",
      "Applying strategy: normalize_units\n",
      "Applying strategy: set_biosphere_type\n",
      "Applying strategy: fix_ecoinvent_38_lcia_implementation\n",
      "Applying strategy: drop_unspecified_subcategories\n",
      "Applying strategy: link_iterable_by_fields\n",
      "Applied 5 strategies in 0.88 seconds\n",
      "Wrote 975 LCIA methods with 254388 characterization factors\n",
      "Creating core data migrations\n",
      "\n"
     ]
    }
   ],
   "source": [
    "bw.bw2setup()"
   ]
  },
  {
   "cell_type": "code",
   "execution_count": 8,
   "id": "e3a8d7a9-a14f-4171-b019-c2c4cad2ba57",
   "metadata": {},
   "outputs": [
    {
     "data": {
      "text/plain": [
       "Databases dictionary with 1 object(s):\n",
       "\tbiosphere3"
      ]
     },
     "execution_count": 8,
     "metadata": {},
     "output_type": "execute_result"
    }
   ],
   "source": [
    "bw.databases"
   ]
  },
  {
   "cell_type": "code",
   "execution_count": 9,
   "id": "d8991517-42ef-4482-a579-9898722412b6",
   "metadata": {},
   "outputs": [],
   "source": [
    "bio = bw.Database('biosphere3')"
   ]
  },
  {
   "cell_type": "markdown",
   "id": "e9f53e58-08c7-4c52-a9ff-4c2115a816aa",
   "metadata": {},
   "source": [
    "## 1.2 &ensp; Extracting and searching activities and exchanges"
   ]
  },
  {
   "cell_type": "markdown",
   "id": "ae954974-8ee9-4da3-b8f2-d978c39dc378",
   "metadata": {},
   "source": [
    "Here you can see all the methods you can call on the bw object:"
   ]
  },
  {
   "cell_type": "code",
   "execution_count": 10,
   "id": "2d7890ae-fc68-4909-913c-38bc85f4a852",
   "metadata": {},
   "outputs": [],
   "source": [
    "dir(bw);"
   ]
  },
  {
   "cell_type": "markdown",
   "id": "55a0b780-12e6-4080-a964-8a62c298faab",
   "metadata": {},
   "source": [
    "Let's assign the database to a variable:"
   ]
  },
  {
   "cell_type": "code",
   "execution_count": 11,
   "id": "ebd8b071-6deb-466f-9c14-3ebd89a3b0cb",
   "metadata": {},
   "outputs": [],
   "source": [
    "my_bio = bw.Database('biosphere3')"
   ]
  },
  {
   "cell_type": "code",
   "execution_count": 12,
   "id": "37342cf0-1d2f-4a61-8ac2-5c3f369e55a2",
   "metadata": {},
   "outputs": [
    {
     "data": {
      "text/plain": [
       "bw2data.backends.peewee.database.SQLiteBackend"
      ]
     },
     "execution_count": 12,
     "metadata": {},
     "output_type": "execute_result"
    }
   ],
   "source": [
    "type(my_bio)"
   ]
  },
  {
   "cell_type": "code",
   "execution_count": 13,
   "id": "13750113-5f61-4488-ade9-27bf02364ff4",
   "metadata": {},
   "outputs": [
    {
     "data": {
      "text/plain": [
       "4427"
      ]
     },
     "execution_count": 13,
     "metadata": {},
     "output_type": "execute_result"
    }
   ],
   "source": [
    "len(my_bio)"
   ]
  },
  {
   "cell_type": "markdown",
   "id": "8a21b802-7cb2-4fe1-8d7a-5ada6dea3623",
   "metadata": {},
   "source": [
    "Let's check its properties and methods:"
   ]
  },
  {
   "cell_type": "code",
   "execution_count": 14,
   "id": "c7c74874-1fd5-44f5-9b0e-73b610a621a4",
   "metadata": {},
   "outputs": [],
   "source": [
    "dir(my_bio);"
   ]
  },
  {
   "cell_type": "markdown",
   "id": "c6deb677-e93c-43a3-a3d4-aa3bc440cd75",
   "metadata": {},
   "source": [
    "Some of the more basic ones we will be using now are :  \n",
    "  - `random()` - returns a random activity in the database\n",
    "  - `get(*valid_exchange_tuple*)` - returns an activity, but you must know the activity key\n",
    "  - `load()` - loads the whole database as a dictionary.\n",
    "  - `make_searchable` - allows searching of the database (by default, it is already searchable)\n",
    "  - `search` - search the database  \n",
    "  \n",
    "Lets start with `random`:"
   ]
  },
  {
   "cell_type": "code",
   "execution_count": 15,
   "id": "2c6bfa36-f150-4372-a56d-9a76ecb2ca16",
   "metadata": {},
   "outputs": [
    {
     "data": {
      "text/plain": [
       "'Dioxins, measured as 2,3,7,8-tetrachlorodibenzo-p-dioxin' (kilogram, None, ('soil',))"
      ]
     },
     "execution_count": 15,
     "metadata": {},
     "output_type": "execute_result"
    }
   ],
   "source": [
    "my_bio.random()"
   ]
  },
  {
   "cell_type": "markdown",
   "id": "186c9374-6a7a-4cc5-a0ad-5c84d0579518",
   "metadata": {},
   "source": [
    "It gives us a random bioosphere activity, to use it properly we need to assign it to a variable."
   ]
  },
  {
   "cell_type": "code",
   "execution_count": 16,
   "id": "0d7fe23e-e643-4608-a9aa-46e632925677",
   "metadata": {},
   "outputs": [
    {
     "data": {
      "text/plain": [
       "'Ethane, 1,2-dichloro-1,1,2,2-tetrafluoro-, CFC-114' (kilogram, None, ('air', 'non-urban air or from high stacks'))"
      ]
     },
     "execution_count": 16,
     "metadata": {},
     "output_type": "execute_result"
    }
   ],
   "source": [
    "random_biosphere = my_bio.random()\n",
    "random_biosphere"
   ]
  },
  {
   "cell_type": "code",
   "execution_count": 17,
   "id": "4e5e2ae1-6795-4e60-8e76-3482185f996f",
   "metadata": {},
   "outputs": [
    {
     "data": {
      "text/plain": [
       "bw2data.backends.peewee.proxies.Activity"
      ]
     },
     "execution_count": 17,
     "metadata": {},
     "output_type": "execute_result"
    }
   ],
   "source": [
    "type(random_biosphere)"
   ]
  },
  {
   "cell_type": "markdown",
   "id": "6249f7e6-b75c-4b46-b486-6b360ebc60f4",
   "metadata": {},
   "source": [
    "The type is an **activity proxy**. Activity proxies allow us to interact with the content of the database. In the journey to and from the database, several translation layers are used:\n",
    "\n",
    "SQLITE DATABASE *Binary tuples*\n",
    "\n",
    "&#8595;\n",
    "\n",
    "Peewee ORM *Python classs instance* (***ActivityDataset*** or ***ExchangeDataset***)\n",
    "\n",
    "&#8595;\n",
    "\n",
    "Brightway2 *Python class instance* (***Activity*** or ***Exchange***)"
   ]
  },
  {
   "cell_type": "markdown",
   "id": "492ad23c-5810-4513-93a2-df6af172da2b",
   "metadata": {},
   "source": [
    "BW *mostly* works with `Activity` or `Exchange`.\n",
    "\n",
    "To see what the activity contains, we can convert it to a dictionary:"
   ]
  },
  {
   "cell_type": "code",
   "execution_count": 18,
   "id": "79998e7b-9948-4212-bd85-a60977a9e5a5",
   "metadata": {},
   "outputs": [
    {
     "data": {
      "text/plain": [
       "{'categories': ('air', 'non-urban air or from high stacks'),\n",
       " 'code': '1584734d-c5c8-42a5-aa51-0f6a92a9cc0d',\n",
       " 'CAS number': '000076-14-2',\n",
       " 'name': 'Ethane, 1,2-dichloro-1,1,2,2-tetrafluoro-, CFC-114',\n",
       " 'database': 'biosphere3',\n",
       " 'unit': 'kilogram',\n",
       " 'type': 'emission'}"
      ]
     },
     "execution_count": 18,
     "metadata": {},
     "output_type": "execute_result"
    }
   ],
   "source": [
    "random_biosphere.as_dict()"
   ]
  },
  {
   "cell_type": "markdown",
   "id": "02e388ad-acec-4fcd-a43a-174cf7733357",
   "metadata": {},
   "source": [
    "Let's get some activities:"
   ]
  },
  {
   "cell_type": "code",
   "execution_count": 19,
   "id": "95ea3725-d54d-4f66-843c-17092ca0466a",
   "metadata": {},
   "outputs": [
    {
     "data": {
      "text/plain": [
       "'Ethane, 1,2-dichloro-1,1,2,2-tetrafluoro-, CFC-114' (kilogram, None, ('air', 'non-urban air or from high stacks'))"
      ]
     },
     "execution_count": 19,
     "metadata": {},
     "output_type": "execute_result"
    }
   ],
   "source": [
    "my_bio.get(random_biosphere['code'])"
   ]
  },
  {
   "cell_type": "markdown",
   "id": "a9c0db03-0bdb-4100-bc14-d5d7e24526be",
   "metadata": {},
   "source": [
    "Activities can also be \"gotten\" via `get_activity`, but the argument is the activity **key**, consisting of a tuple with two elements: the database name, and the activity code."
   ]
  },
  {
   "cell_type": "markdown",
   "id": "7354c69e-bd50-4e09-926c-ccea2fa371dc",
   "metadata": {},
   "source": [
    "##### **Exercise 1.2.1:** Use `bw.get_activity()` to retrieve the random biosphere activity. "
   ]
  },
  {
   "cell_type": "code",
   "execution_count": 20,
   "id": "0025e3a6-c1d8-49e2-80fb-9d534af0eeba",
   "metadata": {},
   "outputs": [
    {
     "data": {
      "text/plain": [
       "'Ethane, 1,2-dichloro-1,1,2,2-tetrafluoro-, CFC-114' (kilogram, None, ('air', 'non-urban air or from high stacks'))"
      ]
     },
     "execution_count": 20,
     "metadata": {},
     "output_type": "execute_result"
    }
   ],
   "source": [
    "code = random_biosphere['code']\n",
    "databasename = 'biosphere3'\n",
    "random_biosphere_key = (databasename, code)\n",
    "bw.get_activity(random_biosphere_key)"
   ]
  },
  {
   "cell_type": "markdown",
   "id": "84e74000-b5f1-42c3-ae2e-5ed08d6db894",
   "metadata": {},
   "source": [
    "You can always find the `key` to an activity using the `.key` property:"
   ]
  },
  {
   "cell_type": "code",
   "execution_count": 21,
   "id": "bc9bba8d-abdb-4ecb-99f0-cb2eb468baa9",
   "metadata": {},
   "outputs": [
    {
     "data": {
      "text/plain": [
       "('biosphere3', '1584734d-c5c8-42a5-aa51-0f6a92a9cc0d')"
      ]
     },
     "execution_count": 21,
     "metadata": {},
     "output_type": "execute_result"
    }
   ],
   "source": [
    "random_biosphere.key"
   ]
  },
  {
   "cell_type": "markdown",
   "id": "a730bea5-8356-4c5a-baa2-3bc24fcd6a29",
   "metadata": {},
   "source": [
    "Let's now search through our database!"
   ]
  },
  {
   "cell_type": "code",
   "execution_count": 22,
   "id": "ae14c2f8-69d6-4e86-940b-8dd380fb894e",
   "metadata": {},
   "outputs": [],
   "source": [
    "my_bio.search('carbon dioxide'); # You can also use bw.Database('biosphere3').search('carbon dioxide')"
   ]
  },
  {
   "cell_type": "markdown",
   "id": "70648706-53f2-4e6f-9af3-deb98b37721b",
   "metadata": {},
   "source": [
    "We can also iterate over the database, this method uses [*list comprehension*]https://docs.python.org/3/tutorial/datastructures.html#list-comprehensions which allow us to add filters and personalize the search."
   ]
  },
  {
   "cell_type": "code",
   "execution_count": 23,
   "id": "a6efd587-d18b-4318-8829-8e807ae54d9a",
   "metadata": {},
   "outputs": [
    {
     "data": {
      "text/plain": [
       "['Carbon dioxide, fossil' (kilogram, None, ('air', 'urban air close to ground'))]"
      ]
     },
     "execution_count": 23,
     "metadata": {},
     "output_type": "execute_result"
    }
   ],
   "source": [
    "[act for act in my_bio if 'Carbon dioxide' in act['name'] \n",
    "                                            and 'fossil' in act['name']\n",
    "                                            and 'non' not in act['name']\n",
    "                                            and 'urban air close to ground' in str(act['categories'])\n",
    "]\n",
    "\n",
    "# To make it not case sensitive .lower() to all."
   ]
  },
  {
   "cell_type": "markdown",
   "id": "4680aca3-a33e-4ba4-a7a1-980d789b730d",
   "metadata": {},
   "source": [
    "Activities returned by searches or list comprehensions can be assigned to variables, but to do so, one needs to identify the activity by index. Based on the above, I can refine my filters to ensure the list comprehension only returns one activity, and then choose it without fear of choosing the wrong one."
   ]
  },
  {
   "cell_type": "code",
   "execution_count": 24,
   "id": "6a571716-f7a1-4de2-a9ee-5df8c5594eb4",
   "metadata": {},
   "outputs": [
    {
     "data": {
      "text/plain": [
       "['Carbon dioxide, fossil' (kilogram, None, ('air', 'urban air close to ground'))]"
      ]
     },
     "execution_count": 24,
     "metadata": {},
     "output_type": "execute_result"
    }
   ],
   "source": [
    "activity_I_want = [act for act in my_bio if 'Carbon dioxide' in act['name'] \n",
    "                                            and 'fossil' in act['name']\n",
    "                                            and 'non' not in act['name']\n",
    "                                            and 'urban air close to ground' in str(act['categories'])]\n",
    "activity_I_want"
   ]
  },
  {
   "cell_type": "markdown",
   "id": "1a2de0a4-686c-4b7a-9a1c-08afb4353637",
   "metadata": {},
   "source": [
    "##### **Exercise 1.2.2:** Look for and assign to a variable an emission of nitrous oxide emitted to air in the \"urban air\" subcompartment.\n"
   ]
  },
  {
   "cell_type": "code",
   "execution_count": 25,
   "id": "5f9cc9ba-ceaf-4606-91b9-43d2fb1c30fe",
   "metadata": {},
   "outputs": [
    {
     "data": {
      "text/plain": [
       "['Dinitrogen monoxide' (kilogram, None, ('air', 'non-urban air or from high stacks')),\n",
       " 'Dinitrogen monoxide' (kilogram, None, ('air', 'urban air close to ground'))]"
      ]
     },
     "execution_count": 25,
     "metadata": {},
     "output_type": "execute_result"
    }
   ],
   "source": [
    "exercise_activity = [act for act in my_bio if 'nitrogen' in act['name']\n",
    "                                            and 'urban air' in str(act['categories'])]\n",
    "exercise_activity"
   ]
  },
  {
   "cell_type": "markdown",
   "id": "9fcbf9ab-0509-4c24-a53a-90c4fcdf80e6",
   "metadata": {},
   "source": [
    "Now we select the first one:"
   ]
  },
  {
   "cell_type": "code",
   "execution_count": 26,
   "id": "0e8faaaa-16c7-46ee-8662-185f75089e2b",
   "metadata": {},
   "outputs": [
    {
     "data": {
      "text/plain": [
       "'Dinitrogen monoxide' (kilogram, None, ('air', 'non-urban air or from high stacks'))"
      ]
     },
     "execution_count": 26,
     "metadata": {},
     "output_type": "execute_result"
    }
   ],
   "source": [
    "exercise_activity = exercise_activity[0]\n",
    "exercise_activity"
   ]
  },
  {
   "cell_type": "markdown",
   "id": "19a08902-c5f1-44d1-8864-7c41a2ec18e1",
   "metadata": {},
   "source": [
    "## 1.3 &ensp; Methods"
   ]
  },
  {
   "cell_type": "markdown",
   "id": "4da33c86-aca4-4815-b775-e9650b4bafca",
   "metadata": {},
   "source": [
    "As mentioned before, we also installed methods:"
   ]
  },
  {
   "cell_type": "code",
   "execution_count": 1,
   "id": "5837b2b2-4084-43a6-8fd3-d74a96b0c1b8",
   "metadata": {},
   "outputs": [
    {
     "ename": "NameError",
     "evalue": "name 'bw' is not defined",
     "output_type": "error",
     "traceback": [
      "\u001b[0;31m---------------------------------------------------------------------------\u001b[0m",
      "\u001b[0;31mNameError\u001b[0m                                 Traceback (most recent call last)",
      "Input \u001b[0;32mIn [1]\u001b[0m, in \u001b[0;36m<cell line: 1>\u001b[0;34m()\u001b[0m\n\u001b[0;32m----> 1\u001b[0m \u001b[38;5;28mlist\u001b[39m(\u001b[43mbw\u001b[49m\u001b[38;5;241m.\u001b[39mmethods)\n",
      "\u001b[0;31mNameError\u001b[0m: name 'bw' is not defined"
     ]
    }
   ],
   "source": [
    "list(bw.methods);"
   ]
  },
  {
   "cell_type": "markdown",
   "id": "93d65979-6144-425c-a0bd-419e53dd0481",
   "metadata": {},
   "source": [
    "Select a random method:"
   ]
  },
  {
   "cell_type": "code",
   "execution_count": 28,
   "id": "ec7f1e63-b6c8-4400-9ae5-9ddb817e2268",
   "metadata": {},
   "outputs": [
    {
     "data": {
      "text/plain": [
       "('ecological scarcity 2013 no LT', 'radioactive substances into air', 'total')"
      ]
     },
     "execution_count": 28,
     "metadata": {},
     "output_type": "execute_result"
    }
   ],
   "source": [
    "bw.methods.random()"
   ]
  },
  {
   "cell_type": "markdown",
   "id": "1baa5075-2720-452d-a215-8b73e07eef14",
   "metadata": {},
   "source": [
    "This is just an informative tuple, to get the actual method we use:"
   ]
  },
  {
   "cell_type": "code",
   "execution_count": 29,
   "id": "40e7fb11-c3b2-487d-9eac-1a55df7617c6",
   "metadata": {},
   "outputs": [
    {
     "data": {
      "text/plain": [
       "Brightway2 Method: CML 2001 (superseded): eutrophication potential: generic"
      ]
     },
     "execution_count": 29,
     "metadata": {},
     "output_type": "execute_result"
    }
   ],
   "source": [
    "bw.Method(bw.methods.random())"
   ]
  },
  {
   "cell_type": "markdown",
   "id": "9397193b-66cd-42d5-b88e-ab6990cefcfb",
   "metadata": {},
   "source": [
    "Of course, a random method is probably not useful except to play around. To find an actual method, one can again use list comprehensions. Let's say I am interested in using the IPCC2013 100 years method:"
   ]
  },
  {
   "cell_type": "code",
   "execution_count": 30,
   "id": "161bb7f5-deed-437c-9224-25fe5a5113c5",
   "metadata": {},
   "outputs": [
    {
     "data": {
      "text/plain": [
       "[('IPCC 2013 no LT', 'climate change', 'GTP 100a'),\n",
       " ('IPCC 2013 no LT', 'climate change', 'GWP 100a'),\n",
       " ('IPCC 2013', 'climate change', 'GTP 100a'),\n",
       " ('IPCC 2013', 'climate change', 'GWP 100a')]"
      ]
     },
     "execution_count": 30,
     "metadata": {},
     "output_type": "execute_result"
    }
   ],
   "source": [
    "[m for m in bw.methods if 'IPCC' in str(m) and ('2013') in str(m) and '100' in str(m)]"
   ]
  },
  {
   "cell_type": "markdown",
   "id": "e979dc8a-3763-4a58-8b70-bf680fe72014",
   "metadata": {},
   "source": [
    "We can select the one we are interested in like we did before, assigning it to a variable and choose by subscripting. "
   ]
  },
  {
   "cell_type": "code",
   "execution_count": 31,
   "id": "1c4df0ac-e0ee-415a-991a-8e8b5f323bed",
   "metadata": {},
   "outputs": [
    {
     "data": {
      "text/plain": [
       "('IPCC 2013 no LT', 'climate change', 'GTP 100a')"
      ]
     },
     "execution_count": 31,
     "metadata": {},
     "output_type": "execute_result"
    }
   ],
   "source": [
    "select1 = [m for m in bw.methods if 'IPCC' in str(m) and ('2013') in str(m) and '100' in str(m)][0]\n",
    "select1"
   ]
  },
  {
   "cell_type": "markdown",
   "id": "41a8a8ee-93af-4056-bb27-9574ab1d8287",
   "metadata": {},
   "source": [
    "We can also refine searches:"
   ]
  },
  {
   "cell_type": "code",
   "execution_count": 32,
   "id": "7c52e7c1-c147-40a7-90a9-1d81b133d2b8",
   "metadata": {},
   "outputs": [
    {
     "data": {
      "text/plain": [
       "('IPCC 2013', 'climate change', 'GWP 100a')"
      ]
     },
     "execution_count": 32,
     "metadata": {},
     "output_type": "execute_result"
    }
   ],
   "source": [
    "ipcc2013 = [m for m in bw.methods if 'IPCC' in m[0]\n",
    "                    and ('2013') in str(m)\n",
    "                    and 'GWP 100' in str(m)\n",
    "                    and 'no LT' not in str(m)][0]\n",
    "ipcc2013"
   ]
  },
  {
   "cell_type": "code",
   "execution_count": 33,
   "id": "562c5396-617b-499d-a8c9-fb616a92b878",
   "metadata": {},
   "outputs": [
    {
     "data": {
      "text/plain": [
       "tuple"
      ]
     },
     "execution_count": 33,
     "metadata": {},
     "output_type": "execute_result"
    }
   ],
   "source": [
    "type(ipcc2013)"
   ]
  },
  {
   "cell_type": "code",
   "execution_count": 34,
   "id": "bd593bdb-48b3-4b84-9a1c-1a9ef3a08de4",
   "metadata": {},
   "outputs": [],
   "source": [
    "ipcc_2013_method = bw.Method(ipcc2013)"
   ]
  },
  {
   "cell_type": "markdown",
   "id": "85d06724-f8ce-4f99-836f-66c5b19c7aa3",
   "metadata": {},
   "source": [
    "Let's check the methods associated with this method object:"
   ]
  },
  {
   "cell_type": "code",
   "execution_count": 35,
   "id": "a3f574c4-ee23-4ab3-87f4-a3a2cf3c941b",
   "metadata": {},
   "outputs": [],
   "source": [
    "dir(ipcc_2013_method);"
   ]
  },
  {
   "cell_type": "code",
   "execution_count": 36,
   "id": "f41a16ee-6dd3-452c-b872-3c55e74b2831",
   "metadata": {},
   "outputs": [
    {
     "data": {
      "text/plain": [
       "('IPCC 2013', 'climate change', 'GWP 100a')"
      ]
     },
     "execution_count": 36,
     "metadata": {},
     "output_type": "execute_result"
    }
   ],
   "source": [
    "ipcc_2013_method.name"
   ]
  },
  {
   "cell_type": "code",
   "execution_count": 37,
   "id": "7103cb66-3514-443c-8339-66eef3ece5ee",
   "metadata": {},
   "outputs": [],
   "source": [
    "ipcc_2013_method.metadata;"
   ]
  },
  {
   "cell_type": "code",
   "execution_count": 38,
   "id": "ddb10264-dd3b-4faf-bcd8-200d4d39890a",
   "metadata": {},
   "outputs": [
    {
     "data": {
      "text/plain": [
       "'kg CO2-Eq'"
      ]
     },
     "execution_count": 38,
     "metadata": {},
     "output_type": "execute_result"
    }
   ],
   "source": [
    "ipcc_2013_method.metadata['unit']"
   ]
  },
  {
   "cell_type": "markdown",
   "id": "bfce10fd-d1dc-41aa-b378-db25e1ab197a",
   "metadata": {},
   "source": [
    "**Question:** What is inside this method object? Let's check it out!"
   ]
  },
  {
   "cell_type": "code",
   "execution_count": 39,
   "id": "e0d1ceb1-643e-4986-9063-271c9488c9d1",
   "metadata": {},
   "outputs": [],
   "source": [
    "ipcc_2013_method.load();"
   ]
  },
  {
   "cell_type": "markdown",
   "id": "2649075c-ea12-4c32-a380-868436f522af",
   "metadata": {},
   "source": [
    "This is a list of tuples of the database, code and the characterization factor."
   ]
  },
  {
   "cell_type": "markdown",
   "id": "70863d02-d86b-4ac5-a4f6-a97c6420af07",
   "metadata": {},
   "source": [
    "##### **Exercise 1.3.1:** Create a dictionary with `keys = elementary flow names` and `values = characterization factors `for the `TRACI` \"respiratory effects, inorganics\" method (including long-term emissions).  \n",
    "Bonus (optional): Generate a Pandas Series with the resulting dictionary. "
   ]
  },
  {
   "cell_type": "code",
   "execution_count": 40,
   "id": "418b679b-5be4-4469-9154-b5480ba1474e",
   "metadata": {},
   "outputs": [
    {
     "data": {
      "text/plain": [
       "[('TRACI', 'human health', 'respiratory effects, average')]"
      ]
     },
     "execution_count": 40,
     "metadata": {},
     "output_type": "execute_result"
    }
   ],
   "source": [
    "# Query 1\n",
    "[m for m in bw.methods if 'TRACI' in str(m)\n",
    "                        and 'respiratory effects' in str(m)]"
   ]
  },
  {
   "cell_type": "markdown",
   "id": "078e4f90-db9d-470c-bdba-28643c771365",
   "metadata": {},
   "source": [
    "Selecting:"
   ]
  },
  {
   "cell_type": "code",
   "execution_count": 41,
   "id": "a10440ce-aa0c-47dd-87d9-eb20a1c41eb0",
   "metadata": {},
   "outputs": [
    {
     "data": {
      "text/plain": [
       "('TRACI', 'human health', 'respiratory effects, average')"
      ]
     },
     "execution_count": 41,
     "metadata": {},
     "output_type": "execute_result"
    }
   ],
   "source": [
    "# Query 1\n",
    "TRACI_resp_effect_tuple = [m for m in bw.methods if 'TRACI' in str(m)\n",
    "                        and 'respiratory effects' in str(m)][0]\n",
    "TRACI_resp_effect_tuple"
   ]
  },
  {
   "cell_type": "markdown",
   "id": "375d7ff9-5db4-4e0d-bfbe-1cbc3c84d869",
   "metadata": {},
   "source": [
    "Now let's make a dictionary, let's assing the tuple to a `Method`:"
   ]
  },
  {
   "cell_type": "code",
   "execution_count": 42,
   "id": "133d0b26-7e4a-4c89-9d38-c7fd714dbe69",
   "metadata": {},
   "outputs": [
    {
     "data": {
      "text/plain": [
       "Brightway2 Method: TRACI: human health: respiratory effects, average"
      ]
     },
     "execution_count": 42,
     "metadata": {},
     "output_type": "execute_result"
    }
   ],
   "source": [
    "TRACI_resp_effect_method = bw.Method(TRACI_resp_effect_tuple)\n",
    "TRACI_resp_effect_method"
   ]
  },
  {
   "cell_type": "code",
   "execution_count": 43,
   "id": "c5aaca7b-249d-4eff-b965-f8e49c3563d2",
   "metadata": {},
   "outputs": [
    {
     "data": {
      "text/plain": [
       "[(('biosphere3', '9115356e-a534-4329-9ec6-d9208720241b'), 0.045849),\n",
       " (('biosphere3', '77357947-ccc5-438e-9996-95e65e1e1bce'), 0.045849),\n",
       " (('biosphere3', 'c1b91234-6f24-417b-8309-46111d09c457'), 0.045849),\n",
       " (('biosphere3', 'd068f3e2-b033-417b-a359-ca4f25da9731'), 0.045849),\n",
       " (('biosphere3', '051aaf7a-6c1a-4e86-999f-85d5f0830df6'), 1),\n",
       " (('biosphere3', '66f50b33-fd62-4fdd-a373-c5b0de7de00d'), 1),\n",
       " (('biosphere3', '21e46cb8-6233-4c99-bac3-c41d2ab99498'), 1),\n",
       " (('biosphere3', '230d8a0a-517c-43fe-8357-1818dd12997a'), 1),\n",
       " (('biosphere3', '6ce44f77-d181-4396-8fa2-2276eeeb4c08'), 0.24111),\n",
       " (('biosphere3', '78c3efe4-421c-4d30-82e4-b97ac5124993'), 0.24111),\n",
       " (('biosphere3', 'fd7aa71c-508c-480d-81a6-8052aad92646'), 0.24111),\n",
       " (('biosphere3', '8c52f40c-69b7-4538-8923-b371523c71f5'), 0.24111)]"
      ]
     },
     "execution_count": 43,
     "metadata": {},
     "output_type": "execute_result"
    }
   ],
   "source": [
    "TRACI_resp_effect_method.load()"
   ]
  },
  {
   "cell_type": "code",
   "execution_count": 44,
   "id": "c24d2ffc-06ee-4226-972e-a7977bbd1d22",
   "metadata": {},
   "outputs": [
    {
     "data": {
      "text/plain": [
       "{'Nitrogen oxides': 0.045849,\n",
       " 'Particulates, < 2.5 um': 1,\n",
       " 'Sulfur dioxide': 0.24111}"
      ]
     },
     "execution_count": 44,
     "metadata": {},
     "output_type": "execute_result"
    }
   ],
   "source": [
    "TRACI_resp_effect_dict = {bw.get_activity(ef[0])['name']:ef[1] for ef in TRACI_resp_effect_method.load()}\n",
    "TRACI_resp_effect_dict"
   ]
  },
  {
   "cell_type": "code",
   "execution_count": 45,
   "id": "8779817e-9691-4d8d-9f76-30f4c56e15d7",
   "metadata": {},
   "outputs": [
    {
     "data": {
      "text/plain": [
       "Nitrogen oxides           0.045849\n",
       "Particulates, < 2.5 um    1.000000\n",
       "Sulfur dioxide            0.241110\n",
       "Name: ('TRACI', 'human health', 'respiratory effects, average'), kg PM2.5-Eq, dtype: float64"
      ]
     },
     "execution_count": 45,
     "metadata": {},
     "output_type": "execute_result"
    }
   ],
   "source": [
    "# Bonus: put the whole thing in a neat Pandas series\n",
    "pd.Series(TRACI_resp_effect_dict,\n",
    "          name=\"{}, {}\".format(TRACI_resp_effect_method.name, TRACI_resp_effect_method.metadata['unit']))"
   ]
  },
  {
   "cell_type": "markdown",
   "id": "2b9c8b61-2ecc-4d39-b143-3614c2634931",
   "metadata": {},
   "source": [
    "## 1.4 &ensp; LCI datasets"
   ]
  },
  {
   "cell_type": "markdown",
   "id": "0455bc32-7dbb-4d90-b1e3-cc00020793c7",
   "metadata": {},
   "source": [
    "There is a lot of information about LCI database in Brightway 2 and its structure in the [official documentation](https://2.docs.brightway.dev/intro.html#inventory-databases). But the best way to learn is to check one out!"
   ]
  },
  {
   "cell_type": "markdown",
   "id": "cd7f4de1-b92e-4a9c-ab3a-6bc0f8a3c826",
   "metadata": {},
   "source": [
    "Chris uploads ecoinvent, since that is a licensed database, we will be using a different one: FORWAST, you can download it [here](https://lca-net.com/projects/show/forwast/)."
   ]
  },
  {
   "cell_type": "code",
   "execution_count": 47,
   "id": "19f3447c-4020-4a3a-9548-6f5cd39d1ef5",
   "metadata": {},
   "outputs": [
    {
     "name": "stderr",
     "output_type": "stream",
     "text": [
      "Writing activities to SQLite3 database:\n",
      "0% [##############################] 100% | ETA: 00:00:00\n",
      "Total time elapsed: 00:00:01\n"
     ]
    },
    {
     "name": "stdout",
     "output_type": "stream",
     "text": [
      "Title: Writing activities to SQLite3 database:\n",
      "  Started: 09/09/2022 10:14:17\n",
      "  Finished: 09/09/2022 10:14:18\n",
      "  Total time elapsed: 00:00:01\n",
      "  CPU %: 2.00\n",
      "  Memory %: 1.10\n"
     ]
    }
   ],
   "source": [
    "import zipfile\n",
    "import os\n",
    "from bw2data.utils import download_file\n",
    "from pathlib import Path\n",
    "\n",
    "if 'forwast' in bw.databases:\n",
    "    print('Database has already been imported!')\n",
    "else:\n",
    "    filepath = (\"/Users/mmendez/Documents/Postdoc/Software_dev/Brightway/BW_Tutorials/databases/forwast.bw2package.zip\")\n",
    "    dirpath = os.path.dirname(filepath)\n",
    "    zipfile.ZipFile(filepath).extractall(dirpath)\n",
    "    bw.BW2Package.import_file(os.path.join(dirpath, \"forwast.bw2package\"))\n"
   ]
  },
  {
   "cell_type": "markdown",
   "id": "d365258e-aa55-4c5f-95b3-66003691185b",
   "metadata": {},
   "source": [
    "Since this is a `bw2.package` you don't have to do anything else. Now, when you import other database like an `excel`, `xml` or `ecospold` types of databases, you need to run the following commands:\n",
    "* `your_database.apply_strategy()`:\n",
    "* `your_database.statistics()`: Check for unlinked activities.\n",
    "* `your_database.write_database()`:\n",
    "\n",
    "After doing this, just save your database with a variable using  `db = bw.Database('name of the database')` so you can interact with it as a database object :)"
   ]
  },
  {
   "cell_type": "code",
   "execution_count": 48,
   "id": "e404c252-2c51-49b9-ae4c-b1a74efd18af",
   "metadata": {},
   "outputs": [
    {
     "data": {
      "text/plain": [
       "Databases dictionary with 2 object(s):\n",
       "\tbiosphere3\n",
       "\tforwast"
      ]
     },
     "execution_count": 48,
     "metadata": {},
     "output_type": "execute_result"
    }
   ],
   "source": [
    "bw.databases"
   ]
  },
  {
   "cell_type": "markdown",
   "id": "c3e5132d-2f0b-413e-9379-44bbd54552cd",
   "metadata": {},
   "source": [
    "Now we have two databases!"
   ]
  },
  {
   "cell_type": "code",
   "execution_count": 49,
   "id": "13f1a8ea-5d43-4f57-94d2-65bb5f0ccc5a",
   "metadata": {},
   "outputs": [],
   "source": [
    "fw = bw.Database('forwast')"
   ]
  },
  {
   "cell_type": "code",
   "execution_count": 50,
   "id": "c6469f7e-f795-432e-b8b2-21ea434c4979",
   "metadata": {},
   "outputs": [
    {
     "data": {
      "text/plain": [
       "277"
      ]
     },
     "execution_count": 50,
     "metadata": {},
     "output_type": "execute_result"
    }
   ],
   "source": [
    "len(fw)"
   ]
  },
  {
   "cell_type": "markdown",
   "id": "6c23c530-4b7a-420d-8699-4d0f38bf9ef7",
   "metadata": {},
   "source": [
    "### 1.4.1 &ensp; LCI activities"
   ]
  },
  {
   "cell_type": "markdown",
   "id": "6e9e8fca-1535-48dc-b833-1217d36b564b",
   "metadata": {},
   "source": [
    "In the context of LCI databases, activities are the nodes \"within the technosphere\". They are therefore the columns in the technosphere matrix .\n",
    "There are different ways to get access to an activity. Let's use the `random()` method for now to explore a random activity in the forwast database."
   ]
  },
  {
   "cell_type": "code",
   "execution_count": 51,
   "id": "4dee31d6-9022-4fb9-9cc7-30ff25370c63",
   "metadata": {},
   "outputs": [
    {
     "data": {
      "text/plain": [
       "'_54 Recycling of iron basic, EU27' (kilogram, GLO, ['Input Output', 'EU27 2003'])"
      ]
     },
     "execution_count": 51,
     "metadata": {},
     "output_type": "execute_result"
    }
   ],
   "source": [
    "random_act = fw.random()\n",
    "random_act"
   ]
  },
  {
   "cell_type": "markdown",
   "id": "5a48ecfb-847e-4799-83d8-d999bfb76863",
   "metadata": {},
   "source": [
    "To see what is stored in an activity object, let's convert our random act in a dictionary:"
   ]
  },
  {
   "cell_type": "code",
   "execution_count": 52,
   "id": "6bf50985-c320-4b71-b28f-bd6d91fd4e60",
   "metadata": {},
   "outputs": [
    {
     "data": {
      "text/plain": [
       "{'products': [{'location': 'GLO',\n",
       "   'unit': 'kilogram',\n",
       "   'output': ('forwast', '2e97c65fbcbab6b7a5b45fed6132221c'),\n",
       "   'amount': 1.0,\n",
       "   'input': ('forwast', '2e97c65fbcbab6b7a5b45fed6132221c'),\n",
       "   'categories': (),\n",
       "   'loc': 1.0,\n",
       "   'type': 'production',\n",
       "   'name': '_54 Recycling of iron basic, EU27',\n",
       "   'uncertainty type': 0}],\n",
       " 'categories': ['Input Output', 'EU27 2003'],\n",
       " 'filename': '/Users/marie/Downloads/FORWAST-ecospold1/FORWAST-ecospold100108.XML',\n",
       " 'type': 'process',\n",
       " 'comment': 'Location:  Unspecified\\nTechnology:  Unspecified\\nTime period:  Unspecified',\n",
       " 'location': 'GLO',\n",
       " 'unit': 'kilogram',\n",
       " 'code': '2e97c65fbcbab6b7a5b45fed6132221c',\n",
       " 'production amount': 1.0,\n",
       " 'name': '_54 Recycling of iron basic, EU27',\n",
       " 'database': 'forwast'}"
      ]
     },
     "execution_count": 52,
     "metadata": {},
     "output_type": "execute_result"
    }
   ],
   "source": [
    "random_act.as_dict()"
   ]
  },
  {
   "cell_type": "markdown",
   "id": "7b67b4b5-dea0-412c-b8d5-7df3152c0435",
   "metadata": {},
   "source": [
    "Notice one important thing: **no exchanges**!  \n",
    "Indeed, the exchanges and the activities are stored in two different tables of the `databases.db` database.  \n",
    "It is possible, however, to iterate through the exchanges of the activities."
   ]
  },
  {
   "cell_type": "markdown",
   "id": "4d8d4f51-930a-4589-8c5f-87c0f9375cf4",
   "metadata": {},
   "source": [
    "#### 1.4.1.1 &ensp; Searching and getting LCI activities"
   ]
  },
  {
   "cell_type": "markdown",
   "id": "f9e440de-5c4e-40d6-86f2-ef4f69bdfd88",
   "metadata": {},
   "source": [
    "This step is the same as the way we did it with the biosphere3 database."
   ]
  },
  {
   "cell_type": "code",
   "execution_count": 53,
   "id": "d843f779-2316-4db5-b4fc-859db293f197",
   "metadata": {},
   "outputs": [
    {
     "name": "stdout",
     "output_type": "stream",
     "text": [
      "Excluding 4 filtered results\n"
     ]
    },
    {
     "data": {
      "text/plain": [
       "['_96 Waste treatment, Incineration of waste, Glass' (kilogram, inert, DK, ['Input Output', 'Denmark 2003']),\n",
       " '105 Waste treatment, Incineration of waste, Glass' (kilogram, inert, EU27, ['Input Output', 'EU27 2003']),\n",
       " '123 Waste treatment, Landfill of waste, Glass' (kilogram, inert, EU27, ['Input Output', 'EU27 2003']),\n",
       " '114 Waste treatment, Landfill of waste, Glass' (kilogram, inert, DK, ['Input Output', 'Denmark 2003'])]"
      ]
     },
     "execution_count": 53,
     "metadata": {},
     "output_type": "execute_result"
    }
   ],
   "source": [
    "fw.search('glass', filter={'name':'waste'})"
   ]
  },
  {
   "cell_type": "code",
   "execution_count": 54,
   "id": "6fad9df7-e90a-43b7-874b-333fa265d302",
   "metadata": {},
   "outputs": [
    {
     "data": {
      "text/plain": [
       "'GLO'"
      ]
     },
     "execution_count": 54,
     "metadata": {},
     "output_type": "execute_result"
    }
   ],
   "source": [
    "random_act['location']"
   ]
  },
  {
   "cell_type": "code",
   "execution_count": 55,
   "id": "c5a3ba3f-f810-4465-934f-6e02535711eb",
   "metadata": {},
   "outputs": [
    {
     "data": {
      "text/plain": [
       "'_44 Recycling of glass, mineral wool and ceramic goods, DK' (kilogram, GLO, ['Input Output', 'Denmark 2003'])"
      ]
     },
     "execution_count": 55,
     "metadata": {},
     "output_type": "execute_result"
    }
   ],
   "source": [
    "# Using list comprehensions:\n",
    "[act for act in fw if 'Recycling of glass' in act['name']\n",
    "                    and 'DK' in act['name']\n",
    "                    and 'GLO' in act['location']\n",
    "][0]"
   ]
  },
  {
   "cell_type": "markdown",
   "id": "2adbf5c5-c9aa-4aeb-a4bd-d40bb6473de8",
   "metadata": {},
   "source": [
    "##### **Exercise 1.4.1:** Return an activity for electricity production, steam and hot water power plants in Denmark."
   ]
  },
  {
   "cell_type": "code",
   "execution_count": 56,
   "id": "622bfb2b-6bdf-4c62-9963-d9ec3d89a7e2",
   "metadata": {},
   "outputs": [
    {
     "data": {
      "text/plain": [
       "'_66 Electricity, steam and hot water, DK' (kilowatt hour, GLO, ['Input Output', 'Denmark 2003'])"
      ]
     },
     "execution_count": 56,
     "metadata": {},
     "output_type": "execute_result"
    }
   ],
   "source": [
    "[act for act in fw if 'Electricity' in act['name']\n",
    "                    and 'steam' in act['name']\n",
    "                    and 'Denmark' in act['categories'][1]\n",
    "][0] # Don't forget to select!\n",
    "# Caution, capitalization (or lack of!) might affect the search query!"
   ]
  },
  {
   "cell_type": "markdown",
   "id": "ca22c744-2730-4d13-83f0-b30f90af776d",
   "metadata": {},
   "source": [
    "### 1.4.2 &ensp; LCI Exchanges"
   ]
  },
  {
   "cell_type": "markdown",
   "id": "4d7765c4-5874-4044-9afd-4ad8955a87af",
   "metadata": {},
   "source": [
    "**Exchanges** are the edges between nodes.\n",
    "\n",
    "These can be:\n",
    "\n",
    "* an edge between two activities within the *technosphere* (an element $a_{ij}$ of matrix $A$)\n",
    "\n",
    "* edges between an activity in the *technosphere* and an activity in the *biosphere* (an element of the biosphere $b_{kj}$ matrix $B$)\n",
    "\n",
    "One can iterate through all exchanges that have a given activity as `output` (uncomment if you want to see the output, it long).\n"
   ]
  },
  {
   "cell_type": "code",
   "execution_count": 57,
   "id": "62efd66b-e019-491c-a8f4-db5172535a37",
   "metadata": {},
   "outputs": [],
   "source": [
    "# for exc in random_act.exchanges(): \n",
    "#     print(exc)"
   ]
  },
  {
   "cell_type": "markdown",
   "id": "22d25d25-324e-4ff1-b9ba-7a6f2c43272c",
   "metadata": {},
   "source": [
    "\n",
    "\n",
    "One can also iterate through subsets of the exchanges:\n",
    "\n",
    "* Technosphere exchanges: exchanges linking to other activities in the technosphere, `activity.technosphere()`\n",
    "* Biosphere exchanges: AKA elementary flows, linking to activities in the biosphere database `activity.biosphere()`\n",
    "* Production exchange: the reference flow of the activity `activity.production`\n",
    "\n",
    "Let's assign a **technosphere exchange** to a variable to learn more about it:\n"
   ]
  },
  {
   "cell_type": "code",
   "execution_count": 58,
   "id": "49bf3e0c-189c-434d-9725-a0fa938e9072",
   "metadata": {},
   "outputs": [
    {
     "data": {
      "text/plain": [
       "Exchange: 1.48923247119779e-07 kilogram '__1 Bovine meat and milk, EU27' (kilogram, GLO, ['Input Output', 'EU27 2003']) to '_54 Recycling of iron basic, EU27' (kilogram, GLO, ['Input Output', 'EU27 2003'])>"
      ]
     },
     "execution_count": 58,
     "metadata": {},
     "output_type": "execute_result"
    }
   ],
   "source": [
    "random_techno_exchange = [exc for exc in random_act.technosphere()][0]\n",
    "random_techno_exchange\n"
   ]
  },
  {
   "cell_type": "code",
   "execution_count": 59,
   "id": "f6f14ca1-1e77-4cea-85ad-352b2576e053",
   "metadata": {},
   "outputs": [
    {
     "data": {
      "text/plain": [
       "bw2data.backends.peewee.proxies.Exchange"
      ]
     },
     "execution_count": 59,
     "metadata": {},
     "output_type": "execute_result"
    }
   ],
   "source": [
    "type(random_techno_exchange)"
   ]
  },
  {
   "cell_type": "markdown",
   "id": "1afc12b7-bde1-4d3e-8c99-85ec6d39695d",
   "metadata": {},
   "source": [
    "Again, the type is a proxy (refer to the diagram above about the different translation layers)."
   ]
  },
  {
   "cell_type": "code",
   "execution_count": 60,
   "id": "6c999ef9-978f-4fb3-8841-c9f97ae4d670",
   "metadata": {},
   "outputs": [
    {
     "name": "stdout",
     "output_type": "stream",
     "text": [
      "Amount:  1.48923247119779e-07\n",
      "Input:  '__1 Bovine meat and milk, EU27' (kilogram, GLO, ['Input Output', 'EU27 2003'])\n",
      "Output:  '_54 Recycling of iron basic, EU27' (kilogram, GLO, ['Input Output', 'EU27 2003'])\n",
      "As dictionary:  <bound method ProxyBase.as_dict of Exchange: 1.48923247119779e-07 kilogram '__1 Bovine meat and milk, EU27' (kilogram, GLO, ['Input Output', 'EU27 2003']) to '_54 Recycling of iron basic, EU27' (kilogram, GLO, ['Input Output', 'EU27 2003'])>>\n"
     ]
    }
   ],
   "source": [
    "print('Amount: ', random_techno_exchange.amount) # Amount, or weight of the edge\n",
    "print('Input: ', random_techno_exchange.input) # Activity the exchange stems from\n",
    "print('Output: ', random_techno_exchange.output) # Activity the exchange terminates in\n",
    "print('As dictionary: ', random_techno_exchange.as_dict) # Exchange as a dictionary"
   ]
  },
  {
   "cell_type": "markdown",
   "id": "e66039ee-550c-484d-8ec8-ad1583313996",
   "metadata": {},
   "source": [
    "Let's now look at a production exchange."
   ]
  },
  {
   "cell_type": "markdown",
   "id": "afcd34de-554c-44bc-82d2-35db727c1596",
   "metadata": {},
   "source": [
    "##### **Exercise 1.4.2:** Assign a biosphere flow to a variable, and check the following:"
   ]
  },
  {
   "cell_type": "markdown",
   "id": "5f9b5b50-2dbb-41d5-bce5-fe2ffb09b114",
   "metadata": {},
   "source": [
    "* Is the output the same as for the technosphere exchange?\n",
    "* From what database does the biosphere exchange come from?\n",
    "* What is the amount of the exchange (i.e. the weight of the edge connecting the two activities)?\n",
    "\n",
    "*NOTE:* If you get a `list index out of range error` when trying to subscript your list comprehension, it means your list comprehension is empty, i.e. that there are no biosphere flows associated with the activity."
   ]
  },
  {
   "cell_type": "code",
   "execution_count": 62,
   "id": "4ab7feaa-858b-400e-bc38-8bdde8d7c47b",
   "metadata": {},
   "outputs": [
    {
     "data": {
      "text/plain": [
       "Exchange: 3.67088234932068e-08 kilogram 'Ammonia' (kilogram, None, ('air',)) to '_54 Recycling of iron basic, EU27' (kilogram, GLO, ['Input Output', 'EU27 2003'])>"
      ]
     },
     "execution_count": 62,
     "metadata": {},
     "output_type": "execute_result"
    }
   ],
   "source": [
    "# Assign the exchange to a variable:\n",
    "random_bio_exchange = [exc for exc in random_act.biosphere()][0]\n",
    "random_bio_exchange"
   ]
  },
  {
   "cell_type": "code",
   "execution_count": 63,
   "id": "b02b36c4-0154-476f-9443-155d5985f9b4",
   "metadata": {},
   "outputs": [
    {
     "data": {
      "text/plain": [
       "'_54 Recycling of iron basic, EU27' (kilogram, GLO, ['Input Output', 'EU27 2003'])"
      ]
     },
     "execution_count": 63,
     "metadata": {},
     "output_type": "execute_result"
    }
   ],
   "source": [
    "# Output of biosphere exchange\n",
    "random_bio_exchange.output"
   ]
  },
  {
   "cell_type": "code",
   "execution_count": 64,
   "id": "86ca4b21-4187-46f9-bd91-dca95419f57b",
   "metadata": {},
   "outputs": [
    {
     "data": {
      "text/plain": [
       "True"
      ]
     },
     "execution_count": 64,
     "metadata": {},
     "output_type": "execute_result"
    }
   ],
   "source": [
    "# Is it the same as the output of the technosphere exchange? It should be!\n",
    "random_bio_exchange.output == random_techno_exchange.output"
   ]
  },
  {
   "cell_type": "code",
   "execution_count": 65,
   "id": "a49dc7b7-ef88-42d0-ae3f-0210ca397b54",
   "metadata": {},
   "outputs": [
    {
     "data": {
      "text/plain": [
       "'biosphere3'"
      ]
     },
     "execution_count": 65,
     "metadata": {},
     "output_type": "execute_result"
    }
   ],
   "source": [
    "# Database of the random biosphere exchange input - `.input`directly returns the activity proxy!\n",
    "random_bio_exchange.input.key[0]"
   ]
  },
  {
   "cell_type": "code",
   "execution_count": null,
   "id": "df343529-4f4e-449d-b054-14745472e8d3",
   "metadata": {},
   "outputs": [],
   "source": [
    "# Amount of exchange\n",
    "random_bio_exchange['amount']"
   ]
  },
  {
   "cell_type": "markdown",
   "id": "557bedd2-70f2-4b9d-802f-dd7e9180451c",
   "metadata": {},
   "source": [
    "### 1.4.3 &ensp; Loaded LCI databases"
   ]
  },
  {
   "cell_type": "markdown",
   "id": "ace52b8c-38ac-48ec-8f11-43f83c26fe21",
   "metadata": {},
   "source": [
    "It is possible to load the entire database into a dictionary.\n",
    "\n",
    "This greatly speeds up work if you need to iterate over all activities or exchanges. The resulting object is quite big, so you should do this only if the gain in efficiency is worth it."
   ]
  },
  {
   "cell_type": "code",
   "execution_count": null,
   "id": "37d98fd0-6dbc-4d86-b657-2c22951506f7",
   "metadata": {},
   "outputs": [],
   "source": [
    "fw_loaded = fw.load()\n",
    "fw_loaded; # As always, get rid of the ';' to see the output, it might take some time to load all!"
   ]
  },
  {
   "cell_type": "markdown",
   "id": "22f057a1-99ea-4f10-a141-447a187f1cef",
   "metadata": {},
   "source": [
    "## 1.5 &ensp; First LCA"
   ]
  },
  {
   "cell_type": "markdown",
   "id": "82f371d6-496f-400f-8f86-cfbe63d1af01",
   "metadata": {},
   "source": [
    "Brightway has a so-called `LCA` object. It is instantiated using `LCA(args)`.\n",
    "\n",
    "The only required argument is a **functional unit**, described by a dictionary with keys = activities and values = amounts ([more here](https://2.docs.brightway.dev/lca.html?highlight=functional+unit#specifying-a-functional-unit)).\n",
    "\n",
    "A second argument that is often passed is an LCIA method, passed using the method tuple."
   ]
  },
  {
   "cell_type": "markdown",
   "id": "38ae944c-1d55-4fec-afe4-585bc898f40f",
   "metadata": {},
   "source": [
    "### 1.5.1 &ensp; General syntax of LCA calculations"
   ]
  },
  {
   "cell_type": "markdown",
   "id": "7e955c26-00e1-44d6-b715-a97d5fdb781b",
   "metadata": {},
   "source": [
    "Let's create our first LCA object using our random activity and our IPCC method."
   ]
  },
  {
   "cell_type": "code",
   "execution_count": null,
   "id": "e5328fad-c3cf-4522-af6f-699128228adf",
   "metadata": {},
   "outputs": [],
   "source": [
    "functional_unit = {random_act:1}\n",
    "method = ipcc2013"
   ]
  },
  {
   "cell_type": "code",
   "execution_count": null,
   "id": "ebbc3364-2cae-4eb2-9080-40b56b31693e",
   "metadata": {},
   "outputs": [],
   "source": [
    "myFirstLCA_quick = bw.LCA(functional_unit, method)"
   ]
  },
  {
   "cell_type": "markdown",
   "id": "2f63619d-4f75-4d96-b1a7-b6842a5d9c46",
   "metadata": {},
   "source": [
    "These are the steps to get to the impact scores:"
   ]
  },
  {
   "cell_type": "code",
   "execution_count": null,
   "id": "1b0f5364-a9af-48c3-adad-b3a4b9d793f4",
   "metadata": {},
   "outputs": [],
   "source": [
    "myFirstLCA_quick.lci()    # Builds matrices, solves the system, generates an LCI matrix.\n",
    "myFirstLCA_quick.lcia()   # Characterization, i.e. the multiplication of the elements \n",
    "                          # of the LCI matrix with characterization factors from the chosen method\n",
    "myFirstLCA_quick.score    # Returns the score, i.e. the sum of the characterized inventory"
   ]
  },
  {
   "cell_type": "markdown",
   "id": "de84aff1-d7ed-4889-af2f-dfe6df55a4e0",
   "metadata": {},
   "source": [
    "Let's not take a closer look at the LCA object and its methods/attributes. We'll do this by creating a new LCA object:"
   ]
  },
  {
   "cell_type": "code",
   "execution_count": null,
   "id": "3fcbca60-21ba-4177-bc26-ad933e89089d",
   "metadata": {},
   "outputs": [],
   "source": [
    "myFirstLCA = bw.LCA(functional_unit, ipcc2013)"
   ]
  },
  {
   "cell_type": "markdown",
   "id": "5651a7e3-e152-4ee7-b482-c26465be15fb",
   "metadata": {},
   "source": [
    "### 1.5.1 &ensp; The `demand` attribute"
   ]
  },
  {
   "cell_type": "markdown",
   "id": "3b6b02b5-ccaf-43b8-bccc-9393314eb292",
   "metadata": {},
   "source": [
    "With `.demand` we see the functional unit we defined:"
   ]
  },
  {
   "cell_type": "code",
   "execution_count": null,
   "id": "0d77b7c0-a628-443e-b85a-7544c898d12a",
   "metadata": {},
   "outputs": [],
   "source": [
    "myFirstLCA.demand"
   ]
  },
  {
   "cell_type": "markdown",
   "id": "fedfd697-9ac0-4adc-a72f-092c934d7585",
   "metadata": {},
   "source": [
    "To access the actual activity from the demand, you would do this:"
   ]
  },
  {
   "cell_type": "code",
   "execution_count": null,
   "id": "bea404aa-1f9b-427d-9f72-f9bcb5fcad63",
   "metadata": {},
   "outputs": [],
   "source": [
    "demanded_act = list(myFirstLCA_quick.demand.keys())[0]\n",
    "demanded_act"
   ]
  },
  {
   "cell_type": "code",
   "execution_count": null,
   "id": "4c98ee66-f30a-4803-bea3-0fd79a2b80ea",
   "metadata": {},
   "outputs": [],
   "source": [
    "demanded_act == random_act"
   ]
  },
  {
   "cell_type": "markdown",
   "id": "980023a0-a0b5-43c3-a5bf-b9b6bd021d18",
   "metadata": {},
   "source": [
    "There are also other attributes that have simply not been built yet, such as the `demand_array` and the `score`. To generate them, we first need to actually build the matrices. This will be done when calling the `.lci()` method."
   ]
  },
  {
   "cell_type": "markdown",
   "id": "3ef538b6-4067-4cf6-bade-50031de0076b",
   "metadata": {},
   "source": [
    "### 1.5.2 &ensp; Time for some theory: Solving the LCI system"
   ]
  },
  {
   "cell_type": "markdown",
   "id": "abdbb827-c87d-4d1a-81f5-d030f9374a5e",
   "metadata": {},
   "source": [
    "Before actually running the `.lci()` method, here's a quick refresher of the actual calculation that Brightway will need to do to calculate the inventory:\n",
    "\n",
    "\\begin{equation}\n",
    "g = BA^{-1}f\n",
    "\\end{equation}\n",
    "\n",
    "where:\n",
    "\n",
    "* A: Technosphere matrix.\n",
    "* B: Biosphere matrix (i.e. matrix with elementary flows).\n",
    "* f: Final demand vector.\n",
    "* g: Inventory.\n",
    "\n",
    "**Discussion:** Knowing what you do about the structure of Brightway (notably, activities and exchanges), what needs to happen to generate these matrices?\n",
    "\n",
    "* How should the order of the rows and columns be determined?\n",
    "* How should we keep track of what is in each row and column?\n",
    "* The parameters in the matrices are sometimes actually probability distribution functions - how should we consider this uncertainty information?\n",
    "* The matrices are sparse, i.e. they are mostly made up of zeros. Should we consider this? Why? How?\n",
    "\n",
    "Let's get some answers!\n"
   ]
  },
  {
   "cell_type": "markdown",
   "id": "5e094374-2d59-4e7a-8b21-9b635c49e28e",
   "metadata": {},
   "source": [
    "### 1.5.3 &ensp; Building matrices"
   ]
  },
  {
   "cell_type": "markdown",
   "id": "c3211d67-3a7d-4ac6-a2bb-ea5a655e1acb",
   "metadata": {},
   "source": [
    "#### 1.5.3.1 &ensp; Structured arrays"
   ]
  },
  {
   "cell_type": "markdown",
   "id": "49cd5f8a-d65a-43d1-94e5-b98bd3e3cbe9",
   "metadata": {},
   "source": [
    "LCI data imported in Brightway is stored in the `databases.db` database, discussed above.\n",
    "It is also stored in [numpy structured arrays](https://numpy.org/doc/stable/user/basics.rec.html). \n",
    "\n",
    "Let's load the structured array of the forwast database you are working with now as a neat pandas dataframe."
   ]
  },
  {
   "cell_type": "code",
   "execution_count": null,
   "id": "c74c98fb-1d84-45f3-831a-c57aa385a6b7",
   "metadata": {},
   "outputs": [],
   "source": [
    "fw.filepath_processed()"
   ]
  },
  {
   "cell_type": "code",
   "execution_count": null,
   "id": "9abd7a7e-efeb-47b2-93c7-6e38d5a37916",
   "metadata": {},
   "outputs": [],
   "source": [
    "your_structured_array = np.load(fw.filepath_processed())\n",
    "pd.DataFrame(your_structured_array).head()"
   ]
  },
  {
   "cell_type": "markdown",
   "id": "e01acd3b-9bfe-4c59-b5fb-28af66dcf2f0",
   "metadata": {},
   "source": [
    "In this array:\n",
    "\n",
    "* `input and output` columns are integers that map to an activity. This mapping is found in the mapping.pickle file in the project directory and it looks something like this:"
   ]
  },
  {
   "cell_type": "code",
   "execution_count": null,
   "id": "c6ceafa9-1c4c-4284-82ec-36e001bb21e5",
   "metadata": {},
   "outputs": [],
   "source": [
    "pd.Series(bw.mapping).head()"
   ]
  },
  {
   "cell_type": "markdown",
   "id": "4830adf2-6f87-4ad1-8d94-35d4ae63ece8",
   "metadata": {},
   "source": [
    "* `row` and `col` store *dummy* placeholder information about the location of the parameter in the matrices.\n",
    "* The `type` indicates whether the exchange is a **reference flow** (`type=0`), **technosphere exchange** (`type=1`) or **elementary flow** (`type=2`).\n",
    "* The other columns deal with uncertainty data. We'll cover that later, but one can always read about these columns in the `stats_arrays` [documentation](https://stats-arrays.readthedocs.io/en/latest/).\n",
    "\n",
    "You can find more information about this matrix in the [official documentation](https://2.docs.brightway.dev/lca.html#turning-processed-data-arrays-in-matrices).\n",
    "\n",
    "When the `.lci()` method is called, the structured arrays are used to build matrices. The code responsible to do this is in the `MatrixBuilder` [class methods](https://2.docs.brightway.dev/technical/bw2calc.html?highlight=matrixbuilder#bw2calc.MatrixBuilder).\n",
    "\n",
    "The method `MatrixBuilder.build_dictionary` is used to take input and output values, respectively, and figure out which rows and columns they correspond to. The actual code is succinct - only one line - but what it does is:\n",
    "\n",
    "1. Get all unique values, as each value will appear multiple times\n",
    "2. Sort these values\n",
    "3. Give them integer indices, starting with zero.\n",
    "\n",
    "This information on row and column indices is sufficient to build matrices. These matrices are build in a [COOrdinate sparse matrix format](https://docs.scipy.org/doc/scipy/reference/generated/scipy.sparse.coo_matrix.html), where, for each exchange, three values are required: (1) row position, (2) column position, and (3) amount (the actual value). The sparse matrices are actually stored in [CSR format](https://docs.scipy.org/doc/scipy/reference/generated/scipy.sparse.csr_matrix.html#scipy.sparse.csr_matrix), but this is a detail.\n",
    "\n",
    "Some more details are are found [here](https://2.docs.brightway.dev/lca.html?highlight=building+matrices#lca-calculations).\n",
    "\n",
    "Let's now finally unpack what the `.lci()` does:\n"
   ]
  },
  {
   "cell_type": "code",
   "execution_count": null,
   "id": "72e7f628-fcfa-45ec-84e3-b18cfca4d000",
   "metadata": {},
   "outputs": [],
   "source": [
    "myFirstLCA.lci()"
   ]
  },
  {
   "cell_type": "markdown",
   "id": "96bd9b09-7203-4544-818b-c929a322bc07",
   "metadata": {},
   "source": [
    "Here's what the structured arrays *now* look like:"
   ]
  },
  {
   "cell_type": "code",
   "execution_count": null,
   "id": "814d32ca-0256-47a3-94da-d25919bf730f",
   "metadata": {},
   "outputs": [],
   "source": [
    "pd.DataFrame(myFirstLCA.bio_params).head(5) # Technosphere parameters are at myFirstLCA.tech_params"
   ]
  },
  {
   "cell_type": "markdown",
   "id": "3e554895-a30d-4d08-b8b5-780411b2682c",
   "metadata": {},
   "source": [
    "We see that the `row` and `col` numbers are no longer dummy variables, but that they actually have real matrix indices."
   ]
  },
  {
   "cell_type": "markdown",
   "id": "d91eb975-233e-43f4-b5de-be294a7ba967",
   "metadata": {},
   "source": [
    "#### 1.5.3.2 &ensp; Dictionaries that map between indices and activities"
   ]
  },
  {
   "cell_type": "markdown",
   "id": "d1c41a2e-0920-499f-82ca-e4b95ca3cbc9",
   "metadata": {},
   "source": [
    "One of the useful things that the MatrixBuilder produces are dictionaries that map row and column numbers to the keys of activities. There are three such dictionaries, all directly accessible as attributes of the LCA object:\n",
    "\n",
    "* `activity_dict:` Columns in the **technosphere matrix** $A$ or **biosphere matrix** $B$.\n",
    "* `product_dict`: Rows in the **technosphere matrix** $A$\n",
    "* `biosphere_dict`: Rows in the **biosphere matrix** $B$\n",
    "\n",
    "Here what this dictionary looks like:\n"
   ]
  },
  {
   "cell_type": "code",
   "execution_count": null,
   "id": "dbce490c-d6b7-4e3c-8c9c-c65b683d1842",
   "metadata": {},
   "outputs": [],
   "source": [
    "myFirstLCA.activity_dict;"
   ]
  },
  {
   "cell_type": "markdown",
   "id": "d9f3c4d0-08b5-47dc-ab26-2b888a9b0be0",
   "metadata": {},
   "source": [
    "So, if I know the key to my activity (which, again, is a `tuple` consisting of the database name and the activity code), I can read the column index (from `activity_dict`) or row index (from `product_dict` or `biosphere_dict` for the $A$ or $B$ matrices, respectively).\n",
    "\n",
    "Let's find out what column is associated with the activity that is producing our final demand as reference flow."
   ]
  },
  {
   "cell_type": "code",
   "execution_count": null,
   "id": "89fe9b90-1681-4a84-a8a5-5960872b264f",
   "metadata": {},
   "outputs": [],
   "source": []
  },
  {
   "cell_type": "code",
   "execution_count": null,
   "id": "e7066197-edbe-40eb-a09b-07423f70c602",
   "metadata": {},
   "outputs": [],
   "source": [
    "# Getting the key from the `demand` attribute:\n",
    "act_key = list(myFirstLCA.demand)[0].key\n",
    "# Getting the column number from the activity_dict:\n",
    "col_index = myFirstLCA.activity_dict[act_key]\n",
    "print(\"The column index for activity {} is {}.\".format(act_key, col_index))\n"
   ]
  },
  {
   "cell_type": "markdown",
   "id": "01ca47e4-f910-4a06-91c0-6cf88b920de7",
   "metadata": {},
   "source": [
    "While this is useful, it is often more useful to determine what a row or column in the matrices actually refers to. In these cases, we need a dictionary that maps row or column indices to activity keys, and not the opposite.\n",
    "\n",
    "We can do this by reversing our dictionaries:"
   ]
  },
  {
   "cell_type": "code",
   "execution_count": null,
   "id": "ad595d2a-92c0-4912-87f8-c140a349b15e",
   "metadata": {},
   "outputs": [],
   "source": [
    "myFirstLCA_rev_activity_dict = {value:key for key, value in myFirstLCA.activity_dict.items()}\n",
    "myFirstLCA_rev_activity_dict;"
   ]
  },
  {
   "cell_type": "markdown",
   "id": "f4a61688-2a8a-458e-9fc9-14d1e069b1e6",
   "metadata": {},
   "source": [
    "For convenience, Brightway offers a method that will generate the three reverse dictionaries simultaneously.\n",
    "`.reverse_dict()` returns three reverse dictionaries (reverse activity dict, reverse product dict, reverse biosphere dict) *in that order*. The syntax for creating and assigning these reverse dictionaries is:\n"
   ]
  },
  {
   "cell_type": "code",
   "execution_count": null,
   "id": "077f9004-617b-488f-9279-d8def4e38223",
   "metadata": {},
   "outputs": [],
   "source": [
    "myFirstLCA_rev_act_dict, myFirstLCA_rev_product_dict, myFirstLCA_rev_bio_dict = myFirstLCA.reverse_dict()"
   ]
  },
  {
   "cell_type": "markdown",
   "id": "cebb29d9-ee7f-4c9d-9650-8999e835f76a",
   "metadata": {},
   "source": [
    "#### 1.5.3.2 &ensp; $A$ and $B$ matrices"
   ]
  },
  {
   "cell_type": "markdown",
   "id": "c35c88ba-7c59-429c-ae6c-3e902412452d",
   "metadata": {},
   "source": [
    "\n",
    "\n",
    "We can also access the matrices that were constructed. Let's look at the **technosphere matrix** ($A$).\n",
    "\n",
    "The $A$ matrix, with elements $a_{ij}$ provides information on the amount of input or output of product $i$ comes from activity $j$. When $i = j$, the element  $a_{ij}$  is the **reference flow** for the activity described in the column."
   ]
  },
  {
   "cell_type": "code",
   "execution_count": null,
   "id": "424ca08f-7e43-4e72-8a56-1c09733a3905",
   "metadata": {},
   "outputs": [],
   "source": [
    "myFirstLCA.technosphere_matrix"
   ]
  },
  {
   "cell_type": "markdown",
   "id": "96596e8c-adda-4f59-823c-bbe2e0a46a8a",
   "metadata": {},
   "source": [
    "The dimensions of the matrix is $n \\times n$ where $n$ is the number of activities in my product system, and that the amount of actually stored elements is much less than $n^2$ (because the matrix is *sparse* and zero values are not stored).\n",
    "\n",
    "We can have an idea of what it stores by printing it out:\n"
   ]
  },
  {
   "cell_type": "code",
   "execution_count": null,
   "id": "3dc2e26c-bb9d-4072-8a2d-f2d2f708497b",
   "metadata": {},
   "outputs": [],
   "source": [
    "print(myFirstLCA.technosphere_matrix)"
   ]
  },
  {
   "cell_type": "markdown",
   "id": "e0bfa6f9-60ef-4dfa-9dba-3624c885374d",
   "metadata": {},
   "source": [
    "It therefore stores both the coordinates and the values (as expected). We can slice this matrix using coordinates. For example, let's say we wanted a view of the exchanges associated with the unit process providing our **functional unit**.\n",
    "\n",
    "We already know found the column number for that activity:"
   ]
  },
  {
   "cell_type": "code",
   "execution_count": null,
   "id": "a7f3dcdf-9796-4fce-9a28-38b4e9e2f590",
   "metadata": {},
   "outputs": [],
   "source": [
    "print(\"As a reminder, the column index for  {} is  {}.\".format(act_key, col_index))"
   ]
  },
  {
   "cell_type": "markdown",
   "id": "bab7c34c-08d8-47e9-9412-e7c9bb2cd708",
   "metadata": {},
   "source": [
    "To return the whole column from the matrix, we therefore slice the $A$ matrix.\n",
    "Python notes:\n",
    "\n",
    "* In Python, slicing is done using []\n",
    "* e specify rows first, then columns\n",
    "* : refers to \"the whole row\" or \"the whole column\" (depending if it is passed first or second in the [])"
   ]
  },
  {
   "cell_type": "code",
   "execution_count": null,
   "id": "7be6bc73-4ae7-4833-b48f-a083f673b911",
   "metadata": {},
   "outputs": [],
   "source": [
    "myColumn = myFirstLCA.technosphere_matrix[:, col_index]\n",
    "myColumn"
   ]
  },
  {
   "cell_type": "code",
   "execution_count": null,
   "id": "a5edc2fa-0da7-47d6-b940-d10df9c2aa5a",
   "metadata": {},
   "outputs": [],
   "source": [
    "print(myColumn)"
   ]
  },
  {
   "cell_type": "markdown",
   "id": "d69c54bc-6a4f-4377-a15f-c82626d3a902",
   "metadata": {},
   "source": [
    "Not too useful: it would be better to get the **names to these exchanges**.\n",
    "\n",
    "We need to do two things:\n",
    "\n",
    "* Get the indices from the CSR matrix (we can do this by converting it to a sparse matrix in `COOrdinate` format first)\n",
    "* Get the activity code for the each index (we can do this using the reverse of the activity_dict)\n",
    "* Use `get_activity` to access the actual names of the activities."
   ]
  },
  {
   "cell_type": "markdown",
   "id": "bb4bab5b-1822-4a15-a019-81012d3e4542",
   "metadata": {},
   "source": [
    "1) Converting the CSR matrix to a COO matrix:"
   ]
  },
  {
   "cell_type": "code",
   "execution_count": null,
   "id": "39ab01bb-3b0c-4fea-b79d-d74bace4afd0",
   "metadata": {},
   "outputs": [],
   "source": [
    "myColumnCOO = myColumn.tocoo()\n",
    "myColumnCOO"
   ]
  },
  {
   "cell_type": "markdown",
   "id": "b9f6d891-bb0c-49bf-8f3d-c0af12bb6786",
   "metadata": {},
   "source": [
    "It is still a sparse matrix with the same number of elements, and it looks quite like the CSR version when we print it out:"
   ]
  },
  {
   "cell_type": "code",
   "execution_count": null,
   "id": "b8e7f266-980d-4090-ba9a-6fa0a71db7cb",
   "metadata": {},
   "outputs": [],
   "source": [
    "print(myColumnCOO)"
   ]
  },
  {
   "cell_type": "markdown",
   "id": "6a5192d9-2681-4030-a1f4-66c9189a38ad",
   "metadata": {},
   "source": [
    "2) Get the activity code for each element using the **reverse product dictionary** we produced above:"
   ]
  },
  {
   "cell_type": "code",
   "execution_count": null,
   "id": "892a53b7-ebff-4118-84e4-06ddac489688",
   "metadata": {},
   "outputs": [],
   "source": [
    "# Using a list comprehension:\n",
    "[myFirstLCA_rev_product_dict[i] for i in myColumnCOO.row];"
   ]
  },
  {
   "cell_type": "markdown",
   "id": "663f1e47-6687-4f22-b708-ecc434d1ae78",
   "metadata": {},
   "source": [
    "It would be even nicer to get the names for these:"
   ]
  },
  {
   "cell_type": "code",
   "execution_count": null,
   "id": "180ceab3-45bd-4bc9-bfcf-2817583cc72c",
   "metadata": {},
   "outputs": [],
   "source": [
    "names_of_my_inputs = [bw.get_activity(myFirstLCA_rev_product_dict[i])['name'] for i in myColumnCOO.row]\n",
    "names_of_my_inputs;"
   ]
  },
  {
   "cell_type": "markdown",
   "id": "49f65840-720d-4343-97a3-ee63473171b8",
   "metadata": {},
   "source": [
    "We can put these in a neat Pandas Series, with actual names and amounts:"
   ]
  },
  {
   "cell_type": "code",
   "execution_count": null,
   "id": "a4a398d0-06e6-4e8d-a789-930bcfa0242b",
   "metadata": {},
   "outputs": [],
   "source": [
    "# First create a dict with the information I want:\n",
    "myColumnAsDict = dict(zip(names_of_my_inputs,myColumnCOO.data))\n",
    "# Create Pandas Series from dict\n",
    "pd.Series(myColumnAsDict, name=\"Nice series with information on exchanges in my foreground process\")"
   ]
  },
  {
   "cell_type": "markdown",
   "id": "6af9ac8c-824f-45c1-af6b-214679c87488",
   "metadata": {},
   "source": [
    "Alternative way to generate similar information without even looking at the matrices:"
   ]
  },
  {
   "cell_type": "code",
   "execution_count": null,
   "id": "9cde4280-3b5c-4b50-b813-98273cfceaa1",
   "metadata": {},
   "outputs": [],
   "source": [
    "pd.Series({bw.get_activity(exc.input)['name']:exc.amount for exc in random_act.technosphere()}, \n",
    "          name=\"alternative way to generate exchanges\")"
   ]
  },
  {
   "cell_type": "markdown",
   "id": "fe44fdc6-6b47-4ebb-9405-935f3a3ecb22",
   "metadata": {},
   "source": [
    "Note the differences:\n",
    "\n",
    "* The reference flow is not there (activity.technosphere() only returns technoshere exchanges where the input is not equal to the output).\n",
    "* The values are positive, not negative (because the $A$ matrix is $I - Z$ where $Z$ contains the information on these inputs."
   ]
  },
  {
   "cell_type": "markdown",
   "id": "9e1573da-5c4e-4c10-80fb-43a95e7d6177",
   "metadata": {},
   "source": [
    "##### **Exercise 1.5.1:** Create a Pandas Series with the elementary flows of the activity supplying the reference flow for myFirstLCA.\n"
   ]
  },
  {
   "cell_type": "code",
   "execution_count": null,
   "id": "f5d176a0-cb87-4dce-be8f-51e70948c62f",
   "metadata": {},
   "outputs": [],
   "source": [
    "myBioColumn = myFirstLCA.biosphere_matrix[:, col_index]\n",
    "myBioColumn"
   ]
  },
  {
   "cell_type": "code",
   "execution_count": null,
   "id": "e2a0a55d-6986-4d09-b92d-58fdd26f6be4",
   "metadata": {},
   "outputs": [],
   "source": [
    "myBioColumnCOO = myBioColumn.tocoo() # Add .data to get an array with the values\n",
    "#myBioColumnCOO"
   ]
  },
  {
   "cell_type": "code",
   "execution_count": null,
   "id": "10d1bb09-8f58-4d10-8e96-e22f402c964b",
   "metadata": {},
   "outputs": [],
   "source": [
    "myBioNames = [bw.get_activity(myFirstLCA_rev_bio_dict[row])['name'] for row in myBioColumnCOO.row]\n",
    "#myBioNames"
   ]
  },
  {
   "cell_type": "code",
   "execution_count": null,
   "id": "664392f9-ad70-4a15-8ab5-bb7b9c1913fa",
   "metadata": {},
   "outputs": [],
   "source": [
    "myBioDict = dict(zip(myBioNames,myBioColumnCOO.data))\n",
    "pd.Series(myBioDict)"
   ]
  },
  {
   "cell_type": "markdown",
   "id": "62dfbfce-ebfe-4b7e-8264-4258fd2797df",
   "metadata": {},
   "source": [
    "#### 1.5.3.3 &ensp; Demand array $f$"
   ]
  },
  {
   "cell_type": "markdown",
   "id": "4b29c876-a3c3-40fb-bd76-0786737873a0",
   "metadata": {},
   "source": [
    "The demand array is the $f$ in $A s = f$ (where $s$ is the supply array. It is an attribute of the LCA object."
   ]
  },
  {
   "cell_type": "code",
   "execution_count": null,
   "id": "5d8777ab-304c-42c9-973e-2addcf842177",
   "metadata": {},
   "outputs": [],
   "source": [
    "myFirstLCA.demand_array"
   ]
  },
  {
   "cell_type": "markdown",
   "id": "ffdb0b62-0eaa-4ebf-9326-45eec54b7271",
   "metadata": {},
   "source": [
    "Looks like it is all zeros, but not so. Can you spot the one?"
   ]
  },
  {
   "cell_type": "code",
   "execution_count": null,
   "id": "297f4f4f-4dcc-40b2-bf43-3dd4313d9794",
   "metadata": {},
   "outputs": [],
   "source": [
    "myFirstLCA.demand_array.sum()"
   ]
  },
  {
   "cell_type": "markdown",
   "id": "f81f37ab-2a58-4ea1-a6a1-1439d5ffb63d",
   "metadata": {},
   "source": [
    "If you don't want to manually search the `1` like where is [Waldo](https://en.wikipedia.org/wiki/Where%27s_Wally%3F), we can know this by using our `activity_dict`.\n"
   ]
  },
  {
   "cell_type": "code",
   "execution_count": null,
   "id": "7d8ebb05-d355-4c93-bca8-19021368aa13",
   "metadata": {},
   "outputs": [],
   "source": [
    "demand_database = list(myFirstLCA.demand.keys())[0]['database']\n",
    "demand_code = list(myFirstLCA.demand.keys())[0]['code']\n",
    "(demand_database, demand_code)"
   ]
  },
  {
   "cell_type": "code",
   "execution_count": null,
   "id": "57f9c019-635c-43de-a0ce-6471eef408e1",
   "metadata": {},
   "outputs": [],
   "source": [
    "row_of_demand = myFirstLCA.activity_dict[(demand_database, demand_code)]\n",
    "row_of_demand # Row number of our demand vector containing the functional unit."
   ]
  },
  {
   "cell_type": "code",
   "execution_count": null,
   "id": "731e5e31-7439-407e-be71-bc69b499e90e",
   "metadata": {},
   "outputs": [],
   "source": [
    "myFirstLCA.demand_array[row_of_demand]"
   ]
  },
  {
   "cell_type": "markdown",
   "id": "225fb729-cd22-4f2e-8409-c44d3ded43f4",
   "metadata": {},
   "source": [
    "### 1.5.4 &ensp; Solution to the inventory calculation"
   ]
  },
  {
   "cell_type": "markdown",
   "id": "b29e88aa-235b-44cc-a5e9-b0c4932327ea",
   "metadata": {},
   "source": [
    "Recap on the math, we want to solve the following equation:\n",
    "\n",
    "\\begin{equation}\n",
    "g = BA^{-1}f\n",
    "\\end{equation}\n",
    "\n",
    "Now we add the supply array $s$ which is the product of the inverse of the **technosphere matrix** $A$ and the demand array $f$. Therefore we have:\n",
    "\n",
    "\\begin{equation}\n",
    "g = Bs\n",
    "\\end{equation}\n",
    "\n",
    "We saw above how `.lci()` produced the $A$ and $B$ matrices.\n",
    "`.lci()` also solves the equation $As = f$ and calculates the inventory by multiplying the solution to this equation by the **biosphere matrix**."
   ]
  },
  {
   "cell_type": "markdown",
   "id": "c18aa896-69e1-40e1-a0e4-cf8163695848",
   "metadata": {},
   "source": [
    "#### 1.5.1.1 &ensp; Supply array $s$"
   ]
  },
  {
   "cell_type": "markdown",
   "id": "c0255254-27d7-4518-b38c-2795f3e6adc0",
   "metadata": {},
   "source": [
    "Vector containing the amount each activity, it will need to provide to meet the functional demand, i.e. $s = A^{-1}f$."
   ]
  },
  {
   "cell_type": "code",
   "execution_count": null,
   "id": "0ada8795-53cd-47f1-9b5b-74f7a7cd42cf",
   "metadata": {},
   "outputs": [],
   "source": [
    "myFirstLCA.supply_array;"
   ]
  },
  {
   "cell_type": "code",
   "execution_count": null,
   "id": "2ec9bebc-703c-4ae5-bab6-6e1c6d57c7c6",
   "metadata": {},
   "outputs": [],
   "source": [
    "myFirstLCA.supply_array.shape"
   ]
  },
  {
   "cell_type": "markdown",
   "id": "501ae448-f40f-47ed-96da-36063f641852",
   "metadata": {},
   "source": [
    "#### 1.5.1.1 &ensp; Inventory matrix $g$"
   ]
  },
  {
   "cell_type": "markdown",
   "id": "f22b8b43-355d-4058-975b-0554ae8c884d",
   "metadata": {},
   "source": [
    "Contains the inventory by *activity* (i.e. not summed). In other words, we do not have $g = BA^{-1}f$, but rather  $G = B \\cdot diag(A^{-1}f)$"
   ]
  },
  {
   "cell_type": "code",
   "execution_count": null,
   "id": "7644c47d-986d-4848-ab23-07667f4b38f6",
   "metadata": {},
   "outputs": [],
   "source": [
    "myFirstLCA.inventory"
   ]
  },
  {
   "cell_type": "markdown",
   "id": "54223a36-23eb-4225-a393-ce01d5d6eb04",
   "metadata": {},
   "source": [
    "We can aggregate the LCI results along the columns (i.e. calculate the **cradle-to-gate inventory**):"
   ]
  },
  {
   "cell_type": "code",
   "execution_count": null,
   "id": "8c08c404-f911-4bd2-865d-0f084a01f13f",
   "metadata": {},
   "outputs": [],
   "source": [
    "LCI_cradle_to_gate = myFirstLCA.inventory.sum(axis=1)\n",
    "LCI_cradle_to_gate.shape"
   ]
  },
  {
   "cell_type": "markdown",
   "id": "4f4ca3d8-c9f9-4526-bf65-aa8c3c09c41e",
   "metadata": {},
   "source": [
    "##### **Exercise 1.5.2:** Get the total (cradle-to-gate) emissions of nitrogen oxide emitted to air in the \"urban air\" subcompartment."
   ]
  },
  {
   "cell_type": "markdown",
   "id": "5735aa5b-5adc-40b8-891e-eb0c8edf428d",
   "metadata": {},
   "source": [
    "I had an issue replicating this exercise since the emissions were different in mine and it does not have 'urban air' subcompartment. What I did was finding the code in `myFirstLCA.biosphere_dict` that has a nitrogen oxide and directly setting it to the value. I know it is not the smartest, but I will keep practicing search queries."
   ]
  },
  {
   "cell_type": "code",
   "execution_count": null,
   "id": "7b350c6c-edd3-4711-add3-f25857a05292",
   "metadata": {},
   "outputs": [],
   "source": [
    "NOx_act = [act for act in my_bio if act['code'] == 'c1b91234-6f24-417b-8309-46111d09c457'][0]\n",
    "NOx_act"
   ]
  },
  {
   "cell_type": "code",
   "execution_count": null,
   "id": "b261734e-4532-4242-80ab-fca7750eab2b",
   "metadata": {},
   "outputs": [],
   "source": [
    "NOx_act.key"
   ]
  },
  {
   "cell_type": "code",
   "execution_count": null,
   "id": "8e4a8d91-5fab-4cd1-9320-b6f80ac6e85c",
   "metadata": {},
   "outputs": [],
   "source": [
    "NOx_row = myFirstLCA.biosphere_dict[NOx_act]\n",
    "NOx_row"
   ]
  },
  {
   "cell_type": "code",
   "execution_count": null,
   "id": "2eda07ac-d517-412f-b3a8-b334356556b7",
   "metadata": {},
   "outputs": [],
   "source": [
    "print('Producing 1 kg of the random activity uses', myFirstLCA.inventory[NOx_row, :].sum(), 'kg of nitrogen oxide.')"
   ]
  },
  {
   "cell_type": "markdown",
   "id": "3a956e19-6d1b-4251-94d9-0f6a255befa8",
   "metadata": {},
   "source": [
    "What is the environmental/health factor of this? This is why we need the LCIA calculation!"
   ]
  },
  {
   "cell_type": "markdown",
   "id": "fd7bfad3-5d45-4d9e-9856-d507f886f684",
   "metadata": {},
   "source": [
    "### 1.5.5 &ensp; LCIA calculation"
   ]
  },
  {
   "cell_type": "markdown",
   "id": "10e89c29-9214-4bf3-8fad-38ed1e9bcc00",
   "metadata": {},
   "source": [
    "The LCIA calculation is done via the `.lcia()` method."
   ]
  },
  {
   "cell_type": "code",
   "execution_count": null,
   "id": "fab64b11-7d66-4996-bba4-602b289c28e2",
   "metadata": {},
   "outputs": [],
   "source": [
    "myFirstLCA.lcia()"
   ]
  },
  {
   "cell_type": "markdown",
   "id": "1a8fef5a-f8ab-4e64-be61-e0128a2a5b1d",
   "metadata": {},
   "source": [
    "Two additional matrices are now available:\n",
    "* Characterization matrix.\n",
    "* Characterized inventory.\n"
   ]
  },
  {
   "cell_type": "code",
   "execution_count": null,
   "id": "bf347043-3213-4d03-a3a4-f7bcc80d696c",
   "metadata": {},
   "outputs": [],
   "source": [
    "myFirstLCA.characterization_matrix # Matrix of characterization factors\n",
    "print(myFirstLCA.characterization_matrix.shape)\n",
    "\n",
    "myFirstLCA.characterized_inventory # Matrix of characterized inventory flows\n",
    "print(myFirstLCA.characterized_inventory.shape)\n",
    "\n"
   ]
  },
  {
   "cell_type": "markdown",
   "id": "1c2add2c-dd81-4d52-ab36-4a6866d01776",
   "metadata": {},
   "source": [
    "**Question:** Why are there more elements in the characterized inventory than in the characterization matrix?"
   ]
  },
  {
   "cell_type": "markdown",
   "id": "e2d6be49-da22-4a9f-ac77-92b57765aa94",
   "metadata": {},
   "source": [
    "The overall score is now an attribute of the `LCA` object:"
   ]
  },
  {
   "cell_type": "code",
   "execution_count": null,
   "id": "88ea426d-b04c-43eb-9138-2a0950ce196e",
   "metadata": {},
   "outputs": [],
   "source": [
    "myFirstLCA.score"
   ]
  },
  {
   "cell_type": "markdown",
   "id": "7567c2f5-d657-41f8-aaf1-5ddd80f60f52",
   "metadata": {},
   "source": [
    "But what does this score mean? Remember the method we used? That is where we define the impact factor we are interested in. \n",
    "\n",
    "`('IPCC 2013', 'climate change', 'GWP 100a')` means that we want the IPCC 2013 score of the **impact category** `climate change`, more specifically, we want the `GWP 100a` or the Global Warning Potential, with units Kg CO<sub>2</sub>-eq, (some other methods might have more considerations within the same impact category). "
   ]
  },
  {
   "cell_type": "markdown",
   "id": "bc2b342d-4e40-4841-a380-b8f14fe357ef",
   "metadata": {},
   "source": [
    "We also could have determined what this score was by summing the elements of our `characterized_inventory` matrix:"
   ]
  },
  {
   "cell_type": "code",
   "execution_count": null,
   "id": "9fcc7475-f0f9-4144-8263-36c4f642818d",
   "metadata": {},
   "outputs": [],
   "source": [
    "myFirstLCA.characterized_inventory.sum()"
   ]
  },
  {
   "cell_type": "markdown",
   "id": "4774f807-7d3a-4edb-bc75-8eac1f0f6198",
   "metadata": {},
   "source": [
    "We could also have calculated it by multiplying the inventory and characterization factors ourselves:"
   ]
  },
  {
   "cell_type": "code",
   "execution_count": null,
   "id": "4667f3dd-22ba-438f-acac-a4c726797309",
   "metadata": {},
   "outputs": [],
   "source": [
    "(myFirstLCA.characterization_matrix * myFirstLCA.inventory).sum()"
   ]
  },
  {
   "cell_type": "markdown",
   "id": "2adb8a2a-c99d-4c02-8e49-ed10c5e9cfaf",
   "metadata": {},
   "source": [
    "We could also calculate the score by elementary flow (summing columns for each rows), irrespective of the unit process that produced it:"
   ]
  },
  {
   "cell_type": "code",
   "execution_count": null,
   "id": "4b6e6098-9c44-42d8-b61a-1d6eacd83c68",
   "metadata": {},
   "outputs": [],
   "source": [
    "elementary_flow_contribution = myFirstLCA.characterized_inventory.sum(axis=1) #Axis is the dimension I want to sum over:\n",
    "print(elementary_flow_contribution.shape)\n",
    "elementary_flow_contribution"
   ]
  },
  {
   "cell_type": "markdown",
   "id": "570003e8-e941-4745-9bf0-f1b4935c8081",
   "metadata": {},
   "source": [
    "Notice that is has **two** dimensions. The result is in fact a one-dimensional matrix:"
   ]
  },
  {
   "cell_type": "code",
   "execution_count": null,
   "id": "e1787391-9682-4d11-92d8-e7f2443dffa1",
   "metadata": {},
   "outputs": [],
   "source": [
    "type(elementary_flow_contribution)"
   ]
  },
  {
   "cell_type": "markdown",
   "id": "c4ae984c-cbba-4898-8ced-22941f7b0da4",
   "metadata": {},
   "source": [
    "To convert it to an array (probably more useful for many purposes), you can use any of the following approaches (they all have exactly the same output)."
   ]
  },
  {
   "cell_type": "code",
   "execution_count": null,
   "id": "f60af734-e671-44b6-b842-c88915a04357",
   "metadata": {},
   "outputs": [],
   "source": [
    "elementary_flow_contribution.A1 \n",
    "#np.squeeze(np.asarray(elementary_flow_contribution))\n",
    "#np.asarray(elementary_flow_contribution).reshape(-1)\n",
    "#np.array(elementary_flow_contribution).flatten()\n",
    "#np.array(elementary_flow_contribution).ravel()"
   ]
  },
  {
   "cell_type": "markdown",
   "id": "e0e3e7d3-6e3b-4556-ab0a-033ee7bcdea5",
   "metadata": {},
   "source": [
    "##### **Exercise 1.5.2:** Create a Pandas series that has the scores per unit process, sorted by value (contribution analysis).\n",
    "\n"
   ]
  },
  {
   "cell_type": "code",
   "execution_count": null,
   "id": "25554fb2-d73a-4320-8bf0-2bf51fbbbd70",
   "metadata": {},
   "outputs": [],
   "source": [
    "# Create array with the results per column (i.e. per activity)\n",
    "results_by_activity = (myFirstLCA.characterized_inventory.sum(axis=0)).A1\n",
    "results_by_activity;"
   ]
  },
  {
   "cell_type": "code",
   "execution_count": null,
   "id": "f08180a2-6ea5-4939-a511-1f0bc3b3f253",
   "metadata": {},
   "outputs": [],
   "source": [
    "# Create a list of names in columns\n",
    "list_of_names_in_columns = [bw.get_activity(myFirstLCA_rev_act_dict[col])['name'] \n",
    "                            for col in range(myFirstLCA.characterized_inventory.shape[1])]"
   ]
  },
  {
   "cell_type": "code",
   "execution_count": null,
   "id": "cffb8ce4-5342-4511-91a9-93efb03f1c05",
   "metadata": {},
   "outputs": [],
   "source": [
    "pd.Series(index=list_of_names_in_columns, data=results_by_activity).sort_values(ascending=False).head(10)"
   ]
  },
  {
   "cell_type": "markdown",
   "id": "c844eec7-364c-4459-b8ee-ab68a2aff3aa",
   "metadata": {},
   "source": [
    "## 1.6 &ensp; Second LCA: Comparative LCA"
   ]
  },
  {
   "cell_type": "markdown",
   "id": "4afa04c9-9686-4781-a0a3-13b87019a9b6",
   "metadata": {},
   "source": [
    "Let's choose two activities to compare, say coal production betweeen Denmark and Europe in general.\n",
    "\n",
    "Exercise: \n"
   ]
  },
  {
   "cell_type": "markdown",
   "id": "75098374-c50c-40bd-a627-f62732ee1daa",
   "metadata": {},
   "source": [
    "##### **Exercise 1.5.2:** Assign the two activities to variables DK and EU respectively."
   ]
  },
  {
   "cell_type": "code",
   "execution_count": null,
   "id": "90e3f170-b661-4c75-9a36-a24b75af0c0e",
   "metadata": {},
   "outputs": [],
   "source": [
    "[act for act in fw if \"Coal\" in act['name']]"
   ]
  },
  {
   "cell_type": "code",
   "execution_count": null,
   "id": "bd989103-4da6-4a22-8c25-711edb4aca31",
   "metadata": {},
   "outputs": [],
   "source": [
    "DK = [act for act in fw if \"Electricity\" in act['name']][1]\n",
    "EU = [act for act in fw if \"Electricity\" in act['name']][0]"
   ]
  },
  {
   "cell_type": "markdown",
   "id": "17aca2e1-ebfd-492d-baf3-5b308c7abd5f",
   "metadata": {},
   "source": [
    "Let's also compare these according to their carbon footprint as measured with the IPCC method we already selected above:"
   ]
  },
  {
   "cell_type": "code",
   "execution_count": null,
   "id": "be22810b-e4e6-4443-b1e3-ab83c388e468",
   "metadata": {},
   "outputs": [],
   "source": [
    "ipcc_2013_method"
   ]
  },
  {
   "cell_type": "markdown",
   "id": "ffd3ef1e-34ce-4b4a-bbbd-7401360c35cf",
   "metadata": {},
   "source": [
    "### 1.6.1 &ensp; One at a time approach"
   ]
  },
  {
   "cell_type": "code",
   "execution_count": null,
   "id": "5c969aeb-030e-41eb-b169-eb66acdf4ead",
   "metadata": {},
   "outputs": [],
   "source": [
    "DKCoalLCA = bw.LCA({DKCoal:1}, ipcc_2013_method.name)\n",
    "DKCoalLCA.lci()\n",
    "DKCoalLCA.lcia()\n",
    "DKCoalLCA.score\n",
    "\n",
    "\n"
   ]
  },
  {
   "cell_type": "markdown",
   "id": "62f50ec4-625b-4241-a9ef-be034b9ca0db",
   "metadata": {},
   "source": [
    "##### **Exercise 1.5.3:** Do the LCA for Europe.\n"
   ]
  },
  {
   "cell_type": "code",
   "execution_count": null,
   "id": "3c95121d-25db-49bc-9122-e1e12e6b4abc",
   "metadata": {},
   "outputs": [],
   "source": [
    "EUCoalLCA = bw.LCA({EUCoal:1}, ipcc_2013_method.name)\n",
    "EUCoalLCA.lci()\n",
    "EUCoalLCA.lcia()\n",
    "EUCoalLCA.score"
   ]
  },
  {
   "cell_type": "code",
   "execution_count": null,
   "id": "497addf4-f0dd-47f0-8568-55d9ea138f24",
   "metadata": {},
   "outputs": [],
   "source": [
    "#Compare results:\n",
    "if DKCoalLCA.score>EUCoalLCA.score:\n",
    "    print(\"The Danish coal GWP is above the Europe average.\")\n",
    "elif DKCoalLCA.score<EUCoalLCA.score:\n",
    "    print(\"The Danish coal GWP is below the Europe average.\")\n",
    "else:\n",
    "    print(\"Both options have the same climate change indicator result\")\n",
    "\n"
   ]
  },
  {
   "cell_type": "markdown",
   "id": "fb097d54-bd78-412b-bd99-24ba0ad9c1ce",
   "metadata": {},
   "source": [
    "### 1.6.2 &ensp; \"Delta\" LCA approach"
   ]
  },
  {
   "cell_type": "code",
   "execution_count": null,
   "id": "62f9271e-16ef-4d0f-93cd-ab590ec61836",
   "metadata": {},
   "outputs": [],
   "source": [
    "deltaLCA = bw.LCA({DKCoal:1, EUCoal:-1}, ipcc_2013_method.name)\n",
    "deltaLCA.lci()\n",
    "deltaLCA.lcia()\n",
    "deltaLCA.score"
   ]
  },
  {
   "cell_type": "code",
   "execution_count": null,
   "id": "1c50f75c-4174-4b64-bc7f-557a07c3b0e8",
   "metadata": {},
   "outputs": [],
   "source": [
    "#Compare results:\n",
    "if deltaLCA.score>0:\n",
    "    print(\"The Danish coal GWP is above the Europe average.\")\n",
    "elif deltaLCA.score<0:\n",
    "    print(\"The Danish coal GWP is below the Europe average.\")\n",
    "else:\n",
    "    print(\"Both options have the same climate change indicator result\")\n"
   ]
  },
  {
   "cell_type": "markdown",
   "id": "8c1f48bd-3037-46ca-b144-0a101250734f",
   "metadata": {},
   "source": [
    "## 1.7 &ensp; Third LCA: Multiple impact categories"
   ]
  },
  {
   "cell_type": "markdown",
   "id": "d50ee65f-0d84-4856-814a-4c3e97f41c19",
   "metadata": {},
   "source": [
    "Say we want to evaluate the indicator results for our `random_act` for all [ReCiPe](https://www.rivm.nl/en/life-cycle-assessment-lca/recipe) midpoint categories (with long-term emissions)."
   ]
  },
  {
   "cell_type": "code",
   "execution_count": null,
   "id": "441f9554-d1b1-4af5-9950-5910e3ef6491",
   "metadata": {},
   "outputs": [],
   "source": [
    "# Make a list of all impact method names (tuples):\n",
    "RCP_mid = [method for method in bw.methods if \"ReCiPe\" in str(method) and \"Midpoint\" in str(method) and \"no LT\" not in str(method)]\n",
    "RCP_mid;"
   ]
  },
  {
   "cell_type": "markdown",
   "id": "c6596b09-21ee-4b2d-b81a-8bcb9be50007",
   "metadata": {},
   "source": [
    "So much to choose from!"
   ]
  },
  {
   "cell_type": "markdown",
   "id": "544d947c-31ad-45c4-8f5b-e48ede0c4cf4",
   "metadata": {},
   "source": [
    "Simplest way: for loop, using `switch` method:"
   ]
  },
  {
   "cell_type": "code",
   "execution_count": null,
   "id": "80f9ea7c-02b0-4f77-b55b-2c60ebb792ae",
   "metadata": {},
   "outputs": [],
   "source": [
    "myThirdLCA = bw.LCA({random_act:1}, RCP_mid[0]) # Do LCA with one impact category\n",
    "myThirdLCA.lci()\n",
    "myThirdLCA.lcia()\n",
    "for category in RCP_mid:\n",
    "    myThirdLCA.switch_method(category)\n",
    "    myThirdLCA.lcia()\n",
    "    print(\"Score is {:f} {} for category {}\".format(myThirdLCA.score, \n",
    "                                                 bw.Method(category).metadata['unit'],\n",
    "                                                 bw.Method(category).name)\n",
    "          )"
   ]
  },
  {
   "cell_type": "code",
   "execution_count": null,
   "id": "d5ec4fe1-aa0a-4e72-a8a0-256809df6633",
   "metadata": {},
   "outputs": [],
   "source": [
    "myFirstLCA_unitProcessContribution = myFirstLCA.characterized_inventory.sum(axis=0).A1\n",
    "myFirstLCA_unitProcessRelativeContribution = myFirstLCA_unitProcessContribution/myFirstLCA.score"
   ]
  },
  {
   "cell_type": "markdown",
   "id": "84ae505c-7e24-4c88-b998-72c1f6302f8c",
   "metadata": {},
   "source": [
    "## 1.8 &ensp; Revisiting second and third LCA with `MultiLCA`"
   ]
  },
  {
   "cell_type": "markdown",
   "id": "af0cd272-ce3e-4f8d-8f09-bf7753276d93",
   "metadata": {},
   "source": [
    "The `MultiLCA` method allows the calculation of LCA results for multiple functional units and impact categories.\n",
    "One simply needs to create a calculation setup, i.e. a named set of functional units and LCIA methods.\n",
    "\n",
    "Calculation setups: dictionary with lists of functional units and methods."
   ]
  },
  {
   "cell_type": "code",
   "execution_count": null,
   "id": "7715f86d-1daf-49d8-ac9d-1791912c43c2",
   "metadata": {},
   "outputs": [],
   "source": [
    "list_functional_units = [{DKCoal.key:1}, {EUCoal.key:1}]\n",
    "list_methods = RCP_mid"
   ]
  },
  {
   "cell_type": "code",
   "execution_count": null,
   "id": "35a5e175-78b5-4370-bd08-7f309fc4ac81",
   "metadata": {},
   "outputs": [],
   "source": [
    "bw.calculation_setups['DK_vs_EU_coal'] = {'inv':list_functional_units, 'ia':list_methods}\n",
    "bw.calculation_setups['DK_vs_EU_coal'];"
   ]
  },
  {
   "cell_type": "code",
   "execution_count": null,
   "id": "09c8c565-c744-48a0-817d-9ef4cf506fed",
   "metadata": {},
   "outputs": [],
   "source": [
    "myMultiLCA = bw.MultiLCA('DK_vs_EU_coal')"
   ]
  },
  {
   "cell_type": "code",
   "execution_count": null,
   "id": "99f7d5f2-2955-4f49-bb4c-fc2799c64987",
   "metadata": {},
   "outputs": [],
   "source": [
    "myMultiLCA.results.shape"
   ]
  },
  {
   "cell_type": "code",
   "execution_count": null,
   "id": "310c41a1-79fb-4cc2-b8df-134bee704921",
   "metadata": {},
   "outputs": [],
   "source": [
    "myMultiLCA.results;"
   ]
  },
  {
   "cell_type": "code",
   "execution_count": null,
   "id": "b8e4e847-0ffd-4cd5-a177-9e4b7e98e374",
   "metadata": {},
   "outputs": [],
   "source": [
    "pd.DataFrame(index=RCP_mid, columns=[DKCoal['name'], EUCoal['name']], data=myMultiLCA.results.T)"
   ]
  },
  {
   "cell_type": "markdown",
   "id": "3c54bdb6-beec-4c28-a08e-4d7e1019561a",
   "metadata": {},
   "source": [
    "You can also create \"fuller\" DataFrames. Here is with code from [here](https://stackoverflow.com/questions/42984831/create-a-dataframe-from-multilca-results-in-brightway2):"
   ]
  },
  {
   "cell_type": "code",
   "execution_count": null,
   "id": "56c319d0-8324-4c7a-b392-b205efdb0ac7",
   "metadata": {},
   "outputs": [],
   "source": [
    "scores = pd.DataFrame(myMultiLCA.results, columns=myMultiLCA.methods)\n",
    "\n",
    "as_activities = [\n",
    "    (bw.get_activity(key), amount) \n",
    "    for dct in myMultiLCA.func_units \n",
    "    for key, amount in dct.items()\n",
    "]\n",
    "nicer_fu = pd.DataFrame(\n",
    "    [\n",
    "        (x['database'], x['code'], x['name'], x['location'], x['unit'], y) \n",
    "        for x, y in as_activities\n",
    "    ], \n",
    "    columns=('Database', 'Code', 'Name', 'Location', 'Unit', 'Amount')\n",
    ")\n",
    "pd.concat([nicer_fu, scores], axis=1).T"
   ]
  },
  {
   "cell_type": "markdown",
   "id": "6ee4433d-1257-4b53-8991-6c95e3b14a10",
   "metadata": {},
   "source": [
    "You can even generate beautiful heatmaps like this in a relatively easy way, see example notebook [here](./2_BW2_BasicTutorial/BW_Tutorial_5_Calculation_Setups.ipynb)"
   ]
  },
  {
   "cell_type": "code",
   "execution_count": null,
   "id": "972e6a6a-1f75-4c40-b32f-4429932e3940",
   "metadata": {},
   "outputs": [],
   "source": []
  }
 ],
 "metadata": {
  "kernelspec": {
   "display_name": "bw2",
   "language": "python",
   "name": "bw2"
  },
  "language_info": {
   "codemirror_mode": {
    "name": "ipython",
    "version": 3
   },
   "file_extension": ".py",
   "mimetype": "text/x-python",
   "name": "python",
   "nbconvert_exporter": "python",
   "pygments_lexer": "ipython3",
   "version": "3.9.12"
  }
 },
 "nbformat": 4,
 "nbformat_minor": 5
}

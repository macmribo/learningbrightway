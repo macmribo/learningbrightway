{
 "cells": [
  {
   "cell_type": "markdown",
   "id": "f5c260b3-7b11-498f-8862-bdf3b9789eae",
   "metadata": {},
   "source": [
    "# 2 &ensp; Data input/output"
   ]
  },
  {
   "cell_type": "markdown",
   "id": "9376c2ed-bd5f-4557-b2dc-ed9f07f114ea",
   "metadata": {},
   "source": [
    "This notebook is based on the [Chris Mutel and Pascal Lesage notebook series from their seminar session day 2 in 2017](https://github.com/PoutineAndRosti/Brightway-Seminar-2017/blob/master/Day%201%20PM/Data%20IO.ipynb). The main difference is the use of free databases. They mostly use ecoinvent so I try to adapt the notebooks to have a complete open source verison.\n",
    "\n",
    "At the end of this notebook, you will be able to:\n",
    "\n",
    "* Learn how to input data in different ways:\n",
    "    - Programmatically, via dictionary creation.\n",
    "    - Excel/csv importers.\n",
    "    - SimaPro csv\n",
    "        * Two unit-process example\n",
    "        * Agribalyse\n",
    "    - Importing ecoSpold, ecoSpold2"
   ]
  },
  {
   "cell_type": "markdown",
   "id": "575e6e72-103b-4165-84c4-3e62efb1c22e",
   "metadata": {},
   "source": [
    "## 2.1 &ensp; Project setup"
   ]
  },
  {
   "cell_type": "markdown",
   "id": "628da994-7d48-4e02-b9d6-0ec968e27bdf",
   "metadata": {},
   "source": [
    "Import necessary packages."
   ]
  },
  {
   "cell_type": "code",
   "execution_count": 1,
   "id": "8bb941c9-f649-4ff3-9aff-9488a5ea1b20",
   "metadata": {},
   "outputs": [],
   "source": [
    "import brightway2 as bw\n",
    "import os\n",
    "import bw2calc as bc"
   ]
  },
  {
   "cell_type": "markdown",
   "id": "6d079009-cb4c-4957-9570-51fb4fd8abaf",
   "metadata": {},
   "source": [
    "Setting the project. Let's copy the project from the previous tutorial.\n",
    "<div class=\"alert alert-block alert-warning\">\n",
    "<b>Warning:</b> If you run this project before, skip the following line and run the next one (uncomment it!). Otherwise you will be recopying and creating a bit of a mess.\n",
    "</div>\n"
   ]
  },
  {
   "cell_type": "code",
   "execution_count": 2,
   "id": "8c9198bc-24cd-4726-b762-c2777f5551bb",
   "metadata": {},
   "outputs": [
    {
     "data": {
      "text/plain": [
       "'/Users/mmendez/Library/Application Support/Brightway3/default.c21f969b5f03d33d43e04f8f136e7682'"
      ]
     },
     "execution_count": 2,
     "metadata": {},
     "output_type": "execute_result"
    }
   ],
   "source": [
    "bw.projects.dir"
   ]
  },
  {
   "cell_type": "code",
   "execution_count": 3,
   "id": "924aaa87-70b3-4d56-9c35-5949a399124c",
   "metadata": {},
   "outputs": [],
   "source": [
    "# bw.projects.set_current(\"MW_1\")\n",
    "# bw.projects.copy_project('MW_2')"
   ]
  },
  {
   "cell_type": "code",
   "execution_count": 5,
   "id": "7ba5c3cc-ec84-41d0-981d-a6129f144c6f",
   "metadata": {},
   "outputs": [],
   "source": [
    "bw.projects.set_current(\"MW_2\")   # Run me if this is not the first time you use this notebook!"
   ]
  },
  {
   "cell_type": "code",
   "execution_count": 6,
   "id": "898e4519-8cdf-437e-bbf2-53df21a2dab6",
   "metadata": {},
   "outputs": [
    {
     "data": {
      "text/plain": [
       "'MW_2'"
      ]
     },
     "execution_count": 6,
     "metadata": {},
     "output_type": "execute_result"
    }
   ],
   "source": [
    "bw.projects.current # Making sure we are in the right folder!"
   ]
  },
  {
   "cell_type": "code",
   "execution_count": 7,
   "id": "6185b88d-b70f-4b15-9ead-1625b001847b",
   "metadata": {},
   "outputs": [
    {
     "data": {
      "text/plain": [
       "Databases dictionary with 2 object(s):\n",
       "\tbiosphere3\n",
       "\tforwast"
      ]
     },
     "execution_count": 7,
     "metadata": {},
     "output_type": "execute_result"
    }
   ],
   "source": [
    "bw.databases  # Check which databases are in the folder"
   ]
  },
  {
   "cell_type": "code",
   "execution_count": 8,
   "id": "6802b9d1-4327-48dc-86b8-2219e63e29cb",
   "metadata": {},
   "outputs": [],
   "source": [
    "bio = bw.Database('biosphere3') # Biosphere database\n",
    "fw = bw.Database('forwast')     # Technosphere database"
   ]
  },
  {
   "cell_type": "markdown",
   "id": "d27021b5-aa9e-4393-911f-897c516ad37a",
   "metadata": {},
   "source": [
    "## 2.3 &ensp; Creating a database programatically"
   ]
  },
  {
   "cell_type": "markdown",
   "id": "a6dba1ea-60c6-410f-8db5-a923c1a4015e",
   "metadata": {},
   "source": [
    "One can create a database via a database. This database would include activities that would contain information about the activities themselves as well as information about the exchanges that are output to this activity (although these get seperated out when the data is written to the actual `database.db`). Let's look at the components of a database for a random activity:"
   ]
  },
  {
   "cell_type": "code",
   "execution_count": 9,
   "id": "f229a98f-44d4-4414-80c9-96668aa24408",
   "metadata": {},
   "outputs": [],
   "source": [
    "random_act = fw.random()"
   ]
  },
  {
   "cell_type": "code",
   "execution_count": 10,
   "id": "775ee7a4-3a27-4cdc-b10c-44fb2e241415",
   "metadata": {},
   "outputs": [
    {
     "data": {
      "text/plain": [
       "{'products': [{'location': 'GLO',\n",
       "   'unit': 'kilogram',\n",
       "   'output': ('forwast', '9b02934f90c187d86b48ea7fe507a3de'),\n",
       "   'amount': 1.0,\n",
       "   'input': ('forwast', '9b02934f90c187d86b48ea7fe507a3de'),\n",
       "   'categories': (),\n",
       "   'loc': 1.0,\n",
       "   'type': 'production',\n",
       "   'name': '__3 Poultry and animals n.e.c., DK',\n",
       "   'uncertainty type': 0}],\n",
       " 'categories': ['Input Output', 'Denmark 2003'],\n",
       " 'filename': '/Users/marie/Downloads/FORWAST-ecospold1/FORWAST-ecospold100005.XML',\n",
       " 'type': 'process',\n",
       " 'comment': 'Location:  Unspecified\\nTechnology:  Unspecified\\nTime period:  Unspecified',\n",
       " 'location': 'GLO',\n",
       " 'unit': 'kilogram',\n",
       " 'code': '9b02934f90c187d86b48ea7fe507a3de',\n",
       " 'production amount': 1.0,\n",
       " 'name': '__3 Poultry and animals n.e.c., DK',\n",
       " 'database': 'forwast'}"
      ]
     },
     "execution_count": 10,
     "metadata": {},
     "output_type": "execute_result"
    }
   ],
   "source": [
    "random_act.as_dict()"
   ]
  },
  {
   "cell_type": "markdown",
   "id": "cbc59bbb-d94d-42e9-b2f1-1a79f8d7b59b",
   "metadata": {},
   "source": [
    "Let's check its exchanges."
   ]
  },
  {
   "cell_type": "code",
   "execution_count": 11,
   "id": "851408b2-c557-4ad6-b0bf-f4c1f76abf0d",
   "metadata": {},
   "outputs": [
    {
     "data": {
      "text/plain": [
       "161"
      ]
     },
     "execution_count": 11,
     "metadata": {},
     "output_type": "execute_result"
    }
   ],
   "source": [
    "len([exc for exc in random_act.exchanges()]) "
   ]
  },
  {
   "cell_type": "code",
   "execution_count": 12,
   "id": "9a1041fe-d68e-459d-bba2-fc298c4e988f",
   "metadata": {},
   "outputs": [
    {
     "data": {
      "text/plain": [
       "{'location': 'GLO',\n",
       " 'unit': 'kilogram',\n",
       " 'output': ('forwast', '9b02934f90c187d86b48ea7fe507a3de'),\n",
       " 'amount': -0.572685544322277,\n",
       " 'input': ('forwast', 'e4bf34a0db257636acd4bb1f82a648f2'),\n",
       " 'categories': (),\n",
       " 'loc': -0.572685544322277,\n",
       " 'type': 'technosphere',\n",
       " 'name': '__1 Bovine meat and milk, DK',\n",
       " 'uncertainty type': 0}"
      ]
     },
     "execution_count": 12,
     "metadata": {},
     "output_type": "execute_result"
    }
   ],
   "source": [
    "[exc for exc in random_act.exchanges()][1].as_dict() "
   ]
  },
  {
   "cell_type": "markdown",
   "id": "bbd5b48f-30af-4689-87cc-48456ce64b02",
   "metadata": {},
   "source": [
    "Looking at this layout we can create our own simple activities and run a simple LCA. The original notebook uses ecoinvent for background data, since we do not have that, we will try to substitute the exchanges with some forwast ones. \n",
    "\n",
    "Let's make an LCA for the activity of 'Drinking water from an aluminium bottle', FUN!"
   ]
  },
  {
   "cell_type": "markdown",
   "id": "6bb48cfb-173f-4935-8657-e7a8818472e1",
   "metadata": {},
   "source": [
    "Let's search the background activities that make sense:"
   ]
  },
  {
   "cell_type": "code",
   "execution_count": 13,
   "id": "a83f62a4-e485-4087-98da-c0c3ff851e91",
   "metadata": {},
   "outputs": [],
   "source": [
    "# Aluminium from technosphere\n",
    "fw_alu = [act for act in fw if 'Aluminium' in act['name']][1]\n",
    "fw_alu_input = (fw_alu['database'], fw_alu['code']) # I place these two in a tuple to add the to the \"input\" item within the exchange types."
   ]
  },
  {
   "cell_type": "code",
   "execution_count": 14,
   "id": "575daf7b-9284-498c-b79d-e6859e32bb32",
   "metadata": {},
   "outputs": [
    {
     "data": {
      "text/plain": [
       "'_62 Aluminium, after first processing, EU27' (kilogram, GLO, ['Input Output', 'EU27 2003'])"
      ]
     },
     "execution_count": 14,
     "metadata": {},
     "output_type": "execute_result"
    }
   ],
   "source": [
    "fw_alu"
   ]
  },
  {
   "cell_type": "markdown",
   "id": "2a829cd2-ef24-422e-b070-6f4767982195",
   "metadata": {},
   "source": [
    "Forwast database is not as complete as ecoinvent, but it is the database we have for our background processes. Therefore we will be very creative and instrad of using \"Deformation stroke\" for the aluminium water bottle LCA we will use \"Fabricated metal products\". "
   ]
  },
  {
   "cell_type": "code",
   "execution_count": 15,
   "id": "5ac25751-299e-4cd3-b951-28d47d13eb55",
   "metadata": {},
   "outputs": [],
   "source": [
    "fw_metal = [act for act in fw if 'Fabricated metal products' in act['name'] and 'EU' in act['name']][0]\n",
    "fw_metal_input = (fw_metal['database'], fw_metal['code'])"
   ]
  },
  {
   "cell_type": "code",
   "execution_count": 16,
   "id": "0e4a4d61-8a37-4eba-8a3c-a58aa49f9422",
   "metadata": {},
   "outputs": [
    {
     "data": {
      "text/plain": [
       "'_65 Fabricated metal products, except machinery, EU27' (kilogram, GLO, ['Input Output', 'EU27 2003'])"
      ]
     },
     "execution_count": 16,
     "metadata": {},
     "output_type": "execute_result"
    }
   ],
   "source": [
    "fw_metal"
   ]
  },
  {
   "cell_type": "markdown",
   "id": "e2407028-c754-4a63-bd4a-2fbebdbabb0c",
   "metadata": {},
   "source": [
    "Setting the project. Let's copy the project from the previous tutorial.\n",
    "<div class=\"alert alert-block alert-warning\"><b>Warning:</b> I tried to draw the 'water' flow from 'biosphere3' database and it threw me the following error: <code>NonsquareTechnosphere: Technosphere matrix is not square: 279 activities (columns) and 280 products (rows). Use LeastSquaresLCA to solve this system, or fix the input data.</code>  \n",
    "</div>\n",
    "\n",
    "<div class=\"alert alert-block alert-info\"><b>Tip:</b> For future conflicts, the following codes might help point out at the conflicting non-square database:\n",
    "</div>\n",
    "\n",
    "* Option 1:\n",
    "``` { .lang #example style=\"color: #333; background: #f8f8f8;\" }\n",
    "for a in bw.Database(\"suspect_database\"):\n",
    "    assert len(a.production()) == 1\n",
    "```\n",
    "* Option 2:\n",
    "``` { .lang #example style=\"color: #333; background: #f8f8f8;\" }\n",
    "for ds in bw.Database(\"suspect_database\"):\n",
    "    for prod_exc in ds.production():\n",
    "        if ((prod_exc['input'][1]) != ds['code']):\n",
    "            print((ds['name'],ds['code'],ds['location'],prod_exc['input'], prod_exc['name']))\n",
    "```\n",
    "* Option 3:\n",
    "``` { .lang #example style=\"color: #333; background: #f8f8f8;\" }\n",
    "for ds in bw.Database('database_as_dictionary'):\n",
    "    for prod_exc in ds.production():\n",
    "        try : assert (prod_exc['name'] == ds['name'])\n",
    "        except : print(ds['name'])\n",
    "```"
   ]
  },
  {
   "cell_type": "markdown",
   "id": "d313105c-5f89-4b2a-98dc-da292ffca026",
   "metadata": {},
   "source": [
    "[Source](https://stackoverflow.com/questions/52421897/identify-which-activity-or-which-product-is-leading-to-a-non-square-technosphere). Thanks to this, specifically Option 1, informed me that it was `biosphere3` the database creating conflict!"
   ]
  },
  {
   "cell_type": "code",
   "execution_count": 17,
   "id": "1fb05085-b448-4729-ba67-4cb6e2eb0846",
   "metadata": {},
   "outputs": [],
   "source": [
    "fw_water = [act for act in fw if 'Water, fresh, EU27' in act['name']][0] # Play around with keywords to find your activity, remember the search is CaSe SenSiTivE\n",
    "fw_water_int = (fw_water['database'], fw_water['code'])"
   ]
  },
  {
   "cell_type": "code",
   "execution_count": 18,
   "id": "e3c0d4b5-e16d-4260-a516-4e08867aed7d",
   "metadata": {},
   "outputs": [
    {
     "data": {
      "text/plain": [
       "'_77 Water, fresh, EU27' (EUR2003, GLO, ['Input Output', 'EU27 2003'])"
      ]
     },
     "execution_count": 18,
     "metadata": {},
     "output_type": "execute_result"
    }
   ],
   "source": [
    "fw_water"
   ]
  },
  {
   "cell_type": "code",
   "execution_count": 19,
   "id": "8ee1bff9-cfe3-4cf1-b4c0-b6cd570c479e",
   "metadata": {},
   "outputs": [],
   "source": [
    "database_as_dictionary = bw.Database(\"Database as dict\")\n",
    "\n",
    "water_bottle_data = {\n",
    "    (\"Database as dict\", \"Some code for the bottle production\"): {\n",
    "        \"name\": \"Water bottle production\",\n",
    "        'unit': 'unit',\n",
    "        'location': 'GLO',\n",
    "        'categories': (\"Some made up\", \"category here\"),\n",
    "        \"exchanges\": [{\n",
    "            \"amount\": 0.33,\n",
    "            \"input\": fw_alu_input, #Aluminium\n",
    "            \"type\": \"technosphere\",\n",
    "            \"uncertainty type\":0,\n",
    "            \"unit=\": \"kg\"},\n",
    "                      {\n",
    "            \"amount\": 0.33,\n",
    "            \"input\": fw_metal_input, #Fabricated metal products\n",
    "            \"type\": \"technosphere\",\n",
    "            \"uncertainty type\":0,\n",
    "            \"unit=\": \"kg\"}\n",
    "        ],\n",
    "        },\n",
    "    (\"Database as dict\", \"Some code for drinking a bottle full of water\"): {\n",
    "        \"name\": \"Water drinking\",\n",
    "        'unit': 'liter',\n",
    "        'location': 'GLO',\n",
    "        'categories': (\"Another made up\", \"category here\"),\n",
    "        \"exchanges\": [{\n",
    "            \"amount\": 1,\n",
    "            \"input\": (\"Database as dict\", \"Some code for the bottle production\"), #Our water bottle\n",
    "            \"type\": \"technosphere\",\n",
    "            \"uncertainty type\":5,\n",
    "            \"loc\":0.005,\n",
    "            \"minimum\":0.0005,\n",
    "            \"maximum\":0.05,\n",
    "            \"unit\": \"kg\"},\n",
    "                      {\n",
    "            \"amount\": 1,\n",
    "            \"input\": fw_water_int, #Water\n",
    "            \"type\": \"technosphere\",\n",
    "            \"uncertainty type\":0,\n",
    "            \"unit=\": \"kg\"}],\n",
    "        }\n",
    "  \n",
    "\n",
    "}"
   ]
  },
  {
   "cell_type": "markdown",
   "id": "189bbfc4-7f18-4e0b-838b-6ce5370b5b26",
   "metadata": {},
   "source": [
    "After creating a database, we need to \"write\" it into the newly created database `database_as_dictionary`."
   ]
  },
  {
   "cell_type": "code",
   "execution_count": 20,
   "id": "dfed7540-6ce2-4964-878b-634ddbc78852",
   "metadata": {},
   "outputs": [
    {
     "name": "stderr",
     "output_type": "stream",
     "text": [
      "Writing activities to SQLite3 database:\n",
      "0% [##] 100% | ETA: 00:00:00\n",
      "Total time elapsed: 00:00:00\n"
     ]
    },
    {
     "name": "stdout",
     "output_type": "stream",
     "text": [
      "Title: Writing activities to SQLite3 database:\n",
      "  Started: 08/16/2022 08:08:02\n",
      "  Finished: 08/16/2022 08:08:02\n",
      "  Total time elapsed: 00:00:00\n",
      "  CPU %: 2.60\n",
      "  Memory %: 0.57\n"
     ]
    }
   ],
   "source": [
    "database_as_dictionary.write(water_bottle_data)"
   ]
  },
  {
   "cell_type": "code",
   "execution_count": 21,
   "id": "9998f966-8609-4eef-9958-1a9c45f0ac7f",
   "metadata": {},
   "outputs": [
    {
     "name": "stdout",
     "output_type": "stream",
     "text": [
      "We have 2 activities in our custom database.\n"
     ]
    }
   ],
   "source": [
    "print('We have {} activities in our custom database.'.format(len(database_as_dictionary)))"
   ]
  },
  {
   "cell_type": "markdown",
   "id": "57ef9d53-3a26-4ecc-adbf-019321c3193e",
   "metadata": {},
   "source": [
    "Let's assign the drinking activity to a variable. We do this to formulate the **functional unit**."
   ]
  },
  {
   "cell_type": "code",
   "execution_count": 22,
   "id": "f5145513-0086-465c-af4c-51619aad1e7c",
   "metadata": {},
   "outputs": [
    {
     "data": {
      "text/plain": [
       "'Water drinking' (liter, GLO, ('Another made up', 'category here'))"
      ]
     },
     "execution_count": 22,
     "metadata": {},
     "output_type": "execute_result"
    }
   ],
   "source": [
    "drinking_act = [act for act in database_as_dictionary if \"drinking\" in act['name']][0]\n",
    "drinking_act"
   ]
  },
  {
   "cell_type": "markdown",
   "id": "b5312c72-fc6e-491d-bd93-6c3f237b7fee",
   "metadata": {},
   "source": [
    "## 2.4 &ensp; Running the LCA"
   ]
  },
  {
   "cell_type": "markdown",
   "id": "ffdad495-ad81-44d8-aa28-0e75ffd37ec9",
   "metadata": {},
   "source": [
    "Check following this [stack overflow post](https://stackoverflow.com/questions/52421897/identify-which-activity-or-which-product-is-leading-to-a-non-square-technosphere) if you have conflicts!"
   ]
  },
  {
   "cell_type": "code",
   "execution_count": 23,
   "id": "2c867d84-023d-4418-9656-177e2cd38545",
   "metadata": {},
   "outputs": [],
   "source": [
    "water_bottle_LCA_from_dict_input = bw.LCA({drinking_act:1}, ('IPCC 2013', 'climate change', 'GWP 100a'))"
   ]
  },
  {
   "cell_type": "code",
   "execution_count": 24,
   "id": "aa06aff9-ea36-4904-88ee-84af5cc2a2ce",
   "metadata": {},
   "outputs": [
    {
     "data": {
      "text/plain": [
       "6.775816292941603"
      ]
     },
     "execution_count": 24,
     "metadata": {},
     "output_type": "execute_result"
    }
   ],
   "source": [
    "water_bottle_LCA_from_dict_input.lci()\n",
    "water_bottle_LCA_from_dict_input.lcia()\n",
    "water_bottle_LCA_from_dict_input.score"
   ]
  },
  {
   "cell_type": "markdown",
   "id": "9af13b68-ed10-4030-981c-91b4fe8b5763",
   "metadata": {},
   "source": [
    "## 2.5 &ensp; Imoprting from CSV or Excel"
   ]
  },
  {
   "cell_type": "markdown",
   "id": "4af7d0b6-218e-459f-8505-05f5fc44f7de",
   "metadata": {},
   "source": [
    "### 2.5.0 &ensp; Hard way or easy way?"
   ]
  },
  {
   "cell_type": "markdown",
   "id": "c527869d-0698-4389-aea6-4a72e97998d5",
   "metadata": {},
   "source": [
    "If you want to go for the easy way, skip to [Section 2.5.2](#easy). Otherwise, keep reading in order!"
   ]
  },
  {
   "cell_type": "markdown",
   "id": "4d2a6ed7-4845-49b6-bbac-2bcbb97e8feb",
   "metadata": {},
   "source": [
    "### 2.5.2 &ensp;  Hard way"
   ]
  },
  {
   "cell_type": "markdown",
   "id": "2106b40c-6551-43e1-b86b-151e88652179",
   "metadata": {},
   "source": [
    "We will import a dataset in Excel, but this dataset has errors that we will have to fix (I modified this file so it fits with the forwast database). The excel we are importing looks like this:\n",
    "\n",
    "![excel_in:](2-BW2/excel_input_wrong.jpg)"
   ]
  },
  {
   "cell_type": "code",
   "execution_count": null,
   "id": "363571d5-b910-484f-9b7b-1664283206e4",
   "metadata": {},
   "outputs": [],
   "source": [
    "imp = bw.ExcelImporter(os.path.join(\"2-BW2/files\", \"excel_importer_example_problems.xlsx\"))"
   ]
  },
  {
   "cell_type": "code",
   "execution_count": null,
   "id": "792166a6-ded4-4f03-8c16-247a3080be1f",
   "metadata": {},
   "outputs": [],
   "source": [
    "imp.apply_strategies()"
   ]
  },
  {
   "cell_type": "code",
   "execution_count": null,
   "id": "72523fbb-9017-4d6f-a412-f86853e4eb96",
   "metadata": {},
   "outputs": [],
   "source": [
    "imp.match_database(fields=('name', 'unit', 'location'))"
   ]
  },
  {
   "cell_type": "code",
   "execution_count": null,
   "id": "f1951d3a-483f-4e4e-9eed-cd3fa665894f",
   "metadata": {},
   "outputs": [],
   "source": [
    "imp.match_database(\"forwast\", fields=('name', 'unit', 'location'))"
   ]
  },
  {
   "cell_type": "code",
   "execution_count": null,
   "id": "254f21c9-9541-4fcd-8037-74a0a26e6259",
   "metadata": {},
   "outputs": [],
   "source": [
    "imp.statistics()"
   ]
  },
  {
   "cell_type": "markdown",
   "id": "d6f6c875-70aa-4d26-abf5-02c2a40ca67d",
   "metadata": {},
   "source": [
    "We have four unlinked exchanges.... Let's look at the file we just created. Navigate to the output path:"
   ]
  },
  {
   "cell_type": "code",
   "execution_count": null,
   "id": "686128fe-15a9-40f2-b822-8809337639aa",
   "metadata": {},
   "outputs": [],
   "source": [
    "imp.write_excel()"
   ]
  },
  {
   "cell_type": "markdown",
   "id": "d6e214eb-5c0d-4811-b262-3a67a9b3baab",
   "metadata": {},
   "source": [
    "Looking inside this file:\n",
    "![excel_out:](2-BW2/excel_output.jpg)"
   ]
  },
  {
   "cell_type": "markdown",
   "id": "7d7d07b2-ae4e-4362-9e09-972915c70308",
   "metadata": {},
   "source": [
    "We can see that the unlinked activities are the ones we created. And for some reason, our creation location is from CH and unliks the activities. This is because ion the 'other processes' tab, it is pointing at unkown activities. We can fix this by looking for existing processes in forwast."
   ]
  },
  {
   "cell_type": "markdown",
   "id": "229ec940-fe84-41f6-be73-7b26370cc96c",
   "metadata": {},
   "source": [
    "It looks like we have a few small inconsistencies, like the name of the processes or their locations. Try to fix these on your own, and re-run the code two cells above to get an idea of your progress. The attributes used for matching (fields) must match exactly, though they are case-insensitive.\n",
    "\n",
    "If you can't get it to work, you can change the name of the import file to \"excel_importer_example.xlsx\"; this already has the necessary corrections, take a moment to spot the differences.\n",
    "\n",
    "If you need to find the forwast processes, you can search forwast (as you should already know :) )"
   ]
  },
  {
   "cell_type": "markdown",
   "id": "46932c4d-f997-4736-94fb-30b94a8a7c8f",
   "metadata": {},
   "source": [
    "After looking at the excel sheet, I fixed the sheet 'other processes' and changed the location to GLO instead of CH. Now e will use this database to fixed the unlinked problems."
   ]
  },
  {
   "cell_type": "markdown",
   "id": "1af2ec4d-5627-45c1-a73a-7050616b281c",
   "metadata": {},
   "source": [
    "### 2.5.2 &ensp;  Easy way <a id=easy />"
   ]
  },
  {
   "cell_type": "markdown",
   "id": "b11d528c-af97-42f6-bfd6-dda27ea6b70a",
   "metadata": {},
   "source": [
    "Import a file where everything should link without any problems. Faster, but you don't learn about how, why, and all those other silly questions. NO GUILT TRIP AT ALL!"
   ]
  },
  {
   "cell_type": "code",
   "execution_count": 34,
   "id": "ffb67972-e557-4e8d-9b70-4bf513fc1ce1",
   "metadata": {},
   "outputs": [
    {
     "name": "stderr",
     "output_type": "stream",
     "text": [
      "/Users/mmendez/miniconda3/envs/bw2_rosetta/lib/python3.9/site-packages/openpyxl/worksheet/_read_only.py:79: UserWarning: Unknown extension is not supported and will be removed\n",
      "  for idx, row in parser.parse():\n"
     ]
    },
    {
     "name": "stdout",
     "output_type": "stream",
     "text": [
      "Extracted 2 worksheets in 0.02 seconds\n",
      "Applying strategy: csv_restore_tuples\n",
      "Applying strategy: csv_restore_booleans\n",
      "Applying strategy: csv_numerize\n",
      "Applying strategy: csv_drop_unknown\n",
      "Applying strategy: csv_add_missing_exchanges_section\n",
      "Applying strategy: normalize_units\n",
      "Applying strategy: normalize_biosphere_categories\n",
      "Applying strategy: normalize_biosphere_names\n",
      "Applying strategy: strip_biosphere_exc_locations\n",
      "Applying strategy: set_code_by_activity_hash\n",
      "Applying strategy: link_iterable_by_fields\n",
      "Applying strategy: assign_only_product_as_production\n",
      "Applying strategy: link_technosphere_by_activity_hash\n",
      "Applying strategy: drop_falsey_uncertainty_fields_but_keep_zeros\n",
      "Applying strategy: convert_uncertainty_types_to_integers\n",
      "Applying strategy: convert_activity_parameters_to_list\n",
      "Applied 16 strategies in 12.73 seconds\n",
      "Applying strategy: link_iterable_by_fields\n",
      "Applying strategy: link_iterable_by_fields\n",
      "2 datasets\n",
      "5 exchanges\n",
      "0 unlinked exchanges\n",
      "  \n"
     ]
    },
    {
     "data": {
      "text/plain": [
       "(2, 5, 0)"
      ]
     },
     "execution_count": 34,
     "metadata": {},
     "output_type": "execute_result"
    }
   ],
   "source": [
    "imp_2 = bw.ExcelImporter(os.path.join(\"2-BW2/files\", \"excel_importer_example.xlsx\"))\n",
    "imp_2.apply_strategies()\n",
    "imp_2.match_database(fields=('name', 'location', 'unit')) # To link water I deleted matching 'unit' which will link everything\n",
    "imp_2.match_database(\"forwast\", fields=('name', 'location', 'unit'))\n",
    "imp_2.statistics()"
   ]
  },
  {
   "cell_type": "code",
   "execution_count": 28,
   "id": "f89d8ceb-9169-4098-94d6-b4c65e92d030",
   "metadata": {},
   "outputs": [],
   "source": [
    "#imp_2.write_excel()"
   ]
  },
  {
   "cell_type": "markdown",
   "id": "b2efedde-44c3-4fed-91c6-35262b467d1f",
   "metadata": {},
   "source": [
    "Now, if we navigate to the `write_excel()` path, we will not find any unlinked exchanges!"
   ]
  },
  {
   "cell_type": "markdown",
   "id": "711f6fc8-9066-4ef8-8562-7b69b739142d",
   "metadata": {},
   "source": [
    "### 2.5.3 &ensp;  Writing the database"
   ]
  },
  {
   "cell_type": "markdown",
   "id": "03afe4c5-182d-4728-a6a5-3bf0a5ab1dd9",
   "metadata": {},
   "source": [
    "Finally, we need to write this data to a new `Database`."
   ]
  },
  {
   "cell_type": "code",
   "execution_count": 35,
   "id": "ffc035a2-c1e2-4157-bdc1-1f2be3c63086",
   "metadata": {},
   "outputs": [
    {
     "name": "stderr",
     "output_type": "stream",
     "text": [
      "Writing activities to SQLite3 database:\n",
      "0% [##] 100% | ETA: 00:00:00\n",
      "Total time elapsed: 00:00:00\n"
     ]
    },
    {
     "name": "stdout",
     "output_type": "stream",
     "text": [
      "Title: Writing activities to SQLite3 database:\n",
      "  Started: 08/16/2022 08:29:27\n",
      "  Finished: 08/16/2022 08:29:27\n",
      "  Total time elapsed: 00:00:00\n",
      "  CPU %: 1.20\n",
      "  Memory %: 0.71\n",
      "Created database: BW2 Excel water bottle import\n"
     ]
    }
   ],
   "source": [
    "imp_2.write_database()"
   ]
  },
  {
   "cell_type": "markdown",
   "id": "46a3f989-77eb-40d6-a308-4af2b63565bb",
   "metadata": {},
   "source": [
    "I am having problems with .write_database() and I am [not the only one](https://stackoverflow.com/questions/67318953/brightway2-write-database-keywords-must-be-strings). Deleting empty lines before `Activity` on the excel file worked!"
   ]
  },
  {
   "cell_type": "code",
   "execution_count": 36,
   "id": "43b9676b-fdbe-475c-804b-2f4fa76ba5f3",
   "metadata": {},
   "outputs": [
    {
     "data": {
      "text/plain": [
       "1.0289148402790989"
      ]
     },
     "execution_count": 36,
     "metadata": {},
     "output_type": "execute_result"
    }
   ],
   "source": [
    "lca = bw.LCA(\n",
    "    {(\"BW2 Excel water bottle import\", \"WriteSomeCode_UUID_isFineButNotNecessary\"): 1}, \n",
    "    ('IPCC 2013', 'climate change', 'GWP 100a')\n",
    ")\n",
    "lca.lci()\n",
    "lca.lcia()\n",
    "lca.score"
   ]
  },
  {
   "cell_type": "code",
   "execution_count": null,
   "id": "16e5a775-352e-42ac-b5d0-1bfe70a25402",
   "metadata": {},
   "outputs": [],
   "source": []
  }
 ],
 "metadata": {
  "kernelspec": {
   "display_name": "bw2_rosetta",
   "language": "python",
   "name": "bw2_rosetta"
  },
  "language_info": {
   "codemirror_mode": {
    "name": "ipython",
    "version": 3
   },
   "file_extension": ".py",
   "mimetype": "text/x-python",
   "name": "python",
   "nbconvert_exporter": "python",
   "pygments_lexer": "ipython3",
   "version": "3.9.12"
  }
 },
 "nbformat": 4,
 "nbformat_minor": 5
}

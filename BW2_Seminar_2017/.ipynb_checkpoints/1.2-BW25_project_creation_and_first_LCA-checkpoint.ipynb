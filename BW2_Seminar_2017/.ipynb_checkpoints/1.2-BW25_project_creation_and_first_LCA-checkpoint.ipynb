{
 "cells": [
  {
   "cell_type": "code",
   "execution_count": 1,
   "id": "53cf1080-f123-4d54-ba77-189c5a9c8dab",
   "metadata": {},
   "outputs": [],
   "source": [
    "import bw2data as bd\n",
    "import bw2calc as bc\n",
    "import bw2io as bi\n",
    "import bw_processing as bwp\n",
    "\n",
    "import matrix_utils as mu\n",
    "import numpy as np\n",
    "import seaborn as sb\n",
    "import pandas as pd\n",
    "import os               # to use \"operating system dependent functionality\"\n"
   ]
  },
  {
   "cell_type": "code",
   "execution_count": 2,
   "id": "19c963ad-79a4-4008-8da2-4f45f87e842f",
   "metadata": {},
   "outputs": [],
   "source": [
    "bd.projects.set_current('MW_1_5')"
   ]
  },
  {
   "cell_type": "code",
   "execution_count": 16,
   "id": "8bc3c331-c36a-4e51-ac3f-b957bcbf889c",
   "metadata": {},
   "outputs": [
    {
     "name": "stdout",
     "output_type": "stream",
     "text": [
      "Biosphere database already present!!! No setup is needed\n"
     ]
    }
   ],
   "source": [
    "if 'biosphere3' == bd.databases:\n",
    "    print('Biosphere already in the project!')\n",
    "else:\n",
    "    bi.bw2setup()"
   ]
  },
  {
   "cell_type": "code",
   "execution_count": 17,
   "id": "9b65de3b-5826-46a2-aa38-527ce60c08c2",
   "metadata": {},
   "outputs": [
    {
     "name": "stdout",
     "output_type": "stream",
     "text": [
      "US EEIO 1.1 already present\n"
     ]
    }
   ],
   "source": [
    "if 'US EEIO 1.1' == bd.databases:\n",
    "    print('US EEIO 1.1 already in the project!')\n",
    "else:\n",
    "    bi.useeio11()"
   ]
  },
  {
   "cell_type": "code",
   "execution_count": 27,
   "id": "917db5cd-0dbc-471c-ba5c-d37d8f0b4ad8",
   "metadata": {},
   "outputs": [],
   "source": [
    "# if 'forwast' in bd.databases:\n",
    "#     print('Forwast already in the project!')\n",
    "# else:\n",
    "#     fw = SingleOutputEcospold1Importer(\"/Users/cmutel/Downloads/FORWAST-ecospold1\", \"forwast\")\n",
    "# ei.apply_strategies()\n",
    "# ei.statistics()"
   ]
  },
  {
   "cell_type": "code",
   "execution_count": 24,
   "id": "7e11992b-b393-4d3e-bc15-7cd51d588f0d",
   "metadata": {},
   "outputs": [
    {
     "data": {
      "text/plain": [
       "Databases dictionary with 2 object(s):\n",
       "\tUS EEIO 1.1\n",
       "\tbiosphere3"
      ]
     },
     "execution_count": 24,
     "metadata": {},
     "output_type": "execute_result"
    }
   ],
   "source": [
    "bd.databases"
   ]
  },
  {
   "cell_type": "markdown",
   "id": "eab12fc9-9735-422f-8d6a-c4f102d4eda4",
   "metadata": {},
   "source": [
    "Save both databases:"
   ]
  },
  {
   "cell_type": "code",
   "execution_count": 36,
   "id": "f005effd-c7e6-47ee-8a3e-2aec2add2072",
   "metadata": {},
   "outputs": [
    {
     "name": "stdout",
     "output_type": "stream",
     "text": [
      "The biosphere3 database has 4427 datapoints.\n",
      "The US EEIO 1.1 database has 2649 datapoints.\n"
     ]
    }
   ],
   "source": [
    "bio = bd.Database('biosphere3')\n",
    "useeio = bd.Database('US EEIO 1.1')\n",
    "data_codes = (bio, useeio);\n",
    "[print('The {} database has {} datapoints.'.format(data_codes[it].name,len(data_codes[it]))) for it in range(len(data_codes))];\n"
   ]
  },
  {
   "cell_type": "markdown",
   "id": "cb66dbc5-9a2e-4942-adc5-46b6bd919e1f",
   "metadata": {},
   "source": [
    "I am going to select an activity:"
   ]
  },
  {
   "cell_type": "code",
   "execution_count": 47,
   "id": "90fd17ca-16d1-46e7-9450-4f4245ae45f4",
   "metadata": {},
   "outputs": [],
   "source": [
    "glass = [act for act in useeio if 'glass' in act['name']][0]\n"
   ]
  },
  {
   "cell_type": "code",
   "execution_count": 48,
   "id": "c25ffa54-ca67-493f-a4be-bad444ceee7c",
   "metadata": {},
   "outputs": [
    {
     "data": {
      "text/plain": [
       "'Glass and glass products; at manufacturer' (USD, United States, None)"
      ]
     },
     "execution_count": 48,
     "metadata": {},
     "output_type": "execute_result"
    }
   ],
   "source": [
    "glass"
   ]
  },
  {
   "cell_type": "markdown",
   "id": "b26a38c9-3469-4808-b32e-307ee625fdda",
   "metadata": {},
   "source": [
    "We can iterate over its emission/resource and technosphere exchanges:"
   ]
  },
  {
   "cell_type": "code",
   "execution_count": 67,
   "id": "1596c090-63ed-4a05-9976-ef2c7e68846f",
   "metadata": {},
   "outputs": [
    {
     "name": "stdout",
     "output_type": "stream",
     "text": [
      "There are 217 technosphere exchanges.\n",
      "There are 263 biosphere exchanges.\n",
      "There are 481 total exchanges.\n"
     ]
    }
   ],
   "source": [
    "print('There are',str(len([exc for exc in glass.technosphere()])),'technosphere exchanges.')\n",
    "print('There are',str(len([exc for exc in glass.biosphere()])),'biosphere exchanges.')\n",
    "print('There are',str(len([exc for exc in glass.exchanges()])),'total exchanges.')\n",
    "\n",
    "\n",
    "\n"
   ]
  },
  {
   "cell_type": "markdown",
   "id": "8f046caa-bfa0-4123-9aae-c16067186f38",
   "metadata": {},
   "source": [
    "There is one missing, which I assume it is glass itself."
   ]
  },
  {
   "cell_type": "markdown",
   "id": "40db55f2-2fa6-41f7-9c9f-ecf9dec7ebc2",
   "metadata": {},
   "source": [
    "Let's learn more about a technosphere exchange!"
   ]
  },
  {
   "cell_type": "code",
   "execution_count": 68,
   "id": "27ebd546-6eb5-428d-a4e5-47d14eba5126",
   "metadata": {},
   "outputs": [
    {
     "data": {
      "text/plain": [
       "Exchange: 6.831961613029552e-08  'Rubber tires; at manufacturer' (, United States, ('31-33: Manufacturing', '3262: Rubber Product Manufacturing')) to 'Glass and glass products; at manufacturer' (USD, United States, None)>"
      ]
     },
     "execution_count": 68,
     "metadata": {},
     "output_type": "execute_result"
    }
   ],
   "source": [
    "glass_tech_exch = [exc for exc in glass.technosphere()][0]\n",
    "glass_tech_exch"
   ]
  },
  {
   "cell_type": "code",
   "execution_count": 70,
   "id": "c93d3184-88c1-46ab-b23d-a4584e158157",
   "metadata": {},
   "outputs": [
    {
     "data": {
      "text/plain": [
       "bw2data.backends.proxies.Exchange"
      ]
     },
     "execution_count": 70,
     "metadata": {},
     "output_type": "execute_result"
    }
   ],
   "source": [
    "type(glass_tech_exch) # It is a proxy!"
   ]
  },
  {
   "cell_type": "code",
   "execution_count": 82,
   "id": "46d39a94-21d6-41c5-af6b-37bad307e313",
   "metadata": {},
   "outputs": [
    {
     "name": "stdout",
     "output_type": "stream",
     "text": [
      "Amount:  6.831961613029552e-08\n",
      "Input:  'Rubber tires; at manufacturer' (, United States, ('31-33: Manufacturing', '3262: Rubber Product Manufacturing'))\n",
      "Output:  'Glass and glass products; at manufacturer' (USD, United States, None)\n",
      "As dictionary:  <bound method ProxyBase.as_dict of Exchange: 6.831961613029552e-08  'Rubber tires; at manufacturer' (, United States, ('31-33: Manufacturing', '3262: Rubber Product Manufacturing')) to 'Glass and glass products; at manufacturer' (USD, United States, None)>>\n"
     ]
    }
   ],
   "source": [
    "print('Amount: ', glass_tech_exch.amount) # Amount, or weight of the edge\n",
    "print('Input: ', glass_tech_exch.input) # Activity the exchange stems from\n",
    "print('Output: ', glass_tech_exch.output) # Activity the exchange terminates in\n",
    "print('As dictionary: ', glass_tech_exch.as_dict) # Exchange as a dictionary"
   ]
  },
  {
   "cell_type": "markdown",
   "id": "2c6245f0-b449-496d-9008-50ead28e7c7f",
   "metadata": {},
   "source": [
    "**Exercise:** Assign a biosphere flow to a variable, and check the following:\n",
    "\n",
    "* Is the output the same as for the technosphere exchange?\n",
    "* From what database does the biosphere exchange come from?\n",
    "* What is the amount of the exchange (i.e. the weight of the edge connecting the two activities)?\n",
    "\n",
    "*NOTE:* If you get a l`ist index out of range error` when trying to subscript your list comprehension, it means your list comprehension is empty, i.e. that there are no biosphere flows associated with the activity.\n"
   ]
  },
  {
   "cell_type": "code",
   "execution_count": null,
   "id": "5d2e918e-ec66-47be-9289-d694efc24625",
   "metadata": {},
   "outputs": [],
   "source": []
  }
 ],
 "metadata": {
  "kernelspec": {
   "display_name": "bw25_rosetta",
   "language": "python",
   "name": "bw25_rosetta"
  },
  "language_info": {
   "codemirror_mode": {
    "name": "ipython",
    "version": 3
   },
   "file_extension": ".py",
   "mimetype": "text/x-python",
   "name": "python",
   "nbconvert_exporter": "python",
   "pygments_lexer": "ipython3",
   "version": "3.9.12"
  }
 },
 "nbformat": 4,
 "nbformat_minor": 5
}

{
 "cells": [
  {
   "cell_type": "markdown",
   "id": "4d08d705-51f6-4754-a617-404977d62a58",
   "metadata": {},
   "source": [
    "# 1.2 Brightway 2 - From Project creation to LCA"
   ]
  },
  {
   "cell_type": "markdown",
   "id": "cbcfc7a3-e44a-4473-891f-970f8d5f78b2",
   "metadata": {},
   "source": [
    "This is a continuation of the [Tutorial 1](1-BW_project_creation_and_first_LCA.ipynb). The reason to chamnge notebooks is to run it with [Brightway 2.5](https://github.com/brightway-lca/brightway25). Technically they can run together, but I had some library conflicts so I prefer to have both kernels separate. Let's move on with [Chris's Seminar](https://github.com/PoutineAndRosti/Brightway-Seminar-2017/blob/master/Day%201%20AM/2%20-%20BW%20structure%20and%20first%20LCAs.ipynb), I want to remind you that he uses ecoinvent LCI database, since I do not have it, I will be using `'US EEIO 1.1'` and the default `'biosphere3'` databases."
   ]
  },
  {
   "cell_type": "code",
   "execution_count": 1,
   "id": "53cf1080-f123-4d54-ba77-189c5a9c8dab",
   "metadata": {},
   "outputs": [],
   "source": [
    "import bw2data as bd\n",
    "import bw2calc as bc\n",
    "import bw2io as bi\n",
    "import bw_processing as bwp\n",
    "\n",
    "import matrix_utils as mu\n",
    "import numpy as np\n",
    "import seaborn as sb\n",
    "import pandas as pd\n",
    "import os               # to use \"operating system dependent functionality\"\n"
   ]
  },
  {
   "cell_type": "code",
   "execution_count": 2,
   "id": "19c963ad-79a4-4008-8da2-4f45f87e842f",
   "metadata": {},
   "outputs": [],
   "source": [
    "bd.projects.set_current('MW_1_5')"
   ]
  },
  {
   "cell_type": "code",
   "execution_count": 16,
   "id": "8bc3c331-c36a-4e51-ac3f-b957bcbf889c",
   "metadata": {},
   "outputs": [
    {
     "name": "stdout",
     "output_type": "stream",
     "text": [
      "Biosphere database already present!!! No setup is needed\n"
     ]
    }
   ],
   "source": [
    "if 'biosphere3' == bd.databases:\n",
    "    print('Biosphere already in the project!')\n",
    "else:\n",
    "    bi.bw2setup()"
   ]
  },
  {
   "cell_type": "code",
   "execution_count": 17,
   "id": "9b65de3b-5826-46a2-aa38-527ce60c08c2",
   "metadata": {},
   "outputs": [
    {
     "name": "stdout",
     "output_type": "stream",
     "text": [
      "US EEIO 1.1 already present\n"
     ]
    }
   ],
   "source": [
    "if 'US EEIO 1.1' == bd.databases:\n",
    "    print('US EEIO 1.1 already in the project!')\n",
    "else:\n",
    "    bi.useeio11()"
   ]
  },
  {
   "cell_type": "code",
   "execution_count": 27,
   "id": "917db5cd-0dbc-471c-ba5c-d37d8f0b4ad8",
   "metadata": {},
   "outputs": [],
   "source": [
    "# if 'forwast' in bd.databases:\n",
    "#     print('Forwast already in the project!')\n",
    "# else:\n",
    "#     fw = SingleOutputEcospold1Importer(\"/Users/cmutel/Downloads/FORWAST-ecospold1\", \"forwast\")\n",
    "# ei.apply_strategies()\n",
    "# ei.statistics()"
   ]
  },
  {
   "cell_type": "code",
   "execution_count": 24,
   "id": "7e11992b-b393-4d3e-bc15-7cd51d588f0d",
   "metadata": {},
   "outputs": [
    {
     "data": {
      "text/plain": [
       "Databases dictionary with 2 object(s):\n",
       "\tUS EEIO 1.1\n",
       "\tbiosphere3"
      ]
     },
     "execution_count": 24,
     "metadata": {},
     "output_type": "execute_result"
    }
   ],
   "source": [
    "bd.databases"
   ]
  },
  {
   "cell_type": "markdown",
   "id": "eab12fc9-9735-422f-8d6a-c4f102d4eda4",
   "metadata": {},
   "source": [
    "Save both databases:"
   ]
  },
  {
   "cell_type": "code",
   "execution_count": 36,
   "id": "f005effd-c7e6-47ee-8a3e-2aec2add2072",
   "metadata": {},
   "outputs": [
    {
     "name": "stdout",
     "output_type": "stream",
     "text": [
      "The biosphere3 database has 4427 datapoints.\n",
      "The US EEIO 1.1 database has 2649 datapoints.\n"
     ]
    }
   ],
   "source": [
    "bio = bd.Database('biosphere3')\n",
    "useeio = bd.Database('US EEIO 1.1')\n",
    "data_codes = (bio, useeio);\n",
    "[print('The {} database has {} datapoints.'.format(data_codes[it].name,len(data_codes[it]))) for it in range(len(data_codes))];\n"
   ]
  },
  {
   "cell_type": "markdown",
   "id": "cb66dbc5-9a2e-4942-adc5-46b6bd919e1f",
   "metadata": {},
   "source": [
    "I am going to select an activity:"
   ]
  },
  {
   "cell_type": "code",
   "execution_count": 47,
   "id": "90fd17ca-16d1-46e7-9450-4f4245ae45f4",
   "metadata": {},
   "outputs": [],
   "source": [
    "glass = [act for act in useeio if 'glass' in act['name']][0]\n"
   ]
  },
  {
   "cell_type": "code",
   "execution_count": 48,
   "id": "c25ffa54-ca67-493f-a4be-bad444ceee7c",
   "metadata": {},
   "outputs": [
    {
     "data": {
      "text/plain": [
       "'Glass and glass products; at manufacturer' (USD, United States, None)"
      ]
     },
     "execution_count": 48,
     "metadata": {},
     "output_type": "execute_result"
    }
   ],
   "source": [
    "glass"
   ]
  },
  {
   "cell_type": "markdown",
   "id": "b26a38c9-3469-4808-b32e-307ee625fdda",
   "metadata": {},
   "source": [
    "We can iterate over its emission/resource and technosphere exchanges:"
   ]
  },
  {
   "cell_type": "code",
   "execution_count": 67,
   "id": "1596c090-63ed-4a05-9976-ef2c7e68846f",
   "metadata": {},
   "outputs": [
    {
     "name": "stdout",
     "output_type": "stream",
     "text": [
      "There are 217 technosphere exchanges.\n",
      "There are 263 biosphere exchanges.\n",
      "There are 481 total exchanges.\n"
     ]
    }
   ],
   "source": [
    "print('There are',str(len([exc for exc in glass.technosphere()])),'technosphere exchanges.')\n",
    "print('There are',str(len([exc for exc in glass.biosphere()])),'biosphere exchanges.')\n",
    "print('There are',str(len([exc for exc in glass.exchanges()])),'total exchanges.')\n",
    "\n",
    "\n",
    "\n"
   ]
  },
  {
   "cell_type": "markdown",
   "id": "8f046caa-bfa0-4123-9aae-c16067186f38",
   "metadata": {},
   "source": [
    "There is one missing, which I assume it is glass itself."
   ]
  },
  {
   "cell_type": "markdown",
   "id": "40db55f2-2fa6-41f7-9c9f-ecf9dec7ebc2",
   "metadata": {},
   "source": [
    "Let's learn more about a technosphere exchange!"
   ]
  },
  {
   "cell_type": "code",
   "execution_count": 68,
   "id": "27ebd546-6eb5-428d-a4e5-47d14eba5126",
   "metadata": {},
   "outputs": [
    {
     "data": {
      "text/plain": [
       "Exchange: 6.831961613029552e-08  'Rubber tires; at manufacturer' (, United States, ('31-33: Manufacturing', '3262: Rubber Product Manufacturing')) to 'Glass and glass products; at manufacturer' (USD, United States, None)>"
      ]
     },
     "execution_count": 68,
     "metadata": {},
     "output_type": "execute_result"
    }
   ],
   "source": [
    "glass_tech_exch = [exc for exc in glass.technosphere()][0]\n",
    "glass_tech_exch"
   ]
  },
  {
   "cell_type": "code",
   "execution_count": 70,
   "id": "c93d3184-88c1-46ab-b23d-a4584e158157",
   "metadata": {},
   "outputs": [
    {
     "data": {
      "text/plain": [
       "bw2data.backends.proxies.Exchange"
      ]
     },
     "execution_count": 70,
     "metadata": {},
     "output_type": "execute_result"
    }
   ],
   "source": [
    "type(glass_tech_exch) # It is a proxy!"
   ]
  },
  {
   "cell_type": "code",
   "execution_count": 82,
   "id": "46d39a94-21d6-41c5-af6b-37bad307e313",
   "metadata": {},
   "outputs": [
    {
     "name": "stdout",
     "output_type": "stream",
     "text": [
      "Amount:  6.831961613029552e-08\n",
      "Input:  'Rubber tires; at manufacturer' (, United States, ('31-33: Manufacturing', '3262: Rubber Product Manufacturing'))\n",
      "Output:  'Glass and glass products; at manufacturer' (USD, United States, None)\n",
      "As dictionary:  <bound method ProxyBase.as_dict of Exchange: 6.831961613029552e-08  'Rubber tires; at manufacturer' (, United States, ('31-33: Manufacturing', '3262: Rubber Product Manufacturing')) to 'Glass and glass products; at manufacturer' (USD, United States, None)>>\n"
     ]
    }
   ],
   "source": [
    "print('Amount: ', glass_tech_exch.amount) # Amount, or weight of the edge\n",
    "print('Input: ', glass_tech_exch.input) # Activity the exchange stems from\n",
    "print('Output: ', glass_tech_exch.output) # Activity the exchange terminates in\n",
    "print('As dictionary: ', glass_tech_exch.as_dict) # Exchange as a dictionary"
   ]
  },
  {
   "cell_type": "markdown",
   "id": "2c6245f0-b449-496d-9008-50ead28e7c7f",
   "metadata": {},
   "source": [
    "**Exercise:** Assign a biosphere flow to a variable, and check the following:\n",
    "\n",
    "* Is the output the same as for the technosphere exchange?\n",
    "* From what database does the biosphere exchange come from?\n",
    "* What is the amount of the exchange (i.e. the weight of the edge connecting the two activities)?\n",
    "\n",
    "*NOTE:* If you get a `list index out of range error` when trying to subscript your list comprehension, it means your list comprehension is empty, i.e. that there are no biosphere flows associated with the activity.\n"
   ]
  },
  {
   "cell_type": "code",
   "execution_count": 90,
   "id": "5d2e918e-ec66-47be-9289-d694efc24625",
   "metadata": {},
   "outputs": [
    {
     "data": {
      "text/plain": [
       "Exchange: 3.83109168959e-10  'Tetrafluoroethylene (TFE)' (, None, ('air', 'unspecified')) to 'Glass and glass products; at manufacturer' (USD, United States, None)>"
      ]
     },
     "execution_count": 90,
     "metadata": {},
     "output_type": "execute_result"
    }
   ],
   "source": [
    "bio_rand_flow = [bio_flow for bio_flow in glass.biosphere()][0]\n",
    "bio_rand_flow"
   ]
  },
  {
   "cell_type": "code",
   "execution_count": 92,
   "id": "0c9de7e5-4691-49bb-9dcd-248a2c9f9512",
   "metadata": {},
   "outputs": [
    {
     "data": {
      "text/plain": [
       "'Glass and glass products; at manufacturer' (USD, United States, None)"
      ]
     },
     "execution_count": 92,
     "metadata": {},
     "output_type": "execute_result"
    }
   ],
   "source": [
    "bio_rand_flow.output # Is the output the same as for the technosphere exchange? "
   ]
  },
  {
   "cell_type": "code",
   "execution_count": 95,
   "id": "54072cd6-d06d-44da-a1f0-a92652cac2bc",
   "metadata": {},
   "outputs": [
    {
     "data": {
      "text/plain": [
       "True"
      ]
     },
     "execution_count": 95,
     "metadata": {},
     "output_type": "execute_result"
    }
   ],
   "source": [
    "bio_rand_flow.output == glass_tech_exch.output # YES IT IS!"
   ]
  },
  {
   "cell_type": "code",
   "execution_count": 97,
   "id": "28c0a368-a199-4d0c-b2d9-02727705f569",
   "metadata": {},
   "outputs": [
    {
     "data": {
      "text/plain": [
       "'US EEIO 1.1'"
      ]
     },
     "execution_count": 97,
     "metadata": {},
     "output_type": "execute_result"
    }
   ],
   "source": [
    "bio_rand_flow.input.key[0] # It comes from the 'US EEIO 1.1'"
   ]
  },
  {
   "cell_type": "code",
   "execution_count": 99,
   "id": "32d1b53e-d531-48ee-b3eb-c2914c7421b9",
   "metadata": {},
   "outputs": [
    {
     "data": {
      "text/plain": [
       "3.83109168959e-10"
      ]
     },
     "execution_count": 99,
     "metadata": {},
     "output_type": "execute_result"
    }
   ],
   "source": [
    "bio_rand_flow['amount'] # Amount of the exchange"
   ]
  },
  {
   "cell_type": "markdown",
   "id": "23f86251-14c5-4144-a14a-fc5da34fe79b",
   "metadata": {},
   "source": [
    "#### Loaded LCI databases"
   ]
  },
  {
   "cell_type": "markdown",
   "id": "17adbeea-65fc-4604-a79b-2e58c55fc320",
   "metadata": {},
   "source": [
    "It is possible to load the entire database into a dictionary.\n",
    "This greatly speeds up work if you need to iterate over all activities or exchanges. The resulting object is quite big, so you should do this only if the gain in efficiency is worth it.\n"
   ]
  },
  {
   "cell_type": "code",
   "execution_count": 101,
   "id": "71bb1770-bd22-4cae-9e17-faee54c30089",
   "metadata": {},
   "outputs": [
    {
     "data": {
      "text/plain": [
       "2649"
      ]
     },
     "execution_count": 101,
     "metadata": {},
     "output_type": "execute_result"
    }
   ],
   "source": [
    "useeio_loaded = useeio.load()\n",
    "len(useeio_loaded)"
   ]
  },
  {
   "cell_type": "markdown",
   "id": "6f9baeb7-1249-492b-8e59-39a17c7091fe",
   "metadata": {},
   "source": [
    "### 1.2 1 First LCA"
   ]
  },
  {
   "cell_type": "markdown",
   "id": "1f087cf6-df14-4315-a917-2c2478cfc0ae",
   "metadata": {},
   "source": [
    "Brightway has a so-called `LCA` object.\n",
    "It is instantiated using `LCA(args)`.\n",
    "The only required argument is a **functional unit**, described by a dictionary with keys = activities and values = amounts ([more here](https://2.docs.brightway.dev/lca.html?highlight=functional+unit#specifying-a-functional-unit)).\n",
    "A second argument that is often passed is an LCIA method, passed using the method tuple."
   ]
  },
  {
   "cell_type": "markdown",
   "id": "272b12cc-3738-4ed8-a417-592a385d6467",
   "metadata": {},
   "source": [
    "Let's create our first LCA object using our random activity and our IPCC method (which we need to select again!)."
   ]
  },
  {
   "cell_type": "code",
   "execution_count": 141,
   "id": "2adf3387-3645-4573-9701-b1af481d75d2",
   "metadata": {},
   "outputs": [
    {
     "data": {
      "text/plain": [
       "'Veneer, plywood, and engineered wood; at manufacturer' (, United States, ('31-33: Manufacturing', '3219: Other Wood Product Manufacturing'))"
      ]
     },
     "execution_count": 141,
     "metadata": {},
     "output_type": "execute_result"
    }
   ],
   "source": [
    "new_act = [act for act in useeio if 'Veneer' in act['name']][0] # Here I selected wood because I felt like it\n",
    "new_act"
   ]
  },
  {
   "cell_type": "code",
   "execution_count": 142,
   "id": "6cbea7b0-b984-4268-942f-d7853fa3f454",
   "metadata": {},
   "outputs": [],
   "source": [
    "ipcc2013 = [m for m in bd.methods if 'IPCC' in str(m) \n",
    "                                 and ('2013') in str(m) \n",
    "                                 and 'GWP 100' in str(m) \n",
    "                                 and 'climate change' in str(m) \n",
    "                                 and 'no LT' not in str(m)][0] # You need to add the [0] to get the tuple selection!"
   ]
  },
  {
   "cell_type": "code",
   "execution_count": 143,
   "id": "ec1c5ceb-2c99-4023-aa94-615ce0d32202",
   "metadata": {},
   "outputs": [
    {
     "data": {
      "text/plain": [
       "('IPCC 2013', 'climate change', 'GWP 100a')"
      ]
     },
     "execution_count": 143,
     "metadata": {},
     "output_type": "execute_result"
    }
   ],
   "source": [
    "ipcc2013"
   ]
  },
  {
   "cell_type": "code",
   "execution_count": 144,
   "id": "d002138d-c0d7-48bd-b305-5924736bcb88",
   "metadata": {},
   "outputs": [],
   "source": [
    "functional_unit = {new_act:1} # We selected 1 kg of glass here"
   ]
  },
  {
   "cell_type": "code",
   "execution_count": 145,
   "id": "1ee5d4af-1008-4a17-86cf-ba0ce37c18fe",
   "metadata": {},
   "outputs": [],
   "source": [
    "myFirstLCA_quick = bc.LCA(functional_unit, ipcc2013)"
   ]
  },
  {
   "cell_type": "markdown",
   "id": "d12debd5-f233-4739-8a97-f9b663ab6ac1",
   "metadata": {},
   "source": [
    "The steps to get to the impact score are as follows:"
   ]
  },
  {
   "cell_type": "code",
   "execution_count": 147,
   "id": "03e717f0-001e-468e-be3d-862446485519",
   "metadata": {},
   "outputs": [
    {
     "data": {
      "text/plain": [
       "0.0"
      ]
     },
     "execution_count": 147,
     "metadata": {},
     "output_type": "execute_result"
    }
   ],
   "source": [
    "myFirstLCA_quick.lci()    # Builds matrices, solves the system, generates an LCI matrix.\n",
    "myFirstLCA_quick.lcia()   # Characterization, i.e. the multiplication of the elements \n",
    "                          # of the LCI matrix with characterization factors from the chosen method\n",
    "myFirstLCA_quick.score    # Returns the score, i.e. the sum of the characterized inventory"
   ]
  },
  {
   "cell_type": "code",
   "execution_count": null,
   "id": "99e48af7-b266-4d9b-a4af-6f905d86099b",
   "metadata": {},
   "outputs": [],
   "source": []
  }
 ],
 "metadata": {
  "kernelspec": {
   "display_name": "bw25_rosetta",
   "language": "python",
   "name": "bw25_rosetta"
  },
  "language_info": {
   "codemirror_mode": {
    "name": "ipython",
    "version": 3
   },
   "file_extension": ".py",
   "mimetype": "text/x-python",
   "name": "python",
   "nbconvert_exporter": "python",
   "pygments_lexer": "ipython3",
   "version": "3.9.12"
  }
 },
 "nbformat": 4,
 "nbformat_minor": 5
}

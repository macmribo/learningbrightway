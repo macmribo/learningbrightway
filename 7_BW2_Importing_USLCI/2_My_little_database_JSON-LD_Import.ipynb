{
 "cells": [
  {
   "cell_type": "markdown",
   "id": "4254e86f-b36d-43e9-b9fa-6f3d359ac12b",
   "metadata": {},
   "source": [
    "## My little database JSON-LD import"
   ]
  },
  {
   "cell_type": "markdown",
   "id": "573762a1-42ec-4884-a8f9-9448c0e24666",
   "metadata": {},
   "source": [
    "#### Import relevant packages"
   ]
  },
  {
   "cell_type": "code",
   "execution_count": 1,
   "id": "7aacaab7-a901-4f13-81ac-7e9cf5da1d65",
   "metadata": {},
   "outputs": [],
   "source": [
    "import bw2data as bd\n",
    "import bw2calc as bc\n",
    "import bw2io as bi\n",
    "import bw_processing\n",
    "import bw_migrations\n",
    "\n",
    "import os\n",
    "import numpy as np\n",
    "import pandas as pd"
   ]
  },
  {
   "cell_type": "markdown",
   "id": "390d96a0-3ebe-440d-96dc-add82582a977",
   "metadata": {},
   "source": [
    "#### Create/set the working folder:"
   ]
  },
  {
   "cell_type": "code",
   "execution_count": 2,
   "id": "8b7cfc5e-41dc-494c-ba61-f4942404be83",
   "metadata": {},
   "outputs": [
    {
     "data": {
      "text/plain": [
       "PosixPath('/Users/mmendez/Library/Application Support/Brightway3/default.c21f969b5f03d33d43e04f8f136e7682')"
      ]
     },
     "execution_count": 2,
     "metadata": {},
     "output_type": "execute_result"
    }
   ],
   "source": [
    "bd.projects.dir"
   ]
  },
  {
   "cell_type": "code",
   "execution_count": 3,
   "id": "fcd7f96b-e785-4bd6-8bf7-32c1decc40f5",
   "metadata": {},
   "outputs": [],
   "source": [
    "bd.projects.set_current('MLD_JSON_2')"
   ]
  },
  {
   "cell_type": "code",
   "execution_count": null,
   "id": "b6c50a44-85ae-4de3-aa69-20f324002cf7",
   "metadata": {},
   "outputs": [],
   "source": []
  },
  {
   "cell_type": "markdown",
   "id": "e71c9ed6-bbbe-474c-8e93-0e3475bfe297",
   "metadata": {},
   "source": [
    "### Debugging units"
   ]
  },
  {
   "cell_type": "markdown",
   "id": "19dfa4be-7480-413f-b7dd-d63dd408d177",
   "metadata": {},
   "source": [
    "Here I solely extract the whole database without any changes, the JSONImporter "
   ]
  },
  {
   "cell_type": "code",
   "execution_count": null,
   "id": "dc902af5-36ba-467b-a524-b0453aab3c0c",
   "metadata": {},
   "outputs": [],
   "source": []
  },
  {
   "cell_type": "code",
   "execution_count": 4,
   "id": "e462b879-3da7-4291-93a3-82f14d234b43",
   "metadata": {},
   "outputs": [],
   "source": [
    "from bw2io.extractors.json_ld import JSONLDExtractor\n",
    "from collections import Counter"
   ]
  },
  {
   "cell_type": "code",
   "execution_count": 5,
   "id": "608a8057-ea11-42ac-bbef-7a96f4559d65",
   "metadata": {},
   "outputs": [],
   "source": [
    "extractor = JSONLDExtractor"
   ]
  },
  {
   "cell_type": "code",
   "execution_count": 6,
   "id": "d62d31b1-535e-4e5e-a47b-0c0bfc3f52f0",
   "metadata": {},
   "outputs": [],
   "source": [
    "path0 = '../7_BW2_Importing_USLCI/databases/My_little_database' # For some reason if I use the relative path it throws me an error\n",
    "data = JSONLDExtractor.extract(path0)"
   ]
  },
  {
   "cell_type": "markdown",
   "id": "3044406b-e0c2-43d3-a934-55ebc6cb4c37",
   "metadata": {},
   "source": [
    "#### Import JSON-LD LCI:"
   ]
  },
  {
   "cell_type": "code",
   "execution_count": 7,
   "id": "1b931776-2b9d-47ac-910c-c9348c542dec",
   "metadata": {},
   "outputs": [],
   "source": [
    "path = '../7_BW2_Importing_USLCI/databases/My_little_database' # For some reason if I use the relative path it throws me an error\n",
    "mld = bi.importers.JSONLDImporter(\n",
    "    path, \n",
    "    \"My_little_dataset_v0\", \n",
    "    preferred_allocation=\"PHYSICAL_ALLOCATION\"\n",
    ")"
   ]
  },
  {
   "cell_type": "markdown",
   "id": "7eae2d44-3355-444f-9744-7fe7f5253128",
   "metadata": {},
   "source": [
    "#### Apply strategies to map JSON-LD to Brightway2 schema:"
   ]
  },
  {
   "cell_type": "code",
   "execution_count": 8,
   "id": "a6d12d7b-e445-412d-8ca0-f6266d16085b",
   "metadata": {},
   "outputs": [
    {
     "name": "stdout",
     "output_type": "stream",
     "text": [
      "Applying strategy: json_ld_allocate_datasets\n",
      "Applying strategy: json_ld_get_normalized_exchange_locations\n",
      "Applying strategy: json_ld_convert_unit_to_reference_unit\n",
      "Applying strategy: json_ld_get_activities_list_from_rawdata\n",
      "Applying strategy: json_ld_add_products_as_activities\n",
      "Applying strategy: json_ld_get_normalized_exchange_units\n",
      "Applying strategy: json_ld_add_activity_unit\n",
      "Applying strategy: json_ld_rename_metadata_fields\n",
      "Applying strategy: json_ld_location_name\n",
      "Applying strategy: json_ld_remove_fields\n",
      "Applying strategy: json_ld_fix_process_type\n",
      "Applying strategy: json_ld_label_exchange_type\n",
      "Applying strategy: json_ld_prepare_exchange_fields_for_linking\n",
      "Applying strategy: add_database_name\n",
      "Applying strategy: link_iterable_by_fields\n",
      "Applying strategy: link_iterable_by_fields\n",
      "Applying strategy: normalize_units\n",
      "Applied 17 strategies in 0.00 seconds\n",
      "\n",
      "\tCreated 3 biosphere flows in separate database 'My_little_dataset_v0 biosphere'.\n",
      "\tUse either `.merge_biosphere_flows()` or `.write_separate_biosphere_database()` to write these flows.\n"
     ]
    }
   ],
   "source": [
    "mld.apply_strategies()"
   ]
  },
  {
   "cell_type": "markdown",
   "id": "093559da-372b-415c-a010-d84a1b7d1f36",
   "metadata": {},
   "source": [
    "#### Check database dictionaries:"
   ]
  },
  {
   "cell_type": "code",
   "execution_count": 9,
   "id": "36214144-eee6-480b-bfe3-97b24f222299",
   "metadata": {},
   "outputs": [
    {
     "data": {
      "text/plain": [
       "Databases dictionary with 2 object(s):\n",
       "\tMy_little_dataset_v0\n",
       "\tMy_little_dataset_v0 biosphere"
      ]
     },
     "execution_count": 9,
     "metadata": {},
     "output_type": "execute_result"
    }
   ],
   "source": [
    "bd.databases # As expected, nothing was written."
   ]
  },
  {
   "cell_type": "markdown",
   "id": "e38dd1e2-b4e6-4ec4-8821-bdd84b7a5ce8",
   "metadata": {},
   "source": [
    "#### Write the biosphere database:"
   ]
  },
  {
   "cell_type": "code",
   "execution_count": 10,
   "id": "0344aa06-b2b7-4223-9d9e-7eaefd3487be",
   "metadata": {},
   "outputs": [
    {
     "name": "stderr",
     "output_type": "stream",
     "text": [
      "Writing activities to SQLite3 database:\n",
      "0% [###] 100% | ETA: 00:00:00\n",
      "Total time elapsed: 00:00:00\n"
     ]
    },
    {
     "name": "stdout",
     "output_type": "stream",
     "text": [
      "Title: Writing activities to SQLite3 database:\n",
      "  Started: 09/21/2022 15:17:27\n",
      "  Finished: 09/21/2022 15:17:27\n",
      "  Total time elapsed: 00:00:00\n",
      "  CPU %: 2.50\n",
      "  Memory %: 0.49\n",
      "Created database: My_little_dataset_v0 biosphere\n"
     ]
    }
   ],
   "source": [
    "mld.write_separate_biosphere_database()"
   ]
  },
  {
   "cell_type": "code",
   "execution_count": 11,
   "id": "062e7de2-a315-49e1-845d-c06127f463b3",
   "metadata": {},
   "outputs": [
    {
     "data": {
      "text/plain": [
       "Databases dictionary with 2 object(s):\n",
       "\tMy_little_dataset_v0\n",
       "\tMy_little_dataset_v0 biosphere"
      ]
     },
     "execution_count": 11,
     "metadata": {},
     "output_type": "execute_result"
    }
   ],
   "source": [
    "bd.databases"
   ]
  },
  {
   "cell_type": "markdown",
   "id": "09632994-00d1-4acc-90ab-2cc67c26291b",
   "metadata": {},
   "source": [
    "#### Write the technosphere database:"
   ]
  },
  {
   "cell_type": "code",
   "execution_count": 12,
   "id": "f99da127-3472-4aef-8e5c-c0e37f253699",
   "metadata": {},
   "outputs": [],
   "source": [
    "bio = bd.Database('My_little_dataset_v0 biosphere')"
   ]
  },
  {
   "cell_type": "code",
   "execution_count": 13,
   "id": "a5ef93fa-9cd8-4b5a-908c-06c3d1f1f4e7",
   "metadata": {},
   "outputs": [
    {
     "name": "stderr",
     "output_type": "stream",
     "text": [
      "Writing activities to SQLite3 database:\n"
     ]
    },
    {
     "name": "stdout",
     "output_type": "stream",
     "text": [
      "Not able to determine geocollections for all datasets. This database is not ready for regionalization.\n"
     ]
    },
    {
     "name": "stderr",
     "output_type": "stream",
     "text": [
      "0% [######] 100% | ETA: 00:00:00\n",
      "Total time elapsed: 00:00:00\n"
     ]
    },
    {
     "name": "stdout",
     "output_type": "stream",
     "text": [
      "Title: Writing activities to SQLite3 database:\n",
      "  Started: 09/21/2022 15:17:27\n",
      "  Finished: 09/21/2022 15:17:27\n",
      "  Total time elapsed: 00:00:00\n",
      "  CPU %: 2.50\n",
      "  Memory %: 0.49\n",
      "Created database: My_little_dataset_v0\n"
     ]
    },
    {
     "data": {
      "text/plain": [
       "Brightway2 SQLiteBackend: My_little_dataset_v0"
      ]
     },
     "execution_count": 13,
     "metadata": {},
     "output_type": "execute_result"
    }
   ],
   "source": [
    "mld.write_database()"
   ]
  },
  {
   "cell_type": "markdown",
   "id": "ed1ba6ab-791d-4829-85b1-901ea621bddd",
   "metadata": {},
   "source": [
    "<div class=\"alert alert-block alert-warning\">\n",
    "<b>To fix:</b>\n",
    "    <li>The importer does not recognize the geolocations.</li>\n",
    "    <li>The importer does not import the LCIA methods. <i>Hint:</i> Check bw2setup() function, this one loads LCIAs and biosphere flows.</li>\n",
    "</div>"
   ]
  },
  {
   "cell_type": "code",
   "execution_count": 14,
   "id": "82d437d3-9384-44b4-a6b0-d26565eaaf6f",
   "metadata": {},
   "outputs": [
    {
     "data": {
      "text/plain": [
       "Databases dictionary with 2 object(s):\n",
       "\tMy_little_dataset_v0\n",
       "\tMy_little_dataset_v0 biosphere"
      ]
     },
     "execution_count": 14,
     "metadata": {},
     "output_type": "execute_result"
    }
   ],
   "source": [
    "bd.databases"
   ]
  },
  {
   "cell_type": "code",
   "execution_count": 15,
   "id": "be648af4-92e9-4944-8d6b-30dde0a0d7c9",
   "metadata": {},
   "outputs": [],
   "source": [
    "db = bd.Database('My_little_dataset_v0')"
   ]
  },
  {
   "cell_type": "markdown",
   "id": "49b02638-08cd-40d3-99a1-4bc50fb6f6d0",
   "metadata": {},
   "source": [
    "#### Let's import the methods"
   ]
  },
  {
   "cell_type": "code",
   "execution_count": null,
   "id": "25bd5dfe-4b33-47f5-9704-1b593f7c348a",
   "metadata": {},
   "outputs": [],
   "source": []
  },
  {
   "cell_type": "code",
   "execution_count": 16,
   "id": "29b03ba9-e75d-436f-bd52-933d0f897178",
   "metadata": {},
   "outputs": [],
   "source": [
    "mld_methods = bi.importers.JSONLDLCIAImporter(path)"
   ]
  },
  {
   "cell_type": "code",
   "execution_count": 17,
   "id": "1e32b8e7-d4a2-41dd-9477-f9c11793eee7",
   "metadata": {},
   "outputs": [
    {
     "name": "stdout",
     "output_type": "stream",
     "text": [
      "Applying strategy: json_ld_lcia_add_method_metadata\n"
     ]
    }
   ],
   "source": [
    "mld_methods.apply_strategy(bi.strategies.json_ld_lcia.json_ld_lcia_add_method_metadata)"
   ]
  },
  {
   "cell_type": "code",
   "execution_count": 18,
   "id": "40e5b88e-883b-41ec-8806-22cd94df7f77",
   "metadata": {},
   "outputs": [
    {
     "name": "stdout",
     "output_type": "stream",
     "text": [
      "Applying strategy: json_ld_lcia_set_method_metadata\n"
     ]
    }
   ],
   "source": [
    "mld_methods.apply_strategy(bi.strategies.json_ld_lcia.json_ld_lcia_set_method_metadata)"
   ]
  },
  {
   "cell_type": "code",
   "execution_count": 19,
   "id": "2e742b1f-ad8b-4c44-9e2d-3e78d363bf43",
   "metadata": {},
   "outputs": [
    {
     "name": "stdout",
     "output_type": "stream",
     "text": [
      "Applying strategy: json_ld_lcia_convert_to_list\n"
     ]
    }
   ],
   "source": [
    "mld_methods.apply_strategy(bi.strategies.json_ld_lcia.json_ld_lcia_convert_to_list)"
   ]
  },
  {
   "cell_type": "code",
   "execution_count": 20,
   "id": "37c0a8ac-c29c-4931-a33e-e5ae2769369e",
   "metadata": {},
   "outputs": [
    {
     "data": {
      "text/plain": [
       "dict_values([{'@context': 'http://greendelta.github.io/olca-schema/context.jsonld', '@type': 'ImpactCategory', '@id': '6ff74fb6-3d8e-4c2e-ba7e-64e2fd4376c4', 'name': 'Global warming', 'version': '00.00.000', 'referenceUnitName': 'kg CO2 eq', 'impactFactors': [{'@type': 'ImpactFactor', 'value': 2.0, 'flow': {'@type': 'Flow', '@id': 'cd154d8f-0694-43b2-b4ab-e44101e122bd', 'name': 'Bad stuff', 'categoryPath': ['Elementary flows', 'emissions'], 'flowType': 'ELEMENTARY_FLOW', 'location': 'DJ', 'refUnit': 'kg'}, 'unit': {'@type': 'Unit', '@id': '027023c8-b17c-42f9-babe-893b69d48254', 'name': 'kg'}, 'flowProperty': {'@type': 'FlowProperty', '@id': '65d0b9d1-3295-4e2d-8b1c-71ef05c71fe2', 'name': 'Mass'}}], 'filename': '/Users/mmendez/Documents/Postdoc/Software_dev/Brightway/BW_Tutorials/learningbrightway/7_BW2_Importing_USLCI/databases/My_little_database/lcia_categories/6ff74fb6-3d8e-4c2e-ba7e-64e2fd4376c4.json', 'parent': {'name': 'Mac IAM', 'description': '', 'version': '00.00.001', 'lastChange': '2022-08-29T17:47:45.711-06:00'}}])"
      ]
     },
     "execution_count": 20,
     "metadata": {},
     "output_type": "execute_result"
    }
   ],
   "source": [
    "mld_methods.data"
   ]
  },
  {
   "cell_type": "code",
   "execution_count": 21,
   "id": "0624a2ba-3512-415e-be5e-d9920e53dfa4",
   "metadata": {},
   "outputs": [],
   "source": [
    "# codes = {o[\"code\"] for o in bio}\n",
    "# print(len(codes))\n",
    "# for method in mld_methods.data:\n",
    "#     for cf in method['impactFactors']:\n",
    "#         if cf[\"flow\"][\"@id\"] in codes:\n",
    "#             cf[\"input\"] = (bio, cf[\"flow\"][\"@id\"])\n",
    "#             print(cf[\"input\"])\n",
    "            \n"
   ]
  },
  {
   "cell_type": "code",
   "execution_count": 22,
   "id": "fb8f3e87-9675-4cbc-8078-135590a1cb2d",
   "metadata": {},
   "outputs": [
    {
     "name": "stdout",
     "output_type": "stream",
     "text": [
      "Used\n"
     ]
    }
   ],
   "source": [
    "mld_methods.match_biosphere_by_id('My_little_dataset_v0 biosphere')"
   ]
  },
  {
   "cell_type": "code",
   "execution_count": 23,
   "id": "6bf4fcce-569c-4bca-a8ad-759bc8105bfe",
   "metadata": {},
   "outputs": [
    {
     "ename": "NameError",
     "evalue": "name 'asdfasdfa' is not defined",
     "output_type": "error",
     "traceback": [
      "\u001b[0;31m---------------------------------------------------------------------------\u001b[0m",
      "\u001b[0;31mNameError\u001b[0m                                 Traceback (most recent call last)",
      "Input \u001b[0;32mIn [23]\u001b[0m, in \u001b[0;36m<cell line: 1>\u001b[0;34m()\u001b[0m\n\u001b[0;32m----> 1\u001b[0m \u001b[43masdfasdfa\u001b[49m\n",
      "\u001b[0;31mNameError\u001b[0m: name 'asdfasdfa' is not defined"
     ]
    }
   ],
   "source": [
    "asdfasdfa"
   ]
  },
  {
   "cell_type": "code",
   "execution_count": null,
   "id": "965804b9-bd8c-41df-8985-906fabb3de9a",
   "metadata": {},
   "outputs": [],
   "source": []
  },
  {
   "cell_type": "code",
   "execution_count": null,
   "id": "64772919-f955-4a8c-af06-8a3cc45655c4",
   "metadata": {},
   "outputs": [],
   "source": []
  },
  {
   "cell_type": "code",
   "execution_count": null,
   "id": "4f4924dd-3ca4-4300-af0d-4f48a0a7e0f5",
   "metadata": {},
   "outputs": [],
   "source": []
  },
  {
   "cell_type": "markdown",
   "id": "d2cb49fb-41ef-4136-a3ba-b57b709c0b23",
   "metadata": {},
   "source": [
    "#### Let's look at the biosphere flows:"
   ]
  },
  {
   "cell_type": "code",
   "execution_count": 24,
   "id": "1b3b6624-b289-47ce-a67f-1a23d81dd4c8",
   "metadata": {},
   "outputs": [
    {
     "data": {
      "text/plain": [
       "['Crude oil' (, None, ('Elementary flows', 'resources')),\n",
       " 'Bad stuff' (, None, ('Elementary flows', 'emissions')),\n",
       " 'Virgin metals' (, None, ('Elementary flows', 'resources'))]"
      ]
     },
     "execution_count": 24,
     "metadata": {},
     "output_type": "execute_result"
    }
   ],
   "source": [
    "[act for act in bio]"
   ]
  },
  {
   "cell_type": "markdown",
   "id": "04267c81-0bef-4205-bcb7-8c5db646b82f",
   "metadata": {},
   "source": [
    "#### And now let's look at the our processes and products:"
   ]
  },
  {
   "cell_type": "code",
   "execution_count": 25,
   "id": "dee6b7a5-08eb-404b-ad9f-f5868e1213e8",
   "metadata": {},
   "outputs": [
    {
     "data": {
      "text/plain": [
       "[({'code': '8849be54-1b13-4d7e-85f6-2297817333f2',\n",
       "   'name': 'Crude oil',\n",
       "   'categories': ('Elementary flows', 'resources'),\n",
       "   'CAS number': None,\n",
       "   'database': 'My_little_dataset_v0 biosphere',\n",
       "   'unit': '',\n",
       "   'type': 'emission',\n",
       "   'id': 83},\n",
       "  ''),\n",
       " ({'code': 'cd154d8f-0694-43b2-b4ab-e44101e122bd',\n",
       "   'name': 'Bad stuff',\n",
       "   'categories': ('Elementary flows', 'emissions'),\n",
       "   'CAS number': None,\n",
       "   'database': 'My_little_dataset_v0 biosphere',\n",
       "   'unit': '',\n",
       "   'type': 'emission',\n",
       "   'id': 84},\n",
       "  ''),\n",
       " ({'code': '7528830a-7344-43be-b484-ac4dc625f272',\n",
       "   'name': 'Virgin metals',\n",
       "   'categories': ('Elementary flows', 'resources'),\n",
       "   'CAS number': None,\n",
       "   'database': 'My_little_dataset_v0 biosphere',\n",
       "   'unit': '',\n",
       "   'type': 'emission',\n",
       "   'id': 82},\n",
       "  '')]"
      ]
     },
     "execution_count": 25,
     "metadata": {},
     "output_type": "execute_result"
    }
   ],
   "source": [
    "[(act.as_dict(), act['unit']) for act in bio]"
   ]
  },
  {
   "cell_type": "code",
   "execution_count": 26,
   "id": "777bed4d-3294-4875-844b-a84281352f64",
   "metadata": {},
   "outputs": [
    {
     "data": {
      "text/plain": [
       "[('Stainless steel' (, Djibouti, ('Technosphere flows', 'Manufacturers')),\n",
       "  'product',\n",
       "  ''),\n",
       " ('Bottle' (, Djibouti, ('Technosphere flows', 'Assemblers')), 'product', ''),\n",
       " ('Bottle assembly' (number_of_items, Djibouti, None),\n",
       "  'process',\n",
       "  'number_of_items'),\n",
       " ('Stainless steel manufacturing' (kilogram, Djibouti, None),\n",
       "  'process',\n",
       "  'kilogram'),\n",
       " ('Plastic' (, Djibouti, ('Technosphere flows', 'Manufacturers')),\n",
       "  'product',\n",
       "  ''),\n",
       " ('Plastic manufacturing' (kilogram, Djibouti, None), 'process', 'kilogram')]"
      ]
     },
     "execution_count": 26,
     "metadata": {},
     "output_type": "execute_result"
    }
   ],
   "source": [
    "[(act, act['type'], act['unit']) for act in db]"
   ]
  },
  {
   "cell_type": "code",
   "execution_count": 27,
   "id": "6c777289-6886-4bd6-9563-dc2cd57ee9ac",
   "metadata": {},
   "outputs": [
    {
     "data": {
      "text/plain": [
       "[('Stainless steel manufacturing',\n",
       "  [Exchange: 1.0  'Stainless steel' (, Djibouti, ('Technosphere flows', 'Manufacturers')) to 'Stainless steel manufacturing' (kilogram, Djibouti, None)>,\n",
       "   Exchange: 1.0  'Virgin metals' (, None, ('Elementary flows', 'resources')) to 'Stainless steel manufacturing' (kilogram, Djibouti, None)>,\n",
       "   Exchange: 3.0  'Bad stuff' (, None, ('Elementary flows', 'emissions')) to 'Stainless steel manufacturing' (kilogram, Djibouti, None)>]),\n",
       " ('Plastic manufacturing',\n",
       "  [Exchange: 1.0  'Plastic' (, Djibouti, ('Technosphere flows', 'Manufacturers')) to 'Plastic manufacturing' (kilogram, Djibouti, None)>,\n",
       "   Exchange: 2.0  'Bad stuff' (, None, ('Elementary flows', 'emissions')) to 'Plastic manufacturing' (kilogram, Djibouti, None)>,\n",
       "   Exchange: 1.0  'Crude oil' (, None, ('Elementary flows', 'resources')) to 'Plastic manufacturing' (kilogram, Djibouti, None)>]),\n",
       " ('Bottle assembly',\n",
       "  [Exchange: 1.0  'Bottle' (, Djibouti, ('Technosphere flows', 'Assemblers')) to 'Bottle assembly' (number_of_items, Djibouti, None)>,\n",
       "   Exchange: 0.25  'Plastic' (, Djibouti, ('Technosphere flows', 'Manufacturers')) to 'Bottle assembly' (number_of_items, Djibouti, None)>,\n",
       "   Exchange: 0.1  'Bad stuff' (, None, ('Elementary flows', 'emissions')) to 'Bottle assembly' (number_of_items, Djibouti, None)>,\n",
       "   Exchange: 0.3  'Stainless steel' (, Djibouti, ('Technosphere flows', 'Manufacturers')) to 'Bottle assembly' (number_of_items, Djibouti, None)>])]"
      ]
     },
     "execution_count": 27,
     "metadata": {},
     "output_type": "execute_result"
    }
   ],
   "source": [
    "[(act['name'],[exc for exc in act.exchanges()]) for act in db if act['type'] == 'process']"
   ]
  },
  {
   "cell_type": "code",
   "execution_count": 28,
   "id": "3adb0571-f196-43f3-a940-c7ff59fa26c5",
   "metadata": {},
   "outputs": [
    {
     "data": {
      "text/plain": [
       "[('Stainless steel manufacturing',\n",
       "  [Exchange: 1.0  'Stainless steel' (, Djibouti, ('Technosphere flows', 'Manufacturers')) to 'Stainless steel manufacturing' (kilogram, Djibouti, None)>,\n",
       "   Exchange: 1.0  'Virgin metals' (, None, ('Elementary flows', 'resources')) to 'Stainless steel manufacturing' (kilogram, Djibouti, None)>,\n",
       "   Exchange: 3.0  'Bad stuff' (, None, ('Elementary flows', 'emissions')) to 'Stainless steel manufacturing' (kilogram, Djibouti, None)>]),\n",
       " ('Bottle assembly',\n",
       "  [Exchange: 1.0  'Bottle' (, Djibouti, ('Technosphere flows', 'Assemblers')) to 'Bottle assembly' (number_of_items, Djibouti, None)>,\n",
       "   Exchange: 0.25  'Plastic' (, Djibouti, ('Technosphere flows', 'Manufacturers')) to 'Bottle assembly' (number_of_items, Djibouti, None)>,\n",
       "   Exchange: 0.1  'Bad stuff' (, None, ('Elementary flows', 'emissions')) to 'Bottle assembly' (number_of_items, Djibouti, None)>,\n",
       "   Exchange: 0.3  'Stainless steel' (, Djibouti, ('Technosphere flows', 'Manufacturers')) to 'Bottle assembly' (number_of_items, Djibouti, None)>]),\n",
       " ('Plastic manufacturing',\n",
       "  [Exchange: 1.0  'Plastic' (, Djibouti, ('Technosphere flows', 'Manufacturers')) to 'Plastic manufacturing' (kilogram, Djibouti, None)>,\n",
       "   Exchange: 2.0  'Bad stuff' (, None, ('Elementary flows', 'emissions')) to 'Plastic manufacturing' (kilogram, Djibouti, None)>,\n",
       "   Exchange: 1.0  'Crude oil' (, None, ('Elementary flows', 'resources')) to 'Plastic manufacturing' (kilogram, Djibouti, None)>])]"
      ]
     },
     "execution_count": 28,
     "metadata": {},
     "output_type": "execute_result"
    }
   ],
   "source": [
    "[(act['name'],[exc for exc in act.exchanges()]) for act in db if act['type'] == 'process']"
   ]
  },
  {
   "cell_type": "markdown",
   "id": "f978eff0-cc3f-4daf-a926-95e419e921b3",
   "metadata": {},
   "source": [
    "#### Which ones are processes and which ones are products? Let's also get their codes:"
   ]
  },
  {
   "cell_type": "code",
   "execution_count": 29,
   "id": "b290ee47-1357-487e-b2d6-e0a3919b8cc7",
   "metadata": {},
   "outputs": [
    {
     "data": {
      "text/plain": [
       "[('Stainless steel manufacturing',\n",
       "  'process',\n",
       "  '7e5ec332-09fd-4706-8373-3f140a539028'),\n",
       " ('Plastic', 'product', '62714200-1a0d-43fb-9b48-99df3f233c94'),\n",
       " ('Bottle assembly', 'process', 'fae6799b-7326-452c-92b3-76758bbcac22'),\n",
       " ('Bottle', 'product', 'b806c2cd-d563-43c4-a0c9-9c7dd5d513d3'),\n",
       " ('Stainless steel', 'product', '3355a1b9-8fbf-40de-b449-ea6399a8a323'),\n",
       " ('Plastic manufacturing', 'process', '2fc6deea-6437-4b9f-bf91-89bca44d30f0')]"
      ]
     },
     "execution_count": 29,
     "metadata": {},
     "output_type": "execute_result"
    }
   ],
   "source": [
    "[(act['name'], act['type'], act['code']) for act in db]"
   ]
  },
  {
   "cell_type": "markdown",
   "id": "e6ffe89e-ef9d-4e5d-a7a7-a057c44ac134",
   "metadata": {},
   "source": [
    "### Let's manually add a LCIA method\n",
    "This importer does not recognize the LCIA methods, therefore we need to add them manually. I will debug this later!\n",
    "\n",
    "First, let's find the `Bad stuff` biosphere flow."
   ]
  },
  {
   "cell_type": "code",
   "execution_count": 30,
   "id": "67412ad5-f79f-499a-b045-7120459a33d8",
   "metadata": {},
   "outputs": [
    {
     "data": {
      "text/plain": [
       "{'code': 'cd154d8f-0694-43b2-b4ab-e44101e122bd',\n",
       " 'name': 'Bad stuff',\n",
       " 'categories': ('Elementary flows', 'emissions'),\n",
       " 'CAS number': None,\n",
       " 'database': 'My_little_dataset_v0 biosphere',\n",
       " 'unit': '',\n",
       " 'type': 'emission',\n",
       " 'id': 84}"
      ]
     },
     "execution_count": 30,
     "metadata": {},
     "output_type": "execute_result"
    }
   ],
   "source": [
    "bad_flow = [act for act in bio if act['name'] == 'Bad stuff'][0]\n",
    "bad_flow.as_dict()"
   ]
  },
  {
   "cell_type": "code",
   "execution_count": 31,
   "id": "b65b1eba-f043-4d40-9c89-6ae4261c2a8c",
   "metadata": {},
   "outputs": [],
   "source": [
    "myLCIAdata = [[(bad_flow['database'], bad_flow['code']), 2.0]] # A method list needs: a reference to the flow: tuple (database, 'code')), a characterization factor number, and localization (if no localization is given, 'GLO' is used)\n",
    "method_key = ('MacIM', 'Global warming', 'total')\n",
    "my_method = bd.Method(method_key)\n",
    "my_method.validate(myLCIAdata)\n",
    "my_method.register()\n",
    "my_method.write(myLCIAdata)"
   ]
  },
  {
   "cell_type": "markdown",
   "id": "3de520cd-f20c-4b9a-b6dc-a77fbd3d2769",
   "metadata": {},
   "source": [
    "#### Now we define a functional unit:\n",
    "This one might be a bit counterintuitive, our functional unit here is **Impact of assembling 5 bottles**, intuintively one would select the activity, but bw2 selects the flow coming out of the `Bottle assembly` activity (i.e. `Bottle`, which is a `product` not a `process`)."
   ]
  },
  {
   "cell_type": "code",
   "execution_count": 32,
   "id": "beb7904a-9d0d-4e2a-a1b7-7688e1dd176a",
   "metadata": {},
   "outputs": [],
   "source": [
    "activity = [act for act in db if act['name'] == 'Bottle'][0]"
   ]
  },
  {
   "cell_type": "code",
   "execution_count": 33,
   "id": "8e2cb052-b6c0-4ed0-9964-49350b7a93e2",
   "metadata": {},
   "outputs": [],
   "source": [
    "functional_unit = {activity : 5} #Impact of 5 bottles"
   ]
  },
  {
   "cell_type": "markdown",
   "id": "1d412bb2-2a5e-427f-b577-51fbbbf06f33",
   "metadata": {},
   "source": [
    "#### Run the LCA!"
   ]
  },
  {
   "cell_type": "code",
   "execution_count": 34,
   "id": "a5ea540a-1d60-4699-9a71-97acbf60ef31",
   "metadata": {
    "tags": []
   },
   "outputs": [],
   "source": [
    "lca = bc.LCA(functional_unit, method_key) "
   ]
  },
  {
   "cell_type": "code",
   "execution_count": 35,
   "id": "b5441bf8-aeb2-4378-8e5d-83b20154b396",
   "metadata": {},
   "outputs": [
    {
     "data": {
      "text/plain": [
       "72"
      ]
     },
     "execution_count": 35,
     "metadata": {},
     "output_type": "execute_result"
    }
   ],
   "source": [
    "len(dir(lca))"
   ]
  },
  {
   "cell_type": "code",
   "execution_count": 36,
   "id": "5d3d3f41-5c1b-4514-9f63-47cdd9a81cac",
   "metadata": {},
   "outputs": [],
   "source": [
    "lca.lci()   # Builds matrices, solves the system, generates an LCI matrix."
   ]
  },
  {
   "cell_type": "code",
   "execution_count": 37,
   "id": "b6040fb6-7013-47e7-9e16-6e65ee8b3430",
   "metadata": {},
   "outputs": [
    {
     "data": {
      "text/plain": [
       "79"
      ]
     },
     "execution_count": 37,
     "metadata": {},
     "output_type": "execute_result"
    }
   ],
   "source": [
    "len(dir(lca))"
   ]
  },
  {
   "cell_type": "code",
   "execution_count": 38,
   "id": "d54578d8-6c6d-42ca-b7eb-efe837bd9eb0",
   "metadata": {},
   "outputs": [],
   "source": [
    "lca.lcia()  # Characterization, i.e. the multiplication of the elements  \n",
    "            # of the LCI matrix with characterization factors from the chosen method\n"
   ]
  },
  {
   "cell_type": "code",
   "execution_count": 39,
   "id": "d60d4aef-c011-46dd-bb71-180625f7e198",
   "metadata": {},
   "outputs": [
    {
     "data": {
      "text/plain": [
       "82"
      ]
     },
     "execution_count": 39,
     "metadata": {},
     "output_type": "execute_result"
    }
   ],
   "source": [
    "len(dir(lca))"
   ]
  },
  {
   "cell_type": "code",
   "execution_count": 40,
   "id": "ee7f4831-bd8b-4545-8903-869cc7ad4061",
   "metadata": {},
   "outputs": [
    {
     "data": {
      "text/plain": [
       "15.00000037252903"
      ]
     },
     "execution_count": 40,
     "metadata": {},
     "output_type": "execute_result"
    }
   ],
   "source": [
    "lca.score    # Returns the score, i.e. the sum of the characterized inventory"
   ]
  },
  {
   "cell_type": "markdown",
   "id": "f471e1c1-1c3d-400f-9581-b69a3e3cd885",
   "metadata": {},
   "source": [
    "Scoooooooore!!!"
   ]
  },
  {
   "cell_type": "code",
   "execution_count": null,
   "id": "242182b6-772d-4b2f-bd45-f834b297fc72",
   "metadata": {},
   "outputs": [],
   "source": []
  }
 ],
 "metadata": {
  "kernelspec": {
   "display_name": "bw2_json",
   "language": "python",
   "name": "bw2_json"
  },
  "language_info": {
   "codemirror_mode": {
    "name": "ipython",
    "version": 3
   },
   "file_extension": ".py",
   "mimetype": "text/x-python",
   "name": "python",
   "nbconvert_exporter": "python",
   "pygments_lexer": "ipython3",
   "version": "3.10.4"
  }
 },
 "nbformat": 4,
 "nbformat_minor": 5
}

{
 "cells": [
  {
   "cell_type": "markdown",
   "id": "4254e86f-b36d-43e9-b9fa-6f3d359ac12b",
   "metadata": {},
   "source": [
    "# My little database JSON-LD import"
   ]
  },
  {
   "cell_type": "markdown",
   "id": "573762a1-42ec-4884-a8f9-9448c0e24666",
   "metadata": {},
   "source": [
    "## 1 Import relevant packages"
   ]
  },
  {
   "cell_type": "code",
   "execution_count": 1,
   "id": "7aacaab7-a901-4f13-81ac-7e9cf5da1d65",
   "metadata": {},
   "outputs": [],
   "source": [
    "import bw2data as bd\n",
    "import bw2calc as bc\n",
    "import bw2io as bi\n",
    "import bw_processing\n",
    "import bw_migrations\n",
    "from bw2io.importers.json_ld_lcia import JSONLDLCIAImporter\n",
    "\n",
    "import os\n",
    "import numpy as np\n",
    "import pandas as pd"
   ]
  },
  {
   "cell_type": "markdown",
   "id": "390d96a0-3ebe-440d-96dc-add82582a977",
   "metadata": {},
   "source": [
    "## 2 Create/set the working folder"
   ]
  },
  {
   "cell_type": "code",
   "execution_count": 2,
   "id": "8b7cfc5e-41dc-494c-ba61-f4942404be83",
   "metadata": {},
   "outputs": [
    {
     "data": {
      "text/plain": [
       "PosixPath('/Users/mmendez/Library/Application Support/Brightway3/default.c21f969b5f03d33d43e04f8f136e7682')"
      ]
     },
     "execution_count": 2,
     "metadata": {},
     "output_type": "execute_result"
    }
   ],
   "source": [
    "bd.projects.dir"
   ]
  },
  {
   "cell_type": "code",
   "execution_count": 3,
   "id": "fcd7f96b-e785-4bd6-8bf7-32c1decc40f5",
   "metadata": {},
   "outputs": [],
   "source": [
    "bd.projects.set_current('MLD_JSON_001') # Set the project name you want!"
   ]
  },
  {
   "cell_type": "markdown",
   "id": "3044406b-e0c2-43d3-a934-55ebc6cb4c37",
   "metadata": {},
   "source": [
    "## 3 Import JSON-LD LCI"
   ]
  },
  {
   "cell_type": "code",
   "execution_count": 4,
   "id": "1b931776-2b9d-47ac-910c-c9348c542dec",
   "metadata": {},
   "outputs": [],
   "source": [
    "path = '../7_BW2_Importing_USLCI/databases/My_little_database' # For some reason if I use the relative path it throws me an error\n",
    "mld = bi.importers.JSONLDImporter(\n",
    "    path, \n",
    "    \"My_little_dataset_v0\", \n",
    "    preferred_allocation=\"PHYSICAL_ALLOCATION\"\n",
    ")"
   ]
  },
  {
   "cell_type": "markdown",
   "id": "7eae2d44-3355-444f-9744-7fe7f5253128",
   "metadata": {},
   "source": [
    "### 3.1 Apply strategies to map JSON-LD to Brightway2 schema"
   ]
  },
  {
   "cell_type": "code",
   "execution_count": 5,
   "id": "a6d12d7b-e445-412d-8ca0-f6266d16085b",
   "metadata": {},
   "outputs": [
    {
     "name": "stdout",
     "output_type": "stream",
     "text": [
      "Applying strategy: json_ld_allocate_datasets\n",
      "Applying strategy: json_ld_get_normalized_exchange_locations\n",
      "Applying strategy: json_ld_convert_unit_to_reference_unit\n",
      "Applying strategy: json_ld_get_activities_list_from_rawdata\n",
      "Applying strategy: json_ld_add_products_as_activities\n",
      "Applying strategy: json_ld_get_normalized_exchange_units\n",
      "Applying strategy: json_ld_add_activity_unit\n",
      "Applying strategy: json_ld_rename_metadata_fields\n",
      "Applying strategy: json_ld_location_name\n",
      "Applying strategy: json_ld_remove_fields\n",
      "Applying strategy: json_ld_fix_process_type\n",
      "Applying strategy: json_ld_label_exchange_type\n",
      "Applying strategy: json_ld_prepare_exchange_fields_for_linking\n",
      "Applying strategy: add_database_name\n",
      "Applying strategy: link_iterable_by_fields\n",
      "Applying strategy: link_iterable_by_fields\n",
      "Applying strategy: normalize_units\n",
      "Applied 17 strategies in 0.00 seconds\n",
      "\n",
      "\tCreated 3 biosphere flows in separate database 'My_little_dataset_v0 biosphere'.\n",
      "\tUse either `.merge_biosphere_flows()` or `.write_separate_biosphere_database()` to write these flows.\n"
     ]
    }
   ],
   "source": [
    "mld.apply_strategies()"
   ]
  },
  {
   "cell_type": "markdown",
   "id": "093559da-372b-415c-a010-d84a1b7d1f36",
   "metadata": {},
   "source": [
    "### 3.2 Check database dictionaries"
   ]
  },
  {
   "cell_type": "code",
   "execution_count": 6,
   "id": "36214144-eee6-480b-bfe3-97b24f222299",
   "metadata": {},
   "outputs": [
    {
     "data": {
      "text/plain": [
       "Databases dictionary with 2 object(s):\n",
       "\tMy_little_dataset_v0\n",
       "\tMy_little_dataset_v0 biosphere"
      ]
     },
     "execution_count": 6,
     "metadata": {},
     "output_type": "execute_result"
    }
   ],
   "source": [
    "bd.databases # As expected, nothing was written."
   ]
  },
  {
   "cell_type": "markdown",
   "id": "e38dd1e2-b4e6-4ec4-8821-bdd84b7a5ce8",
   "metadata": {},
   "source": [
    "### 3.3 Write the biosphere database"
   ]
  },
  {
   "cell_type": "code",
   "execution_count": 7,
   "id": "0344aa06-b2b7-4223-9d9e-7eaefd3487be",
   "metadata": {},
   "outputs": [
    {
     "name": "stderr",
     "output_type": "stream",
     "text": [
      "Writing activities to SQLite3 database:\n",
      "0% [###] 100% | ETA: 00:00:00\n",
      "Total time elapsed: 00:00:00\n"
     ]
    },
    {
     "name": "stdout",
     "output_type": "stream",
     "text": [
      "Title: Writing activities to SQLite3 database:\n",
      "  Started: 09/22/2022 14:46:20\n",
      "  Finished: 09/22/2022 14:46:20\n",
      "  Total time elapsed: 00:00:00\n",
      "  CPU %: 2.20\n",
      "  Memory %: 0.49\n",
      "Created database: My_little_dataset_v0 biosphere\n"
     ]
    }
   ],
   "source": [
    "mld.write_separate_biosphere_database()"
   ]
  },
  {
   "cell_type": "markdown",
   "id": "7a9db70a-325e-422d-bef3-0fa4a6c300fa",
   "metadata": {},
   "source": [
    "Check that the database was written in the database dictionary."
   ]
  },
  {
   "cell_type": "code",
   "execution_count": 8,
   "id": "062e7de2-a315-49e1-845d-c06127f463b3",
   "metadata": {},
   "outputs": [
    {
     "data": {
      "text/plain": [
       "Databases dictionary with 2 object(s):\n",
       "\tMy_little_dataset_v0\n",
       "\tMy_little_dataset_v0 biosphere"
      ]
     },
     "execution_count": 8,
     "metadata": {},
     "output_type": "execute_result"
    }
   ],
   "source": [
    "bd.databases"
   ]
  },
  {
   "cell_type": "markdown",
   "id": "83201978-3203-4286-aa8d-2809a8b39767",
   "metadata": {},
   "source": [
    "Save the biosphere database in a variable for easy use."
   ]
  },
  {
   "cell_type": "code",
   "execution_count": 9,
   "id": "886149a7-0508-42de-8dc2-7c588d3103ba",
   "metadata": {},
   "outputs": [],
   "source": [
    "bio = bd.Database('My_little_dataset_v0 biosphere')"
   ]
  },
  {
   "cell_type": "markdown",
   "id": "09632994-00d1-4acc-90ab-2cc67c26291b",
   "metadata": {},
   "source": [
    "### 3.4 Write the technosphere database"
   ]
  },
  {
   "cell_type": "code",
   "execution_count": 10,
   "id": "a5ef93fa-9cd8-4b5a-908c-06c3d1f1f4e7",
   "metadata": {},
   "outputs": [
    {
     "name": "stderr",
     "output_type": "stream",
     "text": [
      "Writing activities to SQLite3 database:\n"
     ]
    },
    {
     "name": "stdout",
     "output_type": "stream",
     "text": [
      "Not able to determine geocollections for all datasets. This database is not ready for regionalization.\n"
     ]
    },
    {
     "name": "stderr",
     "output_type": "stream",
     "text": [
      "0% [######] 100% | ETA: 00:00:00\n",
      "Total time elapsed: 00:00:00\n"
     ]
    },
    {
     "name": "stdout",
     "output_type": "stream",
     "text": [
      "Title: Writing activities to SQLite3 database:\n",
      "  Started: 09/22/2022 14:46:20\n",
      "  Finished: 09/22/2022 14:46:20\n",
      "  Total time elapsed: 00:00:00\n",
      "  CPU %: 2.60\n",
      "  Memory %: 0.50\n",
      "Created database: My_little_dataset_v0\n"
     ]
    },
    {
     "data": {
      "text/plain": [
       "Brightway2 SQLiteBackend: My_little_dataset_v0"
      ]
     },
     "execution_count": 10,
     "metadata": {},
     "output_type": "execute_result"
    }
   ],
   "source": [
    "mld.write_database()"
   ]
  },
  {
   "cell_type": "markdown",
   "id": "ed1ba6ab-791d-4829-85b1-901ea621bddd",
   "metadata": {},
   "source": [
    "<div class=\"alert alert-block alert-warning\">\n",
    "<b>To fix:</b>\n",
    "    <li>The importer does not recognize the geolocations.</li>\n",
    "</div>"
   ]
  },
  {
   "cell_type": "markdown",
   "id": "329cfb89-8838-4140-b411-628ae5de77ba",
   "metadata": {},
   "source": [
    "Check that the database was written in the database dictionary."
   ]
  },
  {
   "cell_type": "code",
   "execution_count": 11,
   "id": "82d437d3-9384-44b4-a6b0-d26565eaaf6f",
   "metadata": {},
   "outputs": [
    {
     "data": {
      "text/plain": [
       "Databases dictionary with 2 object(s):\n",
       "\tMy_little_dataset_v0\n",
       "\tMy_little_dataset_v0 biosphere"
      ]
     },
     "execution_count": 11,
     "metadata": {},
     "output_type": "execute_result"
    }
   ],
   "source": [
    "bd.databases"
   ]
  },
  {
   "cell_type": "code",
   "execution_count": 12,
   "id": "be648af4-92e9-4944-8d6b-30dde0a0d7c9",
   "metadata": {},
   "outputs": [],
   "source": [
    "db = bd.Database('My_little_dataset_v0')"
   ]
  },
  {
   "cell_type": "markdown",
   "id": "49b02638-08cd-40d3-99a1-4bc50fb6f6d0",
   "metadata": {},
   "source": [
    "## 4 Import the LCIA methods"
   ]
  },
  {
   "cell_type": "code",
   "execution_count": 13,
   "id": "29b03ba9-e75d-436f-bd52-933d0f897178",
   "metadata": {},
   "outputs": [],
   "source": [
    "mld_methods = bi.importers.JSONLDLCIAImporter(path)"
   ]
  },
  {
   "cell_type": "code",
   "execution_count": 14,
   "id": "2e742b1f-ad8b-4c44-9e2d-3e78d363bf43",
   "metadata": {},
   "outputs": [
    {
     "name": "stdout",
     "output_type": "stream",
     "text": [
      "Applying strategy: json_ld_lcia_add_method_metadata\n",
      "Applying strategy: json_ld_lcia_convert_to_list\n",
      "Applying strategy: json_ld_lcia_set_method_metadata\n",
      "Applying strategy: json_ld_lcia_reformat_cfs_as_exchanges\n",
      "Applying strategy: normalize_units\n",
      "Applied 5 strategies in 0.00 seconds\n"
     ]
    }
   ],
   "source": [
    "mld_methods.apply_strategies()"
   ]
  },
  {
   "cell_type": "code",
   "execution_count": 15,
   "id": "d5657064-5a42-4ab5-b804-7664578664db",
   "metadata": {},
   "outputs": [],
   "source": [
    "mld_methods.match_biosphere_by_id('My_little_dataset_v0 biosphere')"
   ]
  },
  {
   "cell_type": "code",
   "execution_count": 16,
   "id": "11b44685-0eaa-4133-8dee-8e9ff03ea0b3",
   "metadata": {},
   "outputs": [
    {
     "name": "stdout",
     "output_type": "stream",
     "text": [
      "1 methods\n",
      "1 cfs\n",
      "0 unlinked cfs\n"
     ]
    },
    {
     "data": {
      "text/plain": [
       "(1, 1, 0)"
      ]
     },
     "execution_count": 16,
     "metadata": {},
     "output_type": "execute_result"
    }
   ],
   "source": [
    "mld_methods.statistics()"
   ]
  },
  {
   "cell_type": "code",
   "execution_count": 17,
   "id": "f87c9609-d549-46ab-8ecc-12b112ba5456",
   "metadata": {},
   "outputs": [
    {
     "data": {
      "text/plain": [
       "dict_values([{'name': ('Mac IAM', 'Global warming'), 'version': '00.00.000', 'filename': '/Users/mmendez/Documents/Postdoc/Software_dev/Brightway/BW_Tutorials/learningbrightway/7_BW2_Importing_USLCI/databases/My_little_database/lcia_categories/6ff74fb6-3d8e-4c2e-ba7e-64e2fd4376c4.json', 'parent': {'name': 'Mac IAM', 'description': '', 'version': '00.00.001'}, 'unit': 'kg CO2 eq', 'id': '6ff74fb6-3d8e-4c2e-ba7e-64e2fd4376c4', 'description': '\\n', 'exchanges': [{'@type': 'ImpactFactor', 'flow': {'@type': 'Flow', '@id': 'cd154d8f-0694-43b2-b4ab-e44101e122bd', 'name': 'Bad stuff', 'categoryPath': ['Elementary flows', 'emissions'], 'flowType': 'ELEMENTARY_FLOW', 'location': 'DJ', 'refUnit': 'kg'}, 'unit': 'kilogram', 'flowProperty': {'@type': 'FlowProperty', '@id': '65d0b9d1-3295-4e2d-8b1c-71ef05c71fe2', 'name': 'Mass'}, 'amount': 2.0, 'input': ('My_little_dataset_v0 biosphere', 'cd154d8f-0694-43b2-b4ab-e44101e122bd')}]}])"
      ]
     },
     "execution_count": 17,
     "metadata": {},
     "output_type": "execute_result"
    }
   ],
   "source": [
    "mld_methods.data"
   ]
  },
  {
   "cell_type": "code",
   "execution_count": 18,
   "id": "f8bf1095-01ff-49ec-a09a-b0a57152e49c",
   "metadata": {},
   "outputs": [
    {
     "data": {
      "text/plain": [
       "[('Mac IAM', 'Global warming')]"
      ]
     },
     "execution_count": 18,
     "metadata": {},
     "output_type": "execute_result"
    }
   ],
   "source": [
    "[things['name'] for things in mld_methods.data]"
   ]
  },
  {
   "cell_type": "code",
   "execution_count": 19,
   "id": "2b75365b-fbe3-452d-b9dd-888a378a2194",
   "metadata": {},
   "outputs": [
    {
     "name": "stdout",
     "output_type": "stream",
     "text": [
      "Method already loaded!\n"
     ]
    }
   ],
   "source": [
    "if [things['name'] for things in mld_methods.data][0] in bd.methods:\n",
    "    print('Method already loaded!')\n",
    "else:\n",
    "    mld_methods.write_methods()"
   ]
  },
  {
   "cell_type": "code",
   "execution_count": 20,
   "id": "0277077a-e174-41b0-9a04-38680a3c8c84",
   "metadata": {},
   "outputs": [
    {
     "data": {
      "text/plain": [
       "<bw2io.importers.json_ld_lcia.JSONLDLCIAImporter at 0x7fc008657220>"
      ]
     },
     "execution_count": 20,
     "metadata": {},
     "output_type": "execute_result"
    }
   ],
   "source": [
    "mld_methods"
   ]
  },
  {
   "cell_type": "code",
   "execution_count": 21,
   "id": "4f4924dd-3ca4-4300-af0d-4f48a0a7e0f5",
   "metadata": {},
   "outputs": [
    {
     "data": {
      "text/plain": [
       "Databases dictionary with 2 object(s):\n",
       "\tMy_little_dataset_v0\n",
       "\tMy_little_dataset_v0 biosphere"
      ]
     },
     "execution_count": 21,
     "metadata": {},
     "output_type": "execute_result"
    }
   ],
   "source": [
    "bd.databases"
   ]
  },
  {
   "cell_type": "markdown",
   "id": "d2cb49fb-41ef-4136-a3ba-b57b709c0b23",
   "metadata": {},
   "source": [
    "## 5 Activity querying"
   ]
  },
  {
   "cell_type": "markdown",
   "id": "0c5976cd-d527-40b9-8c42-26586cb10b45",
   "metadata": {},
   "source": [
    "### 5.1 Check the biosphere activities"
   ]
  },
  {
   "cell_type": "code",
   "execution_count": 22,
   "id": "1b3b6624-b289-47ce-a67f-1a23d81dd4c8",
   "metadata": {},
   "outputs": [
    {
     "data": {
      "text/plain": [
       "['Virgin metals' (, None, ('Elementary flows', 'resources')),\n",
       " 'Crude oil' (, None, ('Elementary flows', 'resources')),\n",
       " 'Bad stuff' (, None, ('Elementary flows', 'emissions'))]"
      ]
     },
     "execution_count": 22,
     "metadata": {},
     "output_type": "execute_result"
    }
   ],
   "source": [
    "[act for act in bio]"
   ]
  },
  {
   "cell_type": "markdown",
   "id": "04267c81-0bef-4205-bcb7-8c5db646b82f",
   "metadata": {},
   "source": [
    "### 5.2 And now let's look at the our processes and products:"
   ]
  },
  {
   "cell_type": "code",
   "execution_count": 23,
   "id": "dee6b7a5-08eb-404b-ad9f-f5868e1213e8",
   "metadata": {},
   "outputs": [
    {
     "data": {
      "text/plain": [
       "[({'code': '7528830a-7344-43be-b484-ac4dc625f272',\n",
       "   'name': 'Virgin metals',\n",
       "   'categories': ('Elementary flows', 'resources'),\n",
       "   'CAS number': None,\n",
       "   'database': 'My_little_dataset_v0 biosphere',\n",
       "   'unit': '',\n",
       "   'type': 'emission',\n",
       "   'id': 19},\n",
       "  ''),\n",
       " ({'code': 'cd154d8f-0694-43b2-b4ab-e44101e122bd',\n",
       "   'name': 'Bad stuff',\n",
       "   'categories': ('Elementary flows', 'emissions'),\n",
       "   'CAS number': None,\n",
       "   'database': 'My_little_dataset_v0 biosphere',\n",
       "   'unit': '',\n",
       "   'type': 'emission',\n",
       "   'id': 21},\n",
       "  ''),\n",
       " ({'code': '8849be54-1b13-4d7e-85f6-2297817333f2',\n",
       "   'name': 'Crude oil',\n",
       "   'categories': ('Elementary flows', 'resources'),\n",
       "   'CAS number': None,\n",
       "   'database': 'My_little_dataset_v0 biosphere',\n",
       "   'unit': '',\n",
       "   'type': 'emission',\n",
       "   'id': 20},\n",
       "  '')]"
      ]
     },
     "execution_count": 23,
     "metadata": {},
     "output_type": "execute_result"
    }
   ],
   "source": [
    "[(act.as_dict(), act['unit']) for act in bio]"
   ]
  },
  {
   "cell_type": "code",
   "execution_count": 24,
   "id": "777bed4d-3294-4875-844b-a84281352f64",
   "metadata": {},
   "outputs": [
    {
     "data": {
      "text/plain": [
       "[('Plastic manufacturing' (kilogram, Djibouti, None), 'process', 'kilogram'),\n",
       " ('Bottle' (, Djibouti, ('Technosphere flows', 'Assemblers')), 'product', ''),\n",
       " ('Stainless steel manufacturing' (kilogram, Djibouti, None),\n",
       "  'process',\n",
       "  'kilogram'),\n",
       " ('Stainless steel' (, Djibouti, ('Technosphere flows', 'Manufacturers')),\n",
       "  'product',\n",
       "  ''),\n",
       " ('Plastic' (, Djibouti, ('Technosphere flows', 'Manufacturers')),\n",
       "  'product',\n",
       "  ''),\n",
       " ('Bottle assembly' (number_of_items, Djibouti, None),\n",
       "  'process',\n",
       "  'number_of_items')]"
      ]
     },
     "execution_count": 24,
     "metadata": {},
     "output_type": "execute_result"
    }
   ],
   "source": [
    "[(act, act['type'], act['unit']) for act in db]"
   ]
  },
  {
   "cell_type": "code",
   "execution_count": 25,
   "id": "6c777289-6886-4bd6-9563-dc2cd57ee9ac",
   "metadata": {},
   "outputs": [
    {
     "data": {
      "text/plain": [
       "[('Stainless steel manufacturing',\n",
       "  [Exchange: 1.0  'Stainless steel' (, Djibouti, ('Technosphere flows', 'Manufacturers')) to 'Stainless steel manufacturing' (kilogram, Djibouti, None)>,\n",
       "   Exchange: 1.0  'Virgin metals' (, None, ('Elementary flows', 'resources')) to 'Stainless steel manufacturing' (kilogram, Djibouti, None)>,\n",
       "   Exchange: 3.0  'Bad stuff' (, None, ('Elementary flows', 'emissions')) to 'Stainless steel manufacturing' (kilogram, Djibouti, None)>]),\n",
       " ('Bottle assembly',\n",
       "  [Exchange: 1.0  'Bottle' (, Djibouti, ('Technosphere flows', 'Assemblers')) to 'Bottle assembly' (number_of_items, Djibouti, None)>,\n",
       "   Exchange: 0.25  'Plastic' (, Djibouti, ('Technosphere flows', 'Manufacturers')) to 'Bottle assembly' (number_of_items, Djibouti, None)>,\n",
       "   Exchange: 0.1  'Bad stuff' (, None, ('Elementary flows', 'emissions')) to 'Bottle assembly' (number_of_items, Djibouti, None)>,\n",
       "   Exchange: 0.3  'Stainless steel' (, Djibouti, ('Technosphere flows', 'Manufacturers')) to 'Bottle assembly' (number_of_items, Djibouti, None)>]),\n",
       " ('Plastic manufacturing',\n",
       "  [Exchange: 1.0  'Plastic' (, Djibouti, ('Technosphere flows', 'Manufacturers')) to 'Plastic manufacturing' (kilogram, Djibouti, None)>,\n",
       "   Exchange: 2.0  'Bad stuff' (, None, ('Elementary flows', 'emissions')) to 'Plastic manufacturing' (kilogram, Djibouti, None)>,\n",
       "   Exchange: 1.0  'Crude oil' (, None, ('Elementary flows', 'resources')) to 'Plastic manufacturing' (kilogram, Djibouti, None)>])]"
      ]
     },
     "execution_count": 25,
     "metadata": {},
     "output_type": "execute_result"
    }
   ],
   "source": [
    "[(act['name'],[exc for exc in act.exchanges()]) for act in db if act['type'] == 'process']"
   ]
  },
  {
   "cell_type": "code",
   "execution_count": 26,
   "id": "3adb0571-f196-43f3-a940-c7ff59fa26c5",
   "metadata": {},
   "outputs": [
    {
     "data": {
      "text/plain": [
       "[('Plastic manufacturing',\n",
       "  [Exchange: 1.0  'Plastic' (, Djibouti, ('Technosphere flows', 'Manufacturers')) to 'Plastic manufacturing' (kilogram, Djibouti, None)>,\n",
       "   Exchange: 2.0  'Bad stuff' (, None, ('Elementary flows', 'emissions')) to 'Plastic manufacturing' (kilogram, Djibouti, None)>,\n",
       "   Exchange: 1.0  'Crude oil' (, None, ('Elementary flows', 'resources')) to 'Plastic manufacturing' (kilogram, Djibouti, None)>]),\n",
       " ('Bottle assembly',\n",
       "  [Exchange: 1.0  'Bottle' (, Djibouti, ('Technosphere flows', 'Assemblers')) to 'Bottle assembly' (number_of_items, Djibouti, None)>,\n",
       "   Exchange: 0.25  'Plastic' (, Djibouti, ('Technosphere flows', 'Manufacturers')) to 'Bottle assembly' (number_of_items, Djibouti, None)>,\n",
       "   Exchange: 0.1  'Bad stuff' (, None, ('Elementary flows', 'emissions')) to 'Bottle assembly' (number_of_items, Djibouti, None)>,\n",
       "   Exchange: 0.3  'Stainless steel' (, Djibouti, ('Technosphere flows', 'Manufacturers')) to 'Bottle assembly' (number_of_items, Djibouti, None)>]),\n",
       " ('Stainless steel manufacturing',\n",
       "  [Exchange: 1.0  'Stainless steel' (, Djibouti, ('Technosphere flows', 'Manufacturers')) to 'Stainless steel manufacturing' (kilogram, Djibouti, None)>,\n",
       "   Exchange: 1.0  'Virgin metals' (, None, ('Elementary flows', 'resources')) to 'Stainless steel manufacturing' (kilogram, Djibouti, None)>,\n",
       "   Exchange: 3.0  'Bad stuff' (, None, ('Elementary flows', 'emissions')) to 'Stainless steel manufacturing' (kilogram, Djibouti, None)>])]"
      ]
     },
     "execution_count": 26,
     "metadata": {},
     "output_type": "execute_result"
    }
   ],
   "source": [
    "[(act['name'],[exc for exc in act.exchanges()]) for act in db if act['type'] == 'process']"
   ]
  },
  {
   "cell_type": "markdown",
   "id": "f978eff0-cc3f-4daf-a926-95e419e921b3",
   "metadata": {},
   "source": [
    "### 5.3 Which ones are processes and which ones are products? Let's also get their codes:"
   ]
  },
  {
   "cell_type": "code",
   "execution_count": 27,
   "id": "b290ee47-1357-487e-b2d6-e0a3919b8cc7",
   "metadata": {},
   "outputs": [
    {
     "data": {
      "text/plain": [
       "[('Bottle assembly', 'process', 'fae6799b-7326-452c-92b3-76758bbcac22'),\n",
       " ('Bottle', 'product', 'b806c2cd-d563-43c4-a0c9-9c7dd5d513d3'),\n",
       " ('Stainless steel', 'product', '3355a1b9-8fbf-40de-b449-ea6399a8a323'),\n",
       " ('Stainless steel manufacturing',\n",
       "  'process',\n",
       "  '7e5ec332-09fd-4706-8373-3f140a539028'),\n",
       " ('Plastic manufacturing', 'process', '2fc6deea-6437-4b9f-bf91-89bca44d30f0'),\n",
       " ('Plastic', 'product', '62714200-1a0d-43fb-9b48-99df3f233c94')]"
      ]
     },
     "execution_count": 27,
     "metadata": {},
     "output_type": "execute_result"
    }
   ],
   "source": [
    "[(act['name'], act['type'], act['code']) for act in db]"
   ]
  },
  {
   "cell_type": "markdown",
   "id": "4c9b8886-b879-48e1-9b9c-2c73269360de",
   "metadata": {},
   "source": [
    "### 5.4 Exploring the LCIA methods"
   ]
  },
  {
   "cell_type": "markdown",
   "id": "e6ffe89e-ef9d-4e5d-a7a7-a057c44ac134",
   "metadata": {},
   "source": [
    "#### 5.4.1 How to manually add a LCIA method\n",
    "Before I figured out how to add LCIA methods I wrote them manually, this is how it is done (uncomment if you want to run this)."
   ]
  },
  {
   "cell_type": "code",
   "execution_count": 28,
   "id": "67412ad5-f79f-499a-b045-7120459a33d8",
   "metadata": {},
   "outputs": [
    {
     "data": {
      "text/plain": [
       "{'code': 'cd154d8f-0694-43b2-b4ab-e44101e122bd',\n",
       " 'name': 'Bad stuff',\n",
       " 'categories': ('Elementary flows', 'emissions'),\n",
       " 'CAS number': None,\n",
       " 'database': 'My_little_dataset_v0 biosphere',\n",
       " 'unit': '',\n",
       " 'type': 'emission',\n",
       " 'id': 21}"
      ]
     },
     "execution_count": 28,
     "metadata": {},
     "output_type": "execute_result"
    }
   ],
   "source": [
    "bad_flow = [act for act in bio if act['name'] == 'Bad stuff'][0]\n",
    "bad_flow.as_dict()"
   ]
  },
  {
   "cell_type": "code",
   "execution_count": 29,
   "id": "b65b1eba-f043-4d40-9c89-6ae4261c2a8c",
   "metadata": {},
   "outputs": [],
   "source": [
    "myLCIAdata = [[(bad_flow['database'], bad_flow['code']), 2.0]] # A method list needs: a reference to the flow: tuple (database, 'code')), a characterization factor number, and localization (if no localization is given, 'GLO' is used)\n",
    "method_key_manual = ('MacIM_manual', 'Global warming')\n",
    "my_method_manual = bd.Method(method_key_manual)\n",
    "my_method_manual.validate(myLCIAdata)\n",
    "my_method_manual.register()\n",
    "my_method_manual.write(myLCIAdata)"
   ]
  },
  {
   "cell_type": "markdown",
   "id": "78baa3d2-9894-4ce9-a0e0-67bea4ea5526",
   "metadata": {},
   "source": [
    "#### 5.4.2 Search through our JSON-LD imported methods"
   ]
  },
  {
   "cell_type": "code",
   "execution_count": 30,
   "id": "bb5db626-3c28-436b-be08-b406f3198d60",
   "metadata": {},
   "outputs": [
    {
     "data": {
      "text/plain": [
       "Methods dictionary with 2 object(s):\n",
       "\t('Mac IAM', 'Global warming')\n",
       "\t('MacIM_manual', 'Global warming')"
      ]
     },
     "execution_count": 30,
     "metadata": {},
     "output_type": "execute_result"
    }
   ],
   "source": [
    "bd.methods"
   ]
  },
  {
   "cell_type": "markdown",
   "id": "30c240d2-7dd2-4de6-9e74-ffa924a220c3",
   "metadata": {},
   "source": [
    "Search works the same as before, we just need to use line comprehension as before."
   ]
  },
  {
   "cell_type": "code",
   "execution_count": 31,
   "id": "ced28413-b9f9-46f9-ab92-4174894ff551",
   "metadata": {},
   "outputs": [
    {
     "data": {
      "text/plain": [
       "[('Mac IAM', 'Global warming'), ('MacIM_manual', 'Global warming')]"
      ]
     },
     "execution_count": 31,
     "metadata": {},
     "output_type": "execute_result"
    }
   ],
   "source": [
    "[method for method in bd.methods]"
   ]
  },
  {
   "cell_type": "code",
   "execution_count": 32,
   "id": "640703b5-0297-47b4-a197-fb400b6b1a45",
   "metadata": {},
   "outputs": [
    {
     "data": {
      "text/plain": [
       "('Mac IAM', 'Global warming')"
      ]
     },
     "execution_count": 32,
     "metadata": {},
     "output_type": "execute_result"
    }
   ],
   "source": [
    "method_key = [method for method in bd.methods][0] # [0] selects the method\n",
    "method_key"
   ]
  },
  {
   "cell_type": "code",
   "execution_count": 33,
   "id": "79f30c2c-cb1e-4a62-ba3d-13757f32a4dd",
   "metadata": {},
   "outputs": [],
   "source": [
    "my_method = bd.Method(method_key)"
   ]
  },
  {
   "cell_type": "code",
   "execution_count": 34,
   "id": "3d13ccdc-b207-42ba-bcf1-af8ca8a97176",
   "metadata": {},
   "outputs": [
    {
     "data": {
      "text/plain": [
       "('Mac IAM', 'Global warming')"
      ]
     },
     "execution_count": 34,
     "metadata": {},
     "output_type": "execute_result"
    }
   ],
   "source": [
    "my_method.name"
   ]
  },
  {
   "cell_type": "code",
   "execution_count": 35,
   "id": "39dd5b20-df0d-4e68-8d9c-17abf2ffee94",
   "metadata": {},
   "outputs": [
    {
     "data": {
      "text/plain": [
       "'kg CO2 eq'"
      ]
     },
     "execution_count": 35,
     "metadata": {},
     "output_type": "execute_result"
    }
   ],
   "source": [
    "my_method.metadata['unit']"
   ]
  },
  {
   "cell_type": "code",
   "execution_count": 36,
   "id": "836aa4a5-846b-4748-ba5b-7a8d963ee71b",
   "metadata": {},
   "outputs": [
    {
     "data": {
      "text/plain": [
       "[(('My_little_dataset_v0 biosphere', 'cd154d8f-0694-43b2-b4ab-e44101e122bd'),\n",
       "  2.0)]"
      ]
     },
     "execution_count": 36,
     "metadata": {},
     "output_type": "execute_result"
    }
   ],
   "source": [
    "my_method.load()"
   ]
  },
  {
   "cell_type": "markdown",
   "id": "79549168-dfd9-448d-a666-24ece1526661",
   "metadata": {},
   "source": [
    "## 6 Running the LCA!"
   ]
  },
  {
   "cell_type": "markdown",
   "id": "3de520cd-f20c-4b9a-b6dc-a77fbd3d2769",
   "metadata": {},
   "source": [
    "### 6.1 Define the functional unit:\n",
    "Our functional unit here is **Impact of assembling 5 bottles**, so we need to select the flow coming out of the `Bottle assembly` activity, i.e. `Bottle`, which is a `product` not a `process`."
   ]
  },
  {
   "cell_type": "code",
   "execution_count": 37,
   "id": "beb7904a-9d0d-4e2a-a1b7-7688e1dd176a",
   "metadata": {},
   "outputs": [
    {
     "data": {
      "text/plain": [
       "'Bottle' (, Djibouti, ('Technosphere flows', 'Assemblers'))"
      ]
     },
     "execution_count": 37,
     "metadata": {},
     "output_type": "execute_result"
    }
   ],
   "source": [
    "activity = [act for act in db if act['type'] == 'product' and act['name'] == 'Bottle'][0]\n",
    "activity"
   ]
  },
  {
   "cell_type": "code",
   "execution_count": 38,
   "id": "8e2cb052-b6c0-4ed0-9964-49350b7a93e2",
   "metadata": {},
   "outputs": [],
   "source": [
    "functional_unit = {activity : 50} #Impact of 5 bottles"
   ]
  },
  {
   "cell_type": "markdown",
   "id": "1d412bb2-2a5e-427f-b577-51fbbbf06f33",
   "metadata": {},
   "source": [
    "### 6.2 Run the LCA!"
   ]
  },
  {
   "cell_type": "markdown",
   "id": "6794d287-57ab-4944-a9ed-a3f160472e1e",
   "metadata": {},
   "source": [
    "Let's run the LCA with the imported and manually created LCIA method."
   ]
  },
  {
   "cell_type": "code",
   "execution_count": 39,
   "id": "a5ea540a-1d60-4699-9a71-97acbf60ef31",
   "metadata": {
    "tags": []
   },
   "outputs": [],
   "source": [
    "lca = bc.LCA(functional_unit, method_key) "
   ]
  },
  {
   "cell_type": "code",
   "execution_count": 40,
   "id": "264783f7-effb-40dd-a1c0-25b51411e73e",
   "metadata": {},
   "outputs": [],
   "source": [
    "lca_manual = bc.LCA(functional_unit, method_key_manual) "
   ]
  },
  {
   "cell_type": "code",
   "execution_count": 41,
   "id": "b5441bf8-aeb2-4378-8e5d-83b20154b396",
   "metadata": {},
   "outputs": [
    {
     "name": "stdout",
     "output_type": "stream",
     "text": [
      "72\n",
      "72\n"
     ]
    }
   ],
   "source": [
    "print(len(dir(lca)))\n",
    "print(len(dir(lca_manual)))"
   ]
  },
  {
   "cell_type": "code",
   "execution_count": 42,
   "id": "5d3d3f41-5c1b-4514-9f63-47cdd9a81cac",
   "metadata": {},
   "outputs": [],
   "source": [
    "lca.lci()   # Builds matrices, solves the system, generates an LCI matrix.\n",
    "lca_manual.lci()"
   ]
  },
  {
   "cell_type": "code",
   "execution_count": 43,
   "id": "b6040fb6-7013-47e7-9e16-6e65ee8b3430",
   "metadata": {},
   "outputs": [
    {
     "name": "stdout",
     "output_type": "stream",
     "text": [
      "79\n",
      "79\n"
     ]
    }
   ],
   "source": [
    "print(len(dir(lca)))\n",
    "print(len(dir(lca_manual)))"
   ]
  },
  {
   "cell_type": "code",
   "execution_count": 44,
   "id": "d54578d8-6c6d-42ca-b7eb-efe837bd9eb0",
   "metadata": {},
   "outputs": [],
   "source": [
    "lca.lcia()  # Characterization, i.e. the multiplication of the elements  \n",
    "            # of the LCI matrix with characterization factors from the chosen method\n",
    "lca_manual.lcia() "
   ]
  },
  {
   "cell_type": "code",
   "execution_count": 45,
   "id": "d60d4aef-c011-46dd-bb71-180625f7e198",
   "metadata": {},
   "outputs": [
    {
     "name": "stdout",
     "output_type": "stream",
     "text": [
      "82\n",
      "82\n"
     ]
    }
   ],
   "source": [
    "print(len(dir(lca)))\n",
    "print(len(dir(lca_manual)))"
   ]
  },
  {
   "cell_type": "code",
   "execution_count": 46,
   "id": "ee7f4831-bd8b-4545-8903-869cc7ad4061",
   "metadata": {},
   "outputs": [
    {
     "name": "stdout",
     "output_type": "stream",
     "text": [
      "0.0\n",
      "150.0000037252903\n"
     ]
    }
   ],
   "source": [
    "print(lca.score )   # Returns the score, i.e. the sum of the characterized inventory\n",
    "print(lca_manual.score)"
   ]
  },
  {
   "cell_type": "markdown",
   "id": "f471e1c1-1c3d-400f-9581-b69a3e3cd885",
   "metadata": {},
   "source": [
    "BEAUTIFUL!"
   ]
  },
  {
   "cell_type": "markdown",
   "id": "c034afe4-6e0d-4985-906c-00fd16492528",
   "metadata": {},
   "source": [
    "There is a bug though, if you re-run this code in the same project folder, the lca.score will be 0. I don't know why jet!"
   ]
  },
  {
   "cell_type": "code",
   "execution_count": null,
   "id": "ca7e6cb9-d367-43b2-b599-d28623dfcc6d",
   "metadata": {},
   "outputs": [],
   "source": []
  }
 ],
 "metadata": {
  "kernelspec": {
   "display_name": "bw2_json",
   "language": "python",
   "name": "bw2_json"
  },
  "language_info": {
   "codemirror_mode": {
    "name": "ipython",
    "version": 3
   },
   "file_extension": ".py",
   "mimetype": "text/x-python",
   "name": "python",
   "nbconvert_exporter": "python",
   "pygments_lexer": "ipython3",
   "version": "3.10.4"
  }
 },
 "nbformat": 4,
 "nbformat_minor": 5
}

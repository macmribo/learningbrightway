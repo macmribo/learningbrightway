{
 "cells": [
  {
   "cell_type": "code",
   "execution_count": 1,
   "id": "52493a07-1f84-4d3e-aed1-21ed29fb0fbe",
   "metadata": {},
   "outputs": [],
   "source": [
    "import brightway2 as bw\n",
    "import os\n",
    "import numpy as np\n",
    "import pandas as pd"
   ]
  },
  {
   "cell_type": "code",
   "execution_count": 2,
   "id": "10ecb1e5-856d-4cc1-aa9e-fe9908f95b3a",
   "metadata": {},
   "outputs": [],
   "source": [
    "bw.projects.set_current('MLD_SO')"
   ]
  },
  {
   "cell_type": "code",
   "execution_count": null,
   "id": "37663e90",
   "metadata": {},
   "outputs": [],
   "source": [
    "#bw.bw2setup()"
   ]
  },
  {
   "cell_type": "code",
   "execution_count": 3,
   "id": "deab18e3",
   "metadata": {},
   "outputs": [
    {
     "data": {
      "text/plain": [
       "Databases dictionary with 3 object(s):\n",
       "\tMy_little_database\n",
       "\tbiosphere3\n",
       "\tmy_biosphere"
      ]
     },
     "execution_count": 3,
     "metadata": {},
     "output_type": "execute_result"
    }
   ],
   "source": [
    "bw.databases"
   ]
  },
  {
   "cell_type": "code",
   "execution_count": 4,
   "id": "0239a404-4be0-4f33-97b7-f42f0c8e70c4",
   "metadata": {},
   "outputs": [],
   "source": [
    "db = bw.Database('My_little_database')\n",
    "bio = bw.Database('my_biosphere')"
   ]
  },
  {
   "cell_type": "code",
   "execution_count": 5,
   "id": "39c7e80b",
   "metadata": {},
   "outputs": [],
   "source": [
    "# FLows\n",
    "flows = {('my_biosphere', '7528830a-7344-43be-b484-ac4dc625f272'): {\n",
    "        'category': ['Elementary flows', 'resources'],\n",
    "        'name': 'Virgin metals',\n",
    "        'type': 'biosphere',\n",
    "        'location': 'GLO',\n",
    "        'unit': 'kg'},\n",
    "\n",
    "        ('my_biosphere', '8849be54-1b13-4d7e-85f6-2297817333f2'): {\n",
    "        'category': ['Elementary flows', 'resources'],\n",
    "        'name': 'Crude oil',\n",
    "        'type': 'biosphere',\n",
    "        'location': 'GLO',\n",
    "        'unit': 'kg'},\n",
    "\n",
    "         ('my_biosphere', 'cd154d8f-0694-43b2-b4ab-e44101e122bd'): {\n",
    "        'category': ['Elementary flows', 'emissions'], \n",
    "        'name': 'Bad stuff',\n",
    "        'type': 'biosphere',\n",
    "        'location': 'GLO',\n",
    "        'unit': 'kg'}}"
   ]
  },
  {
   "cell_type": "code",
   "execution_count": 18,
   "id": "d0732b43",
   "metadata": {},
   "outputs": [],
   "source": [
    "# PROCESS\n",
    "processes = { ('My_little_database', '2fc6deea-6437-4b9f-bf91-89bca44d30f0'): {  \n",
    "        'name': 'Plastic manufacturer',    #JSON-LD --> name                                          # Characteristic 1\n",
    "        'reference product':'Plastic',\n",
    "        'unit': 'kg',      # In JSON-LD, units are not included here, they are included in the flows, I think this unit is the unit of the reference flow or 'quantitativeReference'\n",
    "        'location': 'GLO', # This is how JSON calls it, I will have to check, do I need the country code so averything has the same way of referring to countries? I think I need to call it DJ\n",
    "        'category': ['Manufacturers'],  # JSON-LD --> category, category names are insidide 'category' under the 'name' item, it is in a list form because you can add sub categories.\n",
    "        'code': '2fc6deea-6437-4b9f-bf91-89bca44d30f0', #JSON-LD --> @id\n",
    " #       'type': 'process',\n",
    "        'exchanges': [{    # Exchanges - They always have to have 'input', 'amount' and 'type' minimum, you know outputs based on the sign, check out bw sign convention https://2.docs.brightway.dev/intro.html#getting-the-signs-right, the reference flow is especified as 'production'\n",
    "            'name': 'Plastic manufacturer', #name is not part of the bw schema, let's see if it breaks the code or not\n",
    "            'product': 'Plastic',\n",
    "            'input': ('My_little_database','2fc6deea-6437-4b9f-bf91-89bca44d30f0'), # Input 1 -> Activity 2 same tuple as the activity, that's how they are linked\n",
    "            'amount': 1,   # Positive amount in technosphere indicates 'output'                                           \n",
    "            'type': 'production', # This one is converted to 'production' by mapping 'technosphere' with flowType: 'PRODUCT_FLOW',                                \n",
    "        }, {\n",
    "            'input': ('my_biosphere', 'cd154d8f-0694-43b2-b4ab-e44101e122bd'),                         \n",
    "            'amount': 2, # Emissions are positive, and negative emissions will be removing the emission from biosphere (e.g. carbon capture technologies, https://github.com/brightway-lca/brightway2/blob/master/notebooks/Negative%20Biosphere%20flows%20and%20CFs.ipynb)\n",
    "            'name': 'Bad stuff',\n",
    "            'type': 'biosphere', \n",
    "        }, {\n",
    "            'input': ('my_biosphere', '8849be54-1b13-4d7e-85f6-2297817333f2'),                                \n",
    "            'amount': -1, # Negative because it is a resource, we 'steal' from earth\n",
    "            'name': 'Crude oil',\n",
    "            'type': 'biosphere',\n",
    "        }]\n",
    "    },\n",
    "\n",
    "    ('My_little_database', '7e5ec332-09fd-4706-8373-3f140a539028'): {  \n",
    "        'name': 'Stainless steel manufacturer',    \n",
    "        'reference product':'Stainless steel',\n",
    "        'category': ['Manufacturers'],  \n",
    "        'location': 'GLO', \n",
    "        'code': '7e5ec332-09fd-4706-8373-3f140a539028',\n",
    "  #      'type': 'process',\n",
    "        'unit': 'kg',      \n",
    "        'exchanges': [{    \n",
    "            'name': 'Stainless steel manufacturer',\n",
    "            'product': 'Stainless steel',\n",
    "            'input': ('My_little_database', '7e5ec332-09fd-4706-8373-3f140a539028'), \n",
    "            'amount': 1,\n",
    "            'type': 'production', \n",
    "        }, {\n",
    "            'input': ('my_biosphere', '7528830a-7344-43be-b484-ac4dc625f272'),                         \n",
    "            'amount': -1,\n",
    "            'name': 'Virgin metals',\n",
    "            'type': 'biosphere',\n",
    "        }, {\n",
    "            'input': ('my_biosphere', 'cd154d8f-0694-43b2-b4ab-e44101e122bd'),                                \n",
    "            'amount': 3,\n",
    "            'name': 'Bad stuff',\n",
    "            'type': 'biosphere',\n",
    "        }]\n",
    "    },\n",
    "\n",
    "    ('My_little_database', 'fae6799b-7326-452c-92b3-76758bbcac22'): {  \n",
    "        'name': 'Bottle assembly',    \n",
    "        'reference product':'Bottle',\n",
    "        'category': ['Assemblers'],  \n",
    "        'location': 'GLO', \n",
    "        'code': 'fae6799b-7326-452c-92b3-76758bbcac22',\n",
    "   #     'type': 'process',\n",
    "        'unit': 'number_of_items',      \n",
    "        'exchanges': [{    \n",
    "            'name': 'Bottle assembly',\n",
    "            'product': 'Bottle',\n",
    "            'input': ('My_little_database', 'fae6799b-7326-452c-92b3-76758bbcac22'), \n",
    "            'amount': 1,\n",
    "            'type': 'production', \n",
    "        }, {\n",
    "            'input': ('My_little_database', '2fc6deea-6437-4b9f-bf91-89bca44d30f0'),                         \n",
    "            'amount': 0.25,\n",
    "            'name': 'Plastic',\n",
    "            'type': 'technosphere',\n",
    "        }, {\n",
    "            'input': ('My_little_database', '7e5ec332-09fd-4706-8373-3f140a539028'),                                \n",
    "            'amount': 0.3,\n",
    "            'name': 'Stainless steel',\n",
    "            'type': 'technosphere',\n",
    "        }, {\n",
    "            'input': ('my_biosphere', 'cd154d8f-0694-43b2-b4ab-e44101e122bd'),                                \n",
    "            'amount': 1,\n",
    "            'name': 'Bad stuff',\n",
    "            'type': 'biosphere',\n",
    "        }]\n",
    "    }}\n"
   ]
  },
  {
   "cell_type": "code",
   "execution_count": 19,
   "id": "77d60706",
   "metadata": {},
   "outputs": [
    {
     "name": "stderr",
     "output_type": "stream",
     "text": [
      "Writing activities to SQLite3 database:\n",
      "0% [###] 100% | ETA: 00:00:00\n",
      "Total time elapsed: 00:00:00\n"
     ]
    },
    {
     "name": "stdout",
     "output_type": "stream",
     "text": [
      "Title: Writing activities to SQLite3 database:\n",
      "  Started: 09/27/2022 12:02:32\n",
      "  Finished: 09/27/2022 12:02:32\n",
      "  Total time elapsed: 00:00:00\n",
      "  CPU %: 0.00\n",
      "  Memory %: 0.49\n"
     ]
    }
   ],
   "source": [
    "bio.write(flows)\n"
   ]
  },
  {
   "cell_type": "code",
   "execution_count": 20,
   "id": "6eb2b3b1",
   "metadata": {},
   "outputs": [
    {
     "name": "stderr",
     "output_type": "stream",
     "text": [
      "Writing activities to SQLite3 database:\n",
      "0% [###] 100% | ETA: 00:00:00\n",
      "Total time elapsed: 00:00:00\n"
     ]
    },
    {
     "name": "stdout",
     "output_type": "stream",
     "text": [
      "Title: Writing activities to SQLite3 database:\n",
      "  Started: 09/27/2022 12:02:32\n",
      "  Finished: 09/27/2022 12:02:32\n",
      "  Total time elapsed: 00:00:00\n",
      "  CPU %: 0.00\n",
      "  Memory %: 0.49\n"
     ]
    }
   ],
   "source": [
    "db.write(processes)"
   ]
  },
  {
   "cell_type": "code",
   "execution_count": 21,
   "id": "c9366508-770c-4929-a49c-bc79862ca671",
   "metadata": {},
   "outputs": [
    {
     "data": {
      "text/plain": [
       "'Bottle assembly' (number_of_items, GLO, None)"
      ]
     },
     "execution_count": 21,
     "metadata": {},
     "output_type": "execute_result"
    }
   ],
   "source": [
    "bottellita = db.search('Bottle')[0]\n",
    "bottellita"
   ]
  },
  {
   "cell_type": "code",
   "execution_count": 22,
   "id": "2720b155-a7b9-4c16-9313-784c02fd32f3",
   "metadata": {},
   "outputs": [
    {
     "data": {
      "text/plain": [
       "{'Bottle assembly' (number_of_items, GLO, None): 5.0}"
      ]
     },
     "execution_count": 22,
     "metadata": {},
     "output_type": "execute_result"
    }
   ],
   "source": [
    "functional_unit = {db.search('Bottle')[0] : 5.0}\n",
    "functional_unit"
   ]
  },
  {
   "cell_type": "code",
   "execution_count": 23,
   "id": "2e952ff9-1ddb-446a-8f5e-cc2ba5e0548d",
   "metadata": {},
   "outputs": [],
   "source": [
    "myLCIAdata = [[(u'my_biosphere', u'cd154d8f-0694-43b2-b4ab-e44101e122bd'), 2, u'GLO']] # A method list needs: a reference to the flow: tuple (database, 'code')), a characterization factor number, and localization (if no localization is given, 'GLO' is used)\n",
    "method_key = ('MacIM', 'Global warming', 'total')\n",
    "my_method = bw.Method(method_key)\n",
    "my_method.validate(myLCIAdata)\n",
    "my_metadata = {\"unit\": \"kg CO2 eq\"}\n",
    "my_method.register(**my_metadata)\n",
    "my_method.write(myLCIAdata)"
   ]
  },
  {
   "cell_type": "code",
   "execution_count": 24,
   "id": "3d3226f4-3ecb-43c4-bb83-b9aec8640afc",
   "metadata": {},
   "outputs": [
    {
     "data": {
      "text/plain": [
       "{'unit': 'kg CO2 eq',\n",
       " 'abbreviation': 'macimgt.60470f6408ded879d3e7ee1484fca3e5',\n",
       " 'num_cfs': 1}"
      ]
     },
     "execution_count": 24,
     "metadata": {},
     "output_type": "execute_result"
    }
   ],
   "source": [
    "my_method.metadata"
   ]
  },
  {
   "cell_type": "code",
   "execution_count": 25,
   "id": "d8e599e3-e97f-4ade-92e9-978618a10e76",
   "metadata": {},
   "outputs": [],
   "source": [
    "lca = bw.LCA(functional_unit, method_key) #run LCA calculations again with method\n"
   ]
  },
  {
   "cell_type": "code",
   "execution_count": 26,
   "id": "05b5c3ac",
   "metadata": {},
   "outputs": [],
   "source": [
    "lca.lci() \n"
   ]
  },
  {
   "cell_type": "code",
   "execution_count": 27,
   "id": "12d40e4c",
   "metadata": {},
   "outputs": [
    {
     "name": "stdout",
     "output_type": "stream",
     "text": [
      "  (0, 1)\t-1.5000000596046448\n",
      "  (1, 0)\t-1.25\n",
      "  (2, 2)\t5.0\n",
      "  (2, 1)\t4.500000178813934\n",
      "  (2, 0)\t2.5\n"
     ]
    }
   ],
   "source": [
    "lca.lcia()\n",
    "lca.score\n",
    "print(lca.inventory)\n"
   ]
  },
  {
   "cell_type": "code",
   "execution_count": 16,
   "id": "6a4000c9-6dc7-4203-8840-99fa2163a37e",
   "metadata": {},
   "outputs": [
    {
     "data": {
      "text/plain": [
       "24.00000035762787"
      ]
     },
     "execution_count": 16,
     "metadata": {},
     "output_type": "execute_result"
    }
   ],
   "source": [
    "lca.score "
   ]
  },
  {
   "cell_type": "code",
   "execution_count": 17,
   "id": "73dea33d",
   "metadata": {},
   "outputs": [
    {
     "data": {
      "text/plain": [
       "Databases dictionary with 3 object(s):\n",
       "\tMy_little_database\n",
       "\tbiosphere3\n",
       "\tmy_biosphere"
      ]
     },
     "execution_count": 17,
     "metadata": {},
     "output_type": "execute_result"
    }
   ],
   "source": [
    "bw.databases"
   ]
  },
  {
   "cell_type": "markdown",
   "id": "6b7cdd3e-4191-4422-a1b6-2d9c25b9f99b",
   "metadata": {},
   "source": [
    "Questions:\n",
    "\n",
    "* Figure out how it maps country codes. WCheckout the geocollection dictionary.\n",
    "\n"
   ]
  },
  {
   "cell_type": "code",
   "execution_count": null,
   "id": "3ff96af2-565b-4923-ac4e-812d982439e0",
   "metadata": {},
   "outputs": [],
   "source": []
  }
 ],
 "metadata": {
  "kernelspec": {
   "display_name": "bw2default",
   "language": "python",
   "name": "bw2default"
  },
  "language_info": {
   "codemirror_mode": {
    "name": "ipython",
    "version": 3
   },
   "file_extension": ".py",
   "mimetype": "text/x-python",
   "name": "python",
   "nbconvert_exporter": "python",
   "pygments_lexer": "ipython3",
   "version": "3.9.5"
  }
 },
 "nbformat": 4,
 "nbformat_minor": 5
}

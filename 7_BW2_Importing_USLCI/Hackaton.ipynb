{
 "cells": [
  {
   "cell_type": "code",
   "execution_count": null,
   "id": "021a7287",
   "metadata": {},
   "outputs": [],
   "source": [
    "import bw2data as bd\n",
    "import bw2calc as bc\n",
    "import bw2io as bi\n",
    "import bw_processing # Not sure yet if I need this\n",
    "import bw_migrations # Not sure yet if I need this\n",
    "from bw2io.importers.json_ld_lcia import JSONLDLCIAImporter\n",
    "\n",
    "import os\n",
    "import numpy as np\n",
    "import pandas as pd\n",
    "\n",
    "bd.projects.set_current('USLCI_FY22_Q2_3')\n",
    "\n",
    "path = r'databases/FY22_Q2_01_Zolca_LCIA_methods_mapping_FEDEFL_3'\n",
    "uslci = bi.importers.JSONLDImporter(\n",
    "    path, \n",
    "    \"USLCI_FY22_Q2_1\", \n",
    "    preferred_allocation=\"PHYSICAL_ALLOCATION\" # Most USLCI allocations are based on physical allocations (source: Rebe Feraldi)\n",
    ")\n",
    "\n",
    "# Fix openLCA bug: on OpenLCA, on some processes (i.e. Natural Gas), the output exchanges there is a column named \n",
    "# 'Avoided product', and when it saves into JSON it sets the exchange['input'] to True instead of to False\n",
    "for process_key, process_values in uslci.data['processes'].items():\n",
    "    for i, exchange in enumerate(process_values['exchanges']):\n",
    "        if (exchange['avoidedProduct'] == True) & (exchange['input'] == True):\n",
    "            print(exchange['input'], exchange['flow']['name'])\n",
    "            exchange['input'] = False\n",
    "            uslci.data['processes'][process_key]['exchanges'][i] = exchange\n",
    "\n",
    "uslci.apply_strategies()\n",
    "\n",
    "uslci.apply_strategy(bi.strategies.special.add_dummy_processes_and_rename_exchanges)\n",
    "\n",
    "uslci.write_separate_biosphere_database()\n",
    "uslci.write_database()\n",
    "uslci_methods = bi.importers.JSONLDLCIAImporter(path)\n",
    "uslci_methods.apply_strategies()\n",
    "uslci_methods.match_biosphere_by_id('USLCI_FY22_Q2_1 biosphere')\n",
    "uslci_methods.statistics()\n",
    "method_key = [act for act in bd.methods if 'Global warming' in str(act) and 'TRACI' in str(act)][0]\n",
    "my_method = bd.Method(method_key)\n",
    "alu = [act for act in db if act['name'].lower().startswith('aluminium, extrusion')][0]\n",
    "functional_unit = {alu : 5}\n",
    "lca = bc.LCA(functional_unit, method_key) \n",
    "lca.lci()  # Fails here   < -- FAIL \n",
    "lca.lcia()\n",
    "lca.score"
   ]
  }
 ],
 "metadata": {
  "kernelspec": {
   "display_name": "Python 3 (ipykernel)",
   "language": "python",
   "name": "python3"
  },
  "language_info": {
   "codemirror_mode": {
    "name": "ipython",
    "version": 3
   },
   "file_extension": ".py",
   "mimetype": "text/x-python",
   "name": "python",
   "nbconvert_exporter": "python",
   "pygments_lexer": "ipython3",
   "version": "3.8.8"
  }
 },
 "nbformat": 4,
 "nbformat_minor": 5
}

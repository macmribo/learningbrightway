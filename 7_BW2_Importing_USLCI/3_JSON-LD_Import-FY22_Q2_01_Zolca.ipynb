{
 "cells": [
  {
   "cell_type": "markdown",
   "id": "4254e86f-b36d-43e9-b9fa-6f3d359ac12b",
   "metadata": {},
   "source": [
    "# USLCI JSON-LD import"
   ]
  },
  {
   "cell_type": "markdown",
   "id": "573762a1-42ec-4884-a8f9-9448c0e24666",
   "metadata": {},
   "source": [
    "## 1. Import relevant packages"
   ]
  },
  {
   "cell_type": "code",
   "execution_count": 1,
   "id": "7aacaab7-a901-4f13-81ac-7e9cf5da1d65",
   "metadata": {},
   "outputs": [],
   "source": [
    "import bw2data as bd\n",
    "import bw2calc as bc\n",
    "import bw2io as bi\n",
    "import bw_processing # Not sure yet if I need this\n",
    "import bw_migrations # Not sure yet if I need this\n",
    "from bw2io.importers.json_ld_lcia import JSONLDLCIAImporter\n",
    "\n",
    "import os\n",
    "import numpy as np\n",
    "import pandas as pd"
   ]
  },
  {
   "cell_type": "markdown",
   "id": "390d96a0-3ebe-440d-96dc-add82582a977",
   "metadata": {},
   "source": [
    "## 2. Create/set the working folder:"
   ]
  },
  {
   "cell_type": "code",
   "execution_count": 2,
   "id": "8b7cfc5e-41dc-494c-ba61-f4942404be83",
   "metadata": {},
   "outputs": [
    {
     "data": {
      "text/plain": [
       "PosixPath('/Users/mmendez/Library/Application Support/Brightway3/default.c21f969b5f03d33d43e04f8f136e7682')"
      ]
     },
     "execution_count": 2,
     "metadata": {},
     "output_type": "execute_result"
    }
   ],
   "source": [
    "bd.projects.dir"
   ]
  },
  {
   "cell_type": "code",
   "execution_count": 3,
   "id": "fcd7f96b-e785-4bd6-8bf7-32c1decc40f5",
   "metadata": {},
   "outputs": [],
   "source": [
    "bd.projects.set_current('USLCI_FY22_Q2_4')"
   ]
  },
  {
   "cell_type": "code",
   "execution_count": null,
   "id": "a4210e7e-449c-4155-bf14-9d3a0814f77b",
   "metadata": {},
   "outputs": [],
   "source": []
  },
  {
   "cell_type": "markdown",
   "id": "4a08dd55-6968-40bc-8145-6196142846e5",
   "metadata": {},
   "source": [
    "Exporter import"
   ]
  },
  {
   "cell_type": "code",
   "execution_count": 4,
   "id": "4183f1d5-5226-49a9-901d-35ca3660e306",
   "metadata": {},
   "outputs": [],
   "source": [
    "from bw2io.extractors.json_ld import JSONLDExtractor"
   ]
  },
  {
   "cell_type": "code",
   "execution_count": 5,
   "id": "42432b0d-9266-411a-af69-6a647a00031c",
   "metadata": {},
   "outputs": [],
   "source": [
    "path0 = '../7_BW2_Importing_USLCI/databases/FY22_Q2_01_Zolca_LCIA_methods_mapping_FEDEFL_3' # For some reason if I use the relative path it throws me an error\n",
    "data = JSONLDExtractor.extract(path0)"
   ]
  },
  {
   "cell_type": "code",
   "execution_count": null,
   "id": "fb252434-278a-437e-97ee-f8c7a2180462",
   "metadata": {},
   "outputs": [],
   "source": []
  },
  {
   "cell_type": "markdown",
   "id": "3044406b-e0c2-43d3-a934-55ebc6cb4c37",
   "metadata": {},
   "source": [
    "## 3. Import JSON-LD:"
   ]
  },
  {
   "cell_type": "code",
   "execution_count": 6,
   "id": "43704cad-6e84-4ffe-a133-d9b66e67a6a8",
   "metadata": {},
   "outputs": [],
   "source": [
    "path = '../7_BW2_Importing_USLCI/databases/FY22_Q2_01_Zolca_LCIA_methods_mapping_FEDEFL_3'\n",
    "uslci = bi.importers.JSONLDImporter(\n",
    "    path, \n",
    "    \"USLCI_FY22_Q2_1\", \n",
    "    preferred_allocation=\"PHYSICAL_ALLOCATION\" # Most USLCI allocations are based on physical allocations (source: Rebe Feraldi)\n",
    ")"
   ]
  },
  {
   "cell_type": "markdown",
   "id": "ef800001-1c24-429d-acb4-d79ae133681c",
   "metadata": {},
   "source": [
    "### 3.1 Debugging the processes that have AvoidedProduct = True and input = True"
   ]
  },
  {
   "cell_type": "markdown",
   "id": "f0b2eaa7-0168-46c2-bcbb-1345cdf4723c",
   "metadata": {},
   "source": [
    "OpenLCI sets avoided products (AvoidedProducts = True) as inputs (input = True) and they are always outputs. This issue gives an error while applying strategies `apply_strategies()`, specifically it gives the error using the function `json_ld_label_exchange_type`, this is fixed in cell [7]."
   ]
  },
  {
   "cell_type": "code",
   "execution_count": null,
   "id": "f4772d06-1492-4799-80cf-1c8f10e11f75",
   "metadata": {},
   "outputs": [],
   "source": [
    "uslci.data.keys()\n",
    "\n",
    "#[e for e in uslci.data if e['name'] == 'Electricity, at eGrid, SRVC, 2010'][0]"
   ]
  },
  {
   "cell_type": "code",
   "execution_count": null,
   "id": "7eb0cef0-a180-4511-a64d-c947e219aa90",
   "metadata": {},
   "outputs": [],
   "source": [
    "for i, l in enumerate(uslci.data['processes']['2a78de43-fdf2-4c5f-b527-89db6568ace8']['exchanges'][:2]):\n",
    "    if l['avoidedProduct'] == True:\n",
    "        print(i, l['flow']['name'])\n",
    "        l['input'] = False\n",
    "        uslci.data['processes']['2a78de43-fdf2-4c5f-b527-89db6568ace8']['exchanges'][i] = l"
   ]
  },
  {
   "cell_type": "code",
   "execution_count": null,
   "id": "99f05a39-f2f6-4454-968c-69dc16527c0e",
   "metadata": {},
   "outputs": [],
   "source": [
    "for process_key, process_values in uslci.data['processes'].items():\n",
    "    for i, exchange in enumerate(process_values['exchanges']):\n",
    "        if (exchange['avoidedProduct'] == True) & (exchange['input'] == True):\n",
    "            print(exchange['input'], exchange['flow']['name'])\n",
    "            exchange['input'] = False\n",
    "            uslci.data['processes'][process_key]['exchanges'][i] = exchange"
   ]
  },
  {
   "cell_type": "markdown",
   "id": "890daaf6-ef24-45f0-8996-5355fc746f88",
   "metadata": {},
   "source": [
    "### 3.2. Checking the number of processes and flows in the USLCI"
   ]
  },
  {
   "cell_type": "markdown",
   "id": "09a265bc-11ed-459b-b149-ed9512f7e447",
   "metadata": {},
   "source": [
    "I use these cells to investigate and count flows and processes. I need to know how many processes, elemental, waste and production flows there are because even though I fixed the JSON-LD importer and managed to import USLCI and link the activities, it cannot run the LCA because the matrix is not square. There are 566 processes and 927 processes. I believe the extra processes are mislabeled flows."
   ]
  },
  {
   "cell_type": "code",
   "execution_count": null,
   "id": "b79f1b09-a39a-45f1-a2da-6e9de2f72920",
   "metadata": {},
   "outputs": [],
   "source": [
    "len(uslci.data['processes']), len(uslci.data['flows'])\n"
   ]
  },
  {
   "cell_type": "code",
   "execution_count": null,
   "id": "429e9c2c-2e81-4691-b874-7e69c9b76aaa",
   "metadata": {},
   "outputs": [],
   "source": [
    "total_prod =0\n",
    "for process_key, process_values in uslci.data['processes'].items():\n",
    "    prod_n = 0\n",
    "    for i, exc in enumerate(process_values['exchanges']):\n",
    "        if (exc[\"flow\"][\"flowType\"] == \"PRODUCT_FLOW\") & (~exc[\"input\"]) & (exc.get('quantitativeReference') is True):\n",
    "            prod_n += 1\n",
    "    if prod_n > 1:\n",
    "        print('{} has {} products'.format(process_values['name'], prod_n))\n",
    "    total_prod += prod_n\n",
    "\n",
    "    #print('{} has {} products'.format(process_values['name'], prod_n))\n",
    "print('There are {} products'.format(total_prod))"
   ]
  },
  {
   "cell_type": "markdown",
   "id": "ce73535e-94a5-432b-b829-8e5101afeee8",
   "metadata": {},
   "source": [
    "So, according to this, we have 454 products and productions. So the matrix should be square! Brightway is adding more production flows than it should. Let us fix that! I am suspecting the dummy flows are the issue. Also, it seems like waste flows are labeled as production."
   ]
  },
  {
   "cell_type": "markdown",
   "id": "f0e70f55-e225-43c5-bf70-6483611442d6",
   "metadata": {},
   "source": [
    "Now let's check how many processes has waste as output:"
   ]
  },
  {
   "cell_type": "code",
   "execution_count": null,
   "id": "e77cddfd-c790-4cfd-9430-cdfbddd60b19",
   "metadata": {},
   "outputs": [],
   "source": [
    "process_n = 0\n",
    "for process_key, process_values in uslci.data['processes'].items():\n",
    "    prod_n = 0\n",
    "    for i, exc in enumerate(process_values['exchanges']):\n",
    "        if (exc[\"flow\"][\"flowType\"] == \"WASTE_FLOW\") & (~exc[\"input\"]):\n",
    "            prod_n += 1\n",
    "    if prod_n > 0:\n",
    "        process_n += 1\n",
    "        print('{} has {} output waste flows.'.format(process_values['name'], prod_n))\n",
    "print('There are {} processes that have waste as outputs.'.format(process_n))"
   ]
  },
  {
   "cell_type": "markdown",
   "id": "33205481-8c34-421f-b9c1-63299c59654c",
   "metadata": {},
   "source": [
    "Not necessary but let's check how many processes has waste as input:"
   ]
  },
  {
   "cell_type": "code",
   "execution_count": null,
   "id": "dd1fecbc-1a92-4c12-8ffd-5ea5b68b0652",
   "metadata": {},
   "outputs": [],
   "source": [
    "process_n = 0\n",
    "for process_key, process_values in uslci.data['processes'].items():\n",
    "    prod_n = 0\n",
    "    for i, exc in enumerate(process_values['exchanges']):\n",
    "        if (exc[\"flow\"][\"flowType\"] == \"WASTE_FLOW\") & (exc[\"input\"]):\n",
    "            prod_n += 1\n",
    "    if prod_n > 0:\n",
    "        process_n += 1\n",
    "        print('{} has {} input waste flows.'.format(process_values['name'], prod_n))\n",
    "print('There are {} processes that have waste as inputs.'.format(process_n))"
   ]
  },
  {
   "cell_type": "markdown",
   "id": "87daae49-33da-4237-8075-f67c7a79e720",
   "metadata": {},
   "source": [
    "Is any of these flows labeled as quantitativeReference?"
   ]
  },
  {
   "cell_type": "code",
   "execution_count": null,
   "id": "3d6c1ebf-10ab-4ef6-8952-895d4959b6b3",
   "metadata": {},
   "outputs": [],
   "source": [
    "total_waste =0\n",
    "for process_key, process_values in uslci.data['processes'].items():\n",
    "    prod_n = 0\n",
    "    for i, exc in enumerate(process_values['exchanges']):\n",
    "        if (exc[\"flow\"][\"flowType\"] == \"WASTE_FLOW\") & (~exc[\"input\"]) & (exc.get('quantitativeReference') is True):\n",
    "            prod_n += 1\n",
    "    if prod_n > 0:\n",
    "        print('{} has {} waste flows'.format(process_values['name'], prod_n))\n",
    "    total_waste += prod_n\n",
    "\n",
    "    #print('{} has {} products'.format(process_values['name'], prod_n))\n",
    "print('There are {} waste flows as quantitativeReference'.format(total_waste))"
   ]
  },
  {
   "cell_type": "markdown",
   "id": "cbba4509-1d87-45ee-8594-4e29eee007b4",
   "metadata": {},
   "source": [
    "No, awesome! Let's check how many flows are biosphere:"
   ]
  },
  {
   "cell_type": "code",
   "execution_count": null,
   "id": "6c2d062d-73d9-4a07-8978-aeb909423626",
   "metadata": {},
   "outputs": [],
   "source": [
    "elem_n = 0\n",
    "for key, values in uslci.data['flows'].items():\n",
    "    if values['flowType'] == 'ELEMENTARY_FLOW':\n",
    "        elem_n += 1\n",
    "print('There are {} elementary flows in total'.format(elem_n))"
   ]
  },
  {
   "cell_type": "markdown",
   "id": "30e5eed4-bac2-42a3-a952-493303b548c9",
   "metadata": {},
   "source": [
    "I think I need to look at the Brightway imported file and check how many processes have more than 1 production flows and which are these processes. Keep running these cells and I will see you back in section ADD SECTION"
   ]
  },
  {
   "cell_type": "markdown",
   "id": "7eae2d44-3355-444f-9744-7fe7f5253128",
   "metadata": {},
   "source": [
    "## 4. Apply strategies to map JSON-LD to Brightway2 schema:"
   ]
  },
  {
   "cell_type": "markdown",
   "id": "13e4dae0-fa85-45ed-a7f0-59509fcd816f",
   "metadata": {},
   "source": [
    "These strategies adapts the JSON-LD schema with the Brightway2 schema."
   ]
  },
  {
   "cell_type": "code",
   "execution_count": 7,
   "id": "9ff2d6ff-1fd7-491f-816a-fd4ee70ddabb",
   "metadata": {},
   "outputs": [
    {
     "name": "stdout",
     "output_type": "stream",
     "text": [
      "Applying strategy: json_ld_allocate_datasets\n",
      "Applying strategy: json_ld_get_normalized_exchange_locations\n",
      "Applying strategy: json_ld_convert_unit_to_reference_unit\n",
      "Applying strategy: json_ld_get_activities_list_from_rawdata\n",
      "Applying strategy: json_ld_add_products_as_activities\n",
      "Applying strategy: json_ld_get_normalized_exchange_units\n",
      "Applying strategy: json_ld_add_activity_unit\n",
      "Applying strategy: json_ld_rename_metadata_fields\n",
      "Applying strategy: json_ld_location_name\n",
      "Applying strategy: json_ld_remove_fields\n",
      "Applying strategy: json_ld_fix_process_type\n",
      "Applying strategy: json_ld_label_exchange_type\n"
     ]
    },
    {
     "ename": "ValueError",
     "evalue": "('Avoided products are outputs, not inputs', 'Natural gas, combusted in industrial boiler')",
     "output_type": "error",
     "traceback": [
      "\u001b[0;31m---------------------------------------------------------------------------\u001b[0m",
      "\u001b[0;31mValueError\u001b[0m                                Traceback (most recent call last)",
      "Input \u001b[0;32mIn [7]\u001b[0m, in \u001b[0;36m<cell line: 1>\u001b[0;34m()\u001b[0m\n\u001b[0;32m----> 1\u001b[0m \u001b[43muslci\u001b[49m\u001b[38;5;241;43m.\u001b[39;49m\u001b[43mapply_strategies\u001b[49m\u001b[43m(\u001b[49m\u001b[43m)\u001b[49m\n",
      "File \u001b[0;32m~/Documents/Postdoc/Software_dev/Brightway/Brightway_packages/brightway2-io/bw2io/importers/json_ld.py:79\u001b[0m, in \u001b[0;36mJSONLDImporter.apply_strategies\u001b[0;34m(self, *args, **kwargs)\u001b[0m\n\u001b[1;32m     77\u001b[0m \u001b[38;5;28;01mdef\u001b[39;00m \u001b[38;5;21mapply_strategies\u001b[39m(\u001b[38;5;28mself\u001b[39m, \u001b[38;5;241m*\u001b[39margs, \u001b[38;5;241m*\u001b[39m\u001b[38;5;241m*\u001b[39mkwargs):\n\u001b[1;32m     78\u001b[0m     no_warning \u001b[38;5;241m=\u001b[39m kwargs\u001b[38;5;241m.\u001b[39mpop(\u001b[38;5;124m\"\u001b[39m\u001b[38;5;124mno_warning\u001b[39m\u001b[38;5;124m\"\u001b[39m) \u001b[38;5;28;01mif\u001b[39;00m \u001b[38;5;124m\"\u001b[39m\u001b[38;5;124mno_warning\u001b[39m\u001b[38;5;124m\"\u001b[39m \u001b[38;5;129;01min\u001b[39;00m kwargs \u001b[38;5;28;01melse\u001b[39;00m \u001b[38;5;28;01mFalse\u001b[39;00m\n\u001b[0;32m---> 79\u001b[0m     \u001b[38;5;28;43msuper\u001b[39;49m\u001b[43m(\u001b[49m\u001b[43m)\u001b[49m\u001b[38;5;241;43m.\u001b[39;49m\u001b[43mapply_strategies\u001b[49m\u001b[43m(\u001b[49m\u001b[38;5;241;43m*\u001b[39;49m\u001b[43margs\u001b[49m\u001b[43m,\u001b[49m\u001b[43m \u001b[49m\u001b[38;5;241;43m*\u001b[39;49m\u001b[38;5;241;43m*\u001b[39;49m\u001b[43mkwargs\u001b[49m\u001b[43m)\u001b[49m\n\u001b[1;32m     80\u001b[0m     \u001b[38;5;28;01mif\u001b[39;00m \u001b[38;5;28mself\u001b[39m\u001b[38;5;241m.\u001b[39mbiosphere_database \u001b[38;5;129;01mand\u001b[39;00m \u001b[38;5;129;01mnot\u001b[39;00m \u001b[38;5;28mself\u001b[39m\u001b[38;5;241m.\u001b[39m_biosphere_database_warned:\n\u001b[1;32m     81\u001b[0m         \u001b[38;5;28;01mif\u001b[39;00m \u001b[38;5;129;01mnot\u001b[39;00m no_warning:\n",
      "File \u001b[0;32m~/Documents/Postdoc/Software_dev/Brightway/Brightway_packages/brightway2-io/bw2io/importers/base.py:69\u001b[0m, in \u001b[0;36mImportBase.apply_strategies\u001b[0;34m(self, strategies, verbose)\u001b[0m\n\u001b[1;32m     67\u001b[0m total \u001b[38;5;241m=\u001b[39m \u001b[38;5;28mlen\u001b[39m(func_list)\n\u001b[1;32m     68\u001b[0m \u001b[38;5;28;01mfor\u001b[39;00m i, func \u001b[38;5;129;01min\u001b[39;00m \u001b[38;5;28menumerate\u001b[39m(func_list):\n\u001b[0;32m---> 69\u001b[0m     \u001b[38;5;28;43mself\u001b[39;49m\u001b[38;5;241;43m.\u001b[39;49m\u001b[43mapply_strategy\u001b[49m\u001b[43m(\u001b[49m\u001b[43mfunc\u001b[49m\u001b[43m,\u001b[49m\u001b[43m \u001b[49m\u001b[43mverbose\u001b[49m\u001b[43m)\u001b[49m\n\u001b[1;32m     70\u001b[0m     \u001b[38;5;28;01mif\u001b[39;00m \u001b[38;5;28mhasattr\u001b[39m(\u001b[38;5;28mself\u001b[39m, \u001b[38;5;124m\"\u001b[39m\u001b[38;5;124msignal\u001b[39m\u001b[38;5;124m\"\u001b[39m) \u001b[38;5;129;01mand\u001b[39;00m \u001b[38;5;28mhasattr\u001b[39m(\u001b[38;5;28mself\u001b[39m\u001b[38;5;241m.\u001b[39msignal, \u001b[38;5;124m\"\u001b[39m\u001b[38;5;124memit\u001b[39m\u001b[38;5;124m\"\u001b[39m):\n\u001b[1;32m     71\u001b[0m         \u001b[38;5;28mself\u001b[39m\u001b[38;5;241m.\u001b[39msignal\u001b[38;5;241m.\u001b[39memit(i \u001b[38;5;241m+\u001b[39m \u001b[38;5;241m1\u001b[39m, total)\n",
      "File \u001b[0;32m~/Documents/Postdoc/Software_dev/Brightway/Brightway_packages/brightway2-io/bw2io/importers/base.py:48\u001b[0m, in \u001b[0;36mImportBase.apply_strategy\u001b[0;34m(self, strategy, verbose)\u001b[0m\n\u001b[1;32m     46\u001b[0m     \u001b[38;5;28mprint\u001b[39m(\u001b[38;5;124m\"\u001b[39m\u001b[38;5;124mApplying strategy: \u001b[39m\u001b[38;5;132;01m{}\u001b[39;00m\u001b[38;5;124m\"\u001b[39m\u001b[38;5;241m.\u001b[39mformat(func_name))\n\u001b[1;32m     47\u001b[0m \u001b[38;5;28;01mtry\u001b[39;00m:\n\u001b[0;32m---> 48\u001b[0m     \u001b[38;5;28mself\u001b[39m\u001b[38;5;241m.\u001b[39mdata \u001b[38;5;241m=\u001b[39m \u001b[43mstrategy\u001b[49m\u001b[43m(\u001b[49m\u001b[38;5;28;43mself\u001b[39;49m\u001b[38;5;241;43m.\u001b[39;49m\u001b[43mdata\u001b[49m\u001b[43m)\u001b[49m\n\u001b[1;32m     49\u001b[0m     \u001b[38;5;28mself\u001b[39m\u001b[38;5;241m.\u001b[39mapplied_strategies\u001b[38;5;241m.\u001b[39mappend(func_name)\n\u001b[1;32m     50\u001b[0m \u001b[38;5;28;01mexcept\u001b[39;00m StrategyError \u001b[38;5;28;01mas\u001b[39;00m err:\n",
      "File \u001b[0;32m~/Documents/Postdoc/Software_dev/Brightway/Brightway_packages/brightway2-io/bw2io/strategies/json_ld.py:190\u001b[0m, in \u001b[0;36mjson_ld_label_exchange_type\u001b[0;34m(db)\u001b[0m\n\u001b[1;32m    187\u001b[0m \u001b[38;5;28;01melif\u001b[39;00m exc\u001b[38;5;241m.\u001b[39mget(\u001b[38;5;124m\"\u001b[39m\u001b[38;5;124mavoidedProduct\u001b[39m\u001b[38;5;124m\"\u001b[39m):\n\u001b[1;32m    188\u001b[0m     \u001b[38;5;28;01mif\u001b[39;00m exc\u001b[38;5;241m.\u001b[39mget(\u001b[38;5;124m\"\u001b[39m\u001b[38;5;124minput\u001b[39m\u001b[38;5;124m\"\u001b[39m):\n\u001b[1;32m    189\u001b[0m         \u001b[38;5;66;03m# print('Activity name:', act['name'], act['code'], 'Exchange:', exc['flow']['name'])\u001b[39;00m\n\u001b[0;32m--> 190\u001b[0m          \u001b[38;5;28;01mraise\u001b[39;00m \u001b[38;5;167;01mValueError\u001b[39;00m(\u001b[38;5;124m\"\u001b[39m\u001b[38;5;124mAvoided products are outputs, not inputs\u001b[39m\u001b[38;5;124m\"\u001b[39m, exc[\u001b[38;5;124m'\u001b[39m\u001b[38;5;124mflow\u001b[39m\u001b[38;5;124m'\u001b[39m][\u001b[38;5;124m'\u001b[39m\u001b[38;5;124mname\u001b[39m\u001b[38;5;124m'\u001b[39m])\n\u001b[1;32m    191\u001b[0m     exc[\u001b[38;5;124m\"\u001b[39m\u001b[38;5;124mtype\u001b[39m\u001b[38;5;124m\"\u001b[39m] \u001b[38;5;241m=\u001b[39m \u001b[38;5;124m\"\u001b[39m\u001b[38;5;124msubstitution\u001b[39m\u001b[38;5;124m\"\u001b[39m\n\u001b[1;32m    192\u001b[0m \u001b[38;5;28;01melif\u001b[39;00m exc[\u001b[38;5;124m\"\u001b[39m\u001b[38;5;124minput\u001b[39m\u001b[38;5;124m\"\u001b[39m]:\n",
      "\u001b[0;31mValueError\u001b[0m: ('Avoided products are outputs, not inputs', 'Natural gas, combusted in industrial boiler')"
     ]
    }
   ],
   "source": [
    "uslci.apply_strategies()"
   ]
  },
  {
   "cell_type": "markdown",
   "id": "c9549bf6-ec02-4ad2-a5f0-2c2256594fab",
   "metadata": {},
   "source": [
    "### 4.1. I did some debugging in the background..."
   ]
  },
  {
   "cell_type": "markdown",
   "id": "4dce842b-7c0c-48a3-bc22-ed16be8fedda",
   "metadata": {
    "tags": []
   },
   "source": [
    "What a beautiful feeling, all strategies were applied with no issues. I had to fix certain bugs mostly:\n",
    "\n",
    "- `Applying strategy: json_ld_location_name`, error `KeyError: ['location']`, not all processes have locations, since Brightway2 requires locations it throws an error because it does not find the needed key. I identified these processes and set the location 'Northern America'. This might not be the right solution since it requires changing the database. I will contact Rebe Feraldi and inquiry about some of the processes not having location. It might be wiser to change the BW2 code so it does not require location.\n",
    "- `Applying strategy: json_ld_location_name`, There was also a weird bug, where some of the locations were set as `None` and the \n",
    "- `Applying strategy: json_ld_add_activity_unit`, throws an error `AssertionError: Failed allocation`. This function identifies `PRODUCT_FLOW` in the outputs so it can get the units of the reference flow, however, there are processes with more than one `PRODUCT_FLOW`. I think what it is forcing is to have one as the \"reference flow\" thus it might be confusing reference flow with production flow. I changed the code increasing the `if` statement adding `quantitativeReference`, so it knows that which flow is the reference product to 'borrow' its units. The fix: added `& (exc.get('quantitativeReference') is True`.\n",
    "- `Applying strategy: json_ld_label_exchange_type`, gives me `ValueError: Avoided products are outputs, not inputs.` while applying strategy json_ld_label_exchange_type (solved in section 3.1).This error comes up again, because\n",
    "- `Applying strategy: json_ld_label_exchange_type`, giver the error `ValueError: Inputs must be products`, this is not necessarily true, because there are some `WASTE_FLOWS` that are inputs, so I add `WASTE_FLOWS` to be technosphere inputs!"
   ]
  },
  {
   "cell_type": "markdown",
   "id": "bd511fbe-e29f-4884-97b0-39b70c94b1a4",
   "metadata": {},
   "source": [
    "### 4.2. Create dummy processes to link processes"
   ]
  },
  {
   "cell_type": "markdown",
   "id": "ae55edaf-cce8-450d-87fe-5a43d22f49bb",
   "metadata": {},
   "source": [
    "Now let's check some statistics, what we mostly care about is that everything is linked!"
   ]
  },
  {
   "cell_type": "code",
   "execution_count": null,
   "id": "49176714-6ef9-4d7a-a0c3-8761f2fd90e5",
   "metadata": {},
   "outputs": [],
   "source": [
    "uslci.statistics()"
   ]
  },
  {
   "cell_type": "markdown",
   "id": "6e9b2c0e-dddc-4167-9246-dc47e461f8e4",
   "metadata": {},
   "source": [
    "This is expected, there are certain exchanges unlinked because the are production flows that go nowhere. Only emissions and resources are entitled to do this. So, what do we do? We assign dummy processes. There is a function in the brightway-io package, but I had to tweak it to make it work (`if \"input\" not in exc or \"amount\" not in exc:` added because it was throwing me a weird error). After fixing it, let's apply the dummy-maker strategy:"
   ]
  },
  {
   "cell_type": "code",
   "execution_count": null,
   "id": "f4da65d1-a5cb-48ea-984e-1be45f9f4906",
   "metadata": {},
   "outputs": [],
   "source": [
    "uslci.apply_strategy(bi.strategies.special.add_dummy_processes_and_rename_exchanges)"
   ]
  },
  {
   "cell_type": "markdown",
   "id": "e8956a27-16b6-4190-ae3c-0b7dabe3fb9a",
   "metadata": {},
   "source": [
    "Let's apply the statistics again and...uslci.statistics()"
   ]
  },
  {
   "cell_type": "code",
   "execution_count": null,
   "id": "b9fb3678-d6f2-41b0-b146-fad418b72448",
   "metadata": {},
   "outputs": [],
   "source": [
    "uslci.statistics()"
   ]
  },
  {
   "cell_type": "markdown",
   "id": "83fb6651-9e0a-44b9-b8f0-4ca5454bee63",
   "metadata": {},
   "source": [
    "Boom! No unlinked exchanges."
   ]
  },
  {
   "cell_type": "markdown",
   "id": "bab42612-f0df-422f-8016-954654193bf2",
   "metadata": {},
   "source": [
    "## 5. Writing and saving the database"
   ]
  },
  {
   "cell_type": "markdown",
   "id": "093559da-372b-415c-a010-d84a1b7d1f36",
   "metadata": {},
   "source": [
    "### 5.1. Check database dictionaries:"
   ]
  },
  {
   "cell_type": "markdown",
   "id": "b819ee04-58bd-4ffc-97d0-e30fe8118071",
   "metadata": {},
   "source": [
    "Now that we have uploaded the USLCI database, let's write the databases dictionary. If you paid attention, after applying the strategies, there is a message at the end of the output that reads the following:\n",
    "\n",
    "```\n",
    "Created 2879 biosphere flows in separate database 'USLCI_FY22_Q2_1 biosphere'.\n",
    "Use either `.merge_biosphere_flows()` or `.write_separate_biosphere_database()` to write these flows.\n",
    "```\n",
    "\n",
    "This means that it has splitted the USLCI into a different database. This is because it will use this database to generate the biosphere matrix. It also makes easier to query processes and flows.\n",
    "You can check which databases are within the project using `bd.databases`. If this is the first time you run this code, there should be 0 objects in the database dictionary, if there are already written databases."
   ]
  },
  {
   "cell_type": "code",
   "execution_count": null,
   "id": "36214144-eee6-480b-bfe3-97b24f222299",
   "metadata": {},
   "outputs": [],
   "source": [
    "bd.databases # If this is the first time you run this code, there should be 0 objects in the database dictionary:"
   ]
  },
  {
   "cell_type": "markdown",
   "id": "a1d0bd09-018b-40ef-9096-f2c90f5aa035",
   "metadata": {},
   "source": [
    "Let's fill out our project folder with some databases!"
   ]
  },
  {
   "cell_type": "markdown",
   "id": "e38dd1e2-b4e6-4ec4-8821-bdd84b7a5ce8",
   "metadata": {},
   "source": [
    "#### 5.1.1. Write the biosphere database:"
   ]
  },
  {
   "cell_type": "code",
   "execution_count": null,
   "id": "0344aa06-b2b7-4223-9d9e-7eaefd3487be",
   "metadata": {},
   "outputs": [],
   "source": [
    "uslci.write_separate_biosphere_database()"
   ]
  },
  {
   "cell_type": "markdown",
   "id": "09632994-00d1-4acc-90ab-2cc67c26291b",
   "metadata": {},
   "source": [
    "#### 5.1.2.Write the technosphere database:"
   ]
  },
  {
   "cell_type": "code",
   "execution_count": null,
   "id": "8aa8c0f0-9124-4169-b33f-0266cb00a32e",
   "metadata": {},
   "outputs": [],
   "source": [
    "uslci.write_database()"
   ]
  },
  {
   "cell_type": "markdown",
   "id": "50c24d76-8167-4fd4-942e-308de612f4e1",
   "metadata": {},
   "source": [
    "<div class=\"alert alert-block alert-warning\">\n",
    "<b>To fix:</b>\n",
    "<code>\n",
    "Not able to determine geocollections for all datasets. This database is not ready for regionalization.\n",
    "</code>\n",
    "Indicates that the locations given are not within the brightway2 geocollections. This is a problem for future Mac, but it needs to be fixed, probably by mapping the location names properly with brightway location dictionary.\n",
    "</div>"
   ]
  },
  {
   "cell_type": "markdown",
   "id": "833334eb-91f3-4fb8-b705-35b65a025a21",
   "metadata": {},
   "source": [
    "Now you should see the uploaded database dictionaries:"
   ]
  },
  {
   "cell_type": "code",
   "execution_count": null,
   "id": "61f2db25-2f97-4519-9462-a68e3964bed7",
   "metadata": {},
   "outputs": [],
   "source": [
    "bd.databases"
   ]
  },
  {
   "cell_type": "markdown",
   "id": "549a4511-5f76-49fc-ae6d-d4914c3fa3a2",
   "metadata": {},
   "source": [
    "### 5.2. Saving the databases"
   ]
  },
  {
   "cell_type": "markdown",
   "id": "6ebf720d-dfc4-4676-9131-f77b2145fb96",
   "metadata": {},
   "source": [
    "Hoorraaay! Now let's be tidy and save them in variables for easy access:"
   ]
  },
  {
   "cell_type": "code",
   "execution_count": null,
   "id": "f99da127-3472-4aef-8e5c-c0e37f253699",
   "metadata": {},
   "outputs": [],
   "source": [
    "bio = bd.Database('USLCI_FY22_Q2_1 biosphere')"
   ]
  },
  {
   "cell_type": "code",
   "execution_count": null,
   "id": "bf8157d7-3a3e-4562-ac0f-050ce09020f9",
   "metadata": {},
   "outputs": [],
   "source": [
    "db = bd.Database('USLCI_FY22_Q2_1')"
   ]
  },
  {
   "cell_type": "markdown",
   "id": "6ac45dff-bf8d-4e3f-98ee-940914e62ccc",
   "metadata": {},
   "source": [
    "## 6 Import the LCIA methods"
   ]
  },
  {
   "cell_type": "code",
   "execution_count": null,
   "id": "f64be549-8934-42bd-9dbd-7b6d03be26cf",
   "metadata": {},
   "outputs": [],
   "source": [
    "uslci_methods = bi.importers.JSONLDLCIAImporter(path)"
   ]
  },
  {
   "cell_type": "code",
   "execution_count": null,
   "id": "7968b356-3209-4470-b1f3-e9c1d743295a",
   "metadata": {},
   "outputs": [],
   "source": [
    "uslci_methods.apply_strategies()"
   ]
  },
  {
   "cell_type": "code",
   "execution_count": null,
   "id": "5bb2ab49-bd39-4076-a9c4-9eee11801f16",
   "metadata": {},
   "outputs": [],
   "source": [
    "uslci_methods.match_biosphere_by_id('USLCI_FY22_Q2_1 biosphere')"
   ]
  },
  {
   "cell_type": "code",
   "execution_count": null,
   "id": "76e7ea02-8df1-4044-961b-6be03df7e754",
   "metadata": {},
   "outputs": [],
   "source": [
    "uslci_methods.statistics()"
   ]
  },
  {
   "cell_type": "markdown",
   "id": "313ef3cf-4b96-46be-b0cd-d31fe66c18cc",
   "metadata": {},
   "source": [
    "These are the available methods:"
   ]
  },
  {
   "cell_type": "code",
   "execution_count": null,
   "id": "6d9160a2-7d64-44d4-9079-17a340505854",
   "metadata": {},
   "outputs": [],
   "source": [
    "if [things['name'] for things in uslci_methods.data][0] in bd.methods:\n",
    "    print('Method already loaded!')\n",
    "else:\n",
    "    uslci_methods.write_methods()"
   ]
  },
  {
   "cell_type": "code",
   "execution_count": null,
   "id": "2ec38d96-fa6f-4671-a8d3-45df22c568a6",
   "metadata": {},
   "outputs": [],
   "source": [
    "list(bd.methods)"
   ]
  },
  {
   "cell_type": "code",
   "execution_count": null,
   "id": "5e78274b-b453-4caa-bd6c-aa9b6ede6126",
   "metadata": {},
   "outputs": [],
   "source": [
    "uslci.statistics()"
   ]
  },
  {
   "cell_type": "code",
   "execution_count": null,
   "id": "2c309816-c243-49ad-b0e0-074dc96cffe4",
   "metadata": {},
   "outputs": [],
   "source": []
  },
  {
   "cell_type": "markdown",
   "id": "c68dcb75-34f5-4939-be61-62409f9e3e73",
   "metadata": {},
   "source": [
    "## 7 Querying the databases"
   ]
  },
  {
   "cell_type": "markdown",
   "id": "d2cb49fb-41ef-4136-a3ba-b57b709c0b23",
   "metadata": {},
   "source": [
    "### 7.1 Let's look at the biosphere database:"
   ]
  },
  {
   "cell_type": "markdown",
   "id": "f4d88048-8d11-4a57-be5e-1ac0c0d23d50",
   "metadata": {},
   "source": [
    "You can search activities using list comprehension:"
   ]
  },
  {
   "cell_type": "code",
   "execution_count": null,
   "id": "1b3b6624-b289-47ce-a67f-1a23d81dd4c8",
   "metadata": {},
   "outputs": [],
   "source": [
    "carbon_query = [bio_flow for bio_flow in bio if bio_flow['name'].lower().startswith('carbon')] # Use .lower() to make it non-case sensitive\n",
    "carbon_query; # Remove ';' if you want to reveal the output!"
   ]
  },
  {
   "cell_type": "code",
   "execution_count": null,
   "id": "9c895594-05a4-475a-906f-a701d8e52c87",
   "metadata": {},
   "outputs": [],
   "source": [
    "print('There are {} carbon-related flows!'.format(len(carbon_query)))"
   ]
  },
  {
   "cell_type": "markdown",
   "id": "db82c620-55f0-4b6b-a741-8474999fef53",
   "metadata": {},
   "source": [
    "You can also use `.search()` to find the flow:"
   ]
  },
  {
   "cell_type": "code",
   "execution_count": null,
   "id": "79af3b30-d95e-4e03-ab60-3950bb7ec0e9",
   "metadata": {},
   "outputs": [],
   "source": [
    "bio.search('carbon dioxide')"
   ]
  },
  {
   "cell_type": "markdown",
   "id": "d3f8a2b1-0f8e-470a-8c5c-970d1a617a6c",
   "metadata": {},
   "source": [
    "Let's refine our search and save one of these in a variable:"
   ]
  },
  {
   "cell_type": "code",
   "execution_count": null,
   "id": "71c85551-9393-4c6c-bb07-855b337a29cc",
   "metadata": {},
   "outputs": [],
   "source": [
    "carboncete = [act for act in bio if 'Carbon dioxide' in act['name']\n",
    "                                            and 'Elementary Flows' in str(act['categories'])\n",
    "                                            and 'emission' in str(act['categories'])\n",
    "                                            and 'ground' in str(act['categories'])][0]"
   ]
  },
  {
   "cell_type": "markdown",
   "id": "04267c81-0bef-4205-bcb7-8c5db646b82f",
   "metadata": {},
   "source": [
    "#### 5.3.2. Now let's look at our technosphere database"
   ]
  },
  {
   "cell_type": "markdown",
   "id": "c0c0ae3a-3f80-4b20-bf6c-2705038bcac5",
   "metadata": {},
   "source": [
    "The technosphere database is composed of activities thaat can be processes (they have exchanges, input and output flows) and product flows (these can be outputs or inputs). Let's explore a different way to select an activity... let's say I am just testing and I just want a random activity. Can I do it? Selvfølgelig! Actio `.random()`!!"
   ]
  },
  {
   "cell_type": "code",
   "execution_count": null,
   "id": "777bed4d-3294-4875-844b-a84281352f64",
   "metadata": {},
   "outputs": [],
   "source": [
    "random_act = db.random()\n",
    "random_act"
   ]
  },
  {
   "cell_type": "markdown",
   "id": "65ccb039-a878-4ab2-ab89-59b07b2facfe",
   "metadata": {},
   "source": [
    "Let's look at it with more intensity..."
   ]
  },
  {
   "cell_type": "code",
   "execution_count": null,
   "id": "9dc2ded2-d365-4ff5-85b5-cbabb5d1245a",
   "metadata": {},
   "outputs": [],
   "source": [
    "random_act.as_dict();"
   ]
  },
  {
   "cell_type": "markdown",
   "id": "12b85932-6d26-4c0d-ac62-ca4b4eb09a87",
   "metadata": {},
   "source": [
    "Looking at this closely, you can see that there are no exchanges, this is because these are saved in a different location. Let's now look at a specific process:"
   ]
  },
  {
   "cell_type": "code",
   "execution_count": null,
   "id": "9a441d39-019d-48a1-a9b8-4eca2ec7bcf5",
   "metadata": {},
   "outputs": [],
   "source": [
    "db.search('corn')"
   ]
  },
  {
   "cell_type": "code",
   "execution_count": null,
   "id": "d8ee6e4d-609a-4a66-a4ea-4af2c736db32",
   "metadata": {},
   "outputs": [],
   "source": [
    "len(db.search('corn'))"
   ]
  },
  {
   "cell_type": "markdown",
   "id": "e82a1b26-0a1b-4cf2-9d0f-d732408575b3",
   "metadata": {},
   "source": [
    "You can also filter your search:"
   ]
  },
  {
   "cell_type": "code",
   "execution_count": null,
   "id": "c285505b-9dae-42c4-a6ff-807eb90b1872",
   "metadata": {},
   "outputs": [],
   "source": [
    "db.search('corn', filter={'categories': 'Technosphere'}) # Here I show the flows"
   ]
  },
  {
   "cell_type": "markdown",
   "id": "a7d3b0c6-3558-4185-a645-8e6dbde01b4f",
   "metadata": {},
   "source": [
    "You can also `mask`!"
   ]
  },
  {
   "cell_type": "code",
   "execution_count": null,
   "id": "a7bdf23e-2a31-42df-8165-f5df0ca0fb51",
   "metadata": {},
   "outputs": [],
   "source": [
    "db.search('corn', mask={'categories': 'Technosphere'}) # Here I show the processes"
   ]
  },
  {
   "cell_type": "markdown",
   "id": "6a4b2e93-fe03-4fbf-8ca6-57562e22d4bd",
   "metadata": {},
   "source": [
    "It is also important to stress the importance of filtering, because the `search` function returns a maximum of 25 possible candidates. This is why I prefer list comprehension."
   ]
  },
  {
   "cell_type": "code",
   "execution_count": null,
   "id": "92a9119f-4e45-42e1-a4b3-6c9aba22f96e",
   "metadata": {},
   "outputs": [],
   "source": [
    "len([act['code'] for act in db if '.' in act['code']])"
   ]
  },
  {
   "cell_type": "code",
   "execution_count": null,
   "id": "e9462744-ac1e-41e6-855f-b19342916749",
   "metadata": {},
   "outputs": [],
   "source": [
    "len([act['code'] for act in db if '.' not in act['code']])"
   ]
  },
  {
   "cell_type": "markdown",
   "id": "61d331ca-f3ce-4f0a-9760-a5c5357f0fcb",
   "metadata": {},
   "source": [
    "168 of them are behaving weird 1635 of them are normal. They did not drop many of the category names that are not necessary, on top of that, their code name is merges with a flow. Questions:\n",
    "- What do these processes have in common?\n",
    "- Why do they have double codes?\n",
    "- Why aren't they dropping come of the items?\n",
    "\n",
    "Let's start if all of them have `allocationFactors`"
   ]
  },
  {
   "cell_type": "code",
   "execution_count": null,
   "id": "0c7bb69b-be85-41a6-9cc9-14e364c64c1f",
   "metadata": {},
   "outputs": [],
   "source": [
    "len([act['allocationFactors'] for act in db if '.' in act['code']])"
   ]
  },
  {
   "cell_type": "markdown",
   "id": "4032e81e-ebe5-4941-88c0-fe4b621c0c65",
   "metadata": {},
   "source": [
    "All of these have allocationFactors. Sanity check!"
   ]
  },
  {
   "cell_type": "code",
   "execution_count": null,
   "id": "e9d711eb-6b27-4c28-8cab-86bdc4b172c8",
   "metadata": {},
   "outputs": [],
   "source": [
    "len([act for act in db if 'allocationFactors' in act])"
   ]
  },
  {
   "cell_type": "markdown",
   "id": "ca08d7d5-c7e5-412b-8269-ca1807a70e3f",
   "metadata": {},
   "source": [
    "Ok, so these weirdos are the ones that have the key `allocationFactor`"
   ]
  },
  {
   "cell_type": "markdown",
   "id": "0a24aa00-c7a3-45f1-b4f9-c698b88c645e",
   "metadata": {},
   "source": [
    "Here I filter for the processes that have more than 15 entries and do not have a '.' in the code. I want to check if these are normal processes and why do they have so many entries:"
   ]
  },
  {
   "cell_type": "code",
   "execution_count": null,
   "id": "9f26409e-92a3-463c-b85f-1de899d3ccb1",
   "metadata": {},
   "outputs": [],
   "source": [
    "len([act for act in db if len(act) > 15 and '.' not in act['code']])"
   ]
  },
  {
   "cell_type": "code",
   "execution_count": null,
   "id": "5a9da187-5137-4f47-8753-3c176edc0bf0",
   "metadata": {},
   "outputs": [],
   "source": [
    "[act.as_dict() for act in db if len(act) > 15 and '.' not in act['code']];"
   ]
  },
  {
   "cell_type": "markdown",
   "id": "29d6ac2b-b44c-41de-8f3e-1c0f80f98447",
   "metadata": {},
   "source": [
    "Ok, these processes did not drop some of the entries... so something does not work in the JSON-LD importer, these processes are escaping the mapping for some reason. However, their code is normal."
   ]
  },
  {
   "cell_type": "code",
   "execution_count": null,
   "id": "004599f3-27c6-46f7-8a83-7113402c634f",
   "metadata": {},
   "outputs": [],
   "source": [
    "len([act.as_dict() for act in db if len(act) > 15])"
   ]
  },
  {
   "cell_type": "markdown",
   "id": "3de0461b-a186-4b01-81fd-220e577df9a9",
   "metadata": {},
   "source": [
    "198 processes have a looot of entries, the average entry number should be:"
   ]
  },
  {
   "cell_type": "code",
   "execution_count": null,
   "id": "b726b826-5fd7-4aca-9ddf-f8e4ef3028b5",
   "metadata": {},
   "outputs": [],
   "source": [
    "np.median([len(act.as_dict()) for act in db]), np.mean([len(act.as_dict()) for act in db]), np.std([len(act.as_dict()) for act in db])"
   ]
  },
  {
   "cell_type": "markdown",
   "id": "4f2ccac0-faa0-4072-b907-b25aad5f88f6",
   "metadata": {},
   "source": [
    "10"
   ]
  },
  {
   "cell_type": "markdown",
   "id": "97b744d4-34cc-4fa6-99a7-beb47edbcf81",
   "metadata": {},
   "source": [
    "Let's be more specific:"
   ]
  },
  {
   "cell_type": "code",
   "execution_count": null,
   "id": "5207187a-2769-44d7-98d8-294558710712",
   "metadata": {},
   "outputs": [],
   "source": [
    "activity_list = []\n",
    "for entries in range(5, 19):\n",
    "    activities = len([act.as_dict() for act in db if len(act) == entries])\n",
    "    print('# of activities with {} entries: {}'.format(entries, activities))\n",
    "    activity_list.append(activities)"
   ]
  },
  {
   "cell_type": "markdown",
   "id": "5553c165-9614-4c65-8f33-76371fb50836",
   "metadata": {},
   "source": [
    "Let's check out the 7 entry process, it does not have a unit... why?"
   ]
  },
  {
   "cell_type": "code",
   "execution_count": null,
   "id": "0067bb5a-8217-4968-b7a4-31c1d91aeb6a",
   "metadata": {},
   "outputs": [],
   "source": [
    "[act.as_dict() for act in db if len(act) == 7];"
   ]
  },
  {
   "cell_type": "code",
   "execution_count": null,
   "id": "0b0d275c-38f8-4091-9cad-eeb60d0607ae",
   "metadata": {},
   "outputs": [],
   "source": [
    "dummy = [act for act in db if len(act) == 7][0]\n",
    "dummy"
   ]
  },
  {
   "cell_type": "code",
   "execution_count": null,
   "id": "3d474a04-4591-481b-865b-899d1aff2e3b",
   "metadata": {},
   "outputs": [],
   "source": [
    "[exc for exc in dummy.exchanges()]"
   ]
  },
  {
   "cell_type": "markdown",
   "id": "53e88d05-3461-4d23-8b69-0ec6944cb960",
   "metadata": {},
   "source": [
    "Aaah it is the dummy process. Ok, it does not need units."
   ]
  },
  {
   "cell_type": "markdown",
   "id": "f2bebc2b-6148-4f6b-bebf-66d5fd1ccef8",
   "metadata": {},
   "source": [
    "To drop some of these entries I just have to modify the functiondef json_ld_remove_fields(db) in the `brightway2-io/strategies/json_ld`"
   ]
  },
  {
   "cell_type": "code",
   "execution_count": null,
   "id": "8f06d88b-5573-4c58-9d20-da33349aaa83",
   "metadata": {},
   "outputs": [],
   "source": [
    "len([act for act in db if 'corn' in act['name'].lower()])"
   ]
  },
  {
   "cell_type": "markdown",
   "id": "fe53c66a-f92d-434a-949f-90a7d1dc2941",
   "metadata": {},
   "source": [
    "See? 42 entries now! Looking at this list, you can see that this search mixes processes and flows, let's find the process flows:"
   ]
  },
  {
   "cell_type": "markdown",
   "id": "9a55405b-6e77-468f-a313-7555da96b710",
   "metadata": {},
   "source": [
    "I will come back to this later..."
   ]
  },
  {
   "cell_type": "markdown",
   "id": "e6ffe89e-ef9d-4e5d-a7a7-a057c44ac134",
   "metadata": {},
   "source": [
    "### Let's add an LCIA method"
   ]
  },
  {
   "cell_type": "code",
   "execution_count": null,
   "id": "67412ad5-f79f-499a-b045-7120459a33d8",
   "metadata": {},
   "outputs": [],
   "source": [
    "method_gw = [act for act in bd.methods if 'Global warming' in str(act) and 'TRACI' in str(act)][0]\n",
    "method_key = method_gw\n",
    "my_method = bd.Method(method_key)"
   ]
  },
  {
   "cell_type": "markdown",
   "id": "3de520cd-f20c-4b9a-b6dc-a77fbd3d2769",
   "metadata": {},
   "source": [
    "#### Now we define a functional unit:\n",
    "I will select `Aluminium, extrusion, at plant`"
   ]
  },
  {
   "cell_type": "code",
   "execution_count": null,
   "id": "beb7904a-9d0d-4e2a-a1b7-7688e1dd176a",
   "metadata": {},
   "outputs": [],
   "source": [
    "alu = [act for act in db if act['name'].lower().startswith('aluminium, extrusion')][0]\n",
    "print(alu.as_dict()['id'])\n",
    "alu.as_dict()"
   ]
  },
  {
   "cell_type": "code",
   "execution_count": null,
   "id": "8e2cb052-b6c0-4ed0-9964-49350b7a93e2",
   "metadata": {},
   "outputs": [],
   "source": [
    "functional_unit = {alu : 5}"
   ]
  },
  {
   "cell_type": "code",
   "execution_count": null,
   "id": "d1b2762a-0365-44dd-9d1d-549a1101a1a9",
   "metadata": {},
   "outputs": [],
   "source": [
    "type(functional_unit)"
   ]
  },
  {
   "cell_type": "markdown",
   "id": "1d412bb2-2a5e-427f-b577-51fbbbf06f33",
   "metadata": {},
   "source": [
    "#### Run the LCA!"
   ]
  },
  {
   "cell_type": "code",
   "execution_count": null,
   "id": "968e52aa-14cb-4108-89fc-6e3b70b24426",
   "metadata": {},
   "outputs": [],
   "source": [
    "lca = bc.LCA(functional_unit, method_key) "
   ]
  },
  {
   "cell_type": "code",
   "execution_count": null,
   "id": "e9731970-c341-422e-a0ab-518fea46ce04",
   "metadata": {},
   "outputs": [],
   "source": [
    "#bc.LeastSquaresLCA(lca)"
   ]
  },
  {
   "cell_type": "code",
   "execution_count": null,
   "id": "a5ea540a-1d60-4699-9a71-97acbf60ef31",
   "metadata": {},
   "outputs": [],
   "source": [
    "lca.lci() \n",
    "lca.lcia()\n",
    "lca.score\n",
    "print(lca.inventory)"
   ]
  },
  {
   "cell_type": "code",
   "execution_count": null,
   "id": "e0ee128e-026f-4059-bc34-8745805a1262",
   "metadata": {},
   "outputs": [],
   "source": [
    "962 - 601"
   ]
  },
  {
   "cell_type": "markdown",
   "id": "0638cb13-ac8c-47ee-bd4b-e5589b52a629",
   "metadata": {},
   "source": [
    "## "
   ]
  },
  {
   "cell_type": "code",
   "execution_count": null,
   "id": "c6b1f045-fdf6-462d-b069-5059c810cfee",
   "metadata": {},
   "outputs": [],
   "source": [
    "n_process = len([act for act in db if act['type'] == 'process'])\n",
    "n_process"
   ]
  },
  {
   "cell_type": "code",
   "execution_count": null,
   "id": "23ba4d92-a0b6-4615-8ef5-c219202b48f1",
   "metadata": {},
   "outputs": [],
   "source": [
    "n_prod = len([act for act in db if act['type'] == 'product'])\n",
    "n_prod"
   ]
  },
  {
   "cell_type": "code",
   "execution_count": null,
   "id": "35460a3e-3132-4529-8c3e-332c66bc7e00",
   "metadata": {},
   "outputs": [],
   "source": [
    "techno_shape = lca.technosphere_matrix.todense().shape\n",
    "techno_shape[0]"
   ]
  },
  {
   "cell_type": "code",
   "execution_count": null,
   "id": "76cf864b-5e73-4a20-88e4-b5faf7eb6ff9",
   "metadata": {},
   "outputs": [],
   "source": [
    "print('We have a total of {} products, {} processes, and the technosphere has {} product in it.\\nWhat are those {} extra products in the matrix?\\nWhat are the {} excluded then?'.format(n_prod, n_process, techno_shape[0], techno_shape[0]-n_process, n_prod-techno_shape[0]))"
   ]
  },
  {
   "cell_type": "markdown",
   "id": "43aafee2-6743-4505-a2e9-c046bb1c24cb",
   "metadata": {},
   "source": [
    "Ok... I think those are the products that don't have a process related to it... these could be waste technosphere flows. Let's check it out."
   ]
  },
  {
   "cell_type": "code",
   "execution_count": null,
   "id": "f49b8b0e-8828-4c48-9edc-dfa396a537ed",
   "metadata": {},
   "outputs": [],
   "source": [
    "prod_count = 0\n",
    "waste_count = 0\n",
    "techno_count = 0\n",
    "type_list = []\n",
    "for act in db:\n",
    "    if act['type'] == 'process':\n",
    "        for exc in act.exchanges():\n",
    "            type_list.append(exc['type'])"
   ]
  },
  {
   "cell_type": "code",
   "execution_count": null,
   "id": "fc2c833f-9ae0-4840-b360-6effbca083d1",
   "metadata": {},
   "outputs": [],
   "source": [
    "len(type_list)"
   ]
  },
  {
   "cell_type": "code",
   "execution_count": null,
   "id": "ec3b0803-cba1-4f94-92ca-5a4ccf720353",
   "metadata": {},
   "outputs": [],
   "source": [
    "type_set = set(type_list)"
   ]
  },
  {
   "cell_type": "code",
   "execution_count": null,
   "id": "b60129b4-596f-4606-9d70-5f16fee051ea",
   "metadata": {},
   "outputs": [],
   "source": [
    "type_set"
   ]
  },
  {
   "cell_type": "code",
   "execution_count": null,
   "id": "96a40bfa-ab07-448e-8372-fa46c29422f5",
   "metadata": {},
   "outputs": [],
   "source": [
    "pd.value_counts(np.array(type_list))"
   ]
  },
  {
   "cell_type": "markdown",
   "id": "5552afa3-cca5-4928-ade5-a14e7e6e4ec9",
   "metadata": {},
   "source": [
    "Are there processes without production?"
   ]
  },
  {
   "cell_type": "code",
   "execution_count": null,
   "id": "81284561-f660-4763-9b86-e8be2c07f961",
   "metadata": {},
   "outputs": [],
   "source": [
    "for act in db:\n",
    "    prod_counter = 0\n",
    "    for exc in act.exchanges():\n",
    "        if exc['type'] == 'production':\n",
    "            prod_counter += 1\n",
    "            \n",
    "            "
   ]
  },
  {
   "cell_type": "code",
   "execution_count": null,
   "id": "9e8eff25-34d4-444a-be5c-b94712eaec91",
   "metadata": {},
   "outputs": [],
   "source": [
    "listita = []\n",
    "for act in db:\n",
    "    if '.' in act['code']:\n",
    "        print(act['code'])\n",
    "        listita.append(act)"
   ]
  },
  {
   "cell_type": "code",
   "execution_count": null,
   "id": "ac8a959f-780e-48d0-9b1d-bf701a258e48",
   "metadata": {},
   "outputs": [],
   "source": [
    "[[act for act in db if act['code'] == '0e42a306-ee2d-362e-8bc3-580000096459.fa5304ba-de40-35cf-a5d6-3e09d9b79205'][0].exchanges()]"
   ]
  },
  {
   "cell_type": "code",
   "execution_count": null,
   "id": "46c1324e-9c1b-4005-85ef-c84b4c1e0929",
   "metadata": {},
   "outputs": [],
   "source": []
  }
 ],
 "metadata": {
  "kernelspec": {
   "display_name": "bw2_json",
   "language": "python",
   "name": "bw2_json"
  },
  "language_info": {
   "codemirror_mode": {
    "name": "ipython",
    "version": 3
   },
   "file_extension": ".py",
   "mimetype": "text/x-python",
   "name": "python",
   "nbconvert_exporter": "python",
   "pygments_lexer": "ipython3",
   "version": "3.10.4"
  }
 },
 "nbformat": 4,
 "nbformat_minor": 5
}

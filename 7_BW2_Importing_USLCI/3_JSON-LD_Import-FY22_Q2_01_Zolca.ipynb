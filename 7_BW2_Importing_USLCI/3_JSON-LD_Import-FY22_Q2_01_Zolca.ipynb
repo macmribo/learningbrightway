{
 "cells": [
  {
   "cell_type": "markdown",
   "id": "4254e86f-b36d-43e9-b9fa-6f3d359ac12b",
   "metadata": {},
   "source": [
    "# USLCI JSON-LD import"
   ]
  },
  {
   "cell_type": "markdown",
   "id": "573762a1-42ec-4884-a8f9-9448c0e24666",
   "metadata": {},
   "source": [
    "## 1. Import relevant packages"
   ]
  },
  {
   "cell_type": "code",
   "execution_count": 1,
   "id": "7aacaab7-a901-4f13-81ac-7e9cf5da1d65",
   "metadata": {},
   "outputs": [],
   "source": [
    "import bw2data as bd\n",
    "import bw2calc as bc\n",
    "import bw2io as bi\n",
    "import bw_processing # Not sure yet if I need this\n",
    "import bw_migrations # Not sure yet if I need this\n",
    "\n",
    "import os\n",
    "import numpy as np\n",
    "import pandas as pd"
   ]
  },
  {
   "cell_type": "markdown",
   "id": "390d96a0-3ebe-440d-96dc-add82582a977",
   "metadata": {},
   "source": [
    "## 2. Create/set the working folder:"
   ]
  },
  {
   "cell_type": "code",
   "execution_count": 2,
   "id": "8b7cfc5e-41dc-494c-ba61-f4942404be83",
   "metadata": {},
   "outputs": [
    {
     "data": {
      "text/plain": [
       "PosixPath('/Users/mmendez/Library/Application Support/Brightway3/default.c21f969b5f03d33d43e04f8f136e7682')"
      ]
     },
     "execution_count": 2,
     "metadata": {},
     "output_type": "execute_result"
    }
   ],
   "source": [
    "bd.projects.dir"
   ]
  },
  {
   "cell_type": "code",
   "execution_count": 3,
   "id": "fcd7f96b-e785-4bd6-8bf7-32c1decc40f5",
   "metadata": {},
   "outputs": [],
   "source": [
    "bd.projects.set_current('USLCI_FY22_Q2_2')"
   ]
  },
  {
   "cell_type": "markdown",
   "id": "3044406b-e0c2-43d3-a934-55ebc6cb4c37",
   "metadata": {},
   "source": [
    "## 3. Import JSON-LD:"
   ]
  },
  {
   "cell_type": "code",
   "execution_count": 4,
   "id": "43704cad-6e84-4ffe-a133-d9b66e67a6a8",
   "metadata": {},
   "outputs": [],
   "source": [
    "path = '../7_BW2_Importing_USLCI/databases/FY22_Q2_01_Zolca_LCIA_methods_mapping_FEDEFL_3'\n",
    "uslci = bi.importers.JSONLDImporter(\n",
    "    path, \n",
    "    \"USLCI_FY22_Q2_1\", \n",
    "    preferred_allocation=\"PHYSICAL_ALLOCATION\" # Most USLCI allocations are based on physical allocations (source: Rebe Feraldi)\n",
    ")"
   ]
  },
  {
   "cell_type": "markdown",
   "id": "ef800001-1c24-429d-acb4-d79ae133681c",
   "metadata": {},
   "source": [
    "### 3.1 Debuggin the processes that have AvoidedProduct = True and input = True"
   ]
  },
  {
   "cell_type": "markdown",
   "id": "f0b2eaa7-0168-46c2-bcbb-1345cdf4723c",
   "metadata": {},
   "source": [
    "OpenLCI sets avoided products (AvoidedProducts = True) as inputs (input = True) and they are always outputs. This issue gives an error while applying strategies `apply_strategies()`, specifically it gives the error using the function `json_ld_label_exchange_type`, this is fixed in cell [7]."
   ]
  },
  {
   "cell_type": "code",
   "execution_count": 5,
   "id": "f4772d06-1492-4799-80cf-1c8f10e11f75",
   "metadata": {},
   "outputs": [
    {
     "data": {
      "text/plain": [
       "dict_keys(['lcia_methods', 'currencies', 'lcia_categories', 'processes', 'dq_systems', 'locations', 'actors', 'flow_properties', 'sources', 'unit_groups', 'categories', 'flows'])"
      ]
     },
     "execution_count": 5,
     "metadata": {},
     "output_type": "execute_result"
    }
   ],
   "source": [
    "uslci.data.keys()\n",
    "\n",
    "#[e for e in uslci.data if e['name'] == 'Electricity, at eGrid, SRVC, 2010'][0]"
   ]
  },
  {
   "cell_type": "code",
   "execution_count": 6,
   "id": "7eb0cef0-a180-4511-a64d-c947e219aa90",
   "metadata": {},
   "outputs": [
    {
     "name": "stdout",
     "output_type": "stream",
     "text": [
      "1 Natural gas, combusted in industrial boiler\n"
     ]
    }
   ],
   "source": [
    "for i, l in enumerate(uslci.data['processes']['2a78de43-fdf2-4c5f-b527-89db6568ace8']['exchanges'][:2]):\n",
    "    if l['avoidedProduct'] == True:\n",
    "        print(i, l['flow']['name'])\n",
    "        l['input'] = False\n",
    "        uslci.data['processes']['2a78de43-fdf2-4c5f-b527-89db6568ace8']['exchanges'][i] = l"
   ]
  },
  {
   "cell_type": "code",
   "execution_count": 7,
   "id": "99f05a39-f2f6-4454-968c-69dc16527c0e",
   "metadata": {},
   "outputs": [
    {
     "name": "stdout",
     "output_type": "stream",
     "text": [
      "True Natural gas, at processing, composite, kg\n",
      "True Natural gas, combusted in industrial boiler\n",
      "True Residual fuel oil, combusted in industrial boiler\n",
      "True Natural gas, combusted in industrial boiler\n",
      "True Residual fuel oil, combusted in industrial boiler\n",
      "True Natural gas, combusted in industrial boiler\n",
      "True Natural gas, combusted in industrial boiler\n",
      "True Natural gas, combusted in industrial boiler\n",
      "True Natural gas, combusted in industrial boiler\n",
      "True Sold electricity, from industry-average containerboard\n",
      "True Tall oil, from industry-average containerboard\n",
      "True Turpentine, from industry-average containerboard\n",
      "True Natural gas, combusted in industrial boiler\n"
     ]
    }
   ],
   "source": [
    "for process_key, process_values in uslci.data['processes'].items():\n",
    "    for i, exchange in enumerate(process_values['exchanges']):\n",
    "        if (exchange['avoidedProduct'] == True) & (exchange['input'] == True):\n",
    "            print(exchange['input'], exchange['flow']['name'])\n",
    "            exchange['input'] = False\n",
    "            uslci.data['processes'][process_key]['exchanges'][i] = exchange"
   ]
  },
  {
   "cell_type": "markdown",
   "id": "890daaf6-ef24-45f0-8996-5355fc746f88",
   "metadata": {},
   "source": [
    "### 3.2. Checking the number of processes and flows in the USLCI"
   ]
  },
  {
   "cell_type": "markdown",
   "id": "09a265bc-11ed-459b-b149-ed9512f7e447",
   "metadata": {},
   "source": [
    "I use these cells to investigate and count flows and processes. I need to know how many processes, elemental, waste and production flows there are because even though I fixed the JSON-LD importer and managed to import USLCI and link the activities, it cannot run the LCA because the matrix is not square. There are 566 processes and 927 processes. I believe the extra processes are mislabeled flows."
   ]
  },
  {
   "cell_type": "code",
   "execution_count": 8,
   "id": "b79f1b09-a39a-45f1-a2da-6e9de2f72920",
   "metadata": {},
   "outputs": [
    {
     "data": {
      "text/plain": [
       "(454, 4168)"
      ]
     },
     "execution_count": 8,
     "metadata": {},
     "output_type": "execute_result"
    }
   ],
   "source": [
    "len(uslci.data['processes']), len(uslci.data['flows'])\n"
   ]
  },
  {
   "cell_type": "code",
   "execution_count": 9,
   "id": "429e9c2c-2e81-4691-b874-7e69c9b76aaa",
   "metadata": {},
   "outputs": [
    {
     "name": "stdout",
     "output_type": "stream",
     "text": [
      "There are 454 products\n"
     ]
    }
   ],
   "source": [
    "total_prod =0\n",
    "for process_key, process_values in uslci.data['processes'].items():\n",
    "    prod_n = 0\n",
    "    for i, exc in enumerate(process_values['exchanges']):\n",
    "        if (exc[\"flow\"][\"flowType\"] == \"PRODUCT_FLOW\") & (~exc[\"input\"]) & (exc.get('quantitativeReference') is True):\n",
    "            prod_n += 1\n",
    "    if prod_n > 1:\n",
    "        print('{} has {} products'.format(process_values['name'], prod_n))\n",
    "    total_prod += prod_n\n",
    "\n",
    "    #print('{} has {} products'.format(process_values['name'], prod_n))\n",
    "print('There are {} products'.format(total_prod))"
   ]
  },
  {
   "cell_type": "markdown",
   "id": "ce73535e-94a5-432b-b829-8e5101afeee8",
   "metadata": {},
   "source": [
    "##### So, according to this, we have 454 products and productions. So the matrix should be square! Brightway is adding more production flows than it should. Let us fix that! I am suspecting the dummy flows are the issue. Also, it seems like waste flows are labeled as production."
   ]
  },
  {
   "cell_type": "markdown",
   "id": "f0e70f55-e225-43c5-bf70-6483611442d6",
   "metadata": {},
   "source": [
    "Now let's check how many processes has waste as output:"
   ]
  },
  {
   "cell_type": "code",
   "execution_count": 10,
   "id": "e77cddfd-c790-4cfd-9430-cdfbddd60b19",
   "metadata": {},
   "outputs": [
    {
     "name": "stdout",
     "output_type": "stream",
     "text": [
      "Natural gas, at extraction, coal bed methane, kg has 1 output waste flows.\n",
      "Natural soda ash (Sodium carbonate), at plant has 4 output waste flows.\n",
      "Polyethylene, high density, HDPE, virgin resin, at plant has 7 output waste flows.\n",
      "Asphalt binder, 0.5% polyphosphoric acid (PPA), consumption mix, at terminal, from crude oil, 0.5% polyphosphoric acid has 10 output waste flows.\n",
      "Ethylene glycol, materials production, organic compound, at plant, kg has 4 output waste flows.\n",
      "Aluminum, cold rolling, at plant has 11 output waste flows.\n",
      "Polypropylene, PP, virgin resin, at plant has 5 output waste flows.\n",
      "Sodium hydroxide; chlor-alkali average, membrane cell; at plant; 50% solution state has 1 output waste flows.\n",
      "Steel, stainless 304, scrap has 10 output waste flows.\n",
      "Aluminum, hot rolling, at plant has 10 output waste flows.\n",
      "Propylene, materials production, organic compound, at plant, kg has 6 output waste flows.\n",
      "Steel, stainless 304, flat rolled coil has 10 output waste flows.\n",
      "Ethylene, materials production, organic compound, at plant, kg has 6 output waste flows.\n",
      "Natural gas, at extraction, Marcellus Shale, kg has 1 output waste flows.\n",
      "Corn steep liquor has 2 output waste flows.\n",
      "Polyethylene, low-density, LDPE, virgin resin, at plant has 6 output waste flows.\n",
      "Asphalt binder, 8% ground rubber tire (GRT), consumption mix, at terminal, from crude oil, 8% ground rubber tire has 10 output waste flows.\n",
      "Aluminum, extrusion, at plant has 9 output waste flows.\n",
      "Steel, stainless 304, quarto plate has 10 output waste flows.\n",
      "Aluminum, primary ingot, at plant has 8 output waste flows.\n",
      "Asphalt binder, 3.5% styrene-butadiene-styrene (SBS), consumption mix, at terminal, from crude oil, 3.5% styrene-butadiene-styrene has 10 output waste flows.\n",
      "Natural gas, at extraction, conventional offshore, kg has 1 output waste flows.\n",
      "Aluminum, secondary ingot, at plant has 9 output waste flows.\n",
      "Polystyrene, expanded, EPS, virgin resin; batch suspension polymerization; industry average, at plant has 6 output waste flows.\n",
      "Paraxylene, at plant, kg has 3 output waste flows.\n",
      "Natural gas, at extraction, Barnett Shale, kg has 1 output waste flows.\n",
      "Hydrogen, chlor-alkali average, membrane cell; at plant has 1 output waste flows.\n",
      "Natural gas, at extraction, conventional onshore, kg has 1 output waste flows.\n",
      "Asphalt binder, no additives, consumption mix, at terminal, from crude oil has 10 output waste flows.\n",
      "There are 29 processes that have waste as outputs.\n"
     ]
    }
   ],
   "source": [
    "process_n = 0\n",
    "for process_key, process_values in uslci.data['processes'].items():\n",
    "    prod_n = 0\n",
    "    for i, exc in enumerate(process_values['exchanges']):\n",
    "        if (exc[\"flow\"][\"flowType\"] == \"WASTE_FLOW\") & (~exc[\"input\"]):\n",
    "            prod_n += 1\n",
    "    if prod_n > 0:\n",
    "        process_n += 1\n",
    "        print('{} has {} output waste flows.'.format(process_values['name'], prod_n))\n",
    "print('There are {} processes that have waste as outputs.'.format(process_n))"
   ]
  },
  {
   "cell_type": "markdown",
   "id": "33205481-8c34-421f-b9c1-63299c59654c",
   "metadata": {},
   "source": [
    "Not necessary but let's check how many processes has waste as input:"
   ]
  },
  {
   "cell_type": "code",
   "execution_count": 11,
   "id": "dd1fecbc-1a92-4c12-8ffd-5ea5b68b0652",
   "metadata": {},
   "outputs": [
    {
     "name": "stdout",
     "output_type": "stream",
     "text": [
      "Asphalt binder, 8% ground rubber tire (GRT), consumption mix, at terminal, from crude oil, 8% ground rubber tire has 1 input waste flows.\n",
      "Coil, coating, m2, at plant has 1 input waste flows.\n",
      "Metal panel, insulated, at plant has 1 input waste flows.\n",
      "There are 3 processes that have waste as inputs.\n"
     ]
    }
   ],
   "source": [
    "process_n = 0\n",
    "for process_key, process_values in uslci.data['processes'].items():\n",
    "    prod_n = 0\n",
    "    for i, exc in enumerate(process_values['exchanges']):\n",
    "        if (exc[\"flow\"][\"flowType\"] == \"WASTE_FLOW\") & (exc[\"input\"]):\n",
    "            prod_n += 1\n",
    "    if prod_n > 0:\n",
    "        process_n += 1\n",
    "        print('{} has {} input waste flows.'.format(process_values['name'], prod_n))\n",
    "print('There are {} processes that have waste as inputs.'.format(process_n))"
   ]
  },
  {
   "cell_type": "markdown",
   "id": "87daae49-33da-4237-8075-f67c7a79e720",
   "metadata": {},
   "source": [
    "Is any of these flows labeled as quantitativeReference?"
   ]
  },
  {
   "cell_type": "code",
   "execution_count": 12,
   "id": "3d6c1ebf-10ab-4ef6-8952-895d4959b6b3",
   "metadata": {},
   "outputs": [
    {
     "name": "stdout",
     "output_type": "stream",
     "text": [
      "There are 0 waste flows as quantitativeReference\n"
     ]
    }
   ],
   "source": [
    "total_waste =0\n",
    "for process_key, process_values in uslci.data['processes'].items():\n",
    "    prod_n = 0\n",
    "    for i, exc in enumerate(process_values['exchanges']):\n",
    "        if (exc[\"flow\"][\"flowType\"] == \"WASTE_FLOW\") & (~exc[\"input\"]) & (exc.get('quantitativeReference') is True):\n",
    "            prod_n += 1\n",
    "    if prod_n > 0:\n",
    "        print('{} has {} waste flows'.format(process_values['name'], prod_n))\n",
    "    total_waste += prod_n\n",
    "\n",
    "    #print('{} has {} products'.format(process_values['name'], prod_n))\n",
    "print('There are {} waste flows as quantitativeReference'.format(total_waste))"
   ]
  },
  {
   "cell_type": "markdown",
   "id": "cbba4509-1d87-45ee-8594-4e29eee007b4",
   "metadata": {},
   "source": [
    "No, awesome! Let's check how many flows are biosphere:"
   ]
  },
  {
   "cell_type": "code",
   "execution_count": 13,
   "id": "6c2d062d-73d9-4a07-8978-aeb909423626",
   "metadata": {},
   "outputs": [
    {
     "name": "stdout",
     "output_type": "stream",
     "text": [
      "There are 2879 elementary flows in total\n"
     ]
    }
   ],
   "source": [
    "elem_n = 0\n",
    "for key, values in uslci.data['flows'].items():\n",
    "    if values['flowType'] == 'ELEMENTARY_FLOW':\n",
    "        elem_n += 1\n",
    "print('There are {} elementary flows in total'.format(elem_n))"
   ]
  },
  {
   "cell_type": "markdown",
   "id": "30e5eed4-bac2-42a3-a952-493303b548c9",
   "metadata": {},
   "source": [
    "I think I need to look at the Brightway imported file and check how many processes have more than 1 production flows and which are these processes. Keep running these cells and I will see you back in section ADD SECTION"
   ]
  },
  {
   "cell_type": "markdown",
   "id": "7eae2d44-3355-444f-9744-7fe7f5253128",
   "metadata": {},
   "source": [
    "## 4. Apply strategies to map JSON-LD to Brightway2 schema:"
   ]
  },
  {
   "cell_type": "markdown",
   "id": "13e4dae0-fa85-45ed-a7f0-59509fcd816f",
   "metadata": {},
   "source": [
    "These strategies adapts the JSON-LD schema with the Brightway2 schema."
   ]
  },
  {
   "cell_type": "code",
   "execution_count": 14,
   "id": "9ff2d6ff-1fd7-491f-816a-fd4ee70ddabb",
   "metadata": {},
   "outputs": [
    {
     "name": "stdout",
     "output_type": "stream",
     "text": [
      "Applying strategy: json_ld_allocate_datasets\n",
      "Applying strategy: json_ld_get_normalized_exchange_locations\n",
      "Applying strategy: json_ld_convert_unit_to_reference_unit\n",
      "Applying strategy: json_ld_get_activities_list_from_rawdata\n",
      "Applying strategy: json_ld_add_products_as_activities\n",
      "Applying strategy: json_ld_get_normalized_exchange_units\n",
      "Applying strategy: json_ld_add_activity_unit\n",
      "Applying strategy: json_ld_rename_metadata_fields\n",
      "Applying strategy: json_ld_location_name\n",
      "Applying strategy: json_ld_remove_fields\n",
      "Applying strategy: json_ld_fix_process_type\n",
      "Applying strategy: json_ld_label_exchange_type\n",
      "Applying strategy: json_ld_prepare_exchange_fields_for_linking\n",
      "Applying strategy: add_database_name\n",
      "Applying strategy: link_iterable_by_fields\n",
      "Applying strategy: link_iterable_by_fields\n",
      "Applying strategy: normalize_units\n",
      "Applied 17 strategies in 5.89 seconds\n",
      "\n",
      "\tCreated 2879 biosphere flows in separate database 'USLCI_FY22_Q2_1 biosphere'.\n",
      "\tUse either `.merge_biosphere_flows()` or `.write_separate_biosphere_database()` to write these flows.\n"
     ]
    }
   ],
   "source": [
    "uslci.apply_strategies()"
   ]
  },
  {
   "cell_type": "markdown",
   "id": "c9549bf6-ec02-4ad2-a5f0-2c2256594fab",
   "metadata": {},
   "source": [
    "### 4.1. I did some debugging in the background..."
   ]
  },
  {
   "cell_type": "markdown",
   "id": "4dce842b-7c0c-48a3-bc22-ed16be8fedda",
   "metadata": {
    "tags": []
   },
   "source": [
    "What a beautiful feeling, all strategies were applied with no issues. I had to fix certain bugs mostly:\n",
    "\n",
    "- `Applying strategy: json_ld_location_name`, error `KeyError: ['location']`, not all processes have locations, since Brightway2 requires locations it throws an error because it does not find the needed key. I identified these processes and set the location 'Northern America'. This might not be the right solution since it requires changing the database. I will contact Rebe Feraldi and inquiry about some of the processes not having location. It might be wiser to change the BW2 code so it does not require location.\n",
    "- `Applying strategy: json_ld_location_name`, There was also a weird bug, where some of the locations were set as `None` and the \n",
    "- `Applying strategy: json_ld_add_activity_unit`, throws an error `AssertionError: Failed allocation`. This function identifies `PRODUCT_FLOW` in the outputs so it can get the units of the reference flow, however, there are processes with more than one `PRODUCT_FLOW`. I think what it is forcing is to have one as the \"reference flow\" thus it might be confusing reference flow with production flow. I changed the code increasing the `if` statement adding `quantitativeReference`, so it knows that which flow is the reference product to 'borrow' its units. The fix: added `& (exc.get('quantitativeReference') is True`.\n",
    "- `Applying strategy: json_ld_label_exchange_type`, gives me `ValueError: Avoided products are outputs, not inputs.` while applying strategy json_ld_label_exchange_type (solved in section 3.1).This error comes up again, because\n",
    "- `Applying strategy: json_ld_label_exchange_type`, giver the error `ValueError: Inputs must be products`, this is not necessarily true, because there are some `WASTE_FLOWS` that are inputs, so I add `WASTE_FLOWS` to be technosphere inputs!"
   ]
  },
  {
   "cell_type": "markdown",
   "id": "bd511fbe-e29f-4884-97b0-39b70c94b1a4",
   "metadata": {},
   "source": [
    "### 4.2. Create dummy processes to link processes"
   ]
  },
  {
   "cell_type": "markdown",
   "id": "ae55edaf-cce8-450d-87fe-5a43d22f49bb",
   "metadata": {},
   "source": [
    "Now let's check some statistics, what we mostly care about is that everything is linked!"
   ]
  },
  {
   "cell_type": "code",
   "execution_count": 15,
   "id": "49176714-6ef9-4d7a-a0c3-8761f2fd90e5",
   "metadata": {},
   "outputs": [
    {
     "name": "stdout",
     "output_type": "stream",
     "text": [
      "1802 datasets\n",
      "52409 exchanges\n",
      "488 unlinked exchanges\n",
      "  Type production: 29 unique unlinked exchanges\n",
      "  Type substitution: 6 unique unlinked exchanges\n",
      "  Type technosphere: 2 unique unlinked exchanges\n"
     ]
    },
    {
     "data": {
      "text/plain": [
       "(1802, 52409, 488)"
      ]
     },
     "execution_count": 15,
     "metadata": {},
     "output_type": "execute_result"
    }
   ],
   "source": [
    "uslci.statistics()"
   ]
  },
  {
   "cell_type": "markdown",
   "id": "6e9b2c0e-dddc-4167-9246-dc47e461f8e4",
   "metadata": {},
   "source": [
    "This is expected, there are certain exchanges unlinked because the are production flows that go nowhere. Only emissions and resources are entitled to do this. So, what do we do? We assign dummy processes. There is a function in the brightway-io package, but I had to tweak it to make it work (`if \"input\" not in exc or \"amount\" not in exc:` added because it was throwing me a weird error). After fixing it, let's apply the dummy-maker strategy:"
   ]
  },
  {
   "cell_type": "code",
   "execution_count": 16,
   "id": "f4da65d1-a5cb-48ea-984e-1be45f9f4906",
   "metadata": {},
   "outputs": [
    {
     "name": "stdout",
     "output_type": "stream",
     "text": [
      "Applying strategy: add_dummy_processes_and_rename_exchanges\n"
     ]
    }
   ],
   "source": [
    "uslci.apply_strategy(bi.strategies.special.add_dummy_processes_and_rename_exchanges)"
   ]
  },
  {
   "cell_type": "markdown",
   "id": "e8956a27-16b6-4190-ae3c-0b7dabe3fb9a",
   "metadata": {},
   "source": [
    "Let's apply the statistics again and...uslci.statistics()"
   ]
  },
  {
   "cell_type": "code",
   "execution_count": 17,
   "id": "b9fb3678-d6f2-41b0-b146-fad418b72448",
   "metadata": {},
   "outputs": [
    {
     "name": "stdout",
     "output_type": "stream",
     "text": [
      "1803 datasets\n",
      "52410 exchanges\n",
      "0 unlinked exchanges\n",
      "  \n"
     ]
    },
    {
     "data": {
      "text/plain": [
       "(1803, 52410, 0)"
      ]
     },
     "execution_count": 17,
     "metadata": {},
     "output_type": "execute_result"
    }
   ],
   "source": [
    "uslci.statistics()"
   ]
  },
  {
   "cell_type": "markdown",
   "id": "83fb6651-9e0a-44b9-b8f0-4ca5454bee63",
   "metadata": {},
   "source": [
    "Boom! No unlinked exchanges."
   ]
  },
  {
   "cell_type": "markdown",
   "id": "bab42612-f0df-422f-8016-954654193bf2",
   "metadata": {},
   "source": [
    "## 5. Writing and saving the database"
   ]
  },
  {
   "cell_type": "markdown",
   "id": "093559da-372b-415c-a010-d84a1b7d1f36",
   "metadata": {},
   "source": [
    "### 5.1. Check database dictionaries:"
   ]
  },
  {
   "cell_type": "markdown",
   "id": "b819ee04-58bd-4ffc-97d0-e30fe8118071",
   "metadata": {},
   "source": [
    "Now that we have uploaded the USLCI database, let's write the databases dictionary. If you paid attention, after applying the strategies, there is a message at the end of the output that reads the following:\n",
    "\n",
    "```\n",
    "Created 2879 biosphere flows in separate database 'USLCI_FY22_Q2_1 biosphere'.\n",
    "Use either `.merge_biosphere_flows()` or `.write_separate_biosphere_database()` to write these flows.\n",
    "```\n",
    "\n",
    "This means that it has splitted the USLCI into a different database. This is because it will use this database to generate the biosphere matrix. It also makes easier to query processes and flows.\n",
    "You can check which databases are within the project using `bd.databases`. If this is the first time you run this code, there should be 0 objects in the database dictionary, if there are already written databases."
   ]
  },
  {
   "cell_type": "code",
   "execution_count": 18,
   "id": "36214144-eee6-480b-bfe3-97b24f222299",
   "metadata": {},
   "outputs": [
    {
     "data": {
      "text/plain": [
       "Databases dictionary with 0 objects"
      ]
     },
     "execution_count": 18,
     "metadata": {},
     "output_type": "execute_result"
    }
   ],
   "source": [
    "bd.databases # If this is the first time you run this code, there should be 0 objects in the database dictionary:"
   ]
  },
  {
   "cell_type": "markdown",
   "id": "a1d0bd09-018b-40ef-9096-f2c90f5aa035",
   "metadata": {},
   "source": [
    "Let's fill out our project folder with some databases!"
   ]
  },
  {
   "cell_type": "markdown",
   "id": "e38dd1e2-b4e6-4ec4-8821-bdd84b7a5ce8",
   "metadata": {},
   "source": [
    "#### 5.1.1. Write the biosphere database:"
   ]
  },
  {
   "cell_type": "code",
   "execution_count": 19,
   "id": "0344aa06-b2b7-4223-9d9e-7eaefd3487be",
   "metadata": {},
   "outputs": [
    {
     "name": "stderr",
     "output_type": "stream",
     "text": [
      "Writing activities to SQLite3 database:\n",
      "0% [##############################] 100% | ETA: 00:00:00\n",
      "Total time elapsed: 00:00:00\n"
     ]
    },
    {
     "name": "stdout",
     "output_type": "stream",
     "text": [
      "Title: Writing activities to SQLite3 database:\n",
      "  Started: 09/19/2022 15:39:07\n",
      "  Finished: 09/19/2022 15:39:07\n",
      "  Total time elapsed: 00:00:00\n",
      "  CPU %: 2.40\n",
      "  Memory %: 1.58\n",
      "Created database: USLCI_FY22_Q2_1 biosphere\n"
     ]
    }
   ],
   "source": [
    "uslci.write_separate_biosphere_database()"
   ]
  },
  {
   "cell_type": "markdown",
   "id": "09632994-00d1-4acc-90ab-2cc67c26291b",
   "metadata": {},
   "source": [
    "#### 5.1.2.Write the technosphere database:"
   ]
  },
  {
   "cell_type": "code",
   "execution_count": 20,
   "id": "8aa8c0f0-9124-4169-b33f-0266cb00a32e",
   "metadata": {},
   "outputs": [
    {
     "name": "stderr",
     "output_type": "stream",
     "text": [
      "Writing activities to SQLite3 database:\n"
     ]
    },
    {
     "name": "stdout",
     "output_type": "stream",
     "text": [
      "Not able to determine geocollections for all datasets. This database is not ready for regionalization.\n"
     ]
    },
    {
     "name": "stderr",
     "output_type": "stream",
     "text": [
      "0% [##############################] 100% | ETA: 00:00:00\n",
      "Total time elapsed: 00:00:02\n"
     ]
    },
    {
     "name": "stdout",
     "output_type": "stream",
     "text": [
      "Title: Writing activities to SQLite3 database:\n",
      "  Started: 09/19/2022 15:39:16\n",
      "  Finished: 09/19/2022 15:39:18\n",
      "  Total time elapsed: 00:00:02\n",
      "  CPU %: 2.20\n",
      "  Memory %: 1.59\n",
      "Created database: USLCI_FY22_Q2_1\n"
     ]
    },
    {
     "data": {
      "text/plain": [
       "Brightway2 SQLiteBackend: USLCI_FY22_Q2_1"
      ]
     },
     "execution_count": 20,
     "metadata": {},
     "output_type": "execute_result"
    }
   ],
   "source": [
    "uslci.write_database()"
   ]
  },
  {
   "cell_type": "markdown",
   "id": "50c24d76-8167-4fd4-942e-308de612f4e1",
   "metadata": {},
   "source": [
    "<div class=\"alert alert-block alert-warning\">\n",
    "<b>To fix:</b>\n",
    "<code>\n",
    "Not able to determine geocollections for all datasets. This database is not ready for regionalization.\n",
    "</code>\n",
    "Indicates that the locations given are not within the brightway2 geocollections. This is a problem for future Mac, but it needs to be fixed, probably by mapping the location names properly with brightway location dictionary.\n",
    "</div>"
   ]
  },
  {
   "cell_type": "markdown",
   "id": "833334eb-91f3-4fb8-b705-35b65a025a21",
   "metadata": {},
   "source": [
    "Now you should see the uploaded database dictionaries:"
   ]
  },
  {
   "cell_type": "code",
   "execution_count": 21,
   "id": "61f2db25-2f97-4519-9462-a68e3964bed7",
   "metadata": {},
   "outputs": [
    {
     "data": {
      "text/plain": [
       "Databases dictionary with 2 object(s):\n",
       "\tUSLCI_FY22_Q2_1\n",
       "\tUSLCI_FY22_Q2_1 biosphere"
      ]
     },
     "execution_count": 21,
     "metadata": {},
     "output_type": "execute_result"
    }
   ],
   "source": [
    "bd.databases"
   ]
  },
  {
   "cell_type": "markdown",
   "id": "549a4511-5f76-49fc-ae6d-d4914c3fa3a2",
   "metadata": {},
   "source": [
    "### 5.2. Saving the databases"
   ]
  },
  {
   "cell_type": "markdown",
   "id": "6ebf720d-dfc4-4676-9131-f77b2145fb96",
   "metadata": {},
   "source": [
    "Hoorraaay! Now let's be tidy and save them in variables for easy access:"
   ]
  },
  {
   "cell_type": "code",
   "execution_count": 22,
   "id": "f99da127-3472-4aef-8e5c-c0e37f253699",
   "metadata": {},
   "outputs": [],
   "source": [
    "bio = bd.Database('USLCI_FY22_Q2_1 biosphere')"
   ]
  },
  {
   "cell_type": "code",
   "execution_count": 23,
   "id": "bf8157d7-3a3e-4562-ac0f-050ce09020f9",
   "metadata": {},
   "outputs": [],
   "source": [
    "db = bd.Database('USLCI_FY22_Q2_1')"
   ]
  },
  {
   "cell_type": "markdown",
   "id": "c68dcb75-34f5-4939-be61-62409f9e3e73",
   "metadata": {},
   "source": [
    "### 5.3. Querying the databases"
   ]
  },
  {
   "cell_type": "markdown",
   "id": "d2cb49fb-41ef-4136-a3ba-b57b709c0b23",
   "metadata": {},
   "source": [
    "#### 5.3.1 Let's look at the biosphere database:"
   ]
  },
  {
   "cell_type": "markdown",
   "id": "f4d88048-8d11-4a57-be5e-1ac0c0d23d50",
   "metadata": {},
   "source": [
    "You can search activities using list comprehension:"
   ]
  },
  {
   "cell_type": "code",
   "execution_count": 24,
   "id": "1b3b6624-b289-47ce-a67f-1a23d81dd4c8",
   "metadata": {},
   "outputs": [],
   "source": [
    "carbon_query = [bio_flow for bio_flow in bio if bio_flow['name'].lower().startswith('carbon')] # Use .lower() to make it non-case sensitive\n",
    "carbon_query; # Remove ';' if you want to reveal the output!"
   ]
  },
  {
   "cell_type": "code",
   "execution_count": 25,
   "id": "9c895594-05a4-475a-906f-a701d8e52c87",
   "metadata": {},
   "outputs": [
    {
     "name": "stdout",
     "output_type": "stream",
     "text": [
      "There are 46 carbon-related flows!\n"
     ]
    }
   ],
   "source": [
    "print('There are {} carbon-related flows!'.format(len(carbon_query)))"
   ]
  },
  {
   "cell_type": "markdown",
   "id": "db82c620-55f0-4b6b-a741-8474999fef53",
   "metadata": {},
   "source": [
    "You can also use `.search()` to find the flow:"
   ]
  },
  {
   "cell_type": "code",
   "execution_count": 26,
   "id": "79af3b30-d95e-4e03-ab60-3950bb7ec0e9",
   "metadata": {},
   "outputs": [
    {
     "data": {
      "text/plain": [
       "['Carbon dioxide' (, None, ('Elementary Flows', 'emission', 'air', 'troposphere', 'very high')),\n",
       " 'Carbon dioxide' (, None, ('Elementary Flows', 'emission', 'air', 'troposphere', 'urban')),\n",
       " 'Carbon dioxide' (, None, ('Elementary Flows', 'resource', 'air')),\n",
       " 'Carbon dioxide' (, None, ('Elementary Flows', 'emission', 'ground')),\n",
       " 'Carbon dioxide' (, None, ('Elementary Flows', 'resource', 'air', 'troposphere')),\n",
       " 'Carbon dioxide' (, None, ('Elementary Flows', 'emission', 'air')),\n",
       " 'Carbon dioxide' (, None, ('Elementary Flows', 'emission', 'air', 'stratosphere')),\n",
       " 'Carbon dioxide' (, None, ('Elementary Flows', 'emission', 'air', 'troposphere', 'rural'))]"
      ]
     },
     "execution_count": 26,
     "metadata": {},
     "output_type": "execute_result"
    }
   ],
   "source": [
    "bio.search('carbon dioxide')"
   ]
  },
  {
   "cell_type": "markdown",
   "id": "d3f8a2b1-0f8e-470a-8c5c-970d1a617a6c",
   "metadata": {},
   "source": [
    "Let's refine our search and save one of these in a variable:"
   ]
  },
  {
   "cell_type": "code",
   "execution_count": 27,
   "id": "71c85551-9393-4c6c-bb07-855b337a29cc",
   "metadata": {},
   "outputs": [],
   "source": [
    "carboncete = [act for act in bio if 'Carbon dioxide' in act['name']\n",
    "                                            and 'Elementary Flows' in str(act['categories'])\n",
    "                                            and 'emission' in str(act['categories'])\n",
    "                                            and 'ground' in str(act['categories'])][0]"
   ]
  },
  {
   "cell_type": "markdown",
   "id": "04267c81-0bef-4205-bcb7-8c5db646b82f",
   "metadata": {},
   "source": [
    "#### 5.3.2. Now let's look at our technosphere database"
   ]
  },
  {
   "cell_type": "markdown",
   "id": "c0c0ae3a-3f80-4b20-bf6c-2705038bcac5",
   "metadata": {},
   "source": [
    "The technosphere database is composed of activities thaat can be processes (they have exchanges, input and output flows) and product flows (these can be outputs or inputs). Let's explore a different way to select an activity... let's say I am just testing and I just want a random activity. Can I do it? Selvfølgelig! Actio `.random()`!!"
   ]
  },
  {
   "cell_type": "code",
   "execution_count": 28,
   "id": "777bed4d-3294-4875-844b-a84281352f64",
   "metadata": {},
   "outputs": [
    {
     "data": {
      "text/plain": [
       "'Spring wheat straw, carted, 2022' (kilogram, Northern America, None)"
      ]
     },
     "execution_count": 28,
     "metadata": {},
     "output_type": "execute_result"
    }
   ],
   "source": [
    "random_act = db.random()\n",
    "random_act"
   ]
  },
  {
   "cell_type": "markdown",
   "id": "65ccb039-a878-4ab2-ab89-59b07b2facfe",
   "metadata": {},
   "source": [
    "Let's look at it with more intensity..."
   ]
  },
  {
   "cell_type": "code",
   "execution_count": 29,
   "id": "9dc2ded2-d365-4ff5-85b5-cbabb5d1245a",
   "metadata": {},
   "outputs": [],
   "source": [
    "random_act.as_dict();"
   ]
  },
  {
   "cell_type": "markdown",
   "id": "12b85932-6d26-4c0d-ac62-ca4b4eb09a87",
   "metadata": {},
   "source": [
    "Looking at this closely, you can see that there are no exchanges, this is because these are saved in a different location. Let's now look at a specific process:"
   ]
  },
  {
   "cell_type": "code",
   "execution_count": 30,
   "id": "9a441d39-019d-48a1-a9b8-4eca2ec7bcf5",
   "metadata": {},
   "outputs": [
    {
     "data": {
      "text/plain": [
       "['Corn, at field' (, Northern America, ('Technosphere Flows', '11: Agriculture, Forestry, Fishing and Hunting', '1111: Oilseed and Grain Farming')),\n",
       " 'Corn, production' (, Northern America, ('Technosphere Flows', '11: Agriculture, Forestry, Fishing and Hunting', '1111: Oilseed and Grain Farming')),\n",
       " 'Seed corn' (, None, ('Technosphere Flows', '11: Agriculture, Forestry, Fishing and Hunting', '1111: Oilseed and Grain Farming')),\n",
       " 'Corn, decomposition' (, Northern America, ('Technosphere Flows', '11: Agriculture, Forestry, Fishing and Hunting', '1111: Oilseed and Grain Farming')),\n",
       " 'Fertilizer, corn' (, Northern America, ('Technosphere Flows', '11: Agriculture, Forestry, Fishing and Hunting', '1151: Support Activities for Crop Production')),\n",
       " 'Pesticide, corn' (, Northern America, ('Technosphere Flows', '11: Agriculture, Forestry, Fishing and Hunting', '1151: Support Activities for Crop Production')),\n",
       " 'Corn steep liquor' (, Northern America, ('Technosphere Flows', '31-33: Manufacturing', '3112: Grain and Oilseed Milling')),\n",
       " 'Corn stover, production' (, Northern America, ('Technosphere Flows', '11: Agriculture, Forestry, Fishing and Hunting', '1111: Oilseed and Grain Farming')),\n",
       " 'Corn steep liquor' (kilogram, Northern America, None),\n",
       " 'Corn stover, carted' (, Northern America, ('Technosphere Flows', '11: Agriculture, Forestry, Fishing and Hunting', '1151: Support Activities for Crop Production')),\n",
       " 'Corn Starch, at plant' (, None, ('Technosphere Flows', 'CUTOFF Flows')),\n",
       " 'Corn stover, carted' (kilogram, Northern America, None),\n",
       " 'Corn stover, at field' (, Northern America, ('Technosphere Flows', '11: Agriculture, Forestry, Fishing and Hunting', '1111: Oilseed and Grain Farming')),\n",
       " 'Corn, whole plant, at field' (kilogram, Northern America, None),\n",
       " 'Tillage, conservation, corn production' (, Northern America, ('Technosphere Flows', '11: Agriculture, Forestry, Fishing and Hunting', '1151: Support Activities for Crop Production')),\n",
       " 'Corn, decomposition, 15.5% moisture' (kilogram, Northern America, None),\n",
       " 'Corn stover, at conversion plant' (, Northern America, ('Technosphere Flows', '48-49: Transportation and Warehousing', '4842: Specialized Freight Trucking')),\n",
       " 'Corn grain, harvested and stored' (kilogram, Northern America, None),\n",
       " 'Harvest, corn, single pass' (square meter, Northern America, None),\n",
       " 'Tillage, reduce, corn production' (, Northern America, ('Technosphere Flows', '11: Agriculture, Forestry, Fishing and Hunting', '1151: Support Activities for Crop Production')),\n",
       " 'Harvest, corn, single pass' (, Northern America, ('Technosphere Flows', '11: Agriculture, Forestry, Fishing and Hunting', '1151: Support Activities for Crop Production')),\n",
       " 'Lime, agricultural, corn production' (, Northern America, ('Technosphere Flows', '11: Agriculture, Forestry, Fishing and Hunting', '1151: Support Activities for Crop Production')),\n",
       " 'Lime, agricultural, corn production' (square meter, Northern America, None),\n",
       " 'Tillage, intensive, corn production' (, Northern America, ('Technosphere Flows', '11: Agriculture, Forestry, Fishing and Hunting', '1151: Support Activities for Crop Production')),\n",
       " 'Corn, whole plant, at field' (kilogram, Northern America, None)]"
      ]
     },
     "execution_count": 30,
     "metadata": {},
     "output_type": "execute_result"
    }
   ],
   "source": [
    "db.search('corn')"
   ]
  },
  {
   "cell_type": "code",
   "execution_count": 31,
   "id": "d8ee6e4d-609a-4a66-a4ea-4af2c736db32",
   "metadata": {},
   "outputs": [
    {
     "data": {
      "text/plain": [
       "25"
      ]
     },
     "execution_count": 31,
     "metadata": {},
     "output_type": "execute_result"
    }
   ],
   "source": [
    "len(db.search('corn'))"
   ]
  },
  {
   "cell_type": "markdown",
   "id": "e82a1b26-0a1b-4cf2-9d0f-d732408575b3",
   "metadata": {},
   "source": [
    "You can also filter your search:"
   ]
  },
  {
   "cell_type": "code",
   "execution_count": 32,
   "id": "c285505b-9dae-42c4-a6ff-807eb90b1872",
   "metadata": {},
   "outputs": [
    {
     "name": "stdout",
     "output_type": "stream",
     "text": [
      "Excluding 18 filtered results\n"
     ]
    },
    {
     "data": {
      "text/plain": [
       "['Corn, at field' (, Northern America, ('Technosphere Flows', '11: Agriculture, Forestry, Fishing and Hunting', '1111: Oilseed and Grain Farming')),\n",
       " 'Corn, production' (, Northern America, ('Technosphere Flows', '11: Agriculture, Forestry, Fishing and Hunting', '1111: Oilseed and Grain Farming')),\n",
       " 'Seed corn' (, None, ('Technosphere Flows', '11: Agriculture, Forestry, Fishing and Hunting', '1111: Oilseed and Grain Farming')),\n",
       " 'Corn, decomposition' (, Northern America, ('Technosphere Flows', '11: Agriculture, Forestry, Fishing and Hunting', '1111: Oilseed and Grain Farming')),\n",
       " 'Fertilizer, corn' (, Northern America, ('Technosphere Flows', '11: Agriculture, Forestry, Fishing and Hunting', '1151: Support Activities for Crop Production')),\n",
       " 'Pesticide, corn' (, Northern America, ('Technosphere Flows', '11: Agriculture, Forestry, Fishing and Hunting', '1151: Support Activities for Crop Production')),\n",
       " 'Corn steep liquor' (, Northern America, ('Technosphere Flows', '31-33: Manufacturing', '3112: Grain and Oilseed Milling')),\n",
       " 'Corn stover, production' (, Northern America, ('Technosphere Flows', '11: Agriculture, Forestry, Fishing and Hunting', '1111: Oilseed and Grain Farming')),\n",
       " 'Corn stover, carted' (, Northern America, ('Technosphere Flows', '11: Agriculture, Forestry, Fishing and Hunting', '1151: Support Activities for Crop Production')),\n",
       " 'Corn Starch, at plant' (, None, ('Technosphere Flows', 'CUTOFF Flows')),\n",
       " 'Corn stover, at field' (, Northern America, ('Technosphere Flows', '11: Agriculture, Forestry, Fishing and Hunting', '1111: Oilseed and Grain Farming')),\n",
       " 'Tillage, conservation, corn production' (, Northern America, ('Technosphere Flows', '11: Agriculture, Forestry, Fishing and Hunting', '1151: Support Activities for Crop Production')),\n",
       " 'Corn stover, at conversion plant' (, Northern America, ('Technosphere Flows', '48-49: Transportation and Warehousing', '4842: Specialized Freight Trucking')),\n",
       " 'Tillage, reduce, corn production' (, Northern America, ('Technosphere Flows', '11: Agriculture, Forestry, Fishing and Hunting', '1151: Support Activities for Crop Production')),\n",
       " 'Harvest, corn, single pass' (, Northern America, ('Technosphere Flows', '11: Agriculture, Forestry, Fishing and Hunting', '1151: Support Activities for Crop Production')),\n",
       " 'Lime, agricultural, corn production' (, Northern America, ('Technosphere Flows', '11: Agriculture, Forestry, Fishing and Hunting', '1151: Support Activities for Crop Production')),\n",
       " 'Tillage, intensive, corn production' (, Northern America, ('Technosphere Flows', '11: Agriculture, Forestry, Fishing and Hunting', '1151: Support Activities for Crop Production')),\n",
       " 'Corn grain, harvested and stored' (, Northern America, ('Technosphere Flows', '11: Agriculture, Forestry, Fishing and Hunting', '1151: Support Activities for Crop Production')),\n",
       " 'Corn grain, at conversion plant' (, Northern America, ('Technosphere Flows', '48-49: Transportation and Warehousing', '4842: Specialized Freight Trucking')),\n",
       " 'Corn stover, ground and stored' (, Northern America, ('Technosphere Flows', '11: Agriculture, Forestry, Fishing and Hunting', '1151: Support Activities for Crop Production')),\n",
       " 'Ethanol, denatured, corn dry mill' (, Northern America, ('Technosphere Flows', '31-33: Manufacturing', '3251: Basic Chemical Manufacturing')),\n",
       " 'Ethanol, denatured, corn stover, biochemical' (, Northern America, ('Technosphere Flows', '31-33: Manufacturing', '3251: Basic Chemical Manufacturing')),\n",
       " 'Corn wet milling, operations, AP-42' (, Northern America, ('Technosphere Flows', '31-33: Manufacturing', '3112: Grain and Oilseed Milling')),\n",
       " 'Corn wet mill, gluten drying, AP-42' (, Northern America, ('Technosphere Flows', '31-33: Manufacturing', '3112: Grain and Oilseed Milling'))]"
      ]
     },
     "execution_count": 32,
     "metadata": {},
     "output_type": "execute_result"
    }
   ],
   "source": [
    "db.search('corn', filter={'categories': 'Technosphere'}) # Here I show the flows"
   ]
  },
  {
   "cell_type": "markdown",
   "id": "a7d3b0c6-3558-4185-a645-8e6dbde01b4f",
   "metadata": {},
   "source": [
    "You can also `mask`!"
   ]
  },
  {
   "cell_type": "code",
   "execution_count": 33,
   "id": "a7bdf23e-2a31-42df-8165-f5df0ca0fb51",
   "metadata": {},
   "outputs": [
    {
     "name": "stdout",
     "output_type": "stream",
     "text": [
      "Excluding 24 filtered results\n"
     ]
    },
    {
     "data": {
      "text/plain": [
       "['Corn steep liquor' (kilogram, Northern America, None),\n",
       " 'Corn stover, carted' (kilogram, Northern America, None),\n",
       " 'Corn, whole plant, at field' (kilogram, Northern America, None),\n",
       " 'Corn, decomposition, 15.5% moisture' (kilogram, Northern America, None),\n",
       " 'Corn grain, harvested and stored' (kilogram, Northern America, None),\n",
       " 'Harvest, corn, single pass' (square meter, Northern America, None),\n",
       " 'Lime, agricultural, corn production' (square meter, Northern America, None),\n",
       " 'Corn, whole plant, at field' (kilogram, Northern America, None),\n",
       " 'Tillage, intensive, corn production' (square meter, Northern America, None),\n",
       " 'Tillage, conservation, corn production' (square meter, Northern America, None),\n",
       " 'Corn, production, average, US, 2022' (kilogram, Northern America, None),\n",
       " 'Corn stover, ground and stored' (kilogram, Northern America, None),\n",
       " 'Corn grain, at conversion plant, 2022' (kilogram, Northern America, None),\n",
       " 'Corn stover, at conversion plant, 2022' (kilogram, Northern America, None),\n",
       " 'Ethanol, denatured, corn dry mill' (kilogram, Northern America, None),\n",
       " 'Ethanol, denatured, corn dry mill' (kilogram, Northern America, None),\n",
       " 'Corn stover, production, average, US, 2022' (kilogram, Northern America, None),\n",
       " 'Corn wet milling, operations, AP-42' (kilogram, Northern America, None)]"
      ]
     },
     "execution_count": 33,
     "metadata": {},
     "output_type": "execute_result"
    }
   ],
   "source": [
    "db.search('corn', mask={'categories': 'Technosphere'}) # Here I show the processes"
   ]
  },
  {
   "cell_type": "markdown",
   "id": "6a4b2e93-fe03-4fbf-8ca6-57562e22d4bd",
   "metadata": {},
   "source": [
    "It is also important to stress the importance of filtering, because the `search` function returns a maximum of 25 possible candidates. This is why I prefer list comprehension."
   ]
  },
  {
   "cell_type": "code",
   "execution_count": null,
   "id": "ea9ee2eb-60cf-4111-ac81-64ca1960e264",
   "metadata": {},
   "outputs": [],
   "source": []
  },
  {
   "cell_type": "code",
   "execution_count": null,
   "id": "3ab52cce-8f56-4136-9ada-1344d86e5cef",
   "metadata": {},
   "outputs": [],
   "source": []
  },
  {
   "cell_type": "markdown",
   "id": "a588418c-9bf5-4c67-bc88-1fa841898741",
   "metadata": {},
   "source": [
    "Weird, there are codes merged in one."
   ]
  },
  {
   "cell_type": "code",
   "execution_count": 34,
   "id": "92a9119f-4e45-42e1-a4b3-6c9aba22f96e",
   "metadata": {},
   "outputs": [
    {
     "data": {
      "text/plain": [
       "168"
      ]
     },
     "execution_count": 34,
     "metadata": {},
     "output_type": "execute_result"
    }
   ],
   "source": [
    "len([act['code'] for act in db if '.' in act['code']])"
   ]
  },
  {
   "cell_type": "code",
   "execution_count": 35,
   "id": "e9462744-ac1e-41e6-855f-b19342916749",
   "metadata": {},
   "outputs": [
    {
     "data": {
      "text/plain": [
       "1635"
      ]
     },
     "execution_count": 35,
     "metadata": {},
     "output_type": "execute_result"
    }
   ],
   "source": [
    "len([act['code'] for act in db if '.' not in act['code']])"
   ]
  },
  {
   "cell_type": "markdown",
   "id": "61d331ca-f3ce-4f0a-9760-a5c5357f0fcb",
   "metadata": {},
   "source": [
    "168 of them are behaving weird 1635 of them are normal. They did not drop many of the category names that are not necessary, on top of that, their code name is merges with a flow. Questions:\n",
    "- What do these processes have in common?\n",
    "- Why do they have double codes?\n",
    "- Why aren't they dropping come of the items?\n",
    "\n",
    "Let's start if all of them have `allocationFactors`"
   ]
  },
  {
   "cell_type": "code",
   "execution_count": 36,
   "id": "0c7bb69b-be85-41a6-9cc9-14e364c64c1f",
   "metadata": {},
   "outputs": [
    {
     "data": {
      "text/plain": [
       "168"
      ]
     },
     "execution_count": 36,
     "metadata": {},
     "output_type": "execute_result"
    }
   ],
   "source": [
    "len([act['allocationFactors'] for act in db if '.' in act['code']])"
   ]
  },
  {
   "cell_type": "markdown",
   "id": "4032e81e-ebe5-4941-88c0-fe4b621c0c65",
   "metadata": {},
   "source": [
    "All of these have allocationFactors. Sanity check!"
   ]
  },
  {
   "cell_type": "code",
   "execution_count": 37,
   "id": "e9d711eb-6b27-4c28-8cab-86bdc4b172c8",
   "metadata": {},
   "outputs": [
    {
     "data": {
      "text/plain": [
       "168"
      ]
     },
     "execution_count": 37,
     "metadata": {},
     "output_type": "execute_result"
    }
   ],
   "source": [
    "len([act for act in db if 'allocationFactors' in act])"
   ]
  },
  {
   "cell_type": "markdown",
   "id": "ca08d7d5-c7e5-412b-8269-ca1807a70e3f",
   "metadata": {},
   "source": [
    "Ok, so these weirdos are the ones that have the key `allocationFactor`"
   ]
  },
  {
   "cell_type": "markdown",
   "id": "0a24aa00-c7a3-45f1-b4f9-c698b88c645e",
   "metadata": {},
   "source": [
    "Here I filter for the processes that have more than 15 entries and do not have a '.' in the code. I want to check if these are normal processes and why do they have so many entries:"
   ]
  },
  {
   "cell_type": "code",
   "execution_count": 38,
   "id": "9f26409e-92a3-463c-b85f-1de899d3ccb1",
   "metadata": {},
   "outputs": [
    {
     "data": {
      "text/plain": [
       "1"
      ]
     },
     "execution_count": 38,
     "metadata": {},
     "output_type": "execute_result"
    }
   ],
   "source": [
    "len([act for act in db if len(act) > 15 and '.' not in act['code']])"
   ]
  },
  {
   "cell_type": "code",
   "execution_count": 39,
   "id": "5a9da187-5137-4f47-8753-3c176edc0bf0",
   "metadata": {},
   "outputs": [],
   "source": [
    "[act.as_dict() for act in db if len(act) > 15 and '.' not in act['code']];"
   ]
  },
  {
   "cell_type": "markdown",
   "id": "29d6ac2b-b44c-41de-8f3e-1c0f80f98447",
   "metadata": {},
   "source": [
    "Ok, these processes did not drop some of the entries... so something does not work in the JSON-LD importer, these processes are escaping the mapping for some reason. However, their code is normal."
   ]
  },
  {
   "cell_type": "code",
   "execution_count": 40,
   "id": "004599f3-27c6-46f7-8a83-7113402c634f",
   "metadata": {},
   "outputs": [
    {
     "data": {
      "text/plain": [
       "13"
      ]
     },
     "execution_count": 40,
     "metadata": {},
     "output_type": "execute_result"
    }
   ],
   "source": [
    "len([act.as_dict() for act in db if len(act) > 15])"
   ]
  },
  {
   "cell_type": "markdown",
   "id": "3de0461b-a186-4b01-81fd-220e577df9a9",
   "metadata": {},
   "source": [
    "198 processes have a looot of entries, the average entry number should be:"
   ]
  },
  {
   "cell_type": "code",
   "execution_count": 41,
   "id": "b726b826-5fd7-4aca-9ddf-f8e4ef3028b5",
   "metadata": {},
   "outputs": [
    {
     "data": {
      "text/plain": [
       "(8.0, 9.701053799223516, 2.5536797151386317)"
      ]
     },
     "execution_count": 41,
     "metadata": {},
     "output_type": "execute_result"
    }
   ],
   "source": [
    "np.median([len(act.as_dict()) for act in db]), np.mean([len(act.as_dict()) for act in db]), np.std([len(act.as_dict()) for act in db])"
   ]
  },
  {
   "cell_type": "markdown",
   "id": "4f2ccac0-faa0-4072-b907-b25aad5f88f6",
   "metadata": {},
   "source": [
    "10"
   ]
  },
  {
   "cell_type": "markdown",
   "id": "97b744d4-34cc-4fa6-99a7-beb47edbcf81",
   "metadata": {},
   "source": [
    "Let's be more specific:"
   ]
  },
  {
   "cell_type": "code",
   "execution_count": 42,
   "id": "5207187a-2769-44d7-98d8-294558710712",
   "metadata": {},
   "outputs": [
    {
     "name": "stdout",
     "output_type": "stream",
     "text": [
      "# of activities with 5 entries: 0\n",
      "# of activities with 6 entries: 0\n",
      "# of activities with 7 entries: 1\n",
      "# of activities with 8 entries: 1237\n",
      "# of activities with 9 entries: 0\n",
      "# of activities with 10 entries: 0\n",
      "# of activities with 11 entries: 0\n",
      "# of activities with 12 entries: 15\n",
      "# of activities with 13 entries: 352\n",
      "# of activities with 14 entries: 151\n",
      "# of activities with 15 entries: 34\n",
      "# of activities with 16 entries: 13\n",
      "# of activities with 17 entries: 0\n",
      "# of activities with 18 entries: 0\n"
     ]
    }
   ],
   "source": [
    "for entries in range(5, 19):\n",
    "    activities = len([act.as_dict() for act in db if len(act) == entries])\n",
    "    print('# of activities with {} entries: {}'.format(entries, activities))\n"
   ]
  },
  {
   "cell_type": "code",
   "execution_count": 88,
   "id": "51d7750e-aff2-4bb9-a6bc-07580c04a0bb",
   "metadata": {},
   "outputs": [],
   "source": [
    "entry_list = list([7, 8, 14, 15, 16])"
   ]
  },
  {
   "cell_type": "code",
   "execution_count": 89,
   "id": "8570a730-3477-4b2e-b7f4-c0e3ab128cce",
   "metadata": {},
   "outputs": [
    {
     "name": "stdout",
     "output_type": "stream",
     "text": [
      "There are \u001b[1m1\u001b[0m activities with \u001b[1m7\u001b[0m entries. Its keys are: dict_keys(['name', 'database', 'code', 'categories', 'location', 'type', 'id']). There are a total of \u001b[1m7\u001b[0m keys, of which \u001b[1m1\u001b[0m are processes.\n",
      "\n",
      "There are \u001b[1m1237\u001b[0m activities with \u001b[1m8\u001b[0m entries. Its keys are: dict_keys(['code', 'name', 'categories', 'location', 'unit', 'type', 'database', 'id']). There are a total of \u001b[1m8\u001b[0m keys, of which \u001b[1m0\u001b[0m are processes.\n",
      "\n",
      "There are \u001b[1m151\u001b[0m activities with \u001b[1m14\u001b[0m entries. Its keys are: dict_keys(['name', 'description', 'version', 'defaultAllocationMethod', 'location', 'allocationFactors', 'filename', 'code', 'unit', 'classifications', 'type', 'modified', 'database', 'id']). There are a total of \u001b[1m14\u001b[0m keys, of which \u001b[1m151\u001b[0m are processes.\n",
      "\n",
      "There are \u001b[1m34\u001b[0m activities with \u001b[1m15\u001b[0m entries. Its keys are: dict_keys(['name', 'description', 'version', 'defaultAllocationMethod', 'location', 'dqSystem', 'dqEntry', 'filename', 'unit', 'code', 'classifications', 'type', 'modified', 'database', 'id']). There are a total of \u001b[1m15\u001b[0m keys, of which \u001b[1m34\u001b[0m are processes.\n",
      "\n",
      "There are \u001b[1m13\u001b[0m activities with \u001b[1m16\u001b[0m entries. Its keys are: dict_keys(['name', 'description', 'version', 'defaultAllocationMethod', 'location', 'dqSystem', 'dqEntry', 'allocationFactors', 'filename', 'code', 'unit', 'classifications', 'type', 'modified', 'database', 'id']). There are a total of \u001b[1m16\u001b[0m keys, of which \u001b[1m13\u001b[0m are processes.\n",
      "\n"
     ]
    }
   ],
   "source": [
    "for i in entry_list:\n",
    "    activities = len([act.as_dict() for act in db if len(act) == i])\n",
    "    keys = [act.as_dict().keys() for act in db if len(act) == i][0]\n",
    "    processes = len([act.as_dict() for act in db if len(act) == i and act['type'] == 'process'])\n",
    "    len_keys = len(keys)\n",
    "    print('There are \\033[1m{}\\033[0m activities with \\033[1m{}\\033[0m entries. Its keys are: {}. There are a total of \\033[1m{}\\033[0m keys, of which \\033[1m{}\\033[0m are processes.\\n'.format(activities, i, keys, len_keys, processes))"
   ]
  },
  {
   "cell_type": "markdown",
   "id": "5553c165-9614-4c65-8f33-76371fb50836",
   "metadata": {},
   "source": [
    "Let's check out the 7 entry process, it does not have a unit... why?"
   ]
  },
  {
   "cell_type": "code",
   "execution_count": 50,
   "id": "0067bb5a-8217-4968-b7a4-31c1d91aeb6a",
   "metadata": {},
   "outputs": [],
   "source": [
    "[act.as_dict() for act in db if len(act) == 7]"
   ]
  },
  {
   "cell_type": "code",
   "execution_count": 54,
   "id": "0b0d275c-38f8-4091-9cad-eeb60d0607ae",
   "metadata": {},
   "outputs": [
    {
     "data": {
      "text/plain": [
       "'dummy' (None, GLO, ('dummy',))"
      ]
     },
     "execution_count": 54,
     "metadata": {},
     "output_type": "execute_result"
    }
   ],
   "source": [
    "dummy = [act for act in db if len(act) == 7][0]\n",
    "dummy"
   ]
  },
  {
   "cell_type": "code",
   "execution_count": 56,
   "id": "3d474a04-4591-481b-865b-899d1aff2e3b",
   "metadata": {},
   "outputs": [
    {
     "data": {
      "text/plain": [
       "[Exchange: 1 None 'dummy' (None, GLO, ('dummy',)) to 'dummy' (None, GLO, ('dummy',))>]"
      ]
     },
     "execution_count": 56,
     "metadata": {},
     "output_type": "execute_result"
    }
   ],
   "source": [
    "[exc for exc in dummy.exchanges()]"
   ]
  },
  {
   "cell_type": "markdown",
   "id": "53e88d05-3461-4d23-8b69-0ec6944cb960",
   "metadata": {},
   "source": [
    "Aaah it is the dummy process. Ok, it does not need units."
   ]
  },
  {
   "cell_type": "markdown",
   "id": "f2bebc2b-6148-4f6b-bebf-66d5fd1ccef8",
   "metadata": {},
   "source": [
    "To drop some of these entries I just have to modify the functiondef json_ld_remove_fields(db) in the `brightway2-io/strategies/json_ld`"
   ]
  },
  {
   "cell_type": "code",
   "execution_count": null,
   "id": "e4b2284b-90e0-40a5-8281-8dbcdc8199c4",
   "metadata": {},
   "outputs": [],
   "source": []
  },
  {
   "cell_type": "code",
   "execution_count": null,
   "id": "75d5f1eb-34fc-4431-b419-3ab1a989546d",
   "metadata": {},
   "outputs": [],
   "source": []
  },
  {
   "cell_type": "code",
   "execution_count": null,
   "id": "99977032-8015-4a27-927a-d4850ebf51c9",
   "metadata": {},
   "outputs": [],
   "source": []
  },
  {
   "cell_type": "code",
   "execution_count": null,
   "id": "5c764c0f-fdfc-47ef-802a-99c361227d0d",
   "metadata": {},
   "outputs": [],
   "source": []
  },
  {
   "cell_type": "code",
   "execution_count": null,
   "id": "8f06d88b-5573-4c58-9d20-da33349aaa83",
   "metadata": {},
   "outputs": [],
   "source": [
    "len([act for act in db if 'corn' in act['name'].lower()])"
   ]
  },
  {
   "cell_type": "markdown",
   "id": "fe53c66a-f92d-434a-949f-90a7d1dc2941",
   "metadata": {},
   "source": [
    "See? 42 entries now! Looking at this list, you can see that this search mixes processes and flows, let's find the process flows:"
   ]
  },
  {
   "cell_type": "markdown",
   "id": "9a55405b-6e77-468f-a313-7555da96b710",
   "metadata": {},
   "source": [
    "I will come back to this later..."
   ]
  },
  {
   "cell_type": "markdown",
   "id": "e6ffe89e-ef9d-4e5d-a7a7-a057c44ac134",
   "metadata": {},
   "source": [
    "### Let's manually add a LCIA method\n",
    "This importer does not recognize the LCIA methods, therefore we need to add them manually. I will debug this later!\n",
    "\n",
    "First, let's find the `Bad stuff` biosphere flow."
   ]
  },
  {
   "cell_type": "code",
   "execution_count": 57,
   "id": "67412ad5-f79f-499a-b045-7120459a33d8",
   "metadata": {},
   "outputs": [],
   "source": [
    "bad_stuff = [act for act in bio if act['name'] == 'Carbon dioxide'][0]\n"
   ]
  },
  {
   "cell_type": "code",
   "execution_count": 58,
   "id": "b65b1eba-f043-4d40-9c89-6ae4261c2a8c",
   "metadata": {},
   "outputs": [],
   "source": [
    "myLCIAdata = [[(bad_stuff['database'], bad_stuff['code']), 2.0]] # A method list needs: a reference to the flow: tuple (database, 'code')), a characterization factor number, and localization (if no localization is given, 'GLO' is used)\n",
    "method_key = ('MacIM', 'Global warming', 'total')\n",
    "my_method = bd.Method(method_key)\n",
    "my_method.validate(myLCIAdata)\n",
    "my_method.register()\n",
    "my_method.write(myLCIAdata)"
   ]
  },
  {
   "cell_type": "markdown",
   "id": "3de520cd-f20c-4b9a-b6dc-a77fbd3d2769",
   "metadata": {},
   "source": [
    "#### Now we define a functional unit:\n",
    "This one might be a bit counterintuitive, our functional unit here is **Impact of assembling 5 bottles**, intuintively one would select the activity, but bw2 selects the flow coming out of the `Bottle assembly` activity (i.e. `Bottle`, which is a `product` not a `process`)."
   ]
  },
  {
   "cell_type": "code",
   "execution_count": 59,
   "id": "beb7904a-9d0d-4e2a-a1b7-7688e1dd176a",
   "metadata": {},
   "outputs": [],
   "source": [
    "extr_alu = [act for act in db if act['name'].lower().startswith('c')][0]"
   ]
  },
  {
   "cell_type": "code",
   "execution_count": 60,
   "id": "8e2cb052-b6c0-4ed0-9964-49350b7a93e2",
   "metadata": {},
   "outputs": [],
   "source": [
    "functional_unit = {extr_alu : 5}"
   ]
  },
  {
   "cell_type": "code",
   "execution_count": 61,
   "id": "d1b2762a-0365-44dd-9d1d-549a1101a1a9",
   "metadata": {},
   "outputs": [
    {
     "data": {
      "text/plain": [
       "dict"
      ]
     },
     "execution_count": 61,
     "metadata": {},
     "output_type": "execute_result"
    }
   ],
   "source": [
    "type(functional_unit)"
   ]
  },
  {
   "cell_type": "code",
   "execution_count": null,
   "id": "752d1c16-251e-4264-80f6-3181ade9f968",
   "metadata": {},
   "outputs": [],
   "source": []
  },
  {
   "cell_type": "markdown",
   "id": "1d412bb2-2a5e-427f-b577-51fbbbf06f33",
   "metadata": {},
   "source": [
    "#### Run the LCA!"
   ]
  },
  {
   "cell_type": "code",
   "execution_count": 62,
   "id": "968e52aa-14cb-4108-89fc-6e3b70b24426",
   "metadata": {},
   "outputs": [],
   "source": [
    "lca = bc.LCA(functional_unit, method_key) "
   ]
  },
  {
   "cell_type": "code",
   "execution_count": 63,
   "id": "e9731970-c341-422e-a0ab-518fea46ce04",
   "metadata": {},
   "outputs": [],
   "source": [
    "#bc.LeastSquaresLCA(lca)"
   ]
  },
  {
   "cell_type": "code",
   "execution_count": 64,
   "id": "a5ea540a-1d60-4699-9a71-97acbf60ef31",
   "metadata": {},
   "outputs": [
    {
     "ename": "NonsquareTechnosphere",
     "evalue": "Technosphere matrix is not square: 566 activities (columns) and 927 products (rows). Use LeastSquaresLCA to solve this system, or fix the input data",
     "output_type": "error",
     "traceback": [
      "\u001b[0;31m---------------------------------------------------------------------------\u001b[0m",
      "\u001b[0;31mNonsquareTechnosphere\u001b[0m                     Traceback (most recent call last)",
      "Input \u001b[0;32mIn [64]\u001b[0m, in \u001b[0;36m<cell line: 1>\u001b[0;34m()\u001b[0m\n\u001b[0;32m----> 1\u001b[0m \u001b[43mlca\u001b[49m\u001b[38;5;241;43m.\u001b[39;49m\u001b[43mlci\u001b[49m\u001b[43m(\u001b[49m\u001b[43m)\u001b[49m \n\u001b[1;32m      2\u001b[0m lca\u001b[38;5;241m.\u001b[39mlcia()\n\u001b[1;32m      3\u001b[0m lca\u001b[38;5;241m.\u001b[39mscore\n",
      "File \u001b[0;32m~/Documents/Postdoc/Software_dev/Brightway/Brightway_packages/brightway2-calc/bw2calc/lca.py:354\u001b[0m, in \u001b[0;36mLCA.lci\u001b[0;34m(self, demand, factorize)\u001b[0m\n\u001b[1;32m    339\u001b[0m \u001b[38;5;124;03m\"\"\"\u001b[39;00m\n\u001b[1;32m    340\u001b[0m \u001b[38;5;124;03mCalculate a life cycle inventory.\u001b[39;00m\n\u001b[1;32m    341\u001b[0m \n\u001b[0;32m   (...)\u001b[0m\n\u001b[1;32m    351\u001b[0m \n\u001b[1;32m    352\u001b[0m \u001b[38;5;124;03m\"\"\"\u001b[39;00m\n\u001b[1;32m    353\u001b[0m \u001b[38;5;28;01mif\u001b[39;00m \u001b[38;5;129;01mnot\u001b[39;00m \u001b[38;5;28mhasattr\u001b[39m(\u001b[38;5;28mself\u001b[39m, \u001b[38;5;124m\"\u001b[39m\u001b[38;5;124mtechnosphere_matrix\u001b[39m\u001b[38;5;124m\"\u001b[39m):\n\u001b[0;32m--> 354\u001b[0m     \u001b[38;5;28;43mself\u001b[39;49m\u001b[38;5;241;43m.\u001b[39;49m\u001b[43mload_lci_data\u001b[49m\u001b[43m(\u001b[49m\u001b[43m)\u001b[49m\n\u001b[1;32m    355\u001b[0m \u001b[38;5;28;01mif\u001b[39;00m demand \u001b[38;5;129;01mis\u001b[39;00m \u001b[38;5;129;01mnot\u001b[39;00m \u001b[38;5;28;01mNone\u001b[39;00m:\n\u001b[1;32m    356\u001b[0m     \u001b[38;5;28mself\u001b[39m\u001b[38;5;241m.\u001b[39m__check_demand(demand)\n",
      "File \u001b[0;32m~/Documents/Postdoc/Software_dev/Brightway/Brightway_packages/brightway2-calc/bw2calc/lca.py:206\u001b[0m, in \u001b[0;36mLCA.load_lci_data\u001b[0;34m(self, nonsquare_ok)\u001b[0m\n\u001b[1;32m    200\u001b[0m \u001b[38;5;28mself\u001b[39m\u001b[38;5;241m.\u001b[39mdicts\u001b[38;5;241m.\u001b[39mactivity \u001b[38;5;241m=\u001b[39m partial(\u001b[38;5;28mself\u001b[39m\u001b[38;5;241m.\u001b[39mtechnosphere_mm\u001b[38;5;241m.\u001b[39mcol_mapper\u001b[38;5;241m.\u001b[39mto_dict)\n\u001b[1;32m    202\u001b[0m \u001b[38;5;28;01mif\u001b[39;00m (\n\u001b[1;32m    203\u001b[0m     \u001b[38;5;28mlen\u001b[39m(\u001b[38;5;28mself\u001b[39m\u001b[38;5;241m.\u001b[39mtechnosphere_mm\u001b[38;5;241m.\u001b[39mrow_mapper) \u001b[38;5;241m!=\u001b[39m \u001b[38;5;28mlen\u001b[39m(\u001b[38;5;28mself\u001b[39m\u001b[38;5;241m.\u001b[39mtechnosphere_mm\u001b[38;5;241m.\u001b[39mcol_mapper)\n\u001b[1;32m    204\u001b[0m     \u001b[38;5;129;01mand\u001b[39;00m \u001b[38;5;129;01mnot\u001b[39;00m nonsquare_ok\n\u001b[1;32m    205\u001b[0m ):\n\u001b[0;32m--> 206\u001b[0m     \u001b[38;5;28;01mraise\u001b[39;00m NonsquareTechnosphere(\n\u001b[1;32m    207\u001b[0m         (\n\u001b[1;32m    208\u001b[0m             \u001b[38;5;124m\"\u001b[39m\u001b[38;5;124mTechnosphere matrix is not square: \u001b[39m\u001b[38;5;132;01m{}\u001b[39;00m\u001b[38;5;124m activities (columns) and \u001b[39m\u001b[38;5;132;01m{}\u001b[39;00m\u001b[38;5;124m products (rows). \u001b[39m\u001b[38;5;124m\"\u001b[39m\n\u001b[1;32m    209\u001b[0m             \u001b[38;5;124m\"\u001b[39m\u001b[38;5;124mUse LeastSquaresLCA to solve this system, or fix the input \u001b[39m\u001b[38;5;124m\"\u001b[39m\n\u001b[1;32m    210\u001b[0m             \u001b[38;5;124m\"\u001b[39m\u001b[38;5;124mdata\u001b[39m\u001b[38;5;124m\"\u001b[39m\n\u001b[1;32m    211\u001b[0m         )\u001b[38;5;241m.\u001b[39mformat(\n\u001b[1;32m    212\u001b[0m             \u001b[38;5;28mlen\u001b[39m(\u001b[38;5;28mself\u001b[39m\u001b[38;5;241m.\u001b[39mtechnosphere_mm\u001b[38;5;241m.\u001b[39mcol_mapper),\n\u001b[1;32m    213\u001b[0m             \u001b[38;5;28mlen\u001b[39m(\u001b[38;5;28mself\u001b[39m\u001b[38;5;241m.\u001b[39mtechnosphere_mm\u001b[38;5;241m.\u001b[39mrow_mapper),\n\u001b[1;32m    214\u001b[0m         )\n\u001b[1;32m    215\u001b[0m     )\n\u001b[1;32m    217\u001b[0m \u001b[38;5;28mself\u001b[39m\u001b[38;5;241m.\u001b[39mbiosphere_mm \u001b[38;5;241m=\u001b[39m mu\u001b[38;5;241m.\u001b[39mMappedMatrix(\n\u001b[1;32m    218\u001b[0m     packages\u001b[38;5;241m=\u001b[39m\u001b[38;5;28mself\u001b[39m\u001b[38;5;241m.\u001b[39mpackages,\n\u001b[1;32m    219\u001b[0m     matrix\u001b[38;5;241m=\u001b[39m\u001b[38;5;124m\"\u001b[39m\u001b[38;5;124mbiosphere_matrix\u001b[39m\u001b[38;5;124m\"\u001b[39m,\n\u001b[0;32m   (...)\u001b[0m\n\u001b[1;32m    224\u001b[0m     empty_ok\u001b[38;5;241m=\u001b[39m\u001b[38;5;28;01mTrue\u001b[39;00m,\n\u001b[1;32m    225\u001b[0m )\n\u001b[1;32m    226\u001b[0m \u001b[38;5;28mself\u001b[39m\u001b[38;5;241m.\u001b[39mbiosphere_matrix \u001b[38;5;241m=\u001b[39m \u001b[38;5;28mself\u001b[39m\u001b[38;5;241m.\u001b[39mbiosphere_mm\u001b[38;5;241m.\u001b[39mmatrix\n",
      "\u001b[0;31mNonsquareTechnosphere\u001b[0m: Technosphere matrix is not square: 566 activities (columns) and 927 products (rows). Use LeastSquaresLCA to solve this system, or fix the input data"
     ]
    }
   ],
   "source": [
    "lca.lci() \n",
    "lca.lcia()\n",
    "lca.score\n",
    "print(lca.inventory)"
   ]
  },
  {
   "cell_type": "markdown",
   "id": "035b1394-94ec-4093-af6b-36d28bb949e1",
   "metadata": {},
   "source": [
    "Not square matrix. Let's find out which processes have more than one product:"
   ]
  },
  {
   "cell_type": "code",
   "execution_count": 68,
   "id": "8ee23423-f7f1-46c6-b928-9bdf7e71373c",
   "metadata": {},
   "outputs": [
    {
     "name": "stdout",
     "output_type": "stream",
     "text": [
      "There are:  361 additional products.\n"
     ]
    }
   ],
   "source": [
    "print('There are: ', 927 - 566, 'additional products.')"
   ]
  },
  {
   "cell_type": "code",
   "execution_count": 69,
   "id": "5b0d729f-c99c-4f6e-adec-aa67760d9003",
   "metadata": {},
   "outputs": [
    {
     "name": "stdout",
     "output_type": "stream",
     "text": [
      "There are in total 1803 activities.\n",
      "Of which, 566 are processess, 1237 are products (technosphere flows) and 0 are biosphere flows.\n"
     ]
    }
   ],
   "source": [
    "n_activities = 0\n",
    "n_processes = 0\n",
    "n_flow = 0\n",
    "m_bio = 0\n",
    "    \n",
    "for act in db:\n",
    "\n",
    "    n_activities += 1\n",
    "    if act['type'] == 'process':\n",
    "        n_processes += 1\n",
    "    elif act['type'] == 'product':\n",
    "        n_flow += 1\n",
    "    elif act['type'] == 'biosphere': # This is just a sanity check to see if there are some biosphere flows laying around.\n",
    "        m_bio += 1\n",
    "    \n",
    "print('There are in total {} activities.'.format(n_activities))\n",
    "print('Of which, {} are processess, {} are products (technosphere flows) and {} are biosphere flows.'.format(n_processes, n_flow, m_bio))"
   ]
  },
  {
   "cell_type": "markdown",
   "id": "c621b28c-57c6-4671-aa62-29b7f435007a",
   "metadata": {},
   "source": [
    "So... There are a total of 1803 activities. From those, 566 are processes and 1237 are products (i.e. technosphere flows)"
   ]
  },
  {
   "cell_type": "markdown",
   "id": "a1054685-e529-4709-8249-68ff4908f406",
   "metadata": {},
   "source": [
    "Ok.... those are a bunch of products. My problem here is that I need only 566 products to be linked with processes to make the matrix square. Let's see which processes have more processes as outputs. One of them is the waste flows, maybe I could create a dummy process that takes the waste flows so they are not hanging. I don't know..."
   ]
  },
  {
   "cell_type": "code",
   "execution_count": null,
   "id": "3d4ef49a-4d48-4e39-ab0e-a90b7bb07d1c",
   "metadata": {},
   "outputs": [],
   "source": []
  },
  {
   "cell_type": "markdown",
   "id": "29d17e64-a0e5-4285-98c6-d716a1d06bb4",
   "metadata": {},
   "source": [
    "I select a product that has a lot of waste outputs, let's see how these are labeled:"
   ]
  },
  {
   "cell_type": "code",
   "execution_count": 70,
   "id": "7ca6c487-2952-4880-80db-637b072072dd",
   "metadata": {},
   "outputs": [],
   "source": [
    "natural_soda_ash = [act for act in db if act['code'] == '0d95cc8b-a9a0-3630-a760-1ab4d88257d8'][0]"
   ]
  },
  {
   "cell_type": "code",
   "execution_count": 71,
   "id": "5fa23a4a-f872-4d23-be8d-6b80af945634",
   "metadata": {},
   "outputs": [
    {
     "data": {
      "text/plain": [
       "80"
      ]
     },
     "execution_count": 71,
     "metadata": {},
     "output_type": "execute_result"
    }
   ],
   "source": [
    "len([exc for exc in natural_soda_ash.exchanges()])"
   ]
  },
  {
   "cell_type": "markdown",
   "id": "97018fd8-74ba-41b4-b82b-7a52c05cafd4",
   "metadata": {},
   "source": [
    "Ok 80 exchanges, which ones are outputs?"
   ]
  },
  {
   "cell_type": "code",
   "execution_count": 72,
   "id": "91cec4b2-a454-4b86-b646-654dbc8bdfc7",
   "metadata": {},
   "outputs": [
    {
     "data": {
      "text/plain": [
       "dict_keys(['amount', 'unit', 'type', 'name', 'code', 'input', 'output'])"
      ]
     },
     "execution_count": 72,
     "metadata": {},
     "output_type": "execute_result"
    }
   ],
   "source": [
    "[exc.as_dict().keys() for exc in natural_soda_ash.exchanges()][0]"
   ]
  },
  {
   "cell_type": "markdown",
   "id": "55eb8718-0ded-4106-9095-990d864f853b",
   "metadata": {},
   "source": [
    "Interesting, there is a key called `output` which it should not have. Let's see what's inside:"
   ]
  },
  {
   "cell_type": "code",
   "execution_count": 73,
   "id": "b6c25e8e-d856-49e6-9c0b-9c80d9ab3599",
   "metadata": {},
   "outputs": [
    {
     "data": {
      "text/plain": [
       "{'amount': 1000.0,\n",
       " 'unit': 'kilogram',\n",
       " 'type': 'production',\n",
       " 'name': 'Natural soda ash (Sodium carbonate), at plant',\n",
       " 'code': 'c0af8d39-2a03-3e1d-8548-67989e0fda5a',\n",
       " 'input': ('USLCI_FY22_Q2_1', 'c0af8d39-2a03-3e1d-8548-67989e0fda5a'),\n",
       " 'output': ('USLCI_FY22_Q2_1', '0d95cc8b-a9a0-3630-a760-1ab4d88257d8')}"
      ]
     },
     "execution_count": 73,
     "metadata": {},
     "output_type": "execute_result"
    }
   ],
   "source": [
    "[exc.as_dict() for exc in natural_soda_ash.exchanges()][0]"
   ]
  },
  {
   "cell_type": "markdown",
   "id": "c6e9354b-49f1-47f2-b553-057d92a9af61",
   "metadata": {},
   "source": [
    "- `'input': ('USLCI_FY22_Q2_1', 'c0af8d39-2a03-3e1d-8548-67989e0fda5a')`: Technosphere flow --> Natural soda ash (Sodium carbonate), at plant\n",
    "- `'output': ('USLCI_FY22_Q2_1', '0d95cc8b-a9a0-3630-a760-1ab4d88257d8')`: Process --> Natural soda ash (Sodium carbonate), at plant\n",
    "\n",
    "Interesting, the `output` is the process... I am not sure this makes sense because Brightway2 should only have `inputs`."
   ]
  },
  {
   "cell_type": "code",
   "execution_count": 74,
   "id": "daeaeeae-e146-4787-aba1-2ec79bcf61d6",
   "metadata": {},
   "outputs": [
    {
     "data": {
      "text/plain": [
       "[Exchange: 1000.0  'Natural soda ash (Sodium carbonate), at plant' (, United States, ('Technosphere Flows', '21: Mining, Quarrying, and Oil and Gas Extraction', '2123: Nonmetallic Mineral Mining and Quarrying')) to 'Natural soda ash (Sodium carbonate), at plant' (kilogram, United States, None)>,\n",
       " Exchange: 160.0 None 'dummy' (None, GLO, ('dummy',)) to 'Natural soda ash (Sodium carbonate), at plant' (kilogram, United States, None)>,\n",
       " Exchange: 57.9 None 'dummy' (None, GLO, ('dummy',)) to 'Natural soda ash (Sodium carbonate), at plant' (kilogram, United States, None)>,\n",
       " Exchange: 0.107 None 'dummy' (None, GLO, ('dummy',)) to 'Natural soda ash (Sodium carbonate), at plant' (kilogram, United States, None)>,\n",
       " Exchange: 6.75 None 'dummy' (None, GLO, ('dummy',)) to 'Natural soda ash (Sodium carbonate), at plant' (kilogram, United States, None)>]"
      ]
     },
     "execution_count": 74,
     "metadata": {},
     "output_type": "execute_result"
    }
   ],
   "source": [
    "[exc for exc in natural_soda_ash.exchanges() if exc['type'] == 'production']"
   ]
  },
  {
   "cell_type": "code",
   "execution_count": 75,
   "id": "ae4623a9-fd60-462f-8b8a-bf3b858270d6",
   "metadata": {},
   "outputs": [
    {
     "data": {
      "text/plain": [
       "5"
      ]
     },
     "execution_count": 75,
     "metadata": {},
     "output_type": "execute_result"
    }
   ],
   "source": [
    "len([exc for exc in natural_soda_ash.exchanges() if exc['type'] == 'production'])"
   ]
  },
  {
   "cell_type": "markdown",
   "id": "1b35d02c-0313-42f7-8712-e09bd82bc00b",
   "metadata": {},
   "source": [
    "Aha, all these wastes are dummies... is there a way a can call them something different than `production`? Let's see if all the dummies I created are the ones making my life miserable :)"
   ]
  },
  {
   "cell_type": "code",
   "execution_count": 76,
   "id": "06b8d1b3-aecf-4dd4-bff2-14443121699d",
   "metadata": {},
   "outputs": [
    {
     "name": "stdout",
     "output_type": "stream",
     "text": [
      "Exchange: 1000.0  'Natural soda ash (Sodium carbonate), at plant' (, United States, ('Technosphere Flows', '21: Mining, Quarrying, and Oil and Gas Extraction', '2123: Nonmetallic Mineral Mining and Quarrying')) to 'Natural soda ash (Sodium carbonate), at plant' (kilogram, United States, None)>\n",
      "Exchange: 160.0 None 'dummy' (None, GLO, ('dummy',)) to 'Natural soda ash (Sodium carbonate), at plant' (kilogram, United States, None)>\n",
      "Exchange: 57.9 None 'dummy' (None, GLO, ('dummy',)) to 'Natural soda ash (Sodium carbonate), at plant' (kilogram, United States, None)>\n",
      "Exchange: 0.107 None 'dummy' (None, GLO, ('dummy',)) to 'Natural soda ash (Sodium carbonate), at plant' (kilogram, United States, None)>\n",
      "Exchange: 6.75 None 'dummy' (None, GLO, ('dummy',)) to 'Natural soda ash (Sodium carbonate), at plant' (kilogram, United States, None)>\n",
      "5\n"
     ]
    }
   ],
   "source": [
    "counter = 0\n",
    "for exc in natural_soda_ash.exchanges():\n",
    "    if exc['type'] == 'production':\n",
    "        print(exc)\n",
    "        counter += 1\n",
    "print(counter)"
   ]
  },
  {
   "cell_type": "code",
   "execution_count": null,
   "id": "3333b3a7-1ba0-4bb9-85a6-354f085c84e0",
   "metadata": {},
   "outputs": [],
   "source": []
  },
  {
   "cell_type": "code",
   "execution_count": 79,
   "id": "5610e6cb-809f-48c9-a2ed-45c946cfd2c9",
   "metadata": {},
   "outputs": [
    {
     "name": "stdout",
     "output_type": "stream",
     "text": [
      "The activity: 'Natural soda ash (Sodium carbonate), at plant' (kilogram, United States, None) has 5 production exchanges.\n",
      "The activity: 'Steel, stainless 304, quarto plate' (kilogram, Northern America, None) has 11 production exchanges.\n",
      "The activity: 'Aluminum, hot rolling, at plant' (kilogram, Northern America, None) has 11 production exchanges.\n",
      "The activity: 'Corn steep liquor' (kilogram, Northern America, None) has 3 production exchanges.\n",
      "The activity: 'Aluminum, hot rolling, at plant' (kilogram, Northern America, None) has 11 production exchanges.\n",
      "The activity: 'Aluminum, primary ingot, at plant' (kilogram, Northern America, None) has 9 production exchanges.\n",
      "The activity: 'Steel, stainless 304, flat rolled coil' (kilogram, Northern America, None) has 11 production exchanges.\n",
      "The activity: 'Aluminum, secondary ingot, at plant' (kilogram, Northern America, None) has 10 production exchanges.\n",
      "The activity: 'Aluminum, extrusion, at plant' (kilogram, Northern America, None) has 10 production exchanges.\n",
      "The activity: 'Aluminum, extrusion, at plant' (kilogram, Northern America, None) has 10 production exchanges.\n",
      "The activity: 'Steel, stainless 304, quarto plate' (kilogram, Northern America, None) has 11 production exchanges.\n",
      "The activity: 'Aluminum, cold rolling, at plant' (kilogram, Northern America, None) has 12 production exchanges.\n",
      "The activity: 'Aluminum, secondary ingot, at plant' (kilogram, Northern America, None) has 10 production exchanges.\n",
      "The activity: 'Aluminum, primary ingot, at plant' (kilogram, Northern America, None) has 9 production exchanges.\n",
      "The activity: 'Aluminum, extrusion, at plant' (kilogram, Northern America, None) has 10 production exchanges.\n",
      "The activity: 'Sodium hydroxide; chlor-alkali average, membrane cell; at plant; 50% solution state' (kilogram, Northern America, None) has 2 production exchanges.\n",
      "The activity: 'Polyethylene, high density, HDPE, virgin resin, at plant' (kilogram, Northern America, None) has 8 production exchanges.\n",
      "The activity: 'Steel, stainless 304, scrap' (kilogram, Global, None) has 11 production exchanges.\n",
      "The activity: 'Steel, stainless 304, scrap' (kilogram, Global, None) has 11 production exchanges.\n",
      "The activity: 'Aluminum, secondary ingot, at plant' (kilogram, Northern America, None) has 10 production exchanges.\n",
      "The activity: 'Aluminum, extrusion, at plant' (kilogram, Northern America, None) has 10 production exchanges.\n",
      "The activity: 'Asphalt binder, 8% ground rubber tire (GRT), consumption mix, at terminal, from crude oil, 8% ground rubber tire' (kilogram, Northern America, None) has 11 production exchanges.\n",
      "The activity: 'Aluminum, hot rolling, at plant' (kilogram, Northern America, None) has 11 production exchanges.\n",
      "The activity: 'Hydrogen, chlor-alkali average, membrane cell; at plant' (kilogram, Northern America, None) has 2 production exchanges.\n",
      "The activity: 'Aluminum, secondary ingot, at plant' (kilogram, Northern America, None) has 10 production exchanges.\n",
      "The activity: 'Steel, stainless 304, flat rolled coil' (kilogram, Northern America, None) has 11 production exchanges.\n",
      "The activity: 'Steel, stainless 304, quarto plate' (kilogram, Northern America, None) has 11 production exchanges.\n",
      "The activity: 'Natural gas, at extraction, Marcellus Shale, kg' (kilogram, United States, None) has 2 production exchanges.\n",
      "The activity: 'Steel, stainless 304, quarto plate' (kilogram, Northern America, None) has 11 production exchanges.\n",
      "The activity: 'Steel, stainless 304, quarto plate' (kilogram, Northern America, None) has 11 production exchanges.\n",
      "The activity: 'Paraxylene, at plant, kg' (kilogram, Northern America, None) has 4 production exchanges.\n",
      "The activity: 'Natural gas, at extraction, conventional onshore, kg' (kilogram, United States, None) has 2 production exchanges.\n",
      "The activity: 'Steel, stainless 304, flat rolled coil' (kilogram, Northern America, None) has 11 production exchanges.\n",
      "The activity: 'Asphalt binder, 3.5% styrene-butadiene-styrene (SBS), consumption mix, at terminal, from crude oil, 3.5% styrene-butadiene-styrene' (kilogram, Northern America, None) has 11 production exchanges.\n",
      "The activity: 'Natural gas, at extraction, Barnett Shale, kg' (kilogram, United States, None) has 2 production exchanges.\n",
      "The activity: 'Steel, stainless 304, quarto plate' (kilogram, Northern America, None) has 11 production exchanges.\n",
      "The activity: 'Steel, stainless 304, flat rolled coil' (kilogram, Northern America, None) has 11 production exchanges.\n",
      "The activity: 'Natural gas, at extraction, coal bed methane, kg' (kilogram, United States, None) has 2 production exchanges.\n",
      "The activity: 'Steel, stainless 304, scrap' (kilogram, Global, None) has 11 production exchanges.\n",
      "The activity: 'Ethylene glycol, materials production, organic compound, at plant, kg' (kilogram, Northern America, None) has 5 production exchanges.\n",
      "The activity: 'Ethylene, materials production, organic compound, at plant, kg' (kilogram, United States, None) has 7 production exchanges.\n",
      "The activity: 'Polypropylene, PP, virgin resin, at plant' (kilogram, Northern America, None) has 6 production exchanges.\n",
      "The activity: 'Steel, stainless 304, flat rolled coil' (kilogram, Northern America, None) has 11 production exchanges.\n",
      "The activity: 'Aluminum, cold rolling, at plant' (kilogram, Northern America, None) has 12 production exchanges.\n",
      "The activity: 'Asphalt binder, 0.5% polyphosphoric acid (PPA), consumption mix, at terminal, from crude oil, 0.5% polyphosphoric acid' (kilogram, Northern America, None) has 11 production exchanges.\n",
      "The activity: 'Aluminum, primary ingot, at plant' (kilogram, Northern America, None) has 9 production exchanges.\n",
      "The activity: 'Polystyrene, expanded, EPS, virgin resin; batch suspension polymerization; industry average, at plant' (kilogram, Northern America, None) has 7 production exchanges.\n",
      "The activity: 'Aluminum, cold rolling, at plant' (kilogram, Northern America, None) has 12 production exchanges.\n",
      "The activity: 'Natural gas, at extraction, conventional offshore, kg' (kilogram, United States, None) has 2 production exchanges.\n",
      "The activity: 'Polyethylene, low-density, LDPE, virgin resin, at plant' (kilogram, Northern America, None) has 7 production exchanges.\n",
      "The activity: 'Steel, stainless 304, scrap' (kilogram, Global, None) has 11 production exchanges.\n",
      "The activity: 'Steel, stainless 304, scrap' (kilogram, Global, None) has 11 production exchanges.\n",
      "The activity: 'Asphalt binder, no additives, consumption mix, at terminal, from crude oil' (kilogram, Northern America, None) has 11 production exchanges.\n",
      "The activity: 'Polyethylene, high density, HDPE, virgin resin, at plant' (kilogram, Northern America, None) has 8 production exchanges.\n",
      "The activity: 'Aluminum, primary ingot, at plant' (kilogram, Northern America, None) has 9 production exchanges.\n",
      "The activity: 'Steel, stainless 304, scrap' (kilogram, Global, None) has 11 production exchanges.\n",
      "The activity: 'Propylene, materials production, organic compound, at plant, kg' (kilogram, Northern America, None) has 7 production exchanges.\n",
      "The activity: 'Steel, stainless 304, flat rolled coil' (kilogram, Northern America, None) has 11 production exchanges.\n",
      "The activity: 'Aluminum, cold rolling, at plant' (kilogram, Northern America, None) has 12 production exchanges.\n",
      "The activity: 'Aluminum, hot rolling, at plant' (kilogram, Northern America, None) has 11 production exchanges.\n",
      "There are 60 activities with more than 1 production flow\n",
      "There are 471 additional flows\n"
     ]
    }
   ],
   "source": [
    "n_more_prod = 0\n",
    "tot_flo = 0\n",
    "for act in db:\n",
    "    if act['type'] == 'process':\n",
    "        n_exc = 0\n",
    "        for exc in act.exchanges():            \n",
    "            if exc['type'] == 'production':\n",
    "                n_exc += 1\n",
    "        if n_exc > 1:\n",
    "            n_more_prod += 1\n",
    "            print('The activity: {} has {} production exchanges.'.format(act, n_exc))\n",
    "            tot_flo += n_exc\n",
    "print('There are {} activities with more than 1 production flow'.format(n_more_prod))\n",
    "print('There are {} additional flows'.format(tot_flo - 60))              "
   ]
  },
  {
   "cell_type": "markdown",
   "id": "85df2f29-dcb2-47aa-9c84-12d7d3c58725",
   "metadata": {},
   "source": [
    "Ok, 60 activities with more than 1 production flow. If I add all of them and substract 60 (because 60 activities should have 1 production) I get 471 additional flows, more than the 361 that are unpaired. Where are these 110 extra flows coming from? Looking at this output, it seems like there are some processes that are repeated.... WHYYY"
   ]
  },
  {
   "cell_type": "markdown",
   "id": "1ed31073-1f22-4b51-be67-b9a5e4c755ba",
   "metadata": {},
   "source": [
    "Let's check some of these processes:"
   ]
  },
  {
   "cell_type": "code",
   "execution_count": 83,
   "id": "5538658c-358c-4f7b-8d8d-733a5b2864b7",
   "metadata": {},
   "outputs": [
    {
     "data": {
      "text/plain": [
       "[('Steel, stainless 304, flat rolled coil',\n",
       "  '49f5324b-fc33-36e9-b5af-3c80d73492bd.3f2fed05-f530-32e9-b0f9-0dcb5280aa9d'),\n",
       " ('Steel, stainless 304, flat rolled coil',\n",
       "  '49f5324b-fc33-36e9-b5af-3c80d73492bd.04e2c1f0-3de4-369c-b16f-cb598637080d'),\n",
       " ('Steel, stainless 304, flat rolled coil',\n",
       "  '49f5324b-fc33-36e9-b5af-3c80d73492bd.ddd41ace-b67e-306c-908c-cdc7ee770808'),\n",
       " ('Steel, stainless 304, flat rolled coil',\n",
       "  '49f5324b-fc33-36e9-b5af-3c80d73492bd.88e09cb2-7d73-3785-858c-469ad271dbef'),\n",
       " ('Steel, stainless 304, flat rolled coil',\n",
       "  '49f5324b-fc33-36e9-b5af-3c80d73492bd.0516b21b-b1c8-3eb4-9b2e-5981a50be898'),\n",
       " ('Steel, stainless 304, flat rolled coil',\n",
       "  '49f5324b-fc33-36e9-b5af-3c80d73492bd.e2866178-01b8-329e-ae07-4e8a0030b39f')]"
      ]
     },
     "execution_count": 83,
     "metadata": {},
     "output_type": "execute_result"
    }
   ],
   "source": [
    "[(act['name'], act['code']) for act in db if act['name'] == 'Steel, stainless 304, flat rolled coil' and act['type'] == 'process']"
   ]
  },
  {
   "cell_type": "markdown",
   "id": "b5e513dc-fa1d-4d85-8a1c-c9c36f943493",
   "metadata": {},
   "source": [
    "Interesting... they share the initial code, and they have a different code at the end...\n",
    "* `Steel, stainless 304, flat rolled coil', '49f5324b-fc33-36e9-b5af-3c80d73492bd.3f2fed05-f530-32e9-b0f9-0dcb5280aa9d`: Steel, stainless 304, flat rolled coil (FLOW)\n",
    "* `Steel, stainless 304, flat rolled coil', '49f5324b-fc33-36e9-b5af-3c80d73492bd.04e2c1f0-3de4-369c-b16f-cb598637080d`: Water (groundwater from technosphere, waste water)\n",
    "* `Steel, stainless 304, flat rolled coil', '49f5324b-fc33-36e9-b5af-3c80d73492bd.ddd41ace-b67e-306c-908c-cdc7ee770808`: Water (river water from technosphere, turbined)\n",
    "* `Steel, stainless 304, flat rolled coil', '49f5324b-fc33-36e9-b5af-3c80d73492bd.88e09cb2-7d73-3785-858c-469ad271dbef`: Water (river water from technosphere, waste water)\n",
    "* `Steel, stainless 304, flat rolled coil', '49f5324b-fc33-36e9-b5af-3c80d73492bd.0516b21b-b1c8-3eb4-9b2e-5981a50be898`: Water (sea water from technosphere, waste water)\n",
    "* `Steel, stainless 304, flat rolled coil', '49f5324b-fc33-36e9-b5af-3c80d73492bd.e2866178-01b8-329e-ae07-4e8a0030b39f`: Water (sea water from technosphere, cooling water)\n",
    "\n",
    "Ooookey, so brightway2 has created a new process for each technosphere flow that was a production flow, smart way of getting square matrix. I guess this is why we have those extra flows, if I add them... will they sum 110?"
   ]
  },
  {
   "cell_type": "code",
   "execution_count": 86,
   "id": "673f7c98-760b-4061-82bc-aabe09715585",
   "metadata": {},
   "outputs": [
    {
     "name": "stdout",
     "output_type": "stream",
     "text": [
      "The activity: Polyethylene, high density, HDPE, virgin resin, at plant, with code 2712f03a-80fe-4a2b-9005-ca9ba99f7eb3.0def374e-dc34-4f2a-81d6-1a8f4eb7faa6 has 8 production exchanges.\n",
      "The activity: Aluminum, secondary ingot, at plant, with code bcc68f88-debb-3fc3-93ee-5ceadcef0b14.36549ddd-3dca-3b48-a1b0-7c6889afba05 has 10 production exchanges.\n",
      "The activity: Steel, stainless 304, scrap, with code 34897ebd-aa3d-347c-91ee-876c3f835fdb.0516b21b-b1c8-3eb4-9b2e-5981a50be898 has 11 production exchanges.\n",
      "The activity: Steel, stainless 304, flat rolled coil, with code 49f5324b-fc33-36e9-b5af-3c80d73492bd.04e2c1f0-3de4-369c-b16f-cb598637080d has 11 production exchanges.\n",
      "The activity: Aluminum, hot rolling, at plant, with code 381d3e3d-29ae-3101-a95b-56a4cec08486.88e09cb2-7d73-3785-858c-469ad271dbef has 11 production exchanges.\n",
      "The activity: Aluminum, extrusion, at plant, with code 77fe2197-8861-3569-8d85-07151789b1e7.ddd41ace-b67e-306c-908c-cdc7ee770808 has 10 production exchanges.\n",
      "The activity: Aluminum, primary ingot, at plant, with code 99963138-ddf9-3b32-9e93-69593d76cb08.88e09cb2-7d73-3785-858c-469ad271dbef has 9 production exchanges.\n",
      "The activity: Aluminum, cold rolling, at plant, with code 2b196386-eb1a-352a-aeda-4d003144f6df.0516b21b-b1c8-3eb4-9b2e-5981a50be898 has 12 production exchanges.\n",
      "The activity: Steel, stainless 304, quarto plate, with code 8560388b-7ea1-38b7-befc-fd25d5deb450.88e09cb2-7d73-3785-858c-469ad271dbef has 11 production exchanges.\n",
      "The activity: Steel, stainless 304, quarto plate, with code 8560388b-7ea1-38b7-befc-fd25d5deb450.0516b21b-b1c8-3eb4-9b2e-5981a50be898 has 11 production exchanges.\n",
      "The activity: Steel, stainless 304, scrap, with code 34897ebd-aa3d-347c-91ee-876c3f835fdb.0178afd7-c74a-3a8f-8f15-d57904d3c377 has 11 production exchanges.\n",
      "The activity: Aluminum, secondary ingot, at plant, with code bcc68f88-debb-3fc3-93ee-5ceadcef0b14.ddd41ace-b67e-306c-908c-cdc7ee770808 has 10 production exchanges.\n",
      "The activity: Polyethylene, high density, HDPE, virgin resin, at plant, with code 2712f03a-80fe-4a2b-9005-ca9ba99f7eb3.c747a0a0-bd5d-3a78-af02-58a5027d6cf5 has 8 production exchanges.\n",
      "The activity: Aluminum, secondary ingot, at plant, with code bcc68f88-debb-3fc3-93ee-5ceadcef0b14.88e09cb2-7d73-3785-858c-469ad271dbef has 10 production exchanges.\n",
      "The activity: Steel, stainless 304, quarto plate, with code 8560388b-7ea1-38b7-befc-fd25d5deb450.ddd41ace-b67e-306c-908c-cdc7ee770808 has 11 production exchanges.\n",
      "The activity: Aluminum, primary ingot, at plant, with code 99963138-ddf9-3b32-9e93-69593d76cb08.ddd41ace-b67e-306c-908c-cdc7ee770808 has 9 production exchanges.\n",
      "The activity: Aluminum, hot rolling, at plant, with code 381d3e3d-29ae-3101-a95b-56a4cec08486.ddd41ace-b67e-306c-908c-cdc7ee770808 has 11 production exchanges.\n",
      "The activity: Aluminum, extrusion, at plant, with code 77fe2197-8861-3569-8d85-07151789b1e7.88e09cb2-7d73-3785-858c-469ad271dbef has 10 production exchanges.\n",
      "The activity: Steel, stainless 304, scrap, with code 34897ebd-aa3d-347c-91ee-876c3f835fdb.88e09cb2-7d73-3785-858c-469ad271dbef has 11 production exchanges.\n",
      "The activity: Aluminum, hot rolling, at plant, with code 381d3e3d-29ae-3101-a95b-56a4cec08486.dc4d39f5-33ce-3633-8b50-0ebd40aa06cf has 11 production exchanges.\n",
      "The activity: Steel, stainless 304, flat rolled coil, with code 49f5324b-fc33-36e9-b5af-3c80d73492bd.88e09cb2-7d73-3785-858c-469ad271dbef has 11 production exchanges.\n",
      "The activity: Aluminum, hot rolling, at plant, with code 381d3e3d-29ae-3101-a95b-56a4cec08486.0516b21b-b1c8-3eb4-9b2e-5981a50be898 has 11 production exchanges.\n",
      "The activity: Steel, stainless 304, quarto plate, with code 8560388b-7ea1-38b7-befc-fd25d5deb450.99620b27-83a1-301d-8290-1d94cd81af3f has 11 production exchanges.\n",
      "The activity: Aluminum, extrusion, at plant, with code 77fe2197-8861-3569-8d85-07151789b1e7.0516b21b-b1c8-3eb4-9b2e-5981a50be898 has 10 production exchanges.\n",
      "The activity: Steel, stainless 304, quarto plate, with code 8560388b-7ea1-38b7-befc-fd25d5deb450.e2866178-01b8-329e-ae07-4e8a0030b39f has 11 production exchanges.\n",
      "The activity: Steel, stainless 304, quarto plate, with code 8560388b-7ea1-38b7-befc-fd25d5deb450.04e2c1f0-3de4-369c-b16f-cb598637080d has 11 production exchanges.\n",
      "The activity: Steel, stainless 304, flat rolled coil, with code 49f5324b-fc33-36e9-b5af-3c80d73492bd.0516b21b-b1c8-3eb4-9b2e-5981a50be898 has 11 production exchanges.\n",
      "The activity: Steel, stainless 304, scrap, with code 34897ebd-aa3d-347c-91ee-876c3f835fdb.04e2c1f0-3de4-369c-b16f-cb598637080d has 11 production exchanges.\n",
      "The activity: Asphalt binder, 8% ground rubber tire (GRT), consumption mix, at terminal, from crude oil, 8% ground rubber tire, with code 72d5a381-8cae-4e1d-b0a3-26cc43b69867.ada21fb4-fd3a-4557-9085-9f1495ae8a0c has 11 production exchanges.\n",
      "The activity: Aluminum, extrusion, at plant, with code 77fe2197-8861-3569-8d85-07151789b1e7.8f715a36-b36b-3b20-81ea-7a7e1cdc47fe has 10 production exchanges.\n",
      "The activity: Aluminum, primary ingot, at plant, with code 99963138-ddf9-3b32-9e93-69593d76cb08.a0fb699f-0085-3ad2-99bf-e4ea891e61ba has 9 production exchanges.\n",
      "The activity: Aluminum, primary ingot, at plant, with code 99963138-ddf9-3b32-9e93-69593d76cb08.0516b21b-b1c8-3eb4-9b2e-5981a50be898 has 9 production exchanges.\n",
      "The activity: Steel, stainless 304, flat rolled coil, with code 49f5324b-fc33-36e9-b5af-3c80d73492bd.e2866178-01b8-329e-ae07-4e8a0030b39f has 11 production exchanges.\n",
      "The activity: Steel, stainless 304, flat rolled coil, with code 49f5324b-fc33-36e9-b5af-3c80d73492bd.ddd41ace-b67e-306c-908c-cdc7ee770808 has 11 production exchanges.\n",
      "The activity: Steel, stainless 304, flat rolled coil, with code 49f5324b-fc33-36e9-b5af-3c80d73492bd.3f2fed05-f530-32e9-b0f9-0dcb5280aa9d has 11 production exchanges.\n",
      "The activity: Steel, stainless 304, scrap, with code 34897ebd-aa3d-347c-91ee-876c3f835fdb.e2866178-01b8-329e-ae07-4e8a0030b39f has 11 production exchanges.\n",
      "The activity: Aluminum, cold rolling, at plant, with code 2b196386-eb1a-352a-aeda-4d003144f6df.e929f473-7780-3eca-94e4-a2d0f7d4b8b0 has 12 production exchanges.\n",
      "The activity: Steel, stainless 304, scrap, with code 34897ebd-aa3d-347c-91ee-876c3f835fdb.ddd41ace-b67e-306c-908c-cdc7ee770808 has 11 production exchanges.\n",
      "The activity: Aluminum, secondary ingot, at plant, with code bcc68f88-debb-3fc3-93ee-5ceadcef0b14.0516b21b-b1c8-3eb4-9b2e-5981a50be898 has 10 production exchanges.\n",
      "The activity: Aluminum, cold rolling, at plant, with code 2b196386-eb1a-352a-aeda-4d003144f6df.88e09cb2-7d73-3785-858c-469ad271dbef has 12 production exchanges.\n",
      "The activity: Aluminum, cold rolling, at plant, with code 2b196386-eb1a-352a-aeda-4d003144f6df.ddd41ace-b67e-306c-908c-cdc7ee770808 has 12 production exchanges.\n",
      "There are 41 activities with more than 1 production flow\n",
      "There are 373 additional flows\n"
     ]
    }
   ],
   "source": [
    "n_more_prod = 0\n",
    "tot_flo = 0\n",
    "for act in db:\n",
    "    if act['type'] == 'process' and \".\" in act['code']:\n",
    "        n_exc = 0\n",
    "        for exc in act.exchanges():            \n",
    "            if exc['type'] == 'production':\n",
    "                n_exc += 1\n",
    "        if n_exc > 1:\n",
    "            n_more_prod += 1\n",
    "            print('The activity: {}, with code {} has {} production exchanges.'.format(act['name'], act['code'], n_exc))\n",
    "            tot_flo += n_exc\n",
    "print('There are {} activities with more than 1 production flow'.format(n_more_prod))\n",
    "print('There are {} additional flows'.format(tot_flo - 60))              "
   ]
  },
  {
   "cell_type": "markdown",
   "id": "a316817b-9855-4141-86ce-2923515ade98",
   "metadata": {},
   "source": [
    "Wow, these are more activities than I expected... then these newly created processess are multiplied but they are not fixing anything because all of them have multiple `production` processes..."
   ]
  },
  {
   "cell_type": "markdown",
   "id": "d77e9438-5033-4ce2-8c38-8914a723fa9b",
   "metadata": {},
   "source": [
    "Let's look at the processes that were not 'multiplied' my guess is that these are the ones with waste flows as production, the previous ones had technosphere flows as outputs."
   ]
  },
  {
   "cell_type": "code",
   "execution_count": 87,
   "id": "b27d45f7-66ff-4662-ba35-dc7b5cdbfc28",
   "metadata": {},
   "outputs": [
    {
     "name": "stdout",
     "output_type": "stream",
     "text": [
      "The activity: Natural soda ash (Sodium carbonate), at plant, with code 0d95cc8b-a9a0-3630-a760-1ab4d88257d8 has 5 production exchanges.\n",
      "The activity: Polypropylene, PP, virgin resin, at plant, with code 2e8facf6-46aa-4ddb-95de-a4e2a00eb2bb has 6 production exchanges.\n",
      "The activity: Natural gas, at extraction, coal bed methane, kg, with code 0945cc82-1126-45c3-b525-6d4fc913aa09 has 2 production exchanges.\n",
      "The activity: Ethylene, materials production, organic compound, at plant, kg, with code 520ecb54-7b55-42ca-97c3-4b8192189356 has 7 production exchanges.\n",
      "The activity: Natural gas, at extraction, Barnett Shale, kg, with code e7425edd-537c-497f-aa4b-7a8a79b1ab4a has 2 production exchanges.\n",
      "The activity: Natural gas, at extraction, Marcellus Shale, kg, with code 5b7c9f9b-8460-4afd-a560-b441f0fcf408 has 2 production exchanges.\n",
      "The activity: Ethylene glycol, materials production, organic compound, at plant, kg, with code 2a78de43-fdf2-4c5f-b527-89db6568ace8 has 5 production exchanges.\n",
      "The activity: Natural gas, at extraction, conventional offshore, kg, with code bc4c2bad-4bdb-4402-8aed-74efc5781057 has 2 production exchanges.\n",
      "The activity: Asphalt binder, 0.5% polyphosphoric acid (PPA), consumption mix, at terminal, from crude oil, 0.5% polyphosphoric acid, with code 28d7d56e-a751-492c-9bb1-08f19ea4ac37 has 11 production exchanges.\n",
      "The activity: Polystyrene, expanded, EPS, virgin resin; batch suspension polymerization; industry average, at plant, with code cf1241fd-8c01-3412-9030-8650b8e75669 has 7 production exchanges.\n",
      "The activity: Asphalt binder, no additives, consumption mix, at terminal, from crude oil, with code f8ce5199-1666-452b-a267-8797c94d0560 has 11 production exchanges.\n",
      "The activity: Paraxylene, at plant, kg, with code d32a7e23-c6c0-400a-8134-656a3e13c11f has 4 production exchanges.\n",
      "The activity: Propylene, materials production, organic compound, at plant, kg, with code 49d309a8-0c93-4eeb-a342-2fe2254a0bec has 7 production exchanges.\n",
      "The activity: Asphalt binder, 3.5% styrene-butadiene-styrene (SBS), consumption mix, at terminal, from crude oil, 3.5% styrene-butadiene-styrene, with code bbf3dc45-a370-405e-8996-7358b7f1841c has 11 production exchanges.\n",
      "The activity: Natural gas, at extraction, conventional onshore, kg, with code f2996639-3901-4d02-8046-4e647947b7cb has 2 production exchanges.\n",
      "The activity: Corn steep liquor, with code 68f4d066-5043-34cc-a944-5041732f8e7a has 3 production exchanges.\n",
      "The activity: Polyethylene, low-density, LDPE, virgin resin, at plant, with code 6a12cba1-889d-4515-90f8-89feb8d662f2 has 7 production exchanges.\n",
      "The activity: Hydrogen, chlor-alkali average, membrane cell; at plant, with code f179f70b-5b18-4602-9513-18ed79485ac7 has 2 production exchanges.\n",
      "The activity: Sodium hydroxide; chlor-alkali average, membrane cell; at plant; 50% solution state, with code 344a7ac0-8c18-4869-bb63-3e44e811a1d9 has 2 production exchanges.\n",
      "There are 19 activities with more than 1 production flow\n",
      "There are 38 additional flows\n"
     ]
    }
   ],
   "source": [
    "n_more_prod = 0\n",
    "tot_flo = 0\n",
    "for act in db:\n",
    "    if act['type'] == 'process' and \".\" not in act['code']:\n",
    "        n_exc = 0\n",
    "        for exc in act.exchanges():            \n",
    "            if exc['type'] == 'production':\n",
    "                n_exc += 1\n",
    "        if n_exc > 1:\n",
    "            n_more_prod += 1\n",
    "            print('The activity: {}, with code {} has {} production exchanges.'.format(act['name'], act['code'], n_exc))\n",
    "            tot_flo += n_exc\n",
    "print('There are {} activities with more than 1 production flow'.format(n_more_prod))\n",
    "print('There are {} additional flows'.format(tot_flo - 60))    "
   ]
  },
  {
   "cell_type": "markdown",
   "id": "2b689ede-e9d6-4f3c-a481-793278526227",
   "metadata": {},
   "source": [
    "Bingo..."
   ]
  },
  {
   "cell_type": "code",
   "execution_count": null,
   "id": "152f1e7f-ce03-4f2b-b3fd-f75ba3363602",
   "metadata": {},
   "outputs": [],
   "source": []
  },
  {
   "cell_type": "code",
   "execution_count": null,
   "id": "0dd5d96c-81c1-4237-9a7d-953a16c1eca1",
   "metadata": {},
   "outputs": [],
   "source": []
  },
  {
   "cell_type": "code",
   "execution_count": null,
   "id": "29bb6a16-ceb9-4190-aa67-ed003b7750d8",
   "metadata": {},
   "outputs": [],
   "source": []
  },
  {
   "cell_type": "code",
   "execution_count": null,
   "id": "83f338aa-07f6-46cf-a983-d2f94050719d",
   "metadata": {},
   "outputs": [],
   "source": [
    "dumb = [act for act in db if 'dummy' in act['name']][0]"
   ]
  },
  {
   "cell_type": "code",
   "execution_count": null,
   "id": "041aeea2-d51b-4bcc-a9cf-e11e5dc02cd0",
   "metadata": {},
   "outputs": [],
   "source": [
    "[exc for exc in dumb.exchanges()]"
   ]
  },
  {
   "cell_type": "code",
   "execution_count": null,
   "id": "dca2432c-db5b-4db3-b8d3-4848bbf8188a",
   "metadata": {},
   "outputs": [],
   "source": []
  },
  {
   "cell_type": "code",
   "execution_count": null,
   "id": "606d39bd-0bd1-49fa-8ea1-7a971e770ba8",
   "metadata": {},
   "outputs": [],
   "source": [
    "for exc in processes:\n",
    "    processes[exc].exchanges()\n",
    "    "
   ]
  },
  {
   "cell_type": "code",
   "execution_count": null,
   "id": "fb6387e7-6d42-4805-9c73-a123d5e49bba",
   "metadata": {},
   "outputs": [],
   "source": []
  },
  {
   "cell_type": "code",
   "execution_count": null,
   "id": "abaf3f6d-8643-4513-aad2-c766b97d3e23",
   "metadata": {},
   "outputs": [],
   "source": []
  },
  {
   "cell_type": "code",
   "execution_count": null,
   "id": "d8bac119-1444-4e5a-b7d8-583c80e51bee",
   "metadata": {},
   "outputs": [],
   "source": []
  },
  {
   "cell_type": "code",
   "execution_count": null,
   "id": "69fbd25f-c1c9-4d9c-a3dc-12d899e90335",
   "metadata": {},
   "outputs": [],
   "source": []
  },
  {
   "cell_type": "code",
   "execution_count": null,
   "id": "e730a69c-fd4b-4a87-a03f-f45d9630494c",
   "metadata": {},
   "outputs": [],
   "source": []
  }
 ],
 "metadata": {
  "kernelspec": {
   "display_name": "bw2_json",
   "language": "python",
   "name": "bw2_json"
  },
  "language_info": {
   "codemirror_mode": {
    "name": "ipython",
    "version": 3
   },
   "file_extension": ".py",
   "mimetype": "text/x-python",
   "name": "python",
   "nbconvert_exporter": "python",
   "pygments_lexer": "ipython3",
   "version": "3.10.4"
  }
 },
 "nbformat": 4,
 "nbformat_minor": 5
}

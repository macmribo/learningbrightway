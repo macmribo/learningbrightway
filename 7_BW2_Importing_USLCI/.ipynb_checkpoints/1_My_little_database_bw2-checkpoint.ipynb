{
 "cells": [
  {
   "cell_type": "code",
   "execution_count": 1,
   "id": "52493a07-1f84-4d3e-aed1-21ed29fb0fbe",
   "metadata": {},
   "outputs": [],
   "source": [
    "import brightway2 as bw\n",
    "# import bw2data as bd\n",
    "# import bw2calc as bc\n",
    "# import bw2io as bi\n",
    "# import bw_processing\n",
    "# import bw_migrations\n",
    "\n",
    "import os\n",
    "import numpy as np\n",
    "import pandas as pd"
   ]
  },
  {
   "cell_type": "markdown",
   "id": "4e3cb144-5898-4e69-8514-1a650538837e",
   "metadata": {},
   "source": [
    "I am going to create the 'My little database' in brightway.\n",
    "LCI schema:\n",
    "```\n",
    "{\n",
    "    Optional(\"categories\"): Any(list, tuple),\n",
    "    Optional(\"location\"): object,\n",
    "    Optional(\"unit\"): basestring,\n",
    "    Optional(\"name\"): basestring,\n",
    "    Optional(\"type\"): basestring,\n",
    "    Optional(\"exchanges\"): [exchange]\n",
    "}\n",
    "```\n",
    "Where an exchange is:\n",
    "```\n",
    "{\n",
    "    Required(\"input\"): valid_tuple,\n",
    "    Required(\"type\"): basestring,\n",
    "    Required(\"amount\"): Any(float, int),\n",
    "    Optional(\"uncertainty type\"): int,\n",
    "    Optional(\"loc\"): Any(float, int),\n",
    "    Optional(\"scale\"): Any(float, int),\n",
    "    Optional(\"shape\"): Any(float, int),\n",
    "    Optional(\"minimum\"): Any(float, int),\n",
    "    Optional(\"maximum\"): Any(float, int)\n",
    "}\n",
    "```\n"
   ]
  },
  {
   "cell_type": "code",
   "execution_count": 2,
   "id": "10ecb1e5-856d-4cc1-aa9e-fe9908f95b3a",
   "metadata": {},
   "outputs": [],
   "source": [
    "bw.projects.set_current('MLD_in_bw_2')"
   ]
  },
  {
   "cell_type": "code",
   "execution_count": 3,
   "id": "0239a404-4be0-4f33-97b7-f42f0c8e70c4",
   "metadata": {},
   "outputs": [],
   "source": [
    "db = bw.Database('My_little_database')"
   ]
  },
  {
   "cell_type": "code",
   "execution_count": 4,
   "id": "96afb977-935c-47fb-b4f9-6604294847f5",
   "metadata": {},
   "outputs": [
    {
     "data": {
      "text/plain": [
       "Brightway2 SQLiteBackend: My_little_database"
      ]
     },
     "execution_count": 4,
     "metadata": {},
     "output_type": "execute_result"
    }
   ],
   "source": [
    "db"
   ]
  },
  {
   "cell_type": "markdown",
   "id": "d4d917ff-d05b-4a46-9835-cd20bc66c3be",
   "metadata": {},
   "source": [
    "Remember: Processes and flows are both considered \"activities\" in Brightway2, the difference is that flows wont have exchanges.\n",
    "\n",
    "Notes:\n",
    "* Activities always need a name, in a tuple `(database_json_import_name, filename_processes)`, let's see if I use the file .json file name.                      \n",
    "*  Category names are inside 'category' under the 'name' item, it is in a list form because you can add sub categories.\n",
    "* `'location': 'Djibouti'` locates the location using the whole country name, I will have to check, do I need the country code so everything has the same way of referring to countries? I think I need to call it DJ\n",
    "* The `'name'` item is the same as in the JSON-LD.\n",
    "*  In JSON-LD, `'units'` are not included here, they are included in the flows, I think this unit is the unit of the reference flow or 'quantitativeReference'\n",
    "* Exchanges - They always have to have 'input', 'amount' and 'type' minimum, you know outputs based on the sign, check out bw sign convention https://2.docs.brightway.dev/intro.html#getting-the-signs-right, I also need to see how to specify the reference flow"
   ]
  },
  {
   "cell_type": "code",
   "execution_count": 5,
   "id": "38323660-743e-4611-b544-9db7371750c4",
   "metadata": {},
   "outputs": [
    {
     "name": "stderr",
     "output_type": "stream",
     "text": [
      "Writing activities to SQLite3 database:\n",
      "0% [#########] 100% | ETA: 00:00:00\n",
      "Total time elapsed: 00:00:00\n"
     ]
    },
    {
     "name": "stdout",
     "output_type": "stream",
     "text": [
      "Title: Writing activities to SQLite3 database:\n",
      "  Started: 09/19/2022 12:30:54\n",
      "  Finished: 09/19/2022 12:30:54\n",
      "  Total time elapsed: 00:00:00\n",
      "  CPU %: 2.60\n",
      "  Memory %: 0.53\n"
     ]
    }
   ],
   "source": [
    "db.write({\n",
    "    # PROCESSES # They always need a name, in a tuple (database_json_import_name, filename_processes), let's see if I use the file .json file name                            \n",
    "    ('My_little_database', '2fc6deea-6437-4b9f-bf91-89bca44d30f0'): {  \n",
    "        'category': ['Manufacturers'],  # JSON-LD --> category, category names are insidide 'category' under the 'name' item, it is in a list form because you can add sub categories.\n",
    "        'location': 'GLO', # This is how JSON calls it, I will have to check, do I need the country code so averything has the same way of referring to countries? I think I need to call it DJ\n",
    "        'name': 'Plastic manufacturer',    #JSON-LD --> name                                          # Characteristic 1\n",
    "        'code': '2fc6deea-6437-4b9f-bf91-89bca44d30f0', #JSON-LD --> @id\n",
    " #       'type': 'process',\n",
    "        'unit': 'kg',      # In JSON-LD, units are not included here, they are included in the flows, I think this unit is the unit of the reference flow or 'quantitativeReference'\n",
    "        'exchanges': [{    # Exchanges - They always have to have 'input', 'amount' and 'type' minimum, you know outputs based on the sign, check out bw sign convention https://2.docs.brightway.dev/intro.html#getting-the-signs-right, the reference flow is especified as 'production'\n",
    "            'input': ('My_little_database', '62714200-1a0d-43fb-9b48-99df3f233c94'), # Input 1 -> Activity 2 same tuple as the activity, that's how they are linked\n",
    "            'amount': 1,   # Positive amount in technosphere indicates 'output'                                           \n",
    "            'name': 'Plastic', #name is not part of the bw schema, let's see if it breaks the code or not\n",
    "            'type': 'production', # This one is converted to 'production' by mapping 'technosphere' with flowType: 'PRODUCT_FLOW',                                \n",
    "        }, {\n",
    "            'input': ('My_little_database', 'cd154d8f-0694-43b2-b4ab-e44101e122bd'),                         \n",
    "            'amount': 2, # Emissions are positive, and negative emissions will be removing the emission from biosphere (e.g. carbon capture technologies, https://github.com/brightway-lca/brightway2/blob/master/notebooks/Negative%20Biosphere%20flows%20and%20CFs.ipynb)\n",
    "            'name': 'Bad stuff',\n",
    "            'type': 'biosphere', \n",
    "        }, {\n",
    "            'input': ('My_little_database', '8849be54-1b13-4d7e-85f6-2297817333f2'),                                \n",
    "            'amount': -1, # Negative because it is a resource, we 'steal' from earth\n",
    "            'name': 'Crude oil',\n",
    "            'type': 'biosphere',\n",
    "        }]\n",
    "    },\n",
    "    ('My_little_database', '7e5ec332-09fd-4706-8373-3f140a539028'): {  \n",
    "        'category': ['Manufacturers'],  \n",
    "        'location': 'GLO', \n",
    "        'name': 'Stainless steel manufacturer',    \n",
    "        'code': '7e5ec332-09fd-4706-8373-3f140a539028',\n",
    "  #      'type': 'process',\n",
    "        'unit': 'kg',      \n",
    "        'exchanges': [{    \n",
    "            'input': ('My_little_database', '3355a1b9-8fbf-40de-b449-ea6399a8a323'), \n",
    "            'amount': 1,\n",
    "            'name': 'Stainless steel',\n",
    "            'type': 'production', \n",
    "        }, {\n",
    "            'input': ('My_little_database', '7528830a-7344-43be-b484-ac4dc625f272'),                         \n",
    "            'amount': -1,\n",
    "            'name': 'Virgin metals',\n",
    "            'type': 'biosphere',\n",
    "        }, {\n",
    "            'input': ('My_little_database', 'cd154d8f-0694-43b2-b4ab-e44101e122bd'),                                \n",
    "            'amount': 3,\n",
    "            'name': 'Bad stuff',\n",
    "            'type': 'biosphere',\n",
    "        }]\n",
    "    },\n",
    "    ('My_little_database', 'fae6799b-7326-452c-92b3-76758bbcac22'): {  \n",
    "        'category': ['Assemblers'],  \n",
    "        'location': 'GLO', \n",
    "        'name': 'Bottle assembly',    \n",
    "        'code': 'fae6799b-7326-452c-92b3-76758bbcac22',\n",
    "   #     'type': 'process',\n",
    "        'unit': 'number_of_items',      \n",
    "        'exchanges': [{    \n",
    "            'input': ('My_little_database', 'b806c2cd-d563-43c4-a0c9-9c7dd5d513d3'), \n",
    "            'amount': 1,\n",
    "            'name': 'Bottle',\n",
    "            'type': 'production', \n",
    "        }, {\n",
    "            'input': ('My_little_database', '62714200-1a0d-43fb-9b48-99df3f233c94'),                         \n",
    "            'amount': 0.25,\n",
    "            'name': 'Plastic',\n",
    "            'type': 'technosphere',\n",
    "        }, {\n",
    "            'input': ('My_little_database', '3355a1b9-8fbf-40de-b449-ea6399a8a323'),                                \n",
    "            'amount': 0.3,\n",
    "            'name': 'Stainless steel',\n",
    "            'type': 'technosphere',\n",
    "        }, {\n",
    "            'input': ('My_little_database', 'cd154d8f-0694-43b2-b4ab-e44101e122bd'),                                \n",
    "            'amount': 0.1,\n",
    "            'name': 'Bad stuff',\n",
    "            'type': 'biosphere',\n",
    "        }]\n",
    "    },\n",
    "    # EXCHANGES #Since these are flows, they don't have exchanges.\n",
    "    ('My_little_database', '62714200-1a0d-43fb-9b48-99df3f233c94'): { \n",
    "        'category': ['Technosphere flows', 'Manufacturers'], # To draw these names, I have to map them to categoryPath: 0: 'Technosphere flows', 1: 'Manufacturers'\n",
    "        'code': '62714200-1a0d-43fb-9b48-99df3f233c94', \n",
    "        'name': 'Plastic',\n",
    "        'type': 'product',\n",
    "        'location': 'GLO', # I added this one, let's see how it behaves, consider eother changing this for full name or leaving country code as default            \n",
    "        'unit': 'kg'},\n",
    "    ('My_little_database', '3355a1b9-8fbf-40de-b449-ea6399a8a323'): {\n",
    "        'category': ['Technosphere flows', 'Manufacturers'], \n",
    "        'name': 'Stainless steel',\n",
    "        'type': 'product',\n",
    "        'location': 'GLO',\n",
    "        'unit': 'kg'},    \n",
    "    ('My_little_database', 'b806c2cd-d563-43c4-a0c9-9c7dd5d513d3'): {\n",
    "        'category': ['Technosphere flows', 'Assemblers'],\n",
    "        'name': 'Bottle',\n",
    "        'type': 'product',\n",
    "        'location': 'GLO',\n",
    "        'unit': 'number_of_items'}, \n",
    "    ('My_little_database', '7528830a-7344-43be-b484-ac4dc625f272'): {\n",
    "        'category': ['Elementary flows', 'resources'],\n",
    "        'name': 'Virgin metals',\n",
    "        'type': 'biosphere',\n",
    "        'location': 'GLO',\n",
    "        'unit': 'kg'},          \n",
    "    ('My_little_database', '8849be54-1b13-4d7e-85f6-2297817333f2'): {\n",
    "        'category': ['Elementary flows', 'resources'],\n",
    "        'name': 'Crude oil',\n",
    "        'type': 'biosphere',\n",
    "        'location': 'GLO',\n",
    "        'unit': 'kg'}, \n",
    "    ('My_little_database', 'cd154d8f-0694-43b2-b4ab-e44101e122bd'): {\n",
    "        'category': ['Elementary flows', 'emissions'], \n",
    "        'name': 'Bad stuff',\n",
    "        'type': 'biosphere',\n",
    "        'location': 'GLO',\n",
    "        'unit': 'kg'}, \n",
    "})"
   ]
  },
  {
   "cell_type": "markdown",
   "id": "4722cd68-62b3-4b8a-9774-c256ecb18576",
   "metadata": {},
   "source": [
    "Let's define the functional unit: We want to know how much GWP does the assembly of 5 bottles produce.First we start by searching the unit process of interest `Bottle prodcution`:"
   ]
  },
  {
   "cell_type": "code",
   "execution_count": 6,
   "id": "c9366508-770c-4929-a49c-bc79862ca671",
   "metadata": {},
   "outputs": [
    {
     "data": {
      "text/plain": [
       "'Bottle' (number_of_items, GLO, None)"
      ]
     },
     "execution_count": 6,
     "metadata": {},
     "output_type": "execute_result"
    }
   ],
   "source": [
    "bottellita = db.search('Bottle')[0]\n",
    "bottellita"
   ]
  },
  {
   "cell_type": "code",
   "execution_count": 7,
   "id": "2720b155-a7b9-4c16-9313-784c02fd32f3",
   "metadata": {},
   "outputs": [],
   "source": [
    "functional_unit = {db.search('Bottle')[0] : 5.0}"
   ]
  },
  {
   "cell_type": "markdown",
   "id": "a0cffffe-d6e7-4e70-a50e-9207f5d3411d",
   "metadata": {},
   "source": [
    "Let's now try to add some lcia methods... [source](https://2.docs.brightway.dev/intro.html#lcia-method-documents), stackoverflow question about doing a manual input of lcia methods [here](https://stackoverflow.com/questions/41466234/create-very-simple-lcia-method-in-brightway2)."
   ]
  },
  {
   "cell_type": "code",
   "execution_count": 8,
   "id": "2e952ff9-1ddb-446a-8f5e-cc2ba5e0548d",
   "metadata": {},
   "outputs": [],
   "source": [
    "myLCIAdata = [[(u'My_little_database', u'cd154d8f-0694-43b2-b4ab-e44101e122bd'), 2, u'GLO']] # A method list needs: a reference to the flow: tuple (database, 'code')), a characterization factor number, and localization (if no localization is given, 'GLO' is used)\n",
    "method_key = ('MacIM', 'Global warming', 'total')\n",
    "my_method = bw.Method(method_key)\n",
    "my_method.validate(myLCIAdata)\n",
    "my_metadata = {\"unit\": \"kg CO2 eq\"}\n",
    "my_method.register(**my_metadata)\n",
    "my_method.write(myLCIAdata)"
   ]
  },
  {
   "cell_type": "code",
   "execution_count": 9,
   "id": "3d3226f4-3ecb-43c4-bb83-b9aec8640afc",
   "metadata": {},
   "outputs": [
    {
     "data": {
      "text/plain": [
       "{'unit': 'kg CO2 eq',\n",
       " 'abbreviation': 'macimgt.60470f6408ded879d3e7ee1484fca3e5',\n",
       " 'num_cfs': 1}"
      ]
     },
     "execution_count": 9,
     "metadata": {},
     "output_type": "execute_result"
    }
   ],
   "source": [
    "my_method.metadata"
   ]
  },
  {
   "cell_type": "markdown",
   "id": "f6b04ee5-a916-40f6-8e86-304027918649",
   "metadata": {},
   "source": [
    "Now we are ready to run the LCA!\n"
   ]
  },
  {
   "cell_type": "code",
   "execution_count": 10,
   "id": "d8e599e3-e97f-4ade-92e9-978618a10e76",
   "metadata": {},
   "outputs": [
    {
     "name": "stdout",
     "output_type": "stream",
     "text": [
      "  (0, 1)\t-1.5000000596046448\n",
      "  (1, 0)\t-1.25\n",
      "  (2, 2)\t0.5000000074505806\n",
      "  (2, 1)\t4.500000178813934\n",
      "  (2, 0)\t2.5\n"
     ]
    }
   ],
   "source": [
    "lca = bw.LCA(functional_unit, method_key) #run LCA calculations again with method\n",
    "lca.lci() # If it is not square, it fails here. Here it fails because Plastic and aluminium are in kg and bottle is is units. It is important to fix this because we won't always have square matrices or same units.\n",
    "lca.lcia()\n",
    "lca.score\n",
    "print(lca.inventory)\n"
   ]
  },
  {
   "cell_type": "code",
   "execution_count": 11,
   "id": "6a4000c9-6dc7-4203-8840-99fa2163a37e",
   "metadata": {},
   "outputs": [
    {
     "data": {
      "text/plain": [
       "15.00000037252903"
      ]
     },
     "execution_count": 11,
     "metadata": {},
     "output_type": "execute_result"
    }
   ],
   "source": [
    "lca.score # If I add location, it braks the scores and it shows 0.0"
   ]
  },
  {
   "cell_type": "markdown",
   "id": "7ee13f77-595a-4c50-8477-2b79d1889123",
   "metadata": {},
   "source": []
  },
  {
   "cell_type": "code",
   "execution_count": null,
   "id": "a00abccf-bcad-4a5b-b3f9-7127d7485dbe",
   "metadata": {},
   "outputs": [],
   "source": []
  },
  {
   "cell_type": "markdown",
   "id": "6b7cdd3e-4191-4422-a1b6-2d9c25b9f99b",
   "metadata": {},
   "source": [
    "Questions:\n",
    "\n",
    "* Figure out how it maps country codes. WCheckout the geocollection dictionary.\n",
    "\n"
   ]
  },
  {
   "cell_type": "code",
   "execution_count": null,
   "id": "3ff96af2-565b-4923-ac4e-812d982439e0",
   "metadata": {},
   "outputs": [],
   "source": []
  }
 ],
 "metadata": {
  "kernelspec": {
   "display_name": "bw2",
   "language": "python",
   "name": "bw2"
  },
  "language_info": {
   "codemirror_mode": {
    "name": "ipython",
    "version": 3
   },
   "file_extension": ".py",
   "mimetype": "text/x-python",
   "name": "python",
   "nbconvert_exporter": "python",
   "pygments_lexer": "ipython3",
   "version": "3.9.12"
  }
 },
 "nbformat": 4,
 "nbformat_minor": 5
}

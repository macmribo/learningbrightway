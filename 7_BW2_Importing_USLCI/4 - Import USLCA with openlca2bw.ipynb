{
 "cells": [
  {
   "cell_type": "code",
   "execution_count": 1,
   "id": "9035c37b",
   "metadata": {},
   "outputs": [],
   "source": [
    "import openlca2bw as olca2bw\n",
    "import brightway2 as bw\n",
    "\n",
    "Zip_path = r'C:\\Users\\sayala\\Documents\\GitHub\\Brightways\\learningbrightway\\7_BW2_Importing_USLCI\\databases\\FY22_Q2_01_Zolca_LCIA_methods_mapping_FEDEFL_3'"
   ]
  },
  {
   "cell_type": "code",
   "execution_count": 2,
   "id": "4506befb",
   "metadata": {},
   "outputs": [
    {
     "name": "stderr",
     "output_type": "stream",
     "text": [
      "Extracting json files from folder:\n"
     ]
    },
    {
     "name": "stdout",
     "output_type": "stream",
     "text": [
      "Project USLCI created on brightway environment\n",
      "\n",
      "Extraction and  pre-treatment of json zip folder\n",
      "\n"
     ]
    },
    {
     "name": "stderr",
     "output_type": "stream",
     "text": [
      "0% [########] 100% | ETA: 00:00:00 | Item ID: processes      \n",
      "Total time elapsed: 00:00:01\n"
     ]
    },
    {
     "name": "stdout",
     "output_type": "stream",
     "text": [
      "Title: Extracting json files from folder:\n",
      "  Started: 09/28/2022 15:35:21\n",
      "  Finished: 09/28/2022 15:35:23\n",
      "  Total time elapsed: 00:00:01\n"
     ]
    },
    {
     "name": "stderr",
     "output_type": "stream",
     "text": [
      "Extracting 2879 flows from OpenLCA:\n"
     ]
    },
    {
     "name": "stdout",
     "output_type": "stream",
     "text": [
      "\n",
      "Creating OpenLCA biosphere\n",
      "\n"
     ]
    },
    {
     "name": "stderr",
     "output_type": "stream",
     "text": [
      "0% [##############################] 100% | ETA: 00:00:00\n",
      "Total time elapsed: 00:00:00\n",
      "Writing activities to SQLite3 database:\n"
     ]
    },
    {
     "name": "stdout",
     "output_type": "stream",
     "text": [
      "Title: Extracting 2879 flows from OpenLCA:\n",
      "  Started: 09/28/2022 15:35:24\n",
      "  Finished: 09/28/2022 15:35:24\n",
      "  Total time elapsed: 00:00:00\n",
      "Applying strategy: normalize_units\n",
      "Applying strategy: drop_unspecified_subcategories\n",
      "Applied 2 strategies in 0.01 seconds\n"
     ]
    },
    {
     "name": "stderr",
     "output_type": "stream",
     "text": [
      "0% [##############################] 100% | ETA: 00:00:00\n",
      "Total time elapsed: 00:00:00\n"
     ]
    },
    {
     "name": "stdout",
     "output_type": "stream",
     "text": [
      "Title: Writing activities to SQLite3 database:\n",
      "  Started: 09/28/2022 15:35:24\n",
      "  Finished: 09/28/2022 15:35:24\n",
      "  Total time elapsed: 00:00:00\n",
      "  CPU %: 83.40\n",
      "  Memory %: 1.21\n"
     ]
    },
    {
     "name": "stderr",
     "output_type": "stream",
     "text": [
      "Extracting 2 LCIA methods from OpenLCA:\n"
     ]
    },
    {
     "name": "stdout",
     "output_type": "stream",
     "text": [
      "Created database: biosphere3\n",
      "\n",
      "Creating OpenLCA LCIA methods\n",
      "\n"
     ]
    },
    {
     "name": "stderr",
     "output_type": "stream",
     "text": [
      "0% [##] 100% | ETA: 00:00:00 | Item ID: ReCiPe 2016 - Midpoint/H      \n",
      "Total time elapsed: 00:00:00\n"
     ]
    },
    {
     "name": "stdout",
     "output_type": "stream",
     "text": [
      "Title: Extracting 2 LCIA methods from OpenLCA:\n",
      "  Started: 09/28/2022 15:35:34\n",
      "  Finished: 09/28/2022 15:35:34\n",
      "  Total time elapsed: 00:00:00\n"
     ]
    },
    {
     "name": "stderr",
     "output_type": "stream",
     "text": [
      "Treatment of openlca processes, 454 processes extracted from OpenLCA to EcoInvent database\n"
     ]
    },
    {
     "name": "stdout",
     "output_type": "stream",
     "text": [
      "\n",
      "Importing processes from OpenLCA \n",
      "\n"
     ]
    },
    {
     "name": "stderr",
     "output_type": "stream",
     "text": [
      "0% [##############################] 100% | ETA: 00:00:00 | Item ID: 454\n",
      "Total time elapsed: 00:00:00\n",
      "Writing activities to SQLite3 database:\n"
     ]
    },
    {
     "name": "stdout",
     "output_type": "stream",
     "text": [
      "Title: Treatment of openlca processes, 454 processes extracted from OpenLCA to EcoInvent database\n",
      "  Started: 09/28/2022 15:35:35\n",
      "  Finished: 09/28/2022 15:35:35\n",
      "  Total time elapsed: 00:00:00\n"
     ]
    },
    {
     "name": "stderr",
     "output_type": "stream",
     "text": [
      "0% [##############################] 100% | ETA: 00:00:00\n",
      "Total time elapsed: 00:00:02\n"
     ]
    },
    {
     "name": "stdout",
     "output_type": "stream",
     "text": [
      "Title: Writing activities to SQLite3 database:\n",
      "  Started: 09/28/2022 15:35:35\n",
      "  Finished: 09/28/2022 15:35:38\n",
      "  Total time elapsed: 00:00:02\n",
      "  CPU %: 78.50\n",
      "  Memory %: 1.30\n",
      "Research of 3753 not defined providers\n",
      "\n",
      "2847 exchanges deleted due to no provider or to many providers available\n",
      "\n",
      "Units checking for activities exchanges\n",
      "\n",
      "0 exchanges modified to match units\n",
      "\n",
      "Importing parameters from OpenLCA\n",
      "\n"
     ]
    }
   ],
   "source": [
    "olca2bw.load_openLCA_Json(path_zip=Zip_path,\n",
    "                          project_name='USLCI',\n",
    "                        #  user_databases={\"DB1\":'Process'},\n",
    "                          overwrite = True)"
   ]
  },
  {
   "cell_type": "code",
   "execution_count": 3,
   "id": "54dc7a8a",
   "metadata": {},
   "outputs": [
    {
     "data": {
      "text/plain": [
       "Databases dictionary with 2 object(s):\n",
       "\tEcoInvent\n",
       "\tbiosphere3"
      ]
     },
     "execution_count": 3,
     "metadata": {},
     "output_type": "execute_result"
    }
   ],
   "source": [
    "bw.databases"
   ]
  },
  {
   "cell_type": "markdown",
   "id": "f51d2f60",
   "metadata": {},
   "source": [
    "### Processes get loaded into the pre-named database \"EcoInvent\" (change name inside of package)\n",
    "### Elements get loaded into the biosphere. Process flows are not loaded. "
   ]
  },
  {
   "cell_type": "code",
   "execution_count": 6,
   "id": "9a3954da",
   "metadata": {},
   "outputs": [
    {
     "data": {
      "text/plain": [
       "2879"
      ]
     },
     "execution_count": 6,
     "metadata": {},
     "output_type": "execute_result"
    }
   ],
   "source": [
    "bio = bw.Database(\"biosphere3\")\n",
    "len(bio)"
   ]
  },
  {
   "cell_type": "code",
   "execution_count": 7,
   "id": "6352a269",
   "metadata": {},
   "outputs": [],
   "source": [
    "db = bw.Database(\"EcoInvent\")"
   ]
  },
  {
   "cell_type": "code",
   "execution_count": 8,
   "id": "86c1d477",
   "metadata": {},
   "outputs": [
    {
     "data": {
      "text/plain": [
       "454"
      ]
     },
     "execution_count": 8,
     "metadata": {},
     "output_type": "execute_result"
    }
   ],
   "source": [
    "len(db)"
   ]
  },
  {
   "cell_type": "code",
   "execution_count": 15,
   "id": "9b98afb6",
   "metadata": {},
   "outputs": [
    {
     "data": {
      "text/plain": [
       "'Transport, light commercial truck, gasoline powered, Hawaii' (ton kilometer, RNA, None)"
      ]
     },
     "execution_count": 15,
     "metadata": {},
     "output_type": "execute_result"
    }
   ],
   "source": [
    "randomAct = db.random()\n",
    "randomAct"
   ]
  },
  {
   "cell_type": "code",
   "execution_count": 16,
   "id": "09800d09",
   "metadata": {},
   "outputs": [
    {
     "data": {
      "text/plain": [
       "('ReCiPe 2016 - Midpoint/H', 'Stratospheric ozone depletion')"
      ]
     },
     "execution_count": 16,
     "metadata": {},
     "output_type": "execute_result"
    }
   ],
   "source": [
    "randomMethod = bw.methods.random()\n",
    "randomMethod"
   ]
  },
  {
   "cell_type": "code",
   "execution_count": 17,
   "id": "541f7254",
   "metadata": {},
   "outputs": [],
   "source": [
    "myFirstLCA_quick = bw.LCA({randomAct:1}, randomMethod)\n"
   ]
  },
  {
   "cell_type": "code",
   "execution_count": 18,
   "id": "0adb6dcd",
   "metadata": {},
   "outputs": [
    {
     "name": "stdout",
     "output_type": "stream",
     "text": [
      "4.5010827310434015e-07\n"
     ]
    }
   ],
   "source": [
    "myFirstLCA_quick.lci()    # Builds matrices, solves the system, generates an LCI matrix.\n",
    "myFirstLCA_quick.lcia()   # Characterization, i.e. the multiplication of the elements \n",
    "                          # of the LCI matrix with characterization factors from the chosen method\n",
    "print(myFirstLCA_quick.score)    # Returns the score, i.e. the sum of the characterized inventory"
   ]
  }
 ],
 "metadata": {
  "kernelspec": {
   "display_name": "bw2default",
   "language": "python",
   "name": "bw2default"
  },
  "language_info": {
   "codemirror_mode": {
    "name": "ipython",
    "version": 3
   },
   "file_extension": ".py",
   "mimetype": "text/x-python",
   "name": "python",
   "nbconvert_exporter": "python",
   "pygments_lexer": "ipython3",
   "version": "3.9.5"
  }
 },
 "nbformat": 4,
 "nbformat_minor": 5
}
